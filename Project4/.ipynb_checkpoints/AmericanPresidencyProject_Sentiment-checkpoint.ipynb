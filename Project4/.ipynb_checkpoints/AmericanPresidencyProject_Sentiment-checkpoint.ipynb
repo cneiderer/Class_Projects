{
 "cells": [
  {
   "cell_type": "code",
   "execution_count": 23,
   "metadata": {
    "collapsed": true
   },
   "outputs": [],
   "source": [
    "import pandas as pd\n",
    "import numpy as np\n",
    "import matplotlib.pyplot as plt\n",
    "from matplotlib.colors import LinearSegmentedColormap\n",
    "import seaborn as sns\n",
    "\n",
    "import re\n",
    "from tqdm import tqdm\n",
    "from tqdm import tnrange\n",
    "from tqdm import tqdm_notebook\n",
    "from wordcloud import WordCloud\n",
    "\n",
    "import nltk\n",
    "from sklearn.feature_extraction.text import TfidfVectorizer\n",
    "from sklearn.decomposition import LatentDirichletAllocation\n",
    "from sklearn.decomposition import NMF\n",
    "from sklearn.feature_extraction import stop_words as sklearn_stopwords\n",
    "from sklearn.decomposition import TruncatedSVD\n",
    "from sklearn.cluster import KMeans\n",
    "from sklearn.cluster import AgglomerativeClustering\n",
    "from sklearn.cluster import DBSCAN\n",
    "from sklearn.metrics import silhouette_score\n",
    "from sklearn.manifold import TSNE\n",
    "\n",
    "from gensim import corpora\n",
    "from gensim import models\n",
    "from gensim import similarities\n",
    "from gensim import matutils\n",
    "from gensim.parsing.preprocessing import STOPWORDS as gensim_stopwords\n",
    "\n",
    "from nltk.sentiment.vader import SentimentIntensityAnalyzer\n",
    "from nltk.corpus import stopwords as nltk_stopwords\n",
    "from nltk.tokenize import sent_tokenize\n",
    "from nltk.tokenize import word_tokenize\n",
    "from nltk.stem.porter import PorterStemmer\n",
    "\n",
    "import textblob\n",
    "\n",
    "import pickle\n",
    "from pymongo import MongoClient\n",
    "from bson import json_util"
   ]
  },
  {
   "cell_type": "code",
   "execution_count": 2,
   "metadata": {
    "collapsed": true
   },
   "outputs": [],
   "source": [
    "%matplotlib inline\n",
    "\n",
    "# custom_style = {'axes.labelcolor': 'white',\n",
    "#                 'xtick.color': 'white',\n",
    "#                 'ytick.color': 'white'}\n",
    "# sns.set_style(\"darkgrid\", rc=custom_style)"
   ]
  },
  {
   "cell_type": "markdown",
   "metadata": {},
   "source": [
    "### Presidents List"
   ]
  },
  {
   "cell_type": "code",
   "execution_count": 3,
   "metadata": {
    "collapsed": true
   },
   "outputs": [],
   "source": [
    "pres_list = pd.read_csv('https://gist.githubusercontent.com/namuol/2657233/raw/74135b2637e624848c163759be9cd14ae33f5153/presidents.csv')"
   ]
  },
  {
   "cell_type": "markdown",
   "metadata": {},
   "source": [
    "### JSON-Pandas Stuff"
   ]
  },
  {
   "cell_type": "code",
   "execution_count": 4,
   "metadata": {
    "collapsed": true
   },
   "outputs": [],
   "source": [
    "json_file = '/home/cneiderer/Downloads/presidency.json'"
   ]
  },
  {
   "cell_type": "code",
   "execution_count": 5,
   "metadata": {
    "collapsed": true
   },
   "outputs": [],
   "source": [
    "# Load presidential json data into df\n",
    "pres_df = pd.read_json(json_file)\n",
    "# Convert from wide to long format\n",
    "pres_df = pres_df.T\n",
    "# Subset data on oral and written speeches\n",
    "pres_df = pres_df[['Oral', 'Written']]"
   ]
  },
  {
   "cell_type": "code",
   "execution_count": 6,
   "metadata": {},
   "outputs": [
    {
     "data": {
      "application/vnd.jupyter.widget-view+json": {
       "model_id": "ea68a551a10f47a3bc39f8d4e06334d4",
       "version_major": 2,
       "version_minor": 0
      },
      "text/plain": [
       "A Jupyter Widget"
      ]
     },
     "metadata": {},
     "output_type": "display_data"
    },
    {
     "data": {
      "application/vnd.jupyter.widget-view+json": {
       "model_id": "29878081918645b087fb0f8a71d7df3b",
       "version_major": 2,
       "version_minor": 0
      },
      "text/plain": [
       "A Jupyter Widget"
      ]
     },
     "metadata": {},
     "output_type": "display_data"
    },
    {
     "data": {
      "application/vnd.jupyter.widget-view+json": {
       "model_id": "58ca25506e994444a95a6f49250bde08",
       "version_major": 2,
       "version_minor": 0
      },
      "text/plain": [
       "A Jupyter Widget"
      ]
     },
     "metadata": {},
     "output_type": "display_data"
    },
    {
     "data": {
      "application/vnd.jupyter.widget-view+json": {
       "model_id": "399393957f884257b87777d62a7ee29d",
       "version_major": 2,
       "version_minor": 0
      },
      "text/plain": [
       "A Jupyter Widget"
      ]
     },
     "metadata": {},
     "output_type": "display_data"
    },
    {
     "data": {
      "application/vnd.jupyter.widget-view+json": {
       "model_id": "1596e0f298f94e6097d96a744b128f9a",
       "version_major": 2,
       "version_minor": 0
      },
      "text/plain": [
       "A Jupyter Widget"
      ]
     },
     "metadata": {},
     "output_type": "display_data"
    },
    {
     "data": {
      "application/vnd.jupyter.widget-view+json": {
       "model_id": "9ecdc47f693e487399026dedd2ff0c37",
       "version_major": 2,
       "version_minor": 0
      },
      "text/plain": [
       "A Jupyter Widget"
      ]
     },
     "metadata": {},
     "output_type": "display_data"
    },
    {
     "data": {
      "application/vnd.jupyter.widget-view+json": {
       "model_id": "58bfcba30769488b8a170eadfc041d78",
       "version_major": 2,
       "version_minor": 0
      },
      "text/plain": [
       "A Jupyter Widget"
      ]
     },
     "metadata": {},
     "output_type": "display_data"
    },
    {
     "data": {
      "application/vnd.jupyter.widget-view+json": {
       "model_id": "0dff386b226e47999d4ef25cb52981ad",
       "version_major": 2,
       "version_minor": 0
      },
      "text/plain": [
       "A Jupyter Widget"
      ]
     },
     "metadata": {},
     "output_type": "display_data"
    },
    {
     "data": {
      "application/vnd.jupyter.widget-view+json": {
       "model_id": "f1cc4ff1f4a64cb7b3ce6c2461201464",
       "version_major": 2,
       "version_minor": 0
      },
      "text/plain": [
       "A Jupyter Widget"
      ]
     },
     "metadata": {},
     "output_type": "display_data"
    },
    {
     "data": {
      "application/vnd.jupyter.widget-view+json": {
       "model_id": "6d3e07fb68d440cdb08c56f7c440723f",
       "version_major": 2,
       "version_minor": 0
      },
      "text/plain": [
       "A Jupyter Widget"
      ]
     },
     "metadata": {},
     "output_type": "display_data"
    },
    {
     "data": {
      "application/vnd.jupyter.widget-view+json": {
       "model_id": "4950d222d8034cfbbca938fe52c5bfa4",
       "version_major": 2,
       "version_minor": 0
      },
      "text/plain": [
       "A Jupyter Widget"
      ]
     },
     "metadata": {},
     "output_type": "display_data"
    },
    {
     "data": {
      "application/vnd.jupyter.widget-view+json": {
       "model_id": "3c043cd3654a4901ae0b21588ada2a20",
       "version_major": 2,
       "version_minor": 0
      },
      "text/plain": [
       "A Jupyter Widget"
      ]
     },
     "metadata": {},
     "output_type": "display_data"
    },
    {
     "data": {
      "application/vnd.jupyter.widget-view+json": {
       "model_id": "ba9cd11d024842718d2261104786e34e",
       "version_major": 2,
       "version_minor": 0
      },
      "text/plain": [
       "A Jupyter Widget"
      ]
     },
     "metadata": {},
     "output_type": "display_data"
    },
    {
     "data": {
      "application/vnd.jupyter.widget-view+json": {
       "model_id": "5bfe9e55c721426496dc94f8e1bed79e",
       "version_major": 2,
       "version_minor": 0
      },
      "text/plain": [
       "A Jupyter Widget"
      ]
     },
     "metadata": {},
     "output_type": "display_data"
    },
    {
     "data": {
      "application/vnd.jupyter.widget-view+json": {
       "model_id": "6917fb56d41b44578be47d954e3a9b07",
       "version_major": 2,
       "version_minor": 0
      },
      "text/plain": [
       "A Jupyter Widget"
      ]
     },
     "metadata": {},
     "output_type": "display_data"
    },
    {
     "data": {
      "application/vnd.jupyter.widget-view+json": {
       "model_id": "ca234ccdde404399a2d56225900479dd",
       "version_major": 2,
       "version_minor": 0
      },
      "text/plain": [
       "A Jupyter Widget"
      ]
     },
     "metadata": {},
     "output_type": "display_data"
    },
    {
     "data": {
      "application/vnd.jupyter.widget-view+json": {
       "model_id": "0437422526b94a6fa333f5d026dc65a2",
       "version_major": 2,
       "version_minor": 0
      },
      "text/plain": [
       "A Jupyter Widget"
      ]
     },
     "metadata": {},
     "output_type": "display_data"
    },
    {
     "data": {
      "application/vnd.jupyter.widget-view+json": {
       "model_id": "36940cb5baf04e26850393bfc8e587ed",
       "version_major": 2,
       "version_minor": 0
      },
      "text/plain": [
       "A Jupyter Widget"
      ]
     },
     "metadata": {},
     "output_type": "display_data"
    },
    {
     "data": {
      "application/vnd.jupyter.widget-view+json": {
       "model_id": "7091faa44fc74002a5493cdf270591dc",
       "version_major": 2,
       "version_minor": 0
      },
      "text/plain": [
       "A Jupyter Widget"
      ]
     },
     "metadata": {},
     "output_type": "display_data"
    },
    {
     "data": {
      "application/vnd.jupyter.widget-view+json": {
       "model_id": "4961aa27673e463ca4db073402ed87d0",
       "version_major": 2,
       "version_minor": 0
      },
      "text/plain": [
       "A Jupyter Widget"
      ]
     },
     "metadata": {},
     "output_type": "display_data"
    },
    {
     "data": {
      "application/vnd.jupyter.widget-view+json": {
       "model_id": "add6a4d7dbdc4f1ba56f317b52692705",
       "version_major": 2,
       "version_minor": 0
      },
      "text/plain": [
       "A Jupyter Widget"
      ]
     },
     "metadata": {},
     "output_type": "display_data"
    },
    {
     "data": {
      "application/vnd.jupyter.widget-view+json": {
       "model_id": "a3400b4c33e34660ba7c5192cd1de71a",
       "version_major": 2,
       "version_minor": 0
      },
      "text/plain": [
       "A Jupyter Widget"
      ]
     },
     "metadata": {},
     "output_type": "display_data"
    },
    {
     "data": {
      "application/vnd.jupyter.widget-view+json": {
       "model_id": "6c751e31adc643c9a54917d7dc556a4f",
       "version_major": 2,
       "version_minor": 0
      },
      "text/plain": [
       "A Jupyter Widget"
      ]
     },
     "metadata": {},
     "output_type": "display_data"
    },
    {
     "data": {
      "application/vnd.jupyter.widget-view+json": {
       "model_id": "95c793d4f8244d93bc5982763336d717",
       "version_major": 2,
       "version_minor": 0
      },
      "text/plain": [
       "A Jupyter Widget"
      ]
     },
     "metadata": {},
     "output_type": "display_data"
    },
    {
     "data": {
      "application/vnd.jupyter.widget-view+json": {
       "model_id": "44473087cbfc4fc893bb3efa687fa1c8",
       "version_major": 2,
       "version_minor": 0
      },
      "text/plain": [
       "A Jupyter Widget"
      ]
     },
     "metadata": {},
     "output_type": "display_data"
    },
    {
     "data": {
      "application/vnd.jupyter.widget-view+json": {
       "model_id": "c73d46f2e1c54fb995aeb96cf8e1459c",
       "version_major": 2,
       "version_minor": 0
      },
      "text/plain": [
       "A Jupyter Widget"
      ]
     },
     "metadata": {},
     "output_type": "display_data"
    },
    {
     "data": {
      "application/vnd.jupyter.widget-view+json": {
       "model_id": "b227d674b63b4dc38a8c0779d6218c52",
       "version_major": 2,
       "version_minor": 0
      },
      "text/plain": [
       "A Jupyter Widget"
      ]
     },
     "metadata": {},
     "output_type": "display_data"
    },
    {
     "data": {
      "application/vnd.jupyter.widget-view+json": {
       "model_id": "bff6e21e4e6441c9a511f0b706a9136f",
       "version_major": 2,
       "version_minor": 0
      },
      "text/plain": [
       "A Jupyter Widget"
      ]
     },
     "metadata": {},
     "output_type": "display_data"
    },
    {
     "data": {
      "application/vnd.jupyter.widget-view+json": {
       "model_id": "0a0f557e851f4875ad671aeb973d27fe",
       "version_major": 2,
       "version_minor": 0
      },
      "text/plain": [
       "A Jupyter Widget"
      ]
     },
     "metadata": {},
     "output_type": "display_data"
    },
    {
     "data": {
      "application/vnd.jupyter.widget-view+json": {
       "model_id": "5da68ab397d94081b80edaa00ce3ccac",
       "version_major": 2,
       "version_minor": 0
      },
      "text/plain": [
       "A Jupyter Widget"
      ]
     },
     "metadata": {},
     "output_type": "display_data"
    },
    {
     "data": {
      "application/vnd.jupyter.widget-view+json": {
       "model_id": "b62a7bbd2b344b4d81647f5acf7e4f03",
       "version_major": 2,
       "version_minor": 0
      },
      "text/plain": [
       "A Jupyter Widget"
      ]
     },
     "metadata": {},
     "output_type": "display_data"
    },
    {
     "data": {
      "application/vnd.jupyter.widget-view+json": {
       "model_id": "2db7d7a210a64c289aaee78f5da64ddf",
       "version_major": 2,
       "version_minor": 0
      },
      "text/plain": [
       "A Jupyter Widget"
      ]
     },
     "metadata": {},
     "output_type": "display_data"
    },
    {
     "data": {
      "application/vnd.jupyter.widget-view+json": {
       "model_id": "4996f00ad8d54ef9ba3434fd0b3af9ad",
       "version_major": 2,
       "version_minor": 0
      },
      "text/plain": [
       "A Jupyter Widget"
      ]
     },
     "metadata": {},
     "output_type": "display_data"
    },
    {
     "data": {
      "application/vnd.jupyter.widget-view+json": {
       "model_id": "d5508f99b67e4fc6a816f2f3302be712",
       "version_major": 2,
       "version_minor": 0
      },
      "text/plain": [
       "A Jupyter Widget"
      ]
     },
     "metadata": {},
     "output_type": "display_data"
    },
    {
     "data": {
      "application/vnd.jupyter.widget-view+json": {
       "model_id": "599779d1d2ef4e6f8b90ae2ece9a9f70",
       "version_major": 2,
       "version_minor": 0
      },
      "text/plain": [
       "A Jupyter Widget"
      ]
     },
     "metadata": {},
     "output_type": "display_data"
    },
    {
     "data": {
      "application/vnd.jupyter.widget-view+json": {
       "model_id": "f1e804bd0ddb40c699a1c2aaa5e0137b",
       "version_major": 2,
       "version_minor": 0
      },
      "text/plain": [
       "A Jupyter Widget"
      ]
     },
     "metadata": {},
     "output_type": "display_data"
    },
    {
     "data": {
      "application/vnd.jupyter.widget-view+json": {
       "model_id": "f858a354e19044ff897eea4d7b36c4fe",
       "version_major": 2,
       "version_minor": 0
      },
      "text/plain": [
       "A Jupyter Widget"
      ]
     },
     "metadata": {},
     "output_type": "display_data"
    },
    {
     "data": {
      "application/vnd.jupyter.widget-view+json": {
       "model_id": "593416dc54d34864a68d0b1b138ffe3d",
       "version_major": 2,
       "version_minor": 0
      },
      "text/plain": [
       "A Jupyter Widget"
      ]
     },
     "metadata": {},
     "output_type": "display_data"
    },
    {
     "data": {
      "application/vnd.jupyter.widget-view+json": {
       "model_id": "b5fd98d54ea24f898f236e91f1d61207",
       "version_major": 2,
       "version_minor": 0
      },
      "text/plain": [
       "A Jupyter Widget"
      ]
     },
     "metadata": {},
     "output_type": "display_data"
    },
    {
     "data": {
      "application/vnd.jupyter.widget-view+json": {
       "model_id": "2d0fa33e74724f3da076e5bdccf6fa11",
       "version_major": 2,
       "version_minor": 0
      },
      "text/plain": [
       "A Jupyter Widget"
      ]
     },
     "metadata": {},
     "output_type": "display_data"
    },
    {
     "data": {
      "application/vnd.jupyter.widget-view+json": {
       "model_id": "46f95a84179543069a621eced4fac0a8",
       "version_major": 2,
       "version_minor": 0
      },
      "text/plain": [
       "A Jupyter Widget"
      ]
     },
     "metadata": {},
     "output_type": "display_data"
    },
    {
     "data": {
      "application/vnd.jupyter.widget-view+json": {
       "model_id": "67f63878cbd442709e1b0667bda70589",
       "version_major": 2,
       "version_minor": 0
      },
      "text/plain": [
       "A Jupyter Widget"
      ]
     },
     "metadata": {},
     "output_type": "display_data"
    },
    {
     "data": {
      "application/vnd.jupyter.widget-view+json": {
       "model_id": "a4601760034c4a9f988326d5597e5085",
       "version_major": 2,
       "version_minor": 0
      },
      "text/plain": [
       "A Jupyter Widget"
      ]
     },
     "metadata": {},
     "output_type": "display_data"
    },
    {
     "data": {
      "application/vnd.jupyter.widget-view+json": {
       "model_id": "68fcaa49d2d94fde84e2110a3e122650",
       "version_major": 2,
       "version_minor": 0
      },
      "text/plain": [
       "A Jupyter Widget"
      ]
     },
     "metadata": {},
     "output_type": "display_data"
    },
    {
     "name": "stdout",
     "output_type": "stream",
     "text": [
      "\n"
     ]
    }
   ],
   "source": [
    "# Transform into more usable format\n",
    "df = pd.DataFrame()\n",
    "for idx in tnrange(len(pres_df.index)):\n",
    "    pres = pres_df.index[idx]\n",
    "    pres_data = pres_df.loc[pres]\n",
    "    \n",
    "    speech_type = ['Oral', 'Written']\n",
    "    for jdx in tnrange(len(speech_type)):\n",
    "        tmp_df = pd.DataFrame.from_dict(pres_df.loc[pres][speech_type[jdx]])\n",
    "        tmp_df.insert(0, 'President', pres)\n",
    "        tmp_df.insert(1, 'Type', speech_type[jdx])\n",
    "        try:\n",
    "            tmp_df.document_date = pd.to_datetime(tmp_df.document_date)\n",
    "        except:\n",
    "            tmp_df.document_data = pd.to_datetime('20500101')\n",
    "        df = pd.concat([df, tmp_df], axis=0)"
   ]
  },
  {
   "cell_type": "code",
   "execution_count": 7,
   "metadata": {},
   "outputs": [
    {
     "name": "stdout",
     "output_type": "stream",
     "text": [
      "<class 'pandas.core.frame.DataFrame'>\n",
      "Int64Index: 58595 entries, 0 to 48\n",
      "Data columns (total 8 columns):\n",
      "President        58595 non-null object\n",
      "Type             58595 non-null object\n",
      "category         58595 non-null object\n",
      "content          58595 non-null object\n",
      "document_date    58595 non-null datetime64[ns]\n",
      "pid              58595 non-null float64\n",
      "subcategory      41464 non-null object\n",
      "title            58595 non-null object\n",
      "dtypes: datetime64[ns](1), float64(1), object(6)\n",
      "memory usage: 4.0+ MB\n"
     ]
    }
   ],
   "source": [
    "df.info()"
   ]
  },
  {
   "cell_type": "markdown",
   "metadata": {},
   "source": [
    "### Sentiment"
   ]
  },
  {
   "cell_type": "code",
   "execution_count": 9,
   "metadata": {
    "collapsed": true
   },
   "outputs": [],
   "source": [
    "corpus = df['content']"
   ]
  },
  {
   "cell_type": "code",
   "execution_count": 13,
   "metadata": {},
   "outputs": [
    {
     "data": {
      "application/vnd.jupyter.widget-view+json": {
       "model_id": "3b00322ece8b4954ba79a6b9874eb4df",
       "version_major": 2,
       "version_minor": 0
      },
      "text/plain": [
       "A Jupyter Widget"
      ]
     },
     "metadata": {},
     "output_type": "display_data"
    },
    {
     "name": "stdout",
     "output_type": "stream",
     "text": [
      "\n"
     ]
    }
   ],
   "source": [
    "sentiment = []\n",
    "for idx in tnrange(len(corpus)):\n",
    "    sentiment.append(textblob.TextBlob(corpus.iloc[idx]).sentiment)"
   ]
  },
  {
   "cell_type": "code",
   "execution_count": 52,
   "metadata": {
    "collapsed": true
   },
   "outputs": [],
   "source": [
    "sentiment_df = pd.DataFrame(sentiment)"
   ]
  },
  {
   "cell_type": "code",
   "execution_count": 24,
   "metadata": {
    "collapsed": true
   },
   "outputs": [],
   "source": [
    "# pickle sentiment results\n",
    "pickle_file = 'APP_sentiment_results.pickle'\n",
    "with open(pickle_file, 'wb') as f:\n",
    "    pickle.dump(sentiment_df, f)\n",
    "    \n",
    "# with open(pickle_file, 'rb') as f:\n",
    "#     tmp = pickle.load(f)"
   ]
  },
  {
   "cell_type": "code",
   "execution_count": null,
   "metadata": {
    "collapsed": true
   },
   "outputs": [],
   "source": [
    "df.index = range(0, df.shape[0])"
   ]
  },
  {
   "cell_type": "code",
   "execution_count": 67,
   "metadata": {
    "collapsed": true
   },
   "outputs": [],
   "source": [
    "sorted_sentiment = pd.concat([df.document_date, sentiment_df], axis=1).sort_values('document_date')"
   ]
  },
  {
   "cell_type": "code",
   "execution_count": 68,
   "metadata": {},
   "outputs": [
    {
     "data": {
      "text/html": [
       "<div>\n",
       "<style scoped>\n",
       "    .dataframe tbody tr th:only-of-type {\n",
       "        vertical-align: middle;\n",
       "    }\n",
       "\n",
       "    .dataframe tbody tr th {\n",
       "        vertical-align: top;\n",
       "    }\n",
       "\n",
       "    .dataframe thead th {\n",
       "        text-align: right;\n",
       "    }\n",
       "</style>\n",
       "<table border=\"1\" class=\"dataframe\">\n",
       "  <thead>\n",
       "    <tr style=\"text-align: right;\">\n",
       "      <th></th>\n",
       "      <th>document_date</th>\n",
       "      <th>polarity</th>\n",
       "      <th>subjectivity</th>\n",
       "    </tr>\n",
       "  </thead>\n",
       "  <tbody>\n",
       "    <tr>\n",
       "      <th>23555</th>\n",
       "      <td>1789-04-30</td>\n",
       "      <td>0.204100</td>\n",
       "      <td>0.429194</td>\n",
       "    </tr>\n",
       "    <tr>\n",
       "      <th>23565</th>\n",
       "      <td>1789-05-08</td>\n",
       "      <td>0.234399</td>\n",
       "      <td>0.546350</td>\n",
       "    </tr>\n",
       "    <tr>\n",
       "      <th>23566</th>\n",
       "      <td>1789-05-18</td>\n",
       "      <td>0.303571</td>\n",
       "      <td>0.505782</td>\n",
       "    </tr>\n",
       "    <tr>\n",
       "      <th>23567</th>\n",
       "      <td>1789-05-25</td>\n",
       "      <td>-0.010000</td>\n",
       "      <td>0.420000</td>\n",
       "    </tr>\n",
       "    <tr>\n",
       "      <th>23568</th>\n",
       "      <td>1789-06-11</td>\n",
       "      <td>0.056602</td>\n",
       "      <td>0.277706</td>\n",
       "    </tr>\n",
       "  </tbody>\n",
       "</table>\n",
       "</div>"
      ],
      "text/plain": [
       "      document_date  polarity  subjectivity\n",
       "23555    1789-04-30  0.204100      0.429194\n",
       "23565    1789-05-08  0.234399      0.546350\n",
       "23566    1789-05-18  0.303571      0.505782\n",
       "23567    1789-05-25 -0.010000      0.420000\n",
       "23568    1789-06-11  0.056602      0.277706"
      ]
     },
     "execution_count": 68,
     "metadata": {},
     "output_type": "execute_result"
    }
   ],
   "source": [
    "sorted_sentiment.head()"
   ]
  },
  {
   "cell_type": "code",
   "execution_count": 70,
   "metadata": {
    "scrolled": true
   },
   "outputs": [
    {
     "data": {
      "text/html": [
       "<div>\n",
       "<style scoped>\n",
       "    .dataframe tbody tr th:only-of-type {\n",
       "        vertical-align: middle;\n",
       "    }\n",
       "\n",
       "    .dataframe tbody tr th {\n",
       "        vertical-align: top;\n",
       "    }\n",
       "\n",
       "    .dataframe thead th {\n",
       "        text-align: right;\n",
       "    }\n",
       "</style>\n",
       "<table border=\"1\" class=\"dataframe\">\n",
       "  <thead>\n",
       "    <tr style=\"text-align: right;\">\n",
       "      <th></th>\n",
       "      <th>polarity</th>\n",
       "      <th>subjectivity</th>\n",
       "    </tr>\n",
       "  </thead>\n",
       "  <tbody>\n",
       "    <tr>\n",
       "      <th>count</th>\n",
       "      <td>58595.000000</td>\n",
       "      <td>58595.000000</td>\n",
       "    </tr>\n",
       "    <tr>\n",
       "      <th>mean</th>\n",
       "      <td>0.131433</td>\n",
       "      <td>0.419668</td>\n",
       "    </tr>\n",
       "    <tr>\n",
       "      <th>std</th>\n",
       "      <td>0.107275</td>\n",
       "      <td>0.124746</td>\n",
       "    </tr>\n",
       "    <tr>\n",
       "      <th>min</th>\n",
       "      <td>-1.000000</td>\n",
       "      <td>0.000000</td>\n",
       "    </tr>\n",
       "    <tr>\n",
       "      <th>25%</th>\n",
       "      <td>0.062500</td>\n",
       "      <td>0.369864</td>\n",
       "    </tr>\n",
       "    <tr>\n",
       "      <th>50%</th>\n",
       "      <td>0.130917</td>\n",
       "      <td>0.438129</td>\n",
       "    </tr>\n",
       "    <tr>\n",
       "      <th>75%</th>\n",
       "      <td>0.195455</td>\n",
       "      <td>0.490416</td>\n",
       "    </tr>\n",
       "    <tr>\n",
       "      <th>max</th>\n",
       "      <td>1.000000</td>\n",
       "      <td>1.000000</td>\n",
       "    </tr>\n",
       "  </tbody>\n",
       "</table>\n",
       "</div>"
      ],
      "text/plain": [
       "           polarity  subjectivity\n",
       "count  58595.000000  58595.000000\n",
       "mean       0.131433      0.419668\n",
       "std        0.107275      0.124746\n",
       "min       -1.000000      0.000000\n",
       "25%        0.062500      0.369864\n",
       "50%        0.130917      0.438129\n",
       "75%        0.195455      0.490416\n",
       "max        1.000000      1.000000"
      ]
     },
     "execution_count": 70,
     "metadata": {},
     "output_type": "execute_result"
    }
   ],
   "source": [
    "sorted_sentiment.describe()"
   ]
  },
  {
   "cell_type": "code",
   "execution_count": 243,
   "metadata": {
    "scrolled": false
   },
   "outputs": [
    {
     "name": "stderr",
     "output_type": "stream",
     "text": [
      "/home/cneiderer/anaconda3/lib/python3.6/site-packages/ipykernel_launcher.py:9: FutureWarning: pd.rolling_median is deprecated for Series and will be removed in a future version, replace with \n",
      "\tSeries.rolling(window=50,min_periods=1,center=False).median()\n",
      "  if __name__ == '__main__':\n"
     ]
    },
    {
     "data": {
      "image/png": "[encoded data removed]",
      "text/plain": [
       "<matplotlib.figure.Figure at 0x7f73e6851668>"
      ]
     },
     "metadata": {},
     "output_type": "display_data"
    }
   ],
   "source": [
    "fig, axes = plt.subplots(2, 1, figsize=(12, 8))\n",
    "window_sz = 50\n",
    "colors = axes[0]._get_lines\n",
    "for idx, col in enumerate(['polarity', 'subjectivity']):\n",
    "    axes[idx].plot(sorted_sentiment.document_date, \n",
    "                   sorted_sentiment[col], \n",
    "                   c=colors.get_next_color(), ls='-', lw=1, label='_no_legend_')\n",
    "    axes[idx].plot(sorted_sentiment.document_date, \n",
    "                   pd.rolling_median(sorted_sentiment[col], window_sz, 1), \n",
    "                   c='k', ls='--', lw=1, label='moving avg')\n",
    "    \n",
    "    axes[idx].set_title(col.capitalize(), fontsize=16, fontweight='bold')\n",
    "    axes[idx].set_xticks(pd.date_range('1790-01-01', '2020-01-01', freq='20Y'))\n",
    "    axes[idx].set_xticks(pd.date_range('1780-01-01', '2030-01-01', freq='20Y'), minor=True)\n",
    "    if idx == 0:\n",
    "        axes[idx].set_xticklabels([])\n",
    "    \n",
    "    axes[idx].legend()"
   ]
  },
  {
   "cell_type": "code",
   "execution_count": null,
   "metadata": {
    "collapsed": true
   },
   "outputs": [],
   "source": []
  },
  {
   "cell_type": "code",
   "execution_count": null,
   "metadata": {
    "collapsed": true
   },
   "outputs": [],
   "source": []
  },
  {
   "cell_type": "code",
   "execution_count": 180,
   "metadata": {},
   "outputs": [
    {
     "data": {
      "text/plain": [
       "array([-0.2, -0.3, -0.4, -0.5, -0.6, -0.7, -0.8])"
      ]
     },
     "execution_count": 180,
     "metadata": {},
     "output_type": "execute_result"
    }
   ],
   "source": [
    "np.arange(-0.2, -0.8, -0.1)"
   ]
  },
  {
   "cell_type": "code",
   "execution_count": 196,
   "metadata": {},
   "outputs": [
    {
     "name": "stdout",
     "output_type": "stream",
     "text": [
      "-0.0 (4661, 3)\n",
      "-0.1 (681, 3)\n",
      "-0.2 (133, 3)\n",
      "-0.3 (46, 3)\n",
      "-0.4 (13, 3)\n",
      "-0.5 (5, 3)\n",
      "-0.6 (4, 3)\n",
      "-0.7 (4, 3)\n",
      "0.0 (51561, 3)\n",
      "0.1 (36508, 3)\n",
      "0.2 (13691, 3)\n",
      "0.3 (3096, 3)\n",
      "0.4 (693, 3)\n",
      "0.5 (161, 3)\n",
      "0.6 (58, 3)\n",
      "0.7 (32, 3)\n"
     ]
    }
   ],
   "source": [
    "# negative sentiment\n",
    "for val in np.arange(-0.0, -0.8, -0.1):\n",
    "    tmp = sorted_sentiment[(sorted_sentiment.polarity < val)]\n",
    "    print(val, tmp.shape)\n",
    "\n",
    "# positive sentiment\n",
    "for val in np.arange(0.0, 0.8, 0.1):\n",
    "    tmp = sorted_sentiment[(sorted_sentiment.polarity > val)]\n",
    "    print(val, tmp.shape)"
   ]
  },
  {
   "cell_type": "code",
   "execution_count": 200,
   "metadata": {},
   "outputs": [
    {
     "name": "stdout",
     "output_type": "stream",
     "text": [
      "0.4 (19804, 3)\n",
      "0.3 (7666, 3)\n",
      "0.2 (3496, 3)\n",
      "0.1 (1915, 3)\n",
      "0.6 (2231, 3)\n",
      "0.7 (468, 3)\n",
      "0.8 (155, 3)\n",
      "0.9 (65, 3)\n"
     ]
    }
   ],
   "source": [
    "# negative sentiment\n",
    "for val in np.arange(0.4, 0, -0.1):\n",
    "    tmp = sorted_sentiment[(sorted_sentiment.subjectivity < val)]\n",
    "    print(val, tmp.shape)\n",
    "\n",
    "# positive sentiment\n",
    "for val in np.arange(0.6, 1, 0.1):\n",
    "    tmp = sorted_sentiment[(sorted_sentiment.subjectivity > val)]\n",
    "    print(val, tmp.shape)"
   ]
  },
  {
   "cell_type": "code",
   "execution_count": 217,
   "metadata": {},
   "outputs": [
    {
     "data": {
      "text/plain": [
       "(693, 8)"
      ]
     },
     "execution_count": 217,
     "metadata": {},
     "output_type": "execute_result"
    }
   ],
   "source": [
    "tmp = df[sentiment_df.polarity > 0.4]\n",
    "tmp.shape"
   ]
  },
  {
   "cell_type": "code",
   "execution_count": 214,
   "metadata": {},
   "outputs": [
    {
     "data": {
      "text/plain": [
       "polarity        0.80\n",
       "subjectivity    0.75\n",
       "Name: 181, dtype: float64"
      ]
     },
     "execution_count": 214,
     "metadata": {},
     "output_type": "execute_result"
    }
   ],
   "source": [
    "sentiment_df.iloc[181, :]"
   ]
  },
  {
   "cell_type": "code",
   "execution_count": 213,
   "metadata": {
    "scrolled": true
   },
   "outputs": [
    {
     "data": {
      "text/html": [
       "<div>\n",
       "<style scoped>\n",
       "    .dataframe tbody tr th:only-of-type {\n",
       "        vertical-align: middle;\n",
       "    }\n",
       "\n",
       "    .dataframe tbody tr th {\n",
       "        vertical-align: top;\n",
       "    }\n",
       "\n",
       "    .dataframe thead th {\n",
       "        text-align: right;\n",
       "    }\n",
       "</style>\n",
       "<table border=\"1\" class=\"dataframe\">\n",
       "  <thead>\n",
       "    <tr style=\"text-align: right;\">\n",
       "      <th></th>\n",
       "      <th>President</th>\n",
       "      <th>Type</th>\n",
       "      <th>category</th>\n",
       "      <th>content</th>\n",
       "      <th>document_date</th>\n",
       "      <th>pid</th>\n",
       "      <th>subcategory</th>\n",
       "      <th>title</th>\n",
       "    </tr>\n",
       "  </thead>\n",
       "  <tbody>\n",
       "    <tr>\n",
       "      <th>181</th>\n",
       "      <td>Abraham Lincoln</td>\n",
       "      <td>Written</td>\n",
       "      <td>Messages</td>\n",
       "      <td>To the Senate of the United States: I transmit...</td>\n",
       "      <td>1864-01-29</td>\n",
       "      <td>69939.0</td>\n",
       "      <td>to Congress</td>\n",
       "      <td>Special Message</td>\n",
       "    </tr>\n",
       "    <tr>\n",
       "      <th>988</th>\n",
       "      <td>Andrew Johnson</td>\n",
       "      <td>Written</td>\n",
       "      <td>Messages</td>\n",
       "      <td>To the Senate of the United States: I transmit...</td>\n",
       "      <td>1867-07-06</td>\n",
       "      <td>72108.0</td>\n",
       "      <td>to Congress</td>\n",
       "      <td>Special Message</td>\n",
       "    </tr>\n",
       "    <tr>\n",
       "      <th>1142</th>\n",
       "      <td>Andrew Johnson</td>\n",
       "      <td>Written</td>\n",
       "      <td>Messages</td>\n",
       "      <td>To the House of Representatives of the United ...</td>\n",
       "      <td>1869-01-29</td>\n",
       "      <td>72329.0</td>\n",
       "      <td>to Congress</td>\n",
       "      <td>Special Message</td>\n",
       "    </tr>\n",
       "    <tr>\n",
       "      <th>6332</th>\n",
       "      <td>Barack Obama</td>\n",
       "      <td>Written</td>\n",
       "      <td>Statements</td>\n",
       "      <td>On Sunday, many around the world will observe ...</td>\n",
       "      <td>2010-11-19</td>\n",
       "      <td>88737.0</td>\n",
       "      <td>(non categorized)</td>\n",
       "      <td>Statement on the Anniversary of the Birth of t...</td>\n",
       "    </tr>\n",
       "    <tr>\n",
       "      <th>6823</th>\n",
       "      <td>Barack Obama</td>\n",
       "      <td>Written</td>\n",
       "      <td>Statements</td>\n",
       "      <td>For more than 40 years, from his service on th...</td>\n",
       "      <td>2015-11-13</td>\n",
       "      <td>111137.0</td>\n",
       "      <td>(non categorized)</td>\n",
       "      <td>806  - Statement on Representative Samuel S. F...</td>\n",
       "    </tr>\n",
       "    <tr>\n",
       "      <th>6854</th>\n",
       "      <td>Barack Obama</td>\n",
       "      <td>Written</td>\n",
       "      <td>Statements</td>\n",
       "      <td>For more than 20 years, Representative Mark Ta...</td>\n",
       "      <td>2016-05-20</td>\n",
       "      <td>117420.0</td>\n",
       "      <td>(non categorized)</td>\n",
       "      <td>337  - Statement on Representative K. Mark Tak...</td>\n",
       "    </tr>\n",
       "    <tr>\n",
       "      <th>7460</th>\n",
       "      <td>Benjamin Harrison</td>\n",
       "      <td>Oral</td>\n",
       "      <td>Remarks</td>\n",
       "      <td>It gives me pleasure to consummate here to-day...</td>\n",
       "      <td>1893-02-22</td>\n",
       "      <td>76220.0</td>\n",
       "      <td>(non categorized)</td>\n",
       "      <td>Remarks Hoisting the Flag on the Steamship New...</td>\n",
       "    </tr>\n",
       "    <tr>\n",
       "      <th>7544</th>\n",
       "      <td>Benjamin Harrison</td>\n",
       "      <td>Written</td>\n",
       "      <td>Messages</td>\n",
       "      <td>To the Senate and House of Representatives: Th...</td>\n",
       "      <td>1891-02-13</td>\n",
       "      <td>70992.0</td>\n",
       "      <td>to Congress</td>\n",
       "      <td>Message to Congress Announcing the Death of Ad...</td>\n",
       "    </tr>\n",
       "    <tr>\n",
       "      <th>7596</th>\n",
       "      <td>Benjamin Harrison</td>\n",
       "      <td>Written</td>\n",
       "      <td>Messages</td>\n",
       "      <td>To the Senate: In response to the resolution o...</td>\n",
       "      <td>1892-12-07</td>\n",
       "      <td>71133.0</td>\n",
       "      <td>to Congress</td>\n",
       "      <td>Special Message</td>\n",
       "    </tr>\n",
       "    <tr>\n",
       "      <th>9071</th>\n",
       "      <td>Dwight D. Eisenhower</td>\n",
       "      <td>Oral</td>\n",
       "      <td>Remarks</td>\n",
       "      <td>I AM VERY HAPPY, in the presence of this disti...</td>\n",
       "      <td>1954-05-13</td>\n",
       "      <td>9887.0</td>\n",
       "      <td>Bill Signings</td>\n",
       "      <td>110  - Remarks Upon Signing the St. Lawrence S...</td>\n",
       "    </tr>\n",
       "    <tr>\n",
       "      <th>12320</th>\n",
       "      <td>Franklin D. Roosevelt</td>\n",
       "      <td>Written</td>\n",
       "      <td>Executive Orders</td>\n",
       "      <td>An Application having been duly made, pursuant...</td>\n",
       "      <td>1933-08-19</td>\n",
       "      <td>14506.0</td>\n",
       "      <td>None</td>\n",
       "      <td>129  - Executive Order 6254. Approval of an N....</td>\n",
       "    </tr>\n",
       "    <tr>\n",
       "      <th>13164</th>\n",
       "      <td>Franklin D. Roosevelt</td>\n",
       "      <td>Written</td>\n",
       "      <td>Letters</td>\n",
       "      <td>It goes without saying that I in no way have c...</td>\n",
       "      <td>1933-10-19</td>\n",
       "      <td>14533.0</td>\n",
       "      <td>(non categorized)</td>\n",
       "      <td>153  - Telegram to Great Lakes Harbors Associa...</td>\n",
       "    </tr>\n",
       "    <tr>\n",
       "      <th>13695</th>\n",
       "      <td>Franklin Pierce</td>\n",
       "      <td>Written</td>\n",
       "      <td>Messages</td>\n",
       "      <td>To the Senate of the United States: I transmit...</td>\n",
       "      <td>1856-08-12</td>\n",
       "      <td>67725.0</td>\n",
       "      <td>to Congress</td>\n",
       "      <td>Special Message</td>\n",
       "    </tr>\n",
       "    <tr>\n",
       "      <th>13722</th>\n",
       "      <td>Franklin Pierce</td>\n",
       "      <td>Written</td>\n",
       "      <td>Messages</td>\n",
       "      <td>To the Senate of the United States: In answer ...</td>\n",
       "      <td>1857-02-04</td>\n",
       "      <td>67770.0</td>\n",
       "      <td>to Congress</td>\n",
       "      <td>Special Message</td>\n",
       "    </tr>\n",
       "    <tr>\n",
       "      <th>16580</th>\n",
       "      <td>George Bush</td>\n",
       "      <td>Written</td>\n",
       "      <td>Statements</td>\n",
       "      <td>Today we are publishing rules that will allow ...</td>\n",
       "      <td>1992-08-04</td>\n",
       "      <td>21296.0</td>\n",
       "      <td>(non categorized)</td>\n",
       "      <td>Statement on Publication of Rules Allowing Par...</td>\n",
       "    </tr>\n",
       "    <tr>\n",
       "      <th>17715</th>\n",
       "      <td>George W. Bush</td>\n",
       "      <td>Oral</td>\n",
       "      <td>Remarks</td>\n",
       "      <td>The President. [Inaudible]—the Prime Minister ...</td>\n",
       "      <td>2001-06-16</td>\n",
       "      <td>45976.0</td>\n",
       "      <td>(non categorized)</td>\n",
       "      <td>Remarks Prior to Discussions With Prime Minist...</td>\n",
       "    </tr>\n",
       "    <tr>\n",
       "      <th>18600</th>\n",
       "      <td>George W. Bush</td>\n",
       "      <td>Oral</td>\n",
       "      <td>Remarks</td>\n",
       "      <td>All right. It has been my honor to welcome the...</td>\n",
       "      <td>2004-06-27</td>\n",
       "      <td>63085.0</td>\n",
       "      <td>(non categorized)</td>\n",
       "      <td>Remarks Following Discussions With Religious L...</td>\n",
       "    </tr>\n",
       "    <tr>\n",
       "      <th>18693</th>\n",
       "      <td>George W. Bush</td>\n",
       "      <td>Oral</td>\n",
       "      <td>Remarks</td>\n",
       "      <td>President Bush. I've really been looking forwa...</td>\n",
       "      <td>2004-09-21</td>\n",
       "      <td>72756.0</td>\n",
       "      <td>(non categorized)</td>\n",
       "      <td>Remarks Prior to Discussions With Prime Minist...</td>\n",
       "    </tr>\n",
       "    <tr>\n",
       "      <th>18818</th>\n",
       "      <td>George W. Bush</td>\n",
       "      <td>Oral</td>\n",
       "      <td>Remarks</td>\n",
       "      <td>CHIEF JUSTICE WILLIAM REHNQUIST: Will you rais...</td>\n",
       "      <td>2005-01-20</td>\n",
       "      <td>77408.0</td>\n",
       "      <td>(non categorized)</td>\n",
       "      <td>Oath of Office Administered by Chief Justice W...</td>\n",
       "    </tr>\n",
       "    <tr>\n",
       "      <th>18845</th>\n",
       "      <td>George W. Bush</td>\n",
       "      <td>Oral</td>\n",
       "      <td>Remarks</td>\n",
       "      <td>I want to wish all the fellow citizens and the...</td>\n",
       "      <td>2005-03-27</td>\n",
       "      <td>63106.0</td>\n",
       "      <td>(non categorized)</td>\n",
       "      <td>Remarks to Reporters at Fort Hood, Texas</td>\n",
       "    </tr>\n",
       "    <tr>\n",
       "      <th>18974</th>\n",
       "      <td>George W. Bush</td>\n",
       "      <td>Oral</td>\n",
       "      <td>Remarks</td>\n",
       "      <td>Generals, thanks—General Landreneau and Genera...</td>\n",
       "      <td>2005-10-11</td>\n",
       "      <td>64482.0</td>\n",
       "      <td>(non categorized)</td>\n",
       "      <td>Remarks at the Joint Reserve Base at the U.S. ...</td>\n",
       "    </tr>\n",
       "    <tr>\n",
       "      <th>22275</th>\n",
       "      <td>George W. Bush</td>\n",
       "      <td>Written</td>\n",
       "      <td>Statements</td>\n",
       "      <td>Senator Fred Thompson has served the people of...</td>\n",
       "      <td>2002-03-08</td>\n",
       "      <td>64195.0</td>\n",
       "      <td>(non categorized)</td>\n",
       "      <td>Statement on Senator Fred Thompson's Decision ...</td>\n",
       "    </tr>\n",
       "    <tr>\n",
       "      <th>22341</th>\n",
       "      <td>George W. Bush</td>\n",
       "      <td>Written</td>\n",
       "      <td>Statements</td>\n",
       "      <td>I am very pleased that labor and management ha...</td>\n",
       "      <td>2002-11-24</td>\n",
       "      <td>64370.0</td>\n",
       "      <td>(non categorized)</td>\n",
       "      <td>Statement on the West Coast Ports Agreement</td>\n",
       "    </tr>\n",
       "    <tr>\n",
       "      <th>22431</th>\n",
       "      <td>George W. Bush</td>\n",
       "      <td>Written</td>\n",
       "      <td>Statements</td>\n",
       "      <td>To win the war on terrorism, we are staying on...</td>\n",
       "      <td>2003-09-24</td>\n",
       "      <td>63694.0</td>\n",
       "      <td>(non categorized)</td>\n",
       "      <td>Statement on Congressional Passage of the Depa...</td>\n",
       "    </tr>\n",
       "    <tr>\n",
       "      <th>22575</th>\n",
       "      <td>George W. Bush</td>\n",
       "      <td>Written</td>\n",
       "      <td>Statements</td>\n",
       "      <td>I applaud the Congress for its work on the hom...</td>\n",
       "      <td>2005-10-07</td>\n",
       "      <td>73818.0</td>\n",
       "      <td>(non categorized)</td>\n",
       "      <td>Statement on Congressional Action on Homeland ...</td>\n",
       "    </tr>\n",
       "    <tr>\n",
       "      <th>22598</th>\n",
       "      <td>George W. Bush</td>\n",
       "      <td>Written</td>\n",
       "      <td>Statements</td>\n",
       "      <td>Laura and I share the concerns of the Israeli ...</td>\n",
       "      <td>2006-01-04</td>\n",
       "      <td>65111.0</td>\n",
       "      <td>(non categorized)</td>\n",
       "      <td>Statement on the Health of Prime Minister Arie...</td>\n",
       "    </tr>\n",
       "    <tr>\n",
       "      <th>25485</th>\n",
       "      <td>Gerald R. Ford</td>\n",
       "      <td>Written</td>\n",
       "      <td>Statements</td>\n",
       "      <td>THE United States views the fall of the Govern...</td>\n",
       "      <td>1975-04-17</td>\n",
       "      <td>4840.0</td>\n",
       "      <td>(non categorized)</td>\n",
       "      <td>191  - Statement on the Fall of the Cambodian ...</td>\n",
       "    </tr>\n",
       "    <tr>\n",
       "      <th>25930</th>\n",
       "      <td>Grover Cleveland</td>\n",
       "      <td>Written</td>\n",
       "      <td>Messages</td>\n",
       "      <td>To the House of Representatives: I transmit he...</td>\n",
       "      <td>1897-01-08</td>\n",
       "      <td>70812.0</td>\n",
       "      <td>to Congress</td>\n",
       "      <td>Special Message</td>\n",
       "    </tr>\n",
       "    <tr>\n",
       "      <th>26561</th>\n",
       "      <td>Harry S. Truman</td>\n",
       "      <td>Oral</td>\n",
       "      <td>Remarks</td>\n",
       "      <td>Mr. Prime Minister: It is a very great pleasur...</td>\n",
       "      <td>1951-09-24</td>\n",
       "      <td>13923.0</td>\n",
       "      <td>(non categorized)</td>\n",
       "      <td>231  - Remarks of Welcome at Union Station Pla...</td>\n",
       "    </tr>\n",
       "    <tr>\n",
       "      <th>28670</th>\n",
       "      <td>Harry S. Truman</td>\n",
       "      <td>Written</td>\n",
       "      <td>Statements</td>\n",
       "      <td>THE WORLD may be sure that we will prosecute t...</td>\n",
       "      <td>1945-04-12</td>\n",
       "      <td>12390.0</td>\n",
       "      <td>(non categorized)</td>\n",
       "      <td>1  - Statement by the President After Taking t...</td>\n",
       "    </tr>\n",
       "    <tr>\n",
       "      <th>29466</th>\n",
       "      <td>Herbert Hoover</td>\n",
       "      <td>Oral</td>\n",
       "      <td>Remarks</td>\n",
       "      <td>THE PRESIDENT. I am glad to have the opportuni...</td>\n",
       "      <td>1932-10-04</td>\n",
       "      <td>23270.0</td>\n",
       "      <td>(non categorized)</td>\n",
       "      <td>323  - Remarks at the Shrine Auditorium in Des...</td>\n",
       "    </tr>\n",
       "    <tr>\n",
       "      <th>29667</th>\n",
       "      <td>Herbert Hoover</td>\n",
       "      <td>Oral</td>\n",
       "      <td>News Conferences</td>\n",
       "      <td>THE PRESIDENT. There seems to be a lot of news...</td>\n",
       "      <td>1930-12-16</td>\n",
       "      <td>22483.0</td>\n",
       "      <td>None</td>\n",
       "      <td>412  - The President's News Conference</td>\n",
       "    </tr>\n",
       "    <tr>\n",
       "      <th>29841</th>\n",
       "      <td>Herbert Hoover</td>\n",
       "      <td>Written</td>\n",
       "      <td>Messages</td>\n",
       "      <td>[Released December 27, 1929. Dated November 12...</td>\n",
       "      <td>1929-12-27</td>\n",
       "      <td>22055.0</td>\n",
       "      <td>(non categorized)</td>\n",
       "      <td>325  - Message Contributed to a Symposium on t...</td>\n",
       "    </tr>\n",
       "    <tr>\n",
       "      <th>30669</th>\n",
       "      <td>James A. Garfield</td>\n",
       "      <td>Written</td>\n",
       "      <td>Messages</td>\n",
       "      <td>To the Senate of the United States: I transmit...</td>\n",
       "      <td>1881-05-20</td>\n",
       "      <td>69144.0</td>\n",
       "      <td>to Congress</td>\n",
       "      <td>Special Message</td>\n",
       "    </tr>\n",
       "    <tr>\n",
       "      <th>30756</th>\n",
       "      <td>James Buchanan</td>\n",
       "      <td>Written</td>\n",
       "      <td>Messages</td>\n",
       "      <td>To the Senate of the United States. I transmit...</td>\n",
       "      <td>1859-03-01</td>\n",
       "      <td>68372.0</td>\n",
       "      <td>to Congress</td>\n",
       "      <td>Special Message</td>\n",
       "    </tr>\n",
       "    <tr>\n",
       "      <th>31118</th>\n",
       "      <td>James Madison</td>\n",
       "      <td>Written</td>\n",
       "      <td>Messages</td>\n",
       "      <td>To the Senate and House of Representatives of ...</td>\n",
       "      <td>1814-10-13</td>\n",
       "      <td>65972.0</td>\n",
       "      <td>to Congress</td>\n",
       "      <td>Special Message</td>\n",
       "    </tr>\n",
       "    <tr>\n",
       "      <th>34263</th>\n",
       "      <td>Jimmy Carter</td>\n",
       "      <td>Written</td>\n",
       "      <td>Letters</td>\n",
       "      <td>Dear Mr. Ambassador: I was delighted to learn ...</td>\n",
       "      <td>1980-04-27</td>\n",
       "      <td>33332.0</td>\n",
       "      <td>(non categorized)</td>\n",
       "      <td>Hostages in the Dominican Republic Embassy in ...</td>\n",
       "    </tr>\n",
       "    <tr>\n",
       "      <th>36040</th>\n",
       "      <td>John F. Kennedy</td>\n",
       "      <td>Written</td>\n",
       "      <td>Letters</td>\n",
       "      <td>CONGRATULATIONS on your decisive primary victo...</td>\n",
       "      <td>1962-06-13</td>\n",
       "      <td>8716.0</td>\n",
       "      <td>to Congress</td>\n",
       "      <td>241  - Telegram to Senator Johnston following ...</td>\n",
       "    </tr>\n",
       "    <tr>\n",
       "      <th>36418</th>\n",
       "      <td>John Tyler</td>\n",
       "      <td>Written</td>\n",
       "      <td>Messages</td>\n",
       "      <td>To the Senate of the United States: I transmit...</td>\n",
       "      <td>1844-03-20</td>\n",
       "      <td>67421.0</td>\n",
       "      <td>to Congress</td>\n",
       "      <td>Special Message</td>\n",
       "    </tr>\n",
       "    <tr>\n",
       "      <th>36598</th>\n",
       "      <td>Lyndon B. Johnson</td>\n",
       "      <td>Oral</td>\n",
       "      <td>Remarks</td>\n",
       "      <td>SECRETARY RUSK has just made a very interestin...</td>\n",
       "      <td>1964-04-20</td>\n",
       "      <td>26170.0</td>\n",
       "      <td>(non categorized)</td>\n",
       "      <td>274  - Remarks on Introducing Secretary Rusk t...</td>\n",
       "    </tr>\n",
       "    <tr>\n",
       "      <th>37172</th>\n",
       "      <td>Lyndon B. Johnson</td>\n",
       "      <td>Oral</td>\n",
       "      <td>Remarks</td>\n",
       "      <td>I AM DELIGHTED to see all of you here at such ...</td>\n",
       "      <td>1966-11-08</td>\n",
       "      <td>28005.0</td>\n",
       "      <td>(non categorized)</td>\n",
       "      <td>590  - The President's Remarks Upon Casting Hi...</td>\n",
       "    </tr>\n",
       "    <tr>\n",
       "      <th>39784</th>\n",
       "      <td>Lyndon B. Johnson</td>\n",
       "      <td>Written</td>\n",
       "      <td>Letters</td>\n",
       "      <td>MRS. JOHNSON and I send our best wishes and wa...</td>\n",
       "      <td>1966-11-22</td>\n",
       "      <td>28043.0</td>\n",
       "      <td>(non categorized)</td>\n",
       "      <td>624  - Birthday Telegram to Former Vice Presid...</td>\n",
       "    </tr>\n",
       "    <tr>\n",
       "      <th>39790</th>\n",
       "      <td>Lyndon B. Johnson</td>\n",
       "      <td>Written</td>\n",
       "      <td>Letters</td>\n",
       "      <td>YOU handled this superbly as you do all things...</td>\n",
       "      <td>1967-06-21</td>\n",
       "      <td>28309.0</td>\n",
       "      <td>(non categorized)</td>\n",
       "      <td>273  - The President's Telegram to His Daughte...</td>\n",
       "    </tr>\n",
       "    <tr>\n",
       "      <th>39940</th>\n",
       "      <td>Martin van Buren</td>\n",
       "      <td>Written</td>\n",
       "      <td>Messages</td>\n",
       "      <td>To the House of Representatives of the United ...</td>\n",
       "      <td>1838-01-08</td>\n",
       "      <td>67205.0</td>\n",
       "      <td>to Congress</td>\n",
       "      <td>Special Message</td>\n",
       "    </tr>\n",
       "    <tr>\n",
       "      <th>40008</th>\n",
       "      <td>Martin van Buren</td>\n",
       "      <td>Written</td>\n",
       "      <td>Messages</td>\n",
       "      <td>To the Senate of the United States: I herewith...</td>\n",
       "      <td>1839-01-25</td>\n",
       "      <td>67306.0</td>\n",
       "      <td>to Congress</td>\n",
       "      <td>Special Message</td>\n",
       "    </tr>\n",
       "    <tr>\n",
       "      <th>40287</th>\n",
       "      <td>Millard Fillmore</td>\n",
       "      <td>Written</td>\n",
       "      <td>Messages</td>\n",
       "      <td>To the Senate of the United States: In complia...</td>\n",
       "      <td>1853-02-03</td>\n",
       "      <td>68264.0</td>\n",
       "      <td>to Congress</td>\n",
       "      <td>Special Message</td>\n",
       "    </tr>\n",
       "    <tr>\n",
       "      <th>40370</th>\n",
       "      <td>Richard Nixon</td>\n",
       "      <td>Oral</td>\n",
       "      <td>Remarks</td>\n",
       "      <td>CHIEF JUSTICE EARL WARREN: Do you Richard Milh...</td>\n",
       "      <td>1969-01-20</td>\n",
       "      <td>77405.0</td>\n",
       "      <td>(non categorized)</td>\n",
       "      <td>Oath of Office Administered by Chief Justice E...</td>\n",
       "    </tr>\n",
       "    <tr>\n",
       "      <th>40723</th>\n",
       "      <td>Richard Nixon</td>\n",
       "      <td>Oral</td>\n",
       "      <td>Remarks</td>\n",
       "      <td>Your Majesty: You have visited our country man...</td>\n",
       "      <td>1971-05-27</td>\n",
       "      <td>3028.0</td>\n",
       "      <td>(non categorized)</td>\n",
       "      <td>186  - Remarks of Welcome to King Faisal ibn A...</td>\n",
       "    </tr>\n",
       "    <tr>\n",
       "      <th>44057</th>\n",
       "      <td>Ronald Reagan</td>\n",
       "      <td>Oral</td>\n",
       "      <td>Remarks</td>\n",
       "      <td>Well, I'm delighted to welcome you all here. T...</td>\n",
       "      <td>1984-04-02</td>\n",
       "      <td>39714.0</td>\n",
       "      <td>(non categorized)</td>\n",
       "      <td>Remarks on Meeting the Cherry Blossom Festival...</td>\n",
       "    </tr>\n",
       "    <tr>\n",
       "      <th>48525</th>\n",
       "      <td>Rutherford B. Hayes</td>\n",
       "      <td>Written</td>\n",
       "      <td>Messages</td>\n",
       "      <td>To the Senate of the United States: I transmit...</td>\n",
       "      <td>1877-11-27</td>\n",
       "      <td>68589.0</td>\n",
       "      <td>to Congress</td>\n",
       "      <td>Special Message</td>\n",
       "    </tr>\n",
       "    <tr>\n",
       "      <th>48922</th>\n",
       "      <td>Theodore Roosevelt</td>\n",
       "      <td>Written</td>\n",
       "      <td>Executive Orders</td>\n",
       "      <td>From and after January 1, 1901, all enlisted m...</td>\n",
       "      <td>1901-11-26</td>\n",
       "      <td>69693.0</td>\n",
       "      <td>None</td>\n",
       "      <td>Executive Order</td>\n",
       "    </tr>\n",
       "    <tr>\n",
       "      <th>48995</th>\n",
       "      <td>Theodore Roosevelt</td>\n",
       "      <td>Written</td>\n",
       "      <td>Executive Orders</td>\n",
       "      <td>Mrs. Edna K. Hoyt, who is temporarily employed...</td>\n",
       "      <td>1905-06-29</td>\n",
       "      <td>69639.0</td>\n",
       "      <td>None</td>\n",
       "      <td>Executive Order</td>\n",
       "    </tr>\n",
       "    <tr>\n",
       "      <th>55688</th>\n",
       "      <td>William J. Clinton</td>\n",
       "      <td>Written</td>\n",
       "      <td>Statements</td>\n",
       "      <td>Secretary Bentsen and I believe that Roger Alt...</td>\n",
       "      <td>1994-07-25</td>\n",
       "      <td>50545.0</td>\n",
       "      <td>(non categorized)</td>\n",
       "      <td>Statement on Deputy Secretary of the Treasury ...</td>\n",
       "    </tr>\n",
       "    <tr>\n",
       "      <th>55770</th>\n",
       "      <td>William J. Clinton</td>\n",
       "      <td>Written</td>\n",
       "      <td>Statements</td>\n",
       "      <td>This is good news for a Secretary of Transport...</td>\n",
       "      <td>1995-03-16</td>\n",
       "      <td>51113.0</td>\n",
       "      <td>(non categorized)</td>\n",
       "      <td>Statement on the Justice Department's Conclusi...</td>\n",
       "    </tr>\n",
       "    <tr>\n",
       "      <th>56024</th>\n",
       "      <td>William J. Clinton</td>\n",
       "      <td>Written</td>\n",
       "      <td>Statements</td>\n",
       "      <td>I have known and admired Dale Bumpers for over...</td>\n",
       "      <td>1997-06-14</td>\n",
       "      <td>54270.0</td>\n",
       "      <td>(non categorized)</td>\n",
       "      <td>Statement on Senator Dale Bumpers' Decision No...</td>\n",
       "    </tr>\n",
       "    <tr>\n",
       "      <th>56493</th>\n",
       "      <td>William J. Clinton</td>\n",
       "      <td>Written</td>\n",
       "      <td>Statements</td>\n",
       "      <td>I am very pleased by today's announcement conc...</td>\n",
       "      <td>1999-10-13</td>\n",
       "      <td>56705.0</td>\n",
       "      <td>(non categorized)</td>\n",
       "      <td>Statement on the Conclusion of the Independent...</td>\n",
       "    </tr>\n",
       "    <tr>\n",
       "      <th>56563</th>\n",
       "      <td>William J. Clinton</td>\n",
       "      <td>Written</td>\n",
       "      <td>Statements</td>\n",
       "      <td>I congratulate Ricardo Lagos on his victory in...</td>\n",
       "      <td>2000-01-17</td>\n",
       "      <td>58498.0</td>\n",
       "      <td>(non categorized)</td>\n",
       "      <td>Statement on the Election of Ricardo Lagos as ...</td>\n",
       "    </tr>\n",
       "    <tr>\n",
       "      <th>56657</th>\n",
       "      <td>William J. Clinton</td>\n",
       "      <td>Written</td>\n",
       "      <td>Statements</td>\n",
       "      <td>I am pleased with the decision today of the El...</td>\n",
       "      <td>2000-06-01</td>\n",
       "      <td>58575.0</td>\n",
       "      <td>(non categorized)</td>\n",
       "      <td>Statement on the Circuit Court of Appeals Deci...</td>\n",
       "    </tr>\n",
       "    <tr>\n",
       "      <th>56800</th>\n",
       "      <td>William J. Clinton</td>\n",
       "      <td>Written</td>\n",
       "      <td>Statements</td>\n",
       "      <td>I welcome this development and am hopeful that...</td>\n",
       "      <td>2000-11-01</td>\n",
       "      <td>1068.0</td>\n",
       "      <td>(non categorized)</td>\n",
       "      <td>Statement on the Israeli-Palestinian Announcem...</td>\n",
       "    </tr>\n",
       "  </tbody>\n",
       "</table>\n",
       "</div>"
      ],
      "text/plain": [
       "                   President     Type          category  \\\n",
       "181          Abraham Lincoln  Written          Messages   \n",
       "988           Andrew Johnson  Written          Messages   \n",
       "1142          Andrew Johnson  Written          Messages   \n",
       "6332            Barack Obama  Written        Statements   \n",
       "6823            Barack Obama  Written        Statements   \n",
       "6854            Barack Obama  Written        Statements   \n",
       "7460       Benjamin Harrison     Oral           Remarks   \n",
       "7544       Benjamin Harrison  Written          Messages   \n",
       "7596       Benjamin Harrison  Written          Messages   \n",
       "9071    Dwight D. Eisenhower     Oral           Remarks   \n",
       "12320  Franklin D. Roosevelt  Written  Executive Orders   \n",
       "13164  Franklin D. Roosevelt  Written           Letters   \n",
       "13695        Franklin Pierce  Written          Messages   \n",
       "13722        Franklin Pierce  Written          Messages   \n",
       "16580            George Bush  Written        Statements   \n",
       "17715         George W. Bush     Oral           Remarks   \n",
       "18600         George W. Bush     Oral           Remarks   \n",
       "18693         George W. Bush     Oral           Remarks   \n",
       "18818         George W. Bush     Oral           Remarks   \n",
       "18845         George W. Bush     Oral           Remarks   \n",
       "18974         George W. Bush     Oral           Remarks   \n",
       "22275         George W. Bush  Written        Statements   \n",
       "22341         George W. Bush  Written        Statements   \n",
       "22431         George W. Bush  Written        Statements   \n",
       "22575         George W. Bush  Written        Statements   \n",
       "22598         George W. Bush  Written        Statements   \n",
       "25485         Gerald R. Ford  Written        Statements   \n",
       "25930       Grover Cleveland  Written          Messages   \n",
       "26561        Harry S. Truman     Oral           Remarks   \n",
       "28670        Harry S. Truman  Written        Statements   \n",
       "29466         Herbert Hoover     Oral           Remarks   \n",
       "29667         Herbert Hoover     Oral  News Conferences   \n",
       "29841         Herbert Hoover  Written          Messages   \n",
       "30669      James A. Garfield  Written          Messages   \n",
       "30756         James Buchanan  Written          Messages   \n",
       "31118          James Madison  Written          Messages   \n",
       "34263           Jimmy Carter  Written           Letters   \n",
       "36040        John F. Kennedy  Written           Letters   \n",
       "36418             John Tyler  Written          Messages   \n",
       "36598      Lyndon B. Johnson     Oral           Remarks   \n",
       "37172      Lyndon B. Johnson     Oral           Remarks   \n",
       "39784      Lyndon B. Johnson  Written           Letters   \n",
       "39790      Lyndon B. Johnson  Written           Letters   \n",
       "39940       Martin van Buren  Written          Messages   \n",
       "40008       Martin van Buren  Written          Messages   \n",
       "40287       Millard Fillmore  Written          Messages   \n",
       "40370          Richard Nixon     Oral           Remarks   \n",
       "40723          Richard Nixon     Oral           Remarks   \n",
       "44057          Ronald Reagan     Oral           Remarks   \n",
       "48525    Rutherford B. Hayes  Written          Messages   \n",
       "48922     Theodore Roosevelt  Written  Executive Orders   \n",
       "48995     Theodore Roosevelt  Written  Executive Orders   \n",
       "55688     William J. Clinton  Written        Statements   \n",
       "55770     William J. Clinton  Written        Statements   \n",
       "56024     William J. Clinton  Written        Statements   \n",
       "56493     William J. Clinton  Written        Statements   \n",
       "56563     William J. Clinton  Written        Statements   \n",
       "56657     William J. Clinton  Written        Statements   \n",
       "56800     William J. Clinton  Written        Statements   \n",
       "\n",
       "                                                 content document_date  \\\n",
       "181    To the Senate of the United States: I transmit...    1864-01-29   \n",
       "988    To the Senate of the United States: I transmit...    1867-07-06   \n",
       "1142   To the House of Representatives of the United ...    1869-01-29   \n",
       "6332   On Sunday, many around the world will observe ...    2010-11-19   \n",
       "6823   For more than 40 years, from his service on th...    2015-11-13   \n",
       "6854   For more than 20 years, Representative Mark Ta...    2016-05-20   \n",
       "7460   It gives me pleasure to consummate here to-day...    1893-02-22   \n",
       "7544   To the Senate and House of Representatives: Th...    1891-02-13   \n",
       "7596   To the Senate: In response to the resolution o...    1892-12-07   \n",
       "9071   I AM VERY HAPPY, in the presence of this disti...    1954-05-13   \n",
       "12320  An Application having been duly made, pursuant...    1933-08-19   \n",
       "13164  It goes without saying that I in no way have c...    1933-10-19   \n",
       "13695  To the Senate of the United States: I transmit...    1856-08-12   \n",
       "13722  To the Senate of the United States: In answer ...    1857-02-04   \n",
       "16580  Today we are publishing rules that will allow ...    1992-08-04   \n",
       "17715  The President. [Inaudible]—the Prime Minister ...    2001-06-16   \n",
       "18600  All right. It has been my honor to welcome the...    2004-06-27   \n",
       "18693  President Bush. I've really been looking forwa...    2004-09-21   \n",
       "18818  CHIEF JUSTICE WILLIAM REHNQUIST: Will you rais...    2005-01-20   \n",
       "18845  I want to wish all the fellow citizens and the...    2005-03-27   \n",
       "18974  Generals, thanks—General Landreneau and Genera...    2005-10-11   \n",
       "22275  Senator Fred Thompson has served the people of...    2002-03-08   \n",
       "22341  I am very pleased that labor and management ha...    2002-11-24   \n",
       "22431  To win the war on terrorism, we are staying on...    2003-09-24   \n",
       "22575  I applaud the Congress for its work on the hom...    2005-10-07   \n",
       "22598  Laura and I share the concerns of the Israeli ...    2006-01-04   \n",
       "25485  THE United States views the fall of the Govern...    1975-04-17   \n",
       "25930  To the House of Representatives: I transmit he...    1897-01-08   \n",
       "26561  Mr. Prime Minister: It is a very great pleasur...    1951-09-24   \n",
       "28670  THE WORLD may be sure that we will prosecute t...    1945-04-12   \n",
       "29466  THE PRESIDENT. I am glad to have the opportuni...    1932-10-04   \n",
       "29667  THE PRESIDENT. There seems to be a lot of news...    1930-12-16   \n",
       "29841  [Released December 27, 1929. Dated November 12...    1929-12-27   \n",
       "30669  To the Senate of the United States: I transmit...    1881-05-20   \n",
       "30756  To the Senate of the United States. I transmit...    1859-03-01   \n",
       "31118  To the Senate and House of Representatives of ...    1814-10-13   \n",
       "34263  Dear Mr. Ambassador: I was delighted to learn ...    1980-04-27   \n",
       "36040  CONGRATULATIONS on your decisive primary victo...    1962-06-13   \n",
       "36418  To the Senate of the United States: I transmit...    1844-03-20   \n",
       "36598  SECRETARY RUSK has just made a very interestin...    1964-04-20   \n",
       "37172  I AM DELIGHTED to see all of you here at such ...    1966-11-08   \n",
       "39784  MRS. JOHNSON and I send our best wishes and wa...    1966-11-22   \n",
       "39790  YOU handled this superbly as you do all things...    1967-06-21   \n",
       "39940  To the House of Representatives of the United ...    1838-01-08   \n",
       "40008  To the Senate of the United States: I herewith...    1839-01-25   \n",
       "40287  To the Senate of the United States: In complia...    1853-02-03   \n",
       "40370  CHIEF JUSTICE EARL WARREN: Do you Richard Milh...    1969-01-20   \n",
       "40723  Your Majesty: You have visited our country man...    1971-05-27   \n",
       "44057  Well, I'm delighted to welcome you all here. T...    1984-04-02   \n",
       "48525  To the Senate of the United States: I transmit...    1877-11-27   \n",
       "48922  From and after January 1, 1901, all enlisted m...    1901-11-26   \n",
       "48995  Mrs. Edna K. Hoyt, who is temporarily employed...    1905-06-29   \n",
       "55688  Secretary Bentsen and I believe that Roger Alt...    1994-07-25   \n",
       "55770  This is good news for a Secretary of Transport...    1995-03-16   \n",
       "56024  I have known and admired Dale Bumpers for over...    1997-06-14   \n",
       "56493  I am very pleased by today's announcement conc...    1999-10-13   \n",
       "56563  I congratulate Ricardo Lagos on his victory in...    2000-01-17   \n",
       "56657  I am pleased with the decision today of the El...    2000-06-01   \n",
       "56800  I welcome this development and am hopeful that...    2000-11-01   \n",
       "\n",
       "            pid        subcategory  \\\n",
       "181     69939.0        to Congress   \n",
       "988     72108.0        to Congress   \n",
       "1142    72329.0        to Congress   \n",
       "6332    88737.0  (non categorized)   \n",
       "6823   111137.0  (non categorized)   \n",
       "6854   117420.0  (non categorized)   \n",
       "7460    76220.0  (non categorized)   \n",
       "7544    70992.0        to Congress   \n",
       "7596    71133.0        to Congress   \n",
       "9071     9887.0      Bill Signings   \n",
       "12320   14506.0               None   \n",
       "13164   14533.0  (non categorized)   \n",
       "13695   67725.0        to Congress   \n",
       "13722   67770.0        to Congress   \n",
       "16580   21296.0  (non categorized)   \n",
       "17715   45976.0  (non categorized)   \n",
       "18600   63085.0  (non categorized)   \n",
       "18693   72756.0  (non categorized)   \n",
       "18818   77408.0  (non categorized)   \n",
       "18845   63106.0  (non categorized)   \n",
       "18974   64482.0  (non categorized)   \n",
       "22275   64195.0  (non categorized)   \n",
       "22341   64370.0  (non categorized)   \n",
       "22431   63694.0  (non categorized)   \n",
       "22575   73818.0  (non categorized)   \n",
       "22598   65111.0  (non categorized)   \n",
       "25485    4840.0  (non categorized)   \n",
       "25930   70812.0        to Congress   \n",
       "26561   13923.0  (non categorized)   \n",
       "28670   12390.0  (non categorized)   \n",
       "29466   23270.0  (non categorized)   \n",
       "29667   22483.0               None   \n",
       "29841   22055.0  (non categorized)   \n",
       "30669   69144.0        to Congress   \n",
       "30756   68372.0        to Congress   \n",
       "31118   65972.0        to Congress   \n",
       "34263   33332.0  (non categorized)   \n",
       "36040    8716.0        to Congress   \n",
       "36418   67421.0        to Congress   \n",
       "36598   26170.0  (non categorized)   \n",
       "37172   28005.0  (non categorized)   \n",
       "39784   28043.0  (non categorized)   \n",
       "39790   28309.0  (non categorized)   \n",
       "39940   67205.0        to Congress   \n",
       "40008   67306.0        to Congress   \n",
       "40287   68264.0        to Congress   \n",
       "40370   77405.0  (non categorized)   \n",
       "40723    3028.0  (non categorized)   \n",
       "44057   39714.0  (non categorized)   \n",
       "48525   68589.0        to Congress   \n",
       "48922   69693.0               None   \n",
       "48995   69639.0               None   \n",
       "55688   50545.0  (non categorized)   \n",
       "55770   51113.0  (non categorized)   \n",
       "56024   54270.0  (non categorized)   \n",
       "56493   56705.0  (non categorized)   \n",
       "56563   58498.0  (non categorized)   \n",
       "56657   58575.0  (non categorized)   \n",
       "56800    1068.0  (non categorized)   \n",
       "\n",
       "                                                   title  \n",
       "181                                      Special Message  \n",
       "988                                      Special Message  \n",
       "1142                                     Special Message  \n",
       "6332   Statement on the Anniversary of the Birth of t...  \n",
       "6823   806  - Statement on Representative Samuel S. F...  \n",
       "6854   337  - Statement on Representative K. Mark Tak...  \n",
       "7460   Remarks Hoisting the Flag on the Steamship New...  \n",
       "7544   Message to Congress Announcing the Death of Ad...  \n",
       "7596                                     Special Message  \n",
       "9071   110  - Remarks Upon Signing the St. Lawrence S...  \n",
       "12320  129  - Executive Order 6254. Approval of an N....  \n",
       "13164  153  - Telegram to Great Lakes Harbors Associa...  \n",
       "13695                                    Special Message  \n",
       "13722                                    Special Message  \n",
       "16580  Statement on Publication of Rules Allowing Par...  \n",
       "17715  Remarks Prior to Discussions With Prime Minist...  \n",
       "18600  Remarks Following Discussions With Religious L...  \n",
       "18693  Remarks Prior to Discussions With Prime Minist...  \n",
       "18818  Oath of Office Administered by Chief Justice W...  \n",
       "18845           Remarks to Reporters at Fort Hood, Texas  \n",
       "18974  Remarks at the Joint Reserve Base at the U.S. ...  \n",
       "22275  Statement on Senator Fred Thompson's Decision ...  \n",
       "22341        Statement on the West Coast Ports Agreement  \n",
       "22431  Statement on Congressional Passage of the Depa...  \n",
       "22575  Statement on Congressional Action on Homeland ...  \n",
       "22598  Statement on the Health of Prime Minister Arie...  \n",
       "25485  191  - Statement on the Fall of the Cambodian ...  \n",
       "25930                                    Special Message  \n",
       "26561  231  - Remarks of Welcome at Union Station Pla...  \n",
       "28670  1  - Statement by the President After Taking t...  \n",
       "29466  323  - Remarks at the Shrine Auditorium in Des...  \n",
       "29667             412  - The President's News Conference  \n",
       "29841  325  - Message Contributed to a Symposium on t...  \n",
       "30669                                    Special Message  \n",
       "30756                                    Special Message  \n",
       "31118                                    Special Message  \n",
       "34263  Hostages in the Dominican Republic Embassy in ...  \n",
       "36040  241  - Telegram to Senator Johnston following ...  \n",
       "36418                                    Special Message  \n",
       "36598  274  - Remarks on Introducing Secretary Rusk t...  \n",
       "37172  590  - The President's Remarks Upon Casting Hi...  \n",
       "39784  624  - Birthday Telegram to Former Vice Presid...  \n",
       "39790  273  - The President's Telegram to His Daughte...  \n",
       "39940                                    Special Message  \n",
       "40008                                    Special Message  \n",
       "40287                                    Special Message  \n",
       "40370  Oath of Office Administered by Chief Justice E...  \n",
       "40723  186  - Remarks of Welcome to King Faisal ibn A...  \n",
       "44057  Remarks on Meeting the Cherry Blossom Festival...  \n",
       "48525                                    Special Message  \n",
       "48922                                    Executive Order  \n",
       "48995                                    Executive Order  \n",
       "55688  Statement on Deputy Secretary of the Treasury ...  \n",
       "55770  Statement on the Justice Department's Conclusi...  \n",
       "56024  Statement on Senator Dale Bumpers' Decision No...  \n",
       "56493  Statement on the Conclusion of the Independent...  \n",
       "56563  Statement on the Election of Ricardo Lagos as ...  \n",
       "56657  Statement on the Circuit Court of Appeals Deci...  \n",
       "56800  Statement on the Israeli-Palestinian Announcem...  "
      ]
     },
     "execution_count": 213,
     "metadata": {},
     "output_type": "execute_result"
    }
   ],
   "source": [
    "tmp"
   ]
  },
  {
   "cell_type": "code",
   "execution_count": 218,
   "metadata": {},
   "outputs": [
    {
     "data": {
      "text/plain": [
       "['To the Senate of the United States: I transmit herewith a report of the Secretary of State, with accompanying papers, submitted in response to the Senate resolution of the 12th ultimo, touching the case of Michael P. Boyton.*JAMES A. GARFIELD *Arrested and imprisoned by authorities of Great Britain.']"
      ]
     },
     "execution_count": 218,
     "metadata": {},
     "output_type": "execute_result"
    }
   ],
   "source": [
    "list(tmp[tmp.index==30669].content)"
   ]
  },
  {
   "cell_type": "code",
   "execution_count": 233,
   "metadata": {},
   "outputs": [
    {
     "data": {
      "text/plain": [
       "'Test'"
      ]
     },
     "execution_count": 233,
     "metadata": {},
     "output_type": "execute_result"
    }
   ],
   "source": [
    "'test'.capitalize()"
   ]
  },
  {
   "cell_type": "code",
   "execution_count": null,
   "metadata": {
    "collapsed": true
   },
   "outputs": [],
   "source": []
  }
 ],
 "metadata": {
  "kernelspec": {
   "display_name": "Python 3",
   "language": "python",
   "name": "python3"
  },
  "language_info": {
   "codemirror_mode": {
    "name": "ipython",
    "version": 3
   },
   "file_extension": ".py",
   "mimetype": "text/x-python",
   "name": "python",
   "nbconvert_exporter": "python",
   "pygments_lexer": "ipython3",
   "version": "3.6.4"
  },
  "varInspector": {
   "cols": {
    "lenName": 16,
    "lenType": 16,
    "lenVar": 40
   },
   "kernels_config": {
    "python": {
     "delete_cmd_postfix": "",
     "delete_cmd_prefix": "del ",
     "library": "var_list.py",
     "varRefreshCmd": "print(var_dic_list())"
    },
    "r": {
     "delete_cmd_postfix": ") ",
     "delete_cmd_prefix": "rm(",
     "library": "var_list.r",
     "varRefreshCmd": "cat(var_dic_list()) "
    }
   },
   "types_to_exclude": [
    "module",
    "function",
    "builtin_function_or_method",
    "instance",
    "_Feature"
   ],
   "window_display": false
  }
 },
 "nbformat": 4,
 "nbformat_minor": 2
}
