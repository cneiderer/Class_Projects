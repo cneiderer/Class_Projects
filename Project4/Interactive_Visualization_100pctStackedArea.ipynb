{
 "cells": [
  {
   "cell_type": "code",
   "execution_count": 1,
   "metadata": {},
   "outputs": [
    {
     "name": "stderr",
     "output_type": "stream",
     "text": [
      "/home/cneiderer/anaconda3/lib/python3.6/site-packages/scipy/sparse/sparsetools.py:20: DeprecationWarning: `scipy.sparse.sparsetools` is deprecated!\n",
      "scipy.sparse.sparsetools is a private module for scipy.sparse, and should not be used.\n",
      "  _deprecated()\n"
     ]
    }
   ],
   "source": [
    "import pandas as pd\n",
    "import numpy as np\n",
    "import matplotlib.pyplot as plt\n",
    "from matplotlib.colors import LinearSegmentedColormap\n",
    "import seaborn as sns\n",
    "import pyLDAvis\n",
    "import pyLDAvis.sklearn\n",
    "\n",
    "import re\n",
    "from tqdm import tqdm\n",
    "from tqdm import tnrange\n",
    "from tqdm import tqdm_notebook\n",
    "from wordcloud import WordCloud\n",
    "\n",
    "import nltk\n",
    "from sklearn.feature_extraction.text import TfidfVectorizer\n",
    "from sklearn.feature_extraction.text import CountVectorizer\n",
    "from sklearn.decomposition import LatentDirichletAllocation\n",
    "from sklearn.decomposition import NMF\n",
    "from sklearn.feature_extraction import stop_words as sklearn_stopwords\n",
    "from sklearn.decomposition import TruncatedSVD\n",
    "from sklearn.cluster import KMeans\n",
    "from sklearn.cluster import AgglomerativeClustering\n",
    "from sklearn.cluster import DBSCAN\n",
    "from sklearn.metrics import silhouette_score\n",
    "from sklearn.manifold import TSNE\n",
    "\n",
    "from gensim import corpora\n",
    "from gensim import models\n",
    "from gensim import similarities\n",
    "from gensim import matutils\n",
    "from gensim.parsing.preprocessing import STOPWORDS as gensim_stopwords\n",
    "\n",
    "from nltk.sentiment.vader import SentimentIntensityAnalyzer\n",
    "from nltk.corpus import stopwords as nltk_stopwords\n",
    "from nltk.tokenize import sent_tokenize\n",
    "from nltk.tokenize import word_tokenize\n",
    "from nltk.stem.porter import PorterStemmer\n",
    "\n",
    "import pickle\n",
    "from pymongo import MongoClient\n",
    "from bson import json_util"
   ]
  },
  {
   "cell_type": "code",
   "execution_count": 2,
   "metadata": {
    "collapsed": true
   },
   "outputs": [],
   "source": [
    "%matplotlib inline\n",
    "pyLDAvis.enable_notebook()\n",
    "# custom_style = {'axes.labelcolor': 'white',\n",
    "#                 'xtick.color': 'white',\n",
    "#                 'ytick.color': 'white'}\n",
    "# sns.set_style(\"darkgrid\", rc=custom_style)"
   ]
  },
  {
   "cell_type": "code",
   "execution_count": 44,
   "metadata": {
    "collapsed": true
   },
   "outputs": [],
   "source": [
    "import plotly.plotly as py\n",
    "import plotly.graph_objs as go\n",
    "import cufflinks as cf\n",
    "import pandas as pd\n",
    "import numpy as np\n",
    "\n",
    "import plotly\n",
    "import json\n",
    "credentials = json.load(open('/home/cneiderer/.plotly/.credentials'))\n",
    "plotly.tools.set_credentials_file(username=credentials['username'], api_key=credentials['api_key'])"
   ]
  },
  {
   "cell_type": "markdown",
   "metadata": {},
   "source": [
    "### Presidents List"
   ]
  },
  {
   "cell_type": "code",
   "execution_count": 4,
   "metadata": {
    "collapsed": true
   },
   "outputs": [],
   "source": [
    "pres_list = pd.read_csv('https://gist.githubusercontent.com/namuol/2657233/raw/74135b2637e624848c163759be9cd14ae33f5153/presidents.csv')"
   ]
  },
  {
   "cell_type": "markdown",
   "metadata": {},
   "source": [
    "### JSON-Pandas Stuff"
   ]
  },
  {
   "cell_type": "code",
   "execution_count": 5,
   "metadata": {
    "collapsed": true
   },
   "outputs": [],
   "source": [
    "json_file = '/home/cneiderer/Downloads/presidency.json'"
   ]
  },
  {
   "cell_type": "code",
   "execution_count": 6,
   "metadata": {
    "collapsed": true
   },
   "outputs": [],
   "source": [
    "# Load presidential json data into df\n",
    "pres_df = pd.read_json(json_file)\n",
    "# Convert from wide to long format\n",
    "pres_df = pres_df.T\n",
    "# Subset data on oral and written speeches\n",
    "pres_df = pres_df[['Oral', 'Written']]"
   ]
  },
  {
   "cell_type": "code",
   "execution_count": 7,
   "metadata": {},
   "outputs": [
    {
     "data": {
      "application/vnd.jupyter.widget-view+json": {
       "model_id": "f828bd2acfdf426286b356c6b66c3b42",
       "version_major": 2,
       "version_minor": 0
      },
      "text/plain": [
       "A Jupyter Widget"
      ]
     },
     "metadata": {},
     "output_type": "display_data"
    },
    {
     "data": {
      "application/vnd.jupyter.widget-view+json": {
       "model_id": "6d37dc23e8ab423e8833970cb6818121",
       "version_major": 2,
       "version_minor": 0
      },
      "text/plain": [
       "A Jupyter Widget"
      ]
     },
     "metadata": {},
     "output_type": "display_data"
    },
    {
     "data": {
      "application/vnd.jupyter.widget-view+json": {
       "model_id": "fb6d268e3d544f4c8a0a2f7d314309bc",
       "version_major": 2,
       "version_minor": 0
      },
      "text/plain": [
       "A Jupyter Widget"
      ]
     },
     "metadata": {},
     "output_type": "display_data"
    },
    {
     "data": {
      "application/vnd.jupyter.widget-view+json": {
       "model_id": "9ff861417309498fbec9d019ae725275",
       "version_major": 2,
       "version_minor": 0
      },
      "text/plain": [
       "A Jupyter Widget"
      ]
     },
     "metadata": {},
     "output_type": "display_data"
    },
    {
     "data": {
      "application/vnd.jupyter.widget-view+json": {
       "model_id": "b6c2404da5224c9ba0a77bb87b8ba471",
       "version_major": 2,
       "version_minor": 0
      },
      "text/plain": [
       "A Jupyter Widget"
      ]
     },
     "metadata": {},
     "output_type": "display_data"
    },
    {
     "data": {
      "application/vnd.jupyter.widget-view+json": {
       "model_id": "0d818e469d4749db94a303979792138a",
       "version_major": 2,
       "version_minor": 0
      },
      "text/plain": [
       "A Jupyter Widget"
      ]
     },
     "metadata": {},
     "output_type": "display_data"
    },
    {
     "data": {
      "application/vnd.jupyter.widget-view+json": {
       "model_id": "d4dd997bfe8e4f559a4747c4c4cf569a",
       "version_major": 2,
       "version_minor": 0
      },
      "text/plain": [
       "A Jupyter Widget"
      ]
     },
     "metadata": {},
     "output_type": "display_data"
    },
    {
     "data": {
      "application/vnd.jupyter.widget-view+json": {
       "model_id": "8a8c17bbd98746b1a38ae08469025c27",
       "version_major": 2,
       "version_minor": 0
      },
      "text/plain": [
       "A Jupyter Widget"
      ]
     },
     "metadata": {},
     "output_type": "display_data"
    },
    {
     "data": {
      "application/vnd.jupyter.widget-view+json": {
       "model_id": "b6f7121c976048c9ab0ddd046f4ec2c7",
       "version_major": 2,
       "version_minor": 0
      },
      "text/plain": [
       "A Jupyter Widget"
      ]
     },
     "metadata": {},
     "output_type": "display_data"
    },
    {
     "data": {
      "application/vnd.jupyter.widget-view+json": {
       "model_id": "97b7ca0a08b4478ba80f970ec0a31b24",
       "version_major": 2,
       "version_minor": 0
      },
      "text/plain": [
       "A Jupyter Widget"
      ]
     },
     "metadata": {},
     "output_type": "display_data"
    },
    {
     "data": {
      "application/vnd.jupyter.widget-view+json": {
       "model_id": "02479de4346b41239817f759ce8c85f7",
       "version_major": 2,
       "version_minor": 0
      },
      "text/plain": [
       "A Jupyter Widget"
      ]
     },
     "metadata": {},
     "output_type": "display_data"
    },
    {
     "data": {
      "application/vnd.jupyter.widget-view+json": {
       "model_id": "c163b6364e9a4df396e683d93adad32a",
       "version_major": 2,
       "version_minor": 0
      },
      "text/plain": [
       "A Jupyter Widget"
      ]
     },
     "metadata": {},
     "output_type": "display_data"
    },
    {
     "data": {
      "application/vnd.jupyter.widget-view+json": {
       "model_id": "5924272dc7324263ab7c495d3937db00",
       "version_major": 2,
       "version_minor": 0
      },
      "text/plain": [
       "A Jupyter Widget"
      ]
     },
     "metadata": {},
     "output_type": "display_data"
    },
    {
     "data": {
      "application/vnd.jupyter.widget-view+json": {
       "model_id": "cd1b7c7fd6ad436eb9b92a344b35bbee",
       "version_major": 2,
       "version_minor": 0
      },
      "text/plain": [
       "A Jupyter Widget"
      ]
     },
     "metadata": {},
     "output_type": "display_data"
    },
    {
     "data": {
      "application/vnd.jupyter.widget-view+json": {
       "model_id": "801edee9b3e242cdadc8c95978fc8b6f",
       "version_major": 2,
       "version_minor": 0
      },
      "text/plain": [
       "A Jupyter Widget"
      ]
     },
     "metadata": {},
     "output_type": "display_data"
    },
    {
     "data": {
      "application/vnd.jupyter.widget-view+json": {
       "model_id": "c1360eca1f0a42d2bce5ac2c812c1937",
       "version_major": 2,
       "version_minor": 0
      },
      "text/plain": [
       "A Jupyter Widget"
      ]
     },
     "metadata": {},
     "output_type": "display_data"
    },
    {
     "data": {
      "application/vnd.jupyter.widget-view+json": {
       "model_id": "9aa869c9412f4466a3437e7a5d4d491c",
       "version_major": 2,
       "version_minor": 0
      },
      "text/plain": [
       "A Jupyter Widget"
      ]
     },
     "metadata": {},
     "output_type": "display_data"
    },
    {
     "data": {
      "application/vnd.jupyter.widget-view+json": {
       "model_id": "632836486dd6407b86016d3b913cfdb8",
       "version_major": 2,
       "version_minor": 0
      },
      "text/plain": [
       "A Jupyter Widget"
      ]
     },
     "metadata": {},
     "output_type": "display_data"
    },
    {
     "data": {
      "application/vnd.jupyter.widget-view+json": {
       "model_id": "be0b107a40994652b4664c3071b7a1dc",
       "version_major": 2,
       "version_minor": 0
      },
      "text/plain": [
       "A Jupyter Widget"
      ]
     },
     "metadata": {},
     "output_type": "display_data"
    },
    {
     "data": {
      "application/vnd.jupyter.widget-view+json": {
       "model_id": "96cfe988c7074899877f430eaef802e4",
       "version_major": 2,
       "version_minor": 0
      },
      "text/plain": [
       "A Jupyter Widget"
      ]
     },
     "metadata": {},
     "output_type": "display_data"
    },
    {
     "data": {
      "application/vnd.jupyter.widget-view+json": {
       "model_id": "c20047f13dbd425184d9e91f9b6f32ff",
       "version_major": 2,
       "version_minor": 0
      },
      "text/plain": [
       "A Jupyter Widget"
      ]
     },
     "metadata": {},
     "output_type": "display_data"
    },
    {
     "data": {
      "application/vnd.jupyter.widget-view+json": {
       "model_id": "61bc12c8c83b40dbab6e51c7b1cf64f8",
       "version_major": 2,
       "version_minor": 0
      },
      "text/plain": [
       "A Jupyter Widget"
      ]
     },
     "metadata": {},
     "output_type": "display_data"
    },
    {
     "data": {
      "application/vnd.jupyter.widget-view+json": {
       "model_id": "dff5f85fdb6a4f78bd21d1ec13fe5c14",
       "version_major": 2,
       "version_minor": 0
      },
      "text/plain": [
       "A Jupyter Widget"
      ]
     },
     "metadata": {},
     "output_type": "display_data"
    },
    {
     "data": {
      "application/vnd.jupyter.widget-view+json": {
       "model_id": "f8e788ff2a2946e4a724cc1db6b2af98",
       "version_major": 2,
       "version_minor": 0
      },
      "text/plain": [
       "A Jupyter Widget"
      ]
     },
     "metadata": {},
     "output_type": "display_data"
    },
    {
     "data": {
      "application/vnd.jupyter.widget-view+json": {
       "model_id": "67a9b91462c34559ba54c621b2c62065",
       "version_major": 2,
       "version_minor": 0
      },
      "text/plain": [
       "A Jupyter Widget"
      ]
     },
     "metadata": {},
     "output_type": "display_data"
    },
    {
     "data": {
      "application/vnd.jupyter.widget-view+json": {
       "model_id": "4a40325507bb43e8b3f510f844852527",
       "version_major": 2,
       "version_minor": 0
      },
      "text/plain": [
       "A Jupyter Widget"
      ]
     },
     "metadata": {},
     "output_type": "display_data"
    },
    {
     "data": {
      "application/vnd.jupyter.widget-view+json": {
       "model_id": "fed2513ae384406bae1c9290413c0f7f",
       "version_major": 2,
       "version_minor": 0
      },
      "text/plain": [
       "A Jupyter Widget"
      ]
     },
     "metadata": {},
     "output_type": "display_data"
    },
    {
     "data": {
      "application/vnd.jupyter.widget-view+json": {
       "model_id": "168eda4d07454b5db7af4f83d29bf7e4",
       "version_major": 2,
       "version_minor": 0
      },
      "text/plain": [
       "A Jupyter Widget"
      ]
     },
     "metadata": {},
     "output_type": "display_data"
    },
    {
     "data": {
      "application/vnd.jupyter.widget-view+json": {
       "model_id": "df2c7b6bb9fe47ed917a566fc579359d",
       "version_major": 2,
       "version_minor": 0
      },
      "text/plain": [
       "A Jupyter Widget"
      ]
     },
     "metadata": {},
     "output_type": "display_data"
    },
    {
     "data": {
      "application/vnd.jupyter.widget-view+json": {
       "model_id": "91212710800848d99bd599532d9adb72",
       "version_major": 2,
       "version_minor": 0
      },
      "text/plain": [
       "A Jupyter Widget"
      ]
     },
     "metadata": {},
     "output_type": "display_data"
    },
    {
     "data": {
      "application/vnd.jupyter.widget-view+json": {
       "model_id": "1daba342208746faa8ba4659a670a1d4",
       "version_major": 2,
       "version_minor": 0
      },
      "text/plain": [
       "A Jupyter Widget"
      ]
     },
     "metadata": {},
     "output_type": "display_data"
    },
    {
     "data": {
      "application/vnd.jupyter.widget-view+json": {
       "model_id": "aff9687b7c074c36b40f9324e84e6024",
       "version_major": 2,
       "version_minor": 0
      },
      "text/plain": [
       "A Jupyter Widget"
      ]
     },
     "metadata": {},
     "output_type": "display_data"
    },
    {
     "data": {
      "application/vnd.jupyter.widget-view+json": {
       "model_id": "82549b153ea049e8a8944b34f77d7c8b",
       "version_major": 2,
       "version_minor": 0
      },
      "text/plain": [
       "A Jupyter Widget"
      ]
     },
     "metadata": {},
     "output_type": "display_data"
    },
    {
     "data": {
      "application/vnd.jupyter.widget-view+json": {
       "model_id": "9eb484d919784b4aae4f26caffddd9e9",
       "version_major": 2,
       "version_minor": 0
      },
      "text/plain": [
       "A Jupyter Widget"
      ]
     },
     "metadata": {},
     "output_type": "display_data"
    },
    {
     "data": {
      "application/vnd.jupyter.widget-view+json": {
       "model_id": "d79653f295284139abbe7110a983a1a0",
       "version_major": 2,
       "version_minor": 0
      },
      "text/plain": [
       "A Jupyter Widget"
      ]
     },
     "metadata": {},
     "output_type": "display_data"
    },
    {
     "data": {
      "application/vnd.jupyter.widget-view+json": {
       "model_id": "cb85bc0284f041ee8e5e218af9779cf8",
       "version_major": 2,
       "version_minor": 0
      },
      "text/plain": [
       "A Jupyter Widget"
      ]
     },
     "metadata": {},
     "output_type": "display_data"
    },
    {
     "data": {
      "application/vnd.jupyter.widget-view+json": {
       "model_id": "ca5f3acfbb6e438daea8ec00a1b7c826",
       "version_major": 2,
       "version_minor": 0
      },
      "text/plain": [
       "A Jupyter Widget"
      ]
     },
     "metadata": {},
     "output_type": "display_data"
    },
    {
     "data": {
      "application/vnd.jupyter.widget-view+json": {
       "model_id": "86661fc6a076411593d42d41b67babdf",
       "version_major": 2,
       "version_minor": 0
      },
      "text/plain": [
       "A Jupyter Widget"
      ]
     },
     "metadata": {},
     "output_type": "display_data"
    },
    {
     "data": {
      "application/vnd.jupyter.widget-view+json": {
       "model_id": "48f20b800dfc45eea935f7cdd322dafc",
       "version_major": 2,
       "version_minor": 0
      },
      "text/plain": [
       "A Jupyter Widget"
      ]
     },
     "metadata": {},
     "output_type": "display_data"
    },
    {
     "data": {
      "application/vnd.jupyter.widget-view+json": {
       "model_id": "5c5777f2f3374480ab9f451b6fd947be",
       "version_major": 2,
       "version_minor": 0
      },
      "text/plain": [
       "A Jupyter Widget"
      ]
     },
     "metadata": {},
     "output_type": "display_data"
    },
    {
     "data": {
      "application/vnd.jupyter.widget-view+json": {
       "model_id": "f1858c0e150f448aa61176a31e101d1c",
       "version_major": 2,
       "version_minor": 0
      },
      "text/plain": [
       "A Jupyter Widget"
      ]
     },
     "metadata": {},
     "output_type": "display_data"
    },
    {
     "data": {
      "application/vnd.jupyter.widget-view+json": {
       "model_id": "5f6025db7dd4489da8b7568b57729634",
       "version_major": 2,
       "version_minor": 0
      },
      "text/plain": [
       "A Jupyter Widget"
      ]
     },
     "metadata": {},
     "output_type": "display_data"
    },
    {
     "data": {
      "application/vnd.jupyter.widget-view+json": {
       "model_id": "dcfd21428645474cb7e955b7bc75abb5",
       "version_major": 2,
       "version_minor": 0
      },
      "text/plain": [
       "A Jupyter Widget"
      ]
     },
     "metadata": {},
     "output_type": "display_data"
    },
    {
     "data": {
      "application/vnd.jupyter.widget-view+json": {
       "model_id": "090bd97d8b814e7d8fb599d2c98e451a",
       "version_major": 2,
       "version_minor": 0
      },
      "text/plain": [
       "A Jupyter Widget"
      ]
     },
     "metadata": {},
     "output_type": "display_data"
    },
    {
     "name": "stdout",
     "output_type": "stream",
     "text": [
      "\n"
     ]
    }
   ],
   "source": [
    "# Transform into more usable format\n",
    "df = pd.DataFrame()\n",
    "for idx in tnrange(len(pres_df.index)):\n",
    "    pres = pres_df.index[idx]\n",
    "    pres_data = pres_df.loc[pres]\n",
    "    \n",
    "    speech_type = ['Oral', 'Written']\n",
    "    for jdx in tnrange(len(speech_type)):\n",
    "        tmp_df = pd.DataFrame.from_dict(pres_df.loc[pres][speech_type[jdx]])\n",
    "        tmp_df.insert(0, 'President', pres)\n",
    "        tmp_df.insert(1, 'Type', speech_type[jdx])\n",
    "        try:\n",
    "            tmp_df.document_date = pd.to_datetime(tmp_df.document_date)\n",
    "        except:\n",
    "            tmp_df.document_data = pd.to_datetime('20500101')\n",
    "        df = pd.concat([df, tmp_df], axis=0)\n",
    "df.index = range(0, df.shape[0])        "
   ]
  },
  {
   "cell_type": "code",
   "execution_count": 8,
   "metadata": {},
   "outputs": [
    {
     "name": "stdout",
     "output_type": "stream",
     "text": [
      "<class 'pandas.core.frame.DataFrame'>\n",
      "RangeIndex: 58595 entries, 0 to 58594\n",
      "Data columns (total 8 columns):\n",
      "President        58595 non-null object\n",
      "Type             58595 non-null object\n",
      "category         58595 non-null object\n",
      "content          58595 non-null object\n",
      "document_date    58595 non-null datetime64[ns]\n",
      "pid              58595 non-null float64\n",
      "subcategory      41464 non-null object\n",
      "title            58595 non-null object\n",
      "dtypes: datetime64[ns](1), float64(1), object(6)\n",
      "memory usage: 3.6+ MB\n"
     ]
    }
   ],
   "source": [
    "df.info()"
   ]
  },
  {
   "cell_type": "markdown",
   "metadata": {},
   "source": [
    "### Clean Corpus"
   ]
  },
  {
   "cell_type": "code",
   "execution_count": 9,
   "metadata": {
    "collapsed": true
   },
   "outputs": [],
   "source": [
    "corpus = df['content']"
   ]
  },
  {
   "cell_type": "code",
   "execution_count": 10,
   "metadata": {},
   "outputs": [
    {
     "data": {
      "text/plain": [
       "58595"
      ]
     },
     "execution_count": 10,
     "metadata": {},
     "output_type": "execute_result"
    }
   ],
   "source": [
    "len(corpus)"
   ]
  },
  {
   "cell_type": "code",
   "execution_count": 11,
   "metadata": {},
   "outputs": [
    {
     "data": {
      "text/plain": [
       "58595"
      ]
     },
     "execution_count": 11,
     "metadata": {},
     "output_type": "execute_result"
    }
   ],
   "source": [
    "# clean and stem presidential addresses\n",
    "clean_corpus = []\n",
    "punctuation = re.compile(r\"[!#$%&\\'\\\"()\\*\\+,-\\./:;<=>\\?@\\[\\\\\\]^_`{\\|}~]\")\n",
    "# house_senate_opening = re.compile('''to\\s+the\\s+(?:senate|house\\s+of\\s+representatives|)\n",
    "#                                      (\\s+and\\s+)*(?:senate|house\\s+of\\s+representatives|house)*''')\n",
    "for doc in corpus:\n",
    "    temp = doc.lower()\n",
    "    temp = re.sub(r'\\n', ' ', temp)\n",
    "    temp = re.sub(r'united\\s+states', ' ', temp)\n",
    "    temp = re.sub(r'mr.\\s+(vice)?president', ' ', temp)\n",
    "    temp = re.sub(r'(?:mr\\.|madam)\\s+speaker', ' ', temp)\n",
    "    temp = re.sub(r'americaa', 'america', temp)\n",
    "    temp = re.sub(r'special\\s+message', ' ', temp)\n",
    "    temp = re.sub(r'executive\\s+order', ' ', temp)\n",
    "    temp = re.sub(r'statement\\s+on\\s+the', ' ', temp)\n",
    "    temp = re.sub(r'section\\s+\\d+', ' ', temp)\n",
    "#     temp = re.sub(house_senate_opening, temp)\n",
    "    temp = re.sub(r'[^A-Za-z]+', ' ', temp)\n",
    "    temp = re.sub(punctuation, ' ', temp)\n",
    "    \n",
    "#     temp = word_tokenize(temp)\n",
    "#     lemma = []\n",
    "#     for word in temp:\n",
    "#         lemma.append(stemmer.stem(word))\n",
    "#     temp = ' '.join(clean_corpus[0])\n",
    "    \n",
    "    clean_corpus.append(temp)\n",
    "    \n",
    "len(clean_corpus)"
   ]
  },
  {
   "cell_type": "code",
   "execution_count": 12,
   "metadata": {
    "collapsed": true
   },
   "outputs": [],
   "source": [
    "# Combine Sklearn and NLTK English stop words\n",
    "months_list = ['january', 'jan', 'february', 'feb', 'march', 'mar', 'april', 'apr', 'may', 'june', 'jun', \n",
    "               'july', 'jul', 'august', 'aug', 'september', 'sept', 'october', 'oct', 'november', 'nov', 'december', 'dec']\n",
    "custom_stopwords = ['hereunto', 'whereof', 'thereof', 'nineteen', 'said', 'herewith', 'shall', 'say', 'like',\n",
    "                    'mr', 'mrs', 'sir', 'dear', 'george', 'bush', 'william', 'thirty', 'lot', 'want', 'let', \n",
    "                    'sure', 'way', 'section', 'act', 'answer', 'laughter', 'great', 'good', 'things', 'thing',\n",
    "                    'going', 'know', 'day', 'new', 'make', 'got', 'yes', 'year', 'week', 'sec', 'obama', 'john'] + months_list\n",
    "\n",
    "stopwords = sklearn_stopwords.ENGLISH_STOP_WORDS \\\n",
    "            .union(nltk_stopwords.words('english')) \\\n",
    "            .union(gensim_stopwords) \\\n",
    "            .union(custom_stopwords)"
   ]
  },
  {
   "cell_type": "code",
   "execution_count": 13,
   "metadata": {
    "collapsed": true
   },
   "outputs": [],
   "source": [
    "# Helper Function\n",
    "def print_top_words(model, feature_names, n_top_words):\n",
    "    for topic_idx, topic in enumerate(model.components_):\n",
    "        print(\"Topic #%d:\" % topic_idx)\n",
    "        print(\" \".join([feature_names[i] for i in topic.argsort()[:-n_top_words-1:-1]]), '\\n')\n",
    "    print()"
   ]
  },
  {
   "cell_type": "code",
   "execution_count": 14,
   "metadata": {
    "collapsed": true
   },
   "outputs": [],
   "source": [
    "n_features = 1000\n",
    "n_topics = 20\n",
    "n_top_words = 20\n",
    "seed = 129"
   ]
  },
  {
   "cell_type": "code",
   "execution_count": 15,
   "metadata": {},
   "outputs": [
    {
     "data": {
      "text/plain": [
       "dict_keys(['tf_vectorizer', 'dtm_tf', 'lda_tf', 'lda_vis', 'lda_tm'])"
      ]
     },
     "execution_count": 15,
     "metadata": {},
     "output_type": "execute_result"
    }
   ],
   "source": [
    "pickle_file = 'APP_lda_results.pickle'\n",
    "with open(pickle_file, 'rb') as f:\n",
    "    data = pickle.load(f)\n",
    "data.keys()"
   ]
  },
  {
   "cell_type": "code",
   "execution_count": 16,
   "metadata": {
    "collapsed": true
   },
   "outputs": [],
   "source": [
    "tf_vectorizer = data['tf_vectorizer']\n",
    "dtm_tf = data['dtm_tf']\n",
    "lda_tf = data['lda_tf']\n",
    "lda_tm = data['lda_tm']\n",
    "lda_vis = data['lda_vis']"
   ]
  },
  {
   "cell_type": "markdown",
   "metadata": {},
   "source": [
    "###  Normalize Topic Frequency by Year"
   ]
  },
  {
   "cell_type": "code",
   "execution_count": 17,
   "metadata": {
    "collapsed": true
   },
   "outputs": [],
   "source": [
    "lda_tm_df = pd.DataFrame(lda_tm)"
   ]
  },
  {
   "cell_type": "code",
   "execution_count": 18,
   "metadata": {
    "collapsed": true
   },
   "outputs": [],
   "source": [
    "lda_tm_df['year'] = df.document_date.dt.year"
   ]
  },
  {
   "cell_type": "code",
   "execution_count": 72,
   "metadata": {
    "collapsed": true
   },
   "outputs": [],
   "source": [
    "# Normalize topic frequency by year\n",
    "topic_freq = lda_tm_df.groupby('year').sum()\n",
    "topic_freq = 100 * topic_freq.div(topic_freq.sum(axis=1), axis=0)\n",
    "topic_freq = topic_freq.round(3)"
   ]
  },
  {
   "cell_type": "code",
   "execution_count": 73,
   "metadata": {
    "scrolled": true
   },
   "outputs": [
    {
     "data": {
      "text/html": [
       "<div>\n",
       "<style scoped>\n",
       "    .dataframe tbody tr th:only-of-type {\n",
       "        vertical-align: middle;\n",
       "    }\n",
       "\n",
       "    .dataframe tbody tr th {\n",
       "        vertical-align: top;\n",
       "    }\n",
       "\n",
       "    .dataframe thead th {\n",
       "        text-align: right;\n",
       "    }\n",
       "</style>\n",
       "<table border=\"1\" class=\"dataframe\">\n",
       "  <thead>\n",
       "    <tr style=\"text-align: right;\">\n",
       "      <th></th>\n",
       "      <th>0</th>\n",
       "      <th>1</th>\n",
       "      <th>2</th>\n",
       "      <th>3</th>\n",
       "      <th>4</th>\n",
       "      <th>5</th>\n",
       "      <th>6</th>\n",
       "      <th>7</th>\n",
       "      <th>8</th>\n",
       "      <th>9</th>\n",
       "      <th>10</th>\n",
       "      <th>11</th>\n",
       "      <th>12</th>\n",
       "      <th>13</th>\n",
       "      <th>14</th>\n",
       "      <th>15</th>\n",
       "      <th>16</th>\n",
       "      <th>17</th>\n",
       "      <th>18</th>\n",
       "      <th>19</th>\n",
       "    </tr>\n",
       "    <tr>\n",
       "      <th>year</th>\n",
       "      <th></th>\n",
       "      <th></th>\n",
       "      <th></th>\n",
       "      <th></th>\n",
       "      <th></th>\n",
       "      <th></th>\n",
       "      <th></th>\n",
       "      <th></th>\n",
       "      <th></th>\n",
       "      <th></th>\n",
       "      <th></th>\n",
       "      <th></th>\n",
       "      <th></th>\n",
       "      <th></th>\n",
       "      <th></th>\n",
       "      <th></th>\n",
       "      <th></th>\n",
       "      <th></th>\n",
       "      <th></th>\n",
       "      <th></th>\n",
       "    </tr>\n",
       "  </thead>\n",
       "  <tbody>\n",
       "    <tr>\n",
       "      <th>1873</th>\n",
       "      <td>0.257</td>\n",
       "      <td>0.972</td>\n",
       "      <td>0.251</td>\n",
       "      <td>5.440</td>\n",
       "      <td>1.935</td>\n",
       "      <td>2.245</td>\n",
       "      <td>0.465</td>\n",
       "      <td>6.922</td>\n",
       "      <td>0.666</td>\n",
       "      <td>3.540</td>\n",
       "      <td>7.521</td>\n",
       "      <td>10.268</td>\n",
       "      <td>0.552</td>\n",
       "      <td>2.446</td>\n",
       "      <td>24.491</td>\n",
       "      <td>0.907</td>\n",
       "      <td>0.896</td>\n",
       "      <td>0.398</td>\n",
       "      <td>27.983</td>\n",
       "      <td>1.844</td>\n",
       "    </tr>\n",
       "    <tr>\n",
       "      <th>1960</th>\n",
       "      <td>6.814</td>\n",
       "      <td>8.824</td>\n",
       "      <td>0.985</td>\n",
       "      <td>3.289</td>\n",
       "      <td>3.754</td>\n",
       "      <td>7.157</td>\n",
       "      <td>0.610</td>\n",
       "      <td>6.438</td>\n",
       "      <td>9.117</td>\n",
       "      <td>1.160</td>\n",
       "      <td>7.600</td>\n",
       "      <td>3.566</td>\n",
       "      <td>2.184</td>\n",
       "      <td>5.732</td>\n",
       "      <td>6.618</td>\n",
       "      <td>1.734</td>\n",
       "      <td>6.118</td>\n",
       "      <td>0.993</td>\n",
       "      <td>2.675</td>\n",
       "      <td>14.633</td>\n",
       "    </tr>\n",
       "    <tr>\n",
       "      <th>2015</th>\n",
       "      <td>2.563</td>\n",
       "      <td>6.686</td>\n",
       "      <td>2.783</td>\n",
       "      <td>3.051</td>\n",
       "      <td>1.305</td>\n",
       "      <td>1.758</td>\n",
       "      <td>2.682</td>\n",
       "      <td>4.668</td>\n",
       "      <td>8.182</td>\n",
       "      <td>0.494</td>\n",
       "      <td>12.491</td>\n",
       "      <td>2.101</td>\n",
       "      <td>7.451</td>\n",
       "      <td>3.569</td>\n",
       "      <td>2.211</td>\n",
       "      <td>1.360</td>\n",
       "      <td>8.072</td>\n",
       "      <td>16.506</td>\n",
       "      <td>0.868</td>\n",
       "      <td>11.199</td>\n",
       "    </tr>\n",
       "    <tr>\n",
       "      <th>1830</th>\n",
       "      <td>1.654</td>\n",
       "      <td>0.346</td>\n",
       "      <td>0.399</td>\n",
       "      <td>1.216</td>\n",
       "      <td>2.148</td>\n",
       "      <td>1.592</td>\n",
       "      <td>0.376</td>\n",
       "      <td>4.896</td>\n",
       "      <td>0.363</td>\n",
       "      <td>6.575</td>\n",
       "      <td>1.236</td>\n",
       "      <td>4.804</td>\n",
       "      <td>0.283</td>\n",
       "      <td>5.771</td>\n",
       "      <td>17.432</td>\n",
       "      <td>1.716</td>\n",
       "      <td>0.283</td>\n",
       "      <td>0.283</td>\n",
       "      <td>47.447</td>\n",
       "      <td>1.180</td>\n",
       "    </tr>\n",
       "    <tr>\n",
       "      <th>1968</th>\n",
       "      <td>4.976</td>\n",
       "      <td>5.995</td>\n",
       "      <td>1.943</td>\n",
       "      <td>3.646</td>\n",
       "      <td>1.679</td>\n",
       "      <td>10.548</td>\n",
       "      <td>2.066</td>\n",
       "      <td>3.760</td>\n",
       "      <td>12.585</td>\n",
       "      <td>0.932</td>\n",
       "      <td>5.909</td>\n",
       "      <td>2.945</td>\n",
       "      <td>2.524</td>\n",
       "      <td>5.990</td>\n",
       "      <td>4.891</td>\n",
       "      <td>1.669</td>\n",
       "      <td>8.560</td>\n",
       "      <td>3.006</td>\n",
       "      <td>2.742</td>\n",
       "      <td>13.634</td>\n",
       "    </tr>\n",
       "    <tr>\n",
       "      <th>1938</th>\n",
       "      <td>7.497</td>\n",
       "      <td>3.307</td>\n",
       "      <td>1.754</td>\n",
       "      <td>2.476</td>\n",
       "      <td>2.109</td>\n",
       "      <td>13.111</td>\n",
       "      <td>1.023</td>\n",
       "      <td>4.272</td>\n",
       "      <td>7.327</td>\n",
       "      <td>0.867</td>\n",
       "      <td>10.414</td>\n",
       "      <td>3.609</td>\n",
       "      <td>0.929</td>\n",
       "      <td>6.748</td>\n",
       "      <td>12.393</td>\n",
       "      <td>2.460</td>\n",
       "      <td>4.969</td>\n",
       "      <td>2.640</td>\n",
       "      <td>4.724</td>\n",
       "      <td>7.372</td>\n",
       "    </tr>\n",
       "    <tr>\n",
       "      <th>1983</th>\n",
       "      <td>3.295</td>\n",
       "      <td>11.353</td>\n",
       "      <td>2.694</td>\n",
       "      <td>3.861</td>\n",
       "      <td>1.530</td>\n",
       "      <td>7.650</td>\n",
       "      <td>1.947</td>\n",
       "      <td>7.145</td>\n",
       "      <td>7.654</td>\n",
       "      <td>0.927</td>\n",
       "      <td>6.447</td>\n",
       "      <td>1.943</td>\n",
       "      <td>5.735</td>\n",
       "      <td>4.002</td>\n",
       "      <td>3.474</td>\n",
       "      <td>1.714</td>\n",
       "      <td>7.276</td>\n",
       "      <td>6.468</td>\n",
       "      <td>4.251</td>\n",
       "      <td>10.633</td>\n",
       "    </tr>\n",
       "    <tr>\n",
       "      <th>1924</th>\n",
       "      <td>1.297</td>\n",
       "      <td>2.895</td>\n",
       "      <td>1.503</td>\n",
       "      <td>1.006</td>\n",
       "      <td>0.392</td>\n",
       "      <td>4.794</td>\n",
       "      <td>0.155</td>\n",
       "      <td>12.578</td>\n",
       "      <td>7.177</td>\n",
       "      <td>0.184</td>\n",
       "      <td>6.240</td>\n",
       "      <td>3.391</td>\n",
       "      <td>0.037</td>\n",
       "      <td>3.504</td>\n",
       "      <td>28.730</td>\n",
       "      <td>0.617</td>\n",
       "      <td>3.374</td>\n",
       "      <td>2.276</td>\n",
       "      <td>1.533</td>\n",
       "      <td>18.316</td>\n",
       "    </tr>\n",
       "    <tr>\n",
       "      <th>1915</th>\n",
       "      <td>4.778</td>\n",
       "      <td>3.400</td>\n",
       "      <td>3.050</td>\n",
       "      <td>0.408</td>\n",
       "      <td>0.931</td>\n",
       "      <td>1.873</td>\n",
       "      <td>0.196</td>\n",
       "      <td>12.282</td>\n",
       "      <td>3.658</td>\n",
       "      <td>1.008</td>\n",
       "      <td>16.126</td>\n",
       "      <td>5.503</td>\n",
       "      <td>0.169</td>\n",
       "      <td>3.576</td>\n",
       "      <td>18.153</td>\n",
       "      <td>0.664</td>\n",
       "      <td>1.040</td>\n",
       "      <td>1.810</td>\n",
       "      <td>1.873</td>\n",
       "      <td>19.503</td>\n",
       "    </tr>\n",
       "    <tr>\n",
       "      <th>2016</th>\n",
       "      <td>2.115</td>\n",
       "      <td>6.646</td>\n",
       "      <td>2.509</td>\n",
       "      <td>4.702</td>\n",
       "      <td>1.332</td>\n",
       "      <td>1.895</td>\n",
       "      <td>3.080</td>\n",
       "      <td>5.305</td>\n",
       "      <td>8.145</td>\n",
       "      <td>0.472</td>\n",
       "      <td>14.689</td>\n",
       "      <td>2.368</td>\n",
       "      <td>6.993</td>\n",
       "      <td>3.671</td>\n",
       "      <td>2.313</td>\n",
       "      <td>1.671</td>\n",
       "      <td>9.264</td>\n",
       "      <td>11.725</td>\n",
       "      <td>0.647</td>\n",
       "      <td>10.461</td>\n",
       "    </tr>\n",
       "    <tr>\n",
       "      <th>1811</th>\n",
       "      <td>0.746</td>\n",
       "      <td>1.820</td>\n",
       "      <td>0.494</td>\n",
       "      <td>1.568</td>\n",
       "      <td>1.557</td>\n",
       "      <td>1.150</td>\n",
       "      <td>0.227</td>\n",
       "      <td>3.862</td>\n",
       "      <td>0.227</td>\n",
       "      <td>3.933</td>\n",
       "      <td>3.838</td>\n",
       "      <td>0.765</td>\n",
       "      <td>2.842</td>\n",
       "      <td>2.363</td>\n",
       "      <td>28.224</td>\n",
       "      <td>0.227</td>\n",
       "      <td>0.583</td>\n",
       "      <td>0.227</td>\n",
       "      <td>43.272</td>\n",
       "      <td>2.073</td>\n",
       "    </tr>\n",
       "    <tr>\n",
       "      <th>1877</th>\n",
       "      <td>0.555</td>\n",
       "      <td>0.809</td>\n",
       "      <td>0.292</td>\n",
       "      <td>4.062</td>\n",
       "      <td>3.041</td>\n",
       "      <td>3.366</td>\n",
       "      <td>0.638</td>\n",
       "      <td>4.892</td>\n",
       "      <td>0.280</td>\n",
       "      <td>0.941</td>\n",
       "      <td>4.528</td>\n",
       "      <td>7.445</td>\n",
       "      <td>0.374</td>\n",
       "      <td>2.258</td>\n",
       "      <td>17.011</td>\n",
       "      <td>1.396</td>\n",
       "      <td>0.238</td>\n",
       "      <td>0.463</td>\n",
       "      <td>43.136</td>\n",
       "      <td>4.274</td>\n",
       "    </tr>\n",
       "    <tr>\n",
       "      <th>1940</th>\n",
       "      <td>5.802</td>\n",
       "      <td>3.649</td>\n",
       "      <td>1.627</td>\n",
       "      <td>3.794</td>\n",
       "      <td>2.245</td>\n",
       "      <td>10.416</td>\n",
       "      <td>0.972</td>\n",
       "      <td>5.586</td>\n",
       "      <td>6.143</td>\n",
       "      <td>0.645</td>\n",
       "      <td>16.416</td>\n",
       "      <td>9.375</td>\n",
       "      <td>0.940</td>\n",
       "      <td>2.522</td>\n",
       "      <td>10.554</td>\n",
       "      <td>2.820</td>\n",
       "      <td>3.458</td>\n",
       "      <td>1.184</td>\n",
       "      <td>2.672</td>\n",
       "      <td>9.180</td>\n",
       "    </tr>\n",
       "    <tr>\n",
       "      <th>2008</th>\n",
       "      <td>1.909</td>\n",
       "      <td>8.513</td>\n",
       "      <td>2.002</td>\n",
       "      <td>4.762</td>\n",
       "      <td>1.416</td>\n",
       "      <td>5.063</td>\n",
       "      <td>1.770</td>\n",
       "      <td>7.683</td>\n",
       "      <td>2.807</td>\n",
       "      <td>1.270</td>\n",
       "      <td>18.911</td>\n",
       "      <td>1.957</td>\n",
       "      <td>10.749</td>\n",
       "      <td>1.648</td>\n",
       "      <td>1.424</td>\n",
       "      <td>1.180</td>\n",
       "      <td>7.266</td>\n",
       "      <td>5.329</td>\n",
       "      <td>3.480</td>\n",
       "      <td>10.862</td>\n",
       "    </tr>\n",
       "    <tr>\n",
       "      <th>1835</th>\n",
       "      <td>1.629</td>\n",
       "      <td>0.251</td>\n",
       "      <td>0.232</td>\n",
       "      <td>2.867</td>\n",
       "      <td>1.226</td>\n",
       "      <td>1.903</td>\n",
       "      <td>0.232</td>\n",
       "      <td>3.034</td>\n",
       "      <td>0.671</td>\n",
       "      <td>3.382</td>\n",
       "      <td>2.820</td>\n",
       "      <td>2.219</td>\n",
       "      <td>0.232</td>\n",
       "      <td>0.912</td>\n",
       "      <td>22.766</td>\n",
       "      <td>2.292</td>\n",
       "      <td>0.255</td>\n",
       "      <td>0.232</td>\n",
       "      <td>52.375</td>\n",
       "      <td>0.472</td>\n",
       "    </tr>\n",
       "    <tr>\n",
       "      <th>1893</th>\n",
       "      <td>0.987</td>\n",
       "      <td>2.619</td>\n",
       "      <td>0.353</td>\n",
       "      <td>3.227</td>\n",
       "      <td>1.987</td>\n",
       "      <td>1.347</td>\n",
       "      <td>0.375</td>\n",
       "      <td>17.560</td>\n",
       "      <td>0.550</td>\n",
       "      <td>1.871</td>\n",
       "      <td>9.393</td>\n",
       "      <td>8.865</td>\n",
       "      <td>0.198</td>\n",
       "      <td>2.486</td>\n",
       "      <td>10.801</td>\n",
       "      <td>1.066</td>\n",
       "      <td>0.792</td>\n",
       "      <td>0.447</td>\n",
       "      <td>33.423</td>\n",
       "      <td>1.652</td>\n",
       "    </tr>\n",
       "    <tr>\n",
       "      <th>1799</th>\n",
       "      <td>0.562</td>\n",
       "      <td>1.431</td>\n",
       "      <td>0.278</td>\n",
       "      <td>0.704</td>\n",
       "      <td>1.920</td>\n",
       "      <td>0.561</td>\n",
       "      <td>0.429</td>\n",
       "      <td>7.656</td>\n",
       "      <td>0.199</td>\n",
       "      <td>13.477</td>\n",
       "      <td>4.242</td>\n",
       "      <td>3.738</td>\n",
       "      <td>0.978</td>\n",
       "      <td>2.654</td>\n",
       "      <td>21.452</td>\n",
       "      <td>1.742</td>\n",
       "      <td>1.310</td>\n",
       "      <td>0.199</td>\n",
       "      <td>28.066</td>\n",
       "      <td>8.401</td>\n",
       "    </tr>\n",
       "    <tr>\n",
       "      <th>1933</th>\n",
       "      <td>6.729</td>\n",
       "      <td>5.323</td>\n",
       "      <td>0.954</td>\n",
       "      <td>3.794</td>\n",
       "      <td>2.621</td>\n",
       "      <td>16.810</td>\n",
       "      <td>0.467</td>\n",
       "      <td>1.960</td>\n",
       "      <td>5.897</td>\n",
       "      <td>0.476</td>\n",
       "      <td>12.317</td>\n",
       "      <td>3.266</td>\n",
       "      <td>0.340</td>\n",
       "      <td>6.408</td>\n",
       "      <td>15.381</td>\n",
       "      <td>1.937</td>\n",
       "      <td>3.278</td>\n",
       "      <td>1.659</td>\n",
       "      <td>2.463</td>\n",
       "      <td>7.919</td>\n",
       "    </tr>\n",
       "    <tr>\n",
       "      <th>1857</th>\n",
       "      <td>0.914</td>\n",
       "      <td>0.500</td>\n",
       "      <td>0.320</td>\n",
       "      <td>1.718</td>\n",
       "      <td>3.136</td>\n",
       "      <td>1.688</td>\n",
       "      <td>0.320</td>\n",
       "      <td>3.477</td>\n",
       "      <td>0.698</td>\n",
       "      <td>5.601</td>\n",
       "      <td>1.664</td>\n",
       "      <td>3.918</td>\n",
       "      <td>0.320</td>\n",
       "      <td>1.674</td>\n",
       "      <td>7.729</td>\n",
       "      <td>1.112</td>\n",
       "      <td>0.320</td>\n",
       "      <td>0.320</td>\n",
       "      <td>63.390</td>\n",
       "      <td>1.182</td>\n",
       "    </tr>\n",
       "    <tr>\n",
       "      <th>1892</th>\n",
       "      <td>0.668</td>\n",
       "      <td>1.317</td>\n",
       "      <td>0.521</td>\n",
       "      <td>1.885</td>\n",
       "      <td>1.619</td>\n",
       "      <td>1.313</td>\n",
       "      <td>0.337</td>\n",
       "      <td>18.291</td>\n",
       "      <td>0.586</td>\n",
       "      <td>2.714</td>\n",
       "      <td>10.657</td>\n",
       "      <td>5.141</td>\n",
       "      <td>0.207</td>\n",
       "      <td>2.073</td>\n",
       "      <td>16.284</td>\n",
       "      <td>1.148</td>\n",
       "      <td>0.873</td>\n",
       "      <td>0.284</td>\n",
       "      <td>32.115</td>\n",
       "      <td>1.966</td>\n",
       "    </tr>\n",
       "  </tbody>\n",
       "</table>\n",
       "</div>"
      ],
      "text/plain": [
       "         0       1      2      3      4       5      6       7       8   \\\n",
       "year                                                                      \n",
       "1873  0.257   0.972  0.251  5.440  1.935   2.245  0.465   6.922   0.666   \n",
       "1960  6.814   8.824  0.985  3.289  3.754   7.157  0.610   6.438   9.117   \n",
       "2015  2.563   6.686  2.783  3.051  1.305   1.758  2.682   4.668   8.182   \n",
       "1830  1.654   0.346  0.399  1.216  2.148   1.592  0.376   4.896   0.363   \n",
       "1968  4.976   5.995  1.943  3.646  1.679  10.548  2.066   3.760  12.585   \n",
       "1938  7.497   3.307  1.754  2.476  2.109  13.111  1.023   4.272   7.327   \n",
       "1983  3.295  11.353  2.694  3.861  1.530   7.650  1.947   7.145   7.654   \n",
       "1924  1.297   2.895  1.503  1.006  0.392   4.794  0.155  12.578   7.177   \n",
       "1915  4.778   3.400  3.050  0.408  0.931   1.873  0.196  12.282   3.658   \n",
       "2016  2.115   6.646  2.509  4.702  1.332   1.895  3.080   5.305   8.145   \n",
       "1811  0.746   1.820  0.494  1.568  1.557   1.150  0.227   3.862   0.227   \n",
       "1877  0.555   0.809  0.292  4.062  3.041   3.366  0.638   4.892   0.280   \n",
       "1940  5.802   3.649  1.627  3.794  2.245  10.416  0.972   5.586   6.143   \n",
       "2008  1.909   8.513  2.002  4.762  1.416   5.063  1.770   7.683   2.807   \n",
       "1835  1.629   0.251  0.232  2.867  1.226   1.903  0.232   3.034   0.671   \n",
       "1893  0.987   2.619  0.353  3.227  1.987   1.347  0.375  17.560   0.550   \n",
       "1799  0.562   1.431  0.278  0.704  1.920   0.561  0.429   7.656   0.199   \n",
       "1933  6.729   5.323  0.954  3.794  2.621  16.810  0.467   1.960   5.897   \n",
       "1857  0.914   0.500  0.320  1.718  3.136   1.688  0.320   3.477   0.698   \n",
       "1892  0.668   1.317  0.521  1.885  1.619   1.313  0.337  18.291   0.586   \n",
       "\n",
       "          9       10      11      12     13      14     15     16      17  \\\n",
       "year                                                                        \n",
       "1873   3.540   7.521  10.268   0.552  2.446  24.491  0.907  0.896   0.398   \n",
       "1960   1.160   7.600   3.566   2.184  5.732   6.618  1.734  6.118   0.993   \n",
       "2015   0.494  12.491   2.101   7.451  3.569   2.211  1.360  8.072  16.506   \n",
       "1830   6.575   1.236   4.804   0.283  5.771  17.432  1.716  0.283   0.283   \n",
       "1968   0.932   5.909   2.945   2.524  5.990   4.891  1.669  8.560   3.006   \n",
       "1938   0.867  10.414   3.609   0.929  6.748  12.393  2.460  4.969   2.640   \n",
       "1983   0.927   6.447   1.943   5.735  4.002   3.474  1.714  7.276   6.468   \n",
       "1924   0.184   6.240   3.391   0.037  3.504  28.730  0.617  3.374   2.276   \n",
       "1915   1.008  16.126   5.503   0.169  3.576  18.153  0.664  1.040   1.810   \n",
       "2016   0.472  14.689   2.368   6.993  3.671   2.313  1.671  9.264  11.725   \n",
       "1811   3.933   3.838   0.765   2.842  2.363  28.224  0.227  0.583   0.227   \n",
       "1877   0.941   4.528   7.445   0.374  2.258  17.011  1.396  0.238   0.463   \n",
       "1940   0.645  16.416   9.375   0.940  2.522  10.554  2.820  3.458   1.184   \n",
       "2008   1.270  18.911   1.957  10.749  1.648   1.424  1.180  7.266   5.329   \n",
       "1835   3.382   2.820   2.219   0.232  0.912  22.766  2.292  0.255   0.232   \n",
       "1893   1.871   9.393   8.865   0.198  2.486  10.801  1.066  0.792   0.447   \n",
       "1799  13.477   4.242   3.738   0.978  2.654  21.452  1.742  1.310   0.199   \n",
       "1933   0.476  12.317   3.266   0.340  6.408  15.381  1.937  3.278   1.659   \n",
       "1857   5.601   1.664   3.918   0.320  1.674   7.729  1.112  0.320   0.320   \n",
       "1892   2.714  10.657   5.141   0.207  2.073  16.284  1.148  0.873   0.284   \n",
       "\n",
       "          18      19  \n",
       "year                  \n",
       "1873  27.983   1.844  \n",
       "1960   2.675  14.633  \n",
       "2015   0.868  11.199  \n",
       "1830  47.447   1.180  \n",
       "1968   2.742  13.634  \n",
       "1938   4.724   7.372  \n",
       "1983   4.251  10.633  \n",
       "1924   1.533  18.316  \n",
       "1915   1.873  19.503  \n",
       "2016   0.647  10.461  \n",
       "1811  43.272   2.073  \n",
       "1877  43.136   4.274  \n",
       "1940   2.672   9.180  \n",
       "2008   3.480  10.862  \n",
       "1835  52.375   0.472  \n",
       "1893  33.423   1.652  \n",
       "1799  28.066   8.401  \n",
       "1933   2.463   7.919  \n",
       "1857  63.390   1.182  \n",
       "1892  32.115   1.966  "
      ]
     },
     "execution_count": 73,
     "metadata": {},
     "output_type": "execute_result"
    }
   ],
   "source": [
    "topic_freq.sample(20, random_state=129)"
   ]
  },
  {
   "cell_type": "markdown",
   "metadata": {},
   "source": [
    "### Plot Stacked Area Chart"
   ]
  },
  {
   "cell_type": "code",
   "execution_count": 36,
   "metadata": {
    "collapsed": true
   },
   "outputs": [],
   "source": [
    "colors = pd.read_csv('/home/cneiderer/Documents/20distinctcolors.csv', header=None)"
   ]
  },
  {
   "cell_type": "code",
   "execution_count": 38,
   "metadata": {},
   "outputs": [
    {
     "data": {
      "text/html": [
       "<div>\n",
       "<style scoped>\n",
       "    .dataframe tbody tr th:only-of-type {\n",
       "        vertical-align: middle;\n",
       "    }\n",
       "\n",
       "    .dataframe tbody tr th {\n",
       "        vertical-align: top;\n",
       "    }\n",
       "\n",
       "    .dataframe thead th {\n",
       "        text-align: right;\n",
       "    }\n",
       "</style>\n",
       "<table border=\"1\" class=\"dataframe\">\n",
       "  <thead>\n",
       "    <tr style=\"text-align: right;\">\n",
       "      <th></th>\n",
       "      <th>0</th>\n",
       "      <th>1</th>\n",
       "      <th>2</th>\n",
       "      <th>3</th>\n",
       "    </tr>\n",
       "  </thead>\n",
       "  <tbody>\n",
       "    <tr>\n",
       "      <th>0</th>\n",
       "      <td>Red</td>\n",
       "      <td>#e6194b</td>\n",
       "      <td>(230, 25, 75)</td>\n",
       "      <td>(0, 100, 66, 0)</td>\n",
       "    </tr>\n",
       "    <tr>\n",
       "      <th>1</th>\n",
       "      <td>Green</td>\n",
       "      <td>#3cb44b</td>\n",
       "      <td>(60, 180, 75)</td>\n",
       "      <td>(75, 0, 100, 0)</td>\n",
       "    </tr>\n",
       "    <tr>\n",
       "      <th>2</th>\n",
       "      <td>Yellow</td>\n",
       "      <td>#ffe119</td>\n",
       "      <td>(255, 225, 25)</td>\n",
       "      <td>(0, 25, 95, 0)</td>\n",
       "    </tr>\n",
       "    <tr>\n",
       "      <th>3</th>\n",
       "      <td>Blue</td>\n",
       "      <td>#0082c8</td>\n",
       "      <td>(0, 130, 200)</td>\n",
       "      <td>(100, 35, 0, 0)</td>\n",
       "    </tr>\n",
       "    <tr>\n",
       "      <th>4</th>\n",
       "      <td>Orange</td>\n",
       "      <td>#f58231</td>\n",
       "      <td>(245, 130, 48)</td>\n",
       "      <td>(0, 60, 92, 0)</td>\n",
       "    </tr>\n",
       "    <tr>\n",
       "      <th>5</th>\n",
       "      <td>Purple</td>\n",
       "      <td>#911eb4</td>\n",
       "      <td>(145, 30, 180)</td>\n",
       "      <td>(35, 70, 0, 0)</td>\n",
       "    </tr>\n",
       "    <tr>\n",
       "      <th>6</th>\n",
       "      <td>Cyan</td>\n",
       "      <td>#46f0f0</td>\n",
       "      <td>(70, 240, 240)</td>\n",
       "      <td>(70, 0, 0, 0)</td>\n",
       "    </tr>\n",
       "    <tr>\n",
       "      <th>7</th>\n",
       "      <td>Magenta</td>\n",
       "      <td>#f032e6</td>\n",
       "      <td>(240, 50, 230)</td>\n",
       "      <td>(0, 100, 0, 0)</td>\n",
       "    </tr>\n",
       "    <tr>\n",
       "      <th>8</th>\n",
       "      <td>Lime</td>\n",
       "      <td>#d2f53c</td>\n",
       "      <td>(210, 245, 60)</td>\n",
       "      <td>(35, 0, 100, 0)</td>\n",
       "    </tr>\n",
       "    <tr>\n",
       "      <th>9</th>\n",
       "      <td>Pink</td>\n",
       "      <td>#fabebe</td>\n",
       "      <td>(250, 190, 190)</td>\n",
       "      <td>(0, 30, 15, 0)</td>\n",
       "    </tr>\n",
       "    <tr>\n",
       "      <th>10</th>\n",
       "      <td>Teal</td>\n",
       "      <td>#008080</td>\n",
       "      <td>(0, 128, 128)</td>\n",
       "      <td>(100, 0, 0, 50)</td>\n",
       "    </tr>\n",
       "    <tr>\n",
       "      <th>11</th>\n",
       "      <td>Lavender</td>\n",
       "      <td>#e6beff</td>\n",
       "      <td>(230, 190, 255)</td>\n",
       "      <td>(10, 25, 0, 0)</td>\n",
       "    </tr>\n",
       "    <tr>\n",
       "      <th>12</th>\n",
       "      <td>Brown</td>\n",
       "      <td>#aa6e28</td>\n",
       "      <td>(170, 110, 40)</td>\n",
       "      <td>(0, 35, 75, 33)</td>\n",
       "    </tr>\n",
       "    <tr>\n",
       "      <th>13</th>\n",
       "      <td>Beige</td>\n",
       "      <td>#fffac8</td>\n",
       "      <td>(255, 250, 200)</td>\n",
       "      <td>(5, 10, 30, 0)</td>\n",
       "    </tr>\n",
       "    <tr>\n",
       "      <th>14</th>\n",
       "      <td>Maroon</td>\n",
       "      <td>#800000</td>\n",
       "      <td>(128, 0, 0)</td>\n",
       "      <td>(0, 100, 100, 50)</td>\n",
       "    </tr>\n",
       "    <tr>\n",
       "      <th>15</th>\n",
       "      <td>Mint</td>\n",
       "      <td>#aaffc3</td>\n",
       "      <td>(170, 255, 195)</td>\n",
       "      <td>(33, 0, 23, 0)</td>\n",
       "    </tr>\n",
       "    <tr>\n",
       "      <th>16</th>\n",
       "      <td>Olive</td>\n",
       "      <td>#808000</td>\n",
       "      <td>(128, 128, 0)</td>\n",
       "      <td>(0, 0, 100, 50)</td>\n",
       "    </tr>\n",
       "    <tr>\n",
       "      <th>17</th>\n",
       "      <td>Coral</td>\n",
       "      <td>#ffd8b1</td>\n",
       "      <td>(255, 215, 180)</td>\n",
       "      <td>(0, 15, 30, 0)</td>\n",
       "    </tr>\n",
       "    <tr>\n",
       "      <th>18</th>\n",
       "      <td>Navy</td>\n",
       "      <td>#000080</td>\n",
       "      <td>(0, 0, 128)</td>\n",
       "      <td>(100, 100, 0, 50)</td>\n",
       "    </tr>\n",
       "    <tr>\n",
       "      <th>19</th>\n",
       "      <td>Grey</td>\n",
       "      <td>#808080</td>\n",
       "      <td>(128, 128, 128)</td>\n",
       "      <td>(0, 0, 0, 50)</td>\n",
       "    </tr>\n",
       "    <tr>\n",
       "      <th>20</th>\n",
       "      <td>Forrest</td>\n",
       "      <td>#336600</td>\n",
       "      <td>(51, 102, 0)</td>\n",
       "      <td>(90, 100, 40)</td>\n",
       "    </tr>\n",
       "    <tr>\n",
       "      <th>21</th>\n",
       "      <td>Black</td>\n",
       "      <td>#000000</td>\n",
       "      <td>(0, 0, 0)</td>\n",
       "      <td>(0, 0, 0, 100)</td>\n",
       "    </tr>\n",
       "  </tbody>\n",
       "</table>\n",
       "</div>"
      ],
      "text/plain": [
       "           0        1                2                  3\n",
       "0        Red  #e6194b    (230, 25, 75)    (0, 100, 66, 0)\n",
       "1      Green  #3cb44b    (60, 180, 75)    (75, 0, 100, 0)\n",
       "2     Yellow  #ffe119   (255, 225, 25)     (0, 25, 95, 0)\n",
       "3       Blue  #0082c8    (0, 130, 200)    (100, 35, 0, 0)\n",
       "4     Orange  #f58231   (245, 130, 48)     (0, 60, 92, 0)\n",
       "5     Purple  #911eb4   (145, 30, 180)     (35, 70, 0, 0)\n",
       "6       Cyan  #46f0f0   (70, 240, 240)      (70, 0, 0, 0)\n",
       "7    Magenta  #f032e6   (240, 50, 230)     (0, 100, 0, 0)\n",
       "8       Lime  #d2f53c   (210, 245, 60)    (35, 0, 100, 0)\n",
       "9       Pink  #fabebe  (250, 190, 190)     (0, 30, 15, 0)\n",
       "10      Teal  #008080    (0, 128, 128)    (100, 0, 0, 50)\n",
       "11  Lavender  #e6beff  (230, 190, 255)     (10, 25, 0, 0)\n",
       "12     Brown  #aa6e28   (170, 110, 40)    (0, 35, 75, 33)\n",
       "13     Beige  #fffac8  (255, 250, 200)     (5, 10, 30, 0)\n",
       "14    Maroon  #800000      (128, 0, 0)  (0, 100, 100, 50)\n",
       "15      Mint  #aaffc3  (170, 255, 195)     (33, 0, 23, 0)\n",
       "16     Olive  #808000    (128, 128, 0)    (0, 0, 100, 50)\n",
       "17     Coral  #ffd8b1  (255, 215, 180)     (0, 15, 30, 0)\n",
       "18      Navy  #000080      (0, 0, 128)  (100, 100, 0, 50)\n",
       "19      Grey  #808080  (128, 128, 128)      (0, 0, 0, 50)\n",
       "20   Forrest  #336600     (51, 102, 0)      (90, 100, 40)\n",
       "21     Black  #000000        (0, 0, 0)     (0, 0, 0, 100)"
      ]
     },
     "execution_count": 38,
     "metadata": {},
     "output_type": "execute_result"
    }
   ],
   "source": [
    "colors"
   ]
  },
  {
   "cell_type": "code",
   "execution_count": 37,
   "metadata": {
    "collapsed": true
   },
   "outputs": [],
   "source": [
    "cmap = list(colors[1])"
   ]
  },
  {
   "cell_type": "code",
   "execution_count": 79,
   "metadata": {
    "scrolled": false
   },
   "outputs": [
    {
     "data": {
      "text/html": [
       "<iframe id=\"igraph\" scrolling=\"no\" style=\"border:none;\" seamless=\"seamless\" src=\"https://plot.ly/~cneiderer/84.embed\" height=\"600px\" width=\"1000px\"></iframe>"
      ],
      "text/plain": [
       "<plotly.tools.PlotlyDisplay object>"
      ]
     },
     "execution_count": 79,
     "metadata": {},
     "output_type": "execute_result"
    }
   ],
   "source": [
    "layout = go.Layout(title='Topic Density Over Time',\n",
    "                   titlefont={'size': 20},\n",
    "                   yaxis={'ticksuffix': '%'},\n",
    "                   showlegend=True,\n",
    "#                    hovermode='closest',\n",
    "                   autosize=False, height=600, width=1000)\n",
    "topic_freq.iplot(kind='area', fill=True, hoverinfo='none',\n",
    "                 filename='LDA_20Topic_Normalized_By_Year',\n",
    "                 colors=cmap, layout=layout)"
   ]
  },
  {
   "cell_type": "code",
   "execution_count": null,
   "metadata": {
    "collapsed": true
   },
   "outputs": [],
   "source": [
    "# plt.stackplot(range(topic_df.shape[1]), )"
   ]
  },
  {
   "cell_type": "code",
   "execution_count": null,
   "metadata": {
    "collapsed": true
   },
   "outputs": [],
   "source": []
  }
 ],
 "metadata": {
  "kernelspec": {
   "display_name": "Python 3",
   "language": "python",
   "name": "python3"
  },
  "language_info": {
   "codemirror_mode": {
    "name": "ipython",
    "version": 3
   },
   "file_extension": ".py",
   "mimetype": "text/x-python",
   "name": "python",
   "nbconvert_exporter": "python",
   "pygments_lexer": "ipython3",
   "version": "3.6.4"
  },
  "varInspector": {
   "cols": {
    "lenName": 16,
    "lenType": 16,
    "lenVar": 40
   },
   "kernels_config": {
    "python": {
     "delete_cmd_postfix": "",
     "delete_cmd_prefix": "del ",
     "library": "var_list.py",
     "varRefreshCmd": "print(var_dic_list())"
    },
    "r": {
     "delete_cmd_postfix": ") ",
     "delete_cmd_prefix": "rm(",
     "library": "var_list.r",
     "varRefreshCmd": "cat(var_dic_list()) "
    }
   },
   "types_to_exclude": [
    "module",
    "function",
    "builtin_function_or_method",
    "instance",
    "_Feature"
   ],
   "window_display": false
  }
 },
 "nbformat": 4,
 "nbformat_minor": 2
}
