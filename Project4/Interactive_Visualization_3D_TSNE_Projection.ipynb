{
 "cells": [
  {
   "cell_type": "code",
   "execution_count": 1,
   "metadata": {
    "collapsed": true
   },
   "outputs": [],
   "source": [
    "import plotly\n",
    "import json\n",
    "\n",
    "credentials = json.load(open('/home/cneiderer/.plotly/.credentials'))\n",
    "plotly.tools.set_credentials_file(username=credentials['username'], api_key=credentials['api_key'])"
   ]
  },
  {
   "cell_type": "code",
   "execution_count": 2,
   "metadata": {
    "collapsed": true
   },
   "outputs": [],
   "source": [
    "import plotly.plotly as py\n",
    "import plotly.graph_objs as go\n",
    "import colorlover as cl\n",
    "import pandas as pd\n",
    "import numpy as np\n",
    "import pickle"
   ]
  },
  {
   "cell_type": "code",
   "execution_count": 4,
   "metadata": {
    "collapsed": true
   },
   "outputs": [],
   "source": [
    "# pickle_file = 'APP_tfidf_nmf_results.pickle'\n",
    "pickle_file = 'APP_lda_20topic_tsne3_results.pickle'\n",
    "with open(pickle_file, 'rb') as f:\n",
    "    data = pickle.load(f)"
   ]
  },
  {
   "cell_type": "code",
   "execution_count": 5,
   "metadata": {},
   "outputs": [
    {
     "data": {
      "text/plain": [
       "dict_keys(['tsne3_reduced', 'df_tsne3_reduced'])"
      ]
     },
     "execution_count": 5,
     "metadata": {},
     "output_type": "execute_result"
    }
   ],
   "source": [
    "data.keys()"
   ]
  },
  {
   "cell_type": "code",
   "execution_count": 6,
   "metadata": {
    "collapsed": true
   },
   "outputs": [],
   "source": [
    "tsne3 = data['tsne3_reduced']"
   ]
  },
  {
   "cell_type": "code",
   "execution_count": 8,
   "metadata": {},
   "outputs": [],
   "source": [
    "df_tsne3 = data['df_tsne3_reduced']"
   ]
  },
  {
   "cell_type": "code",
   "execution_count": 14,
   "metadata": {},
   "outputs": [
    {
     "data": {
      "text/html": [
       "<div>\n",
       "<style scoped>\n",
       "    .dataframe tbody tr th:only-of-type {\n",
       "        vertical-align: middle;\n",
       "    }\n",
       "\n",
       "    .dataframe tbody tr th {\n",
       "        vertical-align: top;\n",
       "    }\n",
       "\n",
       "    .dataframe thead th {\n",
       "        text-align: right;\n",
       "    }\n",
       "</style>\n",
       "<table border=\"1\" class=\"dataframe\">\n",
       "  <thead>\n",
       "    <tr style=\"text-align: right;\">\n",
       "      <th></th>\n",
       "      <th>tsne_x</th>\n",
       "      <th>tsne_y</th>\n",
       "      <th>tsne_z</th>\n",
       "      <th>Cluster</th>\n",
       "    </tr>\n",
       "  </thead>\n",
       "  <tbody>\n",
       "    <tr>\n",
       "      <th>0</th>\n",
       "      <td>7.237236</td>\n",
       "      <td>-0.856147</td>\n",
       "      <td>7.514600</td>\n",
       "      <td>8</td>\n",
       "    </tr>\n",
       "    <tr>\n",
       "      <th>1</th>\n",
       "      <td>5.409875</td>\n",
       "      <td>2.623274</td>\n",
       "      <td>2.818848</td>\n",
       "      <td>12</td>\n",
       "    </tr>\n",
       "    <tr>\n",
       "      <th>2</th>\n",
       "      <td>6.360083</td>\n",
       "      <td>-1.108500</td>\n",
       "      <td>7.189068</td>\n",
       "      <td>8</td>\n",
       "    </tr>\n",
       "    <tr>\n",
       "      <th>3</th>\n",
       "      <td>5.200565</td>\n",
       "      <td>2.275153</td>\n",
       "      <td>9.142937</td>\n",
       "      <td>6</td>\n",
       "    </tr>\n",
       "    <tr>\n",
       "      <th>4</th>\n",
       "      <td>4.755807</td>\n",
       "      <td>-0.901040</td>\n",
       "      <td>1.941861</td>\n",
       "      <td>8</td>\n",
       "    </tr>\n",
       "  </tbody>\n",
       "</table>\n",
       "</div>"
      ],
      "text/plain": [
       "     tsne_x    tsne_y    tsne_z  Cluster\n",
       "0  7.237236 -0.856147  7.514600        8\n",
       "1  5.409875  2.623274  2.818848       12\n",
       "2  6.360083 -1.108500  7.189068        8\n",
       "3  5.200565  2.275153  9.142937        6\n",
       "4  4.755807 -0.901040  1.941861        8"
      ]
     },
     "execution_count": 14,
     "metadata": {},
     "output_type": "execute_result"
    }
   ],
   "source": [
    "df_tsne3.head()"
   ]
  },
  {
   "cell_type": "code",
   "execution_count": 9,
   "metadata": {},
   "outputs": [
    {
     "data": {
      "text/plain": [
       "[0, 1, 2, 3, 4, 5, 6, 7, 8, 9, 10, 11, 12, 13, 14]"
      ]
     },
     "execution_count": 9,
     "metadata": {},
     "output_type": "execute_result"
    }
   ],
   "source": [
    "list(set(df_tsne3.Cluster))"
   ]
  },
  {
   "cell_type": "code",
   "execution_count": 38,
   "metadata": {
    "collapsed": true
   },
   "outputs": [],
   "source": [
    "colors = pd.read_csv('/home/cneiderer/Documents/20distinctcolors.csv', header=None)"
   ]
  },
  {
   "cell_type": "code",
   "execution_count": 39,
   "metadata": {},
   "outputs": [
    {
     "data": {
      "text/html": [
       "<div>\n",
       "<style scoped>\n",
       "    .dataframe tbody tr th:only-of-type {\n",
       "        vertical-align: middle;\n",
       "    }\n",
       "\n",
       "    .dataframe tbody tr th {\n",
       "        vertical-align: top;\n",
       "    }\n",
       "\n",
       "    .dataframe thead th {\n",
       "        text-align: right;\n",
       "    }\n",
       "</style>\n",
       "<table border=\"1\" class=\"dataframe\">\n",
       "  <thead>\n",
       "    <tr style=\"text-align: right;\">\n",
       "      <th></th>\n",
       "      <th>0</th>\n",
       "      <th>1</th>\n",
       "      <th>2</th>\n",
       "      <th>3</th>\n",
       "    </tr>\n",
       "  </thead>\n",
       "  <tbody>\n",
       "    <tr>\n",
       "      <th>0</th>\n",
       "      <td>Red</td>\n",
       "      <td>#e6194b</td>\n",
       "      <td>(230, 25, 75)</td>\n",
       "      <td>(0, 100, 66, 0)</td>\n",
       "    </tr>\n",
       "    <tr>\n",
       "      <th>1</th>\n",
       "      <td>Green</td>\n",
       "      <td>#3cb44b</td>\n",
       "      <td>(60, 180, 75)</td>\n",
       "      <td>(75, 0, 100, 0)</td>\n",
       "    </tr>\n",
       "    <tr>\n",
       "      <th>2</th>\n",
       "      <td>Yellow</td>\n",
       "      <td>#ffe119</td>\n",
       "      <td>(255, 225, 25)</td>\n",
       "      <td>(0, 25, 95, 0)</td>\n",
       "    </tr>\n",
       "    <tr>\n",
       "      <th>3</th>\n",
       "      <td>Blue</td>\n",
       "      <td>#0082c8</td>\n",
       "      <td>(0, 130, 200)</td>\n",
       "      <td>(100, 35, 0, 0)</td>\n",
       "    </tr>\n",
       "    <tr>\n",
       "      <th>4</th>\n",
       "      <td>Orange</td>\n",
       "      <td>#f58231</td>\n",
       "      <td>(245, 130, 48)</td>\n",
       "      <td>(0, 60, 92, 0)</td>\n",
       "    </tr>\n",
       "    <tr>\n",
       "      <th>5</th>\n",
       "      <td>Purple</td>\n",
       "      <td>#911eb4</td>\n",
       "      <td>(145, 30, 180)</td>\n",
       "      <td>(35, 70, 0, 0)</td>\n",
       "    </tr>\n",
       "    <tr>\n",
       "      <th>6</th>\n",
       "      <td>Cyan</td>\n",
       "      <td>#46f0f0</td>\n",
       "      <td>(70, 240, 240)</td>\n",
       "      <td>(70, 0, 0, 0)</td>\n",
       "    </tr>\n",
       "    <tr>\n",
       "      <th>7</th>\n",
       "      <td>Magenta</td>\n",
       "      <td>#f032e6</td>\n",
       "      <td>(240, 50, 230)</td>\n",
       "      <td>(0, 100, 0, 0)</td>\n",
       "    </tr>\n",
       "    <tr>\n",
       "      <th>8</th>\n",
       "      <td>Lime</td>\n",
       "      <td>#d2f53c</td>\n",
       "      <td>(210, 245, 60)</td>\n",
       "      <td>(35, 0, 100, 0)</td>\n",
       "    </tr>\n",
       "    <tr>\n",
       "      <th>9</th>\n",
       "      <td>Pink</td>\n",
       "      <td>#fabebe</td>\n",
       "      <td>(250, 190, 190)</td>\n",
       "      <td>(0, 30, 15, 0)</td>\n",
       "    </tr>\n",
       "    <tr>\n",
       "      <th>10</th>\n",
       "      <td>Teal</td>\n",
       "      <td>#008080</td>\n",
       "      <td>(0, 128, 128)</td>\n",
       "      <td>(100, 0, 0, 50)</td>\n",
       "    </tr>\n",
       "    <tr>\n",
       "      <th>11</th>\n",
       "      <td>Lavender</td>\n",
       "      <td>#e6beff</td>\n",
       "      <td>(230, 190, 255)</td>\n",
       "      <td>(10, 25, 0, 0)</td>\n",
       "    </tr>\n",
       "    <tr>\n",
       "      <th>12</th>\n",
       "      <td>Brown</td>\n",
       "      <td>#aa6e28</td>\n",
       "      <td>(170, 110, 40)</td>\n",
       "      <td>(0, 35, 75, 33)</td>\n",
       "    </tr>\n",
       "    <tr>\n",
       "      <th>13</th>\n",
       "      <td>Beige</td>\n",
       "      <td>#fffac8</td>\n",
       "      <td>(255, 250, 200)</td>\n",
       "      <td>(5, 10, 30, 0)</td>\n",
       "    </tr>\n",
       "    <tr>\n",
       "      <th>14</th>\n",
       "      <td>Maroon</td>\n",
       "      <td>#800000</td>\n",
       "      <td>(128, 0, 0)</td>\n",
       "      <td>(0, 100, 100, 50)</td>\n",
       "    </tr>\n",
       "    <tr>\n",
       "      <th>15</th>\n",
       "      <td>Mint</td>\n",
       "      <td>#aaffc3</td>\n",
       "      <td>(170, 255, 195)</td>\n",
       "      <td>(33, 0, 23, 0)</td>\n",
       "    </tr>\n",
       "    <tr>\n",
       "      <th>16</th>\n",
       "      <td>Olive</td>\n",
       "      <td>#808000</td>\n",
       "      <td>(128, 128, 0)</td>\n",
       "      <td>(0, 0, 100, 50)</td>\n",
       "    </tr>\n",
       "    <tr>\n",
       "      <th>17</th>\n",
       "      <td>Coral</td>\n",
       "      <td>#ffd8b1</td>\n",
       "      <td>(255, 215, 180)</td>\n",
       "      <td>(0, 15, 30, 0)</td>\n",
       "    </tr>\n",
       "    <tr>\n",
       "      <th>18</th>\n",
       "      <td>Navy</td>\n",
       "      <td>#000080</td>\n",
       "      <td>(0, 0, 128)</td>\n",
       "      <td>(100, 100, 0, 50)</td>\n",
       "    </tr>\n",
       "    <tr>\n",
       "      <th>19</th>\n",
       "      <td>Grey</td>\n",
       "      <td>#808080</td>\n",
       "      <td>(128, 128, 128)</td>\n",
       "      <td>(0, 0, 0, 50)</td>\n",
       "    </tr>\n",
       "    <tr>\n",
       "      <th>20</th>\n",
       "      <td>Forrest</td>\n",
       "      <td>#336600</td>\n",
       "      <td>(51, 102, 0)</td>\n",
       "      <td>(90, 100, 40)</td>\n",
       "    </tr>\n",
       "    <tr>\n",
       "      <th>21</th>\n",
       "      <td>Black</td>\n",
       "      <td>#000000</td>\n",
       "      <td>(0, 0, 0)</td>\n",
       "      <td>(0, 0, 0, 100)</td>\n",
       "    </tr>\n",
       "  </tbody>\n",
       "</table>\n",
       "</div>"
      ],
      "text/plain": [
       "           0        1                2                  3\n",
       "0        Red  #e6194b    (230, 25, 75)    (0, 100, 66, 0)\n",
       "1      Green  #3cb44b    (60, 180, 75)    (75, 0, 100, 0)\n",
       "2     Yellow  #ffe119   (255, 225, 25)     (0, 25, 95, 0)\n",
       "3       Blue  #0082c8    (0, 130, 200)    (100, 35, 0, 0)\n",
       "4     Orange  #f58231   (245, 130, 48)     (0, 60, 92, 0)\n",
       "5     Purple  #911eb4   (145, 30, 180)     (35, 70, 0, 0)\n",
       "6       Cyan  #46f0f0   (70, 240, 240)      (70, 0, 0, 0)\n",
       "7    Magenta  #f032e6   (240, 50, 230)     (0, 100, 0, 0)\n",
       "8       Lime  #d2f53c   (210, 245, 60)    (35, 0, 100, 0)\n",
       "9       Pink  #fabebe  (250, 190, 190)     (0, 30, 15, 0)\n",
       "10      Teal  #008080    (0, 128, 128)    (100, 0, 0, 50)\n",
       "11  Lavender  #e6beff  (230, 190, 255)     (10, 25, 0, 0)\n",
       "12     Brown  #aa6e28   (170, 110, 40)    (0, 35, 75, 33)\n",
       "13     Beige  #fffac8  (255, 250, 200)     (5, 10, 30, 0)\n",
       "14    Maroon  #800000      (128, 0, 0)  (0, 100, 100, 50)\n",
       "15      Mint  #aaffc3  (170, 255, 195)     (33, 0, 23, 0)\n",
       "16     Olive  #808000    (128, 128, 0)    (0, 0, 100, 50)\n",
       "17     Coral  #ffd8b1  (255, 215, 180)     (0, 15, 30, 0)\n",
       "18      Navy  #000080      (0, 0, 128)  (100, 100, 0, 50)\n",
       "19      Grey  #808080  (128, 128, 128)      (0, 0, 0, 50)\n",
       "20   Forrest  #336600     (51, 102, 0)      (90, 100, 40)\n",
       "21     Black  #000000        (0, 0, 0)     (0, 0, 0, 100)"
      ]
     },
     "execution_count": 39,
     "metadata": {},
     "output_type": "execute_result"
    }
   ],
   "source": [
    "colors"
   ]
  },
  {
   "cell_type": "code",
   "execution_count": 64,
   "metadata": {
    "collapsed": true
   },
   "outputs": [],
   "source": [
    "cmap = ['rgb%s' % x for x in colors[2]]\n",
    "# cmap = cl.scales['11']['qual']['Paired']"
   ]
  },
  {
   "cell_type": "code",
   "execution_count": 84,
   "metadata": {},
   "outputs": [
    {
     "name": "stdout",
     "output_type": "stream",
     "text": [
      "The draw time for this plot will be slow for clients without much RAM.\n"
     ]
    },
    {
     "name": "stderr",
     "output_type": "stream",
     "text": [
      "/home/cneiderer/anaconda3/lib/python3.6/site-packages/plotly/api/v1/clientresp.py:40: UserWarning:\n",
      "\n",
      "Estimated Draw Time Slow\n",
      "\n"
     ]
    },
    {
     "data": {
      "text/html": [
       "<iframe id=\"igraph\" scrolling=\"no\" style=\"border:none;\" seamless=\"seamless\" src=\"https://plot.ly/~cneiderer/82.embed\" height=\"1000px\" width=\"1000px\"></iframe>"
      ],
      "text/plain": [
       "<plotly.tools.PlotlyDisplay object>"
      ]
     },
     "execution_count": 84,
     "metadata": {},
     "output_type": "execute_result"
    }
   ],
   "source": [
    "fig = {\n",
    "        'data': [\n",
    "            {\n",
    "                'x': df_tsne3[df_tsne3.Cluster==cluster]['tsne_x'],\n",
    "                'y': df_tsne3[df_tsne3.Cluster==cluster]['tsne_y'],\n",
    "                'z': df_tsne3[df_tsne3.Cluster==cluster]['tsne_z'],\n",
    "                'text': ['Topic %d' % x for x in df_tsne3[df_tsne3.Cluster==cluster]['Cluster']],\n",
    "                'hoverinfo': 'text',\n",
    "                'name': cluster, \n",
    "                'mode': 'markers', \n",
    "                'marker': {\n",
    "                    'size': 5,\n",
    "                    'symbol': 'circle',\n",
    "                    'opacity': 0.5,\n",
    "                    'color': color\n",
    "                },\n",
    "                'type': 'scatter3d'\n",
    "            } for cluster, color in zip(set(df_tsne3.Cluster), cmap)\n",
    "        ],\n",
    "        'layout': {\n",
    "            'showlegend': True,\n",
    "            'hovermode': 'closest',\n",
    "            'autosize': False,\n",
    "            'width': 1000,\n",
    "            'height': 1000,            \n",
    "            'title': 'Topic Clusters',\n",
    "            'titlefont': {'size': 20}, \n",
    "            'paper_bgcolor': 'rgb(0,0,0)', \n",
    "            'plot_bgcolor': 'rgb(0,0,0)',\n",
    "        }\n",
    "}\n",
    "\n",
    "py.iplot(fig, filename='LSA_15Topic_TSNE_Scatter3', fileopt='overwrite')"
   ]
  },
  {
   "cell_type": "code",
   "execution_count": 37,
   "metadata": {},
   "outputs": [
    {
     "data": {
      "text/plain": [
       "['rgb(166,206,227)',\n",
       " 'rgb(31,120,180)',\n",
       " 'rgb(178,223,138)',\n",
       " 'rgb(51,160,44)',\n",
       " 'rgb(251,154,153)',\n",
       " 'rgb(227,26,28)',\n",
       " 'rgb(253,191,111)',\n",
       " 'rgb(255,127,0)',\n",
       " 'rgb(202,178,214)',\n",
       " 'rgb(106,61,154)',\n",
       " 'rgb(255,255,153)']"
      ]
     },
     "execution_count": 37,
     "metadata": {},
     "output_type": "execute_result"
    }
   ],
   "source": [
    "cl.scales['11']['qual']['Paired']+[]"
   ]
  },
  {
   "cell_type": "code",
   "execution_count": 40,
   "metadata": {},
   "outputs": [
    {
     "data": {
      "text/plain": [
       "['rgb(230, 25, 75)',\n",
       " 'rgb(60, 180, 75)',\n",
       " 'rgb(255, 225, 25)',\n",
       " 'rgb(0, 130, 200)',\n",
       " 'rgb(245, 130, 48)',\n",
       " 'rgb(145, 30, 180)',\n",
       " 'rgb(70, 240, 240)',\n",
       " 'rgb(240, 50, 230)',\n",
       " 'rgb(210, 245, 60)',\n",
       " 'rgb(250, 190, 190)',\n",
       " 'rgb(0, 128, 128)',\n",
       " 'rgb(230, 190, 255)',\n",
       " 'rgb(170, 110, 40)',\n",
       " 'rgb(255, 250, 200)',\n",
       " 'rgb(128, 0, 0)',\n",
       " 'rgb(170, 255, 195)',\n",
       " 'rgb(128, 128, 0)',\n",
       " 'rgb(255, 215, 180)',\n",
       " 'rgb(0, 0, 128)',\n",
       " 'rgb(128, 128, 128)',\n",
       " 'rgb(51, 102, 0)',\n",
       " 'rgb(0, 0, 0)']"
      ]
     },
     "execution_count": 40,
     "metadata": {},
     "output_type": "execute_result"
    }
   ],
   "source": [
    "['rgb%s' % x for x in colors[2]]"
   ]
  },
  {
   "cell_type": "code",
   "execution_count": null,
   "metadata": {
    "collapsed": true
   },
   "outputs": [],
   "source": []
  }
 ],
 "metadata": {
  "kernelspec": {
   "display_name": "Python 3",
   "language": "python",
   "name": "python3"
  },
  "language_info": {
   "codemirror_mode": {
    "name": "ipython",
    "version": 3
   },
   "file_extension": ".py",
   "mimetype": "text/x-python",
   "name": "python",
   "nbconvert_exporter": "python",
   "pygments_lexer": "ipython3",
   "version": "3.6.4"
  },
  "varInspector": {
   "cols": {
    "lenName": 16,
    "lenType": 16,
    "lenVar": 40
   },
   "kernels_config": {
    "python": {
     "delete_cmd_postfix": "",
     "delete_cmd_prefix": "del ",
     "library": "var_list.py",
     "varRefreshCmd": "print(var_dic_list())"
    },
    "r": {
     "delete_cmd_postfix": ") ",
     "delete_cmd_prefix": "rm(",
     "library": "var_list.r",
     "varRefreshCmd": "cat(var_dic_list()) "
    }
   },
   "types_to_exclude": [
    "module",
    "function",
    "builtin_function_or_method",
    "instance",
    "_Feature"
   ],
   "window_display": false
  }
 },
 "nbformat": 4,
 "nbformat_minor": 2
}
