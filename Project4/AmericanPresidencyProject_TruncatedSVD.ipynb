{
 "cells": [
  {
   "cell_type": "code",
   "execution_count": 17,
   "metadata": {
    "collapsed": true
   },
   "outputs": [],
   "source": [
    "import pandas as pd\n",
    "import numpy as np\n",
    "import matplotlib.pyplot as plt\n",
    "from matplotlib.colors import LinearSegmentedColormap\n",
    "import seaborn as sns\n",
    "\n",
    "import re\n",
    "from tqdm import tqdm\n",
    "from tqdm import tnrange\n",
    "from tqdm import tqdm_notebook\n",
    "from wordcloud import WordCloud\n",
    "\n",
    "import nltk\n",
    "from sklearn.feature_extraction.text import TfidfVectorizer\n",
    "from sklearn.decomposition import LatentDirichletAllocation\n",
    "from sklearn.decomposition import NMF\n",
    "from sklearn.decomposition import PCA, SparsePCA\n",
    "from sklearn.feature_extraction import stop_words as sklearn_stopwords\n",
    "from sklearn.decomposition import TruncatedSVD\n",
    "from sklearn.cluster import KMeans\n",
    "from sklearn.cluster import AgglomerativeClustering\n",
    "from sklearn.cluster import DBSCAN\n",
    "from sklearn.metrics import silhouette_score\n",
    "from sklearn.manifold import TSNE\n",
    "\n",
    "from gensim import corpora\n",
    "from gensim import models\n",
    "from gensim import similarities\n",
    "from gensim import matutils\n",
    "from gensim.parsing.preprocessing import STOPWORDS as gensim_stopwords\n",
    "\n",
    "from nltk.sentiment.vader import SentimentIntensityAnalyzer\n",
    "from nltk.corpus import stopwords as nltk_stopwords\n",
    "from nltk.tokenize import sent_tokenize\n",
    "from nltk.tokenize import word_tokenize\n",
    "from nltk.stem.porter import PorterStemmer\n",
    "\n",
    "import pickle\n",
    "from pymongo import MongoClient\n",
    "from bson import json_util"
   ]
  },
  {
   "cell_type": "code",
   "execution_count": 2,
   "metadata": {
    "collapsed": true
   },
   "outputs": [],
   "source": [
    "%matplotlib inline\n",
    "\n",
    "# custom_style = {'axes.labelcolor': 'white',\n",
    "#                 'xtick.color': 'white',\n",
    "#                 'ytick.color': 'white'}\n",
    "# sns.set_style(\"darkgrid\", rc=custom_style)"
   ]
  },
  {
   "cell_type": "markdown",
   "metadata": {},
   "source": [
    "### Presidents List"
   ]
  },
  {
   "cell_type": "code",
   "execution_count": 3,
   "metadata": {
    "collapsed": true
   },
   "outputs": [],
   "source": [
    "pres_list = pd.read_csv('https://gist.githubusercontent.com/namuol/2657233/raw/74135b2637e624848c163759be9cd14ae33f5153/presidents.csv')"
   ]
  },
  {
   "cell_type": "markdown",
   "metadata": {},
   "source": [
    "### JSON-Pandas Stuff"
   ]
  },
  {
   "cell_type": "code",
   "execution_count": 4,
   "metadata": {
    "collapsed": true
   },
   "outputs": [],
   "source": [
    "json_file = '/home/cneiderer/Downloads/presidency.json'"
   ]
  },
  {
   "cell_type": "code",
   "execution_count": 5,
   "metadata": {
    "collapsed": true
   },
   "outputs": [],
   "source": [
    "# Load presidential json data into df\n",
    "pres_df = pd.read_json(json_file)\n",
    "# Convert from wide to long format\n",
    "pres_df = pres_df.T\n",
    "# Subset data on oral and written speeches\n",
    "pres_df = pres_df[['Oral', 'Written']]"
   ]
  },
  {
   "cell_type": "code",
   "execution_count": 6,
   "metadata": {},
   "outputs": [
    {
     "data": {
      "application/vnd.jupyter.widget-view+json": {
       "model_id": "0ae934c7cca24b3f80a664aab6140dae",
       "version_major": 2,
       "version_minor": 0
      },
      "text/plain": [
       "A Jupyter Widget"
      ]
     },
     "metadata": {},
     "output_type": "display_data"
    },
    {
     "data": {
      "application/vnd.jupyter.widget-view+json": {
       "model_id": "8146081f8aa741d984a7c95f4d38c38b",
       "version_major": 2,
       "version_minor": 0
      },
      "text/plain": [
       "A Jupyter Widget"
      ]
     },
     "metadata": {},
     "output_type": "display_data"
    },
    {
     "data": {
      "application/vnd.jupyter.widget-view+json": {
       "model_id": "9d258ac11df3405c927c3929e327bbcd",
       "version_major": 2,
       "version_minor": 0
      },
      "text/plain": [
       "A Jupyter Widget"
      ]
     },
     "metadata": {},
     "output_type": "display_data"
    },
    {
     "data": {
      "application/vnd.jupyter.widget-view+json": {
       "model_id": "e33c0e1d92ab4e60822a2ec0e1de5aee",
       "version_major": 2,
       "version_minor": 0
      },
      "text/plain": [
       "A Jupyter Widget"
      ]
     },
     "metadata": {},
     "output_type": "display_data"
    },
    {
     "data": {
      "application/vnd.jupyter.widget-view+json": {
       "model_id": "63913db84f4e46e3b10d32223682fcf8",
       "version_major": 2,
       "version_minor": 0
      },
      "text/plain": [
       "A Jupyter Widget"
      ]
     },
     "metadata": {},
     "output_type": "display_data"
    },
    {
     "data": {
      "application/vnd.jupyter.widget-view+json": {
       "model_id": "fee19d846c5d4b658dfee5a49e24b117",
       "version_major": 2,
       "version_minor": 0
      },
      "text/plain": [
       "A Jupyter Widget"
      ]
     },
     "metadata": {},
     "output_type": "display_data"
    },
    {
     "data": {
      "application/vnd.jupyter.widget-view+json": {
       "model_id": "0af8a50098b44775bcb63243e164b5ec",
       "version_major": 2,
       "version_minor": 0
      },
      "text/plain": [
       "A Jupyter Widget"
      ]
     },
     "metadata": {},
     "output_type": "display_data"
    },
    {
     "data": {
      "application/vnd.jupyter.widget-view+json": {
       "model_id": "83d7adb974cf4aeaa0cf6af8e82922b7",
       "version_major": 2,
       "version_minor": 0
      },
      "text/plain": [
       "A Jupyter Widget"
      ]
     },
     "metadata": {},
     "output_type": "display_data"
    },
    {
     "data": {
      "application/vnd.jupyter.widget-view+json": {
       "model_id": "4ae0632229424554bac529d2b3ccf76b",
       "version_major": 2,
       "version_minor": 0
      },
      "text/plain": [
       "A Jupyter Widget"
      ]
     },
     "metadata": {},
     "output_type": "display_data"
    },
    {
     "data": {
      "application/vnd.jupyter.widget-view+json": {
       "model_id": "1035c9139cf348ca9750f8270a711a09",
       "version_major": 2,
       "version_minor": 0
      },
      "text/plain": [
       "A Jupyter Widget"
      ]
     },
     "metadata": {},
     "output_type": "display_data"
    },
    {
     "data": {
      "application/vnd.jupyter.widget-view+json": {
       "model_id": "258dd5e1116d4334bb2c8fde3875d80b",
       "version_major": 2,
       "version_minor": 0
      },
      "text/plain": [
       "A Jupyter Widget"
      ]
     },
     "metadata": {},
     "output_type": "display_data"
    },
    {
     "data": {
      "application/vnd.jupyter.widget-view+json": {
       "model_id": "2d00696ab9be46c09233c1d40aa94f6f",
       "version_major": 2,
       "version_minor": 0
      },
      "text/plain": [
       "A Jupyter Widget"
      ]
     },
     "metadata": {},
     "output_type": "display_data"
    },
    {
     "data": {
      "application/vnd.jupyter.widget-view+json": {
       "model_id": "4f94b918e99d408c87f72844ba6a53c6",
       "version_major": 2,
       "version_minor": 0
      },
      "text/plain": [
       "A Jupyter Widget"
      ]
     },
     "metadata": {},
     "output_type": "display_data"
    },
    {
     "data": {
      "application/vnd.jupyter.widget-view+json": {
       "model_id": "d1d93427377940a7924db867cf12631b",
       "version_major": 2,
       "version_minor": 0
      },
      "text/plain": [
       "A Jupyter Widget"
      ]
     },
     "metadata": {},
     "output_type": "display_data"
    },
    {
     "data": {
      "application/vnd.jupyter.widget-view+json": {
       "model_id": "dea47dca5c19481796112b13203ffc59",
       "version_major": 2,
       "version_minor": 0
      },
      "text/plain": [
       "A Jupyter Widget"
      ]
     },
     "metadata": {},
     "output_type": "display_data"
    },
    {
     "data": {
      "application/vnd.jupyter.widget-view+json": {
       "model_id": "cfd8976bcee840b59f3e22fa2dd2ce4a",
       "version_major": 2,
       "version_minor": 0
      },
      "text/plain": [
       "A Jupyter Widget"
      ]
     },
     "metadata": {},
     "output_type": "display_data"
    },
    {
     "data": {
      "application/vnd.jupyter.widget-view+json": {
       "model_id": "86801092bf0d4a4e9133b8c87f1dd324",
       "version_major": 2,
       "version_minor": 0
      },
      "text/plain": [
       "A Jupyter Widget"
      ]
     },
     "metadata": {},
     "output_type": "display_data"
    },
    {
     "data": {
      "application/vnd.jupyter.widget-view+json": {
       "model_id": "cbce6574f6f0433eb807a5e4b4ce24f8",
       "version_major": 2,
       "version_minor": 0
      },
      "text/plain": [
       "A Jupyter Widget"
      ]
     },
     "metadata": {},
     "output_type": "display_data"
    },
    {
     "data": {
      "application/vnd.jupyter.widget-view+json": {
       "model_id": "1611358743e849f7b39ec6324d772700",
       "version_major": 2,
       "version_minor": 0
      },
      "text/plain": [
       "A Jupyter Widget"
      ]
     },
     "metadata": {},
     "output_type": "display_data"
    },
    {
     "data": {
      "application/vnd.jupyter.widget-view+json": {
       "model_id": "325b82f9534e45559733553e325e8d79",
       "version_major": 2,
       "version_minor": 0
      },
      "text/plain": [
       "A Jupyter Widget"
      ]
     },
     "metadata": {},
     "output_type": "display_data"
    },
    {
     "data": {
      "application/vnd.jupyter.widget-view+json": {
       "model_id": "4556d759e98f457faffa70d56a0701a2",
       "version_major": 2,
       "version_minor": 0
      },
      "text/plain": [
       "A Jupyter Widget"
      ]
     },
     "metadata": {},
     "output_type": "display_data"
    },
    {
     "data": {
      "application/vnd.jupyter.widget-view+json": {
       "model_id": "397e5ac98b6b4a57863dc1bba2edfe38",
       "version_major": 2,
       "version_minor": 0
      },
      "text/plain": [
       "A Jupyter Widget"
      ]
     },
     "metadata": {},
     "output_type": "display_data"
    },
    {
     "data": {
      "application/vnd.jupyter.widget-view+json": {
       "model_id": "4b37f6a76ff24da5ab48cffdb3b71b0f",
       "version_major": 2,
       "version_minor": 0
      },
      "text/plain": [
       "A Jupyter Widget"
      ]
     },
     "metadata": {},
     "output_type": "display_data"
    },
    {
     "data": {
      "application/vnd.jupyter.widget-view+json": {
       "model_id": "a5cc1ef94aec4920a142ebd768d8d637",
       "version_major": 2,
       "version_minor": 0
      },
      "text/plain": [
       "A Jupyter Widget"
      ]
     },
     "metadata": {},
     "output_type": "display_data"
    },
    {
     "data": {
      "application/vnd.jupyter.widget-view+json": {
       "model_id": "3a51a95680444012a04d71c3291fffc9",
       "version_major": 2,
       "version_minor": 0
      },
      "text/plain": [
       "A Jupyter Widget"
      ]
     },
     "metadata": {},
     "output_type": "display_data"
    },
    {
     "data": {
      "application/vnd.jupyter.widget-view+json": {
       "model_id": "0ce59b5b976947a48ae4229f21dc72eb",
       "version_major": 2,
       "version_minor": 0
      },
      "text/plain": [
       "A Jupyter Widget"
      ]
     },
     "metadata": {},
     "output_type": "display_data"
    },
    {
     "data": {
      "application/vnd.jupyter.widget-view+json": {
       "model_id": "82ca1a49ecee40888199b5c2ca97baa6",
       "version_major": 2,
       "version_minor": 0
      },
      "text/plain": [
       "A Jupyter Widget"
      ]
     },
     "metadata": {},
     "output_type": "display_data"
    },
    {
     "data": {
      "application/vnd.jupyter.widget-view+json": {
       "model_id": "60d76724edae44259b88960b9ac645a2",
       "version_major": 2,
       "version_minor": 0
      },
      "text/plain": [
       "A Jupyter Widget"
      ]
     },
     "metadata": {},
     "output_type": "display_data"
    },
    {
     "data": {
      "application/vnd.jupyter.widget-view+json": {
       "model_id": "11820cbc6b9043c28e93c5b77129b7ae",
       "version_major": 2,
       "version_minor": 0
      },
      "text/plain": [
       "A Jupyter Widget"
      ]
     },
     "metadata": {},
     "output_type": "display_data"
    },
    {
     "data": {
      "application/vnd.jupyter.widget-view+json": {
       "model_id": "c80b731179dc4929a9ae353bae573de5",
       "version_major": 2,
       "version_minor": 0
      },
      "text/plain": [
       "A Jupyter Widget"
      ]
     },
     "metadata": {},
     "output_type": "display_data"
    },
    {
     "data": {
      "application/vnd.jupyter.widget-view+json": {
       "model_id": "c13301664c5c4ae8a28f80832e3273c0",
       "version_major": 2,
       "version_minor": 0
      },
      "text/plain": [
       "A Jupyter Widget"
      ]
     },
     "metadata": {},
     "output_type": "display_data"
    },
    {
     "data": {
      "application/vnd.jupyter.widget-view+json": {
       "model_id": "00711857214d478c9ba70cacafc3790f",
       "version_major": 2,
       "version_minor": 0
      },
      "text/plain": [
       "A Jupyter Widget"
      ]
     },
     "metadata": {},
     "output_type": "display_data"
    },
    {
     "data": {
      "application/vnd.jupyter.widget-view+json": {
       "model_id": "de91665dbfce4f30b938211c8f97230c",
       "version_major": 2,
       "version_minor": 0
      },
      "text/plain": [
       "A Jupyter Widget"
      ]
     },
     "metadata": {},
     "output_type": "display_data"
    },
    {
     "data": {
      "application/vnd.jupyter.widget-view+json": {
       "model_id": "b6ed985bd66c4539a27c8eab63ed2f8d",
       "version_major": 2,
       "version_minor": 0
      },
      "text/plain": [
       "A Jupyter Widget"
      ]
     },
     "metadata": {},
     "output_type": "display_data"
    },
    {
     "data": {
      "application/vnd.jupyter.widget-view+json": {
       "model_id": "d7990ee669224ac781673cfaab15ea07",
       "version_major": 2,
       "version_minor": 0
      },
      "text/plain": [
       "A Jupyter Widget"
      ]
     },
     "metadata": {},
     "output_type": "display_data"
    },
    {
     "data": {
      "application/vnd.jupyter.widget-view+json": {
       "model_id": "8ebf99c3020b474a81119c93be674da2",
       "version_major": 2,
       "version_minor": 0
      },
      "text/plain": [
       "A Jupyter Widget"
      ]
     },
     "metadata": {},
     "output_type": "display_data"
    },
    {
     "data": {
      "application/vnd.jupyter.widget-view+json": {
       "model_id": "6048cf1a0d1649319ca16abe0bfbe0a2",
       "version_major": 2,
       "version_minor": 0
      },
      "text/plain": [
       "A Jupyter Widget"
      ]
     },
     "metadata": {},
     "output_type": "display_data"
    },
    {
     "data": {
      "application/vnd.jupyter.widget-view+json": {
       "model_id": "776c204bc407478d81a1b3b899f7810b",
       "version_major": 2,
       "version_minor": 0
      },
      "text/plain": [
       "A Jupyter Widget"
      ]
     },
     "metadata": {},
     "output_type": "display_data"
    },
    {
     "data": {
      "application/vnd.jupyter.widget-view+json": {
       "model_id": "8592d9a264be467aa5ea8a84f92f3223",
       "version_major": 2,
       "version_minor": 0
      },
      "text/plain": [
       "A Jupyter Widget"
      ]
     },
     "metadata": {},
     "output_type": "display_data"
    },
    {
     "data": {
      "application/vnd.jupyter.widget-view+json": {
       "model_id": "a272675006004ca3b78f2cc32404c065",
       "version_major": 2,
       "version_minor": 0
      },
      "text/plain": [
       "A Jupyter Widget"
      ]
     },
     "metadata": {},
     "output_type": "display_data"
    },
    {
     "data": {
      "application/vnd.jupyter.widget-view+json": {
       "model_id": "ceacea68cc5b4622a07af3921f66e0f7",
       "version_major": 2,
       "version_minor": 0
      },
      "text/plain": [
       "A Jupyter Widget"
      ]
     },
     "metadata": {},
     "output_type": "display_data"
    },
    {
     "data": {
      "application/vnd.jupyter.widget-view+json": {
       "model_id": "a96ec6857e944ce9917a79d163688239",
       "version_major": 2,
       "version_minor": 0
      },
      "text/plain": [
       "A Jupyter Widget"
      ]
     },
     "metadata": {},
     "output_type": "display_data"
    },
    {
     "data": {
      "application/vnd.jupyter.widget-view+json": {
       "model_id": "843160b7461d41ad989a8cb48bd701b8",
       "version_major": 2,
       "version_minor": 0
      },
      "text/plain": [
       "A Jupyter Widget"
      ]
     },
     "metadata": {},
     "output_type": "display_data"
    },
    {
     "data": {
      "application/vnd.jupyter.widget-view+json": {
       "model_id": "d0c92a596fdd4f6c85f8eaaec6b46718",
       "version_major": 2,
       "version_minor": 0
      },
      "text/plain": [
       "A Jupyter Widget"
      ]
     },
     "metadata": {},
     "output_type": "display_data"
    },
    {
     "name": "stdout",
     "output_type": "stream",
     "text": [
      "\n"
     ]
    }
   ],
   "source": [
    "# Transform into more usable format\n",
    "df = pd.DataFrame()\n",
    "for idx in tnrange(len(pres_df.index)):\n",
    "    pres = pres_df.index[idx]\n",
    "    pres_data = pres_df.loc[pres]\n",
    "    \n",
    "    speech_type = ['Oral', 'Written']\n",
    "    for jdx in tnrange(len(speech_type)):\n",
    "        tmp_df = pd.DataFrame.from_dict(pres_df.loc[pres][speech_type[jdx]])\n",
    "        tmp_df.insert(0, 'President', pres)\n",
    "        tmp_df.insert(1, 'Type', speech_type[jdx])\n",
    "        try:\n",
    "            tmp_df.document_date = pd.to_datetime(tmp_df.document_date)\n",
    "        except:\n",
    "            tmp_df.document_data = pd.to_datetime('20500101')\n",
    "        df = pd.concat([df, tmp_df], axis=0)"
   ]
  },
  {
   "cell_type": "code",
   "execution_count": 7,
   "metadata": {},
   "outputs": [
    {
     "name": "stdout",
     "output_type": "stream",
     "text": [
      "<class 'pandas.core.frame.DataFrame'>\n",
      "Int64Index: 58595 entries, 0 to 48\n",
      "Data columns (total 8 columns):\n",
      "President        58595 non-null object\n",
      "Type             58595 non-null object\n",
      "category         58595 non-null object\n",
      "content          58595 non-null object\n",
      "document_date    58595 non-null datetime64[ns]\n",
      "pid              58595 non-null float64\n",
      "subcategory      41464 non-null object\n",
      "title            58595 non-null object\n",
      "dtypes: datetime64[ns](1), float64(1), object(6)\n",
      "memory usage: 4.0+ MB\n"
     ]
    }
   ],
   "source": [
    "df.info()"
   ]
  },
  {
   "cell_type": "markdown",
   "metadata": {},
   "source": [
    "### Clean Corpus"
   ]
  },
  {
   "cell_type": "code",
   "execution_count": 8,
   "metadata": {
    "collapsed": true
   },
   "outputs": [],
   "source": [
    "corpus = df['content']"
   ]
  },
  {
   "cell_type": "code",
   "execution_count": 9,
   "metadata": {},
   "outputs": [
    {
     "data": {
      "text/plain": [
       "58595"
      ]
     },
     "execution_count": 9,
     "metadata": {},
     "output_type": "execute_result"
    }
   ],
   "source": [
    "len(corpus)"
   ]
  },
  {
   "cell_type": "code",
   "execution_count": 10,
   "metadata": {},
   "outputs": [
    {
     "data": {
      "text/plain": [
       "58595"
      ]
     },
     "execution_count": 10,
     "metadata": {},
     "output_type": "execute_result"
    }
   ],
   "source": [
    "# clean and stem presidential addresses\n",
    "clean_corpus = []\n",
    "punctuation = re.compile(r\"[!#$%&\\'\\\"()\\*\\+,-\\./:;<=>\\?@\\[\\\\\\]^_`{\\|}~]\")\n",
    "# house_senate_opening = re.compile('''to\\s+the\\s+(?:senate|house\\s+of\\s+representatives|)\n",
    "#                                      (\\s+and\\s+)*(?:senate|house\\s+of\\s+representatives|house)*''')\n",
    "for doc in corpus:\n",
    "    temp = doc.lower()\n",
    "    temp = re.sub(r'\\n', ' ', temp)\n",
    "    temp = re.sub(r'united\\s+states', ' ', temp)\n",
    "    temp = re.sub(r'mr.\\s+(vice)?president', ' ', temp)\n",
    "    temp = re.sub(r'(?:mr\\.|madam)\\s+speaker', ' ', temp)\n",
    "    temp = re.sub(r'americaa', 'america', temp)\n",
    "    temp = re.sub(r'special\\s+message', ' ', temp)\n",
    "    temp = re.sub(r'executive\\s+order', ' ', temp)\n",
    "    temp = re.sub(r'statement\\s+on\\s+the', ' ', temp)\n",
    "    temp = re.sub(r'section\\s+\\d+', ' ', temp)\n",
    "#     temp = re.sub(house_senate_opening, temp)\n",
    "    temp = re.sub(r'[^A-Za-z]+', ' ', temp)\n",
    "    temp = re.sub(punctuation, ' ', temp)\n",
    "    \n",
    "#     temp = word_tokenize(temp)\n",
    "#     lemma = []\n",
    "#     for word in temp:\n",
    "#         lemma.append(stemmer.stem(word))\n",
    "#     temp = ' '.join(clean_corpus[0])\n",
    "    \n",
    "    clean_corpus.append(temp)\n",
    "    \n",
    "len(clean_corpus)"
   ]
  },
  {
   "cell_type": "markdown",
   "metadata": {},
   "source": [
    "### Topic Modeling"
   ]
  },
  {
   "cell_type": "code",
   "execution_count": 11,
   "metadata": {
    "collapsed": true
   },
   "outputs": [],
   "source": [
    "# Combine Sklearn and NLTK English stop words\n",
    "months_list = ['january', 'jan', 'february', 'feb', 'march', 'mar', 'april', 'apr', 'may', 'june', 'jun', \n",
    "               'july', 'jul', 'august', 'aug', 'september', 'sept', 'october', 'oct', 'november', 'nov', 'december', 'dec']\n",
    "custom_stopwords = ['hereunto', 'whereof', 'thereof', 'nineteen', 'said', 'herewith', 'shall', 'say', 'like',\n",
    "                    'mr', 'mrs', 'sir', 'dear', 'george', 'bush', 'william', 'thirty', 'lot', 'want', 'let', \n",
    "                    'sure', 'way', 'section', 'act', 'answer', 'laughter', 'great', 'good', 'things', 'thing',\n",
    "                    'going', 'know', 'day', 'new', 'make', 'got', 'yes', 'year', 'week', 'sec', 'obama', 'john'] + months_list\n",
    "\n",
    "stopwords = sklearn_stopwords.ENGLISH_STOP_WORDS \\\n",
    "            .union(nltk_stopwords.words('english')) \\\n",
    "            .union(gensim_stopwords) \\\n",
    "            .union(custom_stopwords)"
   ]
  },
  {
   "cell_type": "code",
   "execution_count": 32,
   "metadata": {
    "collapsed": true
   },
   "outputs": [],
   "source": [
    "n_features = 1000\n",
    "n_topics = 20\n",
    "n_top_words = 20\n",
    "seed = 129\n",
    "\n",
    "tfidf_vectorizer = TfidfVectorizer(ngram_range=(1, 2), \n",
    "                                   min_df=0.02,    \n",
    "                                   max_df=0.8,\n",
    "                                   stop_words=stopwords,\n",
    "#                                    max_features=n_features,\n",
    "                                   token_pattern=r'\\b[a-zA-Z]{3,}\\b')\n",
    "\n",
    "tfidf = tfidf_vectorizer.fit_transform(clean_corpus)"
   ]
  },
  {
   "cell_type": "code",
   "execution_count": 33,
   "metadata": {},
   "outputs": [
    {
     "data": {
      "text/plain": [
       "(58595, 2630)"
      ]
     },
     "execution_count": 33,
     "metadata": {},
     "output_type": "execute_result"
    }
   ],
   "source": [
    "tfidf.shape"
   ]
  },
  {
   "cell_type": "code",
   "execution_count": 44,
   "metadata": {
    "collapsed": true
   },
   "outputs": [],
   "source": [
    "svd = TruncatedSVD(n_components=2000, random_state=seed)\n",
    "svd.fit(tfidf)\n",
    "p = svd.fit_transform(tfidf)"
   ]
  },
  {
   "cell_type": "code",
   "execution_count": 45,
   "metadata": {},
   "outputs": [
    {
     "data": {
      "text/plain": [
       "0.89654391355885898"
      ]
     },
     "execution_count": 45,
     "metadata": {},
     "output_type": "execute_result"
    }
   ],
   "source": [
    "svd.explained_variance_.sum()"
   ]
  },
  {
   "cell_type": "code",
   "execution_count": 46,
   "metadata": {},
   "outputs": [
    {
     "data": {
      "text/plain": [
       "(58595, 2000)"
      ]
     },
     "execution_count": 46,
     "metadata": {},
     "output_type": "execute_result"
    }
   ],
   "source": [
    "p.shape"
   ]
  },
  {
   "cell_type": "code",
   "execution_count": 48,
   "metadata": {},
   "outputs": [
    {
     "data": {
      "text/plain": [
       "(58595,)"
      ]
     },
     "execution_count": 48,
     "metadata": {},
     "output_type": "execute_result"
    }
   ],
   "source": [
    "np.arange(p.shape[0]).shape"
   ]
  },
  {
   "cell_type": "code",
   "execution_count": 66,
   "metadata": {},
   "outputs": [
    {
     "data": {
      "image/png": "[encoded data removed]",
      "text/plain": [
       "<matplotlib.figure.Figure at 0x7f4c66c8c9e8>"
      ]
     },
     "metadata": {},
     "output_type": "display_data"
    }
   ],
   "source": [
    "plt.style.use('default')\n",
    "fig, ax = plt.subplots(figsize=(8, 6))\n",
    "ax.plot(np.arange(p.shape[1]), np.cumsum(svd.explained_variance_))\n",
    "ax.axhline(0.75, ls='--', c='k')\n",
    "ax.grid(linestyle=':', linewidth=1)\n",
    "ax.set_yticks(np.arange(0, 1.1, 0.1), minor=True)\n",
    "ax.set_yticks(np.arange(0, 1.2, 0.2), minor=False)\n",
    "ax.grid(which='minor', alpha=0.4)\n",
    "ax.grid(which='major', alpha=0.8)\n",
    "ax.set_xlabel('n_components')\n",
    "ax.set_ylabel('pct_explained_variance');"
   ]
  },
  {
   "cell_type": "code",
   "execution_count": null,
   "metadata": {
    "collapsed": true
   },
   "outputs": [],
   "source": []
  },
  {
   "cell_type": "code",
   "execution_count": null,
   "metadata": {
    "collapsed": true
   },
   "outputs": [],
   "source": [
    "# pickle TF-IDF NMF results\n",
    "pickle_file = 'APP_tfidf_svd_results.pickle'\n",
    "data = {'tfidf_vectorizer': tfidf_vectorizer, \n",
    "        'tfidf': tfidf,\n",
    "        'svd': svd}\n",
    "with open(pickle_file, 'wb') as f:\n",
    "    pickle.dump(data, f)\n",
    "    \n",
    "# with open(pickle_file, 'rb') as f:\n",
    "#     tmp = pickle.load(f)"
   ]
  },
  {
   "cell_type": "code",
   "execution_count": null,
   "metadata": {
    "collapsed": true
   },
   "outputs": [],
   "source": []
  },
  {
   "cell_type": "markdown",
   "metadata": {},
   "source": [
    "### Check Clustering Metrics"
   ]
  },
  {
   "cell_type": "code",
   "execution_count": null,
   "metadata": {
    "collapsed": true
   },
   "outputs": [],
   "source": [
    "# try out a range of cluster sizes to find the one with the best inertia and silhouette scores\n",
    "inertias = []\n",
    "silhouettes = []\n",
    "n_clusters = np.arange(5, 55, 5)\n",
    "for n in tnrange(len(n_clusters)):\n",
    "    kmeans = KMeans(n_clusters=n_clusters[n], init=\"k-means++\", random_state=129)\n",
    "    kmeans.fit(reduced)\n",
    "    \n",
    "    inertias.append(kmeans.inertia_)\n",
    "    \n",
    "    # only a sample was used to calculate silhouette score because of memory errors\n",
    "    labels = kmeans.labels_\n",
    "    silhouettes.append(silhouette_score(reduced, labels, metric='euclidean', sample_size=10000))"
   ]
  },
  {
   "cell_type": "code",
   "execution_count": null,
   "metadata": {
    "collapsed": true,
    "scrolled": false
   },
   "outputs": [],
   "source": [
    "# plot the inertia scores and look for the kink in the curve\n",
    "plt.style.use('default')\n",
    "plt.plot(n_clusters, inertias)\n",
    "plt.xlabel('n_cluster')\n",
    "plt.ylabel('inertia');"
   ]
  },
  {
   "cell_type": "code",
   "execution_count": null,
   "metadata": {
    "collapsed": true,
    "scrolled": false
   },
   "outputs": [],
   "source": [
    "# plot the silhouettte scores\n",
    "plt.plot(n_clusters, silhouettes)\n",
    "plt.xlabel('n_cluster')\n",
    "plt.ylabel('sihouette score');"
   ]
  },
  {
   "cell_type": "code",
   "execution_count": null,
   "metadata": {
    "collapsed": true
   },
   "outputs": [],
   "source": [
    "seed = 129\n",
    "kmeans = KMeans(n_clusters=20, init=\"k-means++\", random_state=seed)\n",
    "kmeans.fit(reduced)\n",
    "labels = kmeans.labels_\n",
    "print(\"Inertia score: {}\".format(kmeans.inertia_))\n",
    "\n",
    "silhouette = silhouette_score(reduced, \n",
    "                              labels, \n",
    "                              metric='euclidean', \n",
    "                              sample_size=10000, \n",
    "                              random_state=seed)\n",
    "print(\"Silhouette score: {}\".format(silhouette))"
   ]
  },
  {
   "cell_type": "markdown",
   "metadata": {},
   "source": [
    "### TSNE Dimension Reduction and Visualization"
   ]
  },
  {
   "cell_type": "code",
   "execution_count": null,
   "metadata": {
    "collapsed": true
   },
   "outputs": [],
   "source": [
    "tsne = TSNE(n_components=2, perplexity=50, n_iter=500, random_state=seed)\n",
    "tsne_reduced = tsne.fit_transform(reduced)"
   ]
  },
  {
   "cell_type": "code",
   "execution_count": null,
   "metadata": {
    "collapsed": true
   },
   "outputs": [],
   "source": [
    "df_tsne_reduced = pd.DataFrame(tsne_reduced, columns=[\"tsne_x\", \"tsne_y\"])\n",
    "df_tsne_reduced.shape"
   ]
  },
  {
   "cell_type": "code",
   "execution_count": null,
   "metadata": {
    "collapsed": true
   },
   "outputs": [],
   "source": [
    "df_tsne_reduced['Cluster'] = labels\n",
    "df_tsne_reduced.info()"
   ]
  },
  {
   "cell_type": "code",
   "execution_count": null,
   "metadata": {
    "collapsed": true
   },
   "outputs": [],
   "source": [
    "groups = df_tsne_reduced.groupby('Cluster')"
   ]
  },
  {
   "cell_type": "code",
   "execution_count": null,
   "metadata": {
    "collapsed": true
   },
   "outputs": [],
   "source": [
    "colors = pd.read_csv('/home/cneiderer/Documents/20distinctcolors.csv', header=None)\n",
    "cmap = colors.iloc[:, 1]"
   ]
  },
  {
   "cell_type": "code",
   "execution_count": null,
   "metadata": {
    "collapsed": true
   },
   "outputs": [],
   "source": [
    "plt.style.use('dark_background')\n",
    "fig, ax = plt.subplots(figsize=(10, 8))\n",
    "cidx = 0\n",
    "for name, group in groups:\n",
    "    ax.plot(group.tsne_x, group.tsne_y, marker='o', linestyle='', ms=2, alpha=0.2, label=name, color=cmap[cidx])\n",
    "    cidx += 1\n",
    "ax.set_xticks([])\n",
    "ax.set_yticks([])\n",
    "ax.set_facecolor('k')\n",
    "label_strings = ['Topic #%d' % x for x in set(labels)]\n",
    "\n",
    "# leg = ax.legend(loc='upper right')\n",
    "leg = ax.legend(label_strings, loc=9, bbox_to_anchor=(1.1, 1), \n",
    "                labelspacing=1, borderpad=1)\n",
    "leg.get_frame().set_facecolor('k')\n",
    "leg.get_frame().set_color('k')\n",
    "for text in leg.get_texts():\n",
    "    text.set_color('w')\n",
    "    text.set_fontsize(11)\n",
    "    text.set_fontweight('bold')\n",
    "\n",
    "for lh in leg.legendHandles: \n",
    "    lh._legmarker.set_alpha(1)\n",
    "    lh._legmarker.set_markersize(10)"
   ]
  },
  {
   "cell_type": "code",
   "execution_count": null,
   "metadata": {
    "collapsed": true
   },
   "outputs": [],
   "source": []
  }
 ],
 "metadata": {
  "kernelspec": {
   "display_name": "Python 3",
   "language": "python",
   "name": "python3"
  },
  "language_info": {
   "codemirror_mode": {
    "name": "ipython",
    "version": 3
   },
   "file_extension": ".py",
   "mimetype": "text/x-python",
   "name": "python",
   "nbconvert_exporter": "python",
   "pygments_lexer": "ipython3",
   "version": "3.6.4"
  },
  "varInspector": {
   "cols": {
    "lenName": 16,
    "lenType": 16,
    "lenVar": 40
   },
   "kernels_config": {
    "python": {
     "delete_cmd_postfix": "",
     "delete_cmd_prefix": "del ",
     "library": "var_list.py",
     "varRefreshCmd": "print(var_dic_list())"
    },
    "r": {
     "delete_cmd_postfix": ") ",
     "delete_cmd_prefix": "rm(",
     "library": "var_list.r",
     "varRefreshCmd": "cat(var_dic_list()) "
    }
   },
   "types_to_exclude": [
    "module",
    "function",
    "builtin_function_or_method",
    "instance",
    "_Feature"
   ],
   "window_display": false
  }
 },
 "nbformat": 4,
 "nbformat_minor": 2
}
