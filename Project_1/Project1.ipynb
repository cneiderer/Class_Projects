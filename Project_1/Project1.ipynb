{
 "cells": [
  {
   "cell_type": "markdown",
   "metadata": {
    "heading_collapsed": true
   },
   "source": [
    "### Import Modules"
   ]
  },
  {
   "cell_type": "code",
   "execution_count": 1,
   "metadata": {
    "collapsed": true,
    "hidden": true
   },
   "outputs": [],
   "source": [
    "import sys\n",
    "import os\n",
    "import requests\n",
    "import numpy as np\n",
    "import pandas as pd\n",
    "from bs4 import BeautifulSoup as bs\n",
    "import re\n",
    "import datetime\n",
    "import matplotlib.pyplot as plt\n",
    "import pickle\n",
    "\n",
    "%matplotlib inline"
   ]
  },
  {
   "cell_type": "code",
   "execution_count": 2,
   "metadata": {
    "hidden": true,
    "scrolled": true
   },
   "outputs": [
    {
     "name": "stdout",
     "output_type": "stream",
     "text": [
      "Python Version:  3.6.3 |Anaconda custom (64-bit)| (default, Oct 13 2017, 12:02:49) \n",
      "[GCC 7.2.0]\n",
      "Numpy Version:  1.13.3\n",
      "Pandas Version:  0.20.3\n"
     ]
    }
   ],
   "source": [
    "# Check package versions:\n",
    "print(\"Python Version: \", sys.version)\n",
    "print(\"Numpy Version: \", np.__version__)\n",
    "print(\"Pandas Version: \", pd.__version__)"
   ]
  },
  {
   "cell_type": "markdown",
   "metadata": {
    "heading_collapsed": true
   },
   "source": [
    "### Get Data Turnstile Data Files\n",
    "Note: This section only needs to be executed once to download the data."
   ]
  },
  {
   "cell_type": "code",
   "execution_count": 3,
   "metadata": {
    "collapsed": true,
    "hidden": true
   },
   "outputs": [],
   "source": [
    "# # Define NYC MTA turnstile data URL\n",
    "# url = 'http://web.mta.info/developers/turnstile.html'"
   ]
  },
  {
   "cell_type": "code",
   "execution_count": 4,
   "metadata": {
    "hidden": true
   },
   "outputs": [],
   "source": [
    "# # Send request and verify URL\n",
    "# rsp = requests.get(url)\n",
    "# print(rsp.url)"
   ]
  },
  {
   "cell_type": "code",
   "execution_count": 5,
   "metadata": {
    "hidden": true
   },
   "outputs": [],
   "source": [
    "# # Parse HTML response\n",
    "# soup = bs(rsp.text, 'html.parser')"
   ]
  },
  {
   "cell_type": "code",
   "execution_count": 6,
   "metadata": {
    "hidden": true
   },
   "outputs": [],
   "source": [
    "# # Find all anchor tags with href attribute defined\n",
    "# a_tags = soup.find_all('a', href=True)"
   ]
  },
  {
   "cell_type": "code",
   "execution_count": 7,
   "metadata": {
    "collapsed": true,
    "hidden": true
   },
   "outputs": [],
   "source": [
    "# file_list = []\n",
    "# base_url = url.split('turnstile')[0]\n",
    "# for a in a_tags:\n",
    "#     tmp = re.search('data/nyct/turnstile/turnstile_\\d*\\.txt', a['href'])\n",
    "#     if tmp is not None:\n",
    "#         file_list.append(''.join([base_url, tmp.string]))        "
   ]
  },
  {
   "cell_type": "code",
   "execution_count": 8,
   "metadata": {
    "collapsed": true,
    "hidden": true
   },
   "outputs": [],
   "source": [
    "# # Download txt files from NYC MTA website to local machine\n",
    "# for file in file_list:\n",
    "#     !wget -P ./turnstile_data/ {file}"
   ]
  },
  {
   "cell_type": "markdown",
   "metadata": {
    "heading_collapsed": true
   },
   "source": [
    "### Compile Raw Turnstile Data\n",
    "Note: This section only needs to be executed once to compile the data."
   ]
  },
  {
   "cell_type": "code",
   "execution_count": 9,
   "metadata": {
    "code_folding": [],
    "collapsed": true,
    "hidden": true,
    "scrolled": true
   },
   "outputs": [],
   "source": [
    "# # Path to local directory with files; this needs to be set by the user.\n",
    "# data_path = '/home/cneiderer/Metis/turnstile_data' \n",
    "# # Initialize empty dataframe\n",
    "# df = pd.DataFrame()\n",
    "# # Get list of data files\n",
    "# file_names = sorted(os.listdir(data_path))\n",
    "# for file in file_names:\n",
    "#     file_path = os.path.join(data_path, file)\n",
    "#     # Load data and concatenate with existing dataframe\n",
    "#     df = pd.concat([df, pd.read_csv(file_path)], axis=0)  \n",
    "# # Reset index for concatenated dataframe since each dataframe has own index, \n",
    "# # which causes duplicate indices in concatenated dataframe  \n",
    "# df = df.reset_index(drop=True)   \n",
    "# # Save raw compiled dataframe as *.PKL for easy data retrieval\n",
    "# df.to_pickle('raw_turnstile_data.pkl')"
   ]
  },
  {
   "cell_type": "markdown",
   "metadata": {},
   "source": [
    "### Data Munging / Preprocessing"
   ]
  },
  {
   "cell_type": "markdown",
   "metadata": {
    "heading_collapsed": true
   },
   "source": [
    "#### Load Data"
   ]
  },
  {
   "cell_type": "code",
   "execution_count": 10,
   "metadata": {
    "collapsed": true,
    "hidden": true
   },
   "outputs": [],
   "source": [
    "# Load raw turnstile data\n",
    "turn_df = pickle.load(open('raw_turnstile_data.pkl', 'rb'))# Get rid of unnecessary columns\n",
    "# Load demographic data\n",
    "dem_df = pd.read_csv('HH200K.csv')"
   ]
  },
  {
   "cell_type": "markdown",
   "metadata": {
    "heading_collapsed": true
   },
   "source": [
    "#### Cleanup Columns"
   ]
  },
  {
   "cell_type": "code",
   "execution_count": 11,
   "metadata": {
    "hidden": true,
    "scrolled": false
   },
   "outputs": [],
   "source": [
    "# Remove whitespace from column names and make lowercase\n",
    "turn_df.columns = [x.strip().lower() for x in turn_df.columns]\n",
    "dem_df.columns = [x.strip().lower() for x in dem_df.columns]"
   ]
  },
  {
   "cell_type": "code",
   "execution_count": 12,
   "metadata": {
    "hidden": true
   },
   "outputs": [],
   "source": [
    "# Get rid of unnecessary data columns\n",
    "turn_df = turn_df.drop(['c/a', 'unit', 'scp', 'linename', 'division', 'desc'], axis=1)\n",
    "dem_df = dem_df.drop(['gtfs stop id'], axis=1)"
   ]
  },
  {
   "cell_type": "code",
   "execution_count": 13,
   "metadata": {
    "collapsed": true,
    "hidden": true
   },
   "outputs": [],
   "source": [
    "# Rename columns to something more meaningful\n",
    "turn_df.columns = ['station', 'date_str', 'time_str', 'entry_cnt', 'exit_cnt']\n",
    "dem_df.columns = ['station', 'zip', 'lat', 'long', '200k_income_pct', 'bs_deg_pct', \\\n",
    "                  'grad_deg_pct', 'college_deg_pct', 'med_income']"
   ]
  },
  {
   "cell_type": "markdown",
   "metadata": {
    "heading_collapsed": true
   },
   "source": [
    "#### Merge Data"
   ]
  },
  {
   "cell_type": "code",
   "execution_count": 14,
   "metadata": {
    "collapsed": true,
    "hidden": true
   },
   "outputs": [],
   "source": [
    "# Make station names lowercase in both dataframes so they can be used as the merge key\n",
    "turn_df.station = turn_df.station.str.lower()\n",
    "dem_df.station = dem_df.station.str.lower()"
   ]
  },
  {
   "cell_type": "code",
   "execution_count": 15,
   "metadata": {
    "hidden": true,
    "scrolled": true
   },
   "outputs": [],
   "source": [
    "# Merge turnstile data with demographic data via station column\n",
    "merged_df = pd.merge(turn_df, dem_df, on='station')"
   ]
  },
  {
   "cell_type": "code",
   "execution_count": 18,
   "metadata": {
    "collapsed": true,
    "hidden": true
   },
   "outputs": [],
   "source": [
    "# Save joined dataset\n",
    "merged_df.to_pickle('merged_data.pkl')"
   ]
  },
  {
   "cell_type": "markdown",
   "metadata": {},
   "source": [
    "### Count Stats"
   ]
  },
  {
   "cell_type": "markdown",
   "metadata": {
    "heading_collapsed": true
   },
   "source": [
    "#### Load Data"
   ]
  },
  {
   "cell_type": "code",
   "execution_count": 23,
   "metadata": {
    "collapsed": true,
    "hidden": true
   },
   "outputs": [],
   "source": [
    "# Load joined data\n",
    "merged_df = pickle.load(open('merged_data.pkl', 'rb'))"
   ]
  },
  {
   "cell_type": "markdown",
   "metadata": {
    "heading_collapsed": true
   },
   "source": [
    "#### Calculate Entry and Exit Counts"
   ]
  },
  {
   "cell_type": "code",
   "execution_count": 24,
   "metadata": {
    "hidden": true,
    "scrolled": true
   },
   "outputs": [],
   "source": [
    "# Remove records with negative entry and exit counts. \n",
    "# Negative counts don't make sense for a cumulative counter; \n",
    "# therefore, assumed some kind of issue and removed\n",
    "df = merged_df[merged_df.entry_cnt >= 0]\n",
    "df = merged_df[merged_df.exit_cnt >= 0]"
   ]
  },
  {
   "cell_type": "code",
   "execution_count": 25,
   "metadata": {
    "hidden": true,
    "scrolled": false
   },
   "outputs": [],
   "source": [
    "# Calculate count differences between audits; set any resulting \"nan\" values to \"0\"; add results to dataframe\n",
    "df[['entries', 'exits']] = df.groupby(['station'])[['entry_cnt', 'exit_cnt']].diff().fillna(0)"
   ]
  },
  {
   "cell_type": "code",
   "execution_count": 26,
   "metadata": {
    "collapsed": true,
    "hidden": true
   },
   "outputs": [],
   "source": [
    "# Remove records with negative entries and/or exits since negative counts imply a counter was modified\n",
    "# for some reason.  Note: these are generally very large negative numbers\n",
    "df = df[df.entries >= 0]\n",
    "df = df[df.exits >= 0]\n",
    "# Similarly, remove records with very large positive counts because they also imply a counter was modified\n",
    "# Note: 40k was selected as a reasonable upper limit since most of the data falls in the 20k to 30k range\n",
    "df = df[df.entries < 40e3]\n",
    "df = df[df.exits >= 40e3]"
   ]
  },
  {
   "cell_type": "markdown",
   "metadata": {
    "heading_collapsed": true
   },
   "source": [
    "#### Derive Station Foot-Traffic"
   ]
  },
  {
   "cell_type": "code",
   "execution_count": 27,
   "metadata": {
    "collapsed": true,
    "hidden": true
   },
   "outputs": [],
   "source": [
    "# Derive station foot-traffic from entries and exits\n",
    "df['foot_traffic'] = df.entries + df.exits"
   ]
  },
  {
   "cell_type": "markdown",
   "metadata": {},
   "source": [
    "### Calculate Station Statistics"
   ]
  },
  {
   "cell_type": "markdown",
   "metadata": {
    "heading_collapsed": true
   },
   "source": [
    "#### Covert Date and Time Strings"
   ]
  },
  {
   "cell_type": "code",
   "execution_count": 29,
   "metadata": {
    "hidden": true,
    "scrolled": true
   },
   "outputs": [],
   "source": [
    "# Convert date and time strings to data and datetime objects\n",
    "df['date'] = pd.to_datetime(df.date_str, format='%m/%d/%Y')\n",
    "df['date_time'] = pd.to_datetime(df.date_str + df.time_str, format='%m/%d/%Y%H:%M:%S')"
   ]
  },
  {
   "cell_type": "markdown",
   "metadata": {},
   "source": [
    "#### Find Stations with Highest Average Foot Traffic per Day"
   ]
  },
  {
   "cell_type": "code",
   "execution_count": 30,
   "metadata": {},
   "outputs": [],
   "source": [
    "# Calculate the total foot traffic for each station-date combo\n",
    "perday_ft_df = df.groupby(['station', 'date'])[['foot_traffic']].sum()"
   ]
  },
  {
   "cell_type": "code",
   "execution_count": 31,
   "metadata": {},
   "outputs": [],
   "source": [
    "# Calculate the average foot traffic per day for each station\n",
    "avg_ft_perday_df = perday_ft_df.groupby(['station']).mean()"
   ]
  },
  {
   "cell_type": "code",
   "execution_count": 32,
   "metadata": {},
   "outputs": [],
   "source": [
    "# Find the top 10 stations with the most foot traffic\n",
    "ft_top10_df = avg_ft_perday_df.sort_values(['foot_traffic'], ascending=False).head(10)"
   ]
  },
  {
   "cell_type": "code",
   "execution_count": 38,
   "metadata": {},
   "outputs": [
    {
     "data": {
      "image/png": "[encoded data removed]",
      "text/plain": [
       "<matplotlib.figure.Figure at 0x7f1795e759e8>"
      ]
     },
     "metadata": {},
     "output_type": "display_data"
    }
   ],
   "source": [
    "# Create bar chart; reverse indices of dataframe so highest foot traffic will be on top\n",
    "ft_top10_rv_df = ft_top10_df.reindex(index=ft_top10_df.index[::-1])\n",
    "ft_fig = ft_top10_rv_df.plot(x=ft_top10_rv_df.index, y='foot_traffic', kind='barh');"
   ]
  },
  {
   "cell_type": "code",
   "execution_count": null,
   "metadata": {
    "collapsed": true
   },
   "outputs": [],
   "source": []
  },
  {
   "cell_type": "markdown",
   "metadata": {},
   "source": [
    "#### Find Stations with Highest Percentage College Degrees"
   ]
  },
  {
   "cell_type": "code",
   "execution_count": 39,
   "metadata": {
    "collapsed": true
   },
   "outputs": [],
   "source": [
    "# Find the mean percentage of residents near each station with a BS degree or higher\n",
    "college_df = df.groupby(['station'])[['college_deg_pct']].mean()"
   ]
  },
  {
   "cell_type": "code",
   "execution_count": 41,
   "metadata": {},
   "outputs": [],
   "source": [
    "# Find the top 10 stations with highest pct of residents with college degree\n",
    "college_top10_df = college_df.sort_values(['college_deg_pct'], ascending=False).head(10)"
   ]
  },
  {
   "cell_type": "code",
   "execution_count": 43,
   "metadata": {},
   "outputs": [
    {
     "data": {
      "image/png": "[encoded data removed]",
      "text/plain": [
       "<matplotlib.figure.Figure at 0x7f1795de9198>"
      ]
     },
     "metadata": {},
     "output_type": "display_data"
    }
   ],
   "source": [
    "# Create bar chart; reverse indices of dataframe so highest degree pct will be on top\n",
    "college_top10_rv_df = college_top10_df.reindex(index=college_top10_df.index[::-1])\n",
    "college_fig = college_top10_rv_df.plot(x=college_top10_rv_df.index, y='college_deg_pct', kind='barh');"
   ]
  },
  {
   "cell_type": "code",
   "execution_count": null,
   "metadata": {
    "collapsed": true
   },
   "outputs": [],
   "source": []
  },
  {
   "cell_type": "markdown",
   "metadata": {},
   "source": [
    "#### Find Stations with Highest Median Household Income"
   ]
  },
  {
   "cell_type": "code",
   "execution_count": 45,
   "metadata": {
    "collapsed": true
   },
   "outputs": [],
   "source": [
    "# Find the mean median income of residents near each station\n",
    "income_df = df.groupby(['station'])[['med_income']].mean()"
   ]
  },
  {
   "cell_type": "code",
   "execution_count": 46,
   "metadata": {
    "collapsed": true
   },
   "outputs": [],
   "source": [
    "# Find the top 10 stations with highest median income of residents near station\n",
    "income_top10_df = income_df.sort_values(['med_income'], ascending=False).head(10)"
   ]
  },
  {
   "cell_type": "code",
   "execution_count": 50,
   "metadata": {},
   "outputs": [
    {
     "data": {
      "image/png": "[encoded data removed]",
      "text/plain": [
       "<matplotlib.figure.Figure at 0x7f1795c1a080>"
      ]
     },
     "metadata": {},
     "output_type": "display_data"
    }
   ],
   "source": [
    "# Create bar chart; reverse indices of dataframe so highest degree pct will be on top\n",
    "income_top10_rv_df = income_top10_df.reindex(index=income_top10_df.index[::-1])\n",
    "income_fig = income_top10_rv_df.plot(x=income_top10_rv_df.index[::-1], y='med_income', kind='barh');"
   ]
  },
  {
   "cell_type": "markdown",
   "metadata": {},
   "source": [
    "### Sandbox Below"
   ]
  },
  {
   "cell_type": "code",
   "execution_count": null,
   "metadata": {
    "collapsed": true
   },
   "outputs": [],
   "source": []
  }
 ],
 "metadata": {
  "kernelspec": {
   "display_name": "Python 3",
   "language": "python",
   "name": "python3"
  },
  "language_info": {
   "codemirror_mode": {
    "name": "ipython",
    "version": 3
   },
   "file_extension": ".py",
   "mimetype": "text/x-python",
   "name": "python",
   "nbconvert_exporter": "python",
   "pygments_lexer": "ipython3",
   "version": "3.6.3"
  }
 },
 "nbformat": 4,
 "nbformat_minor": 2
}
