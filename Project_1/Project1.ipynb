{
 "cells": [
  {
   "cell_type": "code",
   "execution_count": 1,
   "metadata": {
    "collapsed": true
   },
   "outputs": [],
   "source": [
    "import requests\n",
    "import numpy as np\n",
    "import pandas as pd\n",
    "from bs4 import BeautifulSoup\n",
    "import re\n",
    "import datetime\n",
    "import pandas as pd\n",
    "import os\n",
    "import matplotlib.pyplot as plt\n",
    "import pickle\n",
    "\n",
    "%matplotlib inline"
   ]
  },
  {
   "cell_type": "markdown",
   "metadata": {
    "heading_collapsed": true
   },
   "source": [
    "### Get Data Files"
   ]
  },
  {
   "cell_type": "code",
   "execution_count": 2,
   "metadata": {
    "collapsed": true,
    "hidden": true
   },
   "outputs": [],
   "source": [
    "# Define NYC MTA turnstile data URL\n",
    "url = 'http://web.mta.info/developers/turnstile.html'"
   ]
  },
  {
   "cell_type": "code",
   "execution_count": 3,
   "metadata": {
    "hidden": true
   },
   "outputs": [
    {
     "name": "stdout",
     "output_type": "stream",
     "text": [
      "http://web.mta.info/developers/turnstile.html\n"
     ]
    }
   ],
   "source": [
    "# Send request and verify URL\n",
    "rsp = requests.get(url)\n",
    "print(rsp.url)"
   ]
  },
  {
   "cell_type": "code",
   "execution_count": 4,
   "metadata": {
    "collapsed": true,
    "hidden": true
   },
   "outputs": [],
   "source": [
    "# Parse HTML response\n",
    "soup = BeautifulSoup(rsp.text, 'html.parser')"
   ]
  },
  {
   "cell_type": "code",
   "execution_count": 5,
   "metadata": {
    "collapsed": true,
    "hidden": true
   },
   "outputs": [],
   "source": [
    "# Find all anchor tags with href attribute defined\n",
    "a_tags = soup.find_all('a', href=True)"
   ]
  },
  {
   "cell_type": "code",
   "execution_count": 6,
   "metadata": {
    "collapsed": true,
    "hidden": true
   },
   "outputs": [],
   "source": [
    "file_list = []\n",
    "base_url = url.split('turnstile')[0]\n",
    "for a in a_tags:\n",
    "    tmp = re.search('data/nyct/turnstile/turnstile_\\d*\\.txt', a['href'])\n",
    "    if tmp is not None:\n",
    "        file_list.append(''.join([base_url, tmp.string]))        "
   ]
  },
  {
   "cell_type": "code",
   "execution_count": 7,
   "metadata": {
    "collapsed": true,
    "hidden": true
   },
   "outputs": [],
   "source": [
    "# # Note: This only needs to be run once; comment out afterward.\n",
    "# # Download txt files from NYC MTA website to local machine\n",
    "# for file in file_list:\n",
    "#     !wget -P ./turnstile_data/ {file}"
   ]
  },
  {
   "cell_type": "markdown",
   "metadata": {
    "heading_collapsed": true
   },
   "source": [
    "### Compile Raw Data"
   ]
  },
  {
   "cell_type": "code",
   "execution_count": 8,
   "metadata": {
    "hidden": true,
    "scrolled": true
   },
   "outputs": [],
   "source": [
    "# # Note: This cell only needs to be run once; comment out afterward.\n",
    "# # Path to local directory with files; this needs to be set by the user.\n",
    "# data_path = '/home/cneiderer/Metis/turnstile_data' \n",
    "# # Initialize empty dataframe\n",
    "# df = pd.DataFrame()\n",
    "# # Get list of data files\n",
    "# file_names = os.listdir(data_path)\n",
    "# for file in file_names:\n",
    "#     file_path = os.path.join(data_path, file)\n",
    "#     # Load data and concatenate with existing dataframe\n",
    "#     df = pd.concat([df, pd.read_csv(file_path)], axis=0)  \n",
    "# # Reset index for concatenated dataframe since each dataframe has own index, \n",
    "# # which causes duplicate indices in concatenated dataframe  \n",
    "# df = df.reset_index(drop=True)   \n",
    "# # Save raw compiled dataframe as *.CSV and *.PKL for easy data retrieval\n",
    "# #df.to_csv('raw_turnstile_data.csv')\n",
    "# df.to_pickle('raw_turnstile_data_small.pkl')"
   ]
  },
  {
   "cell_type": "markdown",
   "metadata": {},
   "source": [
    "### Working DataFrame"
   ]
  },
  {
   "cell_type": "markdown",
   "metadata": {},
   "source": [
    "#### Load Data"
   ]
  },
  {
   "cell_type": "code",
   "execution_count": 9,
   "metadata": {
    "scrolled": false
   },
   "outputs": [],
   "source": [
    "# Load raw turnstile data\n",
    "df = pickle.load(open('raw_turnstile_data.pkl', 'rb'))\n",
    "# df = pickle.load(open('raw_turnstile_data_small.pkl', 'rb'))\n",
    "\n",
    "# Remove whitespace from column names and make lowercase\n",
    "df.columns = [x.strip().lower() for x in df.columns]"
   ]
  },
  {
   "cell_type": "code",
   "execution_count": 10,
   "metadata": {
    "collapsed": true
   },
   "outputs": [],
   "source": [
    "# Load \n",
    "df2 = pd.read_csv('HH200K.csv')\n",
    "\n",
    "# Remove whitespace from column names and make lowercase\n",
    "df2.columns = [x.strip().lower() for x in df2.columns]"
   ]
  },
  {
   "cell_type": "code",
   "execution_count": 11,
   "metadata": {
    "scrolled": true
   },
   "outputs": [
    {
     "data": {
      "text/html": [
       "<div>\n",
       "<style>\n",
       "    .dataframe thead tr:only-child th {\n",
       "        text-align: right;\n",
       "    }\n",
       "\n",
       "    .dataframe thead th {\n",
       "        text-align: left;\n",
       "    }\n",
       "\n",
       "    .dataframe tbody tr th {\n",
       "        vertical-align: top;\n",
       "    }\n",
       "</style>\n",
       "<table border=\"1\" class=\"dataframe\">\n",
       "  <thead>\n",
       "    <tr style=\"text-align: right;\">\n",
       "      <th></th>\n",
       "      <th>gtfs stop id</th>\n",
       "      <th>stop name</th>\n",
       "      <th>zip_code</th>\n",
       "      <th>gtfs latitude</th>\n",
       "      <th>gtfs longitude</th>\n",
       "      <th>perhh</th>\n",
       "      <th>bachdeg</th>\n",
       "      <th>graddeg</th>\n",
       "      <th>totgrad</th>\n",
       "      <th>2015 median household income</th>\n",
       "    </tr>\n",
       "  </thead>\n",
       "  <tbody>\n",
       "    <tr>\n",
       "      <th>0</th>\n",
       "      <td>R01</td>\n",
       "      <td>Astoria - Ditmars Blvd</td>\n",
       "      <td>11105.0</td>\n",
       "      <td>40.775036</td>\n",
       "      <td>-73.912034</td>\n",
       "      <td>0.016981</td>\n",
       "      <td>0.225490</td>\n",
       "      <td>0.104575</td>\n",
       "      <td>0.330065</td>\n",
       "      <td>53993.0</td>\n",
       "    </tr>\n",
       "    <tr>\n",
       "      <th>1</th>\n",
       "      <td>R03</td>\n",
       "      <td>Astoria Blvd</td>\n",
       "      <td>11102.0</td>\n",
       "      <td>40.770258</td>\n",
       "      <td>-73.917843</td>\n",
       "      <td>0.021632</td>\n",
       "      <td>0.297455</td>\n",
       "      <td>0.117818</td>\n",
       "      <td>0.415273</td>\n",
       "      <td>49159.0</td>\n",
       "    </tr>\n",
       "    <tr>\n",
       "      <th>2</th>\n",
       "      <td>R04</td>\n",
       "      <td>30 Av</td>\n",
       "      <td>11102.0</td>\n",
       "      <td>40.766779</td>\n",
       "      <td>-73.921479</td>\n",
       "      <td>0.070264</td>\n",
       "      <td>0.311479</td>\n",
       "      <td>0.131755</td>\n",
       "      <td>0.443234</td>\n",
       "      <td>50489.0</td>\n",
       "    </tr>\n",
       "    <tr>\n",
       "      <th>3</th>\n",
       "      <td>R05</td>\n",
       "      <td>Broadway</td>\n",
       "      <td>11106.0</td>\n",
       "      <td>40.761820</td>\n",
       "      <td>-73.925508</td>\n",
       "      <td>0.014957</td>\n",
       "      <td>0.249176</td>\n",
       "      <td>0.185385</td>\n",
       "      <td>0.434561</td>\n",
       "      <td>57727.0</td>\n",
       "    </tr>\n",
       "    <tr>\n",
       "      <th>4</th>\n",
       "      <td>R06</td>\n",
       "      <td>36 Av</td>\n",
       "      <td>11106.0</td>\n",
       "      <td>40.756804</td>\n",
       "      <td>-73.929575</td>\n",
       "      <td>0.011938</td>\n",
       "      <td>0.262408</td>\n",
       "      <td>0.130870</td>\n",
       "      <td>0.393278</td>\n",
       "      <td>54732.0</td>\n",
       "    </tr>\n",
       "  </tbody>\n",
       "</table>\n",
       "</div>"
      ],
      "text/plain": [
       "  gtfs stop id               stop name  zip_code  gtfs latitude  \\\n",
       "0          R01  Astoria - Ditmars Blvd   11105.0      40.775036   \n",
       "1          R03            Astoria Blvd   11102.0      40.770258   \n",
       "2          R04                   30 Av   11102.0      40.766779   \n",
       "3          R05                Broadway   11106.0      40.761820   \n",
       "4          R06                   36 Av   11106.0      40.756804   \n",
       "\n",
       "   gtfs longitude     perhh   bachdeg   graddeg   totgrad  \\\n",
       "0      -73.912034  0.016981  0.225490  0.104575  0.330065   \n",
       "1      -73.917843  0.021632  0.297455  0.117818  0.415273   \n",
       "2      -73.921479  0.070264  0.311479  0.131755  0.443234   \n",
       "3      -73.925508  0.014957  0.249176  0.185385  0.434561   \n",
       "4      -73.929575  0.011938  0.262408  0.130870  0.393278   \n",
       "\n",
       "   2015 median household income  \n",
       "0                       53993.0  \n",
       "1                       49159.0  \n",
       "2                       50489.0  \n",
       "3                       57727.0  \n",
       "4                       54732.0  "
      ]
     },
     "execution_count": 11,
     "metadata": {},
     "output_type": "execute_result"
    }
   ],
   "source": [
    "df2.head()"
   ]
  },
  {
   "cell_type": "code",
   "execution_count": 12,
   "metadata": {
    "scrolled": true
   },
   "outputs": [
    {
     "data": {
      "text/plain": [
       "Index(['gtfs stop id', 'stop name', 'zip_code', 'gtfs latitude',\n",
       "       'gtfs longitude', 'perhh', 'bachdeg', 'graddeg', 'totgrad',\n",
       "       '2015 median household income'],\n",
       "      dtype='object')"
      ]
     },
     "execution_count": 12,
     "metadata": {},
     "output_type": "execute_result"
    }
   ],
   "source": [
    "df2.columns"
   ]
  },
  {
   "cell_type": "code",
   "execution_count": 16,
   "metadata": {
    "collapsed": true
   },
   "outputs": [],
   "source": [
    "# Load stations data\n",
    "df3 = pd.read_csv('Stations.csv')\n",
    "\n",
    "# Remove whitespace from column names and make lowercase\n",
    "df3.columns = [x.strip().lower() for x in df3.columns]"
   ]
  },
  {
   "cell_type": "markdown",
   "metadata": {},
   "source": [
    "#### Join data"
   ]
  },
  {
   "cell_type": "code",
   "execution_count": 17,
   "metadata": {},
   "outputs": [],
   "source": [
    "# Rename Stop Name to station so it can be used as the join key\n",
    "df2 = df2.rename(index=str, columns={'stop name': 'station'})\n",
    "df3 = df3.rename(index=str, columns={'stop name': 'station'})"
   ]
  },
  {
   "cell_type": "code",
   "execution_count": 18,
   "metadata": {},
   "outputs": [],
   "source": [
    "# Set all station names to in the turnstile data and station data to lowercase so they can be joined\n",
    "df.station = df.station.str.lower()\n",
    "df2.station = df2.station.str.lower()\n",
    "df3.station = df3.station.str.lower()"
   ]
  },
  {
   "cell_type": "code",
   "execution_count": 19,
   "metadata": {
    "scrolled": true
   },
   "outputs": [],
   "source": [
    "# Join turnstile data with station data via station column\n",
    "df = df.join(df2.set_index('station'), on='station')"
   ]
  },
  {
   "cell_type": "code",
   "execution_count": 20,
   "metadata": {},
   "outputs": [],
   "source": [
    "# Remove data that didn't have matching station key\n",
    "df = df.dropna()"
   ]
  },
  {
   "cell_type": "code",
   "execution_count": 21,
   "metadata": {
    "scrolled": true
   },
   "outputs": [],
   "source": [
    "# Reset index for the joined dataframe\n",
    "df = df.reset_index(drop=True)  "
   ]
  },
  {
   "cell_type": "markdown",
   "metadata": {},
   "source": [
    "#### Calculate Count Stats"
   ]
  },
  {
   "cell_type": "code",
   "execution_count": 22,
   "metadata": {
    "scrolled": false
   },
   "outputs": [],
   "source": [
    "# Calculate count differences between audits and add to df\n",
    "df[['entries_cnt', 'exits_cnt']] = df.groupby('station')[['entries', 'exits']].diff()"
   ]
  },
  {
   "cell_type": "markdown",
   "metadata": {},
   "source": [
    "#### Convert Date and Time to DateTime Objs\n",
    "This allows dataframe to be subset by date and/or time"
   ]
  },
  {
   "cell_type": "code",
   "execution_count": 23,
   "metadata": {
    "collapsed": true
   },
   "outputs": [],
   "source": [
    "# Conver date and time strings to datetime objects\n",
    "df['date_time'] = pd.to_datetime(df.date + df.time, format='%m/%d/%Y%H:%M:%S')"
   ]
  },
  {
   "cell_type": "code",
   "execution_count": 24,
   "metadata": {
    "scrolled": true
   },
   "outputs": [
    {
     "data": {
      "text/html": [
       "<div>\n",
       "<style>\n",
       "    .dataframe thead tr:only-child th {\n",
       "        text-align: right;\n",
       "    }\n",
       "\n",
       "    .dataframe thead th {\n",
       "        text-align: left;\n",
       "    }\n",
       "\n",
       "    .dataframe tbody tr th {\n",
       "        vertical-align: top;\n",
       "    }\n",
       "</style>\n",
       "<table border=\"1\" class=\"dataframe\">\n",
       "  <thead>\n",
       "    <tr style=\"text-align: right;\">\n",
       "      <th></th>\n",
       "      <th>c/a</th>\n",
       "      <th>unit</th>\n",
       "      <th>scp</th>\n",
       "      <th>station</th>\n",
       "      <th>linename</th>\n",
       "      <th>division</th>\n",
       "      <th>date</th>\n",
       "      <th>time</th>\n",
       "      <th>desc</th>\n",
       "      <th>entries</th>\n",
       "      <th>...</th>\n",
       "      <th>gtfs latitude</th>\n",
       "      <th>gtfs longitude</th>\n",
       "      <th>perhh</th>\n",
       "      <th>bachdeg</th>\n",
       "      <th>graddeg</th>\n",
       "      <th>totgrad</th>\n",
       "      <th>2015 median household income</th>\n",
       "      <th>entries_cnt</th>\n",
       "      <th>exits_cnt</th>\n",
       "      <th>date_time</th>\n",
       "    </tr>\n",
       "  </thead>\n",
       "  <tbody>\n",
       "    <tr>\n",
       "      <th>0</th>\n",
       "      <td>A002</td>\n",
       "      <td>R051</td>\n",
       "      <td>02-00-00</td>\n",
       "      <td>59 st</td>\n",
       "      <td>NQR456</td>\n",
       "      <td>BMT</td>\n",
       "      <td>04/02/2016</td>\n",
       "      <td>00:00:00</td>\n",
       "      <td>REGULAR</td>\n",
       "      <td>5600838.0</td>\n",
       "      <td>...</td>\n",
       "      <td>40.634967</td>\n",
       "      <td>-74.023377</td>\n",
       "      <td>0.036585</td>\n",
       "      <td>0.181960</td>\n",
       "      <td>0.105754</td>\n",
       "      <td>0.287714</td>\n",
       "      <td>43903.0</td>\n",
       "      <td>NaN</td>\n",
       "      <td>NaN</td>\n",
       "      <td>2016-04-02 00:00:00</td>\n",
       "    </tr>\n",
       "    <tr>\n",
       "      <th>1</th>\n",
       "      <td>A002</td>\n",
       "      <td>R051</td>\n",
       "      <td>02-00-00</td>\n",
       "      <td>59 st</td>\n",
       "      <td>NQR456</td>\n",
       "      <td>BMT</td>\n",
       "      <td>04/02/2016</td>\n",
       "      <td>00:00:00</td>\n",
       "      <td>REGULAR</td>\n",
       "      <td>5600838.0</td>\n",
       "      <td>...</td>\n",
       "      <td>40.734673</td>\n",
       "      <td>-73.989951</td>\n",
       "      <td>0.277815</td>\n",
       "      <td>0.416931</td>\n",
       "      <td>0.417836</td>\n",
       "      <td>0.834767</td>\n",
       "      <td>150949.0</td>\n",
       "      <td>0.0</td>\n",
       "      <td>0.0</td>\n",
       "      <td>2016-04-02 00:00:00</td>\n",
       "    </tr>\n",
       "    <tr>\n",
       "      <th>2</th>\n",
       "      <td>A002</td>\n",
       "      <td>R051</td>\n",
       "      <td>02-00-00</td>\n",
       "      <td>59 st</td>\n",
       "      <td>NQR456</td>\n",
       "      <td>BMT</td>\n",
       "      <td>04/02/2016</td>\n",
       "      <td>04:00:00</td>\n",
       "      <td>REGULAR</td>\n",
       "      <td>5600863.0</td>\n",
       "      <td>...</td>\n",
       "      <td>40.634967</td>\n",
       "      <td>-74.023377</td>\n",
       "      <td>0.036585</td>\n",
       "      <td>0.181960</td>\n",
       "      <td>0.105754</td>\n",
       "      <td>0.287714</td>\n",
       "      <td>43903.0</td>\n",
       "      <td>25.0</td>\n",
       "      <td>3.0</td>\n",
       "      <td>2016-04-02 04:00:00</td>\n",
       "    </tr>\n",
       "    <tr>\n",
       "      <th>3</th>\n",
       "      <td>A002</td>\n",
       "      <td>R051</td>\n",
       "      <td>02-00-00</td>\n",
       "      <td>59 st</td>\n",
       "      <td>NQR456</td>\n",
       "      <td>BMT</td>\n",
       "      <td>04/02/2016</td>\n",
       "      <td>04:00:00</td>\n",
       "      <td>REGULAR</td>\n",
       "      <td>5600863.0</td>\n",
       "      <td>...</td>\n",
       "      <td>40.734673</td>\n",
       "      <td>-73.989951</td>\n",
       "      <td>0.277815</td>\n",
       "      <td>0.416931</td>\n",
       "      <td>0.417836</td>\n",
       "      <td>0.834767</td>\n",
       "      <td>150949.0</td>\n",
       "      <td>0.0</td>\n",
       "      <td>0.0</td>\n",
       "      <td>2016-04-02 04:00:00</td>\n",
       "    </tr>\n",
       "    <tr>\n",
       "      <th>4</th>\n",
       "      <td>A002</td>\n",
       "      <td>R051</td>\n",
       "      <td>02-00-00</td>\n",
       "      <td>59 st</td>\n",
       "      <td>NQR456</td>\n",
       "      <td>BMT</td>\n",
       "      <td>04/02/2016</td>\n",
       "      <td>08:00:00</td>\n",
       "      <td>REGULAR</td>\n",
       "      <td>5600877.0</td>\n",
       "      <td>...</td>\n",
       "      <td>40.634967</td>\n",
       "      <td>-74.023377</td>\n",
       "      <td>0.036585</td>\n",
       "      <td>0.181960</td>\n",
       "      <td>0.105754</td>\n",
       "      <td>0.287714</td>\n",
       "      <td>43903.0</td>\n",
       "      <td>14.0</td>\n",
       "      <td>20.0</td>\n",
       "      <td>2016-04-02 08:00:00</td>\n",
       "    </tr>\n",
       "  </tbody>\n",
       "</table>\n",
       "<p>5 rows × 23 columns</p>\n",
       "</div>"
      ],
      "text/plain": [
       "    c/a  unit       scp station linename division        date      time  \\\n",
       "0  A002  R051  02-00-00   59 st   NQR456      BMT  04/02/2016  00:00:00   \n",
       "1  A002  R051  02-00-00   59 st   NQR456      BMT  04/02/2016  00:00:00   \n",
       "2  A002  R051  02-00-00   59 st   NQR456      BMT  04/02/2016  04:00:00   \n",
       "3  A002  R051  02-00-00   59 st   NQR456      BMT  04/02/2016  04:00:00   \n",
       "4  A002  R051  02-00-00   59 st   NQR456      BMT  04/02/2016  08:00:00   \n",
       "\n",
       "      desc    entries         ...          gtfs latitude gtfs longitude  \\\n",
       "0  REGULAR  5600838.0         ...              40.634967     -74.023377   \n",
       "1  REGULAR  5600838.0         ...              40.734673     -73.989951   \n",
       "2  REGULAR  5600863.0         ...              40.634967     -74.023377   \n",
       "3  REGULAR  5600863.0         ...              40.734673     -73.989951   \n",
       "4  REGULAR  5600877.0         ...              40.634967     -74.023377   \n",
       "\n",
       "      perhh   bachdeg   graddeg   totgrad  2015 median household income  \\\n",
       "0  0.036585  0.181960  0.105754  0.287714                       43903.0   \n",
       "1  0.277815  0.416931  0.417836  0.834767                      150949.0   \n",
       "2  0.036585  0.181960  0.105754  0.287714                       43903.0   \n",
       "3  0.277815  0.416931  0.417836  0.834767                      150949.0   \n",
       "4  0.036585  0.181960  0.105754  0.287714                       43903.0   \n",
       "\n",
       "   entries_cnt  exits_cnt           date_time  \n",
       "0          NaN        NaN 2016-04-02 00:00:00  \n",
       "1          0.0        0.0 2016-04-02 00:00:00  \n",
       "2         25.0        3.0 2016-04-02 04:00:00  \n",
       "3          0.0        0.0 2016-04-02 04:00:00  \n",
       "4         14.0       20.0 2016-04-02 08:00:00  \n",
       "\n",
       "[5 rows x 23 columns]"
      ]
     },
     "execution_count": 24,
     "metadata": {},
     "output_type": "execute_result"
    }
   ],
   "source": [
    "df.head()"
   ]
  },
  {
   "cell_type": "code",
   "execution_count": null,
   "metadata": {
    "collapsed": true
   },
   "outputs": [],
   "source": []
  },
  {
   "cell_type": "code",
   "execution_count": null,
   "metadata": {
    "collapsed": true
   },
   "outputs": [],
   "source": []
  },
  {
   "cell_type": "code",
   "execution_count": null,
   "metadata": {
    "collapsed": true
   },
   "outputs": [],
   "source": []
  },
  {
   "cell_type": "markdown",
   "metadata": {},
   "source": [
    "### Sandbox Below"
   ]
  },
  {
   "cell_type": "code",
   "execution_count": 16,
   "metadata": {
    "collapsed": true
   },
   "outputs": [],
   "source": [
    "df['date_obj'] = pd.to_datetime(df.date, format='%m/%d/%Y')\n",
    "df['time_obj'] = pd.to_datetime(df.time, format='%H:%M:%S')"
   ]
  },
  {
   "cell_type": "code",
   "execution_count": 17,
   "metadata": {},
   "outputs": [],
   "source": [
    "df2 = df.head(20)"
   ]
  },
  {
   "cell_type": "code",
   "execution_count": 18,
   "metadata": {
    "scrolled": true
   },
   "outputs": [
    {
     "data": {
      "text/html": [
       "<div>\n",
       "<style>\n",
       "    .dataframe thead tr:only-child th {\n",
       "        text-align: right;\n",
       "    }\n",
       "\n",
       "    .dataframe thead th {\n",
       "        text-align: left;\n",
       "    }\n",
       "\n",
       "    .dataframe tbody tr th {\n",
       "        vertical-align: top;\n",
       "    }\n",
       "</style>\n",
       "<table border=\"1\" class=\"dataframe\">\n",
       "  <thead>\n",
       "    <tr style=\"text-align: right;\">\n",
       "      <th></th>\n",
       "      <th>c/a</th>\n",
       "      <th>unit</th>\n",
       "      <th>scp</th>\n",
       "      <th>station</th>\n",
       "      <th>linename</th>\n",
       "      <th>division</th>\n",
       "      <th>date</th>\n",
       "      <th>time</th>\n",
       "      <th>desc</th>\n",
       "      <th>entries</th>\n",
       "      <th>exits</th>\n",
       "      <th>entries_diff</th>\n",
       "      <th>exits_diff</th>\n",
       "      <th>date_time</th>\n",
       "      <th>date_obj</th>\n",
       "      <th>time_obj</th>\n",
       "    </tr>\n",
       "  </thead>\n",
       "  <tbody>\n",
       "    <tr>\n",
       "      <th>2</th>\n",
       "      <td>A002</td>\n",
       "      <td>R051</td>\n",
       "      <td>02-00-00</td>\n",
       "      <td>59 ST</td>\n",
       "      <td>NQR456</td>\n",
       "      <td>BMT</td>\n",
       "      <td>04/02/2016</td>\n",
       "      <td>08:00:00</td>\n",
       "      <td>REGULAR</td>\n",
       "      <td>5600877</td>\n",
       "      <td>1896313</td>\n",
       "      <td>14.0</td>\n",
       "      <td>20.0</td>\n",
       "      <td>2016-04-02 08:00:00</td>\n",
       "      <td>2016-04-02</td>\n",
       "      <td>1900-01-01 08:00:00</td>\n",
       "    </tr>\n",
       "    <tr>\n",
       "      <th>8</th>\n",
       "      <td>A002</td>\n",
       "      <td>R051</td>\n",
       "      <td>02-00-00</td>\n",
       "      <td>59 ST</td>\n",
       "      <td>NQR456</td>\n",
       "      <td>BMT</td>\n",
       "      <td>04/03/2016</td>\n",
       "      <td>08:00:00</td>\n",
       "      <td>REGULAR</td>\n",
       "      <td>5601643</td>\n",
       "      <td>1896578</td>\n",
       "      <td>5.0</td>\n",
       "      <td>12.0</td>\n",
       "      <td>2016-04-03 08:00:00</td>\n",
       "      <td>2016-04-03</td>\n",
       "      <td>1900-01-01 08:00:00</td>\n",
       "    </tr>\n",
       "    <tr>\n",
       "      <th>14</th>\n",
       "      <td>A002</td>\n",
       "      <td>R051</td>\n",
       "      <td>02-00-00</td>\n",
       "      <td>59 ST</td>\n",
       "      <td>NQR456</td>\n",
       "      <td>BMT</td>\n",
       "      <td>04/04/2016</td>\n",
       "      <td>08:00:00</td>\n",
       "      <td>REGULAR</td>\n",
       "      <td>5602297</td>\n",
       "      <td>1896893</td>\n",
       "      <td>41.0</td>\n",
       "      <td>100.0</td>\n",
       "      <td>2016-04-04 08:00:00</td>\n",
       "      <td>2016-04-04</td>\n",
       "      <td>1900-01-01 08:00:00</td>\n",
       "    </tr>\n",
       "  </tbody>\n",
       "</table>\n",
       "</div>"
      ],
      "text/plain": [
       "     c/a  unit       scp station linename division        date      time  \\\n",
       "2   A002  R051  02-00-00   59 ST   NQR456      BMT  04/02/2016  08:00:00   \n",
       "8   A002  R051  02-00-00   59 ST   NQR456      BMT  04/03/2016  08:00:00   \n",
       "14  A002  R051  02-00-00   59 ST   NQR456      BMT  04/04/2016  08:00:00   \n",
       "\n",
       "       desc  entries    exits  entries_diff  exits_diff           date_time  \\\n",
       "2   REGULAR  5600877  1896313          14.0        20.0 2016-04-02 08:00:00   \n",
       "8   REGULAR  5601643  1896578           5.0        12.0 2016-04-03 08:00:00   \n",
       "14  REGULAR  5602297  1896893          41.0       100.0 2016-04-04 08:00:00   \n",
       "\n",
       "     date_obj            time_obj  \n",
       "2  2016-04-02 1900-01-01 08:00:00  \n",
       "8  2016-04-03 1900-01-01 08:00:00  \n",
       "14 2016-04-04 1900-01-01 08:00:00  "
      ]
     },
     "execution_count": 18,
     "metadata": {},
     "output_type": "execute_result"
    }
   ],
   "source": [
    "df2[datetime.datetime(1900, 1, 1, 8, 0, 0, 0) == df2.time_obj]"
   ]
  },
  {
   "cell_type": "code",
   "execution_count": 19,
   "metadata": {
    "scrolled": false
   },
   "outputs": [
    {
     "data": {
      "text/plain": [
       "0             00:00:00\n",
       "1             04:00:00\n",
       "2             04:00:00\n",
       "3             04:00:00\n",
       "4             04:00:00\n",
       "5             04:00:00\n",
       "6    -1 days +04:00:00\n",
       "7             04:00:00\n",
       "8             04:00:00\n",
       "9             04:00:00\n",
       "10            04:00:00\n",
       "11            04:00:00\n",
       "12   -1 days +04:00:00\n",
       "13            04:00:00\n",
       "14            04:00:00\n",
       "15            00:35:08\n",
       "16            03:24:52\n",
       "17            04:00:00\n",
       "18            04:00:00\n",
       "19   -1 days +08:00:00\n",
       "Name: time_obj, dtype: timedelta64[ns]"
      ]
     },
     "execution_count": 19,
     "metadata": {},
     "output_type": "execute_result"
    }
   ],
   "source": [
    "df2.time_obj.diff().fillna(0)"
   ]
  },
  {
   "cell_type": "code",
   "execution_count": 20,
   "metadata": {
    "scrolled": true
   },
   "outputs": [
    {
     "data": {
      "text/plain": [
       "0    00:00:00\n",
       "1    04:00:00\n",
       "2    04:00:00\n",
       "3    04:00:00\n",
       "4    04:00:00\n",
       "5    04:00:00\n",
       "6    04:00:00\n",
       "7    04:00:00\n",
       "8    04:00:00\n",
       "9    04:00:00\n",
       "10   04:00:00\n",
       "11   04:00:00\n",
       "12   04:00:00\n",
       "13   04:00:00\n",
       "14   04:00:00\n",
       "15   00:35:08\n",
       "16   03:24:52\n",
       "17   04:00:00\n",
       "18   04:00:00\n",
       "19   08:00:00\n",
       "Name: date_time, dtype: timedelta64[ns]"
      ]
     },
     "execution_count": 20,
     "metadata": {},
     "output_type": "execute_result"
    }
   ],
   "source": [
    "df2.date_time.diff().fillna(0)"
   ]
  },
  {
   "cell_type": "code",
   "execution_count": 24,
   "metadata": {},
   "outputs": [],
   "source": [
    "t2 = df2.time[1:].reset_index(drop=True)"
   ]
  },
  {
   "cell_type": "code",
   "execution_count": 25,
   "metadata": {
    "collapsed": true
   },
   "outputs": [],
   "source": [
    "t1 = df2.time[0:-1].reset_index(drop=True)"
   ]
  },
  {
   "cell_type": "code",
   "execution_count": 26,
   "metadata": {
    "scrolled": true
   },
   "outputs": [
    {
     "data": {
      "text/html": [
       "<div>\n",
       "<style>\n",
       "    .dataframe thead tr:only-child th {\n",
       "        text-align: right;\n",
       "    }\n",
       "\n",
       "    .dataframe thead th {\n",
       "        text-align: left;\n",
       "    }\n",
       "\n",
       "    .dataframe tbody tr th {\n",
       "        vertical-align: top;\n",
       "    }\n",
       "</style>\n",
       "<table border=\"1\" class=\"dataframe\">\n",
       "  <thead>\n",
       "    <tr style=\"text-align: right;\">\n",
       "      <th></th>\n",
       "      <th>t1</th>\n",
       "      <th>t2</th>\n",
       "    </tr>\n",
       "  </thead>\n",
       "  <tbody>\n",
       "    <tr>\n",
       "      <th>0</th>\n",
       "      <td>00:00:00</td>\n",
       "      <td>04:00:00</td>\n",
       "    </tr>\n",
       "    <tr>\n",
       "      <th>1</th>\n",
       "      <td>04:00:00</td>\n",
       "      <td>08:00:00</td>\n",
       "    </tr>\n",
       "    <tr>\n",
       "      <th>2</th>\n",
       "      <td>08:00:00</td>\n",
       "      <td>12:00:00</td>\n",
       "    </tr>\n",
       "    <tr>\n",
       "      <th>3</th>\n",
       "      <td>12:00:00</td>\n",
       "      <td>16:00:00</td>\n",
       "    </tr>\n",
       "    <tr>\n",
       "      <th>4</th>\n",
       "      <td>16:00:00</td>\n",
       "      <td>20:00:00</td>\n",
       "    </tr>\n",
       "    <tr>\n",
       "      <th>5</th>\n",
       "      <td>20:00:00</td>\n",
       "      <td>00:00:00</td>\n",
       "    </tr>\n",
       "    <tr>\n",
       "      <th>6</th>\n",
       "      <td>00:00:00</td>\n",
       "      <td>04:00:00</td>\n",
       "    </tr>\n",
       "    <tr>\n",
       "      <th>7</th>\n",
       "      <td>04:00:00</td>\n",
       "      <td>08:00:00</td>\n",
       "    </tr>\n",
       "    <tr>\n",
       "      <th>8</th>\n",
       "      <td>08:00:00</td>\n",
       "      <td>12:00:00</td>\n",
       "    </tr>\n",
       "    <tr>\n",
       "      <th>9</th>\n",
       "      <td>12:00:00</td>\n",
       "      <td>16:00:00</td>\n",
       "    </tr>\n",
       "    <tr>\n",
       "      <th>10</th>\n",
       "      <td>16:00:00</td>\n",
       "      <td>20:00:00</td>\n",
       "    </tr>\n",
       "    <tr>\n",
       "      <th>11</th>\n",
       "      <td>20:00:00</td>\n",
       "      <td>00:00:00</td>\n",
       "    </tr>\n",
       "    <tr>\n",
       "      <th>12</th>\n",
       "      <td>00:00:00</td>\n",
       "      <td>04:00:00</td>\n",
       "    </tr>\n",
       "    <tr>\n",
       "      <th>13</th>\n",
       "      <td>04:00:00</td>\n",
       "      <td>08:00:00</td>\n",
       "    </tr>\n",
       "    <tr>\n",
       "      <th>14</th>\n",
       "      <td>08:00:00</td>\n",
       "      <td>08:35:08</td>\n",
       "    </tr>\n",
       "    <tr>\n",
       "      <th>15</th>\n",
       "      <td>08:35:08</td>\n",
       "      <td>12:00:00</td>\n",
       "    </tr>\n",
       "    <tr>\n",
       "      <th>16</th>\n",
       "      <td>12:00:00</td>\n",
       "      <td>16:00:00</td>\n",
       "    </tr>\n",
       "    <tr>\n",
       "      <th>17</th>\n",
       "      <td>16:00:00</td>\n",
       "      <td>20:00:00</td>\n",
       "    </tr>\n",
       "    <tr>\n",
       "      <th>18</th>\n",
       "      <td>20:00:00</td>\n",
       "      <td>04:00:00</td>\n",
       "    </tr>\n",
       "  </tbody>\n",
       "</table>\n",
       "</div>"
      ],
      "text/plain": [
       "          t1        t2\n",
       "0   00:00:00  04:00:00\n",
       "1   04:00:00  08:00:00\n",
       "2   08:00:00  12:00:00\n",
       "3   12:00:00  16:00:00\n",
       "4   16:00:00  20:00:00\n",
       "5   20:00:00  00:00:00\n",
       "6   00:00:00  04:00:00\n",
       "7   04:00:00  08:00:00\n",
       "8   08:00:00  12:00:00\n",
       "9   12:00:00  16:00:00\n",
       "10  16:00:00  20:00:00\n",
       "11  20:00:00  00:00:00\n",
       "12  00:00:00  04:00:00\n",
       "13  04:00:00  08:00:00\n",
       "14  08:00:00  08:35:08\n",
       "15  08:35:08  12:00:00\n",
       "16  12:00:00  16:00:00\n",
       "17  16:00:00  20:00:00\n",
       "18  20:00:00  04:00:00"
      ]
     },
     "execution_count": 26,
     "metadata": {},
     "output_type": "execute_result"
    }
   ],
   "source": [
    "pd.concat([t1.rename('t1'), t2.rename('t2')], axis=1)"
   ]
  },
  {
   "cell_type": "code",
   "execution_count": 41,
   "metadata": {},
   "outputs": [
    {
     "data": {
      "text/plain": [
       "nan"
      ]
     },
     "execution_count": 41,
     "metadata": {},
     "output_type": "execute_result"
    }
   ],
   "source": []
  },
  {
   "cell_type": "code",
   "execution_count": null,
   "metadata": {
    "collapsed": true
   },
   "outputs": [],
   "source": []
  }
 ],
 "metadata": {
  "kernelspec": {
   "display_name": "Python 3",
   "language": "python",
   "name": "python3"
  },
  "language_info": {
   "codemirror_mode": {
    "name": "ipython",
    "version": 3
   },
   "file_extension": ".py",
   "mimetype": "text/x-python",
   "name": "python",
   "nbconvert_exporter": "python",
   "pygments_lexer": "ipython3",
   "version": "3.6.3"
  }
 },
 "nbformat": 4,
 "nbformat_minor": 2
}
