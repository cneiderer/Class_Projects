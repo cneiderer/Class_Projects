{
 "cells": [
  {
   "cell_type": "code",
   "execution_count": 1,
   "metadata": {
    "collapsed": true
   },
   "outputs": [],
   "source": [
    "import numpy as np\n",
    "import pandas as pd\n",
    "from sklearn import metrics\n",
    "from sklearn.model_selection import train_test_split\n",
    "from sklearn.linear_model import LogisticRegression\n",
    "from sklearn.neighbors import KNeighborsClassifier\n"
   ]
  },
  {
   "cell_type": "code",
   "execution_count": 2,
   "metadata": {
    "collapsed": true
   },
   "outputs": [],
   "source": [
    "df_red = pd.read_csv('winequality-red.csv', delimiter=';')"
   ]
  },
  {
   "cell_type": "code",
   "execution_count": 3,
   "metadata": {
    "collapsed": true
   },
   "outputs": [],
   "source": [
    "df_white = pd.read_csv('winequality-white.csv', delimiter=';')"
   ]
  },
  {
   "cell_type": "code",
   "execution_count": 4,
   "metadata": {},
   "outputs": [
    {
     "data": {
      "text/html": [
       "<div>\n",
       "<style scoped>\n",
       "    .dataframe tbody tr th:only-of-type {\n",
       "        vertical-align: middle;\n",
       "    }\n",
       "\n",
       "    .dataframe tbody tr th {\n",
       "        vertical-align: top;\n",
       "    }\n",
       "\n",
       "    .dataframe thead th {\n",
       "        text-align: right;\n",
       "    }\n",
       "</style>\n",
       "<table border=\"1\" class=\"dataframe\">\n",
       "  <thead>\n",
       "    <tr style=\"text-align: right;\">\n",
       "      <th></th>\n",
       "      <th>fixed acidity</th>\n",
       "      <th>volatile acidity</th>\n",
       "      <th>citric acid</th>\n",
       "      <th>residual sugar</th>\n",
       "      <th>chlorides</th>\n",
       "      <th>free sulfur dioxide</th>\n",
       "      <th>total sulfur dioxide</th>\n",
       "      <th>density</th>\n",
       "      <th>pH</th>\n",
       "      <th>sulphates</th>\n",
       "      <th>alcohol</th>\n",
       "      <th>quality</th>\n",
       "    </tr>\n",
       "  </thead>\n",
       "  <tbody>\n",
       "    <tr>\n",
       "      <th>0</th>\n",
       "      <td>7.4</td>\n",
       "      <td>0.70</td>\n",
       "      <td>0.00</td>\n",
       "      <td>1.9</td>\n",
       "      <td>0.076</td>\n",
       "      <td>11.0</td>\n",
       "      <td>34.0</td>\n",
       "      <td>0.9978</td>\n",
       "      <td>3.51</td>\n",
       "      <td>0.56</td>\n",
       "      <td>9.4</td>\n",
       "      <td>5</td>\n",
       "    </tr>\n",
       "    <tr>\n",
       "      <th>1</th>\n",
       "      <td>7.8</td>\n",
       "      <td>0.88</td>\n",
       "      <td>0.00</td>\n",
       "      <td>2.6</td>\n",
       "      <td>0.098</td>\n",
       "      <td>25.0</td>\n",
       "      <td>67.0</td>\n",
       "      <td>0.9968</td>\n",
       "      <td>3.20</td>\n",
       "      <td>0.68</td>\n",
       "      <td>9.8</td>\n",
       "      <td>5</td>\n",
       "    </tr>\n",
       "    <tr>\n",
       "      <th>2</th>\n",
       "      <td>7.8</td>\n",
       "      <td>0.76</td>\n",
       "      <td>0.04</td>\n",
       "      <td>2.3</td>\n",
       "      <td>0.092</td>\n",
       "      <td>15.0</td>\n",
       "      <td>54.0</td>\n",
       "      <td>0.9970</td>\n",
       "      <td>3.26</td>\n",
       "      <td>0.65</td>\n",
       "      <td>9.8</td>\n",
       "      <td>5</td>\n",
       "    </tr>\n",
       "    <tr>\n",
       "      <th>3</th>\n",
       "      <td>11.2</td>\n",
       "      <td>0.28</td>\n",
       "      <td>0.56</td>\n",
       "      <td>1.9</td>\n",
       "      <td>0.075</td>\n",
       "      <td>17.0</td>\n",
       "      <td>60.0</td>\n",
       "      <td>0.9980</td>\n",
       "      <td>3.16</td>\n",
       "      <td>0.58</td>\n",
       "      <td>9.8</td>\n",
       "      <td>6</td>\n",
       "    </tr>\n",
       "    <tr>\n",
       "      <th>4</th>\n",
       "      <td>7.4</td>\n",
       "      <td>0.70</td>\n",
       "      <td>0.00</td>\n",
       "      <td>1.9</td>\n",
       "      <td>0.076</td>\n",
       "      <td>11.0</td>\n",
       "      <td>34.0</td>\n",
       "      <td>0.9978</td>\n",
       "      <td>3.51</td>\n",
       "      <td>0.56</td>\n",
       "      <td>9.4</td>\n",
       "      <td>5</td>\n",
       "    </tr>\n",
       "  </tbody>\n",
       "</table>\n",
       "</div>"
      ],
      "text/plain": [
       "   fixed acidity  volatile acidity  citric acid  residual sugar  chlorides  \\\n",
       "0            7.4              0.70         0.00             1.9      0.076   \n",
       "1            7.8              0.88         0.00             2.6      0.098   \n",
       "2            7.8              0.76         0.04             2.3      0.092   \n",
       "3           11.2              0.28         0.56             1.9      0.075   \n",
       "4            7.4              0.70         0.00             1.9      0.076   \n",
       "\n",
       "   free sulfur dioxide  total sulfur dioxide  density    pH  sulphates  \\\n",
       "0                 11.0                  34.0   0.9978  3.51       0.56   \n",
       "1                 25.0                  67.0   0.9968  3.20       0.68   \n",
       "2                 15.0                  54.0   0.9970  3.26       0.65   \n",
       "3                 17.0                  60.0   0.9980  3.16       0.58   \n",
       "4                 11.0                  34.0   0.9978  3.51       0.56   \n",
       "\n",
       "   alcohol  quality  \n",
       "0      9.4        5  \n",
       "1      9.8        5  \n",
       "2      9.8        5  \n",
       "3      9.8        6  \n",
       "4      9.4        5  "
      ]
     },
     "execution_count": 4,
     "metadata": {},
     "output_type": "execute_result"
    }
   ],
   "source": [
    "df_red.head()"
   ]
  },
  {
   "cell_type": "code",
   "execution_count": 5,
   "metadata": {
    "scrolled": true
   },
   "outputs": [
    {
     "data": {
      "text/plain": [
       "3     10\n",
       "4     53\n",
       "5    681\n",
       "6    638\n",
       "7    199\n",
       "8     18\n",
       "Name: quality, dtype: int64"
      ]
     },
     "execution_count": 5,
     "metadata": {},
     "output_type": "execute_result"
    }
   ],
   "source": [
    "df_red.quality.value_counts(sort=False)"
   ]
  },
  {
   "cell_type": "code",
   "execution_count": 6,
   "metadata": {
    "collapsed": true
   },
   "outputs": [],
   "source": [
    "corr = df_red.corr()"
   ]
  },
  {
   "cell_type": "code",
   "execution_count": 12,
   "metadata": {
    "collapsed": true
   },
   "outputs": [],
   "source": [
    "import seaborn as sns\n",
    "import matplotlib.pyplot as plt\n",
    "%matplotlib inline"
   ]
  },
  {
   "cell_type": "code",
   "execution_count": 14,
   "metadata": {},
   "outputs": [
    {
     "data": {
      "text/plain": [
       "<matplotlib.axes._subplots.AxesSubplot at 0x7fe19a96ca90>"
      ]
     },
     "execution_count": 14,
     "metadata": {},
     "output_type": "execute_result"
    },
    {
     "data": {
      "image/png": "[encoded data removed]",
      "text/plain": [
       "<matplotlib.figure.Figure at 0x7fe19a96cb70>"
      ]
     },
     "metadata": {},
     "output_type": "display_data"
    }
   ],
   "source": [
    "plt.figure(num=None, figsize=(12, 8))\n",
    "sns.heatmap(corr, center=0, vmin=-1, vmax=1, cmap=sns.diverging_palette(10, 133, sep=80, n=20), annot=True)"
   ]
  },
  {
   "cell_type": "code",
   "execution_count": 15,
   "metadata": {
    "collapsed": true
   },
   "outputs": [],
   "source": [
    "# Logistic Regression\n",
    "from sklearn import metrics\n",
    "from sklearn.linear_model import LogisticRegression\n",
    "from sklearn.neighbors import KNeighborsClassifier\n",
    "from sklearn.model_selection import StratifiedKFold"
   ]
  },
  {
   "cell_type": "code",
   "execution_count": 101,
   "metadata": {
    "collapsed": true
   },
   "outputs": [],
   "source": [
    "# load the iris datasets\n",
    "y = df_red.quality\n",
    "X = df_red.iloc[:, :-1]\n",
    "\n",
    "X_train, X_test, y_train, y_test = train_test_split(X, y, stratify=y, test_size=.3, random_state=129, )"
   ]
  },
  {
   "cell_type": "code",
   "execution_count": 102,
   "metadata": {},
   "outputs": [
    {
     "data": {
      "text/plain": [
       "{3: 477, 4: 139, 5: 7, 6: 13, 7: 37, 8: 446}"
      ]
     },
     "execution_count": 102,
     "metadata": {},
     "output_type": "execute_result"
    }
   ],
   "source": [
    "weights = dict(pd.Series(y_train.value_counts().as_matrix()[::-1], index=y_train.value_counts().index))\n",
    "weights"
   ]
  },
  {
   "cell_type": "code",
   "execution_count": 103,
   "metadata": {},
   "outputs": [
    {
     "name": "stdout",
     "output_type": "stream",
     "text": [
      "LogisticRegression(C=1000.0, class_weight=None, dual=False,\n",
      "          fit_intercept=True, intercept_scaling=1, max_iter=100,\n",
      "          multi_class='ovr', n_jobs=1, penalty='l2', random_state=None,\n",
      "          solver='liblinear', tol=0.0001, verbose=0, warm_start=False)\n",
      "             precision    recall  f1-score   support\n",
      "\n",
      "          3       0.00      0.00      0.00         3\n",
      "          4       0.00      0.00      0.00        16\n",
      "          5       0.62      0.74      0.68       204\n",
      "          6       0.52      0.59      0.55       192\n",
      "          7       0.57      0.13      0.22        60\n",
      "          8       0.00      0.00      0.00         5\n",
      "\n",
      "avg / total       0.54      0.57      0.54       480\n",
      "\n",
      "[[  0   0   3   0   0   0]\n",
      " [  1   0  11   4   0   0]\n",
      " [  2   0 151  50   1   0]\n",
      " [  0   0  74 114   4   0]\n",
      " [  0   0   3  49   8   0]\n",
      " [  0   0   0   4   1   0]]\n"
     ]
    },
    {
     "name": "stderr",
     "output_type": "stream",
     "text": [
      "/home/cneiderer/anaconda3/lib/python3.6/site-packages/sklearn/metrics/classification.py:1135: UndefinedMetricWarning: Precision and F-score are ill-defined and being set to 0.0 in labels with no predicted samples.\n",
      "  'precision', 'predicted', average, warn_for)\n"
     ]
    }
   ],
   "source": [
    "# fit a logistic regression model to the data\n",
    "model = LogisticRegression(C=1e3) #, class_weight=weights)\n",
    "model.fit(X_train, y_train)\n",
    "\n",
    "print(model)\n",
    "\n",
    "# make predictions\n",
    "predicted = model.predict(X_test)\n",
    "\n",
    "# summarize the fit of the model\n",
    "print(metrics.classification_report(y_test, predicted))\n",
    "print(metrics.confusion_matrix(y_test, predicted))"
   ]
  },
  {
   "cell_type": "code",
   "execution_count": 104,
   "metadata": {},
   "outputs": [
    {
     "name": "stdout",
     "output_type": "stream",
     "text": [
      "LogisticRegression(C=1000.0, class_weight=None, dual=False,\n",
      "          fit_intercept=True, intercept_scaling=1, max_iter=100,\n",
      "          multi_class='ovr', n_jobs=1, penalty='l2', random_state=None,\n",
      "          solver='liblinear', tol=0.0001, verbose=0, warm_start=False)\n",
      "             precision    recall  f1-score   support\n",
      "\n",
      "          3       0.00      0.00      0.00         3\n",
      "          4       0.00      0.00      0.00        16\n",
      "          5       0.62      0.74      0.68       204\n",
      "          6       0.52      0.59      0.55       192\n",
      "          7       0.57      0.13      0.22        60\n",
      "          8       0.00      0.00      0.00         5\n",
      "\n",
      "avg / total       0.54      0.57      0.54       480\n",
      "\n",
      "[[  0   0   3   0   0   0]\n",
      " [  1   0  11   4   0   0]\n",
      " [  2   0 151  50   1   0]\n",
      " [  0   0  74 114   4   0]\n",
      " [  0   0   3  49   8   0]\n",
      " [  0   0   0   4   1   0]]\n"
     ]
    },
    {
     "name": "stderr",
     "output_type": "stream",
     "text": [
      "/home/cneiderer/anaconda3/lib/python3.6/site-packages/sklearn/metrics/classification.py:1135: UndefinedMetricWarning: Precision and F-score are ill-defined and being set to 0.0 in labels with no predicted samples.\n",
      "  'precision', 'predicted', average, warn_for)\n"
     ]
    }
   ],
   "source": [
    "# fit a logistic regression model to the data\n",
    "model = LogisticRegression(C=1e3)\n",
    "model.fit(X_train, y_train)\n",
    "\n",
    "print(model)\n",
    "\n",
    "# make predictions\n",
    "predicted = model.predict(X_test)\n",
    "\n",
    "# summarize the fit of the model\n",
    "print(metrics.classification_report(y_test, predicted))\n",
    "print(metrics.confusion_matrix(y_test, predicted))"
   ]
  },
  {
   "cell_type": "code",
   "execution_count": 105,
   "metadata": {},
   "outputs": [
    {
     "data": {
      "text/plain": [
       "array([[  0,   0,   3,   0,   0,   0],\n",
       "       [  1,   0,  11,   4,   0,   0],\n",
       "       [  2,   0, 151,  50,   1,   0],\n",
       "       [  0,   0,  74, 114,   4,   0],\n",
       "       [  0,   0,   3,  49,   8,   0],\n",
       "       [  0,   0,   0,   4,   1,   0]])"
      ]
     },
     "execution_count": 105,
     "metadata": {},
     "output_type": "execute_result"
    }
   ],
   "source": [
    "cm = metrics.confusion_matrix(y_test, predicted)\n",
    "cm"
   ]
  },
  {
   "cell_type": "code",
   "execution_count": 106,
   "metadata": {},
   "outputs": [
    {
     "data": {
      "text/plain": [
       "0.56874999999999998"
      ]
     },
     "execution_count": 106,
     "metadata": {},
     "output_type": "execute_result"
    }
   ],
   "source": [
    "cm.diagonal().sum() / cm.sum()"
   ]
  },
  {
   "cell_type": "code",
   "execution_count": 107,
   "metadata": {
    "collapsed": true
   },
   "outputs": [],
   "source": [
    "from collections import Counter\n",
    "import itertools\n",
    "\n",
    "import matplotlib.pyplot as plt\n",
    "import numpy as np\n",
    "\n",
    "from sklearn.datasets import load_iris\n",
    "from sklearn.model_selection import train_test_split\n",
    "from sklearn.ensemble import BaggingClassifier\n",
    "from sklearn.metrics import confusion_matrix\n",
    "\n",
    "from imblearn.datasets import make_imbalance\n",
    "from imblearn.ensemble import BalancedBaggingClassifier\n",
    "\n",
    "from imblearn.metrics import classification_report_imbalanced"
   ]
  },
  {
   "cell_type": "code",
   "execution_count": 108,
   "metadata": {
    "collapsed": true
   },
   "outputs": [],
   "source": [
    "def plot_confusion_matrix(cm, classes,\n",
    "                          normalize=False,\n",
    "                          title='Confusion matrix',\n",
    "                          cmap=plt.cm.Blues):\n",
    "    \"\"\"\n",
    "    This function prints and plots the confusion matrix.\n",
    "    Normalization can be applied by setting `normalize=True`.\n",
    "    \"\"\"\n",
    "    if normalize:\n",
    "        cm = cm.astype('float') / cm.sum(axis=1)[:, np.newaxis]\n",
    "        print(\"Normalized confusion matrix\")\n",
    "    else:\n",
    "        print('Confusion matrix, without normalization')\n",
    "\n",
    "    print(cm)\n",
    "\n",
    "    plt.imshow(cm, interpolation='nearest', cmap=cmap)\n",
    "    plt.title(title)\n",
    "    plt.colorbar()\n",
    "    tick_marks = np.arange(len(classes))\n",
    "    plt.xticks(tick_marks, classes, rotation=45)\n",
    "    plt.yticks(tick_marks, classes)\n",
    "\n",
    "    fmt = '.2f' if normalize else 'd'\n",
    "    thresh = cm.max() / 2.\n",
    "    for i, j in itertools.product(range(cm.shape[0]), range(cm.shape[1])):\n",
    "        plt.text(j, i, format(cm[i, j], fmt),\n",
    "                 horizontalalignment=\"center\",\n",
    "                 color=\"white\" if cm[i, j] > thresh else \"black\")\n",
    "\n",
    "    plt.tight_layout()\n",
    "    plt.ylabel('True label')\n",
    "    plt.xlabel('Predicted label')"
   ]
  },
  {
   "cell_type": "code",
   "execution_count": 109,
   "metadata": {},
   "outputs": [
    {
     "name": "stdout",
     "output_type": "stream",
     "text": [
      "Class distribution of the training set: Counter({5: 502, 6: 476, 7: 154, 4: 44, 8: 14, 3: 9})\n",
      "Class distribution of the test set: Counter({5: 179, 6: 162, 7: 45, 4: 9, 8: 4, 3: 1})\n",
      "Classification results using a bagging classifier on imbalanced data\n",
      "                   pre       rec       spe        f1       geo       iba       sup\n",
      "\n",
      "          3       0.00      0.00      1.00      0.00      0.00      0.00         1\n",
      "          4       0.00      0.00      1.00      0.00      0.00      0.00         9\n",
      "          5       0.00      0.00      1.00      0.00      0.00      0.00       179\n",
      "          6       0.47      0.47      0.65      0.47      0.55      0.30       162\n",
      "          7       0.07      0.38      0.37      0.12      0.24      0.05        45\n",
      "          8       0.00      0.00      1.00      0.00      0.00      0.00         4\n",
      "\n",
      "avg / total       0.20      0.23      0.79      0.20      0.25      0.13       400\n",
      "\n",
      "Confusion matrix, without normalization\n",
      "[[  0   0   0   0   1   0]\n",
      " [  0   0   0   3   6   0]\n",
      " [  0   0   0  50 129   0]\n",
      " [  0   0   0  76  86   0]\n",
      " [  0   0   0  28  17   0]\n",
      " [  0   0   0   3   1   0]]\n",
      "Classification results using a bagging classifier on balanced data\n",
      "                   pre       rec       spe        f1       geo       iba       sup\n",
      "\n",
      "          3       0.00      0.00      0.87      0.00      0.00      0.00         1\n",
      "          4       0.03      0.22      0.83      0.05      0.17      0.03         9\n",
      "          5       0.75      0.32      0.91      0.45      0.68      0.47       179\n",
      "          6       0.51      0.29      0.81      0.37      0.57      0.32       162\n",
      "          7       0.29      0.40      0.87      0.33      0.51      0.25        45\n",
      "          8       0.02      0.25      0.88      0.04      0.14      0.02         4\n",
      "\n",
      "avg / total       0.58      0.31      0.87      0.39      0.60      0.37       400\n",
      "\n",
      "Confusion matrix, without normalization\n",
      "[[ 0  1  0  0  0  0]\n",
      " [ 2  2  1  1  3  0]\n",
      " [29 37 57 33 11 12]\n",
      " [18 24 18 47 29 26]\n",
      " [ 2  3  0 11 18 11]\n",
      " [ 1  0  0  0  2  1]]\n"
     ]
    },
    {
     "name": "stderr",
     "output_type": "stream",
     "text": [
      "/home/cneiderer/anaconda3/lib/python3.6/site-packages/sklearn/metrics/classification.py:1135: UndefinedMetricWarning: Precision and F-score are ill-defined and being set to 0.0 in labels with no predicted samples.\n",
      "  'precision', 'predicted', average, warn_for)\n",
      "/home/cneiderer/anaconda3/lib/python3.6/site-packages/imblearn/metrics/classification.py:244: UndefinedMetricWarning: Sensitivity is ill-defined and being set to 0.0 in labels with no true samples.\n",
      "  average, warn_for)\n"
     ]
    },
    {
     "data": {
      "image/png": "[encoded data removed]",
      "text/plain": [
       "<matplotlib.figure.Figure at 0x7fe18b906908>"
      ]
     },
     "metadata": {},
     "output_type": "display_data"
    },
    {
     "data": {
      "image/png": "[encoded data removed]",
      "text/plain": [
       "<matplotlib.figure.Figure at 0x7fe18bb129e8>"
      ]
     },
     "metadata": {},
     "output_type": "display_data"
    }
   ],
   "source": [
    "X_train, X_test, y_train, y_test = train_test_split(X, y, random_state=1294)\n",
    "\n",
    "bagging = BaggingClassifier(random_state=0)\n",
    "balanced_bagging = BalancedBaggingClassifier(random_state=0)\n",
    "\n",
    "print('Class distribution of the training set: {}'.format(Counter(y_train)))\n",
    "\n",
    "bagging.fit(X_train, y_train)\n",
    "balanced_bagging.fit(X_train, y_train)\n",
    "\n",
    "print('Class distribution of the test set: {}'.format(Counter(y_test)))\n",
    "\n",
    "print('Classification results using a bagging classifier on imbalanced data')\n",
    "y_pred_bagging = bagging.predict(X_test)\n",
    "print(classification_report_imbalanced(y_test, y_pred_bagging))\n",
    "cm_bagging = confusion_matrix(y_test, y_pred_bagging)\n",
    "plt.figure()\n",
    "plot_confusion_matrix(cm_bagging, classes=np.unique(df_red.quality),\n",
    "                      title='Confusion matrix using BaggingClassifier')\n",
    "\n",
    "print('Classification results using a bagging classifier on balanced data')\n",
    "y_pred_balanced_bagging = balanced_bagging.predict(X_test)\n",
    "print(classification_report_imbalanced(y_test, y_pred_balanced_bagging))\n",
    "cm_balanced_bagging = confusion_matrix(y_test, y_pred_balanced_bagging)\n",
    "plt.figure()\n",
    "plot_confusion_matrix(cm_balanced_bagging, classes=np.unique(df_red.quality),\n",
    "                      title='Confusion matrix using BalancedBaggingClassifier')"
   ]
  },
  {
   "cell_type": "code",
   "execution_count": 110,
   "metadata": {
    "collapsed": true
   },
   "outputs": [],
   "source": [
    "from collections import Counter\n",
    "\n",
    "import matplotlib.pyplot as plt\n",
    "import numpy as np\n",
    "\n",
    "from sklearn.datasets import make_classification\n",
    "from sklearn.svm import LinearSVC\n",
    "\n",
    "from imblearn.pipeline import make_pipeline\n",
    "from imblearn.over_sampling import ADASYN, SMOTE, RandomOverSampler\n",
    "from imblearn.base import SamplerMixin\n",
    "from imblearn.utils import hash_X_y"
   ]
  },
  {
   "cell_type": "code",
   "execution_count": 186,
   "metadata": {},
   "outputs": [
    {
     "name": "stdout",
     "output_type": "stream",
     "text": [
      "             precision    recall  f1-score   support\n",
      "\n",
      "          3       0.00      0.00      0.00         1\n",
      "          4       0.03      0.22      0.05         9\n",
      "          5       0.70      0.53      0.60       179\n",
      "          6       0.56      0.19      0.29       162\n",
      "          7       0.23      0.33      0.27        45\n",
      "          8       0.06      0.75      0.12         4\n",
      "\n",
      "avg / total       0.57      0.36      0.42       400\n",
      "\n",
      "[[ 0  1  0  0  0  0]\n",
      " [ 1  2  3  1  1  1]\n",
      " [16 39 95 15 11  3]\n",
      " [ 9 26 36 31 38 22]\n",
      " [ 0  1  2  8 15 19]\n",
      " [ 0  0  0  0  1  3]]\n"
     ]
    }
   ],
   "source": [
    "pipe1 = make_pipeline(RandomOverSampler(random_state=1294), LogisticRegression(C=1000))\n",
    "pipe1.fit(X_train, y_train)\n",
    "predicted = pipe1.predict(X_test)\n",
    "\n",
    "# summarize the fit of the model\n",
    "print(metrics.classification_report(y_test, predicted))\n",
    "print(metrics.confusion_matrix(y_test, predicted))"
   ]
  },
  {
   "cell_type": "code",
   "execution_count": 172,
   "metadata": {},
   "outputs": [
    {
     "name": "stdout",
     "output_type": "stream",
     "text": [
      "             precision    recall  f1-score   support\n",
      "\n",
      "          3       0.00      0.00      0.00         1\n",
      "          4       0.02      0.11      0.03         9\n",
      "          5       0.69      0.53      0.59       179\n",
      "          6       0.60      0.11      0.19       162\n",
      "          7       0.27      0.33      0.30        45\n",
      "          8       0.03      0.50      0.06         4\n",
      "\n",
      "avg / total       0.58      0.33      0.38       400\n",
      "\n",
      "[[ 0  1  0  0  0  0]\n",
      " [ 2  1  2  1  1  2]\n",
      " [23 32 94  9 14  7]\n",
      " [29 21 39 18 25 30]\n",
      " [ 4  3  2  2 15 19]\n",
      " [ 1  0  0  0  1  2]]\n"
     ]
    }
   ],
   "source": [
    "pipe = make_pipeline(RandomOverSampler(random_state=1294), KNeighborsClassifier(n_neighbors=5))\n",
    "pipe.fit(X_train, y_train)\n",
    "predicted = pipe.predict(X_test)\n",
    "\n",
    "# summarize the fit of the model\n",
    "print(metrics.classification_report(y_test, predicted))\n",
    "print(metrics.confusion_matrix(y_test, predicted))"
   ]
  },
  {
   "cell_type": "code",
   "execution_count": 175,
   "metadata": {
    "collapsed": true
   },
   "outputs": [],
   "source": [
    "from sklearn.naive_bayes import GaussianNB"
   ]
  },
  {
   "cell_type": "code",
   "execution_count": 182,
   "metadata": {},
   "outputs": [
    {
     "name": "stdout",
     "output_type": "stream",
     "text": [
      "             precision    recall  f1-score   support\n",
      "\n",
      "          3       0.00      0.00      0.00         1\n",
      "          4       0.08      0.11      0.09         9\n",
      "          5       0.73      0.61      0.67       179\n",
      "          6       0.55      0.57      0.56       162\n",
      "          7       0.40      0.53      0.46        45\n",
      "          8       0.20      0.25      0.22         4\n",
      "\n",
      "avg / total       0.60      0.57      0.58       400\n",
      "\n",
      "[[  0   0   1   0   0   0]\n",
      " [  0   1   4   3   1   0]\n",
      " [  1   5 110  56   7   0]\n",
      " [  0   7  34  93  25   3]\n",
      " [  0   0   2  18  24   1]\n",
      " [  0   0   0   0   3   1]]\n"
     ]
    }
   ],
   "source": [
    "clf5 = GaussianNB()\n",
    "clf5.fit(X_train, y_train)\n",
    "predicted = clf5.predict(X_test)\n",
    "\n",
    "# summarize the fit of the model\n",
    "print(metrics.classification_report(y_test, predicted))\n",
    "print(metrics.confusion_matrix(y_test, predicted))"
   ]
  },
  {
   "cell_type": "code",
   "execution_count": 184,
   "metadata": {
    "collapsed": true
   },
   "outputs": [],
   "source": [
    "from sklearn.ensemble import VotingClassifier"
   ]
  },
  {
   "cell_type": "code",
   "execution_count": 195,
   "metadata": {},
   "outputs": [
    {
     "name": "stdout",
     "output_type": "stream",
     "text": [
      "             precision    recall  f1-score   support\n",
      "\n",
      "          3       0.00      0.00      0.00         1\n",
      "          4       0.08      0.11      0.09         9\n",
      "          5       0.73      0.63      0.67       179\n",
      "          6       0.55      0.57      0.56       162\n",
      "          7       0.39      0.53      0.45        45\n",
      "          8       0.33      0.25      0.29         4\n",
      "\n",
      "avg / total       0.60      0.58      0.59       400\n",
      "\n",
      "[[  0   0   1   0   0   0]\n",
      " [  0   1   4   3   1   0]\n",
      " [  1   5 112  54   7   0]\n",
      " [  0   7  34  93  27   1]\n",
      " [  0   0   2  18  24   1]\n",
      " [  0   0   0   0   3   1]]\n"
     ]
    }
   ],
   "source": [
    "vote1 = VotingClassifier([('rf', clf5), ('nb', clf1), ('lr', model)], voting='soft', weights=[0.9, 0.05, 0.05])\n",
    "vote1.fit(X_train, y_train)\n",
    "\n",
    "vote_pred = vote1.predict(X_test)\n",
    "\n",
    "print(metrics.classification_report(y_test, vote_pred))\n",
    "print(metrics.confusion_matrix(y_test, vote_pred))"
   ]
  },
  {
   "cell_type": "code",
   "execution_count": 183,
   "metadata": {},
   "outputs": [
    {
     "name": "stdout",
     "output_type": "stream",
     "text": [
      "             precision    recall  f1-score   support\n",
      "\n",
      "          3       0.00      0.00      0.00         1\n",
      "          4       0.02      0.11      0.03         9\n",
      "          5       0.69      0.53      0.59       179\n",
      "          6       0.60      0.11      0.19       162\n",
      "          7       0.27      0.33      0.30        45\n",
      "          8       0.03      0.50      0.06         4\n",
      "\n",
      "avg / total       0.58      0.33      0.38       400\n",
      "\n",
      "[[ 0  1  0  0  0  0]\n",
      " [ 2  1  2  1  1  2]\n",
      " [23 32 94  9 14  7]\n",
      " [29 21 39 18 25 30]\n",
      " [ 4  3  2  2 15 19]\n",
      " [ 1  0  0  0  1  2]]\n"
     ]
    }
   ],
   "source": [
    "priors = df_red.quality.value_counts() / df_red.quality.count()\n",
    "pipe = make_pipeline(RandomOverSampler(random_state=1294), GaussianNB(priors=priors))\n",
    "pipe.fit(X_train, y_train)\n",
    "predicted = model.predict(X_test)\n",
    "\n",
    "# summarize the fit of the model\n",
    "print(metrics.classification_report(y_test, predicted))\n",
    "print(metrics.confusion_matrix(y_test, predicted))"
   ]
  },
  {
   "cell_type": "code",
   "execution_count": 166,
   "metadata": {
    "collapsed": true
   },
   "outputs": [],
   "source": [
    "from sklearn.ensemble import RandomForestClassifier\n",
    "from sklearn.ensemble import ExtraTreesClassifier\n",
    "from sklearn.ensemble import GradientBoostingClassifier"
   ]
  },
  {
   "cell_type": "code",
   "execution_count": 185,
   "metadata": {},
   "outputs": [
    {
     "name": "stdout",
     "output_type": "stream",
     "text": [
      "             precision    recall  f1-score   support\n",
      "\n",
      "          3       0.00      0.00      0.00         1\n",
      "          4       0.00      0.00      0.00         9\n",
      "          5       0.76      0.83      0.79       179\n",
      "          6       0.67      0.68      0.68       162\n",
      "          7       0.61      0.56      0.58        45\n",
      "          8       0.00      0.00      0.00         4\n",
      "\n",
      "avg / total       0.68      0.71      0.69       400\n",
      "\n",
      "[[  0   0   1   0   0   0]\n",
      " [  0   0   5   3   1   0]\n",
      " [  0   0 148  29   2   0]\n",
      " [  0   0  40 110  12   0]\n",
      " [  0   0   2  18  25   0]\n",
      " [  0   0   0   3   1   0]]\n"
     ]
    },
    {
     "name": "stderr",
     "output_type": "stream",
     "text": [
      "/home/cneiderer/anaconda3/lib/python3.6/site-packages/sklearn/metrics/classification.py:1135: UndefinedMetricWarning: Precision and F-score are ill-defined and being set to 0.0 in labels with no predicted samples.\n",
      "  'precision', 'predicted', average, warn_for)\n"
     ]
    }
   ],
   "source": [
    "clf1 = RandomForestClassifier(n_estimators=1000, random_state=1294)\n",
    "clf1.fit(X_train, y_train)\n",
    "predicted = clf1.predict(X_test)\n",
    "\n",
    "# summarize the fit of the model\n",
    "print(metrics.classification_report(y_test, predicted))\n",
    "print(metrics.confusion_matrix(y_test, predicted))"
   ]
  },
  {
   "cell_type": "code",
   "execution_count": 196,
   "metadata": {},
   "outputs": [
    {
     "name": "stdout",
     "output_type": "stream",
     "text": [
      "             precision    recall  f1-score   support\n",
      "\n",
      "          3       0.00      0.00      0.00         1\n",
      "          4       0.00      0.00      0.00         9\n",
      "          5       0.76      0.83      0.79       179\n",
      "          6       0.68      0.66      0.67       162\n",
      "          7       0.56      0.56      0.56        45\n",
      "          8       0.00      0.00      0.00         4\n",
      "\n",
      "avg / total       0.68      0.70      0.69       400\n",
      "\n",
      "[[  0   0   1   0   0   0]\n",
      " [  0   0   5   3   1   0]\n",
      " [  0   1 149  27   2   0]\n",
      " [  0   0  40 107  15   0]\n",
      " [  0   0   2  18  25   0]\n",
      " [  0   0   0   2   2   0]]\n"
     ]
    },
    {
     "name": "stderr",
     "output_type": "stream",
     "text": [
      "/home/cneiderer/anaconda3/lib/python3.6/site-packages/sklearn/metrics/classification.py:1135: UndefinedMetricWarning: Precision and F-score are ill-defined and being set to 0.0 in labels with no predicted samples.\n",
      "  'precision', 'predicted', average, warn_for)\n"
     ]
    }
   ],
   "source": [
    "clf2 = ExtraTreesClassifier(n_estimators=1000, random_state=1294)\n",
    "clf2.fit(X_train, y_train)\n",
    "predicted = clf2.predict(X_test)\n",
    "\n",
    "# summarize the fit of the model\n",
    "print(metrics.classification_report(y_test, predicted))\n",
    "print(metrics.confusion_matrix(y_test, predicted))"
   ]
  },
  {
   "cell_type": "code",
   "execution_count": 174,
   "metadata": {},
   "outputs": [
    {
     "name": "stdout",
     "output_type": "stream",
     "text": [
      "             precision    recall  f1-score   support\n",
      "\n",
      "          3       0.00      0.00      0.00         1\n",
      "          4       0.00      0.00      0.00         9\n",
      "          5       0.75      0.79      0.77       179\n",
      "          6       0.65      0.61      0.63       162\n",
      "          7       0.57      0.58      0.57        45\n",
      "          8       0.00      0.00      0.00         4\n",
      "\n",
      "avg / total       0.66      0.67      0.66       400\n",
      "\n",
      "[[  0   0   1   0   0   0]\n",
      " [  0   0   6   2   1   0]\n",
      " [  1   2 141  34   1   0]\n",
      " [  3   5  38  99  16   1]\n",
      " [  0   0   3  16  26   0]\n",
      " [  0   0   0   2   2   0]]\n"
     ]
    }
   ],
   "source": [
    "clf = GradientBoostingClassifier(n_estimators=1000, random_state=1294)\n",
    "clf.fit(X_train, y_train)\n",
    "predicted = clf.predict(X_test)\n",
    "\n",
    "# summarize the fit of the model\n",
    "print(metrics.classification_report(y_test, predicted))\n",
    "print(metrics.confusion_matrix(y_test, predicted))"
   ]
  },
  {
   "cell_type": "code",
   "execution_count": 165,
   "metadata": {},
   "outputs": [
    {
     "name": "stdout",
     "output_type": "stream",
     "text": [
      "             precision    recall  f1-score   support\n",
      "\n",
      "          3       0.00      0.00      0.00         1\n",
      "          4       0.02      0.11      0.03         9\n",
      "          5       0.69      0.53      0.59       179\n",
      "          6       0.60      0.11      0.19       162\n",
      "          7       0.27      0.33      0.30        45\n",
      "          8       0.03      0.50      0.06         4\n",
      "\n",
      "avg / total       0.58      0.33      0.38       400\n",
      "\n",
      "[[ 0  1  0  0  0  0]\n",
      " [ 2  1  2  1  1  2]\n",
      " [23 32 94  9 14  7]\n",
      " [29 21 39 18 25 30]\n",
      " [ 4  3  2  2 15 19]\n",
      " [ 1  0  0  0  1  2]]\n"
     ]
    }
   ],
   "source": [
    "pipe = make_pipeline(SMOTE(ratio='minority', random_state=1294, k_neighbors=5), LogisticRegression(C=1000))\n",
    "pipe.fit(X_train, y_train)\n",
    "predicted = model.predict(X_test)\n",
    "\n",
    "# summarize the fit of the model\n",
    "print(metrics.classification_report(y_test, predicted))\n",
    "print(metrics.confusion_matrix(y_test, predicted))"
   ]
  },
  {
   "cell_type": "code",
   "execution_count": 128,
   "metadata": {},
   "outputs": [
    {
     "data": {
      "text/plain": [
       "{3: 9, 4: 44, 5: 502, 6: 476, 7: 154, 8: 14}"
      ]
     },
     "execution_count": 128,
     "metadata": {},
     "output_type": "execute_result"
    }
   ],
   "source": []
  },
  {
   "cell_type": "code",
   "execution_count": 130,
   "metadata": {},
   "outputs": [
    {
     "data": {
      "text/plain": [
       "{3: 502, 4: 502, 5: 502, 6: 502, 7: 502, 8: 502}"
      ]
     },
     "execution_count": 130,
     "metadata": {},
     "output_type": "execute_result"
    }
   ],
   "source": [
    "tmp = dict(y_train.value_counts())\n",
    "weights2 = {k: max(tmp.values()) for k in tmp.keys()}\n",
    "weights2"
   ]
  },
  {
   "cell_type": "code",
   "execution_count": 156,
   "metadata": {},
   "outputs": [],
   "source": [
    "ada = ADASYN(ratio='minority', random_state=1294)\n",
    "X_res, y_res = ada.fit_sample(X_train, y_train)\n",
    "while (pd.Series(y_res).value_counts().min() / pd.Series(y_res).value_counts().max()) < 0.9:\n",
    "    X_res, y_res = ada.fit_sample(X_res, y_res)"
   ]
  },
  {
   "cell_type": "code",
   "execution_count": 158,
   "metadata": {},
   "outputs": [
    {
     "ename": "ValueError",
     "evalue": "No samples will be generated with the provided ratio settings.",
     "output_type": "error",
     "traceback": [
      "\u001b[0;31m---------------------------------------------------------------------------\u001b[0m",
      "\u001b[0;31mValueError\u001b[0m                                Traceback (most recent call last)",
      "\u001b[0;32m<ipython-input-158-cd3527b5449e>\u001b[0m in \u001b[0;36m<module>\u001b[0;34m()\u001b[0m\n\u001b[1;32m      1\u001b[0m \u001b[0mada\u001b[0m \u001b[0;34m=\u001b[0m \u001b[0mADASYN\u001b[0m\u001b[0;34m(\u001b[0m\u001b[0mrandom_state\u001b[0m\u001b[0;34m=\u001b[0m\u001b[0;36m1294\u001b[0m\u001b[0;34m)\u001b[0m\u001b[0;34m\u001b[0m\u001b[0m\n\u001b[0;32m----> 2\u001b[0;31m \u001b[0mX_res\u001b[0m\u001b[0;34m,\u001b[0m \u001b[0my_res\u001b[0m \u001b[0;34m=\u001b[0m \u001b[0mada\u001b[0m\u001b[0;34m.\u001b[0m\u001b[0mfit_sample\u001b[0m\u001b[0;34m(\u001b[0m\u001b[0mX_train\u001b[0m\u001b[0;34m,\u001b[0m \u001b[0my_train\u001b[0m\u001b[0;34m)\u001b[0m\u001b[0;34m\u001b[0m\u001b[0m\n\u001b[0m\u001b[1;32m      3\u001b[0m \u001b[0;31m# fit a logistic regression model to the data\u001b[0m\u001b[0;34m\u001b[0m\u001b[0;34m\u001b[0m\u001b[0m\n\u001b[1;32m      4\u001b[0m \u001b[0mmodel\u001b[0m \u001b[0;34m=\u001b[0m \u001b[0mLogisticRegression\u001b[0m\u001b[0;34m(\u001b[0m\u001b[0mC\u001b[0m\u001b[0;34m=\u001b[0m\u001b[0;36m1e3\u001b[0m\u001b[0;34m)\u001b[0m\u001b[0;34m\u001b[0m\u001b[0m\n\u001b[1;32m      5\u001b[0m \u001b[0mmodel\u001b[0m\u001b[0;34m.\u001b[0m\u001b[0mfit\u001b[0m\u001b[0;34m(\u001b[0m\u001b[0mX_res\u001b[0m\u001b[0;34m,\u001b[0m \u001b[0my_res\u001b[0m\u001b[0;34m)\u001b[0m\u001b[0;34m\u001b[0m\u001b[0m\n",
      "\u001b[0;32m~/anaconda3/lib/python3.6/site-packages/imblearn/base.py\u001b[0m in \u001b[0;36mfit_sample\u001b[0;34m(self, X, y)\u001b[0m\n\u001b[1;32m     86\u001b[0m         \"\"\"\n\u001b[1;32m     87\u001b[0m \u001b[0;34m\u001b[0m\u001b[0m\n\u001b[0;32m---> 88\u001b[0;31m         \u001b[0;32mreturn\u001b[0m \u001b[0mself\u001b[0m\u001b[0;34m.\u001b[0m\u001b[0mfit\u001b[0m\u001b[0;34m(\u001b[0m\u001b[0mX\u001b[0m\u001b[0;34m,\u001b[0m \u001b[0my\u001b[0m\u001b[0;34m)\u001b[0m\u001b[0;34m.\u001b[0m\u001b[0msample\u001b[0m\u001b[0;34m(\u001b[0m\u001b[0mX\u001b[0m\u001b[0;34m,\u001b[0m \u001b[0my\u001b[0m\u001b[0;34m)\u001b[0m\u001b[0;34m\u001b[0m\u001b[0m\n\u001b[0m\u001b[1;32m     89\u001b[0m \u001b[0;34m\u001b[0m\u001b[0m\n\u001b[1;32m     90\u001b[0m     \u001b[0;34m@\u001b[0m\u001b[0mabstractmethod\u001b[0m\u001b[0;34m\u001b[0m\u001b[0m\n",
      "\u001b[0;32m~/anaconda3/lib/python3.6/site-packages/imblearn/base.py\u001b[0m in \u001b[0;36msample\u001b[0;34m(self, X, y)\u001b[0m\n\u001b[1;32m     62\u001b[0m         \u001b[0mself\u001b[0m\u001b[0;34m.\u001b[0m\u001b[0m_check_X_y\u001b[0m\u001b[0;34m(\u001b[0m\u001b[0mX\u001b[0m\u001b[0;34m,\u001b[0m \u001b[0my\u001b[0m\u001b[0;34m)\u001b[0m\u001b[0;34m\u001b[0m\u001b[0m\n\u001b[1;32m     63\u001b[0m \u001b[0;34m\u001b[0m\u001b[0m\n\u001b[0;32m---> 64\u001b[0;31m         \u001b[0;32mreturn\u001b[0m \u001b[0mself\u001b[0m\u001b[0;34m.\u001b[0m\u001b[0m_sample\u001b[0m\u001b[0;34m(\u001b[0m\u001b[0mX\u001b[0m\u001b[0;34m,\u001b[0m \u001b[0my\u001b[0m\u001b[0;34m)\u001b[0m\u001b[0;34m\u001b[0m\u001b[0m\n\u001b[0m\u001b[1;32m     65\u001b[0m \u001b[0;34m\u001b[0m\u001b[0m\n\u001b[1;32m     66\u001b[0m     \u001b[0;32mdef\u001b[0m \u001b[0mfit_sample\u001b[0m\u001b[0;34m(\u001b[0m\u001b[0mself\u001b[0m\u001b[0;34m,\u001b[0m \u001b[0mX\u001b[0m\u001b[0;34m,\u001b[0m \u001b[0my\u001b[0m\u001b[0;34m)\u001b[0m\u001b[0;34m:\u001b[0m\u001b[0;34m\u001b[0m\u001b[0m\n",
      "\u001b[0;32m~/anaconda3/lib/python3.6/site-packages/imblearn/over_sampling/adasyn.py\u001b[0m in \u001b[0;36m_sample\u001b[0;34m(self, X, y)\u001b[0m\n\u001b[1;32m    178\u001b[0m             \u001b[0mn_samples_generate\u001b[0m \u001b[0;34m=\u001b[0m \u001b[0mnp\u001b[0m\u001b[0;34m.\u001b[0m\u001b[0mrint\u001b[0m\u001b[0;34m(\u001b[0m\u001b[0mratio_nn\u001b[0m \u001b[0;34m*\u001b[0m \u001b[0mn_samples\u001b[0m\u001b[0;34m)\u001b[0m\u001b[0;34m.\u001b[0m\u001b[0mastype\u001b[0m\u001b[0;34m(\u001b[0m\u001b[0mint\u001b[0m\u001b[0;34m)\u001b[0m\u001b[0;34m\u001b[0m\u001b[0m\n\u001b[1;32m    179\u001b[0m             \u001b[0;32mif\u001b[0m \u001b[0;32mnot\u001b[0m \u001b[0mnp\u001b[0m\u001b[0;34m.\u001b[0m\u001b[0msum\u001b[0m\u001b[0;34m(\u001b[0m\u001b[0mn_samples_generate\u001b[0m\u001b[0;34m)\u001b[0m\u001b[0;34m:\u001b[0m\u001b[0;34m\u001b[0m\u001b[0m\n\u001b[0;32m--> 180\u001b[0;31m                 raise ValueError(\"No samples will be generated with the\"\n\u001b[0m\u001b[1;32m    181\u001b[0m                                  \" provided ratio settings.\")\n\u001b[1;32m    182\u001b[0m \u001b[0;34m\u001b[0m\u001b[0m\n",
      "\u001b[0;31mValueError\u001b[0m: No samples will be generated with the provided ratio settings."
     ]
    }
   ],
   "source": [
    "ada = ADASYN(random_state=1294)\n",
    "X_res, y_res = ada.fit_sample(X_train, y_train)\n",
    "# fit a logistic regression model to the data\n",
    "model = LogisticRegression(C=1e3)\n",
    "model.fit(X_res, y_res)\n",
    "\n",
    "print(model)\n",
    "\n",
    "# make predictions\n",
    "predicted = model.predict(X_test)\n",
    "\n",
    "# summarize the fit of the model\n",
    "print(metrics.classification_report(y_test, predicted))\n",
    "print(metrics.confusion_matrix(y_test, predicted))"
   ]
  },
  {
   "cell_type": "code",
   "execution_count": null,
   "metadata": {
    "collapsed": true
   },
   "outputs": [],
   "source": []
  },
  {
   "cell_type": "code",
   "execution_count": null,
   "metadata": {
    "collapsed": true
   },
   "outputs": [],
   "source": [
    "from sklearn.naive_bayes import GaussianNB"
   ]
  },
  {
   "cell_type": "code",
   "execution_count": null,
   "metadata": {
    "collapsed": true
   },
   "outputs": [],
   "source": [
    "y = df_red.quality\n",
    "X = df_red.iloc[:, :-1]\n",
    "\n",
    "X_train, X_test, y_train, y_test = train_test_split(X, y, test_size=.7, random_state=129)\n",
    "\n",
    "# Train model\n",
    "clf5 = GaussianNB()"
   ]
  },
  {
   "cell_type": "code",
   "execution_count": null,
   "metadata": {
    "collapsed": true
   },
   "outputs": [],
   "source": [
    "clf5.fit(X_train, y_train, )\n",
    "\n",
    "pred_y5 = clf5.predict(X_test)\n",
    "\n",
    "# Is our model still predicting just one class?\n",
    "print( np.unique( pred_y5 ) )\n",
    " \n",
    "# How's our accuracy?\n",
    "print( metrics.accuracy_score(y_test, pred_y5) )"
   ]
  },
  {
   "cell_type": "code",
   "execution_count": null,
   "metadata": {
    "collapsed": true
   },
   "outputs": [],
   "source": [
    "print(clf4)\n",
    "\n",
    "# summarize the fit of the model\n",
    "print(metrics.classification_report(y_test, pred_y5))\n",
    "print(metrics.confusion_matrix(y_test, pred_y5))"
   ]
  },
  {
   "cell_type": "code",
   "execution_count": null,
   "metadata": {
    "collapsed": true
   },
   "outputs": [],
   "source": []
  }
 ],
 "metadata": {
  "kernelspec": {
   "display_name": "Python 3",
   "language": "python",
   "name": "python3"
  },
  "language_info": {
   "codemirror_mode": {
    "name": "ipython",
    "version": 3
   },
   "file_extension": ".py",
   "mimetype": "text/x-python",
   "name": "python",
   "nbconvert_exporter": "python",
   "pygments_lexer": "ipython3",
   "version": "3.6.4"
  },
  "varInspector": {
   "cols": {
    "lenName": 16,
    "lenType": 16,
    "lenVar": 40
   },
   "kernels_config": {
    "python": {
     "delete_cmd_postfix": "",
     "delete_cmd_prefix": "del ",
     "library": "var_list.py",
     "varRefreshCmd": "print(var_dic_list())"
    },
    "r": {
     "delete_cmd_postfix": ") ",
     "delete_cmd_prefix": "rm(",
     "library": "var_list.r",
     "varRefreshCmd": "cat(var_dic_list()) "
    }
   },
   "types_to_exclude": [
    "module",
    "function",
    "builtin_function_or_method",
    "instance",
    "_Feature"
   ],
   "window_display": false
  }
 },
 "nbformat": 4,
 "nbformat_minor": 2
}
