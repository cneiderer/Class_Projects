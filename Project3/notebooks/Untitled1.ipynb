{
 "cells": [
  {
   "cell_type": "code",
   "execution_count": 13,
   "metadata": {
    "collapsed": true
   },
   "outputs": [],
   "source": [
    "import requests\n",
    "import numpy as np"
   ]
  },
  {
   "cell_type": "code",
   "execution_count": 67,
   "metadata": {},
   "outputs": [],
   "source": [
    "test_1s = np.array([[  7.4   ,   0.59  ,   0.08  ,   4.4   ,   0.086 ,   6.    ,\n",
    "         29.    ,   0.9974,   3.38  ,   0.5   ,   9.    ],\n",
    "       [  5.7   ,   1.13  ,   0.09  ,   1.5   ,   0.172 ,   7.    ,\n",
    "         19.    ,   0.994 ,   3.5   ,   0.48  ,   9.8   ]])\n",
    "\n",
    "test_2s = np.array([[  7.4   ,   0.7   ,   0.    ,   1.9   ,   0.076 ,  11.    ,\n",
    "         34.    ,   0.9978,   3.51  ,   0.56  ,   9.4   ],\n",
    "       [  7.8   ,   0.88  ,   0.    ,   2.6   ,   0.098 ,  25.    ,\n",
    "         67.    ,   0.9968,   3.2   ,   0.68  ,   9.8   ]])\n",
    "\n",
    "test_3s = np.array([[  7.30000000e+00,   6.50000000e-01,   0.00000000e+00,\n",
    "          1.20000000e+00,   6.50000000e-02,   1.50000000e+01,\n",
    "          2.10000000e+01,   9.94600000e-01,   3.39000000e+00,\n",
    "          4.70000000e-01,   1.00000000e+01],\n",
    "       [  7.80000000e+00,   5.80000000e-01,   2.00000000e-02,\n",
    "          2.00000000e+00,   7.30000000e-02,   9.00000000e+00,\n",
    "          1.80000000e+01,   9.96800000e-01,   3.36000000e+00,\n",
    "          5.70000000e-01,   9.50000000e+00]])"
   ]
  },
  {
   "cell_type": "code",
   "execution_count": 79,
   "metadata": {},
   "outputs": [],
   "source": [
    "y = [12.4, 0.49, 0.58, 3.0, 0.103, 28.0, 99.0, 1.0008, 3.16, 1.0, 11.5]\n",
    "x = [7.4, 0.7, 0, 1.9, 0.076, 11, 34, 0.9978, 3.51, 0.56, 9.4]"
   ]
  },
  {
   "cell_type": "code",
   "execution_count": 80,
   "metadata": {
    "scrolled": true
   },
   "outputs": [
    {
     "name": "stdout",
     "output_type": "stream",
     "text": [
      "{'score1': 0.5228847088181701, 'score2': 0.4467410888873939, 'score3': 0.03037420229443603}\n"
     ]
    }
   ],
   "source": [
    "test = x\n",
    "response = requests.post('http://127.0.0.1:5000/score',\n",
    "                         json={'example': test})\n",
    "\n",
    "print(response.json())"
   ]
  },
  {
   "cell_type": "code",
   "execution_count": 63,
   "metadata": {},
   "outputs": [
    {
     "data": {
      "text/plain": [
       "200"
      ]
     },
     "execution_count": 63,
     "metadata": {},
     "output_type": "execute_result"
    }
   ],
   "source": [
    "response.status_code"
   ]
  },
  {
   "cell_type": "code",
   "execution_count": 77,
   "metadata": {},
   "outputs": [
    {
     "data": {
      "text/plain": [
       "[6.3, 0.39, 0.16, 1.4, 0.08, 11.0, 23.0, 0.9955, 3.34, 0.56, 9.3]"
      ]
     },
     "execution_count": 77,
     "metadata": {},
     "output_type": "execute_result"
    }
   ],
   "source": [
    "list(x)"
   ]
  },
  {
   "cell_type": "code",
   "execution_count": 51,
   "metadata": {
    "collapsed": true
   },
   "outputs": [],
   "source": [
    "import flask\n",
    "import numpy as np\n",
    "import pandas as pd\n",
    "import pickle"
   ]
  },
  {
   "cell_type": "code",
   "execution_count": 52,
   "metadata": {},
   "outputs": [
    {
     "ename": "IndexError",
     "evalue": "index 1 is out of bounds for axis 0 with size 1",
     "output_type": "error",
     "traceback": [
      "\u001b[0;31m---------------------------------------------------------------------------\u001b[0m",
      "\u001b[0;31mIndexError\u001b[0m                                Traceback (most recent call last)",
      "\u001b[0;32m<ipython-input-52-018b749f8865>\u001b[0m in \u001b[0;36m<module>\u001b[0;34m()\u001b[0m\n\u001b[1;32m      5\u001b[0m \u001b[0;31m# results = {\"score\": score[0,1]}\u001b[0m\u001b[0;34m\u001b[0m\u001b[0;34m\u001b[0m\u001b[0m\n\u001b[1;32m      6\u001b[0m results = {\"score1\": score[0],\n\u001b[0;32m----> 7\u001b[0;31m            \u001b[0;34m\"score2\"\u001b[0m\u001b[0;34m:\u001b[0m \u001b[0mscore\u001b[0m\u001b[0;34m[\u001b[0m\u001b[0;36m1\u001b[0m\u001b[0;34m]\u001b[0m\u001b[0;34m,\u001b[0m\u001b[0;34m\u001b[0m\u001b[0m\n\u001b[0m\u001b[1;32m      8\u001b[0m            \"score3\": score[2]}\n\u001b[1;32m      9\u001b[0m \u001b[0;34m\u001b[0m\u001b[0m\n",
      "\u001b[0;31mIndexError\u001b[0m: index 1 is out of bounds for axis 0 with size 1"
     ]
    }
   ],
   "source": [
    "PREDICTOR = pickle.load( open( \"svm_model.pkl\", \"rb\" ))\n",
    "\n",
    "test_data = np.matrix(x)\n",
    "score = PREDICTOR.predict_proba(test_data)\n",
    "\n",
    "# results = {\"score\": score[0,1]}\n",
    "results = {\"score1\": score[0],\n",
    "           \"score2\": score[1],\n",
    "           \"score3\": score[2]}\n",
    "\n",
    "print(flask.jsonify(results))"
   ]
  },
  {
   "cell_type": "code",
   "execution_count": 45,
   "metadata": {},
   "outputs": [
    {
     "data": {
      "text/plain": [
       "array([[ 0.33333333,  0.33333333,  0.33333333]])"
      ]
     },
     "execution_count": 45,
     "metadata": {},
     "output_type": "execute_result"
    }
   ],
   "source": [
    "score"
   ]
  },
  {
   "cell_type": "code",
   "execution_count": 46,
   "metadata": {},
   "outputs": [
    {
     "data": {
      "text/plain": [
       "(1, 3)"
      ]
     },
     "execution_count": 46,
     "metadata": {},
     "output_type": "execute_result"
    }
   ],
   "source": [
    "score.shape"
   ]
  },
  {
   "cell_type": "code",
   "execution_count": 53,
   "metadata": {},
   "outputs": [
    {
     "data": {
      "text/plain": [
       "0.33333333333333331"
      ]
     },
     "execution_count": 53,
     "metadata": {},
     "output_type": "execute_result"
    }
   ],
   "source": [
    "score[0][0]"
   ]
  },
  {
   "cell_type": "code",
   "execution_count": 55,
   "metadata": {},
   "outputs": [
    {
     "data": {
      "text/plain": [
       "0.33333333333333331"
      ]
     },
     "execution_count": 55,
     "metadata": {},
     "output_type": "execute_result"
    }
   ],
   "source": [
    "score[0,0]"
   ]
  },
  {
   "cell_type": "code",
   "execution_count": 56,
   "metadata": {},
   "outputs": [
    {
     "data": {
      "text/plain": [
       "0.33333333333333331"
      ]
     },
     "execution_count": 56,
     "metadata": {},
     "output_type": "execute_result"
    }
   ],
   "source": [
    "score[0,1]"
   ]
  },
  {
   "cell_type": "code",
   "execution_count": null,
   "metadata": {
    "collapsed": true
   },
   "outputs": [],
   "source": []
  }
 ],
 "metadata": {
  "kernelspec": {
   "display_name": "Python 3",
   "language": "python",
   "name": "python3"
  },
  "language_info": {
   "codemirror_mode": {
    "name": "ipython",
    "version": 3
   },
   "file_extension": ".py",
   "mimetype": "text/x-python",
   "name": "python",
   "nbconvert_exporter": "python",
   "pygments_lexer": "ipython3",
   "version": "3.6.4"
  },
  "varInspector": {
   "cols": {
    "lenName": 16,
    "lenType": 16,
    "lenVar": 40
   },
   "kernels_config": {
    "python": {
     "delete_cmd_postfix": "",
     "delete_cmd_prefix": "del ",
     "library": "var_list.py",
     "varRefreshCmd": "print(var_dic_list())"
    },
    "r": {
     "delete_cmd_postfix": ") ",
     "delete_cmd_prefix": "rm(",
     "library": "var_list.r",
     "varRefreshCmd": "cat(var_dic_list()) "
    }
   },
   "types_to_exclude": [
    "module",
    "function",
    "builtin_function_or_method",
    "instance",
    "_Feature"
   ],
   "window_display": false
  }
 },
 "nbformat": 4,
 "nbformat_minor": 2
}
