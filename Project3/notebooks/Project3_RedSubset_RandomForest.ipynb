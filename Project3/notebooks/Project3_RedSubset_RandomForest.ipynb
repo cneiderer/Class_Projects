{
 "cells": [
  {
   "cell_type": "code",
   "execution_count": 1,
   "metadata": {
    "collapsed": true
   },
   "outputs": [],
   "source": [
    "import numpy as np\n",
    "import pandas as pd\n",
    "\n",
    "import seaborn as sns\n",
    "import scikitplot as skplt\n",
    "import matplotlib.pyplot as plt\n",
    "%matplotlib inline\n",
    "\n",
    "from sklearn.utils import resample\n",
    "from sklearn.pipeline import make_pipeline\n",
    "from sklearn.pipeline import Pipeline\n",
    "from sklearn.preprocessing import StandardScaler\n",
    "from sklearn.preprocessing import PolynomialFeatures\n",
    "from sklearn.preprocessing import add_dummy_feature\n",
    "from sklearn.preprocessing import label_binarize\n",
    "\n",
    "\n",
    "from sklearn.metrics import classification_report\n",
    "from sklearn.metrics import confusion_matrix\n",
    "from sklearn.metrics import adjusted_rand_score\n",
    "from sklearn.metrics import make_scorer\n",
    "from sklearn.metrics import roc_curve, auc, roc_auc_score\n",
    "from sklearn.metrics import f1_score, precision_score, recall_score\n",
    "from sklearn.metrics import precision_recall_curve\n",
    "from sklearn.metrics import matthews_corrcoef\n",
    "\n",
    "from sklearn.linear_model import LogisticRegression\n",
    "from sklearn.linear_model import LogisticRegressionCV\n",
    "from sklearn.neighbors import KNeighborsClassifier\n",
    "from sklearn.naive_bayes import GaussianNB\n",
    "from sklearn.svm import LinearSVC\n",
    "from sklearn.svm import SVC\n",
    "from sklearn.ensemble import RandomForestClassifier\n",
    "from sklearn.ensemble import ExtraTreesClassifier\n",
    "from sklearn.ensemble import GradientBoostingClassifier\n",
    "from sklearn.multiclass import OneVsRestClassifier\n",
    "import mord\n",
    "\n",
    "from sklearn.model_selection import train_test_split\n",
    "from sklearn.model_selection import StratifiedKFold\n",
    "from sklearn.model_selection import GridSearchCV\n",
    "from sklearn.model_selection import RandomizedSearchCV\n",
    "from skopt import BayesSearchCV\n",
    "\n",
    "from scipy import interp"
   ]
  },
  {
   "cell_type": "markdown",
   "metadata": {},
   "source": [
    "### Load and Explore Data"
   ]
  },
  {
   "cell_type": "code",
   "execution_count": 2,
   "metadata": {
    "collapsed": true
   },
   "outputs": [],
   "source": [
    "df = pd.read_csv('winequality-red.csv', delimiter=';')"
   ]
  },
  {
   "cell_type": "code",
   "execution_count": 3,
   "metadata": {
    "collapsed": true
   },
   "outputs": [],
   "source": [
    "# Relabel\n",
    "# df.quality = pd.cut(df.quality, bins=3, labels=[1, 2, 3]).astype('int')\n",
    "# df.quality = df.quality.map(lambda x: x-3)"
   ]
  },
  {
   "cell_type": "code",
   "execution_count": 4,
   "metadata": {},
   "outputs": [
    {
     "data": {
      "text/html": [
       "<div>\n",
       "<style scoped>\n",
       "    .dataframe tbody tr th:only-of-type {\n",
       "        vertical-align: middle;\n",
       "    }\n",
       "\n",
       "    .dataframe tbody tr th {\n",
       "        vertical-align: top;\n",
       "    }\n",
       "\n",
       "    .dataframe thead th {\n",
       "        text-align: right;\n",
       "    }\n",
       "</style>\n",
       "<table border=\"1\" class=\"dataframe\">\n",
       "  <thead>\n",
       "    <tr style=\"text-align: right;\">\n",
       "      <th></th>\n",
       "      <th>fixed acidity</th>\n",
       "      <th>volatile acidity</th>\n",
       "      <th>citric acid</th>\n",
       "      <th>residual sugar</th>\n",
       "      <th>chlorides</th>\n",
       "      <th>free sulfur dioxide</th>\n",
       "      <th>total sulfur dioxide</th>\n",
       "      <th>density</th>\n",
       "      <th>pH</th>\n",
       "      <th>sulphates</th>\n",
       "      <th>alcohol</th>\n",
       "      <th>quality</th>\n",
       "    </tr>\n",
       "  </thead>\n",
       "  <tbody>\n",
       "    <tr>\n",
       "      <th>0</th>\n",
       "      <td>7.4</td>\n",
       "      <td>0.70</td>\n",
       "      <td>0.00</td>\n",
       "      <td>1.9</td>\n",
       "      <td>0.076</td>\n",
       "      <td>11.0</td>\n",
       "      <td>34.0</td>\n",
       "      <td>0.9978</td>\n",
       "      <td>3.51</td>\n",
       "      <td>0.56</td>\n",
       "      <td>9.4</td>\n",
       "      <td>5</td>\n",
       "    </tr>\n",
       "    <tr>\n",
       "      <th>1</th>\n",
       "      <td>7.8</td>\n",
       "      <td>0.88</td>\n",
       "      <td>0.00</td>\n",
       "      <td>2.6</td>\n",
       "      <td>0.098</td>\n",
       "      <td>25.0</td>\n",
       "      <td>67.0</td>\n",
       "      <td>0.9968</td>\n",
       "      <td>3.20</td>\n",
       "      <td>0.68</td>\n",
       "      <td>9.8</td>\n",
       "      <td>5</td>\n",
       "    </tr>\n",
       "    <tr>\n",
       "      <th>2</th>\n",
       "      <td>7.8</td>\n",
       "      <td>0.76</td>\n",
       "      <td>0.04</td>\n",
       "      <td>2.3</td>\n",
       "      <td>0.092</td>\n",
       "      <td>15.0</td>\n",
       "      <td>54.0</td>\n",
       "      <td>0.9970</td>\n",
       "      <td>3.26</td>\n",
       "      <td>0.65</td>\n",
       "      <td>9.8</td>\n",
       "      <td>5</td>\n",
       "    </tr>\n",
       "    <tr>\n",
       "      <th>3</th>\n",
       "      <td>11.2</td>\n",
       "      <td>0.28</td>\n",
       "      <td>0.56</td>\n",
       "      <td>1.9</td>\n",
       "      <td>0.075</td>\n",
       "      <td>17.0</td>\n",
       "      <td>60.0</td>\n",
       "      <td>0.9980</td>\n",
       "      <td>3.16</td>\n",
       "      <td>0.58</td>\n",
       "      <td>9.8</td>\n",
       "      <td>6</td>\n",
       "    </tr>\n",
       "    <tr>\n",
       "      <th>4</th>\n",
       "      <td>7.4</td>\n",
       "      <td>0.70</td>\n",
       "      <td>0.00</td>\n",
       "      <td>1.9</td>\n",
       "      <td>0.076</td>\n",
       "      <td>11.0</td>\n",
       "      <td>34.0</td>\n",
       "      <td>0.9978</td>\n",
       "      <td>3.51</td>\n",
       "      <td>0.56</td>\n",
       "      <td>9.4</td>\n",
       "      <td>5</td>\n",
       "    </tr>\n",
       "  </tbody>\n",
       "</table>\n",
       "</div>"
      ],
      "text/plain": [
       "   fixed acidity  volatile acidity  citric acid  residual sugar  chlorides  \\\n",
       "0            7.4              0.70         0.00             1.9      0.076   \n",
       "1            7.8              0.88         0.00             2.6      0.098   \n",
       "2            7.8              0.76         0.04             2.3      0.092   \n",
       "3           11.2              0.28         0.56             1.9      0.075   \n",
       "4            7.4              0.70         0.00             1.9      0.076   \n",
       "\n",
       "   free sulfur dioxide  total sulfur dioxide  density    pH  sulphates  \\\n",
       "0                 11.0                  34.0   0.9978  3.51       0.56   \n",
       "1                 25.0                  67.0   0.9968  3.20       0.68   \n",
       "2                 15.0                  54.0   0.9970  3.26       0.65   \n",
       "3                 17.0                  60.0   0.9980  3.16       0.58   \n",
       "4                 11.0                  34.0   0.9978  3.51       0.56   \n",
       "\n",
       "   alcohol  quality  \n",
       "0      9.4        5  \n",
       "1      9.8        5  \n",
       "2      9.8        5  \n",
       "3      9.8        6  \n",
       "4      9.4        5  "
      ]
     },
     "execution_count": 4,
     "metadata": {},
     "output_type": "execute_result"
    }
   ],
   "source": [
    "df.head()"
   ]
  },
  {
   "cell_type": "markdown",
   "metadata": {},
   "source": [
    "### Subset Data"
   ]
  },
  {
   "cell_type": "code",
   "execution_count": 5,
   "metadata": {
    "collapsed": true
   },
   "outputs": [],
   "source": [
    "df_subset = df.copy()\n",
    "df_subset['quality2'] = pd.cut(df.quality, bins=3, labels=[1, 2, 3])\n",
    "df_subset['quality2'] = df_subset['quality2'].astype(int)"
   ]
  },
  {
   "cell_type": "code",
   "execution_count": 6,
   "metadata": {},
   "outputs": [
    {
     "data": {
      "text/plain": [
       "1      63\n",
       "2    1319\n",
       "3     217\n",
       "Name: quality2, dtype: int64"
      ]
     },
     "execution_count": 6,
     "metadata": {},
     "output_type": "execute_result"
    }
   ],
   "source": [
    "df_subset['quality2'].value_counts(sort=False)"
   ]
  },
  {
   "cell_type": "code",
   "execution_count": 7,
   "metadata": {},
   "outputs": [
    {
     "data": {
      "text/html": [
       "<div>\n",
       "<style scoped>\n",
       "    .dataframe tbody tr th:only-of-type {\n",
       "        vertical-align: middle;\n",
       "    }\n",
       "\n",
       "    .dataframe tbody tr th {\n",
       "        vertical-align: top;\n",
       "    }\n",
       "\n",
       "    .dataframe thead th {\n",
       "        text-align: right;\n",
       "    }\n",
       "</style>\n",
       "<table border=\"1\" class=\"dataframe\">\n",
       "  <thead>\n",
       "    <tr style=\"text-align: right;\">\n",
       "      <th></th>\n",
       "      <th>fixed acidity</th>\n",
       "      <th>volatile acidity</th>\n",
       "      <th>citric acid</th>\n",
       "      <th>residual sugar</th>\n",
       "      <th>chlorides</th>\n",
       "      <th>free sulfur dioxide</th>\n",
       "      <th>total sulfur dioxide</th>\n",
       "      <th>density</th>\n",
       "      <th>pH</th>\n",
       "      <th>sulphates</th>\n",
       "      <th>alcohol</th>\n",
       "      <th>quality</th>\n",
       "      <th>quality2</th>\n",
       "    </tr>\n",
       "  </thead>\n",
       "  <tbody>\n",
       "    <tr>\n",
       "      <th>0</th>\n",
       "      <td>7.4</td>\n",
       "      <td>0.70</td>\n",
       "      <td>0.00</td>\n",
       "      <td>1.9</td>\n",
       "      <td>0.076</td>\n",
       "      <td>11.0</td>\n",
       "      <td>34.0</td>\n",
       "      <td>0.9978</td>\n",
       "      <td>3.51</td>\n",
       "      <td>0.56</td>\n",
       "      <td>9.4</td>\n",
       "      <td>5</td>\n",
       "      <td>2</td>\n",
       "    </tr>\n",
       "    <tr>\n",
       "      <th>1</th>\n",
       "      <td>7.8</td>\n",
       "      <td>0.88</td>\n",
       "      <td>0.00</td>\n",
       "      <td>2.6</td>\n",
       "      <td>0.098</td>\n",
       "      <td>25.0</td>\n",
       "      <td>67.0</td>\n",
       "      <td>0.9968</td>\n",
       "      <td>3.20</td>\n",
       "      <td>0.68</td>\n",
       "      <td>9.8</td>\n",
       "      <td>5</td>\n",
       "      <td>2</td>\n",
       "    </tr>\n",
       "    <tr>\n",
       "      <th>2</th>\n",
       "      <td>7.8</td>\n",
       "      <td>0.76</td>\n",
       "      <td>0.04</td>\n",
       "      <td>2.3</td>\n",
       "      <td>0.092</td>\n",
       "      <td>15.0</td>\n",
       "      <td>54.0</td>\n",
       "      <td>0.9970</td>\n",
       "      <td>3.26</td>\n",
       "      <td>0.65</td>\n",
       "      <td>9.8</td>\n",
       "      <td>5</td>\n",
       "      <td>2</td>\n",
       "    </tr>\n",
       "    <tr>\n",
       "      <th>3</th>\n",
       "      <td>11.2</td>\n",
       "      <td>0.28</td>\n",
       "      <td>0.56</td>\n",
       "      <td>1.9</td>\n",
       "      <td>0.075</td>\n",
       "      <td>17.0</td>\n",
       "      <td>60.0</td>\n",
       "      <td>0.9980</td>\n",
       "      <td>3.16</td>\n",
       "      <td>0.58</td>\n",
       "      <td>9.8</td>\n",
       "      <td>6</td>\n",
       "      <td>2</td>\n",
       "    </tr>\n",
       "    <tr>\n",
       "      <th>4</th>\n",
       "      <td>7.4</td>\n",
       "      <td>0.70</td>\n",
       "      <td>0.00</td>\n",
       "      <td>1.9</td>\n",
       "      <td>0.076</td>\n",
       "      <td>11.0</td>\n",
       "      <td>34.0</td>\n",
       "      <td>0.9978</td>\n",
       "      <td>3.51</td>\n",
       "      <td>0.56</td>\n",
       "      <td>9.4</td>\n",
       "      <td>5</td>\n",
       "      <td>2</td>\n",
       "    </tr>\n",
       "  </tbody>\n",
       "</table>\n",
       "</div>"
      ],
      "text/plain": [
       "   fixed acidity  volatile acidity  citric acid  residual sugar  chlorides  \\\n",
       "0            7.4              0.70         0.00             1.9      0.076   \n",
       "1            7.8              0.88         0.00             2.6      0.098   \n",
       "2            7.8              0.76         0.04             2.3      0.092   \n",
       "3           11.2              0.28         0.56             1.9      0.075   \n",
       "4            7.4              0.70         0.00             1.9      0.076   \n",
       "\n",
       "   free sulfur dioxide  total sulfur dioxide  density    pH  sulphates  \\\n",
       "0                 11.0                  34.0   0.9978  3.51       0.56   \n",
       "1                 25.0                  67.0   0.9968  3.20       0.68   \n",
       "2                 15.0                  54.0   0.9970  3.26       0.65   \n",
       "3                 17.0                  60.0   0.9980  3.16       0.58   \n",
       "4                 11.0                  34.0   0.9978  3.51       0.56   \n",
       "\n",
       "   alcohol  quality  quality2  \n",
       "0      9.4        5         2  \n",
       "1      9.8        5         2  \n",
       "2      9.8        5         2  \n",
       "3      9.8        6         2  \n",
       "4      9.4        5         2  "
      ]
     },
     "execution_count": 7,
     "metadata": {},
     "output_type": "execute_result"
    }
   ],
   "source": [
    "df_subset.head()"
   ]
  },
  {
   "cell_type": "markdown",
   "metadata": {},
   "source": [
    "### Split Data "
   ]
  },
  {
   "cell_type": "code",
   "execution_count": 8,
   "metadata": {},
   "outputs": [
    {
     "data": {
      "text/plain": [
       "Index(['fixed acidity', 'volatile acidity', 'citric acid', 'residual sugar',\n",
       "       'chlorides', 'free sulfur dioxide', 'total sulfur dioxide', 'density',\n",
       "       'pH', 'sulphates', 'alcohol', 'quality'],\n",
       "      dtype='object')"
      ]
     },
     "execution_count": 8,
     "metadata": {},
     "output_type": "execute_result"
    }
   ],
   "source": [
    "df.columns"
   ]
  },
  {
   "cell_type": "code",
   "execution_count": 9,
   "metadata": {
    "collapsed": true
   },
   "outputs": [],
   "source": [
    "# Split \n",
    "# y = resampled_df.quality\n",
    "# X = resampled_df.drop(columns='quality')\n",
    "\n",
    "y = df_subset.quality2\n",
    "X = df_subset.drop(columns=['quality', 'quality2'])\n",
    "\n",
    "# y = df.quality\n",
    "# X = df[['fixed acidity', 'volatile acidity', 'free sulfur dioxide', 'density', 'pH', 'sulphates', 'alcohol']]\n",
    "\n",
    "# y = df.quality\n",
    "# X = df.drop(columns='quality')\n",
    "\n",
    "# X = df[['volatile acidity', 'citric acid', 'total sulfur dioxide', 'density', 'alcohol']]\n",
    "# X = df[['volatile acidity', 'alcohol']]\n",
    "\n",
    "# # Make sure intercept exists\n",
    "# if ~any(X.columns == 'Intercept'):\n",
    "#     X.insert(0, 'Intercept', 1)\n",
    "# else: \n",
    "#     X.Intercept = 1\n",
    "    \n",
    "# Stratified Split\n",
    "X_train, X_test, y_train, y_test = \\\n",
    "    train_test_split(X, y, stratify=y, test_size=.5, random_state=129)"
   ]
  },
  {
   "cell_type": "markdown",
   "metadata": {},
   "source": [
    "### Bootstrap Resampling"
   ]
  },
  {
   "cell_type": "code",
   "execution_count": 10,
   "metadata": {
    "collapsed": true
   },
   "outputs": [],
   "source": [
    "def resample_df(df, target_col, n_samples=None, replace=True):\n",
    "    \n",
    "    levels = df[target_col].unique()\n",
    "    cnts = df[target_col].value_counts()\n",
    "    \n",
    "    if n_samples is None:\n",
    "        n_samples = np.max(cnts)\n",
    "    elif n_samples == 'max':\n",
    "        n_samples = np.max(cnts)\n",
    "    elif n_samples == 'min':\n",
    "        n_samples = np.min(cnts)    \n",
    "    elif n_samples == 'med':\n",
    "        n_samples = np.median(cnts)\n",
    "        \n",
    "    df_resampled = pd.DataFrame()    \n",
    "    for target_class in df[target_col].unique():\n",
    "        \n",
    "        df_target_class = df[df[target_col] == target_class]\n",
    "        df_target_resampled = resample(df_target_class, \n",
    "                                       replace=replace,\n",
    "                                       n_samples=n_samples,\n",
    "                                       random_state=129)\n",
    "        df_resampled = pd.concat([df_resampled, df_target_resampled], axis=0)\n",
    "        \n",
    "    return df_resampled           "
   ]
  },
  {
   "cell_type": "code",
   "execution_count": 11,
   "metadata": {
    "collapsed": true
   },
   "outputs": [],
   "source": [
    "df_train_resampled = resample_df(pd.concat([X_train, y_train], axis=1) , 'quality2', n_samples='max')\n",
    "X_train = df_train_resampled.drop(columns='quality2')\n",
    "y_train = df_train_resampled['quality2']"
   ]
  },
  {
   "cell_type": "code",
   "execution_count": 12,
   "metadata": {
    "collapsed": true
   },
   "outputs": [],
   "source": [
    "df_test_resampled = resample_df(pd.concat([X_test, y_test], axis=1) , 'quality2', n_samples='max')\n",
    "X_test = df_test_resampled.drop(columns='quality2')\n",
    "y_test = df_test_resampled['quality2']"
   ]
  },
  {
   "cell_type": "code",
   "execution_count": 13,
   "metadata": {},
   "outputs": [
    {
     "data": {
      "text/html": [
       "<div>\n",
       "<style scoped>\n",
       "    .dataframe tbody tr th:only-of-type {\n",
       "        vertical-align: middle;\n",
       "    }\n",
       "\n",
       "    .dataframe tbody tr th {\n",
       "        vertical-align: top;\n",
       "    }\n",
       "\n",
       "    .dataframe thead th {\n",
       "        text-align: right;\n",
       "    }\n",
       "</style>\n",
       "<table border=\"1\" class=\"dataframe\">\n",
       "  <thead>\n",
       "    <tr style=\"text-align: right;\">\n",
       "      <th></th>\n",
       "      <th>fixed acidity</th>\n",
       "      <th>volatile acidity</th>\n",
       "      <th>citric acid</th>\n",
       "      <th>residual sugar</th>\n",
       "      <th>chlorides</th>\n",
       "      <th>free sulfur dioxide</th>\n",
       "      <th>total sulfur dioxide</th>\n",
       "      <th>density</th>\n",
       "      <th>pH</th>\n",
       "      <th>sulphates</th>\n",
       "      <th>alcohol</th>\n",
       "    </tr>\n",
       "  </thead>\n",
       "  <tbody>\n",
       "    <tr>\n",
       "      <th>417</th>\n",
       "      <td>7.0</td>\n",
       "      <td>0.580</td>\n",
       "      <td>0.12</td>\n",
       "      <td>1.9</td>\n",
       "      <td>0.091</td>\n",
       "      <td>34.0</td>\n",
       "      <td>124.0</td>\n",
       "      <td>0.99560</td>\n",
       "      <td>3.44</td>\n",
       "      <td>0.48</td>\n",
       "      <td>10.5</td>\n",
       "    </tr>\n",
       "    <tr>\n",
       "      <th>122</th>\n",
       "      <td>7.3</td>\n",
       "      <td>0.695</td>\n",
       "      <td>0.00</td>\n",
       "      <td>2.5</td>\n",
       "      <td>0.075</td>\n",
       "      <td>3.0</td>\n",
       "      <td>13.0</td>\n",
       "      <td>0.99800</td>\n",
       "      <td>3.49</td>\n",
       "      <td>0.52</td>\n",
       "      <td>9.2</td>\n",
       "    </tr>\n",
       "    <tr>\n",
       "      <th>386</th>\n",
       "      <td>7.8</td>\n",
       "      <td>0.540</td>\n",
       "      <td>0.26</td>\n",
       "      <td>2.0</td>\n",
       "      <td>0.088</td>\n",
       "      <td>23.0</td>\n",
       "      <td>48.0</td>\n",
       "      <td>0.99810</td>\n",
       "      <td>3.41</td>\n",
       "      <td>0.74</td>\n",
       "      <td>9.2</td>\n",
       "    </tr>\n",
       "    <tr>\n",
       "      <th>1568</th>\n",
       "      <td>7.0</td>\n",
       "      <td>0.560</td>\n",
       "      <td>0.13</td>\n",
       "      <td>1.6</td>\n",
       "      <td>0.077</td>\n",
       "      <td>25.0</td>\n",
       "      <td>42.0</td>\n",
       "      <td>0.99629</td>\n",
       "      <td>3.34</td>\n",
       "      <td>0.59</td>\n",
       "      <td>9.2</td>\n",
       "    </tr>\n",
       "    <tr>\n",
       "      <th>1539</th>\n",
       "      <td>7.2</td>\n",
       "      <td>0.390</td>\n",
       "      <td>0.32</td>\n",
       "      <td>1.8</td>\n",
       "      <td>0.065</td>\n",
       "      <td>34.0</td>\n",
       "      <td>60.0</td>\n",
       "      <td>0.99714</td>\n",
       "      <td>3.46</td>\n",
       "      <td>0.78</td>\n",
       "      <td>9.9</td>\n",
       "    </tr>\n",
       "  </tbody>\n",
       "</table>\n",
       "</div>"
      ],
      "text/plain": [
       "      fixed acidity  volatile acidity  citric acid  residual sugar  chlorides  \\\n",
       "417             7.0             0.580         0.12             1.9      0.091   \n",
       "122             7.3             0.695         0.00             2.5      0.075   \n",
       "386             7.8             0.540         0.26             2.0      0.088   \n",
       "1568            7.0             0.560         0.13             1.6      0.077   \n",
       "1539            7.2             0.390         0.32             1.8      0.065   \n",
       "\n",
       "      free sulfur dioxide  total sulfur dioxide  density    pH  sulphates  \\\n",
       "417                  34.0                 124.0  0.99560  3.44       0.48   \n",
       "122                   3.0                  13.0  0.99800  3.49       0.52   \n",
       "386                  23.0                  48.0  0.99810  3.41       0.74   \n",
       "1568                 25.0                  42.0  0.99629  3.34       0.59   \n",
       "1539                 34.0                  60.0  0.99714  3.46       0.78   \n",
       "\n",
       "      alcohol  \n",
       "417      10.5  \n",
       "122       9.2  \n",
       "386       9.2  \n",
       "1568      9.2  \n",
       "1539      9.9  "
      ]
     },
     "execution_count": 13,
     "metadata": {},
     "output_type": "execute_result"
    }
   ],
   "source": [
    "X_train.head()"
   ]
  },
  {
   "cell_type": "code",
   "execution_count": 14,
   "metadata": {
    "scrolled": true
   },
   "outputs": [
    {
     "name": "stdout",
     "output_type": "stream",
     "text": [
      "<class 'pandas.core.frame.DataFrame'>\n",
      "Int64Index: 1977 entries, 417 to 855\n",
      "Data columns (total 12 columns):\n",
      "fixed acidity           1977 non-null float64\n",
      "volatile acidity        1977 non-null float64\n",
      "citric acid             1977 non-null float64\n",
      "residual sugar          1977 non-null float64\n",
      "chlorides               1977 non-null float64\n",
      "free sulfur dioxide     1977 non-null float64\n",
      "total sulfur dioxide    1977 non-null float64\n",
      "density                 1977 non-null float64\n",
      "pH                      1977 non-null float64\n",
      "sulphates               1977 non-null float64\n",
      "alcohol                 1977 non-null float64\n",
      "quality2                1977 non-null int64\n",
      "dtypes: float64(11), int64(1)\n",
      "memory usage: 200.8 KB\n"
     ]
    }
   ],
   "source": [
    "df_train_resampled.info()"
   ]
  },
  {
   "cell_type": "code",
   "execution_count": 15,
   "metadata": {},
   "outputs": [
    {
     "data": {
      "text/html": [
       "<div>\n",
       "<style scoped>\n",
       "    .dataframe tbody tr th:only-of-type {\n",
       "        vertical-align: middle;\n",
       "    }\n",
       "\n",
       "    .dataframe tbody tr th {\n",
       "        vertical-align: top;\n",
       "    }\n",
       "\n",
       "    .dataframe thead th {\n",
       "        text-align: right;\n",
       "    }\n",
       "</style>\n",
       "<table border=\"1\" class=\"dataframe\">\n",
       "  <thead>\n",
       "    <tr style=\"text-align: right;\">\n",
       "      <th></th>\n",
       "      <th>fixed acidity</th>\n",
       "      <th>volatile acidity</th>\n",
       "      <th>citric acid</th>\n",
       "      <th>residual sugar</th>\n",
       "      <th>chlorides</th>\n",
       "      <th>free sulfur dioxide</th>\n",
       "      <th>total sulfur dioxide</th>\n",
       "      <th>density</th>\n",
       "      <th>pH</th>\n",
       "      <th>sulphates</th>\n",
       "      <th>alcohol</th>\n",
       "    </tr>\n",
       "  </thead>\n",
       "  <tbody>\n",
       "    <tr>\n",
       "      <th>25</th>\n",
       "      <td>6.3</td>\n",
       "      <td>0.39</td>\n",
       "      <td>0.16</td>\n",
       "      <td>1.4</td>\n",
       "      <td>0.080</td>\n",
       "      <td>11.0</td>\n",
       "      <td>23.0</td>\n",
       "      <td>0.9955</td>\n",
       "      <td>3.34</td>\n",
       "      <td>0.56</td>\n",
       "      <td>9.3</td>\n",
       "    </tr>\n",
       "    <tr>\n",
       "      <th>338</th>\n",
       "      <td>12.4</td>\n",
       "      <td>0.49</td>\n",
       "      <td>0.58</td>\n",
       "      <td>3.0</td>\n",
       "      <td>0.103</td>\n",
       "      <td>28.0</td>\n",
       "      <td>99.0</td>\n",
       "      <td>1.0008</td>\n",
       "      <td>3.16</td>\n",
       "      <td>1.00</td>\n",
       "      <td>11.5</td>\n",
       "    </tr>\n",
       "    <tr>\n",
       "      <th>179</th>\n",
       "      <td>8.8</td>\n",
       "      <td>0.61</td>\n",
       "      <td>0.14</td>\n",
       "      <td>2.4</td>\n",
       "      <td>0.067</td>\n",
       "      <td>10.0</td>\n",
       "      <td>42.0</td>\n",
       "      <td>0.9969</td>\n",
       "      <td>3.19</td>\n",
       "      <td>0.59</td>\n",
       "      <td>9.5</td>\n",
       "    </tr>\n",
       "    <tr>\n",
       "      <th>1425</th>\n",
       "      <td>8.3</td>\n",
       "      <td>0.26</td>\n",
       "      <td>0.37</td>\n",
       "      <td>1.4</td>\n",
       "      <td>0.076</td>\n",
       "      <td>8.0</td>\n",
       "      <td>23.0</td>\n",
       "      <td>0.9974</td>\n",
       "      <td>3.26</td>\n",
       "      <td>0.70</td>\n",
       "      <td>9.6</td>\n",
       "    </tr>\n",
       "    <tr>\n",
       "      <th>93</th>\n",
       "      <td>7.7</td>\n",
       "      <td>0.49</td>\n",
       "      <td>0.26</td>\n",
       "      <td>1.9</td>\n",
       "      <td>0.062</td>\n",
       "      <td>9.0</td>\n",
       "      <td>31.0</td>\n",
       "      <td>0.9966</td>\n",
       "      <td>3.39</td>\n",
       "      <td>0.64</td>\n",
       "      <td>9.6</td>\n",
       "    </tr>\n",
       "  </tbody>\n",
       "</table>\n",
       "</div>"
      ],
      "text/plain": [
       "      fixed acidity  volatile acidity  citric acid  residual sugar  chlorides  \\\n",
       "25              6.3              0.39         0.16             1.4      0.080   \n",
       "338            12.4              0.49         0.58             3.0      0.103   \n",
       "179             8.8              0.61         0.14             2.4      0.067   \n",
       "1425            8.3              0.26         0.37             1.4      0.076   \n",
       "93              7.7              0.49         0.26             1.9      0.062   \n",
       "\n",
       "      free sulfur dioxide  total sulfur dioxide  density    pH  sulphates  \\\n",
       "25                   11.0                  23.0   0.9955  3.34       0.56   \n",
       "338                  28.0                  99.0   1.0008  3.16       1.00   \n",
       "179                  10.0                  42.0   0.9969  3.19       0.59   \n",
       "1425                  8.0                  23.0   0.9974  3.26       0.70   \n",
       "93                    9.0                  31.0   0.9966  3.39       0.64   \n",
       "\n",
       "      alcohol  \n",
       "25        9.3  \n",
       "338      11.5  \n",
       "179       9.5  \n",
       "1425      9.6  \n",
       "93        9.6  "
      ]
     },
     "execution_count": 15,
     "metadata": {},
     "output_type": "execute_result"
    }
   ],
   "source": [
    "X_test.head()"
   ]
  },
  {
   "cell_type": "code",
   "execution_count": 16,
   "metadata": {},
   "outputs": [
    {
     "name": "stdout",
     "output_type": "stream",
     "text": [
      "<class 'pandas.core.frame.DataFrame'>\n",
      "Int64Index: 1980 entries, 25 to 1299\n",
      "Data columns (total 12 columns):\n",
      "fixed acidity           1980 non-null float64\n",
      "volatile acidity        1980 non-null float64\n",
      "citric acid             1980 non-null float64\n",
      "residual sugar          1980 non-null float64\n",
      "chlorides               1980 non-null float64\n",
      "free sulfur dioxide     1980 non-null float64\n",
      "total sulfur dioxide    1980 non-null float64\n",
      "density                 1980 non-null float64\n",
      "pH                      1980 non-null float64\n",
      "sulphates               1980 non-null float64\n",
      "alcohol                 1980 non-null float64\n",
      "quality2                1980 non-null int64\n",
      "dtypes: float64(11), int64(1)\n",
      "memory usage: 201.1 KB\n"
     ]
    }
   ],
   "source": [
    "df_test_resampled.info()"
   ]
  },
  {
   "cell_type": "code",
   "execution_count": 17,
   "metadata": {},
   "outputs": [
    {
     "data": {
      "text/plain": [
       "set()"
      ]
     },
     "execution_count": 17,
     "metadata": {},
     "output_type": "execute_result"
    }
   ],
   "source": [
    "set(df_train_resampled.index).intersection(set(df_test_resampled.index))"
   ]
  },
  {
   "cell_type": "markdown",
   "metadata": {},
   "source": [
    "### Helper Functions"
   ]
  },
  {
   "cell_type": "code",
   "execution_count": 18,
   "metadata": {
    "code_folding": [
     0
    ],
    "collapsed": true
   },
   "outputs": [],
   "source": [
    "def normalize_confusion_matrix(cm):\n",
    "    \n",
    "    cm = cm.astype('float') / cm.sum(axis=1)[:, np.newaxis]\n",
    "    cm = np.around(cm, decimals=2)\n",
    "    cm[np.isnan(cm)] = 0.0\n",
    "    \n",
    "    #     cm = (cm - np.min(cm)) / (np.max(cm) - np.min(cm))\n",
    "    \n",
    "    return cm"
   ]
  },
  {
   "cell_type": "code",
   "execution_count": 19,
   "metadata": {
    "code_folding": [
     0
    ],
    "collapsed": true
   },
   "outputs": [],
   "source": [
    "def discrete_heatmap(cm):\n",
    "    \n",
    "    ### Discrete Confusion Matrix Heatmap\n",
    "    from sklearn.preprocessing import normalize\n",
    "    import matplotlib.pyplot as plt\n",
    "    import seaborn as sns\n",
    "\n",
    "    fig, ax = plt.subplots(figsize=(12, 8))\n",
    "    \n",
    "    Z = normalize_confusion_matrix(cm)\n",
    "\n",
    "    # Generate heatmap\n",
    "    ax = sns.heatmap(Z, ax=ax, cmap='RdYlGn', annot=True, cbar=True,\n",
    "                     vmin=0, vmax=1, cbar_kws={'ticks': np.arange(0, 1.2, 0.2)})\n",
    "    \n",
    "    ## Format axes object\n",
    "    #  Format X-axis label and ticks\n",
    "    ax.set_xlabel('Predicted', fontdict={'size': 12})\n",
    "    ax.xaxis.set_ticks_position('top') \n",
    "    ax.xaxis.set_label_position('top')\n",
    "    ax.set_xticklabels(['Low', 'Med', 'High'], minor=False)\n",
    "    \n",
    "    # Format Y-axis label\n",
    "    ax.set_ylabel('Truth', fontdict={'size': 12})\n",
    "    ax.set_yticklabels(['Low', 'Med', 'High'], minor=False)\n",
    "    \n",
    "    # Format Title [Note: double newlines are to create space between Title and the X-axis label that was moved to the top]\n",
    "    ax.set_title('Red Wine Quality\\n\\n', fontdict={'size': 14, 'weight': 'bold'})\n",
    "    \n",
    "    return fig, ax"
   ]
  },
  {
   "cell_type": "code",
   "execution_count": 20,
   "metadata": {
    "code_folding": [
     0
    ]
   },
   "outputs": [
    {
     "ename": "SyntaxError",
     "evalue": "invalid syntax (<ipython-input-20-e02a845cfd14>, line 48)",
     "output_type": "error",
     "traceback": [
      "\u001b[0;36m  File \u001b[0;32m\"<ipython-input-20-e02a845cfd14>\"\u001b[0;36m, line \u001b[0;32m48\u001b[0m\n\u001b[0;31m    return fig, axdef plot_roc_curves(y_test, y_pred):\u001b[0m\n\u001b[0m                                    ^\u001b[0m\n\u001b[0;31mSyntaxError\u001b[0m\u001b[0;31m:\u001b[0m invalid syntax\n"
     ]
    }
   ],
   "source": [
    "def interpolated_heatmap(cm, cb=False):\n",
    "    \n",
    "    ### Interpolated Confusion Matrix Heatmap\n",
    "    import numpy as np\n",
    "    from sklearn.preprocessing import normalize\n",
    "    import matplotlib.pyplot as plt\n",
    "\n",
    "    fig, ax = plt.subplots(figsize=(10, 8))\n",
    "    ax.patch.set_visible(False)\n",
    "    \n",
    "    Z = normalize_confusion_matrix(cm)\n",
    "\n",
    "    # Generate X, Y indices of confusion matrix\n",
    "    n_classes = Z.shape[0]\n",
    "    X, Y = np.meshgrid(np.arange(0, n_classes, 1), np.arange(n_classes-1, -1, -1))\n",
    "\n",
    "    # Plot contours\n",
    "    plt.contourf(X, Y, Z, 25, cmap='RdYlGn', vmin=0, vmax=1, )\n",
    "    \n",
    "    if cb:\n",
    "        ax2 = plt.colorbar(ticks=np.arange(0, 1.2, 0.2))\n",
    "    \n",
    "    ## Format X-axis label and ticks\n",
    "    ax.set_xlabel('Predicted', fontdict={'size': 12})\n",
    "    # Move ticks and label to top\n",
    "    ax.xaxis.set_ticks_position('top') \n",
    "    ax.xaxis.set_label_position('top')\n",
    "    # Hide major tick labels\n",
    "    ax.set_xticklabels([], minor=False) \n",
    "    ax.set_xticks([0, 2], minor=False)\n",
    "    # Define and label minor ticks\n",
    "    ax.set_xticks([0.3, 1, 1.7], minor=True)\n",
    "    ax.set_xticklabels(['Low', 'Mid', 'High'], minor=True)\n",
    "\n",
    "    ## Format Y-axis label and ticks\n",
    "    ax.set_ylabel('Truth', fontdict={'size': 12})\n",
    "    # Hide major tick labels\n",
    "    ax.set_yticklabels([], minor=False)    \n",
    "    # Create and label minor ticks\n",
    "    ax.set_yticks([0.3, 1, 1.7], minor=True)\n",
    "    ax.set_yticks([0, 2], minor=False)\n",
    "    ax.set_yticklabels(['High', 'Mid', 'Low'], minor=True)\n",
    "\n",
    "    # Format Title [Note: double newlines are to create space between Title \n",
    "    # and the X-axis label that was moved to the top]\n",
    "    ax.set_title('Red Wine Quality\\n\\n', fontdict={'size': 14, 'weight': 'bold'})\n",
    "    \n",
    "    return fig, axdef plot_roc_curves(y_test, y_pred):\n",
    "\n",
    "    fig, ax = plt.subplots(figsize=(10, 8))\n",
    "    skplt.metrics.plot_roc_curve(y_test, y_pred, ax=ax)\n",
    "\n",
    "    ax.set_xlabel('FPR', fontdict={'size': 12}) #, 'weight': 'bold'})\n",
    "    ax.set_ylabel('TPR', fontdict={'size': 12}) #, 'weight': 'bold'})\n",
    "\n",
    "    ax.set_title('Red Wine Quality\\n', fontdict={'size': 14, 'weight': 'bold'})\n",
    "    \n",
    "    return fig, ax"
   ]
  },
  {
   "cell_type": "code",
   "execution_count": null,
   "metadata": {
    "code_folding": [
     0
    ],
    "collapsed": true
   },
   "outputs": [],
   "source": [
    "def plot_roc_curves(y_test, y_pred):\n",
    "\n",
    "    fig, ax = plt.subplots(figsize=(10, 8))\n",
    "    skplt.metrics.plot_roc_curve(y_test, y_pred, ax=ax)\n",
    "\n",
    "    ax.set_xlabel('FPR', fontdict={'size': 12}) #, 'weight': 'bold'})\n",
    "    ax.set_ylabel('TPR', fontdict={'size': 12}) #, 'weight': 'bold'})\n",
    "\n",
    "    ax.set_title('Red Wine Quality\\n', fontdict={'size': 14, 'weight': 'bold'})\n",
    "    \n",
    "    return fig, ax"
   ]
  },
  {
   "cell_type": "code",
   "execution_count": null,
   "metadata": {
    "code_folding": [
     0
    ],
    "collapsed": true
   },
   "outputs": [],
   "source": [
    "def plot_precision_recall_curves(y_test, y_pred):\n",
    "    \n",
    "    fig, ax = plt.subplots(figsize=(10, 8))\n",
    "    skplt.metrics.plot_precision_recall_curve(y_test, y_pred, ax=ax)\n",
    "    \n",
    "    ax.set_xlabel('Recall', fontdict={'size': 12}) #, 'weight': 'bold'})\n",
    "    ax.set_ylabel('Precision', fontdict={'size': 12}) #, 'weight': 'bold'})\n",
    "\n",
    "    ax.set_title('Red Wine Quality\\n', fontdict={'size': 14, 'weight': 'bold'})\n",
    "    \n",
    "    return fig, ax"
   ]
  },
  {
   "cell_type": "code",
   "execution_count": null,
   "metadata": {
    "code_folding": [
     0
    ],
    "collapsed": true
   },
   "outputs": [],
   "source": [
    "def error_distance_cost(y_true, y_pred):\n",
    "    \n",
    "    cm = confusion_matrix(y_true, y_pred)\n",
    "    cm = normalize_confusion_matrix(cm)\n",
    "    \n",
    "    cost = np.zeros_like(cm)\n",
    "    rows, cols = cm.shape\n",
    "    for ridx in range(rows):\n",
    "        for cidx in range(cols):\n",
    "            cost[ridx, cidx] = np.abs(ridx-cidx) * cm[ridx, cidx]\n",
    "\n",
    "    return np.around(1/np.sum(cost), decimals=5)"
   ]
  },
  {
   "cell_type": "markdown",
   "metadata": {},
   "source": [
    "### Build Models"
   ]
  },
  {
   "cell_type": "code",
   "execution_count": null,
   "metadata": {},
   "outputs": [],
   "source": [
    "rf1 = RandomForestClassifier(class_weight='balanced',\n",
    "                             n_estimators=1000,\n",
    "                             max_depth=20, \n",
    "                             min_samples_leaf=5,\n",
    "                             random_state=129)\n",
    "rf1.fit(X_train, y_train)\n",
    "\n",
    "print(rf1)\n",
    "\n",
    "rf1_pred = rf1.predict(X_test)\n",
    "\n",
    "print(classification_report(y_test, rf1_pred))\n",
    "print(confusion_matrix(y_test, rf1_pred))"
   ]
  },
  {
   "cell_type": "code",
   "execution_count": null,
   "metadata": {},
   "outputs": [],
   "source": [
    "param_grid = [{'n_estimators': np.logspace(1, 4, 4, dtype=int), \n",
    "               'criterion': ['gini', 'entropy'],\n",
    "              }]\n",
    "\n",
    "searchcv = GridSearchCV(rf1, param_grid, scoring='accuracy', cv=3, \n",
    "                        return_train_score=True, refit=True)\n",
    "\n",
    "searchcv.fit(X_train, y_train)"
   ]
  },
  {
   "cell_type": "code",
   "execution_count": null,
   "metadata": {},
   "outputs": [],
   "source": [
    "print(searchcv.best_estimator_)\n",
    "\n",
    "rfcv_pred = searchcv.predict(X_test)\n",
    "rfcv_probas = searchcv.predict_proba(X_test)\n",
    "\n",
    "print(classification_report(y_test, rfcv_pred))\n",
    "print(confusion_matrix(y_test, rfcv_pred))"
   ]
  },
  {
   "cell_type": "code",
   "execution_count": null,
   "metadata": {},
   "outputs": [],
   "source": [
    "searchcv.cv_results_['mean_test_score']"
   ]
  },
  {
   "cell_type": "code",
   "execution_count": null,
   "metadata": {
    "collapsed": true
   },
   "outputs": [],
   "source": []
  }
 ],
 "metadata": {
  "kernelspec": {
   "display_name": "Python 3",
   "language": "python",
   "name": "python3"
  },
  "language_info": {
   "codemirror_mode": {
    "name": "ipython",
    "version": 3
   },
   "file_extension": ".py",
   "mimetype": "text/x-python",
   "name": "python",
   "nbconvert_exporter": "python",
   "pygments_lexer": "ipython3",
   "version": "3.6.4"
  },
  "varInspector": {
   "cols": {
    "lenName": 16,
    "lenType": 16,
    "lenVar": 40
   },
   "kernels_config": {
    "python": {
     "delete_cmd_postfix": "",
     "delete_cmd_prefix": "del ",
     "library": "var_list.py",
     "varRefreshCmd": "print(var_dic_list())"
    },
    "r": {
     "delete_cmd_postfix": ") ",
     "delete_cmd_prefix": "rm(",
     "library": "var_list.r",
     "varRefreshCmd": "cat(var_dic_list()) "
    }
   },
   "types_to_exclude": [
    "module",
    "function",
    "builtin_function_or_method",
    "instance",
    "_Feature"
   ],
   "window_display": false
  }
 },
 "nbformat": 4,
 "nbformat_minor": 2
}
