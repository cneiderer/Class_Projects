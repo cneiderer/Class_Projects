{
 "cells": [
  {
   "cell_type": "code",
   "execution_count": 48,
   "metadata": {
    "collapsed": true
   },
   "outputs": [],
   "source": [
    "import numpy as np\n",
    "import pandas as pd\n",
    "from sklearn import metrics\n",
    "from sklearn.model_selection import train_test_split\n",
    "from sklearn.linear_model import LogisticRegression\n",
    "from sklearn.neighbors import KNeighborsClassifier\n",
    "import mord"
   ]
  },
  {
   "cell_type": "code",
   "execution_count": 49,
   "metadata": {
    "collapsed": true
   },
   "outputs": [],
   "source": [
    "df = pd.read_csv('winequality-white.csv', delimiter=';')"
   ]
  },
  {
   "cell_type": "code",
   "execution_count": 50,
   "metadata": {},
   "outputs": [
    {
     "data": {
      "text/html": [
       "<div>\n",
       "<style scoped>\n",
       "    .dataframe tbody tr th:only-of-type {\n",
       "        vertical-align: middle;\n",
       "    }\n",
       "\n",
       "    .dataframe tbody tr th {\n",
       "        vertical-align: top;\n",
       "    }\n",
       "\n",
       "    .dataframe thead th {\n",
       "        text-align: right;\n",
       "    }\n",
       "</style>\n",
       "<table border=\"1\" class=\"dataframe\">\n",
       "  <thead>\n",
       "    <tr style=\"text-align: right;\">\n",
       "      <th></th>\n",
       "      <th>fixed acidity</th>\n",
       "      <th>volatile acidity</th>\n",
       "      <th>citric acid</th>\n",
       "      <th>residual sugar</th>\n",
       "      <th>chlorides</th>\n",
       "      <th>free sulfur dioxide</th>\n",
       "      <th>total sulfur dioxide</th>\n",
       "      <th>density</th>\n",
       "      <th>pH</th>\n",
       "      <th>sulphates</th>\n",
       "      <th>alcohol</th>\n",
       "      <th>quality</th>\n",
       "    </tr>\n",
       "  </thead>\n",
       "  <tbody>\n",
       "    <tr>\n",
       "      <th>0</th>\n",
       "      <td>7.0</td>\n",
       "      <td>0.27</td>\n",
       "      <td>0.36</td>\n",
       "      <td>20.7</td>\n",
       "      <td>0.045</td>\n",
       "      <td>45.0</td>\n",
       "      <td>170.0</td>\n",
       "      <td>1.0010</td>\n",
       "      <td>3.00</td>\n",
       "      <td>0.45</td>\n",
       "      <td>8.8</td>\n",
       "      <td>6</td>\n",
       "    </tr>\n",
       "    <tr>\n",
       "      <th>1</th>\n",
       "      <td>6.3</td>\n",
       "      <td>0.30</td>\n",
       "      <td>0.34</td>\n",
       "      <td>1.6</td>\n",
       "      <td>0.049</td>\n",
       "      <td>14.0</td>\n",
       "      <td>132.0</td>\n",
       "      <td>0.9940</td>\n",
       "      <td>3.30</td>\n",
       "      <td>0.49</td>\n",
       "      <td>9.5</td>\n",
       "      <td>6</td>\n",
       "    </tr>\n",
       "    <tr>\n",
       "      <th>2</th>\n",
       "      <td>8.1</td>\n",
       "      <td>0.28</td>\n",
       "      <td>0.40</td>\n",
       "      <td>6.9</td>\n",
       "      <td>0.050</td>\n",
       "      <td>30.0</td>\n",
       "      <td>97.0</td>\n",
       "      <td>0.9951</td>\n",
       "      <td>3.26</td>\n",
       "      <td>0.44</td>\n",
       "      <td>10.1</td>\n",
       "      <td>6</td>\n",
       "    </tr>\n",
       "    <tr>\n",
       "      <th>3</th>\n",
       "      <td>7.2</td>\n",
       "      <td>0.23</td>\n",
       "      <td>0.32</td>\n",
       "      <td>8.5</td>\n",
       "      <td>0.058</td>\n",
       "      <td>47.0</td>\n",
       "      <td>186.0</td>\n",
       "      <td>0.9956</td>\n",
       "      <td>3.19</td>\n",
       "      <td>0.40</td>\n",
       "      <td>9.9</td>\n",
       "      <td>6</td>\n",
       "    </tr>\n",
       "    <tr>\n",
       "      <th>4</th>\n",
       "      <td>7.2</td>\n",
       "      <td>0.23</td>\n",
       "      <td>0.32</td>\n",
       "      <td>8.5</td>\n",
       "      <td>0.058</td>\n",
       "      <td>47.0</td>\n",
       "      <td>186.0</td>\n",
       "      <td>0.9956</td>\n",
       "      <td>3.19</td>\n",
       "      <td>0.40</td>\n",
       "      <td>9.9</td>\n",
       "      <td>6</td>\n",
       "    </tr>\n",
       "  </tbody>\n",
       "</table>\n",
       "</div>"
      ],
      "text/plain": [
       "   fixed acidity  volatile acidity  citric acid  residual sugar  chlorides  \\\n",
       "0            7.0              0.27         0.36            20.7      0.045   \n",
       "1            6.3              0.30         0.34             1.6      0.049   \n",
       "2            8.1              0.28         0.40             6.9      0.050   \n",
       "3            7.2              0.23         0.32             8.5      0.058   \n",
       "4            7.2              0.23         0.32             8.5      0.058   \n",
       "\n",
       "   free sulfur dioxide  total sulfur dioxide  density    pH  sulphates  \\\n",
       "0                 45.0                 170.0   1.0010  3.00       0.45   \n",
       "1                 14.0                 132.0   0.9940  3.30       0.49   \n",
       "2                 30.0                  97.0   0.9951  3.26       0.44   \n",
       "3                 47.0                 186.0   0.9956  3.19       0.40   \n",
       "4                 47.0                 186.0   0.9956  3.19       0.40   \n",
       "\n",
       "   alcohol  quality  \n",
       "0      8.8        6  \n",
       "1      9.5        6  \n",
       "2     10.1        6  \n",
       "3      9.9        6  \n",
       "4      9.9        6  "
      ]
     },
     "execution_count": 50,
     "metadata": {},
     "output_type": "execute_result"
    }
   ],
   "source": [
    "df.head()"
   ]
  },
  {
   "cell_type": "code",
   "execution_count": 51,
   "metadata": {
    "scrolled": true
   },
   "outputs": [
    {
     "data": {
      "text/plain": [
       "4     163\n",
       "8     175\n",
       "5    1457\n",
       "9       5\n",
       "6    2198\n",
       "3      20\n",
       "7     880\n",
       "Name: quality, dtype: int64"
      ]
     },
     "execution_count": 51,
     "metadata": {},
     "output_type": "execute_result"
    }
   ],
   "source": [
    "df.quality.value_counts(sort=False)"
   ]
  },
  {
   "cell_type": "code",
   "execution_count": 52,
   "metadata": {
    "collapsed": true
   },
   "outputs": [],
   "source": [
    "corr = df.corr()"
   ]
  },
  {
   "cell_type": "code",
   "execution_count": 53,
   "metadata": {
    "collapsed": true
   },
   "outputs": [],
   "source": [
    "import seaborn as sns\n",
    "import matplotlib.pyplot as plt\n",
    "%matplotlib inline"
   ]
  },
  {
   "cell_type": "code",
   "execution_count": 54,
   "metadata": {},
   "outputs": [
    {
     "data": {
      "text/plain": [
       "<matplotlib.axes._subplots.AxesSubplot at 0x7fa0bc3160f0>"
      ]
     },
     "execution_count": 54,
     "metadata": {},
     "output_type": "execute_result"
    },
    {
     "data": {
      "image/png": "[encoded data removed]",
      "text/plain": [
       "<matplotlib.figure.Figure at 0x7fa0b576d710>"
      ]
     },
     "metadata": {},
     "output_type": "display_data"
    }
   ],
   "source": [
    "plt.figure(num=None, figsize=(12, 8))\n",
    "sns.heatmap(corr, center=0, vmin=-1, vmax=1, cmap=sns.diverging_palette(10, 133, sep=80, n=20), annot=True)"
   ]
  },
  {
   "cell_type": "code",
   "execution_count": 55,
   "metadata": {
    "collapsed": true
   },
   "outputs": [],
   "source": [
    "\n",
    "from sklearn import metrics\n",
    "from sklearn.linear_model import LogisticRegression\n",
    "from sklearn.neighbors import KNeighborsClassifier\n",
    "from sklearn.model_selection import StratifiedKFold\n",
    "from sklearn.linear_model import RandomizedLogisticRegression\n",
    "\n",
    "from collections import Counter\n",
    "import itertools\n",
    "\n",
    "import matplotlib.pyplot as plt\n",
    "import numpy as np\n",
    "\n",
    "from sklearn.datasets import load_iris\n",
    "from sklearn.model_selection import train_test_split\n",
    "from sklearn.ensemble import BaggingClassifier\n",
    "from sklearn.metrics import confusion_matrix\n",
    "from sklearn.naive_bayes import GaussianNB\n",
    "from sklearn.neighbors import KNeighborsClassifier\n",
    "from sklearn.svm import LinearSVC\n",
    "from sklearn.svm import SVC\n",
    "\n",
    "from sklearn.preprocessing import StandardScaler\n",
    "from sklearn.pipeline import make_pipeline\n",
    "from sklearn.decomposition import PCA"
   ]
  },
  {
   "cell_type": "code",
   "execution_count": 56,
   "metadata": {
    "collapsed": true
   },
   "outputs": [],
   "source": [
    "# load the iris datasets\n",
    "y = df.quality\n",
    "X = df.iloc[:, :-1]\n",
    "\n",
    "# # Non-Stratified\n",
    "# X_train, X_test, y_train, y_test = \\\n",
    "#     train_test_split(X, y, test_size=.3, random_state=1294)\n",
    "# Stratified    \n",
    "X_train, X_test, y_train, y_test = \\\n",
    "    train_test_split(X, y, stratify=y, test_size=.7, random_state=1294)"
   ]
  },
  {
   "cell_type": "code",
   "execution_count": 57,
   "metadata": {
    "scrolled": false
   },
   "outputs": [
    {
     "name": "stdout",
     "output_type": "stream",
     "text": [
      "Pipeline(memory=None,\n",
      "     steps=[('standardscaler', StandardScaler(copy=True, with_mean=True, with_std=True)), ('svc', SVC(C=1000, cache_size=200, class_weight=None, coef0=0.0,\n",
      "  decision_function_shape='ovr', degree=1, gamma='auto', kernel='rbf',\n",
      "  max_iter=-1, probability=False, random_state=None, shrinking=True,\n",
      "  tol=0.001, verbose=False))])\n",
      "             precision    recall  f1-score   support\n",
      "\n",
      "          3       0.00      0.00      0.00        14\n",
      "          4       0.18      0.24      0.20       114\n",
      "          5       0.50      0.53      0.51      1020\n",
      "          6       0.58      0.59      0.58      1539\n",
      "          7       0.50      0.42      0.45       616\n",
      "          8       0.37      0.33      0.34       123\n",
      "          9       0.00      0.00      0.00         3\n",
      "\n",
      "avg / total       0.52      0.52      0.51      3429\n",
      "\n",
      "[[  0   4   6   2   2   0   0]\n",
      " [  0  27  51  30   6   0   0]\n",
      " [  1  66 542 359  49   3   0]\n",
      " [  0  45 391 903 171  29   0]\n",
      " [  0   6  81 235 256  37   1]\n",
      " [  0   3  15  34  31  40   0]\n",
      " [  0   0   0   1   2   0   0]]\n"
     ]
    }
   ],
   "source": [
    "clf = make_pipeline(StandardScaler(), mord.svm.SVC(C=1000, kernel='rbf', degree=1))\n",
    "clf.fit(X_train, y_train)\n",
    "\n",
    "print(clf)\n",
    "\n",
    "# make predictions\n",
    "clf_pred = clf.predict(X_test)\n",
    "\n",
    "# summarize the fit of the model\n",
    "print(metrics.classification_report(y_test, clf_pred))\n",
    "print(metrics.confusion_matrix(y_test, clf_pred))"
   ]
  },
  {
   "cell_type": "code",
   "execution_count": 98,
   "metadata": {},
   "outputs": [
    {
     "name": "stdout",
     "output_type": "stream",
     "text": [
      "LogisticRegression(C=1000.0, class_weight=None, dual=False,\n",
      "          fit_intercept=True, intercept_scaling=1, max_iter=100,\n",
      "          multi_class='ovr', n_jobs=1, penalty='l2', random_state=None,\n",
      "          solver='liblinear', tol=0.0001, verbose=0, warm_start=False)\n",
      "             precision    recall  f1-score   support\n",
      "\n",
      "          3       0.00      0.00      0.00        14\n",
      "          4       0.50      0.03      0.05       114\n",
      "          5       0.57      0.50      0.53      1020\n",
      "          6       0.51      0.78      0.62      1539\n",
      "          7       0.54      0.15      0.24       616\n",
      "          8       0.00      0.00      0.00       123\n",
      "          9       0.00      0.00      0.00         3\n",
      "\n",
      "avg / total       0.51      0.53      0.48      3429\n",
      "\n",
      "[[   0    0    6    7    0    0    1]\n",
      " [   0    3   67   42    2    0    0]\n",
      " [   0    2  513  502    3    0    0]\n",
      " [   0    1  292 1199   47    0    0]\n",
      " [   0    0   24  499   93    0    0]\n",
      " [   0    0    0   96   27    0    0]\n",
      " [   0    0    0    2    1    0    0]]\n"
     ]
    },
    {
     "name": "stderr",
     "output_type": "stream",
     "text": [
      "/home/cneiderer/anaconda3/lib/python3.6/site-packages/sklearn/metrics/classification.py:1135: UndefinedMetricWarning: Precision and F-score are ill-defined and being set to 0.0 in labels with no predicted samples.\n",
      "  'precision', 'predicted', average, warn_for)\n"
     ]
    }
   ],
   "source": [
    "# fit a logistic regression model to the data\n",
    "lr1 = LogisticRegression(C=1e3)\n",
    "lr1.fit(X_train, y_train)\n",
    "\n",
    "print(lr1)\n",
    "\n",
    "# make predictions\n",
    "lr1_pred = lr1.predict(X_test)\n",
    "\n",
    "# summarize the fit of the model\n",
    "print(metrics.classification_report(y_test, lr1_pred))\n",
    "print(metrics.confusion_matrix(y_test, lr1_pred))"
   ]
  },
  {
   "cell_type": "code",
   "execution_count": 117,
   "metadata": {
    "collapsed": true
   },
   "outputs": [],
   "source": [
    "# fit a logistic regression model to the data\n",
    "clf2 = mord.LogisticIT(alpha=100)"
   ]
  },
  {
   "cell_type": "code",
   "execution_count": 106,
   "metadata": {},
   "outputs": [
    {
     "data": {
      "text/plain": [
       "LogisticAT(alpha=100, max_iter=1000, verbose=0)"
      ]
     },
     "execution_count": 106,
     "metadata": {},
     "output_type": "execute_result"
    }
   ],
   "source": [
    "clf2.(X_train, y_train)"
   ]
  },
  {
   "cell_type": "code",
   "execution_count": 111,
   "metadata": {
    "collapsed": true
   },
   "outputs": [],
   "source": [
    "pred_prob = clf.predict_proba(X_test)\n",
    "pred = clf.predict(X_test)"
   ]
  },
  {
   "cell_type": "code",
   "execution_count": 118,
   "metadata": {},
   "outputs": [
    {
     "data": {
      "text/plain": [
       "array([[  1.21616493e-05,   1.35542131e-05,   3.34889804e-02,\n",
       "          9.67879870e-03,   9.56751537e-01,   4.80967929e-05,\n",
       "          6.87095867e-06],\n",
       "       [  4.25455119e-05,   1.19302153e-06,   1.00719115e-01,\n",
       "          5.45041850e-01,   3.54170488e-01,   7.74253147e-07,\n",
       "          2.40350587e-05],\n",
       "       [  1.10216789e-04,   3.15849684e-04,   1.03383574e-01,\n",
       "          3.48797835e-01,   5.47292585e-01,   3.76746850e-05,\n",
       "          6.22643111e-05],\n",
       "       [  3.00713550e-05,   5.81037097e-06,   3.68099376e-03,\n",
       "          5.24914714e-01,   4.71330706e-01,   2.07161930e-05,\n",
       "          1.69880852e-05],\n",
       "       [  7.35565850e-05,   1.64079385e-05,   1.31234112e-01,\n",
       "          8.61819068e-01,   6.81304219e-03,   2.05399579e-06,\n",
       "          4.17600258e-05]])"
      ]
     },
     "execution_count": 118,
     "metadata": {},
     "output_type": "execute_result"
    }
   ],
   "source": [
    "pred_prob[0:5, :]"
   ]
  },
  {
   "cell_type": "code",
   "execution_count": 119,
   "metadata": {},
   "outputs": [
    {
     "data": {
      "text/plain": [
       "array([7, 6, 7, 6, 6])"
      ]
     },
     "execution_count": 119,
     "metadata": {},
     "output_type": "execute_result"
    }
   ],
   "source": [
    "pred[0:5]"
   ]
  },
  {
   "cell_type": "code",
   "execution_count": 104,
   "metadata": {},
   "outputs": [
    {
     "name": "stdout",
     "output_type": "stream",
     "text": [
      "LogisticSE(alpha=1e-06, max_iter=100000, verbose=0)\n",
      "             precision    recall  f1-score   support\n",
      "\n",
      "          3       0.00      0.00      0.00        14\n",
      "          4       0.44      0.04      0.07       114\n",
      "          5       0.59      0.43      0.49      1020\n",
      "          6       0.51      0.78      0.62      1539\n",
      "          7       0.45      0.26      0.33       616\n",
      "          8       0.00      0.00      0.00       123\n",
      "          9       0.00      0.00      0.00         3\n",
      "\n",
      "avg / total       0.50      0.52      0.49      3429\n",
      "\n",
      "[[   0    1    4    8    1    0    0]\n",
      " [   0    4   66   42    2    0    0]\n",
      " [   0    3  437  566   14    0    0]\n",
      " [   0    1  211 1193  134    0    0]\n",
      " [   0    0   29  428  158    1    0]\n",
      " [   0    0    0   82   41    0    0]\n",
      " [   0    0    0    3    0    0    0]]\n"
     ]
    },
    {
     "name": "stderr",
     "output_type": "stream",
     "text": [
      "/home/cneiderer/anaconda3/lib/python3.6/site-packages/sklearn/metrics/classification.py:1135: UndefinedMetricWarning: Precision and F-score are ill-defined and being set to 0.0 in labels with no predicted samples.\n",
      "  'precision', 'predicted', average, warn_for)\n"
     ]
    }
   ],
   "source": [
    "print(clf2)\n",
    "\n",
    "# make predictions\n",
    "clf2_pred = clf2.predict(X_test)\n",
    "\n",
    "# summarize the fit of the model\n",
    "print(metrics.classification_report(y_test, clf2_pred))\n",
    "print(metrics.confusion_matrix(y_test, clf2_pred))"
   ]
  },
  {
   "cell_type": "code",
   "execution_count": 102,
   "metadata": {},
   "outputs": [
    {
     "name": "stdout",
     "output_type": "stream",
     "text": [
      "LogisticRegression(C=100.0, class_weight='balanced', dual=False,\n",
      "          fit_intercept=True, intercept_scaling=1, max_iter=100,\n",
      "          multi_class='ovr', n_jobs=1, penalty='l2', random_state=None,\n",
      "          solver='liblinear', tol=0.0001, verbose=0, warm_start=False)\n",
      "             precision    recall  f1-score   support\n",
      "\n",
      "          3       0.01      0.14      0.02        14\n",
      "          4       0.18      0.43      0.26       114\n",
      "          5       0.52      0.55      0.53      1020\n",
      "          6       0.56      0.43      0.49      1539\n",
      "          7       0.39      0.41      0.40       616\n",
      "          8       0.11      0.07      0.08       123\n",
      "          9       0.00      0.00      0.00         3\n",
      "\n",
      "avg / total       0.49      0.45      0.46      3429\n",
      "\n",
      "[[  2   4   2   2   1   0   3]\n",
      " [  3  49  42  12   7   1   0]\n",
      " [ 43 110 560 262  39   4   2]\n",
      " [ 68  89 391 659 296  26  10]\n",
      " [ 25  14  80 203 250  33  11]\n",
      " [  9   3  12  32  54   8   5]\n",
      " [  1   0   0   0   2   0   0]]\n"
     ]
    }
   ],
   "source": [
    "# fit a logistic regression model to the data\n",
    "lr1 = LogisticRegression(C=1e3, class_weight='balanced')\n",
    "lr1.fit(X_train, y_train)\n",
    "\n",
    "print(lr1)\n",
    "\n",
    "# make predictions\n",
    "lr1_pred = lr1.predict(X_test)\n",
    "\n",
    "# summarize the fit of the model\n",
    "print(metrics.classification_report(y_test, lr1_pred))\n",
    "print(metrics.confusion_matrix(y_test, lr1_pred))"
   ]
  },
  {
   "cell_type": "code",
   "execution_count": 88,
   "metadata": {},
   "outputs": [
    {
     "name": "stdout",
     "output_type": "stream",
     "text": [
      "LogisticRegression(C=1000, class_weight='balanced', dual=False,\n",
      "          fit_intercept=True, intercept_scaling=1, max_iter=100,\n",
      "          multi_class='multinomial', n_jobs=1, penalty='l2',\n",
      "          random_state=None, solver='newton-cg', tol=0.0001, verbose=0,\n",
      "          warm_start=False)\n",
      "             precision    recall  f1-score   support\n",
      "\n",
      "          3       0.01      0.14      0.02        14\n",
      "          4       0.15      0.57      0.24       114\n",
      "          5       0.51      0.51      0.51      1020\n",
      "          6       0.59      0.26      0.36      1539\n",
      "          7       0.32      0.29      0.31       616\n",
      "          8       0.10      0.42      0.16       123\n",
      "          9       0.00      0.00      0.00         3\n",
      "\n",
      "avg / total       0.48      0.35      0.38      3429\n",
      "\n",
      "[[  2   4   1   2   1   1   3]\n",
      " [  3  65  28   4   9   5   0]\n",
      " [ 54 196 518 168  55  28   1]\n",
      " [ 91 139 385 398 288 232   6]\n",
      " [ 38  21  79  95 181 196   6]\n",
      " [ 17   6  12   6  26  52   4]\n",
      " [  1   0   0   0   2   0   0]]\n"
     ]
    },
    {
     "name": "stderr",
     "output_type": "stream",
     "text": [
      "/home/cneiderer/anaconda3/lib/python3.6/site-packages/sklearn/utils/optimize.py:203: ConvergenceWarning: newton-cg failed to converge. Increase the number of iterations.\n",
      "  \"number of iterations.\", ConvergenceWarning)\n"
     ]
    }
   ],
   "source": [
    "# fit a logistic regression model to the data\n",
    "# lr2 = LogisticRegression(C=1000)\n",
    "lr2 = LogisticRegression(solver='newton-cg', \n",
    "                         multi_class='multinomial',\n",
    "                         class_weight='balanced',\n",
    "                         C=1000)\n",
    "lr2.fit(X_train, y_train)\n",
    "\n",
    "print(lr2)\n",
    "\n",
    "# make predictions\n",
    "lr2_pred = lr2.predict(X_test)\n",
    "\n",
    "# summarize the fit of the model\n",
    "print(metrics.classification_report(y_test, lr2_pred))\n",
    "print(metrics.confusion_matrix(y_test, lr2_pred))"
   ]
  },
  {
   "cell_type": "code",
   "execution_count": null,
   "metadata": {
    "collapsed": true
   },
   "outputs": [],
   "source": []
  },
  {
   "cell_type": "code",
   "execution_count": 75,
   "metadata": {},
   "outputs": [
    {
     "name": "stdout",
     "output_type": "stream",
     "text": [
      "             precision    recall  f1-score   support\n",
      "\n",
      "          3       0.20      0.07      0.11        14\n",
      "          4       0.24      0.18      0.21       114\n",
      "          5       0.53      0.51      0.52      1020\n",
      "          6       0.56      0.59      0.58      1539\n",
      "          7       0.46      0.44      0.45       616\n",
      "          8       0.31      0.31      0.31       123\n",
      "          9       0.00      0.00      0.00         3\n",
      "\n",
      "avg / total       0.51      0.52      0.51      3429\n",
      "\n",
      "[[  1   1   4   6   1   1   0]\n",
      " [  1  21  53  30   8   1   0]\n",
      " [  3  34 521 387  64  11   0]\n",
      " [  0  25 358 915 210  31   0]\n",
      " [  0   4  42 254 273  42   1]\n",
      " [  0   1   8  44  32  38   0]\n",
      " [  0   0   0   2   1   0   0]]\n"
     ]
    }
   ],
   "source": [
    "knn1 = make_pipeline(StandardScaler(), KNeighborsClassifier(n_neighbors=1))\n",
    "knn1.fit(X_train, y_train)\n",
    "\n",
    "knn1_pred = knn1.predict(X_test)\n",
    "\n",
    "# summarize the fit of the model\n",
    "print(metrics.classification_report(y_test, knn1_pred))\n",
    "print(metrics.confusion_matrix(y_test, knn1_pred))"
   ]
  },
  {
   "cell_type": "code",
   "execution_count": 62,
   "metadata": {},
   "outputs": [
    {
     "data": {
      "text/plain": [
       "Pipeline(memory=None,\n",
       "     steps=[('standardscaler', StandardScaler(copy=True, with_mean=True, with_std=True)), ('kneighborsclassifier', KNeighborsClassifier(algorithm='auto', leaf_size=30, metric='minkowski',\n",
       "           metric_params=None, n_jobs=1, n_neighbors=1, p=2,\n",
       "           weights='uniform'))])"
      ]
     },
     "execution_count": 62,
     "metadata": {},
     "output_type": "execute_result"
    }
   ],
   "source": [
    "knn1"
   ]
  },
  {
   "cell_type": "code",
   "execution_count": 63,
   "metadata": {},
   "outputs": [
    {
     "name": "stdout",
     "output_type": "stream",
     "text": [
      "             precision    recall  f1-score   support\n",
      "\n",
      "          3       0.01      0.14      0.03        14\n",
      "          4       0.16      0.45      0.24       114\n",
      "          5       0.51      0.57      0.54      1020\n",
      "          6       0.57      0.34      0.43      1539\n",
      "          7       0.39      0.50      0.44       616\n",
      "          8       0.16      0.10      0.12       123\n",
      "          9       0.00      0.00      0.00         3\n",
      "\n",
      "avg / total       0.49      0.43      0.44      3429\n",
      "\n",
      "[[  2   5   2   2   1   1   1]\n",
      " [  3  51  43   7  10   0   0]\n",
      " [ 37 124 585 220  49   4   1]\n",
      " [ 65 118 432 522 369  28   5]\n",
      " [ 19  19  81 139 308  32  18]\n",
      " [  8   3  13  20  60  12   7]\n",
      " [  1   0   0   0   2   0   0]]\n"
     ]
    }
   ],
   "source": [
    "lsvm = make_pipeline(StandardScaler(), LinearSVC(class_weight='balanced'))\n",
    "lsvm.fit(X_train, y_train)\n",
    "\n",
    "lsvm_pred = lsvm.predict(X_test)\n",
    "\n",
    "# summarize the fit of the model\n",
    "print(metrics.classification_report(y_test, lsvm_pred))\n",
    "print(metrics.confusion_matrix(y_test, lsvm_pred))"
   ]
  },
  {
   "cell_type": "code",
   "execution_count": 64,
   "metadata": {},
   "outputs": [
    {
     "name": "stdout",
     "output_type": "stream",
     "text": [
      "             precision    recall  f1-score   support\n",
      "\n",
      "          3       0.00      0.00      0.00        14\n",
      "          4       0.18      0.23      0.20       114\n",
      "          5       0.52      0.54      0.53      1020\n",
      "          6       0.59      0.59      0.59      1539\n",
      "          7       0.50      0.45      0.47       616\n",
      "          8       0.37      0.33      0.35       123\n",
      "          9       0.00      0.00      0.00         3\n",
      "\n",
      "avg / total       0.53      0.53      0.53      3429\n",
      "\n",
      "[[  0   4   7   1   2   0   0]\n",
      " [  0  26  53  28   7   0   0]\n",
      " [  1  62 555 359  40   3   0]\n",
      " [  0  41 364 912 193  29   0]\n",
      " [  0   5  78 218 278  36   1]\n",
      " [  0   5  13  32  33  40   0]\n",
      " [  0   0   0   0   3   0   0]]\n"
     ]
    }
   ],
   "source": [
    "rbfsvm = make_pipeline(StandardScaler(), SVC(C=1000, kernel='rbf', class_weight='balanced'))\n",
    "rbfsvm.fit(X_train, y_train)\n",
    "\n",
    "svm_rbf_pred = rbfsvm.predict(X_test)\n",
    "\n",
    "# summarize the fit of the model\n",
    "print(metrics.classification_report(y_test, svm_rbf_pred))\n",
    "print(metrics.confusion_matrix(y_test, svm_rbf_pred))"
   ]
  },
  {
   "cell_type": "code",
   "execution_count": 65,
   "metadata": {
    "collapsed": true
   },
   "outputs": [],
   "source": [
    "from sklearn.naive_bayes import GaussianNB"
   ]
  },
  {
   "cell_type": "code",
   "execution_count": 77,
   "metadata": {},
   "outputs": [
    {
     "name": "stdout",
     "output_type": "stream",
     "text": [
      "             precision    recall  f1-score   support\n",
      "\n",
      "          3       0.07      0.14      0.09        14\n",
      "          4       0.18      0.20      0.19       114\n",
      "          5       0.51      0.58      0.54      1020\n",
      "          6       0.53      0.30      0.38      1539\n",
      "          7       0.33      0.66      0.44       616\n",
      "          8       0.25      0.03      0.06       123\n",
      "          9       0.00      0.00      0.00         3\n",
      "\n",
      "avg / total       0.46      0.43      0.42      3429\n",
      "\n",
      "[[  2   3   4   2   3   0   0]\n",
      " [  2  23  52  16  21   0   0]\n",
      " [ 16  56 588 236 124   0   0]\n",
      " [ 10  36 434 460 597   2   0]\n",
      " [  0   5  72 125 404  10   0]\n",
      " [  0   3  13  24  79   4   0]\n",
      " [  0   0   1   0   2   0   0]]\n"
     ]
    },
    {
     "name": "stderr",
     "output_type": "stream",
     "text": [
      "/home/cneiderer/anaconda3/lib/python3.6/site-packages/sklearn/metrics/classification.py:1135: UndefinedMetricWarning: Precision and F-score are ill-defined and being set to 0.0 in labels with no predicted samples.\n",
      "  'precision', 'predicted', average, warn_for)\n"
     ]
    }
   ],
   "source": [
    "# nb1 = make_pipeline(StandardScaler(), GaussianNB())\n",
    "nb1 = GaussianNB() #priors=[0.2, 0.15, 0.1, 0.1, 0.1, 0.15, 0.2])\n",
    "nb1.fit(X_train, y_train)\n",
    "nb1_pred = nb1.predict(X_test)\n",
    "\n",
    "# summarize the fit of the model\n",
    "print(metrics.classification_report(y_test, nb1_pred))\n",
    "print(metrics.confusion_matrix(y_test, nb1_pred))"
   ]
  },
  {
   "cell_type": "code",
   "execution_count": 67,
   "metadata": {
    "collapsed": true
   },
   "outputs": [],
   "source": [
    "from sklearn.ensemble import RandomForestClassifier\n",
    "from sklearn.ensemble import ExtraTreesClassifier\n",
    "from sklearn.ensemble import GradientBoostingClassifier"
   ]
  },
  {
   "cell_type": "code",
   "execution_count": 68,
   "metadata": {},
   "outputs": [
    {
     "name": "stdout",
     "output_type": "stream",
     "text": [
      "             precision    recall  f1-score   support\n",
      "\n",
      "          3       0.00      0.00      0.00        14\n",
      "          4       0.50      0.11      0.19       114\n",
      "          5       0.65      0.57      0.61      1020\n",
      "          6       0.58      0.79      0.67      1539\n",
      "          7       0.66      0.40      0.50       616\n",
      "          8       0.91      0.24      0.37       123\n",
      "          9       0.00      0.00      0.00         3\n",
      "\n",
      "avg / total       0.62      0.61      0.59      3429\n",
      "\n",
      "[[   0    0    5    9    0    0    0]\n",
      " [   0   13   65   35    1    0    0]\n",
      " [   0   11  586  415    8    0    0]\n",
      " [   0    2  233 1218   86    0    0]\n",
      " [   0    0   14  355  244    3    0]\n",
      " [   0    0    1   65   28   29    0]\n",
      " [   0    0    0    2    1    0    0]]\n"
     ]
    },
    {
     "name": "stderr",
     "output_type": "stream",
     "text": [
      "/home/cneiderer/anaconda3/lib/python3.6/site-packages/sklearn/metrics/classification.py:1135: UndefinedMetricWarning: Precision and F-score are ill-defined and being set to 0.0 in labels with no predicted samples.\n",
      "  'precision', 'predicted', average, warn_for)\n"
     ]
    }
   ],
   "source": [
    "rf1 = RandomForestClassifier(n_estimators=1000, random_state=1294, class_weight='balanced')\n",
    "rf1.fit(X_train, y_train)\n",
    "rf1_pred = rf1.predict(X_test)\n",
    "\n",
    "# summarize the fit of the model\n",
    "print(metrics.classification_report(y_test, rf1_pred))\n",
    "print(metrics.confusion_matrix(y_test, rf1_pred))"
   ]
  },
  {
   "cell_type": "code",
   "execution_count": 69,
   "metadata": {},
   "outputs": [
    {
     "name": "stdout",
     "output_type": "stream",
     "text": [
      "             precision    recall  f1-score   support\n",
      "\n",
      "          3       0.00      0.00      0.00        14\n",
      "          4       0.54      0.12      0.20       114\n",
      "          5       0.65      0.58      0.61      1020\n",
      "          6       0.58      0.79      0.67      1539\n",
      "          7       0.64      0.38      0.48       616\n",
      "          8       0.88      0.24      0.38       123\n",
      "          9       0.00      0.00      0.00         3\n",
      "\n",
      "avg / total       0.62      0.61      0.59      3429\n",
      "\n",
      "[[   0    0    5    9    0    0    0]\n",
      " [   0   14   61   38    1    0    0]\n",
      " [   0    9  592  407   12    0    0]\n",
      " [   0    3  238 1210   87    1    0]\n",
      " [   0    0   17  359  237    3    0]\n",
      " [   0    0    1   61   31   30    0]\n",
      " [   0    0    0    2    1    0    0]]\n"
     ]
    },
    {
     "name": "stderr",
     "output_type": "stream",
     "text": [
      "/home/cneiderer/anaconda3/lib/python3.6/site-packages/sklearn/metrics/classification.py:1135: UndefinedMetricWarning: Precision and F-score are ill-defined and being set to 0.0 in labels with no predicted samples.\n",
      "  'precision', 'predicted', average, warn_for)\n"
     ]
    }
   ],
   "source": [
    "clf2 = ExtraTreesClassifier(n_estimators=1000, random_state=1294, class_weight='balanced')\n",
    "clf2.fit(X_train, y_train)\n",
    "predicted = clf2.predict(X_test)\n",
    "\n",
    "# summarize the fit of the model\n",
    "print(metrics.classification_report(y_test, predicted))\n",
    "print(metrics.confusion_matrix(y_test, predicted))"
   ]
  },
  {
   "cell_type": "code",
   "execution_count": 70,
   "metadata": {},
   "outputs": [
    {
     "name": "stdout",
     "output_type": "stream",
     "text": [
      "             precision    recall  f1-score   support\n",
      "\n",
      "          3       0.13      0.21      0.16        14\n",
      "          4       0.34      0.18      0.23       114\n",
      "          5       0.59      0.54      0.56      1020\n",
      "          6       0.57      0.68      0.62      1539\n",
      "          7       0.52      0.46      0.49       616\n",
      "          8       0.59      0.26      0.36       123\n",
      "          9       0.00      0.00      0.00         3\n",
      "\n",
      "avg / total       0.56      0.56      0.56      3429\n",
      "\n",
      "[[   3    2    4    5    0    0    0]\n",
      " [   3   20   52   31    8    0    0]\n",
      " [  10   26  546  406   31    0    1]\n",
      " [   5    9  274 1049  190   12    0]\n",
      " [   2    1   40  279  284   10    0]\n",
      " [   0    0    4   54   33   32    0]\n",
      " [   0    0    0    2    1    0    0]]\n"
     ]
    }
   ],
   "source": [
    "clf = GradientBoostingClassifier(n_estimators=1000, random_state=1294)\n",
    "clf.fit(X_train, y_train)\n",
    "predicted = clf.predict(X_test)\n",
    "\n",
    "# summarize the fit of the model\n",
    "print(metrics.classification_report(y_test, predicted))\n",
    "print(metrics.confusion_matrix(y_test, predicted))"
   ]
  },
  {
   "cell_type": "code",
   "execution_count": null,
   "metadata": {
    "collapsed": true
   },
   "outputs": [],
   "source": []
  },
  {
   "cell_type": "code",
   "execution_count": null,
   "metadata": {
    "collapsed": true
   },
   "outputs": [],
   "source": []
  }
 ],
 "metadata": {
  "kernelspec": {
   "display_name": "Python 3",
   "language": "python",
   "name": "python3"
  },
  "language_info": {
   "codemirror_mode": {
    "name": "ipython",
    "version": 3
   },
   "file_extension": ".py",
   "mimetype": "text/x-python",
   "name": "python",
   "nbconvert_exporter": "python",
   "pygments_lexer": "ipython3",
   "version": "3.6.4"
  },
  "varInspector": {
   "cols": {
    "lenName": 16,
    "lenType": 16,
    "lenVar": 40
   },
   "kernels_config": {
    "python": {
     "delete_cmd_postfix": "",
     "delete_cmd_prefix": "del ",
     "library": "var_list.py",
     "varRefreshCmd": "print(var_dic_list())"
    },
    "r": {
     "delete_cmd_postfix": ") ",
     "delete_cmd_prefix": "rm(",
     "library": "var_list.r",
     "varRefreshCmd": "cat(var_dic_list()) "
    }
   },
   "types_to_exclude": [
    "module",
    "function",
    "builtin_function_or_method",
    "instance",
    "_Feature"
   ],
   "window_display": false
  }
 },
 "nbformat": 4,
 "nbformat_minor": 2
}
