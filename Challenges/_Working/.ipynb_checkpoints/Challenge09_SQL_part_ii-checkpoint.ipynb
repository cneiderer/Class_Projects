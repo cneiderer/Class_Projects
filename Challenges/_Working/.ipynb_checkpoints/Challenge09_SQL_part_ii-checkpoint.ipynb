{
 "cells": [
  {
   "cell_type": "markdown",
   "metadata": {},
   "source": [
    "# Challenge Set 9\n",
    "## Part II: Baseball Data\n",
    "\n",
    "*Introductory - Intermediate level SQL*\n",
    "\n",
    "--\n",
    "\n",
    "Please complete this exercise via SQLalchemy and Jupyter notebook.\n",
    "\n",
    "We will be working with the Lahman baseball data we uploaded to your AWS instance in class. \n",
    "\n",
    "\n",
    "1. What was the total spent on salaries by each team, each year?\n",
    "\n",
    "2. What is the first and last year played for each player? *Hint:* Create a new table from 'Fielding.csv'.\n",
    "\n",
    "3. Who has played the most all star games?\n",
    "\n",
    "4. Which school has generated the most distinct players? *Hint:* Create new table from 'CollegePlaying.csv'.\n",
    "\n",
    "5. Which players have the longest career? Assume that the `debut` and `finalGame` columns comprise the start and end, respectively, of a player's career. *Hint:* Create a new table from 'Master.csv'. Also note that strings can be converted to dates using the [`DATE`](https://wiki.postgresql.org/wiki/Working_with_Dates_and_Times_in_PostgreSQL#WORKING_with_DATETIME.2C_DATE.2C_and_INTERVAL_VALUES) function and can then be subtracted from each other yielding their difference in days.\n",
    "\n",
    "6. What is the distribution of debut months? *Hint:* Look at the `DATE` and [`EXTRACT`](https://www.postgresql.org/docs/current/static/functions-datetime.html#FUNCTIONS-DATETIME-EXTRACT) functions.\n",
    "\n",
    "7. What is the effect of table join order on mean salary for the players listed in the main (master) table? *Hint:* Perform two different queries, one that joins on playerID in the salary table and other that joins on the same column in the master table. You will have to use left joins for each since right joins are not currently supported with SQLalchemy."
   ]
  },
  {
   "cell_type": "code",
   "execution_count": 48,
   "metadata": {
    "collapsed": true
   },
   "outputs": [],
   "source": [
    "from sqlalchemy import create_engine\n",
    "from sqlalchemy import MetaData\n",
    "from sqlalchemy import Table\n",
    "from sqlalchemy import Column, String, INTEGER, VARCHAR, TEXT\n",
    "\n",
    "import pandas as pd"
   ]
  },
  {
   "cell_type": "code",
   "execution_count": 49,
   "metadata": {
    "collapsed": true
   },
   "outputs": [],
   "source": [
    "cnx = create_engine('postgresql://cneiderer@54.159.198.159:5432/baseball')"
   ]
  },
  {
   "cell_type": "code",
   "execution_count": 50,
   "metadata": {},
   "outputs": [
    {
     "data": {
      "text/plain": [
       "['allstarfull', 'salaries', 'schools', 'fielding']"
      ]
     },
     "execution_count": 50,
     "metadata": {},
     "output_type": "execute_result"
    }
   ],
   "source": [
    "cnx.table_names()"
   ]
  },
  {
   "cell_type": "code",
   "execution_count": 8,
   "metadata": {},
   "outputs": [],
   "source": [
    "df = {}\n",
    "for t in cnx.table_names():\n",
    "    df[t] = pd.read_sql_query('SELECT * FROM ' + t, cnx)"
   ]
  },
  {
   "cell_type": "code",
   "execution_count": 9,
   "metadata": {},
   "outputs": [
    {
     "name": "stdout",
     "output_type": "stream",
     "text": [
      "<class 'pandas.core.frame.DataFrame'>\n",
      "RangeIndex: 4912 entries, 0 to 4911\n",
      "Data columns (total 8 columns):\n",
      "playerid       4912 non-null object\n",
      "yearid         4912 non-null int64\n",
      "gamenum        4912 non-null object\n",
      "gameid         4863 non-null object\n",
      "teamid         4912 non-null object\n",
      "lgid           4912 non-null object\n",
      "gp             4875 non-null object\n",
      "startingpos    1540 non-null object\n",
      "dtypes: int64(1), object(7)\n",
      "memory usage: 307.1+ KB\n"
     ]
    }
   ],
   "source": [
    "df['allstarfull'].info()"
   ]
  },
  {
   "cell_type": "code",
   "execution_count": 10,
   "metadata": {},
   "outputs": [
    {
     "name": "stdout",
     "output_type": "stream",
     "text": [
      "<class 'pandas.core.frame.DataFrame'>\n",
      "RangeIndex: 23956 entries, 0 to 23955\n",
      "Data columns (total 5 columns):\n",
      "yearid      23956 non-null int64\n",
      "teamid      23956 non-null object\n",
      "lgid        23956 non-null object\n",
      "playerid    23956 non-null object\n",
      "salary      23956 non-null float64\n",
      "dtypes: float64(1), int64(1), object(3)\n",
      "memory usage: 935.9+ KB\n"
     ]
    }
   ],
   "source": [
    "df['salaries'].info()"
   ]
  },
  {
   "cell_type": "code",
   "execution_count": 11,
   "metadata": {},
   "outputs": [
    {
     "name": "stdout",
     "output_type": "stream",
     "text": [
      "<class 'pandas.core.frame.DataFrame'>\n",
      "RangeIndex: 749 entries, 0 to 748\n",
      "Data columns (total 5 columns):\n",
      "schoolid       749 non-null object\n",
      "schoolname     749 non-null object\n",
      "schoolcity     749 non-null object\n",
      "schoolstate    749 non-null object\n",
      "schoolnick     744 non-null object\n",
      "dtypes: object(5)\n",
      "memory usage: 29.3+ KB\n"
     ]
    }
   ],
   "source": [
    "df['schools'].info()"
   ]
  },
  {
   "cell_type": "code",
   "execution_count": null,
   "metadata": {
    "collapsed": true
   },
   "outputs": [],
   "source": []
  },
  {
   "cell_type": "markdown",
   "metadata": {},
   "source": [
    "### What was the total spent on salaries by each team, each year?"
   ]
  },
  {
   "cell_type": "code",
   "execution_count": 14,
   "metadata": {
    "scrolled": true
   },
   "outputs": [
    {
     "data": {
      "text/html": [
       "<div>\n",
       "<style scoped>\n",
       "    .dataframe tbody tr th:only-of-type {\n",
       "        vertical-align: middle;\n",
       "    }\n",
       "\n",
       "    .dataframe tbody tr th {\n",
       "        vertical-align: top;\n",
       "    }\n",
       "\n",
       "    .dataframe thead th {\n",
       "        text-align: right;\n",
       "    }\n",
       "</style>\n",
       "<table border=\"1\" class=\"dataframe\">\n",
       "  <thead>\n",
       "    <tr style=\"text-align: right;\">\n",
       "      <th></th>\n",
       "      <th></th>\n",
       "      <th>salary</th>\n",
       "    </tr>\n",
       "    <tr>\n",
       "      <th>teamid</th>\n",
       "      <th>yearid</th>\n",
       "      <th></th>\n",
       "    </tr>\n",
       "  </thead>\n",
       "  <tbody>\n",
       "    <tr>\n",
       "      <th rowspan=\"8\" valign=\"top\">ANA</th>\n",
       "      <th>1997</th>\n",
       "      <td>31135472.0</td>\n",
       "    </tr>\n",
       "    <tr>\n",
       "      <th>1998</th>\n",
       "      <td>41281000.0</td>\n",
       "    </tr>\n",
       "    <tr>\n",
       "      <th>1999</th>\n",
       "      <td>55388166.0</td>\n",
       "    </tr>\n",
       "    <tr>\n",
       "      <th>2000</th>\n",
       "      <td>51464167.0</td>\n",
       "    </tr>\n",
       "    <tr>\n",
       "      <th>2001</th>\n",
       "      <td>47535167.0</td>\n",
       "    </tr>\n",
       "    <tr>\n",
       "      <th>2002</th>\n",
       "      <td>61721667.0</td>\n",
       "    </tr>\n",
       "    <tr>\n",
       "      <th>2003</th>\n",
       "      <td>79031667.0</td>\n",
       "    </tr>\n",
       "    <tr>\n",
       "      <th>2004</th>\n",
       "      <td>100534667.0</td>\n",
       "    </tr>\n",
       "    <tr>\n",
       "      <th rowspan=\"16\" valign=\"top\">ARI</th>\n",
       "      <th>1998</th>\n",
       "      <td>32347000.0</td>\n",
       "    </tr>\n",
       "    <tr>\n",
       "      <th>1999</th>\n",
       "      <td>68703999.0</td>\n",
       "    </tr>\n",
       "    <tr>\n",
       "      <th>2000</th>\n",
       "      <td>81027833.0</td>\n",
       "    </tr>\n",
       "    <tr>\n",
       "      <th>2001</th>\n",
       "      <td>85082999.0</td>\n",
       "    </tr>\n",
       "    <tr>\n",
       "      <th>2002</th>\n",
       "      <td>102819999.0</td>\n",
       "    </tr>\n",
       "    <tr>\n",
       "      <th>2003</th>\n",
       "      <td>80657000.0</td>\n",
       "    </tr>\n",
       "    <tr>\n",
       "      <th>2004</th>\n",
       "      <td>69780750.0</td>\n",
       "    </tr>\n",
       "    <tr>\n",
       "      <th>2005</th>\n",
       "      <td>62329166.0</td>\n",
       "    </tr>\n",
       "    <tr>\n",
       "      <th>2006</th>\n",
       "      <td>59684226.0</td>\n",
       "    </tr>\n",
       "    <tr>\n",
       "      <th>2007</th>\n",
       "      <td>52067546.0</td>\n",
       "    </tr>\n",
       "    <tr>\n",
       "      <th>2008</th>\n",
       "      <td>66202712.0</td>\n",
       "    </tr>\n",
       "    <tr>\n",
       "      <th>2009</th>\n",
       "      <td>73115666.0</td>\n",
       "    </tr>\n",
       "    <tr>\n",
       "      <th>2010</th>\n",
       "      <td>60718166.0</td>\n",
       "    </tr>\n",
       "    <tr>\n",
       "      <th>2011</th>\n",
       "      <td>53639833.0</td>\n",
       "    </tr>\n",
       "    <tr>\n",
       "      <th>2012</th>\n",
       "      <td>73804833.0</td>\n",
       "    </tr>\n",
       "    <tr>\n",
       "      <th>2013</th>\n",
       "      <td>90132000.0</td>\n",
       "    </tr>\n",
       "    <tr>\n",
       "      <th rowspan=\"6\" valign=\"top\">ATL</th>\n",
       "      <th>1985</th>\n",
       "      <td>14807000.0</td>\n",
       "    </tr>\n",
       "    <tr>\n",
       "      <th>1986</th>\n",
       "      <td>17102786.0</td>\n",
       "    </tr>\n",
       "    <tr>\n",
       "      <th>1987</th>\n",
       "      <td>16544560.0</td>\n",
       "    </tr>\n",
       "    <tr>\n",
       "      <th>1988</th>\n",
       "      <td>12728174.0</td>\n",
       "    </tr>\n",
       "    <tr>\n",
       "      <th>1989</th>\n",
       "      <td>11112334.0</td>\n",
       "    </tr>\n",
       "    <tr>\n",
       "      <th>1990</th>\n",
       "      <td>14555501.0</td>\n",
       "    </tr>\n",
       "    <tr>\n",
       "      <th>...</th>\n",
       "      <th>...</th>\n",
       "      <td>...</td>\n",
       "    </tr>\n",
       "    <tr>\n",
       "      <th rowspan=\"21\" valign=\"top\">TOR</th>\n",
       "      <th>1993</th>\n",
       "      <td>47279166.0</td>\n",
       "    </tr>\n",
       "    <tr>\n",
       "      <th>1994</th>\n",
       "      <td>43433668.0</td>\n",
       "    </tr>\n",
       "    <tr>\n",
       "      <th>1995</th>\n",
       "      <td>50590000.0</td>\n",
       "    </tr>\n",
       "    <tr>\n",
       "      <th>1996</th>\n",
       "      <td>29555083.0</td>\n",
       "    </tr>\n",
       "    <tr>\n",
       "      <th>1997</th>\n",
       "      <td>47079833.0</td>\n",
       "    </tr>\n",
       "    <tr>\n",
       "      <th>1998</th>\n",
       "      <td>51376000.0</td>\n",
       "    </tr>\n",
       "    <tr>\n",
       "      <th>1999</th>\n",
       "      <td>45444333.0</td>\n",
       "    </tr>\n",
       "    <tr>\n",
       "      <th>2000</th>\n",
       "      <td>44838332.0</td>\n",
       "    </tr>\n",
       "    <tr>\n",
       "      <th>2001</th>\n",
       "      <td>76895999.0</td>\n",
       "    </tr>\n",
       "    <tr>\n",
       "      <th>2002</th>\n",
       "      <td>76864333.0</td>\n",
       "    </tr>\n",
       "    <tr>\n",
       "      <th>2003</th>\n",
       "      <td>51269000.0</td>\n",
       "    </tr>\n",
       "    <tr>\n",
       "      <th>2004</th>\n",
       "      <td>50017000.0</td>\n",
       "    </tr>\n",
       "    <tr>\n",
       "      <th>2005</th>\n",
       "      <td>45719500.0</td>\n",
       "    </tr>\n",
       "    <tr>\n",
       "      <th>2006</th>\n",
       "      <td>71365000.0</td>\n",
       "    </tr>\n",
       "    <tr>\n",
       "      <th>2007</th>\n",
       "      <td>81942800.0</td>\n",
       "    </tr>\n",
       "    <tr>\n",
       "      <th>2008</th>\n",
       "      <td>97793900.0</td>\n",
       "    </tr>\n",
       "    <tr>\n",
       "      <th>2009</th>\n",
       "      <td>80538300.0</td>\n",
       "    </tr>\n",
       "    <tr>\n",
       "      <th>2010</th>\n",
       "      <td>62234000.0</td>\n",
       "    </tr>\n",
       "    <tr>\n",
       "      <th>2011</th>\n",
       "      <td>62567800.0</td>\n",
       "    </tr>\n",
       "    <tr>\n",
       "      <th>2012</th>\n",
       "      <td>75009200.0</td>\n",
       "    </tr>\n",
       "    <tr>\n",
       "      <th>2013</th>\n",
       "      <td>126288100.0</td>\n",
       "    </tr>\n",
       "    <tr>\n",
       "      <th rowspan=\"9\" valign=\"top\">WAS</th>\n",
       "      <th>2005</th>\n",
       "      <td>48581500.0</td>\n",
       "    </tr>\n",
       "    <tr>\n",
       "      <th>2006</th>\n",
       "      <td>63143000.0</td>\n",
       "    </tr>\n",
       "    <tr>\n",
       "      <th>2007</th>\n",
       "      <td>36947500.0</td>\n",
       "    </tr>\n",
       "    <tr>\n",
       "      <th>2008</th>\n",
       "      <td>54961000.0</td>\n",
       "    </tr>\n",
       "    <tr>\n",
       "      <th>2009</th>\n",
       "      <td>59928000.0</td>\n",
       "    </tr>\n",
       "    <tr>\n",
       "      <th>2010</th>\n",
       "      <td>61400000.0</td>\n",
       "    </tr>\n",
       "    <tr>\n",
       "      <th>2011</th>\n",
       "      <td>63856928.0</td>\n",
       "    </tr>\n",
       "    <tr>\n",
       "      <th>2012</th>\n",
       "      <td>80855143.0</td>\n",
       "    </tr>\n",
       "    <tr>\n",
       "      <th>2013</th>\n",
       "      <td>113703270.0</td>\n",
       "    </tr>\n",
       "  </tbody>\n",
       "</table>\n",
       "<p>828 rows × 1 columns</p>\n",
       "</div>"
      ],
      "text/plain": [
       "                    salary\n",
       "teamid yearid             \n",
       "ANA    1997     31135472.0\n",
       "       1998     41281000.0\n",
       "       1999     55388166.0\n",
       "       2000     51464167.0\n",
       "       2001     47535167.0\n",
       "       2002     61721667.0\n",
       "       2003     79031667.0\n",
       "       2004    100534667.0\n",
       "ARI    1998     32347000.0\n",
       "       1999     68703999.0\n",
       "       2000     81027833.0\n",
       "       2001     85082999.0\n",
       "       2002    102819999.0\n",
       "       2003     80657000.0\n",
       "       2004     69780750.0\n",
       "       2005     62329166.0\n",
       "       2006     59684226.0\n",
       "       2007     52067546.0\n",
       "       2008     66202712.0\n",
       "       2009     73115666.0\n",
       "       2010     60718166.0\n",
       "       2011     53639833.0\n",
       "       2012     73804833.0\n",
       "       2013     90132000.0\n",
       "ATL    1985     14807000.0\n",
       "       1986     17102786.0\n",
       "       1987     16544560.0\n",
       "       1988     12728174.0\n",
       "       1989     11112334.0\n",
       "       1990     14555501.0\n",
       "...                    ...\n",
       "TOR    1993     47279166.0\n",
       "       1994     43433668.0\n",
       "       1995     50590000.0\n",
       "       1996     29555083.0\n",
       "       1997     47079833.0\n",
       "       1998     51376000.0\n",
       "       1999     45444333.0\n",
       "       2000     44838332.0\n",
       "       2001     76895999.0\n",
       "       2002     76864333.0\n",
       "       2003     51269000.0\n",
       "       2004     50017000.0\n",
       "       2005     45719500.0\n",
       "       2006     71365000.0\n",
       "       2007     81942800.0\n",
       "       2008     97793900.0\n",
       "       2009     80538300.0\n",
       "       2010     62234000.0\n",
       "       2011     62567800.0\n",
       "       2012     75009200.0\n",
       "       2013    126288100.0\n",
       "WAS    2005     48581500.0\n",
       "       2006     63143000.0\n",
       "       2007     36947500.0\n",
       "       2008     54961000.0\n",
       "       2009     59928000.0\n",
       "       2010     61400000.0\n",
       "       2011     63856928.0\n",
       "       2012     80855143.0\n",
       "       2013    113703270.0\n",
       "\n",
       "[828 rows x 1 columns]"
      ]
     },
     "execution_count": 14,
     "metadata": {},
     "output_type": "execute_result"
    }
   ],
   "source": [
    "df['salaries'].groupby(['teamid', 'yearid']).sum()"
   ]
  },
  {
   "cell_type": "markdown",
   "metadata": {},
   "source": [
    "### What is the first and last year played for each player? *Hint:* Create a new table from 'Fielding.csv'."
   ]
  },
  {
   "cell_type": "code",
   "execution_count": 47,
   "metadata": {},
   "outputs": [],
   "source": [
    "table = Table('fielding', MetaData(),\n",
    "              Column('playerID', VARCHAR(20), primary_key=True),\n",
    "              Column('yearID', INTEGER, primary_key=True),\n",
    "              Column('stint', INTEGER),\n",
    "              Column('teamID', TEXT, primary_key=True), \n",
    "              Column('lgID', TEXT, primary_key=True),\n",
    "              Column('POS', TEXT),\n",
    "              Column('G', INTEGER),\n",
    "              Column('GS', INTEGER),\n",
    "              Column('InnOuts', INTEGER),\n",
    "              Column('PO', INTEGER),\n",
    "              Column('A', INTEGER),\n",
    "              Column('E', INTEGER),\n",
    "              Column('DP', INTEGER),\n",
    "              Column('PB', INTEGER),\n",
    "              Column('WP', INTEGER), \n",
    "              Column('SB', INTEGER),\n",
    "              Column('CS', INTEGER),\n",
    "              Column('ZR', INTEGER))\n",
    "table.create(cnx)\n"
   ]
  },
  {
   "cell_type": "code",
   "execution_count": null,
   "metadata": {
    "collapsed": true
   },
   "outputs": [],
   "source": []
  },
  {
   "cell_type": "markdown",
   "metadata": {},
   "source": [
    "### Who has played the most all star games?"
   ]
  },
  {
   "cell_type": "code",
   "execution_count": 31,
   "metadata": {},
   "outputs": [],
   "source": [
    "df['allstarfull']['gp'] = df['allstarfull']['gp'].astype(float)"
   ]
  },
  {
   "cell_type": "code",
   "execution_count": 33,
   "metadata": {},
   "outputs": [
    {
     "data": {
      "text/plain": [
       "'aaronha01'"
      ]
     },
     "execution_count": 33,
     "metadata": {},
     "output_type": "execute_result"
    }
   ],
   "source": [
    "df['allstarfull'][['playerid', 'gp']].groupby('playerid').sum().idxmax(axis=0)[0]"
   ]
  },
  {
   "cell_type": "markdown",
   "metadata": {},
   "source": [
    "### Which school has generated the most distinct players? \n",
    "*Hint:* Create new table from 'CollegePlaying.csv'."
   ]
  },
  {
   "cell_type": "code",
   "execution_count": 51,
   "metadata": {
    "collapsed": true
   },
   "outputs": [],
   "source": [
    "table = Table('schoolsplayers', MetaData(),\n",
    "              Column('playerID', VARCHAR(20), primary_key=True),\n",
    "              Column('schoolID', VARCHAR(20), primary_key=True),\n",
    "              Column('yearMin', INTEGER),\n",
    "              Column('yearMax', INTEGER))\n",
    "\n",
    "table.create(cnx)"
   ]
  },
  {
   "cell_type": "markdown",
   "metadata": {},
   "source": [
    "### Which players have the longest career? Assume that the `debut` and `finalGame` columns comprise the start and end, respectively, of a player's career. \n",
    "*Hint:* Create a new table from 'Master.csv'. Also note that strings can be converted to dates using the [`DATE`](https://wiki.postgresql.org/wiki/Working_with_Dates_and_Times_in_PostgreSQL#WORKING_with_DATETIME.2C_DATE.2C_and_INTERVAL_VALUES) function and can then be subtracted from each other yielding their difference in days."
   ]
  },
  {
   "cell_type": "code",
   "execution_count": null,
   "metadata": {
    "collapsed": true
   },
   "outputs": [],
   "source": [
    "table = Table('master', MetaData(),\n",
    "              Column('playerID', VARCHAR(20), primary_key=TRUE),\n",
    "              Column('birthYear', INTEGER),\n",
    "              Column('birthMonth', INTEGER),\n",
    "              Column('birthDay', INTEGER),\n",
    "              Column('birthCountry', TEXT),\n",
    "              Column('birthState', TEXT),\n",
    "              Column('birthCity', TEXT),\n",
    "              Column('deathYear', INTEGER),\n",
    "              Column('deathMonth', INTEGER),\n",
    "              Column('deathDay', INTEGER),\n",
    "              Column('deathCountry', TEXT),\n",
    "              Column('deathState', TEXT),\n",
    "              Column('deathCity', TEXT),\n",
    "              Column('nameFirst', TEXT),\n",
    "              Column('nameLast', TEXT),\n",
    "              Column('nameGiven', TEXT),\n",
    "              Column('weight', INTEGER),\n",
    "              Column('height', INTEGER),\n",
    "              Column('bats', VARCHAR(1)),\n",
    "              Column('throws', VARCHAR(1)),\n",
    "              Column('debut', VARCHAR(10)),\n",
    "              Column('finalGame', VARCHAR(10)),\n",
    "              Column('retroID', VARCHAR(20)),\n",
    "              Column('bbrefID', VARCHAR(20)))\n",
    "\n",
    "table.create(cnx)"
   ]
  },
  {
   "cell_type": "markdown",
   "metadata": {},
   "source": [
    "### What is the distribution of debut months? \n",
    "*Hint:* Look at the `DATE` and [`EXTRACT`](https://www.postgresql.org/docs/current/static/functions-datetime.html#FUNCTIONS-DATETIME-EXTRACT) functions."
   ]
  },
  {
   "cell_type": "code",
   "execution_count": null,
   "metadata": {
    "collapsed": true
   },
   "outputs": [],
   "source": []
  },
  {
   "cell_type": "markdown",
   "metadata": {},
   "source": [
    "### What is the effect of table join order on mean salary for the players listed in the main (master) table? \n",
    "*Hint:* Perform two different queries, one that joins on playerID in the salary table and other that joins on the same column in the master table. You will have to use left joins for each since right joins are not currently supported with SQLalchemy."
   ]
  },
  {
   "cell_type": "code",
   "execution_count": null,
   "metadata": {
    "collapsed": true
   },
   "outputs": [],
   "source": []
  }
 ],
 "metadata": {
  "kernelspec": {
   "display_name": "Python 3",
   "language": "python",
   "name": "python3"
  },
  "language_info": {
   "codemirror_mode": {
    "name": "ipython",
    "version": 3
   },
   "file_extension": ".py",
   "mimetype": "text/x-python",
   "name": "python",
   "nbconvert_exporter": "python",
   "pygments_lexer": "ipython3",
   "version": "3.6.4"
  },
  "varInspector": {
   "cols": {
    "lenName": 16,
    "lenType": 16,
    "lenVar": 40
   },
   "kernels_config": {
    "python": {
     "delete_cmd_postfix": "",
     "delete_cmd_prefix": "del ",
     "library": "var_list.py",
     "varRefreshCmd": "print(var_dic_list())"
    },
    "r": {
     "delete_cmd_postfix": ") ",
     "delete_cmd_prefix": "rm(",
     "library": "var_list.r",
     "varRefreshCmd": "cat(var_dic_list()) "
    }
   },
   "types_to_exclude": [
    "module",
    "function",
    "builtin_function_or_method",
    "instance",
    "_Feature"
   ],
   "window_display": false
  }
 },
 "nbformat": 4,
 "nbformat_minor": 2
}
