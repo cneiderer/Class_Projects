{
 "cells": [
  {
   "cell_type": "code",
   "execution_count": 1,
   "metadata": {},
   "outputs": [],
   "source": [
    "import numpy as np\n",
    "import pandas as pd\n",
    "import matplotlib.pyplot as plt\n",
    "from mpl_toolkits.basemap import Basemap\n",
    "%matplotlib inline\n",
    "import os\n",
    "import pickle\n",
    "import re"
   ]
  },
  {
   "cell_type": "markdown",
   "metadata": {
    "collapsed": true
   },
   "source": [
    "### Load Data"
   ]
  },
  {
   "cell_type": "code",
   "execution_count": 5,
   "metadata": {
    "code_folding": [
     0
    ]
   },
   "outputs": [
    {
     "name": "stderr",
     "output_type": "stream",
     "text": [
      "/home/cneiderer/anaconda3/lib/python3.6/site-packages/IPython/core/interactiveshell.py:2728: DtypeWarning: Columns (10,11,14,15,84,86) have mixed types. Specify dtype option on import or set low_memory=False.\n",
      "  interactivity=interactivity, compiler=compiler, result=result)\n",
      "/home/cneiderer/anaconda3/lib/python3.6/site-packages/IPython/core/interactiveshell.py:2728: DtypeWarning: Columns (14,15,67,85,87) have mixed types. Specify dtype option on import or set low_memory=False.\n",
      "  interactivity=interactivity, compiler=compiler, result=result)\n",
      "/home/cneiderer/anaconda3/lib/python3.6/site-packages/IPython/core/interactiveshell.py:2728: DtypeWarning: Columns (14,15,22,23,25,67,84,86) have mixed types. Specify dtype option on import or set low_memory=False.\n",
      "  interactivity=interactivity, compiler=compiler, result=result)\n",
      "/home/cneiderer/anaconda3/lib/python3.6/site-packages/IPython/core/interactiveshell.py:2728: DtypeWarning: Columns (10,11,84,86) have mixed types. Specify dtype option on import or set low_memory=False.\n",
      "  interactivity=interactivity, compiler=compiler, result=result)\n",
      "/home/cneiderer/anaconda3/lib/python3.6/site-packages/IPython/core/interactiveshell.py:2728: DtypeWarning: Columns (10,11,14,15,25,67) have mixed types. Specify dtype option on import or set low_memory=False.\n",
      "  interactivity=interactivity, compiler=compiler, result=result)\n",
      "/home/cneiderer/anaconda3/lib/python3.6/site-packages/IPython/core/interactiveshell.py:2728: DtypeWarning: Columns (22,67,85,87) have mixed types. Specify dtype option on import or set low_memory=False.\n",
      "  interactivity=interactivity, compiler=compiler, result=result)\n"
     ]
    }
   ],
   "source": [
    "# Define path to weather data\n",
    "weather_data_path = '/home/cneiderer/Metis/boston_weather_data'\n",
    "# Load data\n",
    "weather_df = pd.DataFrame()\n",
    "for f in os.listdir(weather_data_path):\n",
    "    fparts = os.path.splitext(f)\n",
    "    if fparts[1] == '.csv':\n",
    "        weather_df = pd.concat([weather_df, pd.read_csv(os.path.join(weather_data_path, f))], axis=0)"
   ]
  },
  {
   "cell_type": "markdown",
   "metadata": {},
   "source": [
    "### Select Columns"
   ]
  },
  {
   "cell_type": "code",
   "execution_count": 9,
   "metadata": {
    "code_folding": [
     0
    ],
    "collapsed": true
   },
   "outputs": [],
   "source": [
    "def select_and_rename_cols(df):\n",
    "    \n",
    "    # Select hourly columns only\n",
    "    cols = ['DATE']\n",
    "    for c in df.columns[7:]:\n",
    "        if c[:6].lower() == 'hourly':\n",
    "            cols.append(c)\n",
    "    df = df[cols]\n",
    "\n",
    "    # Remove hourly from column names\n",
    "    cols = []\n",
    "    for c in df.columns:\n",
    "        cols.append(re.sub('hourly', '', c.lower()))\n",
    "    df.columns = cols  \n",
    "    \n",
    "    # Select relevant columns\n",
    "    df = df[['date', 'skyconditions', 'visibility', 'prsentweathertype', \n",
    "             'drybulbtempf', 'drybulbtempc', 'relativehumidity', \n",
    "             'windspeed', 'winddirection', 'stationpressure', \n",
    "             'pressuretendency', 'pressurechange', 'precip']]\n",
    "    \n",
    "    # Rename columns\n",
    "    df.columns = ['MeasurementTime', 'SkyConditions', 'Visibility', 'WeatherType', \n",
    "                  'TempC', 'TempF', 'Humidity', 'WindSpeed', 'WindDirection',\n",
    "                  'Pressure', 'PressureTendency', 'PressureChange', 'Precip']\n",
    "    \n",
    "    return df"
   ]
  },
  {
   "cell_type": "code",
   "execution_count": 13,
   "metadata": {},
   "outputs": [
    {
     "data": {
      "text/html": [
       "<div>\n",
       "<style scoped>\n",
       "    .dataframe tbody tr th:only-of-type {\n",
       "        vertical-align: middle;\n",
       "    }\n",
       "\n",
       "    .dataframe tbody tr th {\n",
       "        vertical-align: top;\n",
       "    }\n",
       "\n",
       "    .dataframe thead th {\n",
       "        text-align: right;\n",
       "    }\n",
       "</style>\n",
       "<table border=\"1\" class=\"dataframe\">\n",
       "  <thead>\n",
       "    <tr style=\"text-align: right;\">\n",
       "      <th></th>\n",
       "      <th>MeasurementTime</th>\n",
       "      <th>SkyConditions</th>\n",
       "      <th>Visibility</th>\n",
       "      <th>WeatherType</th>\n",
       "      <th>TempC</th>\n",
       "      <th>TempF</th>\n",
       "      <th>Humidity</th>\n",
       "      <th>WindSpeed</th>\n",
       "      <th>WindDirection</th>\n",
       "      <th>Pressure</th>\n",
       "      <th>PressureTendency</th>\n",
       "      <th>PressureChange</th>\n",
       "      <th>Precip</th>\n",
       "    </tr>\n",
       "  </thead>\n",
       "  <tbody>\n",
       "    <tr>\n",
       "      <th>0</th>\n",
       "      <td>2018-01-01 00:54</td>\n",
       "      <td>CLR:00</td>\n",
       "      <td>10.00</td>\n",
       "      <td>NaN</td>\n",
       "      <td>2</td>\n",
       "      <td>-16.7</td>\n",
       "      <td>59.0</td>\n",
       "      <td>16</td>\n",
       "      <td>320</td>\n",
       "      <td>30.17</td>\n",
       "      <td>1.0</td>\n",
       "      <td>NaN</td>\n",
       "      <td>0.00</td>\n",
       "    </tr>\n",
       "    <tr>\n",
       "      <th>1</th>\n",
       "      <td>2018-01-01 01:00</td>\n",
       "      <td>NaN</td>\n",
       "      <td>NaN</td>\n",
       "      <td>NaN</td>\n",
       "      <td>2</td>\n",
       "      <td>-16.7</td>\n",
       "      <td>59.0</td>\n",
       "      <td>16</td>\n",
       "      <td>320</td>\n",
       "      <td>30.18</td>\n",
       "      <td>1.0</td>\n",
       "      <td>-0.01</td>\n",
       "      <td>NaN</td>\n",
       "    </tr>\n",
       "    <tr>\n",
       "      <th>2</th>\n",
       "      <td>2018-01-01 01:54</td>\n",
       "      <td>CLR:00</td>\n",
       "      <td>10.00</td>\n",
       "      <td>NaN</td>\n",
       "      <td>1</td>\n",
       "      <td>-17.2</td>\n",
       "      <td>59.0</td>\n",
       "      <td>11</td>\n",
       "      <td>300</td>\n",
       "      <td>30.19</td>\n",
       "      <td>NaN</td>\n",
       "      <td>NaN</td>\n",
       "      <td>0.00</td>\n",
       "    </tr>\n",
       "    <tr>\n",
       "      <th>3</th>\n",
       "      <td>2018-01-01 02:54</td>\n",
       "      <td>CLR:00</td>\n",
       "      <td>10.00</td>\n",
       "      <td>NaN</td>\n",
       "      <td>1</td>\n",
       "      <td>-17.2</td>\n",
       "      <td>54.0</td>\n",
       "      <td>21</td>\n",
       "      <td>290</td>\n",
       "      <td>30.19</td>\n",
       "      <td>NaN</td>\n",
       "      <td>NaN</td>\n",
       "      <td>0.00</td>\n",
       "    </tr>\n",
       "    <tr>\n",
       "      <th>4</th>\n",
       "      <td>2018-01-01 03:54</td>\n",
       "      <td>CLR:00</td>\n",
       "      <td>10.00</td>\n",
       "      <td>NaN</td>\n",
       "      <td>1</td>\n",
       "      <td>-17.2</td>\n",
       "      <td>54.0</td>\n",
       "      <td>18</td>\n",
       "      <td>290</td>\n",
       "      <td>30.18</td>\n",
       "      <td>0.0</td>\n",
       "      <td>NaN</td>\n",
       "      <td>0.00</td>\n",
       "    </tr>\n",
       "  </tbody>\n",
       "</table>\n",
       "</div>"
      ],
      "text/plain": [
       "    MeasurementTime SkyConditions Visibility WeatherType TempC  TempF  \\\n",
       "0  2018-01-01 00:54        CLR:00      10.00         NaN     2  -16.7   \n",
       "1  2018-01-01 01:00           NaN        NaN         NaN     2  -16.7   \n",
       "2  2018-01-01 01:54        CLR:00      10.00         NaN     1  -17.2   \n",
       "3  2018-01-01 02:54        CLR:00      10.00         NaN     1  -17.2   \n",
       "4  2018-01-01 03:54        CLR:00      10.00         NaN     1  -17.2   \n",
       "\n",
       "   Humidity WindSpeed WindDirection Pressure  PressureTendency PressureChange  \\\n",
       "0      59.0        16           320    30.17               1.0            NaN   \n",
       "1      59.0        16           320    30.18               1.0          -0.01   \n",
       "2      59.0        11           300    30.19               NaN            NaN   \n",
       "3      54.0        21           290    30.19               NaN            NaN   \n",
       "4      54.0        18           290    30.18               0.0            NaN   \n",
       "\n",
       "  Precip  \n",
       "0   0.00  \n",
       "1    NaN  \n",
       "2   0.00  \n",
       "3   0.00  \n",
       "4   0.00  "
      ]
     },
     "execution_count": 13,
     "metadata": {},
     "output_type": "execute_result"
    }
   ],
   "source": [
    "weather_df = select_and_rename_cols(weather_df)\n",
    "weather_df.head()"
   ]
  },
  {
   "cell_type": "code",
   "execution_count": null,
   "metadata": {
    "collapsed": true
   },
   "outputs": [],
   "source": []
  },
  {
   "cell_type": "code",
   "execution_count": 4,
   "metadata": {},
   "outputs": [
    {
     "data": {
      "text/html": [
       "<div>\n",
       "<style scoped>\n",
       "    .dataframe tbody tr th:only-of-type {\n",
       "        vertical-align: middle;\n",
       "    }\n",
       "\n",
       "    .dataframe tbody tr th {\n",
       "        vertical-align: top;\n",
       "    }\n",
       "\n",
       "    .dataframe thead th {\n",
       "        text-align: right;\n",
       "    }\n",
       "</style>\n",
       "<table border=\"1\" class=\"dataframe\">\n",
       "  <thead>\n",
       "    <tr style=\"text-align: right;\">\n",
       "      <th></th>\n",
       "      <th>date</th>\n",
       "      <th>skyconditions</th>\n",
       "      <th>visibility</th>\n",
       "      <th>prsentweathertype</th>\n",
       "      <th>drybulbtempf</th>\n",
       "      <th>drybulbtempc</th>\n",
       "      <th>wetbulbtempf</th>\n",
       "      <th>wetbulbtempc</th>\n",
       "      <th>dewpointtempf</th>\n",
       "      <th>dewpointtempc</th>\n",
       "      <th>relativehumidity</th>\n",
       "      <th>windspeed</th>\n",
       "      <th>winddirection</th>\n",
       "      <th>windgustspeed</th>\n",
       "      <th>stationpressure</th>\n",
       "      <th>pressuretendency</th>\n",
       "      <th>pressurechange</th>\n",
       "      <th>sealevelpressure</th>\n",
       "      <th>precip</th>\n",
       "      <th>altimetersetting</th>\n",
       "    </tr>\n",
       "  </thead>\n",
       "  <tbody>\n",
       "    <tr>\n",
       "      <th>0</th>\n",
       "      <td>2018-01-01 00:54</td>\n",
       "      <td>CLR:00</td>\n",
       "      <td>10.00</td>\n",
       "      <td>NaN</td>\n",
       "      <td>2</td>\n",
       "      <td>-16.7</td>\n",
       "      <td>0.0</td>\n",
       "      <td>-17.5</td>\n",
       "      <td>-9</td>\n",
       "      <td>-22.8</td>\n",
       "      <td>59.0</td>\n",
       "      <td>16</td>\n",
       "      <td>320</td>\n",
       "      <td>24.0</td>\n",
       "      <td>30.17</td>\n",
       "      <td>1.0</td>\n",
       "      <td>NaN</td>\n",
       "      <td>30.20</td>\n",
       "      <td>0.00</td>\n",
       "      <td>30.20</td>\n",
       "    </tr>\n",
       "    <tr>\n",
       "      <th>1</th>\n",
       "      <td>2018-01-01 01:00</td>\n",
       "      <td>NaN</td>\n",
       "      <td>NaN</td>\n",
       "      <td>NaN</td>\n",
       "      <td>2</td>\n",
       "      <td>-16.7</td>\n",
       "      <td>0.0</td>\n",
       "      <td>-17.5</td>\n",
       "      <td>-9</td>\n",
       "      <td>-22.8</td>\n",
       "      <td>59.0</td>\n",
       "      <td>16</td>\n",
       "      <td>320</td>\n",
       "      <td>NaN</td>\n",
       "      <td>30.18</td>\n",
       "      <td>1.0</td>\n",
       "      <td>-0.01</td>\n",
       "      <td>30.20</td>\n",
       "      <td>NaN</td>\n",
       "      <td>NaN</td>\n",
       "    </tr>\n",
       "    <tr>\n",
       "      <th>2</th>\n",
       "      <td>2018-01-01 01:54</td>\n",
       "      <td>CLR:00</td>\n",
       "      <td>10.00</td>\n",
       "      <td>NaN</td>\n",
       "      <td>1</td>\n",
       "      <td>-17.2</td>\n",
       "      <td>0.0</td>\n",
       "      <td>-18.0</td>\n",
       "      <td>-10</td>\n",
       "      <td>-23.3</td>\n",
       "      <td>59.0</td>\n",
       "      <td>11</td>\n",
       "      <td>300</td>\n",
       "      <td>21.0</td>\n",
       "      <td>30.19</td>\n",
       "      <td>NaN</td>\n",
       "      <td>NaN</td>\n",
       "      <td>30.22</td>\n",
       "      <td>0.00</td>\n",
       "      <td>30.22</td>\n",
       "    </tr>\n",
       "    <tr>\n",
       "      <th>3</th>\n",
       "      <td>2018-01-01 02:54</td>\n",
       "      <td>CLR:00</td>\n",
       "      <td>10.00</td>\n",
       "      <td>NaN</td>\n",
       "      <td>1</td>\n",
       "      <td>-17.2</td>\n",
       "      <td>-1.0</td>\n",
       "      <td>-18.1</td>\n",
       "      <td>-12</td>\n",
       "      <td>-24.4</td>\n",
       "      <td>54.0</td>\n",
       "      <td>21</td>\n",
       "      <td>290</td>\n",
       "      <td>28.0</td>\n",
       "      <td>30.19</td>\n",
       "      <td>NaN</td>\n",
       "      <td>NaN</td>\n",
       "      <td>30.22</td>\n",
       "      <td>0.00</td>\n",
       "      <td>30.22</td>\n",
       "    </tr>\n",
       "    <tr>\n",
       "      <th>4</th>\n",
       "      <td>2018-01-01 03:54</td>\n",
       "      <td>CLR:00</td>\n",
       "      <td>10.00</td>\n",
       "      <td>NaN</td>\n",
       "      <td>1</td>\n",
       "      <td>-17.2</td>\n",
       "      <td>-1.0</td>\n",
       "      <td>-18.1</td>\n",
       "      <td>-12</td>\n",
       "      <td>-24.4</td>\n",
       "      <td>54.0</td>\n",
       "      <td>18</td>\n",
       "      <td>290</td>\n",
       "      <td>24.0</td>\n",
       "      <td>30.18</td>\n",
       "      <td>0.0</td>\n",
       "      <td>NaN</td>\n",
       "      <td>30.20</td>\n",
       "      <td>0.00</td>\n",
       "      <td>30.21</td>\n",
       "    </tr>\n",
       "  </tbody>\n",
       "</table>\n",
       "</div>"
      ],
      "text/plain": [
       "               date skyconditions visibility prsentweathertype drybulbtempf  \\\n",
       "0  2018-01-01 00:54        CLR:00      10.00               NaN            2   \n",
       "1  2018-01-01 01:00           NaN        NaN               NaN            2   \n",
       "2  2018-01-01 01:54        CLR:00      10.00               NaN            1   \n",
       "3  2018-01-01 02:54        CLR:00      10.00               NaN            1   \n",
       "4  2018-01-01 03:54        CLR:00      10.00               NaN            1   \n",
       "\n",
       "  drybulbtempc  wetbulbtempf  wetbulbtempc dewpointtempf dewpointtempc  \\\n",
       "0        -16.7           0.0         -17.5            -9         -22.8   \n",
       "1        -16.7           0.0         -17.5            -9         -22.8   \n",
       "2        -17.2           0.0         -18.0           -10         -23.3   \n",
       "3        -17.2          -1.0         -18.1           -12         -24.4   \n",
       "4        -17.2          -1.0         -18.1           -12         -24.4   \n",
       "\n",
       "   relativehumidity windspeed winddirection  windgustspeed stationpressure  \\\n",
       "0              59.0        16           320           24.0           30.17   \n",
       "1              59.0        16           320            NaN           30.18   \n",
       "2              59.0        11           300           21.0           30.19   \n",
       "3              54.0        21           290           28.0           30.19   \n",
       "4              54.0        18           290           24.0           30.18   \n",
       "\n",
       "   pressuretendency pressurechange sealevelpressure precip altimetersetting  \n",
       "0               1.0            NaN            30.20   0.00            30.20  \n",
       "1               1.0          -0.01            30.20    NaN              NaN  \n",
       "2               NaN            NaN            30.22   0.00            30.22  \n",
       "3               NaN            NaN            30.22   0.00            30.22  \n",
       "4               0.0            NaN            30.20   0.00            30.21  "
      ]
     },
     "execution_count": 4,
     "metadata": {},
     "output_type": "execute_result"
    }
   ],
   "source": [
    "# Select hourly columns only\n",
    "cols = ['DATE']\n",
    "for c in weather_df.columns[7:]:\n",
    "    if c[:6].lower() == 'hourly':\n",
    "        cols.append(c)\n",
    "weather_df = weather_df[cols]\n",
    "\n",
    "# Remove hourly from column names\n",
    "cols = []\n",
    "for c in weather_df.columns:\n",
    "    cols.append(re.sub('hourly', '', c.lower()))\n",
    "weather_df.columns = cols  \n",
    "weather_df.head()"
   ]
  },
  {
   "cell_type": "code",
   "execution_count": null,
   "metadata": {},
   "outputs": [],
   "source": [
    "# Select columns\n",
    "weather_df = weather_df[['date', 'skyconditions', 'visibility', 'prsentweathertype', \n",
    "                         'drybulbtempf', 'drybulbtempc', 'relativehumidity', \n",
    "                         'windspeed', 'winddirection', 'stationpressure', \n",
    "                         'pressuretendency', 'pressurechange', 'precip']]\n",
    "# Rename columns\n",
    "weather_df.columns = ['MeasurementTime', 'SkyConditions', 'Visibility', 'WeatherType', \n",
    "                      'TempC', 'TempF', 'Humidity', 'WindSpeed', 'WindDirectin',\n",
    "                      'Pressure', 'PressureTendency', 'PressureChange', 'Precip']\n",
    "weather_df.head()"
   ]
  },
  {
   "cell_type": "code",
   "execution_count": null,
   "metadata": {
    "collapsed": true
   },
   "outputs": [],
   "source": [
    "# Save weather df\n",
    "with open('weather.pkl', 'wb') as f:\n",
    "    pickle.dump(weather_df, f)"
   ]
  },
  {
   "cell_type": "markdown",
   "metadata": {},
   "source": [
    "### Map Sky Codes"
   ]
  },
  {
   "cell_type": "code",
   "execution_count": null,
   "metadata": {
    "code_folding": [
     0
    ],
    "collapsed": true
   },
   "outputs": [],
   "source": [
    "# NOAA AU weather code mapping\n",
    "sky_map = {'': '', \n",
    "           'CLR': 'Clear',\n",
    "           'FEW': 'Few',\n",
    "           'SCT': 'Scattered',\n",
    "           'BKN': 'Broken',\n",
    "           'OVC': 'Overcast',\n",
    "           'VV': 'Obscured'}\n",
    "\n",
    "def map_sky_codes(code):\n",
    "\n",
    "    # Check for nans (which are type float)\n",
    "    if isinstance(code, float):\n",
    "        return ''\n",
    "    \n",
    "    # Map obscured levels to VV for consitency\n",
    "    sky = re.sub('(09|10)(?=:)', 'VV', code)\n",
    "    # Remove all digits \n",
    "    sky = re.sub('\\d+', ' ', sky)\n",
    "    # Replace all colons\n",
    "    sky = re.sub(':', '', sky)\n",
    "    # Strip leading/trailing whitespace and split into list\n",
    "    sky = sky.strip().split()\n",
    "    \n",
    "    # Extract description from sky map\n",
    "    if 'OVC' in sky:\n",
    "        return sky_map['OVC']\n",
    "    elif 'BKN' in sky:\n",
    "        return sky_map['BKN']\n",
    "    elif 'SCT' in sky:\n",
    "        return sky_map['SCT']\n",
    "    elif 'FEW' in sky:\n",
    "        return sky_map['FEW']\n",
    "    elif 'CLR' in sky:\n",
    "        return sky_map['CLR']\n",
    "    elif 'VV' in sky:\n",
    "        return sky_map['VV']\n",
    "    else:\n",
    "        return ''"
   ]
  },
  {
   "cell_type": "code",
   "execution_count": null,
   "metadata": {
    "collapsed": true
   },
   "outputs": [],
   "source": [
    "weather_df['SkyText'] = weather_df.SkyConditions.apply(map_sky_codes)"
   ]
  },
  {
   "cell_type": "markdown",
   "metadata": {},
   "source": [
    "### Map Weather Codes"
   ]
  },
  {
   "cell_type": "code",
   "execution_count": null,
   "metadata": {
    "code_folding": [],
    "collapsed": true
   },
   "outputs": [],
   "source": [
    "# NOAA AU weather code mapping\n",
    "au_map = {'': '', \n",
    "          'DZ:01': 'Drizzle',\n",
    "          'RA:02': 'Rain',\n",
    "          'SN:03': 'Snow',\n",
    "          'SG:04': 'Snow Grains',\n",
    "          'IC:05': 'Ice Crystals',\n",
    "          'PL:06': 'Ice Pellets',\n",
    "          'GR:07': 'Hail',\n",
    "          'GS:08': 'Small Hail an/or Snow Pellets',\n",
    "          'UP:09': 'Unknown Precipitation',\n",
    "          'BR:1': 'Mist',\n",
    "          'FG:2': 'Fog',\n",
    "          'FU:3': 'Smoke',\n",
    "          'VA:4': 'Volcanic Ash',\n",
    "          'DU:5': 'Widespread Dust',\n",
    "          'SA:6': 'Sand',\n",
    "          'HZ:7': 'Haze',\n",
    "          'PY:8': 'Spray',\n",
    "          'PO:1': 'Well developed dust/sand whirls',\n",
    "          'SQ:2': 'Squalls',\n",
    "          'FC:3': 'Funnel CLoud, Waterspout or Tornado',\n",
    "          'SS:4': 'Sandstorm',\n",
    "          'DS:5': 'Duststorm'}"
   ]
  },
  {
   "cell_type": "code",
   "execution_count": null,
   "metadata": {
    "code_folding": [],
    "collapsed": true
   },
   "outputs": [],
   "source": [
    "# NOAA AU weather code prefix mapping\n",
    "au_pre = {'': '',\n",
    "          '-': 'Light',\n",
    "          '+': 'Heavy',\n",
    "          'VC': 'vicinity (apparent but not at point of observation)',\n",
    "          'MI': 'shallow',\n",
    "          'PR': 'partial',\n",
    "          'BC': 'patches',\n",
    "          'DR': 'low drifting',\n",
    "          'BL': 'blowing',\n",
    "          'SH': 'showers',\n",
    "          'TS': 'thunderstorm',\n",
    "          'FZ': 'freezing'}"
   ]
  },
  {
   "cell_type": "code",
   "execution_count": null,
   "metadata": {
    "code_folding": [],
    "collapsed": true
   },
   "outputs": [],
   "source": [
    "# NOAA AW weather code mapping\n",
    "aw_map = {'': '',\n",
    "          'HZ:04': 'Haze, smoke, or dust in suspension in the air, visibility equal to or greater than 1km',\n",
    "          'FU:05': 'Smoke',\n",
    "          'DU:07': 'Dust or sand raised by wind at or near the station at the time of observation, ' +\n",
    "                   'but no well‐developed dust whirl(s) or sand, whirl(s), and no duststorm or sandstorm seen or, ' + \n",
    "                   'in the case of ships, blowing spray at the station',\n",
    "          'BR:10': 'Mist',\n",
    "          '11': 'Diamond dust',\n",
    "          '12': 'Distant lightning',\n",
    "          'SQ:18': 'Squalls',\n",
    "          '20': 'Fog (during preceding hour but not at time of observation)',\n",
    "          '21': 'Precipitation (during preceding hour but not at time of observation)',\n",
    "          '22': 'Drizzle (not freezing) or snow grains (during preceding hour but not at time of observation)',\n",
    "          '23': 'Rain (not freezing) (during preceding hour but not at time of observation)',\n",
    "          '24': 'Snow (during preceding hour but not at time of observation)',\n",
    "          '25': 'Freezing drizzle or freezing rain (during preceding hour but not at time of observation)',\n",
    "          '26': 'Thunderstorm (with or without precipitation) (during preceding hour but not at time of observation) ' +\n",
    "                '(during preceding hour but not at time of observation)',\n",
    "          '27': 'Blowing or drifting snow or sand (during preceding hour but not at time of observation)',\n",
    "          '28': 'Blowing or drifting snow or sand, visibility equal to or greater than 1 km ' + \n",
    "                '(during preceding hour but not at time of observation)',\n",
    "          '29': 'Blowing or drifting snow or sand, visibility less than 1 km ' + \n",
    "                '(during preceding hour but not at time of observation)',\n",
    "          'FG:30': 'Fog',\n",
    "          'FG:31': 'Fog or ice fog in patches',\n",
    "          'FG:32': 'Fog or ice fog, has become thinner during the past hour',\n",
    "          'FG:33': 'Fog or ice fog, no appreciable change during the past hour',\n",
    "          'FG:34': 'Fog or ice fog, has begun or become thicker during the past hour',\n",
    "          'FG:35': 'Fog, depositing rime',\n",
    "          '40': 'Precipitation',\n",
    "          '41': 'Precipitation, slight or moderate',\n",
    "          '42': 'Precipitation, heavy',\n",
    "          '43': 'Liquid precipitation, slight or moderate',\n",
    "          '44': 'Liquid precipitation, heavy',\n",
    "          '45': 'Solid precipitation, slight or moderate',\n",
    "          '46': 'Solid precipitation, heavy',\n",
    "          '47': 'Freezing precipitation, slight or moderate',\n",
    "          '48': 'Freezing precipitation, heavy',\n",
    "          'DZ:50': 'Drizzle',\n",
    "          'DZ:51': 'Drizzle, not freezing, slight',\n",
    "          'DZ:52': 'Drizzle, not freezing, moderate',\n",
    "          'DZ:53': 'Drizzle, not freezing, heavy',\n",
    "          'FZDZ:54': 'Drizzle, freezing, slight','FZDZ:55': 'Drizzle, freezing, moderate',\n",
    "          'FZDZ:56': 'Drizzle, freezing, heavy',\n",
    "          'DZ:57': 'Drizzle and rain, slight',\n",
    "          'DZ:58': 'Drizzle and rain, moderate or heavy',\n",
    "          'RA:60': 'Rain',\n",
    "          'RA:61': 'Rain, not freezing, slight',\n",
    "          'RA:62': 'Rain, not freezing, moderate',\n",
    "          'RA:63': 'Rain, not freezing, heavy',\n",
    "          'FZRA:64': 'Rain, freezing, slight',\n",
    "          'FZRA:65': 'Rain, freezing, moderate',\n",
    "          'FZRA:66': 'Rain, freezing, heavy',\n",
    "          'RA:67': 'Rain or drizzle and snow, slight',\n",
    "          'RA:68': 'Rain or drizzle and snow, moderate or heavy',\n",
    "          'SN:70': 'Snow',\n",
    "          'SN:71': 'Snow, slight',\n",
    "          'SN:72': 'Snow, moderate',\n",
    "          'SN:73': 'Snow, heavy',\n",
    "          'PL:74': 'Ice pellets, slight',\n",
    "          'PL:75': 'Ice pellets, moderate',\n",
    "          'PL:76': 'Ice pellets, heavy',\n",
    "          'SG:77': 'Snow grains',\n",
    "          'IC:78': 'Ice crystals',\n",
    "          '80': 'Showers or intermittent precipitation',\n",
    "          'SHRA:81': 'Rain showers or intermittent rain, slight',\n",
    "          'SHRA:82': 'Rain showers or intermittent rain, moderate',\n",
    "          'SHRA:83': 'Rain showers or intermittent rain, heavy',\n",
    "          'SHRA:84': 'Rain showers or intermittent rain, violent',\n",
    "          'SHSN:85': 'Snow showers or intermittent snow, slight',\n",
    "          'SHSN:86': 'Snow showers or intermittent snow, moderate',\n",
    "          'SHSN:87': 'Snow showers or intermittent snow, heavy',\n",
    "          'HAIL:89': 'Hail',\n",
    "          'TS:90': 'Thunderstorm',\n",
    "          'TS:91': 'Thunderstorm, slight or moderate, with no precipitation',\n",
    "          'TS:92': 'Thunderstorm, slight or moderate, with rain showers and/or snow showers',\n",
    "          'TS:93': 'Thunderstorm, slight or moderate, with hail',\n",
    "          'HAIL:93': 'Thunderstorm, slight or moderate, with hail',\n",
    "          'TS:94': 'Thunderstorm, heavy, with no precipitation',\n",
    "          'TS:95': 'Thunderstorm, heavy, with rain showers and/or snow',\n",
    "          'TS+HAIL:96': 'Thunderstorm, heavy, with hail',\n",
    "          '+FC:99': 'Tornado'}"
   ]
  },
  {
   "cell_type": "code",
   "execution_count": null,
   "metadata": {
    "code_folding": [],
    "collapsed": true,
    "scrolled": true
   },
   "outputs": [],
   "source": [
    "#\n",
    "def replace_nans(x):\n",
    "    if isinstance(x, float):\n",
    "        if np.isnan(x):\n",
    "            return ''\n",
    "        else:\n",
    "            return str(x)        \n",
    "    return re.sub('s', '', x)"
   ]
  },
  {
   "cell_type": "code",
   "execution_count": null,
   "metadata": {
    "code_folding": [
     0
    ],
    "collapsed": true
   },
   "outputs": [],
   "source": [
    "#\n",
    "def map_weather_codes(code):\n",
    "\n",
    "    if code == '':\n",
    "        return([''])\n",
    "            \n",
    "    split1 = code.split('|')\n",
    "    weather = []\n",
    "    weather_grps = []\n",
    "    for idx in range(len(wsplit)):\n",
    "        split2 = split1[idx].split()\n",
    "        for jdx in range(len(split2)):\n",
    "            weather_str = ''                        \n",
    "            if idx == 0:\n",
    "                pattern = '(VC|MI|PR|BC|DR|BL|SH|TS|FZ)*(\\+|-)*(\\w+:\\d+)*'\n",
    "                search = re.compile(pattern)\n",
    "                grps = search.findall(split2[jdx])[0]\n",
    "                \n",
    "                if (len(au_pre[grps[1]]) > 0) & (len(au_map[grps[2]]) > 0):\n",
    "                    join_str = ' '\n",
    "                else:\n",
    "                    join_str = ''\n",
    "                    \n",
    "                weather_str = au_pre[grps[1]] + join_str + au_map[grps[2]]\n",
    "            elif idx == 1:\n",
    "                pattern = '(\\w+:\\d+)*'\n",
    "                search = re.compile(pattern)\n",
    "                grps = search.findall(split2[jdx])\n",
    "                weather_str = aw_map[grps[0]]\n",
    "            elif idx == 2:\n",
    "                pass\n",
    "            weather_grps.append(weather_str)\n",
    "        weather.append(weather_grps)\n",
    "        \n",
    "#     print(weather)\n",
    "    return weather"
   ]
  },
  {
   "cell_type": "code",
   "execution_count": null,
   "metadata": {},
   "outputs": [],
   "source": [
    "weather_df.WeatherType = weather_df.WeatherType.apply(replace_nans)"
   ]
  },
  {
   "cell_type": "code",
   "execution_count": null,
   "metadata": {},
   "outputs": [],
   "source": [
    "weather_df['WeatherText'] = weather_df.WeatherType.apply(map_weather_codes)"
   ]
  },
  {
   "cell_type": "code",
   "execution_count": null,
   "metadata": {},
   "outputs": [],
   "source": [
    "weather_df.head()"
   ]
  },
  {
   "cell_type": "code",
   "execution_count": null,
   "metadata": {
    "collapsed": true
   },
   "outputs": [],
   "source": [
    "[x[0] for x in weather_df.WeatherText if len(x[0]) > 0]"
   ]
  },
  {
   "cell_type": "markdown",
   "metadata": {},
   "source": [
    "#### Testing Logic"
   ]
  },
  {
   "cell_type": "code",
   "execution_count": null,
   "metadata": {},
   "outputs": [],
   "source": [
    "weather_description = []\n",
    "for idx in range(weather_df.WeatherType.shape[0]):\n",
    "    weather_description.append(weather_df.WeatherType.iloc[idx])"
   ]
  },
  {
   "cell_type": "code",
   "execution_count": null,
   "metadata": {
    "code_folding": [
     0
    ],
    "collapsed": true,
    "scrolled": true
   },
   "outputs": [],
   "source": [
    "# Map weather codes to descriptions\n",
    "weather = []\n",
    "for w in test: \n",
    "    if w == '':\n",
    "        weather.append('')\n",
    "        continue\n",
    "    split1 = w.split('|')\n",
    "    weather_grps = []\n",
    "    for idx in range(len(wsplit)):\n",
    "        split2 = split1[idx].split()\n",
    "        for jdx in range(len(split2)):\n",
    "            weather_str = ''                        \n",
    "            if idx == 0:\n",
    "                pattern = '(VC|MI|PR|BC|DR|BL|SH|TS|FZ)*(\\+|-)*(\\w+:\\d+)*'\n",
    "                search = re.compile(pattern)\n",
    "                grps = search.findall(split2[jdx])[0]\n",
    "                \n",
    "                if (len(au_pre[grps[1]]) > 0) & (len(au_map[grps[2]]) > 0):\n",
    "                    join_str = ' '\n",
    "                else:\n",
    "                    join_str = ''\n",
    "                    \n",
    "                weather_str = au_pre[grps[1]] + join_str + au_map[grps[2]]\n",
    "            elif idx == 1:\n",
    "                pattern = '(\\w+:\\d+)*'\n",
    "                search = re.compile(pattern)\n",
    "                grps = search.findall(split2[jdx])\n",
    "                weather_str = aw_map[grps[0]]\n",
    "            elif idx == 2:\n",
    "                pass\n",
    "            weather_grps.append(weather_str)\n",
    "        weather.append(weather_grps)"
   ]
  },
  {
   "cell_type": "code",
   "execution_count": null,
   "metadata": {
    "scrolled": true
   },
   "outputs": [],
   "source": [
    "weather_df.head(50)"
   ]
  },
  {
   "cell_type": "code",
   "execution_count": null,
   "metadata": {},
   "outputs": [],
   "source": [
    "weather_df.info()"
   ]
  },
  {
   "cell_type": "code",
   "execution_count": null,
   "metadata": {
    "scrolled": true
   },
   "outputs": [],
   "source": [
    "weather_df.MeasurementTime.iloc[0]"
   ]
  },
  {
   "cell_type": "code",
   "execution_count": null,
   "metadata": {},
   "outputs": [],
   "source": [
    "test = []\n",
    "for row in x:\n",
    "#     sky = re.sub(':', '', re.sub('\\d+', ' ', re.sub('(09|10)(?=:)', 'VV', row))).strip().split()\n",
    "\n",
    "    # Map obscured levels to VV for consitency\n",
    "    sky = re.sub('(09|10)(?=:)', 'VV', row)\n",
    "    # Remove all digits \n",
    "    sky = re.sub('\\d+', ' ', sky)\n",
    "    # Replace all colons\n",
    "    sky = re.sub(':', '', sky)\n",
    "    # Strip leading/trailing whitespace and split into list\n",
    "    sky = sky.strip().split()\n",
    "    \n",
    "    # Extract description from sky map\n",
    "    if 'OVC' in sky:\n",
    "        test.append(sky_map['OVC'])\n",
    "    elif 'BKN' in sky:\n",
    "        test.append(sky_map['BKN'])\n",
    "    elif 'SCT' in sky:\n",
    "        test.append(sky_map['SCT'])\n",
    "    elif 'FEW' in sky:\n",
    "        test.append(sky_map['FEW'])\n",
    "    elif 'CLR' in sky:\n",
    "        test.append(sky_map['CLR'])\n",
    "    elif 'VV' in sky:\n",
    "        test.append(sky_map['VV'])\n",
    "    else:\n",
    "        test.append('Unknown')"
   ]
  },
  {
   "cell_type": "code",
   "execution_count": null,
   "metadata": {},
   "outputs": [],
   "source": [
    "set(test)"
   ]
  },
  {
   "cell_type": "code",
   "execution_count": null,
   "metadata": {},
   "outputs": [],
   "source": [
    "(sum([testi == 'Unknown' for testi in test]) + sum([testi == 'Obscured' for testi in test])) / len(test)"
   ]
  },
  {
   "cell_type": "code",
   "execution_count": null,
   "metadata": {
    "collapsed": true
   },
   "outputs": [],
   "source": [
    "x = list(set(weather_df.SkyConditions))[1:]"
   ]
  },
  {
   "cell_type": "code",
   "execution_count": null,
   "metadata": {
    "scrolled": true
   },
   "outputs": [],
   "source": [
    "x[1570]"
   ]
  },
  {
   "cell_type": "code",
   "execution_count": null,
   "metadata": {},
   "outputs": [],
   "source": [
    "idx_list = [ii for ii, y in enumerate(test) if len(y) == 0]"
   ]
  },
  {
   "cell_type": "code",
   "execution_count": null,
   "metadata": {},
   "outputs": [],
   "source": [
    "[x[idx] for idx in idx_list]"
   ]
  },
  {
   "cell_type": "code",
   "execution_count": null,
   "metadata": {},
   "outputs": [],
   "source": [
    "test[1569:1572]"
   ]
  },
  {
   "cell_type": "code",
   "execution_count": null,
   "metadata": {
    "collapsed": true
   },
   "outputs": [],
   "source": [
    "#'(\\w{3}):\\d+\\s*\\d+\\s*(\\w{3}):\\d+\\s*\\d+\\s*(\\w{3}):\\d+\\s*\\d+\\s*'"
   ]
  },
  {
   "cell_type": "code",
   "execution_count": null,
   "metadata": {},
   "outputs": [],
   "source": [
    "[idx for idx, x in enumerate(test) if x == 'x']"
   ]
  },
  {
   "cell_type": "code",
   "execution_count": null,
   "metadata": {
    "collapsed": true
   },
   "outputs": [],
   "source": [
    "test = []\n",
    "for row in x:\n",
    "    test.append(re.sub(':', '', re.sub('\\d+', ' ', row)).strip().split())"
   ]
  },
  {
   "cell_type": "code",
   "execution_count": null,
   "metadata": {},
   "outputs": [],
   "source": [
    "test"
   ]
  },
  {
   "cell_type": "code",
   "execution_count": null,
   "metadata": {
    "collapsed": true
   },
   "outputs": [],
   "source": [
    "t = '10:04 8 BKN:07 220'"
   ]
  },
  {
   "cell_type": "code",
   "execution_count": null,
   "metadata": {},
   "outputs": [],
   "source": []
  },
  {
   "cell_type": "code",
   "execution_count": null,
   "metadata": {},
   "outputs": [],
   "source": [
    "re.sub(':', '', re.sub('\\d+', ' ', re.sub('(09|10)(?=:)', 'XX', t))).strip().split()"
   ]
  },
  {
   "cell_type": "code",
   "execution_count": null,
   "metadata": {},
   "outputs": [],
   "source": [
    "import itertools\n",
    "print(list(set(itertools.chain.from_iterable(test))))"
   ]
  },
  {
   "cell_type": "code",
   "execution_count": null,
   "metadata": {
    "collapsed": true
   },
   "outputs": [],
   "source": []
  }
 ],
 "metadata": {
  "kernelspec": {
   "display_name": "Python 3",
   "language": "python",
   "name": "python3"
  },
  "language_info": {
   "codemirror_mode": {
    "name": "ipython",
    "version": 3
   },
   "file_extension": ".py",
   "mimetype": "text/x-python",
   "name": "python",
   "nbconvert_exporter": "python",
   "pygments_lexer": "ipython3",
   "version": "3.6.4"
  },
  "varInspector": {
   "cols": {
    "lenName": 16,
    "lenType": 16,
    "lenVar": 40
   },
   "kernels_config": {
    "python": {
     "delete_cmd_postfix": "",
     "delete_cmd_prefix": "del ",
     "library": "var_list.py",
     "varRefreshCmd": "print(var_dic_list())"
    },
    "r": {
     "delete_cmd_postfix": ") ",
     "delete_cmd_prefix": "rm(",
     "library": "var_list.r",
     "varRefreshCmd": "cat(var_dic_list()) "
    }
   },
   "types_to_exclude": [
    "module",
    "function",
    "builtin_function_or_method",
    "instance",
    "_Feature"
   ],
   "window_display": false
  }
 },
 "nbformat": 4,
 "nbformat_minor": 2
}
