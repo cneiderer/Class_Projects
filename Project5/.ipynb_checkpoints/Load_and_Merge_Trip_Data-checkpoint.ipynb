{
 "cells": [
  {
   "cell_type": "code",
   "execution_count": 1,
   "metadata": {
    "collapsed": true
   },
   "outputs": [],
   "source": [
    "import numpy as np\n",
    "import pandas as pd\n",
    "import matplotlib.pyplot as plt\n",
    "%matplotlib inline\n",
    "import os\n",
    "import pickle"
   ]
  },
  {
   "cell_type": "markdown",
   "metadata": {},
   "source": [
    "### Load Data"
   ]
  },
  {
   "cell_type": "code",
   "execution_count": null,
   "metadata": {
    "collapsed": true
   },
   "outputs": [],
   "source": [
    "# Define trip data path\n",
    "trip_data_path = '/home/cneiderer/Metis/boston_bike_data/trip_data'"
   ]
  },
  {
   "cell_type": "code",
   "execution_count": null,
   "metadata": {},
   "outputs": [],
   "source": [
    "# Build dataframes from old data (pre General Bikeshare Feed Specification (GBFS))\n",
    "# and new data (postGeneral Bikeshare Feed Specification (GBFS))\n",
    "old_df = pd.DataFrame()\n",
    "new_df = pd.DataFrame()\n",
    "for f in os.listdir(trip_data_path):\n",
    "    tmp_df = pd.read_csv(os.path.join(trip_data_path, f))\n",
    "    if f[:6] == 'hubway':\n",
    "        old_df = pd.concat([old_df, tmp_df], axis=0, ignore_index=True)\n",
    "    else:\n",
    "        new_df = pd.concat([new_df, tmp_df], axis=0, ignore_index=True)"
   ]
  },
  {
   "cell_type": "code",
   "execution_count": null,
   "metadata": {},
   "outputs": [],
   "source": [
    "# Save old df\n",
    "with open('old_raw.pkl', 'wb') as f:\n",
    "    pickle.dump(old_df, f)"
   ]
  },
  {
   "cell_type": "code",
   "execution_count": null,
   "metadata": {},
   "outputs": [],
   "source": [
    "# Save new df    \n",
    "with open('new_raw.pkl', 'wb') as f:\n",
    "    pickle.dump(new_df, f)"
   ]
  },
  {
   "cell_type": "markdown",
   "metadata": {},
   "source": [
    "### Clean-Up Old Data"
   ]
  },
  {
   "cell_type": "code",
   "execution_count": 50,
   "metadata": {
    "collapsed": true
   },
   "outputs": [],
   "source": [
    "# Load old df\n",
    "with open('old_raw.pkl', 'rb') as f:\n",
    "    old_df = pickle.load(f)"
   ]
  },
  {
   "cell_type": "code",
   "execution_count": 51,
   "metadata": {
    "scrolled": true
   },
   "outputs": [
    {
     "name": "stdout",
     "output_type": "stream",
     "text": [
      "<class 'pandas.core.frame.DataFrame'>\n",
      "RangeIndex: 2762938 entries, 0 to 2762937\n",
      "Data columns (total 11 columns):\n",
      "Duration                int64\n",
      "Start date              object\n",
      "End date                object\n",
      "Start station number    object\n",
      "Start station name      object\n",
      "End station number      object\n",
      "End station name        object\n",
      "Bike number             object\n",
      "Member type             object\n",
      "Zip code                object\n",
      "Gender                  object\n",
      "dtypes: int64(1), object(10)\n",
      "memory usage: 231.9+ MB\n"
     ]
    }
   ],
   "source": [
    "old_df.info()"
   ]
  },
  {
   "cell_type": "code",
   "execution_count": 52,
   "metadata": {
    "scrolled": true
   },
   "outputs": [
    {
     "data": {
      "text/html": [
       "<div>\n",
       "<style scoped>\n",
       "    .dataframe tbody tr th:only-of-type {\n",
       "        vertical-align: middle;\n",
       "    }\n",
       "\n",
       "    .dataframe tbody tr th {\n",
       "        vertical-align: top;\n",
       "    }\n",
       "\n",
       "    .dataframe thead th {\n",
       "        text-align: right;\n",
       "    }\n",
       "</style>\n",
       "<table border=\"1\" class=\"dataframe\">\n",
       "  <thead>\n",
       "    <tr style=\"text-align: right;\">\n",
       "      <th></th>\n",
       "      <th>Duration</th>\n",
       "      <th>Start date</th>\n",
       "      <th>End date</th>\n",
       "      <th>Start station number</th>\n",
       "      <th>Start station name</th>\n",
       "      <th>End station number</th>\n",
       "      <th>End station name</th>\n",
       "      <th>Bike number</th>\n",
       "      <th>Member type</th>\n",
       "      <th>Zip code</th>\n",
       "      <th>Gender</th>\n",
       "    </tr>\n",
       "  </thead>\n",
       "  <tbody>\n",
       "    <tr>\n",
       "      <th>0</th>\n",
       "      <td>397101</td>\n",
       "      <td>12/31/2014 23:58</td>\n",
       "      <td>1/1/2015 0:05</td>\n",
       "      <td>B32004</td>\n",
       "      <td>Aquarium Station - 200 Atlantic Ave.</td>\n",
       "      <td>D32022</td>\n",
       "      <td>TD Garden - Causeway at Portal Park #1</td>\n",
       "      <td>T01335</td>\n",
       "      <td>Member</td>\n",
       "      <td>2148</td>\n",
       "      <td>Male</td>\n",
       "    </tr>\n",
       "    <tr>\n",
       "      <th>1</th>\n",
       "      <td>542806</td>\n",
       "      <td>12/31/2014 23:51</td>\n",
       "      <td>1/1/2015 0:00</td>\n",
       "      <td>M32006</td>\n",
       "      <td>MIT at Mass Ave / Amherst St</td>\n",
       "      <td>M32007</td>\n",
       "      <td>Cambridge St - at Columbia St / Webster Ave</td>\n",
       "      <td>T01426</td>\n",
       "      <td>Member</td>\n",
       "      <td>2143</td>\n",
       "      <td>Male</td>\n",
       "    </tr>\n",
       "    <tr>\n",
       "      <th>2</th>\n",
       "      <td>927775</td>\n",
       "      <td>12/31/2014 23:30</td>\n",
       "      <td>12/31/2014 23:46</td>\n",
       "      <td>D32005</td>\n",
       "      <td>Boston Public Library - 700 Boylston St.</td>\n",
       "      <td>A32008</td>\n",
       "      <td>Buswell St. at Park Dr.</td>\n",
       "      <td>B01570</td>\n",
       "      <td>Member</td>\n",
       "      <td>2215</td>\n",
       "      <td>Male</td>\n",
       "    </tr>\n",
       "    <tr>\n",
       "      <th>3</th>\n",
       "      <td>269771</td>\n",
       "      <td>12/31/2014 23:26</td>\n",
       "      <td>12/31/2014 23:31</td>\n",
       "      <td>B32004</td>\n",
       "      <td>Aquarium Station - 200 Atlantic Ave.</td>\n",
       "      <td>A32010</td>\n",
       "      <td>South Station - 700 Atlantic Ave.</td>\n",
       "      <td>T01205</td>\n",
       "      <td>Member</td>\n",
       "      <td>2043</td>\n",
       "      <td>Male</td>\n",
       "    </tr>\n",
       "    <tr>\n",
       "      <th>4</th>\n",
       "      <td>959775</td>\n",
       "      <td>12/31/2014 23:07</td>\n",
       "      <td>12/31/2014 23:23</td>\n",
       "      <td>D32010</td>\n",
       "      <td>Cross St. at Hanover St.</td>\n",
       "      <td>B32004</td>\n",
       "      <td>Aquarium Station - 200 Atlantic Ave.</td>\n",
       "      <td>T01306</td>\n",
       "      <td>Member</td>\n",
       "      <td>1945</td>\n",
       "      <td>Male</td>\n",
       "    </tr>\n",
       "  </tbody>\n",
       "</table>\n",
       "</div>"
      ],
      "text/plain": [
       "   Duration        Start date          End date Start station number  \\\n",
       "0    397101  12/31/2014 23:58     1/1/2015 0:05               B32004   \n",
       "1    542806  12/31/2014 23:51     1/1/2015 0:00               M32006   \n",
       "2    927775  12/31/2014 23:30  12/31/2014 23:46               D32005   \n",
       "3    269771  12/31/2014 23:26  12/31/2014 23:31               B32004   \n",
       "4    959775  12/31/2014 23:07  12/31/2014 23:23               D32010   \n",
       "\n",
       "                         Start station name End station number  \\\n",
       "0      Aquarium Station - 200 Atlantic Ave.             D32022   \n",
       "1              MIT at Mass Ave / Amherst St             M32007   \n",
       "2  Boston Public Library - 700 Boylston St.             A32008   \n",
       "3      Aquarium Station - 200 Atlantic Ave.             A32010   \n",
       "4                  Cross St. at Hanover St.             B32004   \n",
       "\n",
       "                              End station name Bike number Member type  \\\n",
       "0       TD Garden - Causeway at Portal Park #1      T01335      Member   \n",
       "1  Cambridge St - at Columbia St / Webster Ave      T01426      Member   \n",
       "2                      Buswell St. at Park Dr.      B01570      Member   \n",
       "3            South Station - 700 Atlantic Ave.      T01205      Member   \n",
       "4         Aquarium Station - 200 Atlantic Ave.      T01306      Member   \n",
       "\n",
       "  Zip code Gender  \n",
       "0     2148   Male  \n",
       "1     2143   Male  \n",
       "2     2215   Male  \n",
       "3     2043   Male  \n",
       "4     1945   Male  "
      ]
     },
     "execution_count": 52,
     "metadata": {},
     "output_type": "execute_result"
    }
   ],
   "source": [
    "old_df.head()"
   ]
  },
  {
   "cell_type": "code",
   "execution_count": 54,
   "metadata": {
    "collapsed": true
   },
   "outputs": [],
   "source": [
    "# Rename columns\n",
    "old_df.columns = ['Duration', 'StartTime', 'StopTime', \n",
    "                  'StartID', 'StartName', \n",
    "                  'StopID', 'StopName', \n",
    "                  'BikeID', 'UserType', 'ZipCode', 'Gender']"
   ]
  },
  {
   "cell_type": "code",
   "execution_count": 55,
   "metadata": {},
   "outputs": [
    {
     "data": {
      "text/html": [
       "<div>\n",
       "<style scoped>\n",
       "    .dataframe tbody tr th:only-of-type {\n",
       "        vertical-align: middle;\n",
       "    }\n",
       "\n",
       "    .dataframe tbody tr th {\n",
       "        vertical-align: top;\n",
       "    }\n",
       "\n",
       "    .dataframe thead th {\n",
       "        text-align: right;\n",
       "    }\n",
       "</style>\n",
       "<table border=\"1\" class=\"dataframe\">\n",
       "  <thead>\n",
       "    <tr style=\"text-align: right;\">\n",
       "      <th></th>\n",
       "      <th>Duration</th>\n",
       "      <th>StartTime</th>\n",
       "      <th>StopTime</th>\n",
       "      <th>StartID</th>\n",
       "      <th>StartName</th>\n",
       "      <th>StopID</th>\n",
       "      <th>StopName</th>\n",
       "      <th>BikeID</th>\n",
       "      <th>UserType</th>\n",
       "      <th>ZipCode</th>\n",
       "      <th>Gender</th>\n",
       "    </tr>\n",
       "  </thead>\n",
       "  <tbody>\n",
       "    <tr>\n",
       "      <th>0</th>\n",
       "      <td>397101</td>\n",
       "      <td>12/31/2014 23:58</td>\n",
       "      <td>1/1/2015 0:05</td>\n",
       "      <td>B32004</td>\n",
       "      <td>Aquarium Station - 200 Atlantic Ave.</td>\n",
       "      <td>D32022</td>\n",
       "      <td>TD Garden - Causeway at Portal Park #1</td>\n",
       "      <td>T01335</td>\n",
       "      <td>Member</td>\n",
       "      <td>2148</td>\n",
       "      <td>Male</td>\n",
       "    </tr>\n",
       "    <tr>\n",
       "      <th>1</th>\n",
       "      <td>542806</td>\n",
       "      <td>12/31/2014 23:51</td>\n",
       "      <td>1/1/2015 0:00</td>\n",
       "      <td>M32006</td>\n",
       "      <td>MIT at Mass Ave / Amherst St</td>\n",
       "      <td>M32007</td>\n",
       "      <td>Cambridge St - at Columbia St / Webster Ave</td>\n",
       "      <td>T01426</td>\n",
       "      <td>Member</td>\n",
       "      <td>2143</td>\n",
       "      <td>Male</td>\n",
       "    </tr>\n",
       "    <tr>\n",
       "      <th>2</th>\n",
       "      <td>927775</td>\n",
       "      <td>12/31/2014 23:30</td>\n",
       "      <td>12/31/2014 23:46</td>\n",
       "      <td>D32005</td>\n",
       "      <td>Boston Public Library - 700 Boylston St.</td>\n",
       "      <td>A32008</td>\n",
       "      <td>Buswell St. at Park Dr.</td>\n",
       "      <td>B01570</td>\n",
       "      <td>Member</td>\n",
       "      <td>2215</td>\n",
       "      <td>Male</td>\n",
       "    </tr>\n",
       "    <tr>\n",
       "      <th>3</th>\n",
       "      <td>269771</td>\n",
       "      <td>12/31/2014 23:26</td>\n",
       "      <td>12/31/2014 23:31</td>\n",
       "      <td>B32004</td>\n",
       "      <td>Aquarium Station - 200 Atlantic Ave.</td>\n",
       "      <td>A32010</td>\n",
       "      <td>South Station - 700 Atlantic Ave.</td>\n",
       "      <td>T01205</td>\n",
       "      <td>Member</td>\n",
       "      <td>2043</td>\n",
       "      <td>Male</td>\n",
       "    </tr>\n",
       "    <tr>\n",
       "      <th>4</th>\n",
       "      <td>959775</td>\n",
       "      <td>12/31/2014 23:07</td>\n",
       "      <td>12/31/2014 23:23</td>\n",
       "      <td>D32010</td>\n",
       "      <td>Cross St. at Hanover St.</td>\n",
       "      <td>B32004</td>\n",
       "      <td>Aquarium Station - 200 Atlantic Ave.</td>\n",
       "      <td>T01306</td>\n",
       "      <td>Member</td>\n",
       "      <td>1945</td>\n",
       "      <td>Male</td>\n",
       "    </tr>\n",
       "  </tbody>\n",
       "</table>\n",
       "</div>"
      ],
      "text/plain": [
       "   Duration         StartTime          StopTime StartID  \\\n",
       "0    397101  12/31/2014 23:58     1/1/2015 0:05  B32004   \n",
       "1    542806  12/31/2014 23:51     1/1/2015 0:00  M32006   \n",
       "2    927775  12/31/2014 23:30  12/31/2014 23:46  D32005   \n",
       "3    269771  12/31/2014 23:26  12/31/2014 23:31  B32004   \n",
       "4    959775  12/31/2014 23:07  12/31/2014 23:23  D32010   \n",
       "\n",
       "                                  StartName  StopID  \\\n",
       "0      Aquarium Station - 200 Atlantic Ave.  D32022   \n",
       "1              MIT at Mass Ave / Amherst St  M32007   \n",
       "2  Boston Public Library - 700 Boylston St.  A32008   \n",
       "3      Aquarium Station - 200 Atlantic Ave.  A32010   \n",
       "4                  Cross St. at Hanover St.  B32004   \n",
       "\n",
       "                                      StopName  BikeID UserType ZipCode Gender  \n",
       "0       TD Garden - Causeway at Portal Park #1  T01335   Member    2148   Male  \n",
       "1  Cambridge St - at Columbia St / Webster Ave  T01426   Member    2143   Male  \n",
       "2                      Buswell St. at Park Dr.  B01570   Member    2215   Male  \n",
       "3            South Station - 700 Atlantic Ave.  T01205   Member    2043   Male  \n",
       "4         Aquarium Station - 200 Atlantic Ave.  T01306   Member    1945   Male  "
      ]
     },
     "execution_count": 55,
     "metadata": {},
     "output_type": "execute_result"
    }
   ],
   "source": [
    "old_df.head()"
   ]
  },
  {
   "cell_type": "code",
   "execution_count": 81,
   "metadata": {
    "scrolled": true
   },
   "outputs": [],
   "source": [
    "# Convert timestamps to datetime objects\n",
    "old_df.StartTime = pd.to_datetime(old_df.StartTime, format='%m/%d/%Y %H:%M')\n",
    "old_df.StopTime = pd.to_datetime(old_df.StopTime, format='%m/%d/%Y %H:%M')"
   ]
  },
  {
   "cell_type": "code",
   "execution_count": 82,
   "metadata": {
    "collapsed": true
   },
   "outputs": [],
   "source": [
    "# Convert duration to time in seconds\n",
    "old_df.Duration = np.round(old_df.Duration.astype(int) / 1000).astype(int)"
   ]
  },
  {
   "cell_type": "code",
   "execution_count": 83,
   "metadata": {},
   "outputs": [],
   "source": [
    "# Remap user types\n",
    "old_df.UserType = old_df.UserType.map({'Member': 'Subscriber', 'Casual': 'Customer'})\n",
    "# Remap gender\n",
    "old_df.Gender = old_df.Gender.fillna('Unknown')"
   ]
  },
  {
   "cell_type": "code",
   "execution_count": 84,
   "metadata": {
    "collapsed": true
   },
   "outputs": [],
   "source": [
    "# Zip code conversion helper function\n",
    "def convert_zipcode(z):\n",
    "    if isinstance(z, str):\n",
    "        try:\n",
    "            z = int(z)\n",
    "        except:\n",
    "            z = (z[:6].strip('-').replace(' ', ''), type(z))\n",
    "            try:\n",
    "                z = int(z)\n",
    "            except:\n",
    "                z = np.nan\n",
    "    return z\n",
    "# Convert zip code\n",
    "old_df.ZipCode = old_df.ZipCode.apply(convert_zipcode)"
   ]
  },
  {
   "cell_type": "code",
   "execution_count": 85,
   "metadata": {},
   "outputs": [
    {
     "data": {
      "text/html": [
       "<div>\n",
       "<style scoped>\n",
       "    .dataframe tbody tr th:only-of-type {\n",
       "        vertical-align: middle;\n",
       "    }\n",
       "\n",
       "    .dataframe tbody tr th {\n",
       "        vertical-align: top;\n",
       "    }\n",
       "\n",
       "    .dataframe thead th {\n",
       "        text-align: right;\n",
       "    }\n",
       "</style>\n",
       "<table border=\"1\" class=\"dataframe\">\n",
       "  <thead>\n",
       "    <tr style=\"text-align: right;\">\n",
       "      <th></th>\n",
       "      <th>Duration</th>\n",
       "      <th>StartTime</th>\n",
       "      <th>StopTime</th>\n",
       "      <th>StartID</th>\n",
       "      <th>StartName</th>\n",
       "      <th>StopID</th>\n",
       "      <th>StopName</th>\n",
       "      <th>BikeID</th>\n",
       "      <th>UserType</th>\n",
       "      <th>ZipCode</th>\n",
       "      <th>Gender</th>\n",
       "    </tr>\n",
       "  </thead>\n",
       "  <tbody>\n",
       "    <tr>\n",
       "      <th>0</th>\n",
       "      <td>397</td>\n",
       "      <td>2014-12-31 23:58:00</td>\n",
       "      <td>2015-01-01 00:05:00</td>\n",
       "      <td>B32004</td>\n",
       "      <td>Aquarium Station - 200 Atlantic Ave.</td>\n",
       "      <td>D32022</td>\n",
       "      <td>TD Garden - Causeway at Portal Park #1</td>\n",
       "      <td>T01335</td>\n",
       "      <td>Subscriber</td>\n",
       "      <td>2148.0</td>\n",
       "      <td>Male</td>\n",
       "    </tr>\n",
       "    <tr>\n",
       "      <th>1</th>\n",
       "      <td>543</td>\n",
       "      <td>2014-12-31 23:51:00</td>\n",
       "      <td>2015-01-01 00:00:00</td>\n",
       "      <td>M32006</td>\n",
       "      <td>MIT at Mass Ave / Amherst St</td>\n",
       "      <td>M32007</td>\n",
       "      <td>Cambridge St - at Columbia St / Webster Ave</td>\n",
       "      <td>T01426</td>\n",
       "      <td>Subscriber</td>\n",
       "      <td>2143.0</td>\n",
       "      <td>Male</td>\n",
       "    </tr>\n",
       "    <tr>\n",
       "      <th>2</th>\n",
       "      <td>928</td>\n",
       "      <td>2014-12-31 23:30:00</td>\n",
       "      <td>2014-12-31 23:46:00</td>\n",
       "      <td>D32005</td>\n",
       "      <td>Boston Public Library - 700 Boylston St.</td>\n",
       "      <td>A32008</td>\n",
       "      <td>Buswell St. at Park Dr.</td>\n",
       "      <td>B01570</td>\n",
       "      <td>Subscriber</td>\n",
       "      <td>2215.0</td>\n",
       "      <td>Male</td>\n",
       "    </tr>\n",
       "    <tr>\n",
       "      <th>3</th>\n",
       "      <td>270</td>\n",
       "      <td>2014-12-31 23:26:00</td>\n",
       "      <td>2014-12-31 23:31:00</td>\n",
       "      <td>B32004</td>\n",
       "      <td>Aquarium Station - 200 Atlantic Ave.</td>\n",
       "      <td>A32010</td>\n",
       "      <td>South Station - 700 Atlantic Ave.</td>\n",
       "      <td>T01205</td>\n",
       "      <td>Subscriber</td>\n",
       "      <td>2043.0</td>\n",
       "      <td>Male</td>\n",
       "    </tr>\n",
       "    <tr>\n",
       "      <th>4</th>\n",
       "      <td>960</td>\n",
       "      <td>2014-12-31 23:07:00</td>\n",
       "      <td>2014-12-31 23:23:00</td>\n",
       "      <td>D32010</td>\n",
       "      <td>Cross St. at Hanover St.</td>\n",
       "      <td>B32004</td>\n",
       "      <td>Aquarium Station - 200 Atlantic Ave.</td>\n",
       "      <td>T01306</td>\n",
       "      <td>Subscriber</td>\n",
       "      <td>1945.0</td>\n",
       "      <td>Male</td>\n",
       "    </tr>\n",
       "  </tbody>\n",
       "</table>\n",
       "</div>"
      ],
      "text/plain": [
       "   Duration           StartTime            StopTime StartID  \\\n",
       "0       397 2014-12-31 23:58:00 2015-01-01 00:05:00  B32004   \n",
       "1       543 2014-12-31 23:51:00 2015-01-01 00:00:00  M32006   \n",
       "2       928 2014-12-31 23:30:00 2014-12-31 23:46:00  D32005   \n",
       "3       270 2014-12-31 23:26:00 2014-12-31 23:31:00  B32004   \n",
       "4       960 2014-12-31 23:07:00 2014-12-31 23:23:00  D32010   \n",
       "\n",
       "                                  StartName  StopID  \\\n",
       "0      Aquarium Station - 200 Atlantic Ave.  D32022   \n",
       "1              MIT at Mass Ave / Amherst St  M32007   \n",
       "2  Boston Public Library - 700 Boylston St.  A32008   \n",
       "3      Aquarium Station - 200 Atlantic Ave.  A32010   \n",
       "4                  Cross St. at Hanover St.  B32004   \n",
       "\n",
       "                                      StopName  BikeID    UserType  ZipCode  \\\n",
       "0       TD Garden - Causeway at Portal Park #1  T01335  Subscriber   2148.0   \n",
       "1  Cambridge St - at Columbia St / Webster Ave  T01426  Subscriber   2143.0   \n",
       "2                      Buswell St. at Park Dr.  B01570  Subscriber   2215.0   \n",
       "3            South Station - 700 Atlantic Ave.  T01205  Subscriber   2043.0   \n",
       "4         Aquarium Station - 200 Atlantic Ave.  T01306  Subscriber   1945.0   \n",
       "\n",
       "  Gender  \n",
       "0   Male  \n",
       "1   Male  \n",
       "2   Male  \n",
       "3   Male  \n",
       "4   Male  "
      ]
     },
     "execution_count": 85,
     "metadata": {},
     "output_type": "execute_result"
    }
   ],
   "source": [
    "old_df.head()"
   ]
  },
  {
   "cell_type": "code",
   "execution_count": 86,
   "metadata": {
    "scrolled": false
   },
   "outputs": [
    {
     "name": "stdout",
     "output_type": "stream",
     "text": [
      "<class 'pandas.core.frame.DataFrame'>\n",
      "RangeIndex: 2762938 entries, 0 to 2762937\n",
      "Data columns (total 11 columns):\n",
      "Duration     int64\n",
      "StartTime    datetime64[ns]\n",
      "StopTime     datetime64[ns]\n",
      "StartID      object\n",
      "StartName    object\n",
      "StopID       object\n",
      "StopName     object\n",
      "BikeID       object\n",
      "UserType     object\n",
      "ZipCode      float64\n",
      "Gender       object\n",
      "dtypes: datetime64[ns](2), float64(1), int64(1), object(7)\n",
      "memory usage: 231.9+ MB\n"
     ]
    }
   ],
   "source": [
    "old_df.info()"
   ]
  },
  {
   "cell_type": "code",
   "execution_count": null,
   "metadata": {
    "collapsed": true
   },
   "outputs": [],
   "source": [
    "# Save old df\n",
    "with open('old_clean.pkl', 'wb') as f:\n",
    "    pickle.dump(old_df, f)"
   ]
  },
  {
   "cell_type": "markdown",
   "metadata": {},
   "source": [
    "### Clean-Up New Data"
   ]
  },
  {
   "cell_type": "code",
   "execution_count": 5,
   "metadata": {
    "collapsed": true
   },
   "outputs": [],
   "source": [
    "# Load old df\n",
    "with open('new_raw.pkl', 'rb') as f:\n",
    "    new_df = pickle.load(f)"
   ]
  },
  {
   "cell_type": "code",
   "execution_count": 6,
   "metadata": {
    "scrolled": true
   },
   "outputs": [
    {
     "name": "stdout",
     "output_type": "stream",
     "text": [
      "<class 'pandas.core.frame.DataFrame'>\n",
      "RangeIndex: 3731292 entries, 0 to 3731291\n",
      "Data columns (total 15 columns):\n",
      "tripduration               int64\n",
      "starttime                  object\n",
      "stoptime                   object\n",
      "start station id           int64\n",
      "start station name         object\n",
      "start station latitude     float64\n",
      "start station longitude    float64\n",
      "end station id             object\n",
      "end station name           object\n",
      "end station latitude       object\n",
      "end station longitude      object\n",
      "bikeid                     int64\n",
      "usertype                   object\n",
      "birth year                 object\n",
      "gender                     int64\n",
      "dtypes: float64(2), int64(4), object(9)\n",
      "memory usage: 427.0+ MB\n"
     ]
    }
   ],
   "source": [
    "new_df.info()"
   ]
  },
  {
   "cell_type": "code",
   "execution_count": 7,
   "metadata": {
    "scrolled": true
   },
   "outputs": [
    {
     "data": {
      "text/html": [
       "<div>\n",
       "<style scoped>\n",
       "    .dataframe tbody tr th:only-of-type {\n",
       "        vertical-align: middle;\n",
       "    }\n",
       "\n",
       "    .dataframe tbody tr th {\n",
       "        vertical-align: top;\n",
       "    }\n",
       "\n",
       "    .dataframe thead th {\n",
       "        text-align: right;\n",
       "    }\n",
       "</style>\n",
       "<table border=\"1\" class=\"dataframe\">\n",
       "  <thead>\n",
       "    <tr style=\"text-align: right;\">\n",
       "      <th></th>\n",
       "      <th>tripduration</th>\n",
       "      <th>starttime</th>\n",
       "      <th>stoptime</th>\n",
       "      <th>start station id</th>\n",
       "      <th>start station name</th>\n",
       "      <th>start station latitude</th>\n",
       "      <th>start station longitude</th>\n",
       "      <th>end station id</th>\n",
       "      <th>end station name</th>\n",
       "      <th>end station latitude</th>\n",
       "      <th>end station longitude</th>\n",
       "      <th>bikeid</th>\n",
       "      <th>usertype</th>\n",
       "      <th>birth year</th>\n",
       "      <th>gender</th>\n",
       "    </tr>\n",
       "  </thead>\n",
       "  <tbody>\n",
       "    <tr>\n",
       "      <th>0</th>\n",
       "      <td>196</td>\n",
       "      <td>2016-11-01 00:00:35</td>\n",
       "      <td>2016-11-01 00:03:52</td>\n",
       "      <td>95</td>\n",
       "      <td>Cambridge St - at Columbia St / Webster Ave</td>\n",
       "      <td>42.372969</td>\n",
       "      <td>-71.094445</td>\n",
       "      <td>78</td>\n",
       "      <td>Union Square - Somerville</td>\n",
       "      <td>42.3796</td>\n",
       "      <td>-71.0953</td>\n",
       "      <td>1380</td>\n",
       "      <td>Subscriber</td>\n",
       "      <td>1983</td>\n",
       "      <td>2</td>\n",
       "    </tr>\n",
       "    <tr>\n",
       "      <th>1</th>\n",
       "      <td>222</td>\n",
       "      <td>2016-11-01 00:01:23</td>\n",
       "      <td>2016-11-01 00:05:06</td>\n",
       "      <td>23</td>\n",
       "      <td>Mayor Martin J Walsh - 28 State St</td>\n",
       "      <td>42.358920</td>\n",
       "      <td>-71.057629</td>\n",
       "      <td>190</td>\n",
       "      <td>Nashua Street at Red Auerbach Way</td>\n",
       "      <td>42.3656</td>\n",
       "      <td>-71.0642</td>\n",
       "      <td>866</td>\n",
       "      <td>Subscriber</td>\n",
       "      <td>1980</td>\n",
       "      <td>1</td>\n",
       "    </tr>\n",
       "    <tr>\n",
       "      <th>2</th>\n",
       "      <td>483</td>\n",
       "      <td>2016-11-01 00:04:19</td>\n",
       "      <td>2016-11-01 00:12:22</td>\n",
       "      <td>178</td>\n",
       "      <td>MIT Pacific St at Purrington St</td>\n",
       "      <td>42.359573</td>\n",
       "      <td>-71.101295</td>\n",
       "      <td>184</td>\n",
       "      <td>Sidney Research Campus/ Erie Street at Waverly</td>\n",
       "      <td>42.3578</td>\n",
       "      <td>-71.1039</td>\n",
       "      <td>35</td>\n",
       "      <td>Subscriber</td>\n",
       "      <td>1990</td>\n",
       "      <td>1</td>\n",
       "    </tr>\n",
       "    <tr>\n",
       "      <th>3</th>\n",
       "      <td>141</td>\n",
       "      <td>2016-11-01 00:05:31</td>\n",
       "      <td>2016-11-01 00:07:53</td>\n",
       "      <td>25</td>\n",
       "      <td>Tremont St / W Newton St</td>\n",
       "      <td>42.341332</td>\n",
       "      <td>-71.076847</td>\n",
       "      <td>21</td>\n",
       "      <td>Prudential Center / Belvidere</td>\n",
       "      <td>42.346</td>\n",
       "      <td>-71.0826</td>\n",
       "      <td>1917</td>\n",
       "      <td>Customer</td>\n",
       "      <td>\\N</td>\n",
       "      <td>0</td>\n",
       "    </tr>\n",
       "    <tr>\n",
       "      <th>4</th>\n",
       "      <td>154</td>\n",
       "      <td>2016-11-01 00:05:59</td>\n",
       "      <td>2016-11-01 00:08:34</td>\n",
       "      <td>76</td>\n",
       "      <td>Central Sq Post Office / Cambridge City Hall a...</td>\n",
       "      <td>42.366426</td>\n",
       "      <td>-71.105495</td>\n",
       "      <td>139</td>\n",
       "      <td>Dana Park</td>\n",
       "      <td>42.3616</td>\n",
       "      <td>-71.1074</td>\n",
       "      <td>603</td>\n",
       "      <td>Subscriber</td>\n",
       "      <td>1990</td>\n",
       "      <td>1</td>\n",
       "    </tr>\n",
       "  </tbody>\n",
       "</table>\n",
       "</div>"
      ],
      "text/plain": [
       "   tripduration            starttime             stoptime  start station id  \\\n",
       "0           196  2016-11-01 00:00:35  2016-11-01 00:03:52                95   \n",
       "1           222  2016-11-01 00:01:23  2016-11-01 00:05:06                23   \n",
       "2           483  2016-11-01 00:04:19  2016-11-01 00:12:22               178   \n",
       "3           141  2016-11-01 00:05:31  2016-11-01 00:07:53                25   \n",
       "4           154  2016-11-01 00:05:59  2016-11-01 00:08:34                76   \n",
       "\n",
       "                                  start station name  start station latitude  \\\n",
       "0        Cambridge St - at Columbia St / Webster Ave               42.372969   \n",
       "1                 Mayor Martin J Walsh - 28 State St               42.358920   \n",
       "2                    MIT Pacific St at Purrington St               42.359573   \n",
       "3                           Tremont St / W Newton St               42.341332   \n",
       "4  Central Sq Post Office / Cambridge City Hall a...               42.366426   \n",
       "\n",
       "   start station longitude end station id  \\\n",
       "0               -71.094445             78   \n",
       "1               -71.057629            190   \n",
       "2               -71.101295            184   \n",
       "3               -71.076847             21   \n",
       "4               -71.105495            139   \n",
       "\n",
       "                                 end station name end station latitude  \\\n",
       "0                       Union Square - Somerville              42.3796   \n",
       "1               Nashua Street at Red Auerbach Way              42.3656   \n",
       "2  Sidney Research Campus/ Erie Street at Waverly              42.3578   \n",
       "3                   Prudential Center / Belvidere               42.346   \n",
       "4                                       Dana Park              42.3616   \n",
       "\n",
       "  end station longitude  bikeid    usertype birth year  gender  \n",
       "0              -71.0953    1380  Subscriber       1983       2  \n",
       "1              -71.0642     866  Subscriber       1980       1  \n",
       "2              -71.1039      35  Subscriber       1990       1  \n",
       "3              -71.0826    1917    Customer         \\N       0  \n",
       "4              -71.1074     603  Subscriber       1990       1  "
      ]
     },
     "execution_count": 7,
     "metadata": {},
     "output_type": "execute_result"
    }
   ],
   "source": [
    "new_df.head()"
   ]
  },
  {
   "cell_type": "code",
   "execution_count": null,
   "metadata": {
    "collapsed": true
   },
   "outputs": [],
   "source": [
    "new_df.columns = ['Duration', 'StartTime', 'StopTime',\n",
    "                  'StartID', 'StartName', 'StartLat', 'StartLon', \n",
    "                  'StopID', 'StopName', 'StopLat', 'StopLon',\n",
    "                  'BikeID', 'UserType', 'BirthYear', 'Gender']"
   ]
  },
  {
   "cell_type": "code",
   "execution_count": null,
   "metadata": {},
   "outputs": [],
   "source": [
    "new_df.head()"
   ]
  },
  {
   "cell_type": "code",
   "execution_count": null,
   "metadata": {},
   "outputs": [],
   "source": [
    "# Convert timestamps to datetime objects\n",
    "new_df.StartTime = pd.to_datetime(new_df.StartTime)\n",
    "new_df.StopTime = pd.to_datetime(new_df.StopTime)\n",
    "# Convert duration to integer\n",
    "new_df.Duration = new_df.Duration.astype(int)\n",
    "# Convert lat and lon to float\n",
    "new_df.StartLat = new_df.StartLat.astype(float)\n",
    "new_df.StartLon = new_df.StartLon.astype(float)\n",
    "new_df.StopLat = new_df.StopLat.astype(float)\n",
    "new_df.StopLon = new_df.StopLon.astype(float)\n",
    "# Remap birth year\n",
    "new_df.BirthYear = [np.nan if x == '\\\\N' else x for x in new_df.BirthYear]\n",
    "# Remap gender\n",
    "new_df.Gender = new_df.Gender.map({0: 'Unknown', 1: 'Male', 2:'Female'})"
   ]
  },
  {
   "cell_type": "code",
   "execution_count": null,
   "metadata": {},
   "outputs": [],
   "source": [
    "new_df.head()"
   ]
  },
  {
   "cell_type": "code",
   "execution_count": null,
   "metadata": {},
   "outputs": [],
   "source": [
    "new_df.BirthYear = [np.nan if x == '\\\\N' else x for x in new_df.BirthYear]"
   ]
  },
  {
   "cell_type": "code",
   "execution_count": null,
   "metadata": {},
   "outputs": [],
   "source": [
    "new_df.StartLat = new_df.StartLat.astype(float)\n",
    "new_df.StartLon = new_df.StartLon.astype(float)\n",
    "new_df.StopLat = new_df.StopLat.astype(float)\n",
    "new_df.StopLon = new_df.StopLon.astype(float)"
   ]
  },
  {
   "cell_type": "code",
   "execution_count": null,
   "metadata": {
    "collapsed": true
   },
   "outputs": [],
   "source": []
  },
  {
   "cell_type": "code",
   "execution_count": null,
   "metadata": {
    "scrolled": true
   },
   "outputs": [],
   "source": [
    "id_map1 = {}\n",
    "for i in set(tmp1['start station id']):\n",
    "    id_map1[i] = set(tmp1[(tmp1['start station id'] == i)]['start station name'])\n",
    "id_map1"
   ]
  },
  {
   "cell_type": "code",
   "execution_count": null,
   "metadata": {
    "collapsed": true
   },
   "outputs": [],
   "source": [
    "from difflib import SequenceMatcher"
   ]
  },
  {
   "cell_type": "code",
   "execution_count": null,
   "metadata": {},
   "outputs": [],
   "source": [
    "SequenceMatcher(None, list(id_map1[151])[0], list(id_map1[151])[1]).ratio()"
   ]
  },
  {
   "cell_type": "code",
   "execution_count": null,
   "metadata": {},
   "outputs": [],
   "source": [
    "from fuzzywuzzy import fuzz"
   ]
  },
  {
   "cell_type": "code",
   "execution_count": null,
   "metadata": {},
   "outputs": [],
   "source": [
    "l = list(id_map1[151])\n",
    "print(l)\n",
    "print('Ratio:', fuzz.ratio(l[0], l[1]))\n",
    "print('Partial Ratio:', fuzz.partial_ratio(l[0], l[1]))\n",
    "print('Token Sort Ratio:', fuzz.token_sort_ratio(l[0], l[1]))\n",
    "print('Token Set Ratio:', fuzz.token_set_ratio(l[0], l[1]))\n"
   ]
  },
  {
   "cell_type": "code",
   "execution_count": null,
   "metadata": {
    "collapsed": true
   },
   "outputs": [],
   "source": [
    "import itertools"
   ]
  },
  {
   "cell_type": "code",
   "execution_count": null,
   "metadata": {},
   "outputs": [],
   "source": [
    "l = list(id_map1[130])\n",
    "list(itertools.combinations(l, 2))"
   ]
  },
  {
   "cell_type": "code",
   "execution_count": null,
   "metadata": {
    "collapsed": true
   },
   "outputs": [],
   "source": [
    "similarity = {}\n",
    "for key in id_map1:\n",
    "    if len(id_map1[key]) > 1:\n",
    "        combos = list(itertools.combinations(list(id_map1[key]), 2))\n",
    "        sim = []\n",
    "        for combo in combos:\n",
    "            sim.append([combo, fuzz.partial_ratio(combo[0], combo[1])])\n",
    "        similarity[key] = sim\n",
    "    else:\n",
    "        similarity[key] = [id_map1[key], 1]"
   ]
  },
  {
   "cell_type": "code",
   "execution_count": null,
   "metadata": {},
   "outputs": [],
   "source": [
    "similarity"
   ]
  },
  {
   "cell_type": "code",
   "execution_count": null,
   "metadata": {
    "collapsed": true
   },
   "outputs": [],
   "source": [
    "tmp2 = old_df[['Start station number', 'Start station name']]"
   ]
  },
  {
   "cell_type": "code",
   "execution_count": null,
   "metadata": {},
   "outputs": [],
   "source": [
    "id_map2 = {}\n",
    "for i in set(tmp2['Start station number']):\n",
    "    id_map2[i] = set(tmp2[(tmp2['Start station number'] == i)]['Start station name'])\n",
    "id_map2"
   ]
  },
  {
   "cell_type": "code",
   "execution_count": null,
   "metadata": {
    "collapsed": true
   },
   "outputs": [],
   "source": []
  },
  {
   "cell_type": "code",
   "execution_count": null,
   "metadata": {
    "collapsed": true
   },
   "outputs": [],
   "source": [
    "station_info_path = '/home/cneiderer/Metis/boston_bike_data/station_data'\n",
    "stations1_file = 'Hubway_Stations_2011_2016.csv'\n",
    "stations2_file = 'Hubway_Stations_as_of_July_2017.csv'"
   ]
  },
  {
   "cell_type": "code",
   "execution_count": null,
   "metadata": {
    "collapsed": true
   },
   "outputs": [],
   "source": [
    "stations1_df = pd.read_csv(os.path.join(station_info_path, stations1_file))\n",
    "stations2_df = pd.read_csv(os.path.join(station_info_path, stations2_file))"
   ]
  },
  {
   "cell_type": "code",
   "execution_count": null,
   "metadata": {},
   "outputs": [],
   "source": [
    "stations1_df.head()"
   ]
  },
  {
   "cell_type": "code",
   "execution_count": null,
   "metadata": {},
   "outputs": [],
   "source": [
    "stations1_df.sort_values('Station ID', axis=0)"
   ]
  },
  {
   "cell_type": "code",
   "execution_count": null,
   "metadata": {
    "scrolled": true
   },
   "outputs": [],
   "source": [
    "stations2_df.head()"
   ]
  },
  {
   "cell_type": "code",
   "execution_count": null,
   "metadata": {
    "scrolled": true
   },
   "outputs": [],
   "source": [
    "sorted_df = stations2_df.sort_values('Station ID', axis=0)\n",
    "sorted_df"
   ]
  },
  {
   "cell_type": "code",
   "execution_count": null,
   "metadata": {},
   "outputs": [],
   "source": [
    "sorted_df[sorted_df['Station ID'] == 'D32007']"
   ]
  },
  {
   "cell_type": "code",
   "execution_count": null,
   "metadata": {},
   "outputs": [],
   "source": [
    "stations1_df = stations1_df[stations2_df.columns]"
   ]
  },
  {
   "cell_type": "code",
   "execution_count": null,
   "metadata": {
    "collapsed": true
   },
   "outputs": [],
   "source": [
    "df = pd.concat([stations1_df, stations2_df], axis=0)"
   ]
  },
  {
   "cell_type": "code",
   "execution_count": null,
   "metadata": {},
   "outputs": [],
   "source": [
    "df = df[~df.duplicated()]"
   ]
  },
  {
   "cell_type": "code",
   "execution_count": null,
   "metadata": {},
   "outputs": [],
   "source": [
    "t4 = stations2_df[stations2_df['Station ID'] == 'D32007']\n",
    "t4.head()"
   ]
  },
  {
   "cell_type": "code",
   "execution_count": null,
   "metadata": {},
   "outputs": [],
   "source": [
    "t5 = stations1_df[stations1_df['Station ID'] == 'D32007']\n",
    "t5.head()"
   ]
  },
  {
   "cell_type": "code",
   "execution_count": null,
   "metadata": {
    "scrolled": true
   },
   "outputs": [],
   "source": [
    "stations = stations1_df.merge(stations2_df, how='outer', on='Station ID')\n",
    "stations"
   ]
  },
  {
   "cell_type": "code",
   "execution_count": null,
   "metadata": {},
   "outputs": [],
   "source": [
    "old_df.head()"
   ]
  },
  {
   "cell_type": "code",
   "execution_count": null,
   "metadata": {},
   "outputs": [],
   "source": [
    "xx = old_df[['Start station number']].merge(stations2_df[['Station ID', 'Latitude', 'Longitude']], \n",
    "                                       how='right', left_on='Start station number', right_on='Station ID')"
   ]
  },
  {
   "cell_type": "code",
   "execution_count": null,
   "metadata": {},
   "outputs": [],
   "source": [
    "set(xx[xx.isnull().any(axis=1)]['Start station number'])"
   ]
  },
  {
   "cell_type": "code",
   "execution_count": null,
   "metadata": {},
   "outputs": [],
   "source": [
    "xx[xx['Start station number'] == 'A32007']"
   ]
  },
  {
   "cell_type": "code",
   "execution_count": null,
   "metadata": {},
   "outputs": [],
   "source": [
    "set(xx[xx.isnull().any(axis=1)]['Station ID'])"
   ]
  },
  {
   "cell_type": "code",
   "execution_count": null,
   "metadata": {
    "collapsed": true
   },
   "outputs": [],
   "source": []
  }
 ],
 "metadata": {
  "kernelspec": {
   "display_name": "Python 3",
   "language": "python",
   "name": "python3"
  },
  "language_info": {
   "codemirror_mode": {
    "name": "ipython",
    "version": 3
   },
   "file_extension": ".py",
   "mimetype": "text/x-python",
   "name": "python",
   "nbconvert_exporter": "python",
   "pygments_lexer": "ipython3",
   "version": "3.6.4"
  },
  "varInspector": {
   "cols": {
    "lenName": 16,
    "lenType": 16,
    "lenVar": 40
   },
   "kernels_config": {
    "python": {
     "delete_cmd_postfix": "",
     "delete_cmd_prefix": "del ",
     "library": "var_list.py",
     "varRefreshCmd": "print(var_dic_list())"
    },
    "r": {
     "delete_cmd_postfix": ") ",
     "delete_cmd_prefix": "rm(",
     "library": "var_list.r",
     "varRefreshCmd": "cat(var_dic_list()) "
    }
   },
   "types_to_exclude": [
    "module",
    "function",
    "builtin_function_or_method",
    "instance",
    "_Feature"
   ],
   "window_display": false
  }
 },
 "nbformat": 4,
 "nbformat_minor": 2
}
