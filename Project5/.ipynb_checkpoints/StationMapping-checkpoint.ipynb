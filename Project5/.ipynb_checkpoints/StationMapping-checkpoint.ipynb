{
 "cells": [
  {
   "cell_type": "code",
   "execution_count": 1,
   "metadata": {
    "collapsed": true
   },
   "outputs": [],
   "source": [
    "import numpy as np\n",
    "import pandas as pd\n",
    "import matplotlib.pyplot as plt\n",
    "from mpl_toolkits.basemap import Basemap\n",
    "%matplotlib inline\n",
    "import os\n",
    "import pickle\n",
    "\n",
    "import json\n",
    "import plotly.plotly as py\n",
    "from plotly.graph_objs import *\n",
    "\n",
    "from fuzzywuzzy import fuzz"
   ]
  },
  {
   "cell_type": "markdown",
   "metadata": {},
   "source": [
    "### Load Trip Data"
   ]
  },
  {
   "cell_type": "code",
   "execution_count": 125,
   "metadata": {
    "collapsed": true
   },
   "outputs": [],
   "source": [
    "### Load Trip Data\n",
    "\n",
    "# Load old df\n",
    "with open('old_clean.pkl', 'rb') as f:\n",
    "    old_df = pickle.load(f)\n",
    "\n",
    "# Load new df\n",
    "with open('new_clean.pkl', 'rb') as f:\n",
    "    new_df = pickle.load(f)\n",
    "\n",
    "# Add Epoch to each DF to make it easy to split later\n",
    "old_df['Epoch'] = 'Old'\n",
    "new_df['Epoch'] = 'New'\n",
    "\n",
    "#\n",
    "def remap_usertype(df):\n",
    "    usertype_map = {'Subscriber': 'Member', 'Customer': 'Casual'}\n",
    "    df.UserType = df.UserType.map(usertype_map)\n",
    "    return df\n",
    "\n",
    "old_df = remap_usertype(old_df)\n",
    "new_df = remap_usertype(new_df)"
   ]
  },
  {
   "cell_type": "code",
   "execution_count": 120,
   "metadata": {},
   "outputs": [
    {
     "data": {
      "text/html": [
       "<div>\n",
       "<style scoped>\n",
       "    .dataframe tbody tr th:only-of-type {\n",
       "        vertical-align: middle;\n",
       "    }\n",
       "\n",
       "    .dataframe tbody tr th {\n",
       "        vertical-align: top;\n",
       "    }\n",
       "\n",
       "    .dataframe thead th {\n",
       "        text-align: right;\n",
       "    }\n",
       "</style>\n",
       "<table border=\"1\" class=\"dataframe\">\n",
       "  <thead>\n",
       "    <tr style=\"text-align: right;\">\n",
       "      <th></th>\n",
       "      <th>Duration</th>\n",
       "      <th>StartTime</th>\n",
       "      <th>StopTime</th>\n",
       "      <th>StartID</th>\n",
       "      <th>StartName</th>\n",
       "      <th>StopID</th>\n",
       "      <th>StopName</th>\n",
       "      <th>BikeID</th>\n",
       "      <th>UserType</th>\n",
       "      <th>ZipCode</th>\n",
       "      <th>Gender</th>\n",
       "      <th>Epoch</th>\n",
       "    </tr>\n",
       "  </thead>\n",
       "  <tbody>\n",
       "    <tr>\n",
       "      <th>0</th>\n",
       "      <td>397</td>\n",
       "      <td>2014-12-31 23:58:00</td>\n",
       "      <td>2015-01-01 00:05:00</td>\n",
       "      <td>B32004</td>\n",
       "      <td>Aquarium Station - 200 Atlantic Ave.</td>\n",
       "      <td>D32022</td>\n",
       "      <td>TD Garden - Causeway at Portal Park #1</td>\n",
       "      <td>T01335</td>\n",
       "      <td>Member</td>\n",
       "      <td>2148.0</td>\n",
       "      <td>Male</td>\n",
       "      <td>Old</td>\n",
       "    </tr>\n",
       "    <tr>\n",
       "      <th>1</th>\n",
       "      <td>543</td>\n",
       "      <td>2014-12-31 23:51:00</td>\n",
       "      <td>2015-01-01 00:00:00</td>\n",
       "      <td>M32006</td>\n",
       "      <td>MIT at Mass Ave / Amherst St</td>\n",
       "      <td>M32007</td>\n",
       "      <td>Cambridge St - at Columbia St / Webster Ave</td>\n",
       "      <td>T01426</td>\n",
       "      <td>Member</td>\n",
       "      <td>2143.0</td>\n",
       "      <td>Male</td>\n",
       "      <td>Old</td>\n",
       "    </tr>\n",
       "    <tr>\n",
       "      <th>2</th>\n",
       "      <td>928</td>\n",
       "      <td>2014-12-31 23:30:00</td>\n",
       "      <td>2014-12-31 23:46:00</td>\n",
       "      <td>D32005</td>\n",
       "      <td>Boston Public Library - 700 Boylston St.</td>\n",
       "      <td>A32008</td>\n",
       "      <td>Buswell St. at Park Dr.</td>\n",
       "      <td>B01570</td>\n",
       "      <td>Member</td>\n",
       "      <td>2215.0</td>\n",
       "      <td>Male</td>\n",
       "      <td>Old</td>\n",
       "    </tr>\n",
       "    <tr>\n",
       "      <th>3</th>\n",
       "      <td>270</td>\n",
       "      <td>2014-12-31 23:26:00</td>\n",
       "      <td>2014-12-31 23:31:00</td>\n",
       "      <td>B32004</td>\n",
       "      <td>Aquarium Station - 200 Atlantic Ave.</td>\n",
       "      <td>A32010</td>\n",
       "      <td>South Station - 700 Atlantic Ave.</td>\n",
       "      <td>T01205</td>\n",
       "      <td>Member</td>\n",
       "      <td>2043.0</td>\n",
       "      <td>Male</td>\n",
       "      <td>Old</td>\n",
       "    </tr>\n",
       "    <tr>\n",
       "      <th>4</th>\n",
       "      <td>960</td>\n",
       "      <td>2014-12-31 23:07:00</td>\n",
       "      <td>2014-12-31 23:23:00</td>\n",
       "      <td>D32010</td>\n",
       "      <td>Cross St. at Hanover St.</td>\n",
       "      <td>B32004</td>\n",
       "      <td>Aquarium Station - 200 Atlantic Ave.</td>\n",
       "      <td>T01306</td>\n",
       "      <td>Member</td>\n",
       "      <td>1945.0</td>\n",
       "      <td>Male</td>\n",
       "      <td>Old</td>\n",
       "    </tr>\n",
       "  </tbody>\n",
       "</table>\n",
       "</div>"
      ],
      "text/plain": [
       "   Duration           StartTime            StopTime StartID  \\\n",
       "0       397 2014-12-31 23:58:00 2015-01-01 00:05:00  B32004   \n",
       "1       543 2014-12-31 23:51:00 2015-01-01 00:00:00  M32006   \n",
       "2       928 2014-12-31 23:30:00 2014-12-31 23:46:00  D32005   \n",
       "3       270 2014-12-31 23:26:00 2014-12-31 23:31:00  B32004   \n",
       "4       960 2014-12-31 23:07:00 2014-12-31 23:23:00  D32010   \n",
       "\n",
       "                                  StartName  StopID  \\\n",
       "0      Aquarium Station - 200 Atlantic Ave.  D32022   \n",
       "1              MIT at Mass Ave / Amherst St  M32007   \n",
       "2  Boston Public Library - 700 Boylston St.  A32008   \n",
       "3      Aquarium Station - 200 Atlantic Ave.  A32010   \n",
       "4                  Cross St. at Hanover St.  B32004   \n",
       "\n",
       "                                      StopName  BikeID UserType  ZipCode  \\\n",
       "0       TD Garden - Causeway at Portal Park #1  T01335   Member   2148.0   \n",
       "1  Cambridge St - at Columbia St / Webster Ave  T01426   Member   2143.0   \n",
       "2                      Buswell St. at Park Dr.  B01570   Member   2215.0   \n",
       "3            South Station - 700 Atlantic Ave.  T01205   Member   2043.0   \n",
       "4         Aquarium Station - 200 Atlantic Ave.  T01306   Member   1945.0   \n",
       "\n",
       "  Gender Epoch  \n",
       "0   Male   Old  \n",
       "1   Male   Old  \n",
       "2   Male   Old  \n",
       "3   Male   Old  \n",
       "4   Male   Old  "
      ]
     },
     "execution_count": 120,
     "metadata": {},
     "output_type": "execute_result"
    }
   ],
   "source": [
    "old_df.head()"
   ]
  },
  {
   "cell_type": "code",
   "execution_count": 98,
   "metadata": {},
   "outputs": [
    {
     "data": {
      "text/html": [
       "<div>\n",
       "<style scoped>\n",
       "    .dataframe tbody tr th:only-of-type {\n",
       "        vertical-align: middle;\n",
       "    }\n",
       "\n",
       "    .dataframe tbody tr th {\n",
       "        vertical-align: top;\n",
       "    }\n",
       "\n",
       "    .dataframe thead th {\n",
       "        text-align: right;\n",
       "    }\n",
       "</style>\n",
       "<table border=\"1\" class=\"dataframe\">\n",
       "  <thead>\n",
       "    <tr style=\"text-align: right;\">\n",
       "      <th></th>\n",
       "      <th>Duration</th>\n",
       "      <th>StartTime</th>\n",
       "      <th>StopTime</th>\n",
       "      <th>StartID</th>\n",
       "      <th>StartName</th>\n",
       "      <th>StartLat</th>\n",
       "      <th>StartLon</th>\n",
       "      <th>StopID</th>\n",
       "      <th>StopName</th>\n",
       "      <th>StopLat</th>\n",
       "      <th>StopLon</th>\n",
       "      <th>BikeID</th>\n",
       "      <th>UserType</th>\n",
       "      <th>BirthYear</th>\n",
       "      <th>Gender</th>\n",
       "      <th>Epoch</th>\n",
       "    </tr>\n",
       "  </thead>\n",
       "  <tbody>\n",
       "    <tr>\n",
       "      <th>0</th>\n",
       "      <td>196</td>\n",
       "      <td>2016-11-01 00:00:35</td>\n",
       "      <td>2016-11-01 00:03:52</td>\n",
       "      <td>95</td>\n",
       "      <td>Cambridge St - at Columbia St / Webster Ave</td>\n",
       "      <td>42.372969</td>\n",
       "      <td>-71.094445</td>\n",
       "      <td>78</td>\n",
       "      <td>Union Square - Somerville</td>\n",
       "      <td>42.379637</td>\n",
       "      <td>-71.095319</td>\n",
       "      <td>1380</td>\n",
       "      <td>Member</td>\n",
       "      <td>1983</td>\n",
       "      <td>Female</td>\n",
       "      <td>New</td>\n",
       "    </tr>\n",
       "    <tr>\n",
       "      <th>1</th>\n",
       "      <td>222</td>\n",
       "      <td>2016-11-01 00:01:23</td>\n",
       "      <td>2016-11-01 00:05:06</td>\n",
       "      <td>23</td>\n",
       "      <td>Mayor Martin J Walsh - 28 State St</td>\n",
       "      <td>42.358920</td>\n",
       "      <td>-71.057629</td>\n",
       "      <td>190</td>\n",
       "      <td>Nashua Street at Red Auerbach Way</td>\n",
       "      <td>42.365598</td>\n",
       "      <td>-71.064248</td>\n",
       "      <td>866</td>\n",
       "      <td>Member</td>\n",
       "      <td>1980</td>\n",
       "      <td>Male</td>\n",
       "      <td>New</td>\n",
       "    </tr>\n",
       "    <tr>\n",
       "      <th>2</th>\n",
       "      <td>483</td>\n",
       "      <td>2016-11-01 00:04:19</td>\n",
       "      <td>2016-11-01 00:12:22</td>\n",
       "      <td>178</td>\n",
       "      <td>MIT Pacific St at Purrington St</td>\n",
       "      <td>42.359573</td>\n",
       "      <td>-71.101295</td>\n",
       "      <td>184</td>\n",
       "      <td>Sidney Research Campus/ Erie Street at Waverly</td>\n",
       "      <td>42.357753</td>\n",
       "      <td>-71.103934</td>\n",
       "      <td>35</td>\n",
       "      <td>Member</td>\n",
       "      <td>1990</td>\n",
       "      <td>Male</td>\n",
       "      <td>New</td>\n",
       "    </tr>\n",
       "    <tr>\n",
       "      <th>3</th>\n",
       "      <td>141</td>\n",
       "      <td>2016-11-01 00:05:31</td>\n",
       "      <td>2016-11-01 00:07:53</td>\n",
       "      <td>25</td>\n",
       "      <td>Tremont St / W Newton St</td>\n",
       "      <td>42.341332</td>\n",
       "      <td>-71.076847</td>\n",
       "      <td>21</td>\n",
       "      <td>Prudential Center / Belvidere</td>\n",
       "      <td>42.345959</td>\n",
       "      <td>-71.082578</td>\n",
       "      <td>1917</td>\n",
       "      <td>Casual</td>\n",
       "      <td>NaN</td>\n",
       "      <td>Unknown</td>\n",
       "      <td>New</td>\n",
       "    </tr>\n",
       "    <tr>\n",
       "      <th>4</th>\n",
       "      <td>154</td>\n",
       "      <td>2016-11-01 00:05:59</td>\n",
       "      <td>2016-11-01 00:08:34</td>\n",
       "      <td>76</td>\n",
       "      <td>Central Sq Post Office / Cambridge City Hall a...</td>\n",
       "      <td>42.366426</td>\n",
       "      <td>-71.105495</td>\n",
       "      <td>139</td>\n",
       "      <td>Dana Park</td>\n",
       "      <td>42.361589</td>\n",
       "      <td>-71.107437</td>\n",
       "      <td>603</td>\n",
       "      <td>Member</td>\n",
       "      <td>1990</td>\n",
       "      <td>Male</td>\n",
       "      <td>New</td>\n",
       "    </tr>\n",
       "  </tbody>\n",
       "</table>\n",
       "</div>"
      ],
      "text/plain": [
       "   Duration           StartTime            StopTime  StartID  \\\n",
       "0       196 2016-11-01 00:00:35 2016-11-01 00:03:52       95   \n",
       "1       222 2016-11-01 00:01:23 2016-11-01 00:05:06       23   \n",
       "2       483 2016-11-01 00:04:19 2016-11-01 00:12:22      178   \n",
       "3       141 2016-11-01 00:05:31 2016-11-01 00:07:53       25   \n",
       "4       154 2016-11-01 00:05:59 2016-11-01 00:08:34       76   \n",
       "\n",
       "                                           StartName   StartLat   StartLon  \\\n",
       "0        Cambridge St - at Columbia St / Webster Ave  42.372969 -71.094445   \n",
       "1                 Mayor Martin J Walsh - 28 State St  42.358920 -71.057629   \n",
       "2                    MIT Pacific St at Purrington St  42.359573 -71.101295   \n",
       "3                           Tremont St / W Newton St  42.341332 -71.076847   \n",
       "4  Central Sq Post Office / Cambridge City Hall a...  42.366426 -71.105495   \n",
       "\n",
       "   StopID                                        StopName    StopLat  \\\n",
       "0      78                       Union Square - Somerville  42.379637   \n",
       "1     190               Nashua Street at Red Auerbach Way  42.365598   \n",
       "2     184  Sidney Research Campus/ Erie Street at Waverly  42.357753   \n",
       "3      21                   Prudential Center / Belvidere  42.345959   \n",
       "4     139                                       Dana Park  42.361589   \n",
       "\n",
       "     StopLon  BikeID UserType BirthYear   Gender Epoch  \n",
       "0 -71.095319    1380   Member      1983   Female   New  \n",
       "1 -71.064248     866   Member      1980     Male   New  \n",
       "2 -71.103934      35   Member      1990     Male   New  \n",
       "3 -71.082578    1917   Casual       NaN  Unknown   New  \n",
       "4 -71.107437     603   Member      1990     Male   New  "
      ]
     },
     "execution_count": 98,
     "metadata": {},
     "output_type": "execute_result"
    }
   ],
   "source": [
    "new_df.head()"
   ]
  },
  {
   "cell_type": "markdown",
   "metadata": {},
   "source": [
    "### Load Stations Data"
   ]
  },
  {
   "cell_type": "code",
   "execution_count": 6,
   "metadata": {
    "collapsed": true
   },
   "outputs": [],
   "source": [
    "station_info_path = '/home/cneiderer/Metis/boston_bike_data/station_data'\n",
    "stations1_file = 'Hubway_Stations_2011_2016.csv'\n",
    "stations2_file = 'Hubway_Stations_as_of_July_2017.csv'"
   ]
  },
  {
   "cell_type": "code",
   "execution_count": 7,
   "metadata": {
    "collapsed": true
   },
   "outputs": [],
   "source": [
    "stations1_df = pd.read_csv(os.path.join(station_info_path, stations1_file))\n",
    "stations2_df = pd.read_csv(os.path.join(station_info_path, stations2_file))"
   ]
  },
  {
   "cell_type": "code",
   "execution_count": 8,
   "metadata": {},
   "outputs": [
    {
     "data": {
      "text/html": [
       "<div>\n",
       "<style scoped>\n",
       "    .dataframe tbody tr th:only-of-type {\n",
       "        vertical-align: middle;\n",
       "    }\n",
       "\n",
       "    .dataframe tbody tr th {\n",
       "        vertical-align: top;\n",
       "    }\n",
       "\n",
       "    .dataframe thead th {\n",
       "        text-align: right;\n",
       "    }\n",
       "</style>\n",
       "<table border=\"1\" class=\"dataframe\">\n",
       "  <thead>\n",
       "    <tr style=\"text-align: right;\">\n",
       "      <th></th>\n",
       "      <th>StationID</th>\n",
       "      <th>StationName</th>\n",
       "      <th>Lat</th>\n",
       "      <th>Lon</th>\n",
       "      <th>City</th>\n",
       "      <th>NumDocks</th>\n",
       "    </tr>\n",
       "  </thead>\n",
       "  <tbody>\n",
       "    <tr>\n",
       "      <th>0</th>\n",
       "      <td>A32000</td>\n",
       "      <td>Fan Pier</td>\n",
       "      <td>42.353287</td>\n",
       "      <td>-71.044389</td>\n",
       "      <td>Boston</td>\n",
       "      <td>15</td>\n",
       "    </tr>\n",
       "    <tr>\n",
       "      <th>1</th>\n",
       "      <td>A32001</td>\n",
       "      <td>Union Square - Brighton Ave. at Cambridge St.</td>\n",
       "      <td>42.353334</td>\n",
       "      <td>-71.137313</td>\n",
       "      <td>Boston</td>\n",
       "      <td>15</td>\n",
       "    </tr>\n",
       "    <tr>\n",
       "      <th>2</th>\n",
       "      <td>A32002</td>\n",
       "      <td>Agganis Arena - 925 Comm Ave.</td>\n",
       "      <td>42.351246</td>\n",
       "      <td>-71.115639</td>\n",
       "      <td>Boston</td>\n",
       "      <td>19</td>\n",
       "    </tr>\n",
       "    <tr>\n",
       "      <th>3</th>\n",
       "      <td>A32003</td>\n",
       "      <td>B.U. Central - 725 Comm. Ave.</td>\n",
       "      <td>42.350406</td>\n",
       "      <td>-71.108279</td>\n",
       "      <td>Boston</td>\n",
       "      <td>11</td>\n",
       "    </tr>\n",
       "    <tr>\n",
       "      <th>4</th>\n",
       "      <td>A32004</td>\n",
       "      <td>Longwood Ave / Binney St</td>\n",
       "      <td>42.338629</td>\n",
       "      <td>-71.106500</td>\n",
       "      <td>Boston</td>\n",
       "      <td>15</td>\n",
       "    </tr>\n",
       "  </tbody>\n",
       "</table>\n",
       "</div>"
      ],
      "text/plain": [
       "  StationID                                    StationName        Lat  \\\n",
       "0    A32000                                       Fan Pier  42.353287   \n",
       "1    A32001  Union Square - Brighton Ave. at Cambridge St.  42.353334   \n",
       "2    A32002                  Agganis Arena - 925 Comm Ave.  42.351246   \n",
       "3    A32003                  B.U. Central - 725 Comm. Ave.  42.350406   \n",
       "4    A32004                       Longwood Ave / Binney St  42.338629   \n",
       "\n",
       "         Lon    City  NumDocks  \n",
       "0 -71.044389  Boston        15  \n",
       "1 -71.137313  Boston        15  \n",
       "2 -71.115639  Boston        19  \n",
       "3 -71.108279  Boston        11  \n",
       "4 -71.106500  Boston        15  "
      ]
     },
     "execution_count": 8,
     "metadata": {},
     "output_type": "execute_result"
    }
   ],
   "source": [
    "stations1_df = stations1_df[stations2_df.columns]\n",
    "stations1_df.columns = ['StationID', 'StationName', 'Lat', 'Lon', 'City', 'NumDocks']\n",
    "stations1_df = stations1_df.sort_values('StationID', axis=0)\n",
    "stations1_df.head()"
   ]
  },
  {
   "cell_type": "code",
   "execution_count": 9,
   "metadata": {
    "scrolled": false
   },
   "outputs": [
    {
     "data": {
      "text/html": [
       "<div>\n",
       "<style scoped>\n",
       "    .dataframe tbody tr th:only-of-type {\n",
       "        vertical-align: middle;\n",
       "    }\n",
       "\n",
       "    .dataframe tbody tr th {\n",
       "        vertical-align: top;\n",
       "    }\n",
       "\n",
       "    .dataframe thead th {\n",
       "        text-align: right;\n",
       "    }\n",
       "</style>\n",
       "<table border=\"1\" class=\"dataframe\">\n",
       "  <thead>\n",
       "    <tr style=\"text-align: right;\">\n",
       "      <th></th>\n",
       "      <th>StationID</th>\n",
       "      <th>StationName</th>\n",
       "      <th>Lat</th>\n",
       "      <th>Lon</th>\n",
       "      <th>City</th>\n",
       "      <th>NumDocks</th>\n",
       "    </tr>\n",
       "  </thead>\n",
       "  <tbody>\n",
       "    <tr>\n",
       "      <th>3</th>\n",
       "      <td>A32000</td>\n",
       "      <td>Fan Pier</td>\n",
       "      <td>42.353287</td>\n",
       "      <td>-71.044389</td>\n",
       "      <td>Boston</td>\n",
       "      <td>15</td>\n",
       "    </tr>\n",
       "    <tr>\n",
       "      <th>4</th>\n",
       "      <td>A32001</td>\n",
       "      <td>Union Square - Brighton Ave at Cambridge St</td>\n",
       "      <td>42.353334</td>\n",
       "      <td>-71.137313</td>\n",
       "      <td>Boston</td>\n",
       "      <td>15</td>\n",
       "    </tr>\n",
       "    <tr>\n",
       "      <th>5</th>\n",
       "      <td>A32002</td>\n",
       "      <td>Commonwealth Ave at Buick St</td>\n",
       "      <td>42.351246</td>\n",
       "      <td>-71.115639</td>\n",
       "      <td>Boston</td>\n",
       "      <td>19</td>\n",
       "    </tr>\n",
       "    <tr>\n",
       "      <th>6</th>\n",
       "      <td>A32003</td>\n",
       "      <td>B.U. Central - 725 Comm. Ave.</td>\n",
       "      <td>42.350406</td>\n",
       "      <td>-71.108279</td>\n",
       "      <td>Boston</td>\n",
       "      <td>11</td>\n",
       "    </tr>\n",
       "    <tr>\n",
       "      <th>7</th>\n",
       "      <td>A32004</td>\n",
       "      <td>Longwood Ave at Binney St</td>\n",
       "      <td>42.338629</td>\n",
       "      <td>-71.106500</td>\n",
       "      <td>Boston</td>\n",
       "      <td>15</td>\n",
       "    </tr>\n",
       "  </tbody>\n",
       "</table>\n",
       "</div>"
      ],
      "text/plain": [
       "  StationID                                  StationName        Lat  \\\n",
       "3    A32000                                     Fan Pier  42.353287   \n",
       "4    A32001  Union Square - Brighton Ave at Cambridge St  42.353334   \n",
       "5    A32002                 Commonwealth Ave at Buick St  42.351246   \n",
       "6    A32003                B.U. Central - 725 Comm. Ave.  42.350406   \n",
       "7    A32004                    Longwood Ave at Binney St  42.338629   \n",
       "\n",
       "         Lon    City  NumDocks  \n",
       "3 -71.044389  Boston        15  \n",
       "4 -71.137313  Boston        15  \n",
       "5 -71.115639  Boston        19  \n",
       "6 -71.108279  Boston        11  \n",
       "7 -71.106500  Boston        15  "
      ]
     },
     "execution_count": 9,
     "metadata": {},
     "output_type": "execute_result"
    }
   ],
   "source": [
    "stations2_df = stations2_df.sort_values('Station ID', axis=0)\n",
    "stations2_df.columns = ['StationID', 'StationName', 'Lat', 'Lon', 'City', 'NumDocks']\n",
    "stations2_df = stations2_df.sort_values('StationID', axis=0)\n",
    "stations2_df.head()"
   ]
  },
  {
   "cell_type": "markdown",
   "metadata": {},
   "source": [
    "### Combine Stations Data"
   ]
  },
  {
   "cell_type": "code",
   "execution_count": 85,
   "metadata": {
    "collapsed": true
   },
   "outputs": [],
   "source": [
    "# Combine station data into single DF\n",
    "stations_df = pd.concat([stations1_df, stations2_df], axis=0)\n",
    "# Remove duplicate rows\n",
    "stations_df = stations_df[~stations_df.duplicated()]\n",
    "\n",
    "# Compile all the names used to refer to each station ID\n",
    "station_name_map = {}\n",
    "for sid in set(stations_df.StationID):\n",
    "    station_name_map[sid] = list(set(stations_df[stations_df.StationID == sid].StationName))\n",
    "    \n",
    "    # Designate a single name to be used to refer to each station ID\n",
    "station_names = {}\n",
    "for key, val in station_name_map.items():\n",
    "    if len(val) > 1:\n",
    "        val = val[1]\n",
    "    else:\n",
    "        val = val[0]\n",
    "    station_names[key] = val\n",
    "# Convert to dataframe    \n",
    "station_names = pd.DataFrame.from_dict(d, 'index').reset_index()    \n",
    "station_names.columns = ['StationID', 'StationName']\n",
    "# Merge designated names back into combined stations DF\n",
    "stations_df = station_names.merge(stations_df[['StationID', 'Lat', 'Lon', 'City', 'NumDocks']], on='StationID', how='left')\n",
    "stations_df = stations_df[~stations_df.duplicated()].reset_index(drop=True)"
   ]
  },
  {
   "cell_type": "code",
   "execution_count": 87,
   "metadata": {
    "scrolled": false
   },
   "outputs": [
    {
     "data": {
      "text/html": [
       "<div>\n",
       "<style scoped>\n",
       "    .dataframe tbody tr th:only-of-type {\n",
       "        vertical-align: middle;\n",
       "    }\n",
       "\n",
       "    .dataframe tbody tr th {\n",
       "        vertical-align: top;\n",
       "    }\n",
       "\n",
       "    .dataframe thead th {\n",
       "        text-align: right;\n",
       "    }\n",
       "</style>\n",
       "<table border=\"1\" class=\"dataframe\">\n",
       "  <thead>\n",
       "    <tr style=\"text-align: right;\">\n",
       "      <th></th>\n",
       "      <th>StationID</th>\n",
       "      <th>StationName</th>\n",
       "      <th>Lat</th>\n",
       "      <th>Lon</th>\n",
       "      <th>City</th>\n",
       "      <th>NumDocks</th>\n",
       "    </tr>\n",
       "  </thead>\n",
       "  <tbody>\n",
       "    <tr>\n",
       "      <th>0</th>\n",
       "      <td>S32009</td>\n",
       "      <td>Packard Ave / Powderhouse Blvd</td>\n",
       "      <td>42.404490</td>\n",
       "      <td>-71.123413</td>\n",
       "      <td>Somerville</td>\n",
       "      <td>15</td>\n",
       "    </tr>\n",
       "    <tr>\n",
       "      <th>1</th>\n",
       "      <td>M32007</td>\n",
       "      <td>Cambridge St - at Columbia St / Webster Ave</td>\n",
       "      <td>42.372969</td>\n",
       "      <td>-71.094445</td>\n",
       "      <td>Cambridge</td>\n",
       "      <td>15</td>\n",
       "    </tr>\n",
       "    <tr>\n",
       "      <th>2</th>\n",
       "      <td>A32029</td>\n",
       "      <td>Piers Park</td>\n",
       "      <td>42.364890</td>\n",
       "      <td>-71.035042</td>\n",
       "      <td>Boston</td>\n",
       "      <td>19</td>\n",
       "    </tr>\n",
       "    <tr>\n",
       "      <th>3</th>\n",
       "      <td>D32003</td>\n",
       "      <td>TD Garden - Causeway at Portal Park #2</td>\n",
       "      <td>42.366222</td>\n",
       "      <td>-71.059914</td>\n",
       "      <td>Boston</td>\n",
       "      <td>27</td>\n",
       "    </tr>\n",
       "    <tr>\n",
       "      <th>4</th>\n",
       "      <td>M32048</td>\n",
       "      <td>Third at Binney</td>\n",
       "      <td>42.365445</td>\n",
       "      <td>-71.082771</td>\n",
       "      <td>Cambridge</td>\n",
       "      <td>15</td>\n",
       "    </tr>\n",
       "  </tbody>\n",
       "</table>\n",
       "</div>"
      ],
      "text/plain": [
       "  StationID                                  StationName        Lat  \\\n",
       "0    S32009               Packard Ave / Powderhouse Blvd  42.404490   \n",
       "1    M32007  Cambridge St - at Columbia St / Webster Ave  42.372969   \n",
       "2    A32029                                   Piers Park  42.364890   \n",
       "3    D32003       TD Garden - Causeway at Portal Park #2  42.366222   \n",
       "4    M32048                              Third at Binney  42.365445   \n",
       "\n",
       "         Lon        City  NumDocks  \n",
       "0 -71.123413  Somerville        15  \n",
       "1 -71.094445   Cambridge        15  \n",
       "2 -71.035042      Boston        19  \n",
       "3 -71.059914      Boston        27  \n",
       "4 -71.082771   Cambridge        15  "
      ]
     },
     "execution_count": 87,
     "metadata": {},
     "output_type": "execute_result"
    }
   ],
   "source": [
    "stations_df.head()"
   ]
  },
  {
   "cell_type": "code",
   "execution_count": 127,
   "metadata": {
    "code_folding": [],
    "scrolled": false
   },
   "outputs": [
    {
     "data": {
      "text/html": [
       "<iframe id=\"igraph\" scrolling=\"no\" style=\"border:none;\" seamless=\"seamless\" src=\"https://plot.ly/~cneiderer/90.embed\" height=\"800px\" width=\"1200px\"></iframe>"
      ],
      "text/plain": [
       "<plotly.tools.PlotlyDisplay object>"
      ]
     },
     "execution_count": 127,
     "metadata": {},
     "output_type": "execute_result"
    }
   ],
   "source": [
    "# Plot bike stations on interactive map\n",
    "credentials = json.load(open('/home/cneiderer/.mapbox/.credentials'))\n",
    "mapbox_access_token = credentials['public_token']\n",
    "\n",
    "data = Data([\n",
    "    Scattermapbox(\n",
    "        lat=stations_df.Lat,\n",
    "        lon=stations_df.Lon,\n",
    "        mode='markers',\n",
    "        marker=Marker(\n",
    "            color='red',\n",
    "            size=10,\n",
    "            opacity=0.7\n",
    "        ),\n",
    "        text=stations_df.StationName,\n",
    "    )    \n",
    "])\n",
    "layout = Layout(\n",
    "    autosize=True,\n",
    "    hovermode='closest',\n",
    "    width=1200,\n",
    "    height=800,\n",
    "    margin=Margin(\n",
    "        l=25,\n",
    "        r=25,\n",
    "        b=25,\n",
    "        t=25,\n",
    "        pad=4\n",
    "    ),\n",
    "    mapbox=dict(\n",
    "        accesstoken=mapbox_access_token,\n",
    "        bearing=0,\n",
    "        center=dict(\n",
    "            lat=42.361769, \n",
    "            lon=-71.078249 #-71.0589\n",
    "        ),\n",
    "        pitch=0,\n",
    "        zoom=11.5\n",
    "    ),\n",
    ")\n",
    "\n",
    "fig = dict(data=data, layout=layout)\n",
    "py.iplot(fig, filename='Multiple Mapbox')"
   ]
  },
  {
   "cell_type": "markdown",
   "metadata": {},
   "source": [
    "### Merge Lat, Lon, City into Old Data"
   ]
  },
  {
   "cell_type": "code",
   "execution_count": 99,
   "metadata": {},
   "outputs": [
    {
     "data": {
      "text/html": [
       "<div>\n",
       "<style scoped>\n",
       "    .dataframe tbody tr th:only-of-type {\n",
       "        vertical-align: middle;\n",
       "    }\n",
       "\n",
       "    .dataframe tbody tr th {\n",
       "        vertical-align: top;\n",
       "    }\n",
       "\n",
       "    .dataframe thead th {\n",
       "        text-align: right;\n",
       "    }\n",
       "</style>\n",
       "<table border=\"1\" class=\"dataframe\">\n",
       "  <thead>\n",
       "    <tr style=\"text-align: right;\">\n",
       "      <th></th>\n",
       "      <th>Duration</th>\n",
       "      <th>StartTime</th>\n",
       "      <th>StopTime</th>\n",
       "      <th>StartID</th>\n",
       "      <th>StopID</th>\n",
       "      <th>StopName</th>\n",
       "      <th>BikeID</th>\n",
       "      <th>UserType</th>\n",
       "      <th>ZipCode</th>\n",
       "      <th>Gender</th>\n",
       "      <th>Epoch</th>\n",
       "      <th>StartName</th>\n",
       "      <th>StartLat</th>\n",
       "      <th>StartLon</th>\n",
       "      <th>City</th>\n",
       "      <th>NumDocks</th>\n",
       "    </tr>\n",
       "  </thead>\n",
       "  <tbody>\n",
       "    <tr>\n",
       "      <th>0</th>\n",
       "      <td>397</td>\n",
       "      <td>2014-12-31 23:58:00</td>\n",
       "      <td>2015-01-01 00:05:00</td>\n",
       "      <td>B32004</td>\n",
       "      <td>D32022</td>\n",
       "      <td>TD Garden - Causeway at Portal Park #1</td>\n",
       "      <td>T01335</td>\n",
       "      <td>Member</td>\n",
       "      <td>2148.0</td>\n",
       "      <td>Male</td>\n",
       "      <td>Old</td>\n",
       "      <td>Aquarium T Stop - 200 Atlantic Ave</td>\n",
       "      <td>42.359770</td>\n",
       "      <td>-71.051601</td>\n",
       "      <td>Boston</td>\n",
       "      <td>19.0</td>\n",
       "    </tr>\n",
       "    <tr>\n",
       "      <th>1</th>\n",
       "      <td>543</td>\n",
       "      <td>2014-12-31 23:51:00</td>\n",
       "      <td>2015-01-01 00:00:00</td>\n",
       "      <td>M32006</td>\n",
       "      <td>M32007</td>\n",
       "      <td>Cambridge St - at Columbia St / Webster Ave</td>\n",
       "      <td>T01426</td>\n",
       "      <td>Member</td>\n",
       "      <td>2143.0</td>\n",
       "      <td>Male</td>\n",
       "      <td>Old</td>\n",
       "      <td>MIT at Mass Ave / Amherst St</td>\n",
       "      <td>42.358100</td>\n",
       "      <td>-71.093198</td>\n",
       "      <td>Cambridge</td>\n",
       "      <td>27.0</td>\n",
       "    </tr>\n",
       "    <tr>\n",
       "      <th>2</th>\n",
       "      <td>928</td>\n",
       "      <td>2014-12-31 23:30:00</td>\n",
       "      <td>2014-12-31 23:46:00</td>\n",
       "      <td>D32005</td>\n",
       "      <td>A32008</td>\n",
       "      <td>Buswell St. at Park Dr.</td>\n",
       "      <td>B01570</td>\n",
       "      <td>Member</td>\n",
       "      <td>2215.0</td>\n",
       "      <td>Male</td>\n",
       "      <td>Old</td>\n",
       "      <td>Copley Square - Dartmouth St at Boylston St</td>\n",
       "      <td>42.349673</td>\n",
       "      <td>-71.077303</td>\n",
       "      <td>Boston</td>\n",
       "      <td>25.0</td>\n",
       "    </tr>\n",
       "    <tr>\n",
       "      <th>3</th>\n",
       "      <td>270</td>\n",
       "      <td>2014-12-31 23:26:00</td>\n",
       "      <td>2014-12-31 23:31:00</td>\n",
       "      <td>B32004</td>\n",
       "      <td>A32010</td>\n",
       "      <td>South Station - 700 Atlantic Ave.</td>\n",
       "      <td>T01205</td>\n",
       "      <td>Member</td>\n",
       "      <td>2043.0</td>\n",
       "      <td>Male</td>\n",
       "      <td>Old</td>\n",
       "      <td>Aquarium T Stop - 200 Atlantic Ave</td>\n",
       "      <td>42.359770</td>\n",
       "      <td>-71.051601</td>\n",
       "      <td>Boston</td>\n",
       "      <td>19.0</td>\n",
       "    </tr>\n",
       "    <tr>\n",
       "      <th>4</th>\n",
       "      <td>960</td>\n",
       "      <td>2014-12-31 23:07:00</td>\n",
       "      <td>2014-12-31 23:23:00</td>\n",
       "      <td>D32010</td>\n",
       "      <td>B32004</td>\n",
       "      <td>Aquarium Station - 200 Atlantic Ave.</td>\n",
       "      <td>T01306</td>\n",
       "      <td>Member</td>\n",
       "      <td>1945.0</td>\n",
       "      <td>Male</td>\n",
       "      <td>Old</td>\n",
       "      <td>Cross St at Hanover St</td>\n",
       "      <td>42.362811</td>\n",
       "      <td>-71.056067</td>\n",
       "      <td>Boston</td>\n",
       "      <td>18.0</td>\n",
       "    </tr>\n",
       "  </tbody>\n",
       "</table>\n",
       "</div>"
      ],
      "text/plain": [
       "   Duration           StartTime            StopTime StartID  StopID  \\\n",
       "0       397 2014-12-31 23:58:00 2015-01-01 00:05:00  B32004  D32022   \n",
       "1       543 2014-12-31 23:51:00 2015-01-01 00:00:00  M32006  M32007   \n",
       "2       928 2014-12-31 23:30:00 2014-12-31 23:46:00  D32005  A32008   \n",
       "3       270 2014-12-31 23:26:00 2014-12-31 23:31:00  B32004  A32010   \n",
       "4       960 2014-12-31 23:07:00 2014-12-31 23:23:00  D32010  B32004   \n",
       "\n",
       "                                      StopName  BikeID UserType  ZipCode  \\\n",
       "0       TD Garden - Causeway at Portal Park #1  T01335   Member   2148.0   \n",
       "1  Cambridge St - at Columbia St / Webster Ave  T01426   Member   2143.0   \n",
       "2                      Buswell St. at Park Dr.  B01570   Member   2215.0   \n",
       "3            South Station - 700 Atlantic Ave.  T01205   Member   2043.0   \n",
       "4         Aquarium Station - 200 Atlantic Ave.  T01306   Member   1945.0   \n",
       "\n",
       "  Gender Epoch                                    StartName   StartLat  \\\n",
       "0   Male   Old           Aquarium T Stop - 200 Atlantic Ave  42.359770   \n",
       "1   Male   Old                 MIT at Mass Ave / Amherst St  42.358100   \n",
       "2   Male   Old  Copley Square - Dartmouth St at Boylston St  42.349673   \n",
       "3   Male   Old           Aquarium T Stop - 200 Atlantic Ave  42.359770   \n",
       "4   Male   Old                       Cross St at Hanover St  42.362811   \n",
       "\n",
       "    StartLon       City  NumDocks  \n",
       "0 -71.051601     Boston      19.0  \n",
       "1 -71.093198  Cambridge      27.0  \n",
       "2 -71.077303     Boston      25.0  \n",
       "3 -71.051601     Boston      19.0  \n",
       "4 -71.056067     Boston      18.0  "
      ]
     },
     "execution_count": 99,
     "metadata": {},
     "output_type": "execute_result"
    }
   ],
   "source": [
    "# Map start station info\n",
    "old_df = old_df.merge(stations_df, how='left', left_on='StartID', right_on='StationID')\n",
    "old_df = old_df.drop(columns=['StartName', 'StationID'])\n",
    "old_df = old_df.rename(columns={'StationName': 'StartName', 'Lat': 'StartLat', 'Lon': 'StartLon'})\n",
    "old_df.head()"
   ]
  },
  {
   "cell_type": "code",
   "execution_count": null,
   "metadata": {
    "collapsed": true
   },
   "outputs": [],
   "source": [
    "# # Map stop station info\n",
    "# old_df = old_df.merge(stations_df, how='left', left_on='StopID', right_on='StationID', suffixes=('', 'Junk_'))\n",
    "# old_df = old_df.drop(columns=['StopName', 'StationID'])\n",
    "# old_df = old_df.rename(columns={'StationName': 'StopName', 'Lat': 'StopLat', 'Lon': 'StopLon'})\n",
    "# old_df.head()"
   ]
  },
  {
   "cell_type": "code",
   "execution_count": 126,
   "metadata": {},
   "outputs": [
    {
     "name": "stderr",
     "output_type": "stream",
     "text": [
      "/home/cneiderer/anaconda3/lib/python3.6/site-packages/ipykernel_launcher.py:17: FutureWarning:\n",
      "\n",
      "'.reindex_axis' is deprecated and will be removed in a future version. Use '.reindex' instead.\n",
      "\n"
     ]
    },
    {
     "data": {
      "text/html": [
       "<div>\n",
       "<style scoped>\n",
       "    .dataframe tbody tr th:only-of-type {\n",
       "        vertical-align: middle;\n",
       "    }\n",
       "\n",
       "    .dataframe tbody tr th {\n",
       "        vertical-align: top;\n",
       "    }\n",
       "\n",
       "    .dataframe thead th {\n",
       "        text-align: right;\n",
       "    }\n",
       "</style>\n",
       "<table border=\"1\" class=\"dataframe\">\n",
       "  <thead>\n",
       "    <tr style=\"text-align: right;\">\n",
       "      <th></th>\n",
       "      <th>BikeID</th>\n",
       "      <th>Duration</th>\n",
       "      <th>Epoch</th>\n",
       "      <th>Gender</th>\n",
       "      <th>StartCity</th>\n",
       "      <th>StartID</th>\n",
       "      <th>StartLat</th>\n",
       "      <th>StartLon</th>\n",
       "      <th>StartName</th>\n",
       "      <th>StartNumDocks</th>\n",
       "      <th>StartTime</th>\n",
       "      <th>StopCity</th>\n",
       "      <th>StopID</th>\n",
       "      <th>StopLat</th>\n",
       "      <th>StopLon</th>\n",
       "      <th>StopName</th>\n",
       "      <th>StopNumDocks</th>\n",
       "      <th>StopTime</th>\n",
       "      <th>UserType</th>\n",
       "      <th>ZipCode</th>\n",
       "    </tr>\n",
       "  </thead>\n",
       "  <tbody>\n",
       "    <tr>\n",
       "      <th>0</th>\n",
       "      <td>T01335</td>\n",
       "      <td>397</td>\n",
       "      <td>Old</td>\n",
       "      <td>Male</td>\n",
       "      <td>Boston</td>\n",
       "      <td>B32004</td>\n",
       "      <td>42.359770</td>\n",
       "      <td>-71.051601</td>\n",
       "      <td>Aquarium T Stop - 200 Atlantic Ave</td>\n",
       "      <td>19.0</td>\n",
       "      <td>2014-12-31 23:58:00</td>\n",
       "      <td>Boston</td>\n",
       "      <td>D32022</td>\n",
       "      <td>42.365885</td>\n",
       "      <td>-71.064548</td>\n",
       "      <td>TD Garden - West End Park (formerly TD Garden ...</td>\n",
       "      <td>34.0</td>\n",
       "      <td>2015-01-01 00:05:00</td>\n",
       "      <td>Member</td>\n",
       "      <td>2148.0</td>\n",
       "    </tr>\n",
       "    <tr>\n",
       "      <th>1</th>\n",
       "      <td>T01426</td>\n",
       "      <td>543</td>\n",
       "      <td>Old</td>\n",
       "      <td>Male</td>\n",
       "      <td>Cambridge</td>\n",
       "      <td>M32006</td>\n",
       "      <td>42.358100</td>\n",
       "      <td>-71.093198</td>\n",
       "      <td>MIT at Mass Ave / Amherst St</td>\n",
       "      <td>27.0</td>\n",
       "      <td>2014-12-31 23:51:00</td>\n",
       "      <td>Cambridge</td>\n",
       "      <td>M32007</td>\n",
       "      <td>42.372969</td>\n",
       "      <td>-71.094445</td>\n",
       "      <td>Cambridge St - at Columbia St / Webster Ave</td>\n",
       "      <td>15.0</td>\n",
       "      <td>2015-01-01 00:00:00</td>\n",
       "      <td>Member</td>\n",
       "      <td>2143.0</td>\n",
       "    </tr>\n",
       "    <tr>\n",
       "      <th>2</th>\n",
       "      <td>B01570</td>\n",
       "      <td>928</td>\n",
       "      <td>Old</td>\n",
       "      <td>Male</td>\n",
       "      <td>Boston</td>\n",
       "      <td>D32005</td>\n",
       "      <td>42.349673</td>\n",
       "      <td>-71.077303</td>\n",
       "      <td>Copley Square - Dartmouth St at Boylston St</td>\n",
       "      <td>25.0</td>\n",
       "      <td>2014-12-31 23:30:00</td>\n",
       "      <td>Boston</td>\n",
       "      <td>A32008</td>\n",
       "      <td>42.347241</td>\n",
       "      <td>-71.105301</td>\n",
       "      <td>Park Dr at Buswell St</td>\n",
       "      <td>15.0</td>\n",
       "      <td>2014-12-31 23:46:00</td>\n",
       "      <td>Member</td>\n",
       "      <td>2215.0</td>\n",
       "    </tr>\n",
       "    <tr>\n",
       "      <th>3</th>\n",
       "      <td>T01205</td>\n",
       "      <td>270</td>\n",
       "      <td>Old</td>\n",
       "      <td>Male</td>\n",
       "      <td>Boston</td>\n",
       "      <td>B32004</td>\n",
       "      <td>42.359770</td>\n",
       "      <td>-71.051601</td>\n",
       "      <td>Aquarium T Stop - 200 Atlantic Ave</td>\n",
       "      <td>19.0</td>\n",
       "      <td>2014-12-31 23:26:00</td>\n",
       "      <td>Boston</td>\n",
       "      <td>A32010</td>\n",
       "      <td>42.352175</td>\n",
       "      <td>-71.055547</td>\n",
       "      <td>South Station - 700 Atlantic Ave</td>\n",
       "      <td>46.0</td>\n",
       "      <td>2014-12-31 23:31:00</td>\n",
       "      <td>Member</td>\n",
       "      <td>2043.0</td>\n",
       "    </tr>\n",
       "    <tr>\n",
       "      <th>4</th>\n",
       "      <td>T01306</td>\n",
       "      <td>960</td>\n",
       "      <td>Old</td>\n",
       "      <td>Male</td>\n",
       "      <td>Boston</td>\n",
       "      <td>D32010</td>\n",
       "      <td>42.362811</td>\n",
       "      <td>-71.056067</td>\n",
       "      <td>Cross St at Hanover St</td>\n",
       "      <td>18.0</td>\n",
       "      <td>2014-12-31 23:07:00</td>\n",
       "      <td>Boston</td>\n",
       "      <td>B32004</td>\n",
       "      <td>42.359770</td>\n",
       "      <td>-71.051601</td>\n",
       "      <td>Aquarium T Stop - 200 Atlantic Ave</td>\n",
       "      <td>19.0</td>\n",
       "      <td>2014-12-31 23:23:00</td>\n",
       "      <td>Member</td>\n",
       "      <td>1945.0</td>\n",
       "    </tr>\n",
       "  </tbody>\n",
       "</table>\n",
       "</div>"
      ],
      "text/plain": [
       "   BikeID  Duration Epoch Gender  StartCity StartID   StartLat   StartLon  \\\n",
       "0  T01335       397   Old   Male     Boston  B32004  42.359770 -71.051601   \n",
       "1  T01426       543   Old   Male  Cambridge  M32006  42.358100 -71.093198   \n",
       "2  B01570       928   Old   Male     Boston  D32005  42.349673 -71.077303   \n",
       "3  T01205       270   Old   Male     Boston  B32004  42.359770 -71.051601   \n",
       "4  T01306       960   Old   Male     Boston  D32010  42.362811 -71.056067   \n",
       "\n",
       "                                     StartName  StartNumDocks  \\\n",
       "0           Aquarium T Stop - 200 Atlantic Ave           19.0   \n",
       "1                 MIT at Mass Ave / Amherst St           27.0   \n",
       "2  Copley Square - Dartmouth St at Boylston St           25.0   \n",
       "3           Aquarium T Stop - 200 Atlantic Ave           19.0   \n",
       "4                       Cross St at Hanover St           18.0   \n",
       "\n",
       "            StartTime   StopCity  StopID    StopLat    StopLon  \\\n",
       "0 2014-12-31 23:58:00     Boston  D32022  42.365885 -71.064548   \n",
       "1 2014-12-31 23:51:00  Cambridge  M32007  42.372969 -71.094445   \n",
       "2 2014-12-31 23:30:00     Boston  A32008  42.347241 -71.105301   \n",
       "3 2014-12-31 23:26:00     Boston  A32010  42.352175 -71.055547   \n",
       "4 2014-12-31 23:07:00     Boston  B32004  42.359770 -71.051601   \n",
       "\n",
       "                                            StopName  StopNumDocks  \\\n",
       "0  TD Garden - West End Park (formerly TD Garden ...          34.0   \n",
       "1        Cambridge St - at Columbia St / Webster Ave          15.0   \n",
       "2                              Park Dr at Buswell St          15.0   \n",
       "3                   South Station - 700 Atlantic Ave          46.0   \n",
       "4                 Aquarium T Stop - 200 Atlantic Ave          19.0   \n",
       "\n",
       "             StopTime UserType  ZipCode  \n",
       "0 2015-01-01 00:05:00   Member   2148.0  \n",
       "1 2015-01-01 00:00:00   Member   2143.0  \n",
       "2 2014-12-31 23:46:00   Member   2215.0  \n",
       "3 2014-12-31 23:31:00   Member   2043.0  \n",
       "4 2014-12-31 23:23:00   Member   1945.0  "
      ]
     },
     "execution_count": 126,
     "metadata": {},
     "output_type": "execute_result"
    }
   ],
   "source": [
    "def map_station_info_to_old_data(data_df, stations_df, loc):\n",
    "    data_df = data_df.merge(stations_df, how='left', left_on=loc+'ID', right_on='StationID', suffixes=('', '_Junk'))\n",
    "    for col in data_df.columns:\n",
    "        if col[-5:] == '_Junk':\n",
    "            data_df.drop(columns=col)\n",
    "    data_df = data_df.drop(columns=[loc+'Name', 'StationID'])\n",
    "    rename_map = {'StationName': loc+'Name', \n",
    "                  'City': loc+'City',\n",
    "                  'Lat': loc+'Lat', \n",
    "                  'Lon': loc+'Lon', \n",
    "                  'NumDocks': loc+'NumDocks'}\n",
    "    data_df = data_df.rename(columns=rename_map)\n",
    "    return data_df\n",
    "\n",
    "old_df = map_station_info_to_old_data(old_df, stations_df, 'Start')\n",
    "old_df = map_station_info_to_old_data(old_df, stations_df, 'Stop')\n",
    "old_df = old_df.reindex(sorted(old_df.columns), axis=1)\n",
    "\n",
    "old_df.head()"
   ]
  },
  {
   "cell_type": "markdown",
   "metadata": {},
   "source": [
    "### Trip Info"
   ]
  },
  {
   "cell_type": "code",
   "execution_count": null,
   "metadata": {},
   "outputs": [],
   "source": [
    "new_df.head()"
   ]
  },
  {
   "cell_type": "code",
   "execution_count": null,
   "metadata": {
    "collapsed": true
   },
   "outputs": [],
   "source": [
    "start_df = new_df[['StartID', 'StartName', 'StartLat', 'StartLon']]\n",
    "start_df = start_df[~start_df.duplicated()]"
   ]
  },
  {
   "cell_type": "code",
   "execution_count": null,
   "metadata": {
    "collapsed": true
   },
   "outputs": [],
   "source": [
    "stop_df = new_df[['StopID', 'StopName', 'StopLat', 'StopLon']]\n",
    "stop_df = stop_df[~stop_df.duplicated()]"
   ]
  },
  {
   "cell_type": "code",
   "execution_count": null,
   "metadata": {},
   "outputs": [],
   "source": [
    "df = pd.DataFrame(np.concatenate([start_df.as_matrix(), stop_df.as_matrix()], axis=0), \n",
    "                  columns=['StationID', 'StationName', 'Lat', 'Lon'])\n",
    "df = df[~df.duplicated()]\n",
    "df = df.sort_values('StationID', axis=0)\n",
    "df = df.reset_index(drop=True)\n",
    "df.head()"
   ]
  },
  {
   "cell_type": "code",
   "execution_count": null,
   "metadata": {},
   "outputs": [],
   "source": [
    "df[(df == 0).any(axis=1)]"
   ]
  },
  {
   "cell_type": "code",
   "execution_count": null,
   "metadata": {
    "collapsed": true,
    "scrolled": true
   },
   "outputs": [],
   "source": [
    "# Station mapping\n",
    "station_map = {}\n",
    "for sid in set(df.StationID):\n",
    "    station_map[sid] = set(df[df.StationID == sid].StationName) "
   ]
  },
  {
   "cell_type": "code",
   "execution_count": null,
   "metadata": {},
   "outputs": [],
   "source": [
    "station_map"
   ]
  },
  {
   "cell_type": "code",
   "execution_count": null,
   "metadata": {
    "collapsed": true
   },
   "outputs": [],
   "source": [
    "# Find similarity of station naming\n",
    "similarity = []\n",
    "for key1, val1 in stations.items():\n",
    "    for key2, val2 in station_map.items():\n",
    "        item1 = list(val1)[0]\n",
    "        for item2 in val2:\n",
    "            similarity.append([key1, str(key2), item1, item2, \n",
    "                               fuzz.partial_ratio(str(item1), str(item2)),\n",
    "                               fuzz.partial_token_sort_ratio(str(item1), str(item2)),\n",
    "                               fuzz.partial_token_set_ratio(str(item1), str(item2))])        "
   ]
  },
  {
   "cell_type": "code",
   "execution_count": null,
   "metadata": {
    "scrolled": true
   },
   "outputs": [],
   "source": [
    "# Convert similarity calculations to df\n",
    "mapping_df = pd.DataFrame(similarity, columns=['StationID1', 'StationID2', \n",
    "                                               'StationName1', 'StationName2', \n",
    "                                               'PartialSimilarity', 'PartialTokenSort', 'PartialTokenSet'])\n",
    "mapping_df"
   ]
  },
  {
   "cell_type": "code",
   "execution_count": null,
   "metadata": {},
   "outputs": [],
   "source": [
    "mapping_df.info()"
   ]
  },
  {
   "cell_type": "code",
   "execution_count": null,
   "metadata": {
    "collapsed": true
   },
   "outputs": [],
   "source": [
    "# Find maximum similarity match\n",
    "mapping1 = pd.DataFrame()\n",
    "mapping2 = pd.DataFrame()\n",
    "mapping3 = pd.DataFrame()\n",
    "for ID in set(mapping_df.StationID1):\n",
    "    tmp = mapping_df[mapping_df.StationID1 == ID]\n",
    "    mapping1 = pd.concat([mapping1, pd.DataFrame(tmp.iloc[tmp['PartialSimilarity'].values.argmax(), :]).T], axis=0)\n",
    "    mapping2 = pd.concat([mapping2, pd.DataFrame(tmp.iloc[tmp['PartialTokenSort'].values.argmax(), :]).T], axis=0)\n",
    "    mapping3 = pd.concat([mapping3, pd.DataFrame(tmp.iloc[tmp['PartialTokenSet'].values.argmax(), :]).T], axis=0)"
   ]
  },
  {
   "cell_type": "code",
   "execution_count": null,
   "metadata": {
    "scrolled": true
   },
   "outputs": [],
   "source": [
    "mapping1"
   ]
  },
  {
   "cell_type": "code",
   "execution_count": null,
   "metadata": {},
   "outputs": [],
   "source": [
    "# Spot check any similarity scores below 100\n",
    "mapping1[mapping1.PartialSimilarity < 100]"
   ]
  },
  {
   "cell_type": "code",
   "execution_count": null,
   "metadata": {
    "collapsed": true
   },
   "outputs": [],
   "source": [
    "mapping1 = mapping1.reset_index(drop=True).sort_values('StationID1')"
   ]
  },
  {
   "cell_type": "code",
   "execution_count": null,
   "metadata": {
    "scrolled": true
   },
   "outputs": [],
   "source": [
    "mapping1"
   ]
  },
  {
   "cell_type": "markdown",
   "metadata": {},
   "source": [
    "#### Map Station Info to Trip Data"
   ]
  },
  {
   "cell_type": "code",
   "execution_count": null,
   "metadata": {
    "collapsed": true
   },
   "outputs": [],
   "source": [
    "# Map alpha-numeric ID to starting station\n",
    "mapping1.StationID2 = mapping1.StationID2.astype(int)\n",
    "tmp_df = new_df.merge(mapping1[['StationID1', 'StationID2']], how='left', left_on='StartID', right_on='StationID2')\n",
    "tmp_df = tmp_df.rename(columns={'StartID': 'StartNum', 'StationID1': 'StartID'})\n",
    "tmp_df = tmp_df.drop(columns='StationID2')\n",
    "# Map alpha-numeric ID to stopping station\n",
    "tmp_df = tmp_df.merge(mapping1[['StationID1', 'StationID2']], how='left', left_on='StopID', right_on='StationID2')\n",
    "tmp_df = tmp_df.rename(columns={'StopID': 'StopNum', 'StationID1': 'StopID'})\n",
    "tmp_df = tmp_df.drop(columns=['StationID2', 'StartNum', 'StopNum'])\n",
    "# Map start city\n",
    "tmp_df = tmp_df.merge(stations2_df[['StationID', 'City', 'NumDocks']], how='left', left_on='StartID', right_on='StationID')\n",
    "tmp_df = tmp_df.rename(columns={'City': 'StartCity'})\n",
    "tmp_df = tmp_df.drop(columns=['StationID'])\n",
    "# Map stop city\n",
    "tmp_df = tmp_df.merge(stations2_df[['StationID', 'City']], how='left', left_on='StopID', right_on='StationID')\n",
    "tmp_df = tmp_df.rename(columns={'City': 'StopCity'})\n",
    "tmp_df = tmp_df.drop(columns=['StationID'])"
   ]
  },
  {
   "cell_type": "code",
   "execution_count": null,
   "metadata": {},
   "outputs": [],
   "source": [
    "tmp_df = tmp_df[sorted(tmp_df.columns)]\n",
    "tmp_df.head()"
   ]
  },
  {
   "cell_type": "code",
   "execution_count": null,
   "metadata": {},
   "outputs": [],
   "source": [
    "tmp_df.shape"
   ]
  },
  {
   "cell_type": "code",
   "execution_count": null,
   "metadata": {
    "collapsed": true
   },
   "outputs": [],
   "source": [
    "# Save new df\n",
    "with open('new_mapped.pkl', 'wb') as f:\n",
    "    pickle.dump(tmp_df, f)"
   ]
  },
  {
   "cell_type": "code",
   "execution_count": null,
   "metadata": {
    "collapsed": true
   },
   "outputs": [],
   "source": [
    "# Map Start Lat, Lon, and City\n",
    "tmp2_df = old_df.merge(stations2_df[['StationID', 'Lat', 'Lon', 'City', 'NumDocks']], how='left', left_on='StartID', right_on='StationID')\n",
    "tmp2_df = tmp2_df.rename(columns={'Lat': 'StartLat', 'Lon': 'StartLon', 'City': 'StartCity'})\n",
    "tmp2_df = tmp2_df.drop(columns=['StationID'])\n",
    "# Map Stop Lat, Lon, and City\n",
    "tmp2_df = tmp2_df.merge(stations2_df[['StationID', 'Lat', 'Lon', 'City']], how='left', left_on='StopID', right_on='StationID')\n",
    "tmp2_df = tmp2_df.rename(columns={'Lat': 'StopLat', 'Lon': 'StopLon', 'City': 'StopCity'})\n",
    "tmp2_df = tmp2_df.drop(columns=['StationID'])"
   ]
  },
  {
   "cell_type": "code",
   "execution_count": null,
   "metadata": {},
   "outputs": [],
   "source": [
    "tmp_df2 = tmp2_df[sorted(tmp2_df.columns)]\n",
    "tmp_df2.head()"
   ]
  },
  {
   "cell_type": "code",
   "execution_count": null,
   "metadata": {},
   "outputs": [],
   "source": [
    "tmp2_df.shape"
   ]
  },
  {
   "cell_type": "code",
   "execution_count": null,
   "metadata": {
    "collapsed": true
   },
   "outputs": [],
   "source": [
    "# Save old df\n",
    "with open('old_mapped.pkl', 'wb') as f:\n",
    "    pickle.dump(tmp2_df, f)"
   ]
  },
  {
   "cell_type": "markdown",
   "metadata": {},
   "source": [
    "#### Combine Old Data with New Data"
   ]
  },
  {
   "cell_type": "code",
   "execution_count": null,
   "metadata": {},
   "outputs": [],
   "source": [
    "set(tmp_df.columns).symmetric_difference(set(tmp2_df.columns))"
   ]
  },
  {
   "cell_type": "code",
   "execution_count": null,
   "metadata": {
    "collapsed": true
   },
   "outputs": [],
   "source": [
    "combo = pd.concat([tmp_df, tmp2_df], axis=0)\n",
    "combo = combo.drop(columns=['UserType', 'ZipCode'])"
   ]
  },
  {
   "cell_type": "code",
   "execution_count": null,
   "metadata": {
    "scrolled": false
   },
   "outputs": [],
   "source": [
    "combo.head()"
   ]
  },
  {
   "cell_type": "code",
   "execution_count": null,
   "metadata": {
    "collapsed": true
   },
   "outputs": [],
   "source": [
    "# Save combo df\n",
    "with open('combo.pkl', 'wb') as f:\n",
    "    pickle.dump(combo, f)"
   ]
  },
  {
   "cell_type": "code",
   "execution_count": null,
   "metadata": {
    "collapsed": true
   },
   "outputs": [],
   "source": []
  }
 ],
 "metadata": {
  "kernelspec": {
   "display_name": "Python 3",
   "language": "python",
   "name": "python3"
  },
  "language_info": {
   "codemirror_mode": {
    "name": "ipython",
    "version": 3
   },
   "file_extension": ".py",
   "mimetype": "text/x-python",
   "name": "python",
   "nbconvert_exporter": "python",
   "pygments_lexer": "ipython3",
   "version": "3.6.4"
  },
  "varInspector": {
   "cols": {
    "lenName": 16,
    "lenType": 16,
    "lenVar": 40
   },
   "kernels_config": {
    "python": {
     "delete_cmd_postfix": "",
     "delete_cmd_prefix": "del ",
     "library": "var_list.py",
     "varRefreshCmd": "print(var_dic_list())"
    },
    "r": {
     "delete_cmd_postfix": ") ",
     "delete_cmd_prefix": "rm(",
     "library": "var_list.r",
     "varRefreshCmd": "cat(var_dic_list()) "
    }
   },
   "types_to_exclude": [
    "module",
    "function",
    "builtin_function_or_method",
    "instance",
    "_Feature"
   ],
   "window_display": false
  }
 },
 "nbformat": 4,
 "nbformat_minor": 2
}
