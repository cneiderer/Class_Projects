{
 "cells": [
  {
   "cell_type": "code",
   "execution_count": 2,
   "metadata": {
    "collapsed": true
   },
   "outputs": [],
   "source": [
    "import numpy as np\n",
    "import pandas as pd\n",
    "pd.set_option('display.max_rows', 500)\n",
    "pd.set_option('display.max_columns', 50)\n",
    "import matplotlib.pyplot as plt\n",
    "from mpl_toolkits.basemap import Basemap\n",
    "%matplotlib inline\n",
    "import os\n",
    "import pickle\n",
    "\n",
    "import json\n",
    "import plotly.plotly as py\n",
    "from plotly.graph_objs import *\n",
    "\n",
    "from fuzzywuzzy import fuzz"
   ]
  },
  {
   "cell_type": "markdown",
   "metadata": {},
   "source": [
    "### Load Trip Data"
   ]
  },
  {
   "cell_type": "code",
   "execution_count": 3,
   "metadata": {
    "collapsed": true
   },
   "outputs": [],
   "source": [
    "# Load old df\n",
    "with open('old_clean.pkl', 'rb') as f:\n",
    "    old_df = pickle.load(f)\n",
    "\n",
    "# Load new df\n",
    "with open('new_clean.pkl', 'rb') as f:\n",
    "    new_df = pickle.load(f)\n",
    "\n",
    "# Add Epoch to each DF to make it easy to split later\n",
    "old_df['Epoch'] = 'Old'\n",
    "new_df['Epoch'] = 'New'\n",
    "\n",
    "#\n",
    "def remap_usertype(df):\n",
    "    usertype_map = {'Subscriber': 'Member', 'Customer': 'Casual'}\n",
    "    df.UserType = df.UserType.map(usertype_map)\n",
    "    return df\n",
    "\n",
    "old_df = remap_usertype(old_df)\n",
    "new_df = remap_usertype(new_df)"
   ]
  },
  {
   "cell_type": "markdown",
   "metadata": {},
   "source": [
    "### Load Stations Data"
   ]
  },
  {
   "cell_type": "code",
   "execution_count": 4,
   "metadata": {
    "collapsed": true
   },
   "outputs": [],
   "source": [
    "station_info_path = '/home/cneiderer/Metis/boston_bike_data/station_data'\n",
    "stations1_file = 'Hubway_Stations_2011_2016.csv'\n",
    "stations2_file = 'Hubway_Stations_as_of_July_2017.csv'"
   ]
  },
  {
   "cell_type": "code",
   "execution_count": 5,
   "metadata": {
    "collapsed": true
   },
   "outputs": [],
   "source": [
    "stations1_df = pd.read_csv(os.path.join(station_info_path, stations1_file))\n",
    "stations2_df = pd.read_csv(os.path.join(station_info_path, stations2_file))"
   ]
  },
  {
   "cell_type": "code",
   "execution_count": 6,
   "metadata": {},
   "outputs": [
    {
     "data": {
      "text/html": [
       "<div>\n",
       "<style scoped>\n",
       "    .dataframe tbody tr th:only-of-type {\n",
       "        vertical-align: middle;\n",
       "    }\n",
       "\n",
       "    .dataframe tbody tr th {\n",
       "        vertical-align: top;\n",
       "    }\n",
       "\n",
       "    .dataframe thead th {\n",
       "        text-align: right;\n",
       "    }\n",
       "</style>\n",
       "<table border=\"1\" class=\"dataframe\">\n",
       "  <thead>\n",
       "    <tr style=\"text-align: right;\">\n",
       "      <th></th>\n",
       "      <th>StationID</th>\n",
       "      <th>StationName</th>\n",
       "      <th>Lat</th>\n",
       "      <th>Lon</th>\n",
       "      <th>City</th>\n",
       "      <th>NumDocks</th>\n",
       "    </tr>\n",
       "  </thead>\n",
       "  <tbody>\n",
       "    <tr>\n",
       "      <th>0</th>\n",
       "      <td>A32000</td>\n",
       "      <td>Fan Pier</td>\n",
       "      <td>42.353287</td>\n",
       "      <td>-71.044389</td>\n",
       "      <td>Boston</td>\n",
       "      <td>15</td>\n",
       "    </tr>\n",
       "    <tr>\n",
       "      <th>1</th>\n",
       "      <td>A32001</td>\n",
       "      <td>Union Square - Brighton Ave. at Cambridge St.</td>\n",
       "      <td>42.353334</td>\n",
       "      <td>-71.137313</td>\n",
       "      <td>Boston</td>\n",
       "      <td>15</td>\n",
       "    </tr>\n",
       "    <tr>\n",
       "      <th>2</th>\n",
       "      <td>A32002</td>\n",
       "      <td>Agganis Arena - 925 Comm Ave.</td>\n",
       "      <td>42.351246</td>\n",
       "      <td>-71.115639</td>\n",
       "      <td>Boston</td>\n",
       "      <td>19</td>\n",
       "    </tr>\n",
       "    <tr>\n",
       "      <th>3</th>\n",
       "      <td>A32003</td>\n",
       "      <td>B.U. Central - 725 Comm. Ave.</td>\n",
       "      <td>42.350406</td>\n",
       "      <td>-71.108279</td>\n",
       "      <td>Boston</td>\n",
       "      <td>11</td>\n",
       "    </tr>\n",
       "    <tr>\n",
       "      <th>4</th>\n",
       "      <td>A32004</td>\n",
       "      <td>Longwood Ave / Binney St</td>\n",
       "      <td>42.338629</td>\n",
       "      <td>-71.106500</td>\n",
       "      <td>Boston</td>\n",
       "      <td>15</td>\n",
       "    </tr>\n",
       "  </tbody>\n",
       "</table>\n",
       "</div>"
      ],
      "text/plain": [
       "  StationID                                    StationName        Lat  \\\n",
       "0    A32000                                       Fan Pier  42.353287   \n",
       "1    A32001  Union Square - Brighton Ave. at Cambridge St.  42.353334   \n",
       "2    A32002                  Agganis Arena - 925 Comm Ave.  42.351246   \n",
       "3    A32003                  B.U. Central - 725 Comm. Ave.  42.350406   \n",
       "4    A32004                       Longwood Ave / Binney St  42.338629   \n",
       "\n",
       "         Lon    City  NumDocks  \n",
       "0 -71.044389  Boston        15  \n",
       "1 -71.137313  Boston        15  \n",
       "2 -71.115639  Boston        19  \n",
       "3 -71.108279  Boston        11  \n",
       "4 -71.106500  Boston        15  "
      ]
     },
     "execution_count": 6,
     "metadata": {},
     "output_type": "execute_result"
    }
   ],
   "source": [
    "stations1_df = stations1_df[stations2_df.columns]\n",
    "stations1_df.columns = ['StationID', 'StationName', 'Lat', 'Lon', 'City', 'NumDocks']\n",
    "stations1_df = stations1_df.sort_values('StationID', axis=0)\n",
    "stations1_df.head()"
   ]
  },
  {
   "cell_type": "code",
   "execution_count": 7,
   "metadata": {
    "scrolled": false
   },
   "outputs": [
    {
     "data": {
      "text/html": [
       "<div>\n",
       "<style scoped>\n",
       "    .dataframe tbody tr th:only-of-type {\n",
       "        vertical-align: middle;\n",
       "    }\n",
       "\n",
       "    .dataframe tbody tr th {\n",
       "        vertical-align: top;\n",
       "    }\n",
       "\n",
       "    .dataframe thead th {\n",
       "        text-align: right;\n",
       "    }\n",
       "</style>\n",
       "<table border=\"1\" class=\"dataframe\">\n",
       "  <thead>\n",
       "    <tr style=\"text-align: right;\">\n",
       "      <th></th>\n",
       "      <th>StationID</th>\n",
       "      <th>StationName</th>\n",
       "      <th>Lat</th>\n",
       "      <th>Lon</th>\n",
       "      <th>City</th>\n",
       "      <th>NumDocks</th>\n",
       "    </tr>\n",
       "  </thead>\n",
       "  <tbody>\n",
       "    <tr>\n",
       "      <th>3</th>\n",
       "      <td>A32000</td>\n",
       "      <td>Fan Pier</td>\n",
       "      <td>42.353287</td>\n",
       "      <td>-71.044389</td>\n",
       "      <td>Boston</td>\n",
       "      <td>15</td>\n",
       "    </tr>\n",
       "    <tr>\n",
       "      <th>4</th>\n",
       "      <td>A32001</td>\n",
       "      <td>Union Square - Brighton Ave at Cambridge St</td>\n",
       "      <td>42.353334</td>\n",
       "      <td>-71.137313</td>\n",
       "      <td>Boston</td>\n",
       "      <td>15</td>\n",
       "    </tr>\n",
       "    <tr>\n",
       "      <th>5</th>\n",
       "      <td>A32002</td>\n",
       "      <td>Commonwealth Ave at Buick St</td>\n",
       "      <td>42.351246</td>\n",
       "      <td>-71.115639</td>\n",
       "      <td>Boston</td>\n",
       "      <td>19</td>\n",
       "    </tr>\n",
       "    <tr>\n",
       "      <th>6</th>\n",
       "      <td>A32003</td>\n",
       "      <td>B.U. Central - 725 Comm. Ave.</td>\n",
       "      <td>42.350406</td>\n",
       "      <td>-71.108279</td>\n",
       "      <td>Boston</td>\n",
       "      <td>11</td>\n",
       "    </tr>\n",
       "    <tr>\n",
       "      <th>7</th>\n",
       "      <td>A32004</td>\n",
       "      <td>Longwood Ave at Binney St</td>\n",
       "      <td>42.338629</td>\n",
       "      <td>-71.106500</td>\n",
       "      <td>Boston</td>\n",
       "      <td>15</td>\n",
       "    </tr>\n",
       "  </tbody>\n",
       "</table>\n",
       "</div>"
      ],
      "text/plain": [
       "  StationID                                  StationName        Lat  \\\n",
       "3    A32000                                     Fan Pier  42.353287   \n",
       "4    A32001  Union Square - Brighton Ave at Cambridge St  42.353334   \n",
       "5    A32002                 Commonwealth Ave at Buick St  42.351246   \n",
       "6    A32003                B.U. Central - 725 Comm. Ave.  42.350406   \n",
       "7    A32004                    Longwood Ave at Binney St  42.338629   \n",
       "\n",
       "         Lon    City  NumDocks  \n",
       "3 -71.044389  Boston        15  \n",
       "4 -71.137313  Boston        15  \n",
       "5 -71.115639  Boston        19  \n",
       "6 -71.108279  Boston        11  \n",
       "7 -71.106500  Boston        15  "
      ]
     },
     "execution_count": 7,
     "metadata": {},
     "output_type": "execute_result"
    }
   ],
   "source": [
    "stations2_df = stations2_df.sort_values('Station ID', axis=0)\n",
    "stations2_df.columns = ['StationID', 'StationName', 'Lat', 'Lon', 'City', 'NumDocks']\n",
    "stations2_df = stations2_df.sort_values('StationID', axis=0)\n",
    "stations2_df.head()"
   ]
  },
  {
   "cell_type": "markdown",
   "metadata": {},
   "source": [
    "### Combine Stations Data"
   ]
  },
  {
   "cell_type": "code",
   "execution_count": 8,
   "metadata": {},
   "outputs": [],
   "source": [
    "# Combine station data into single DF\n",
    "stations_df = pd.concat([stations1_df, stations2_df], axis=0)\n",
    "# Remove duplicate rows\n",
    "stations_df = stations_df[~stations_df.duplicated()]\n",
    "\n",
    "# Compile all the names used to refer to each station ID\n",
    "station_name_map = {}\n",
    "for sid in set(stations_df.StationID):\n",
    "    station_name_map[sid] = list(set(stations_df[stations_df.StationID == sid].StationName))\n",
    "    \n",
    "    # Designate a single name to be used to refer to each station ID\n",
    "station_names = {}\n",
    "for key, val in station_name_map.items():\n",
    "    if len(val) > 1:\n",
    "        val = val[1]\n",
    "    else:\n",
    "        val = val[0]\n",
    "    station_names[key] = val\n",
    "# Convert to dataframe    \n",
    "station_names = pd.DataFrame.from_dict(station_names, 'index').reset_index()    \n",
    "station_names.columns = ['StationID', 'StationName']\n",
    "# Merge designated names back into combined stations DF\n",
    "stations_df = station_names.merge(stations_df[['StationID', 'Lat', 'Lon', 'City', 'NumDocks']], on='StationID', how='left')\n",
    "stations_df = stations_df[~stations_df.duplicated()].reset_index(drop=True)"
   ]
  },
  {
   "cell_type": "code",
   "execution_count": 9,
   "metadata": {
    "scrolled": false
   },
   "outputs": [
    {
     "data": {
      "text/html": [
       "<div>\n",
       "<style scoped>\n",
       "    .dataframe tbody tr th:only-of-type {\n",
       "        vertical-align: middle;\n",
       "    }\n",
       "\n",
       "    .dataframe tbody tr th {\n",
       "        vertical-align: top;\n",
       "    }\n",
       "\n",
       "    .dataframe thead th {\n",
       "        text-align: right;\n",
       "    }\n",
       "</style>\n",
       "<table border=\"1\" class=\"dataframe\">\n",
       "  <thead>\n",
       "    <tr style=\"text-align: right;\">\n",
       "      <th></th>\n",
       "      <th>StationID</th>\n",
       "      <th>StationName</th>\n",
       "      <th>Lat</th>\n",
       "      <th>Lon</th>\n",
       "      <th>City</th>\n",
       "      <th>NumDocks</th>\n",
       "    </tr>\n",
       "  </thead>\n",
       "  <tbody>\n",
       "    <tr>\n",
       "      <th>0</th>\n",
       "      <td>M32049</td>\n",
       "      <td>Brian P. Murphy Staircase at Child Street</td>\n",
       "      <td>42.372060</td>\n",
       "      <td>-71.072026</td>\n",
       "      <td>Cambridge</td>\n",
       "      <td>23</td>\n",
       "    </tr>\n",
       "    <tr>\n",
       "      <th>1</th>\n",
       "      <td>M32047</td>\n",
       "      <td>Sidney Research Campus/ Erie Street at Waverly</td>\n",
       "      <td>42.357753</td>\n",
       "      <td>-71.103934</td>\n",
       "      <td>Cambridge</td>\n",
       "      <td>19</td>\n",
       "    </tr>\n",
       "    <tr>\n",
       "      <th>2</th>\n",
       "      <td>C32006</td>\n",
       "      <td>Washington St at Rutland St</td>\n",
       "      <td>42.338493</td>\n",
       "      <td>-71.074019</td>\n",
       "      <td>Boston</td>\n",
       "      <td>19</td>\n",
       "    </tr>\n",
       "    <tr>\n",
       "      <th>3</th>\n",
       "      <td>A32019</td>\n",
       "      <td>Harvard University Transportation Services - 1...</td>\n",
       "      <td>42.363796</td>\n",
       "      <td>-71.129164</td>\n",
       "      <td>Boston</td>\n",
       "      <td>18</td>\n",
       "    </tr>\n",
       "    <tr>\n",
       "      <th>4</th>\n",
       "      <td>M32032</td>\n",
       "      <td>Kendall Street</td>\n",
       "      <td>42.363560</td>\n",
       "      <td>-71.082168</td>\n",
       "      <td>Cambridge</td>\n",
       "      <td>15</td>\n",
       "    </tr>\n",
       "  </tbody>\n",
       "</table>\n",
       "</div>"
      ],
      "text/plain": [
       "  StationID                                        StationName        Lat  \\\n",
       "0    M32049          Brian P. Murphy Staircase at Child Street  42.372060   \n",
       "1    M32047     Sidney Research Campus/ Erie Street at Waverly  42.357753   \n",
       "2    C32006                        Washington St at Rutland St  42.338493   \n",
       "3    A32019  Harvard University Transportation Services - 1...  42.363796   \n",
       "4    M32032                                     Kendall Street  42.363560   \n",
       "\n",
       "         Lon       City  NumDocks  \n",
       "0 -71.072026  Cambridge        23  \n",
       "1 -71.103934  Cambridge        19  \n",
       "2 -71.074019     Boston        19  \n",
       "3 -71.129164     Boston        18  \n",
       "4 -71.082168  Cambridge        15  "
      ]
     },
     "execution_count": 9,
     "metadata": {},
     "output_type": "execute_result"
    }
   ],
   "source": [
    "stations_df.head()"
   ]
  },
  {
   "cell_type": "code",
   "execution_count": 10,
   "metadata": {
    "code_folding": [
     0
    ],
    "scrolled": true
   },
   "outputs": [
    {
     "data": {
      "text/html": [
       "<iframe id=\"igraph\" scrolling=\"no\" style=\"border:none;\" seamless=\"seamless\" src=\"https://plot.ly/~cneiderer/90.embed\" height=\"800px\" width=\"1200px\"></iframe>"
      ],
      "text/plain": [
       "<plotly.tools.PlotlyDisplay object>"
      ]
     },
     "execution_count": 10,
     "metadata": {},
     "output_type": "execute_result"
    }
   ],
   "source": [
    "# Plot bike stations on interactive map\n",
    "credentials = json.load(open('/home/cneiderer/.mapbox/.credentials'))\n",
    "mapbox_access_token = credentials['public_token']\n",
    "\n",
    "data = Data([\n",
    "    Scattermapbox(\n",
    "        lat=stations_df.Lat,\n",
    "        lon=stations_df.Lon,\n",
    "        mode='markers',\n",
    "        marker=Marker(\n",
    "            color='red',\n",
    "            size=10,\n",
    "            opacity=0.7\n",
    "        ),\n",
    "        text=stations_df.StationName,\n",
    "    )    \n",
    "])\n",
    "layout = Layout(\n",
    "    autosize=True,\n",
    "    hovermode='closest',\n",
    "    width=1200,\n",
    "    height=800,\n",
    "    margin=Margin(\n",
    "        l=25,\n",
    "        r=25,\n",
    "        b=25,\n",
    "        t=25,\n",
    "        pad=4\n",
    "    ),\n",
    "    mapbox=dict(\n",
    "        accesstoken=mapbox_access_token,\n",
    "        bearing=0,\n",
    "        center=dict(\n",
    "            lat=42.361769, \n",
    "            lon=-71.078249 #-71.0589\n",
    "        ),\n",
    "        pitch=0,\n",
    "        zoom=11.5\n",
    "    ),\n",
    ")\n",
    "\n",
    "fig = dict(data=data, layout=layout)\n",
    "py.iplot(fig, filename='Multiple Mapbox')"
   ]
  },
  {
   "cell_type": "markdown",
   "metadata": {},
   "source": [
    "### Map Lat, Lon, City into Old Data"
   ]
  },
  {
   "cell_type": "code",
   "execution_count": 11,
   "metadata": {},
   "outputs": [
    {
     "data": {
      "text/html": [
       "<div>\n",
       "<style scoped>\n",
       "    .dataframe tbody tr th:only-of-type {\n",
       "        vertical-align: middle;\n",
       "    }\n",
       "\n",
       "    .dataframe tbody tr th {\n",
       "        vertical-align: top;\n",
       "    }\n",
       "\n",
       "    .dataframe thead th {\n",
       "        text-align: right;\n",
       "    }\n",
       "</style>\n",
       "<table border=\"1\" class=\"dataframe\">\n",
       "  <thead>\n",
       "    <tr style=\"text-align: right;\">\n",
       "      <th></th>\n",
       "      <th>BikeID</th>\n",
       "      <th>Duration</th>\n",
       "      <th>Epoch</th>\n",
       "      <th>Gender</th>\n",
       "      <th>StartCity</th>\n",
       "      <th>StartID</th>\n",
       "      <th>StartLat</th>\n",
       "      <th>StartLon</th>\n",
       "      <th>StartName</th>\n",
       "      <th>StartNumDocks</th>\n",
       "      <th>StartOrigName</th>\n",
       "      <th>StartTime</th>\n",
       "      <th>StopCity</th>\n",
       "      <th>StopID</th>\n",
       "      <th>StopLat</th>\n",
       "      <th>StopLon</th>\n",
       "      <th>StopName</th>\n",
       "      <th>StopNumDocks</th>\n",
       "      <th>StopOrigName</th>\n",
       "      <th>StopTime</th>\n",
       "      <th>UserType</th>\n",
       "      <th>ZipCode</th>\n",
       "    </tr>\n",
       "  </thead>\n",
       "  <tbody>\n",
       "    <tr>\n",
       "      <th>0</th>\n",
       "      <td>T01335</td>\n",
       "      <td>397</td>\n",
       "      <td>Old</td>\n",
       "      <td>Male</td>\n",
       "      <td>Boston</td>\n",
       "      <td>B32004</td>\n",
       "      <td>42.359770</td>\n",
       "      <td>-71.051601</td>\n",
       "      <td>Aquarium Station - 200 Atlantic Ave.</td>\n",
       "      <td>19.0</td>\n",
       "      <td>Aquarium Station - 200 Atlantic Ave.</td>\n",
       "      <td>2014-12-31 23:58:00</td>\n",
       "      <td>Boston</td>\n",
       "      <td>D32022</td>\n",
       "      <td>42.365885</td>\n",
       "      <td>-71.064548</td>\n",
       "      <td>TD Garden - West End Park (formerly TD Garden ...</td>\n",
       "      <td>34.0</td>\n",
       "      <td>TD Garden - Causeway at Portal Park #1</td>\n",
       "      <td>2015-01-01 00:05:00</td>\n",
       "      <td>Member</td>\n",
       "      <td>2148.0</td>\n",
       "    </tr>\n",
       "    <tr>\n",
       "      <th>1</th>\n",
       "      <td>T01426</td>\n",
       "      <td>543</td>\n",
       "      <td>Old</td>\n",
       "      <td>Male</td>\n",
       "      <td>Cambridge</td>\n",
       "      <td>M32006</td>\n",
       "      <td>42.358100</td>\n",
       "      <td>-71.093198</td>\n",
       "      <td>MIT at Mass Ave / Amherst St</td>\n",
       "      <td>27.0</td>\n",
       "      <td>MIT at Mass Ave / Amherst St</td>\n",
       "      <td>2014-12-31 23:51:00</td>\n",
       "      <td>Cambridge</td>\n",
       "      <td>M32007</td>\n",
       "      <td>42.372969</td>\n",
       "      <td>-71.094445</td>\n",
       "      <td>Cambridge St - at Columbia St / Webster Ave</td>\n",
       "      <td>15.0</td>\n",
       "      <td>Cambridge St - at Columbia St / Webster Ave</td>\n",
       "      <td>2015-01-01 00:00:00</td>\n",
       "      <td>Member</td>\n",
       "      <td>2143.0</td>\n",
       "    </tr>\n",
       "    <tr>\n",
       "      <th>2</th>\n",
       "      <td>B01570</td>\n",
       "      <td>928</td>\n",
       "      <td>Old</td>\n",
       "      <td>Male</td>\n",
       "      <td>Boston</td>\n",
       "      <td>D32005</td>\n",
       "      <td>42.349673</td>\n",
       "      <td>-71.077303</td>\n",
       "      <td>Copley Square - Dartmouth St at Boylston St</td>\n",
       "      <td>25.0</td>\n",
       "      <td>Boston Public Library - 700 Boylston St.</td>\n",
       "      <td>2014-12-31 23:30:00</td>\n",
       "      <td>Boston</td>\n",
       "      <td>A32008</td>\n",
       "      <td>42.347241</td>\n",
       "      <td>-71.105301</td>\n",
       "      <td>Park Dr at Buswell St</td>\n",
       "      <td>15.0</td>\n",
       "      <td>Buswell St. at Park Dr.</td>\n",
       "      <td>2014-12-31 23:46:00</td>\n",
       "      <td>Member</td>\n",
       "      <td>2215.0</td>\n",
       "    </tr>\n",
       "    <tr>\n",
       "      <th>3</th>\n",
       "      <td>T01205</td>\n",
       "      <td>270</td>\n",
       "      <td>Old</td>\n",
       "      <td>Male</td>\n",
       "      <td>Boston</td>\n",
       "      <td>B32004</td>\n",
       "      <td>42.359770</td>\n",
       "      <td>-71.051601</td>\n",
       "      <td>Aquarium Station - 200 Atlantic Ave.</td>\n",
       "      <td>19.0</td>\n",
       "      <td>Aquarium Station - 200 Atlantic Ave.</td>\n",
       "      <td>2014-12-31 23:26:00</td>\n",
       "      <td>Boston</td>\n",
       "      <td>A32010</td>\n",
       "      <td>42.352175</td>\n",
       "      <td>-71.055547</td>\n",
       "      <td>South Station - 700 Atlantic Ave.</td>\n",
       "      <td>46.0</td>\n",
       "      <td>South Station - 700 Atlantic Ave.</td>\n",
       "      <td>2014-12-31 23:31:00</td>\n",
       "      <td>Member</td>\n",
       "      <td>2043.0</td>\n",
       "    </tr>\n",
       "    <tr>\n",
       "      <th>4</th>\n",
       "      <td>T01306</td>\n",
       "      <td>960</td>\n",
       "      <td>Old</td>\n",
       "      <td>Male</td>\n",
       "      <td>Boston</td>\n",
       "      <td>D32010</td>\n",
       "      <td>42.362811</td>\n",
       "      <td>-71.056067</td>\n",
       "      <td>Cross St at Hanover St</td>\n",
       "      <td>18.0</td>\n",
       "      <td>Cross St. at Hanover St.</td>\n",
       "      <td>2014-12-31 23:07:00</td>\n",
       "      <td>Boston</td>\n",
       "      <td>B32004</td>\n",
       "      <td>42.359770</td>\n",
       "      <td>-71.051601</td>\n",
       "      <td>Aquarium Station - 200 Atlantic Ave.</td>\n",
       "      <td>19.0</td>\n",
       "      <td>Aquarium Station - 200 Atlantic Ave.</td>\n",
       "      <td>2014-12-31 23:23:00</td>\n",
       "      <td>Member</td>\n",
       "      <td>1945.0</td>\n",
       "    </tr>\n",
       "  </tbody>\n",
       "</table>\n",
       "</div>"
      ],
      "text/plain": [
       "   BikeID  Duration Epoch Gender  StartCity StartID   StartLat   StartLon  \\\n",
       "0  T01335       397   Old   Male     Boston  B32004  42.359770 -71.051601   \n",
       "1  T01426       543   Old   Male  Cambridge  M32006  42.358100 -71.093198   \n",
       "2  B01570       928   Old   Male     Boston  D32005  42.349673 -71.077303   \n",
       "3  T01205       270   Old   Male     Boston  B32004  42.359770 -71.051601   \n",
       "4  T01306       960   Old   Male     Boston  D32010  42.362811 -71.056067   \n",
       "\n",
       "                                     StartName  StartNumDocks  \\\n",
       "0         Aquarium Station - 200 Atlantic Ave.           19.0   \n",
       "1                 MIT at Mass Ave / Amherst St           27.0   \n",
       "2  Copley Square - Dartmouth St at Boylston St           25.0   \n",
       "3         Aquarium Station - 200 Atlantic Ave.           19.0   \n",
       "4                       Cross St at Hanover St           18.0   \n",
       "\n",
       "                              StartOrigName           StartTime   StopCity  \\\n",
       "0      Aquarium Station - 200 Atlantic Ave. 2014-12-31 23:58:00     Boston   \n",
       "1              MIT at Mass Ave / Amherst St 2014-12-31 23:51:00  Cambridge   \n",
       "2  Boston Public Library - 700 Boylston St. 2014-12-31 23:30:00     Boston   \n",
       "3      Aquarium Station - 200 Atlantic Ave. 2014-12-31 23:26:00     Boston   \n",
       "4                  Cross St. at Hanover St. 2014-12-31 23:07:00     Boston   \n",
       "\n",
       "   StopID    StopLat    StopLon  \\\n",
       "0  D32022  42.365885 -71.064548   \n",
       "1  M32007  42.372969 -71.094445   \n",
       "2  A32008  42.347241 -71.105301   \n",
       "3  A32010  42.352175 -71.055547   \n",
       "4  B32004  42.359770 -71.051601   \n",
       "\n",
       "                                            StopName  StopNumDocks  \\\n",
       "0  TD Garden - West End Park (formerly TD Garden ...          34.0   \n",
       "1        Cambridge St - at Columbia St / Webster Ave          15.0   \n",
       "2                              Park Dr at Buswell St          15.0   \n",
       "3                  South Station - 700 Atlantic Ave.          46.0   \n",
       "4               Aquarium Station - 200 Atlantic Ave.          19.0   \n",
       "\n",
       "                                  StopOrigName            StopTime UserType  \\\n",
       "0       TD Garden - Causeway at Portal Park #1 2015-01-01 00:05:00   Member   \n",
       "1  Cambridge St - at Columbia St / Webster Ave 2015-01-01 00:00:00   Member   \n",
       "2                      Buswell St. at Park Dr. 2014-12-31 23:46:00   Member   \n",
       "3            South Station - 700 Atlantic Ave. 2014-12-31 23:31:00   Member   \n",
       "4         Aquarium Station - 200 Atlantic Ave. 2014-12-31 23:23:00   Member   \n",
       "\n",
       "   ZipCode  \n",
       "0   2148.0  \n",
       "1   2143.0  \n",
       "2   2215.0  \n",
       "3   2043.0  \n",
       "4   1945.0  "
      ]
     },
     "execution_count": 11,
     "metadata": {},
     "output_type": "execute_result"
    }
   ],
   "source": [
    "def map_station_info_to_old_data(data_df, stations_df, loc):\n",
    "    data_df = data_df.merge(stations_df, how='left', left_on=loc+'ID', right_on='StationID', suffixes=('', '_Junk'))\n",
    "    for col in data_df.columns:\n",
    "        if col[-5:] == '_Junk':\n",
    "            data_df.drop(columns=col)\n",
    "    data_df[loc+'OrigName'] = data_df[loc+'Name']\n",
    "    data_df = data_df.drop(columns=[loc+'Name', 'StationID'])\n",
    "    rename_map = {'StationName': loc+'Name', \n",
    "                  'City': loc+'City',\n",
    "                  'Lat': loc+'Lat', \n",
    "                  'Lon': loc+'Lon', \n",
    "                  'NumDocks': loc+'NumDocks'}\n",
    "    data_df = data_df.rename(columns=rename_map)\n",
    "    return data_df\n",
    "\n",
    "wold_df = map_station_info_to_old_data(old_df, stations_df, 'Start')\n",
    "wold_df = map_station_info_to_old_data(wold_df, stations_df, 'Stop')\n",
    "\n",
    "# Remove rows that have undefined station info\n",
    "wold_df = wold_df[~(wold_df.StartCity.isna() | wold_df.StopCity.isna())]\n",
    "\n",
    "wold_df = wold_df[sorted(wold_df.columns)]\n",
    "wold_df.head()"
   ]
  },
  {
   "cell_type": "code",
   "execution_count": 12,
   "metadata": {},
   "outputs": [
    {
     "data": {
      "text/html": [
       "<div>\n",
       "<style scoped>\n",
       "    .dataframe tbody tr th:only-of-type {\n",
       "        vertical-align: middle;\n",
       "    }\n",
       "\n",
       "    .dataframe tbody tr th {\n",
       "        vertical-align: top;\n",
       "    }\n",
       "\n",
       "    .dataframe thead th {\n",
       "        text-align: right;\n",
       "    }\n",
       "</style>\n",
       "<table border=\"1\" class=\"dataframe\">\n",
       "  <thead>\n",
       "    <tr style=\"text-align: right;\">\n",
       "      <th></th>\n",
       "      <th>BikeID</th>\n",
       "      <th>Duration</th>\n",
       "      <th>Epoch</th>\n",
       "      <th>Gender</th>\n",
       "      <th>StartCity</th>\n",
       "      <th>StartID</th>\n",
       "      <th>StartLat</th>\n",
       "      <th>StartLon</th>\n",
       "      <th>StartName</th>\n",
       "      <th>StartNumDocks</th>\n",
       "      <th>StartOrigName</th>\n",
       "      <th>StartTime</th>\n",
       "      <th>StopCity</th>\n",
       "      <th>StopID</th>\n",
       "      <th>StopLat</th>\n",
       "      <th>StopLon</th>\n",
       "      <th>StopName</th>\n",
       "      <th>StopNumDocks</th>\n",
       "      <th>StopOrigName</th>\n",
       "      <th>StopTime</th>\n",
       "      <th>UserType</th>\n",
       "      <th>ZipCode</th>\n",
       "    </tr>\n",
       "  </thead>\n",
       "  <tbody>\n",
       "  </tbody>\n",
       "</table>\n",
       "</div>"
      ],
      "text/plain": [
       "Empty DataFrame\n",
       "Columns: [BikeID, Duration, Epoch, Gender, StartCity, StartID, StartLat, StartLon, StartName, StartNumDocks, StartOrigName, StartTime, StopCity, StopID, StopLat, StopLon, StopName, StopNumDocks, StopOrigName, StopTime, UserType, ZipCode]\n",
       "Index: []"
      ]
     },
     "execution_count": 12,
     "metadata": {},
     "output_type": "execute_result"
    }
   ],
   "source": [
    "# Find Stations that existed at start of Hubway but no longer exist in system\n",
    "wold_df[wold_df.StartCity.isna() | wold_df.StopCity.isna()]"
   ]
  },
  {
   "cell_type": "code",
   "execution_count": null,
   "metadata": {},
   "outputs": [],
   "source": [
    "# missing_data = [['A32007', 'Harvard Real Estate - North Harvard St at Western Ave', 'Boston', 42.3631911, -71.1319868],\n",
    "#                 ['B32009', 'Overland St at Brookline Ave', 'Boston', 42.3460641, -71.1019295],\n",
    "#                 ['B32019', 'Longwood Ave/Riverway', 'Boston', 42.3403202, -71.112122],\n",
    "#                 ['C32011', 'South Bay Plaza', 'Boston', 42.3341162, -71.0698326],\n",
    "#                 ['D32025', 'Milk St at India St', 'Boston', 42.3584621, -71.0554896],\n",
    "#                 ['K32003', 'Brookline Village - Station Street @ MBTA', 'Brookline', 42.3327674, -71.1191912],\n",
    "#                 ['S32007', 'Ball Sq', 'Somerville', 42.399747, -71.1132117],\n",
    "#                 ['S32012', 'Summer St at Cutter St', 'Somerville', 42.3940975, -71.1228071]]\n",
    "\n",
    "# missing_df = pd.DataFrame(missing_data, columns=['StationID', 'StationName', 'City', 'Lat', 'Lon'])\n",
    "# missing_df"
   ]
  },
  {
   "cell_type": "code",
   "execution_count": null,
   "metadata": {
    "collapsed": true
   },
   "outputs": [],
   "source": [
    "# Save old df\n",
    "with open('old.pkl', 'wb') as f:\n",
    "    pickle.dump(wold_df, f)"
   ]
  },
  {
   "cell_type": "markdown",
   "metadata": {},
   "source": [
    "### Compile Station Info from New Trip Data"
   ]
  },
  {
   "cell_type": "code",
   "execution_count": null,
   "metadata": {},
   "outputs": [],
   "source": [
    "new_df.head()"
   ]
  },
  {
   "cell_type": "code",
   "execution_count": null,
   "metadata": {},
   "outputs": [],
   "source": [
    "# Compile start stations\n",
    "start_df = new_df[['StartID', 'StartName', 'StartLat', 'StartLon']]\n",
    "start_df = start_df[~start_df.duplicated()]\n",
    "\n",
    "# Compile stop stations\n",
    "stop_df = new_df[['StopID', 'StopName', 'StopLat', 'StopLon']]\n",
    "stop_df = stop_df[~stop_df.duplicated()]\n",
    "\n",
    "# Combine start and stop stations\n",
    "trip_stations_df = pd.DataFrame(np.concatenate([start_df.as_matrix(), stop_df.as_matrix()], axis=0), \n",
    "                                columns=['StationID', 'StationName', 'Lat', 'Lon'])\n",
    "trip_stations_df = trip_stations_df[~trip_stations_df.duplicated()]\n",
    "trip_stations_df = trip_stations_df.sort_values('StationID', axis=0)\n",
    "trip_stations_df = trip_stations_df.reset_index(drop=True)\n",
    "trip_stations_df.head()"
   ]
  },
  {
   "cell_type": "code",
   "execution_count": null,
   "metadata": {
    "scrolled": true
   },
   "outputs": [],
   "source": [
    "# Station mapping\n",
    "trip_station_map = {}\n",
    "for sid in set(trip_stations_df.StationID):\n",
    "    trip_station_map[sid] = list(set(trip_stations_df[trip_stations_df.StationID == sid].StationName) )"
   ]
  },
  {
   "cell_type": "code",
   "execution_count": null,
   "metadata": {
    "collapsed": true
   },
   "outputs": [],
   "source": [
    "# Find similarity of station naming\n",
    "similarity = []\n",
    "for key1, val1 in station_name_map.items():\n",
    "    for key2, val2 in trip_station_map.items():\n",
    "        item1 = list(val1)[0]\n",
    "        for item2 in val2:\n",
    "            similarity.append([key1, str(key2), item1, item2, \n",
    "                               fuzz.partial_ratio(str(item1), str(item2)),\n",
    "                               fuzz.partial_token_sort_ratio(str(item1), str(item2)),\n",
    "                               fuzz.partial_token_set_ratio(str(item1), str(item2))])        "
   ]
  },
  {
   "cell_type": "code",
   "execution_count": null,
   "metadata": {
    "scrolled": true
   },
   "outputs": [],
   "source": [
    "# Convert similarity calculations to df\n",
    "mapping_df = pd.DataFrame(similarity, columns=['StationID1', 'StationID2', \n",
    "                                               'StationName1', 'StationName2', \n",
    "                                               'PartialSimilarity', 'PartialTokenSort', 'PartialTokenSet'])\n",
    "mapping_df.head()"
   ]
  },
  {
   "cell_type": "code",
   "execution_count": null,
   "metadata": {},
   "outputs": [],
   "source": [
    "mapping_df.shape"
   ]
  },
  {
   "cell_type": "code",
   "execution_count": null,
   "metadata": {},
   "outputs": [],
   "source": [
    "mapping_df[mapping_df.StationID1 == 'C32019'].shape"
   ]
  },
  {
   "cell_type": "code",
   "execution_count": null,
   "metadata": {
    "collapsed": true
   },
   "outputs": [],
   "source": [
    "# Find maximum similarity match\n",
    "mapping1 = pd.DataFrame()\n",
    "mapping2 = pd.DataFrame()\n",
    "mapping3 = pd.DataFrame()\n",
    "for ID in set(mapping_df.StationID1):\n",
    "    tmp = mapping_df[mapping_df.StationID1 == ID]\n",
    "    mapping1 = pd.concat([mapping1, pd.DataFrame(tmp.iloc[tmp['PartialSimilarity'].values.argmax(), :]).T], axis=0)\n",
    "    mapping2 = pd.concat([mapping2, pd.DataFrame(tmp.iloc[tmp['PartialTokenSort'].values.argmax(), :]).T], axis=0)\n",
    "    mapping3 = pd.concat([mapping3, pd.DataFrame(tmp.iloc[tmp['PartialTokenSet'].values.argmax(), :]).T], axis=0)\n",
    "    \n",
    "mapping1 = mapping1.reset_index(drop=True).sort_values('StationID1')\n",
    "mapping2 = mapping2.reset_index(drop=True).sort_values('StationID1')\n",
    "mapping3 = mapping3.reset_index(drop=True).sort_values('StationID1')"
   ]
  },
  {
   "cell_type": "code",
   "execution_count": null,
   "metadata": {},
   "outputs": [],
   "source": [
    "# Spot check any similarity scores below 100\n",
    "mapping1[mapping1.PartialSimilarity < 100]"
   ]
  },
  {
   "cell_type": "code",
   "execution_count": null,
   "metadata": {
    "scrolled": true
   },
   "outputs": [],
   "source": [
    "mapping1"
   ]
  },
  {
   "cell_type": "markdown",
   "metadata": {},
   "source": [
    "#### Map Station Info to Trip Data"
   ]
  },
  {
   "cell_type": "code",
   "execution_count": null,
   "metadata": {
    "collapsed": true
   },
   "outputs": [],
   "source": [
    "# Map alpha-numeric ID to starting station\n",
    "mapping1.StationID2 = mapping1.StationID2.astype(int)\n",
    "tmp_df = new_df.merge(mapping1[['StationID1', 'StationID2']], how='left', left_on='StartID', right_on='StationID2')\n",
    "tmp_df = tmp_df.rename(columns={'StartID': 'StartNum', 'StationID1': 'StartID'})\n",
    "tmp_df = tmp_df.drop(columns='StationID2')\n",
    "# Map alpha-numeric ID to stopping station\n",
    "tmp_df = tmp_df.merge(mapping1[['StationID1', 'StationID2']], how='left', left_on='StopID', right_on='StationID2')\n",
    "tmp_df = tmp_df.rename(columns={'StopID': 'StopNum', 'StationID1': 'StopID'})\n",
    "tmp_df = tmp_df.drop(columns=['StationID2', 'StartNum', 'StopNum'])\n",
    "\n",
    "# Map start city\n",
    "tmp_df = tmp_df.merge(stations2_df[['StationID', 'City', 'NumDocks']], how='left', left_on='StartID', right_on='StationID')\n",
    "tmp_df = tmp_df.rename(columns={'City': 'StartCity'})\n",
    "tmp_df = tmp_df.drop(columns=['StationID'])\n",
    "# Map stop city\n",
    "tmp_df = tmp_df.merge(stations2_df[['StationID', 'City']], how='left', left_on='StopID', right_on='StationID')\n",
    "tmp_df = tmp_df.rename(columns={'City': 'StopCity'})\n",
    "tmp_df = tmp_df.drop(columns=['StationID'])"
   ]
  },
  {
   "cell_type": "code",
   "execution_count": null,
   "metadata": {},
   "outputs": [],
   "source": [
    "tmp_df = tmp_df[sorted(tmp_df.columns)]\n",
    "tmp_df.head()"
   ]
  },
  {
   "cell_type": "code",
   "execution_count": null,
   "metadata": {},
   "outputs": [],
   "source": [
    "tmp_df.shape"
   ]
  },
  {
   "cell_type": "code",
   "execution_count": null,
   "metadata": {},
   "outputs": [],
   "source": [
    "tmp_df[tmp_df.StartCity.isna() | tmp_df.StopCity.isna()]"
   ]
  },
  {
   "cell_type": "code",
   "execution_count": null,
   "metadata": {},
   "outputs": [],
   "source": [
    "missing = sorted(list(set(sorted(tmp_df[tmp_df.StartCity.isna()]['StartName'].unique()) + sorted(tmp_df[tmp_df.StopCity.isna()]['StopName'].unique()))))"
   ]
  },
  {
   "cell_type": "code",
   "execution_count": null,
   "metadata": {},
   "outputs": [],
   "source": [
    "{x:sum(tmp_df.StartName == x) for x in missing}"
   ]
  },
  {
   "cell_type": "code",
   "execution_count": null,
   "metadata": {
    "collapsed": true
   },
   "outputs": [],
   "source": []
  },
  {
   "cell_type": "code",
   "execution_count": null,
   "metadata": {
    "collapsed": true
   },
   "outputs": [],
   "source": [
    "# Save new df\n",
    "with open('new.pkl', 'wb') as f:\n",
    "    pickle.dump(tmp_df, f)"
   ]
  },
  {
   "cell_type": "markdown",
   "metadata": {},
   "source": [
    "#### Combine Old Data with New Data"
   ]
  },
  {
   "cell_type": "code",
   "execution_count": null,
   "metadata": {},
   "outputs": [],
   "source": [
    "set(tmp_df.columns).symmetric_difference(set(tmp2_df.columns))"
   ]
  },
  {
   "cell_type": "code",
   "execution_count": null,
   "metadata": {
    "collapsed": true
   },
   "outputs": [],
   "source": [
    "combo = pd.concat([tmp_df, tmp2_df], axis=0)\n",
    "combo = combo.drop(columns=['UserType', 'ZipCode'])"
   ]
  },
  {
   "cell_type": "code",
   "execution_count": null,
   "metadata": {
    "scrolled": false
   },
   "outputs": [],
   "source": [
    "combo.head()"
   ]
  },
  {
   "cell_type": "code",
   "execution_count": null,
   "metadata": {
    "collapsed": true
   },
   "outputs": [],
   "source": [
    "# Save combo df\n",
    "with open('combo.pkl', 'wb') as f:\n",
    "    pickle.dump(combo, f)"
   ]
  },
  {
   "cell_type": "code",
   "execution_count": null,
   "metadata": {
    "collapsed": true
   },
   "outputs": [],
   "source": []
  }
 ],
 "metadata": {
  "kernelspec": {
   "display_name": "Python 3",
   "language": "python",
   "name": "python3"
  },
  "language_info": {
   "codemirror_mode": {
    "name": "ipython",
    "version": 3
   },
   "file_extension": ".py",
   "mimetype": "text/x-python",
   "name": "python",
   "nbconvert_exporter": "python",
   "pygments_lexer": "ipython3",
   "version": "3.6.4"
  },
  "varInspector": {
   "cols": {
    "lenName": 16,
    "lenType": 16,
    "lenVar": 40
   },
   "kernels_config": {
    "python": {
     "delete_cmd_postfix": "",
     "delete_cmd_prefix": "del ",
     "library": "var_list.py",
     "varRefreshCmd": "print(var_dic_list())"
    },
    "r": {
     "delete_cmd_postfix": ") ",
     "delete_cmd_prefix": "rm(",
     "library": "var_list.r",
     "varRefreshCmd": "cat(var_dic_list()) "
    }
   },
   "types_to_exclude": [
    "module",
    "function",
    "builtin_function_or_method",
    "instance",
    "_Feature"
   ],
   "window_display": false
  }
 },
 "nbformat": 4,
 "nbformat_minor": 2
}
