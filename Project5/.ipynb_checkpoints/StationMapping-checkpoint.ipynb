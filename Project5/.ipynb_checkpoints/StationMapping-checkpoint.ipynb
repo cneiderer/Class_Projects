{
 "cells": [
  {
   "cell_type": "code",
   "execution_count": 1,
   "metadata": {
    "collapsed": true
   },
   "outputs": [],
   "source": [
    "import numpy as np\n",
    "import pandas as pd\n",
    "import matplotlib.pyplot as plt\n",
    "from mpl_toolkits.basemap import Basemap\n",
    "%matplotlib inline\n",
    "import os\n",
    "import pickle\n",
    "\n",
    "import json\n",
    "import plotly.plotly as py\n",
    "from plotly.graph_objs import *\n",
    "\n",
    "from fuzzywuzzy import fuzz"
   ]
  },
  {
   "cell_type": "markdown",
   "metadata": {},
   "source": [
    "### Load Trip Data"
   ]
  },
  {
   "cell_type": "code",
   "execution_count": 2,
   "metadata": {
    "collapsed": true
   },
   "outputs": [],
   "source": [
    "# Load old df\n",
    "with open('old_clean.pkl', 'rb') as f:\n",
    "    old_df = pickle.load(f)"
   ]
  },
  {
   "cell_type": "code",
   "execution_count": 3,
   "metadata": {
    "collapsed": true
   },
   "outputs": [],
   "source": [
    "# Load new df\n",
    "with open('new_clean.pkl', 'rb') as f:\n",
    "    new_df = pickle.load(f)"
   ]
  },
  {
   "cell_type": "markdown",
   "metadata": {},
   "source": [
    "### Clean Data"
   ]
  },
  {
   "cell_type": "code",
   "execution_count": 4,
   "metadata": {
    "collapsed": true
   },
   "outputs": [],
   "source": [
    "# Add Epoch to each DF to make it easy to split later\n",
    "old_df['Epoch'] = 'Old'\n",
    "new_df['Epoch'] = 'New'"
   ]
  },
  {
   "cell_type": "code",
   "execution_count": 5,
   "metadata": {
    "code_folding": [
     0
    ],
    "collapsed": true
   },
   "outputs": [],
   "source": [
    "def remap_usertype(df):\n",
    "    usertype_map = {'Subscriber': 'Member', 'Customer': 'Casual'}\n",
    "    df.UserType = df.UserType.map(usertype_map)\n",
    "    return df\n",
    "old_df = remap_usertype(old_df)\n",
    "new_df = remap_usertype(new_df)"
   ]
  },
  {
   "cell_type": "markdown",
   "metadata": {},
   "source": [
    "### Load Stations Data"
   ]
  },
  {
   "cell_type": "code",
   "execution_count": 6,
   "metadata": {
    "collapsed": true
   },
   "outputs": [],
   "source": [
    "station_info_path = '/home/cneiderer/Metis/boston_bike_data/station_data'\n",
    "stations1_file = 'Hubway_Stations_2011_2016.csv'\n",
    "stations2_file = 'Hubway_Stations_as_of_July_2017.csv'"
   ]
  },
  {
   "cell_type": "code",
   "execution_count": 7,
   "metadata": {
    "collapsed": true
   },
   "outputs": [],
   "source": [
    "stations1_df = pd.read_csv(os.path.join(station_info_path, stations1_file))\n",
    "stations2_df = pd.read_csv(os.path.join(station_info_path, stations2_file))"
   ]
  },
  {
   "cell_type": "code",
   "execution_count": 8,
   "metadata": {},
   "outputs": [
    {
     "data": {
      "text/html": [
       "<div>\n",
       "<style scoped>\n",
       "    .dataframe tbody tr th:only-of-type {\n",
       "        vertical-align: middle;\n",
       "    }\n",
       "\n",
       "    .dataframe tbody tr th {\n",
       "        vertical-align: top;\n",
       "    }\n",
       "\n",
       "    .dataframe thead th {\n",
       "        text-align: right;\n",
       "    }\n",
       "</style>\n",
       "<table border=\"1\" class=\"dataframe\">\n",
       "  <thead>\n",
       "    <tr style=\"text-align: right;\">\n",
       "      <th></th>\n",
       "      <th>StationID</th>\n",
       "      <th>StationName</th>\n",
       "      <th>Lat</th>\n",
       "      <th>Lon</th>\n",
       "      <th>City</th>\n",
       "      <th>NumDocks</th>\n",
       "    </tr>\n",
       "  </thead>\n",
       "  <tbody>\n",
       "    <tr>\n",
       "      <th>0</th>\n",
       "      <td>A32000</td>\n",
       "      <td>Fan Pier</td>\n",
       "      <td>42.353287</td>\n",
       "      <td>-71.044389</td>\n",
       "      <td>Boston</td>\n",
       "      <td>15</td>\n",
       "    </tr>\n",
       "    <tr>\n",
       "      <th>1</th>\n",
       "      <td>A32001</td>\n",
       "      <td>Union Square - Brighton Ave. at Cambridge St.</td>\n",
       "      <td>42.353334</td>\n",
       "      <td>-71.137313</td>\n",
       "      <td>Boston</td>\n",
       "      <td>15</td>\n",
       "    </tr>\n",
       "    <tr>\n",
       "      <th>2</th>\n",
       "      <td>A32002</td>\n",
       "      <td>Agganis Arena - 925 Comm Ave.</td>\n",
       "      <td>42.351246</td>\n",
       "      <td>-71.115639</td>\n",
       "      <td>Boston</td>\n",
       "      <td>19</td>\n",
       "    </tr>\n",
       "    <tr>\n",
       "      <th>3</th>\n",
       "      <td>A32003</td>\n",
       "      <td>B.U. Central - 725 Comm. Ave.</td>\n",
       "      <td>42.350406</td>\n",
       "      <td>-71.108279</td>\n",
       "      <td>Boston</td>\n",
       "      <td>11</td>\n",
       "    </tr>\n",
       "    <tr>\n",
       "      <th>4</th>\n",
       "      <td>A32004</td>\n",
       "      <td>Longwood Ave / Binney St</td>\n",
       "      <td>42.338629</td>\n",
       "      <td>-71.106500</td>\n",
       "      <td>Boston</td>\n",
       "      <td>15</td>\n",
       "    </tr>\n",
       "  </tbody>\n",
       "</table>\n",
       "</div>"
      ],
      "text/plain": [
       "  StationID                                    StationName        Lat  \\\n",
       "0    A32000                                       Fan Pier  42.353287   \n",
       "1    A32001  Union Square - Brighton Ave. at Cambridge St.  42.353334   \n",
       "2    A32002                  Agganis Arena - 925 Comm Ave.  42.351246   \n",
       "3    A32003                  B.U. Central - 725 Comm. Ave.  42.350406   \n",
       "4    A32004                       Longwood Ave / Binney St  42.338629   \n",
       "\n",
       "         Lon    City  NumDocks  \n",
       "0 -71.044389  Boston        15  \n",
       "1 -71.137313  Boston        15  \n",
       "2 -71.115639  Boston        19  \n",
       "3 -71.108279  Boston        11  \n",
       "4 -71.106500  Boston        15  "
      ]
     },
     "execution_count": 8,
     "metadata": {},
     "output_type": "execute_result"
    }
   ],
   "source": [
    "stations1_df = stations1_df[stations2_df.columns]\n",
    "stations1_df.columns = ['StationID', 'StationName', 'Lat', 'Lon', 'City', 'NumDocks']\n",
    "stations1_df = stations1_df.sort_values('StationID', axis=0)\n",
    "stations1_df.head()"
   ]
  },
  {
   "cell_type": "code",
   "execution_count": 9,
   "metadata": {
    "scrolled": false
   },
   "outputs": [
    {
     "data": {
      "text/html": [
       "<div>\n",
       "<style scoped>\n",
       "    .dataframe tbody tr th:only-of-type {\n",
       "        vertical-align: middle;\n",
       "    }\n",
       "\n",
       "    .dataframe tbody tr th {\n",
       "        vertical-align: top;\n",
       "    }\n",
       "\n",
       "    .dataframe thead th {\n",
       "        text-align: right;\n",
       "    }\n",
       "</style>\n",
       "<table border=\"1\" class=\"dataframe\">\n",
       "  <thead>\n",
       "    <tr style=\"text-align: right;\">\n",
       "      <th></th>\n",
       "      <th>StationID</th>\n",
       "      <th>StationName</th>\n",
       "      <th>Lat</th>\n",
       "      <th>Lon</th>\n",
       "      <th>City</th>\n",
       "      <th>NumDocks</th>\n",
       "    </tr>\n",
       "  </thead>\n",
       "  <tbody>\n",
       "    <tr>\n",
       "      <th>3</th>\n",
       "      <td>A32000</td>\n",
       "      <td>Fan Pier</td>\n",
       "      <td>42.353287</td>\n",
       "      <td>-71.044389</td>\n",
       "      <td>Boston</td>\n",
       "      <td>15</td>\n",
       "    </tr>\n",
       "    <tr>\n",
       "      <th>4</th>\n",
       "      <td>A32001</td>\n",
       "      <td>Union Square - Brighton Ave at Cambridge St</td>\n",
       "      <td>42.353334</td>\n",
       "      <td>-71.137313</td>\n",
       "      <td>Boston</td>\n",
       "      <td>15</td>\n",
       "    </tr>\n",
       "    <tr>\n",
       "      <th>5</th>\n",
       "      <td>A32002</td>\n",
       "      <td>Commonwealth Ave at Buick St</td>\n",
       "      <td>42.351246</td>\n",
       "      <td>-71.115639</td>\n",
       "      <td>Boston</td>\n",
       "      <td>19</td>\n",
       "    </tr>\n",
       "    <tr>\n",
       "      <th>6</th>\n",
       "      <td>A32003</td>\n",
       "      <td>B.U. Central - 725 Comm. Ave.</td>\n",
       "      <td>42.350406</td>\n",
       "      <td>-71.108279</td>\n",
       "      <td>Boston</td>\n",
       "      <td>11</td>\n",
       "    </tr>\n",
       "    <tr>\n",
       "      <th>7</th>\n",
       "      <td>A32004</td>\n",
       "      <td>Longwood Ave at Binney St</td>\n",
       "      <td>42.338629</td>\n",
       "      <td>-71.106500</td>\n",
       "      <td>Boston</td>\n",
       "      <td>15</td>\n",
       "    </tr>\n",
       "  </tbody>\n",
       "</table>\n",
       "</div>"
      ],
      "text/plain": [
       "  StationID                                  StationName        Lat  \\\n",
       "3    A32000                                     Fan Pier  42.353287   \n",
       "4    A32001  Union Square - Brighton Ave at Cambridge St  42.353334   \n",
       "5    A32002                 Commonwealth Ave at Buick St  42.351246   \n",
       "6    A32003                B.U. Central - 725 Comm. Ave.  42.350406   \n",
       "7    A32004                    Longwood Ave at Binney St  42.338629   \n",
       "\n",
       "         Lon    City  NumDocks  \n",
       "3 -71.044389  Boston        15  \n",
       "4 -71.137313  Boston        15  \n",
       "5 -71.115639  Boston        19  \n",
       "6 -71.108279  Boston        11  \n",
       "7 -71.106500  Boston        15  "
      ]
     },
     "execution_count": 9,
     "metadata": {},
     "output_type": "execute_result"
    }
   ],
   "source": [
    "stations2_df = stations2_df.sort_values('Station ID', axis=0)\n",
    "stations2_df.columns = ['StationID', 'StationName', 'Lat', 'Lon', 'City', 'NumDocks']\n",
    "stations2_df = stations2_df.sort_values('StationID', axis=0)\n",
    "stations2_df.head()"
   ]
  },
  {
   "cell_type": "code",
   "execution_count": 12,
   "metadata": {
    "code_folding": [
     0
    ],
    "scrolled": true
   },
   "outputs": [
    {
     "data": {
      "text/html": [
       "<iframe id=\"igraph\" scrolling=\"no\" style=\"border:none;\" seamless=\"seamless\" src=\"https://plot.ly/~cneiderer/90.embed\" height=\"800px\" width=\"1200px\"></iframe>"
      ],
      "text/plain": [
       "<plotly.tools.PlotlyDisplay object>"
      ]
     },
     "execution_count": 12,
     "metadata": {},
     "output_type": "execute_result"
    }
   ],
   "source": [
    "# Plot bike stations on interactive map\n",
    "credentials = json.load(open('/home/cneiderer/.mapbox/.credentials'))\n",
    "mapbox_access_token = credentials['public_token']\n",
    "\n",
    "data = Data([\n",
    "    Scattermapbox(\n",
    "        lat=stations2_df.Lat,\n",
    "        lon=stations2_df.Lon,\n",
    "        name='2017 Stations',\n",
    "        mode='markers',\n",
    "        marker=Marker(\n",
    "            color='red',\n",
    "            size=10,\n",
    "            opacity=1\n",
    "        ),\n",
    "        text=stations2_df.StationName,\n",
    "    ),\n",
    "    Scattermapbox(\n",
    "        lat=stations1_df.Lat,\n",
    "        lon=stations1_df.Lon,\n",
    "        name='2011-2017 Stations',\n",
    "        mode='markers',\n",
    "        marker=Marker(\n",
    "            color='blue',\n",
    "            size=5,\n",
    "            opacity=1\n",
    "        ),\n",
    "        text=stations1_df.StationName,\n",
    "    ),\n",
    "    \n",
    "])\n",
    "layout = Layout(\n",
    "    autosize=True,\n",
    "    hovermode='closest',\n",
    "    width=1200,\n",
    "    height=800,\n",
    "    margin=Margin(\n",
    "        l=25,\n",
    "        r=25,\n",
    "        b=25,\n",
    "        t=25,\n",
    "        pad=4\n",
    "    ),\n",
    "    mapbox=dict(\n",
    "        accesstoken=mapbox_access_token,\n",
    "        bearing=0,\n",
    "        center=dict(\n",
    "            lat=42.361769, \n",
    "            lon=-71.078249 #-71.0589\n",
    "        ),\n",
    "        pitch=0,\n",
    "        zoom=11.5\n",
    "    ),\n",
    ")\n",
    "\n",
    "fig = dict(data=data, layout=layout)\n",
    "py.iplot(fig, filename='Multiple Mapbox')"
   ]
  },
  {
   "cell_type": "markdown",
   "metadata": {},
   "source": [
    "### Combine Stations Data"
   ]
  },
  {
   "cell_type": "code",
   "execution_count": 15,
   "metadata": {
    "scrolled": true
   },
   "outputs": [],
   "source": [
    "stations_df = stations1_df.merge(stations2_df, on='StationID', how='outer')\n",
    "stations_df = stations_df.fillna('')"
   ]
  },
  {
   "cell_type": "code",
   "execution_count": 16,
   "metadata": {},
   "outputs": [
    {
     "data": {
      "text/html": [
       "<div>\n",
       "<style scoped>\n",
       "    .dataframe tbody tr th:only-of-type {\n",
       "        vertical-align: middle;\n",
       "    }\n",
       "\n",
       "    .dataframe tbody tr th {\n",
       "        vertical-align: top;\n",
       "    }\n",
       "\n",
       "    .dataframe thead th {\n",
       "        text-align: right;\n",
       "    }\n",
       "</style>\n",
       "<table border=\"1\" class=\"dataframe\">\n",
       "  <thead>\n",
       "    <tr style=\"text-align: right;\">\n",
       "      <th></th>\n",
       "      <th>StationID</th>\n",
       "      <th>StationName_x</th>\n",
       "      <th>Lat_x</th>\n",
       "      <th>Lon_x</th>\n",
       "      <th>City_x</th>\n",
       "      <th>NumDocks_x</th>\n",
       "      <th>StationName_y</th>\n",
       "      <th>Lat_y</th>\n",
       "      <th>Lon_y</th>\n",
       "      <th>City_y</th>\n",
       "      <th>NumDocks_y</th>\n",
       "    </tr>\n",
       "  </thead>\n",
       "  <tbody>\n",
       "    <tr>\n",
       "      <th>187</th>\n",
       "      <td>K32006</td>\n",
       "      <td></td>\n",
       "      <td></td>\n",
       "      <td></td>\n",
       "      <td></td>\n",
       "      <td></td>\n",
       "      <td>Commonwealth Ave At Babcock St</td>\n",
       "      <td>42.351547</td>\n",
       "      <td>-71.121263</td>\n",
       "      <td>Brookline</td>\n",
       "      <td>19</td>\n",
       "    </tr>\n",
       "    <tr>\n",
       "      <th>188</th>\n",
       "      <td>M32045</td>\n",
       "      <td></td>\n",
       "      <td></td>\n",
       "      <td></td>\n",
       "      <td></td>\n",
       "      <td></td>\n",
       "      <td>Museum of Science</td>\n",
       "      <td>42.367690</td>\n",
       "      <td>-71.071163</td>\n",
       "      <td>Cambridge</td>\n",
       "      <td>19</td>\n",
       "    </tr>\n",
       "    <tr>\n",
       "      <th>189</th>\n",
       "      <td>M32050</td>\n",
       "      <td></td>\n",
       "      <td></td>\n",
       "      <td></td>\n",
       "      <td></td>\n",
       "      <td></td>\n",
       "      <td>Verizon Innovation Hub 10 Ware Street</td>\n",
       "      <td>42.372509</td>\n",
       "      <td>-71.113054</td>\n",
       "      <td>Cambridge</td>\n",
       "      <td>19</td>\n",
       "    </tr>\n",
       "    <tr>\n",
       "      <th>190</th>\n",
       "      <td>M32051</td>\n",
       "      <td></td>\n",
       "      <td></td>\n",
       "      <td></td>\n",
       "      <td></td>\n",
       "      <td></td>\n",
       "      <td>Fresh Pond Reservation</td>\n",
       "      <td>42.382678</td>\n",
       "      <td>-71.143479</td>\n",
       "      <td>Cambridge</td>\n",
       "      <td>19</td>\n",
       "    </tr>\n",
       "    <tr>\n",
       "      <th>191</th>\n",
       "      <td>M32052</td>\n",
       "      <td></td>\n",
       "      <td></td>\n",
       "      <td></td>\n",
       "      <td></td>\n",
       "      <td></td>\n",
       "      <td>Cambridge Dept. of Public Works -147 Hampshire...</td>\n",
       "      <td>42.371197</td>\n",
       "      <td>-71.097599</td>\n",
       "      <td>Cambridge</td>\n",
       "      <td>19</td>\n",
       "    </tr>\n",
       "    <tr>\n",
       "      <th>192</th>\n",
       "      <td>Silber Way</td>\n",
       "      <td></td>\n",
       "      <td></td>\n",
       "      <td></td>\n",
       "      <td></td>\n",
       "      <td></td>\n",
       "      <td>Silber Way</td>\n",
       "      <td>42.349496</td>\n",
       "      <td>-71.100576</td>\n",
       "      <td>Brookline</td>\n",
       "      <td>19</td>\n",
       "    </tr>\n",
       "  </tbody>\n",
       "</table>\n",
       "</div>"
      ],
      "text/plain": [
       "      StationID StationName_x Lat_x Lon_x City_x NumDocks_x  \\\n",
       "187      K32006                                               \n",
       "188      M32045                                               \n",
       "189      M32050                                               \n",
       "190      M32051                                               \n",
       "191      M32052                                               \n",
       "192  Silber Way                                               \n",
       "\n",
       "                                         StationName_y      Lat_y      Lon_y  \\\n",
       "187                     Commonwealth Ave At Babcock St  42.351547 -71.121263   \n",
       "188                                  Museum of Science  42.367690 -71.071163   \n",
       "189              Verizon Innovation Hub 10 Ware Street  42.372509 -71.113054   \n",
       "190                             Fresh Pond Reservation  42.382678 -71.143479   \n",
       "191  Cambridge Dept. of Public Works -147 Hampshire...  42.371197 -71.097599   \n",
       "192                                         Silber Way  42.349496 -71.100576   \n",
       "\n",
       "        City_y  NumDocks_y  \n",
       "187  Brookline          19  \n",
       "188  Cambridge          19  \n",
       "189  Cambridge          19  \n",
       "190  Cambridge          19  \n",
       "191  Cambridge          19  \n",
       "192  Brookline          19  "
      ]
     },
     "execution_count": 16,
     "metadata": {},
     "output_type": "execute_result"
    }
   ],
   "source": [
    "stations_df[(stations_df.Lat_x != stations_df.Lat_y) | (stations_df.Lon_x != stations_df.Lon_y)]"
   ]
  },
  {
   "cell_type": "code",
   "execution_count": 17,
   "metadata": {
    "collapsed": true
   },
   "outputs": [],
   "source": [
    "# Collect all station names for each station ID\n",
    "station_names = {}\n",
    "for idx in range(stations_df.shape[0]):\n",
    "    id_info = stations_df.iloc[idx]\n",
    "    station_names[id_info.StationID] = set(id_info[['StationName_x', 'StationName_y']])"
   ]
  },
  {
   "cell_type": "markdown",
   "metadata": {},
   "source": [
    "### Trip Info"
   ]
  },
  {
   "cell_type": "code",
   "execution_count": null,
   "metadata": {},
   "outputs": [],
   "source": [
    "new_df.head()"
   ]
  },
  {
   "cell_type": "code",
   "execution_count": null,
   "metadata": {
    "collapsed": true
   },
   "outputs": [],
   "source": [
    "start_df = new_df[['StartID', 'StartName', 'StartLat', 'StartLon']]\n",
    "start_df = start_df[~start_df.duplicated()]"
   ]
  },
  {
   "cell_type": "code",
   "execution_count": null,
   "metadata": {
    "collapsed": true
   },
   "outputs": [],
   "source": [
    "stop_df = new_df[['StopID', 'StopName', 'StopLat', 'StopLon']]\n",
    "stop_df = stop_df[~stop_df.duplicated()]"
   ]
  },
  {
   "cell_type": "code",
   "execution_count": null,
   "metadata": {},
   "outputs": [],
   "source": [
    "df = pd.DataFrame(np.concatenate([start_df.as_matrix(), stop_df.as_matrix()], axis=0), \n",
    "                  columns=['StationID', 'StationName', 'Lat', 'Lon'])\n",
    "df = df[~df.duplicated()]\n",
    "df = df.sort_values('StationID', axis=0)\n",
    "df = df.reset_index(drop=True)\n",
    "df.head()"
   ]
  },
  {
   "cell_type": "code",
   "execution_count": null,
   "metadata": {},
   "outputs": [],
   "source": [
    "df[(df == 0).any(axis=1)]"
   ]
  },
  {
   "cell_type": "code",
   "execution_count": null,
   "metadata": {
    "collapsed": true,
    "scrolled": true
   },
   "outputs": [],
   "source": [
    "# Station mapping\n",
    "station_map = {}\n",
    "for sid in set(df.StationID):\n",
    "    station_map[sid] = set(df[df.StationID == sid].StationName) "
   ]
  },
  {
   "cell_type": "code",
   "execution_count": null,
   "metadata": {},
   "outputs": [],
   "source": [
    "station_map"
   ]
  },
  {
   "cell_type": "code",
   "execution_count": null,
   "metadata": {
    "collapsed": true
   },
   "outputs": [],
   "source": [
    "# Find similarity of station naming\n",
    "similarity = []\n",
    "for key1, val1 in stations.items():\n",
    "    for key2, val2 in station_map.items():\n",
    "        item1 = list(val1)[0]\n",
    "        for item2 in val2:\n",
    "            similarity.append([key1, str(key2), item1, item2, \n",
    "                               fuzz.partial_ratio(str(item1), str(item2)),\n",
    "                               fuzz.partial_token_sort_ratio(str(item1), str(item2)),\n",
    "                               fuzz.partial_token_set_ratio(str(item1), str(item2))])        "
   ]
  },
  {
   "cell_type": "code",
   "execution_count": null,
   "metadata": {
    "scrolled": true
   },
   "outputs": [],
   "source": [
    "# Convert similarity calculations to df\n",
    "mapping_df = pd.DataFrame(similarity, columns=['StationID1', 'StationID2', \n",
    "                                               'StationName1', 'StationName2', \n",
    "                                               'PartialSimilarity', 'PartialTokenSort', 'PartialTokenSet'])\n",
    "mapping_df"
   ]
  },
  {
   "cell_type": "code",
   "execution_count": null,
   "metadata": {},
   "outputs": [],
   "source": [
    "mapping_df.info()"
   ]
  },
  {
   "cell_type": "code",
   "execution_count": null,
   "metadata": {
    "collapsed": true
   },
   "outputs": [],
   "source": [
    "# Find maximum similarity match\n",
    "mapping1 = pd.DataFrame()\n",
    "mapping2 = pd.DataFrame()\n",
    "mapping3 = pd.DataFrame()\n",
    "for ID in set(mapping_df.StationID1):\n",
    "    tmp = mapping_df[mapping_df.StationID1 == ID]\n",
    "    mapping1 = pd.concat([mapping1, pd.DataFrame(tmp.iloc[tmp['PartialSimilarity'].values.argmax(), :]).T], axis=0)\n",
    "    mapping2 = pd.concat([mapping2, pd.DataFrame(tmp.iloc[tmp['PartialTokenSort'].values.argmax(), :]).T], axis=0)\n",
    "    mapping3 = pd.concat([mapping3, pd.DataFrame(tmp.iloc[tmp['PartialTokenSet'].values.argmax(), :]).T], axis=0)"
   ]
  },
  {
   "cell_type": "code",
   "execution_count": null,
   "metadata": {
    "scrolled": true
   },
   "outputs": [],
   "source": [
    "mapping1"
   ]
  },
  {
   "cell_type": "code",
   "execution_count": null,
   "metadata": {},
   "outputs": [],
   "source": [
    "# Spot check any similarity scores below 100\n",
    "mapping1[mapping1.PartialSimilarity < 100]"
   ]
  },
  {
   "cell_type": "code",
   "execution_count": null,
   "metadata": {
    "collapsed": true
   },
   "outputs": [],
   "source": [
    "mapping1 = mapping1.reset_index(drop=True).sort_values('StationID1')"
   ]
  },
  {
   "cell_type": "code",
   "execution_count": null,
   "metadata": {
    "scrolled": true
   },
   "outputs": [],
   "source": [
    "mapping1"
   ]
  },
  {
   "cell_type": "markdown",
   "metadata": {},
   "source": [
    "#### Map Station Info to Trip Data"
   ]
  },
  {
   "cell_type": "code",
   "execution_count": null,
   "metadata": {
    "collapsed": true
   },
   "outputs": [],
   "source": [
    "# Map alpha-numeric ID to starting station\n",
    "mapping1.StationID2 = mapping1.StationID2.astype(int)\n",
    "tmp_df = new_df.merge(mapping1[['StationID1', 'StationID2']], how='left', left_on='StartID', right_on='StationID2')\n",
    "tmp_df = tmp_df.rename(columns={'StartID': 'StartNum', 'StationID1': 'StartID'})\n",
    "tmp_df = tmp_df.drop(columns='StationID2')\n",
    "# Map alpha-numeric ID to stopping station\n",
    "tmp_df = tmp_df.merge(mapping1[['StationID1', 'StationID2']], how='left', left_on='StopID', right_on='StationID2')\n",
    "tmp_df = tmp_df.rename(columns={'StopID': 'StopNum', 'StationID1': 'StopID'})\n",
    "tmp_df = tmp_df.drop(columns=['StationID2', 'StartNum', 'StopNum'])\n",
    "# Map start city\n",
    "tmp_df = tmp_df.merge(stations2_df[['StationID', 'City', 'NumDocks']], how='left', left_on='StartID', right_on='StationID')\n",
    "tmp_df = tmp_df.rename(columns={'City': 'StartCity'})\n",
    "tmp_df = tmp_df.drop(columns=['StationID'])\n",
    "# Map stop city\n",
    "tmp_df = tmp_df.merge(stations2_df[['StationID', 'City']], how='left', left_on='StopID', right_on='StationID')\n",
    "tmp_df = tmp_df.rename(columns={'City': 'StopCity'})\n",
    "tmp_df = tmp_df.drop(columns=['StationID'])"
   ]
  },
  {
   "cell_type": "code",
   "execution_count": null,
   "metadata": {},
   "outputs": [],
   "source": [
    "tmp_df = tmp_df[sorted(tmp_df.columns)]\n",
    "tmp_df.head()"
   ]
  },
  {
   "cell_type": "code",
   "execution_count": null,
   "metadata": {},
   "outputs": [],
   "source": [
    "tmp_df.shape"
   ]
  },
  {
   "cell_type": "code",
   "execution_count": null,
   "metadata": {
    "collapsed": true
   },
   "outputs": [],
   "source": [
    "# Save new df\n",
    "with open('new_mapped.pkl', 'wb') as f:\n",
    "    pickle.dump(tmp_df, f)"
   ]
  },
  {
   "cell_type": "code",
   "execution_count": null,
   "metadata": {
    "collapsed": true
   },
   "outputs": [],
   "source": [
    "# Map Start Lat, Lon, and City\n",
    "tmp2_df = old_df.merge(stations2_df[['StationID', 'Lat', 'Lon', 'City', 'NumDocks']], how='left', left_on='StartID', right_on='StationID')\n",
    "tmp2_df = tmp2_df.rename(columns={'Lat': 'StartLat', 'Lon': 'StartLon', 'City': 'StartCity'})\n",
    "tmp2_df = tmp2_df.drop(columns=['StationID'])\n",
    "# Map Stop Lat, Lon, and City\n",
    "tmp2_df = tmp2_df.merge(stations2_df[['StationID', 'Lat', 'Lon', 'City']], how='left', left_on='StopID', right_on='StationID')\n",
    "tmp2_df = tmp2_df.rename(columns={'Lat': 'StopLat', 'Lon': 'StopLon', 'City': 'StopCity'})\n",
    "tmp2_df = tmp2_df.drop(columns=['StationID'])"
   ]
  },
  {
   "cell_type": "code",
   "execution_count": null,
   "metadata": {},
   "outputs": [],
   "source": [
    "tmp_df2 = tmp2_df[sorted(tmp2_df.columns)]\n",
    "tmp_df2.head()"
   ]
  },
  {
   "cell_type": "code",
   "execution_count": null,
   "metadata": {},
   "outputs": [],
   "source": [
    "tmp2_df.shape"
   ]
  },
  {
   "cell_type": "code",
   "execution_count": null,
   "metadata": {
    "collapsed": true
   },
   "outputs": [],
   "source": [
    "# Save old df\n",
    "with open('old_mapped.pkl', 'wb') as f:\n",
    "    pickle.dump(tmp2_df, f)"
   ]
  },
  {
   "cell_type": "markdown",
   "metadata": {},
   "source": [
    "#### Combine Old Data with New Data"
   ]
  },
  {
   "cell_type": "code",
   "execution_count": null,
   "metadata": {},
   "outputs": [],
   "source": [
    "set(tmp_df.columns).symmetric_difference(set(tmp2_df.columns))"
   ]
  },
  {
   "cell_type": "code",
   "execution_count": null,
   "metadata": {
    "collapsed": true
   },
   "outputs": [],
   "source": [
    "combo = pd.concat([tmp_df, tmp2_df], axis=0)\n",
    "combo = combo.drop(columns=['UserType', 'ZipCode'])"
   ]
  },
  {
   "cell_type": "code",
   "execution_count": null,
   "metadata": {
    "scrolled": false
   },
   "outputs": [],
   "source": [
    "combo.head()"
   ]
  },
  {
   "cell_type": "code",
   "execution_count": null,
   "metadata": {
    "collapsed": true
   },
   "outputs": [],
   "source": [
    "# Save combo df\n",
    "with open('combo.pkl', 'wb') as f:\n",
    "    pickle.dump(combo, f)"
   ]
  },
  {
   "cell_type": "code",
   "execution_count": null,
   "metadata": {
    "collapsed": true
   },
   "outputs": [],
   "source": []
  }
 ],
 "metadata": {
  "kernelspec": {
   "display_name": "Python 3",
   "language": "python",
   "name": "python3"
  },
  "language_info": {
   "codemirror_mode": {
    "name": "ipython",
    "version": 3
   },
   "file_extension": ".py",
   "mimetype": "text/x-python",
   "name": "python",
   "nbconvert_exporter": "python",
   "pygments_lexer": "ipython3",
   "version": "3.6.4"
  },
  "varInspector": {
   "cols": {
    "lenName": 16,
    "lenType": 16,
    "lenVar": 40
   },
   "kernels_config": {
    "python": {
     "delete_cmd_postfix": "",
     "delete_cmd_prefix": "del ",
     "library": "var_list.py",
     "varRefreshCmd": "print(var_dic_list())"
    },
    "r": {
     "delete_cmd_postfix": ") ",
     "delete_cmd_prefix": "rm(",
     "library": "var_list.r",
     "varRefreshCmd": "cat(var_dic_list()) "
    }
   },
   "types_to_exclude": [
    "module",
    "function",
    "builtin_function_or_method",
    "instance",
    "_Feature"
   ],
   "window_display": false
  }
 },
 "nbformat": 4,
 "nbformat_minor": 2
}
