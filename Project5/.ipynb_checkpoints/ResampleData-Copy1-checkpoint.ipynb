{
 "cells": [
  {
   "cell_type": "code",
   "execution_count": 263,
   "metadata": {},
   "outputs": [],
   "source": [
    "import numpy as np\n",
    "import pandas as pd\n",
    "import matplotlib.pyplot as plt\n",
    "from mpl_toolkits.basemap import Basemap\n",
    "%matplotlib inline\n",
    "import os\n",
    "import pickle\n",
    "import re\n",
    "from datetime import datetime as dt\n",
    "\n",
    "from tqdm import tqdm\n",
    "from tqdm import tnrange\n",
    "from tqdm import tqdm_notebook\n",
    "\n",
    "from statsmodels.graphics.tsaplots import plot_acf, plot_pacf\n",
    "from scipy.stats import norm\n",
    "import statsmodels.api as sm\n",
    "from pandas.tools.plotting import autocorrelation_plot\n",
    "from dateutil.relativedelta import relativedelta\n",
    "from datetime import datetime as dt\n",
    "from datetime import timedelta\n",
    "\n",
    "from sklearn import cross_validation, grid_search, linear_model, metrics, pipeline, preprocessing"
   ]
  },
  {
   "cell_type": "markdown",
   "metadata": {
    "collapsed": true
   },
   "source": [
    "### Weather Data"
   ]
  },
  {
   "cell_type": "code",
   "execution_count": 243,
   "metadata": {
    "collapsed": true
   },
   "outputs": [],
   "source": [
    "with open('processed_weather.pkl', 'rb') as f:\n",
    "    weather_df = pickle.load(f)"
   ]
  },
  {
   "cell_type": "code",
   "execution_count": 244,
   "metadata": {
    "scrolled": true
   },
   "outputs": [
    {
     "name": "stderr",
     "output_type": "stream",
     "text": [
      "/home/cneiderer/anaconda3/lib/python3.6/site-packages/ipykernel_launcher.py:11: FutureWarning: convert_objects is deprecated.  To re-infer data dtypes for object columns, use DataFrame.infer_objects()\n",
      "For all other conversions use the data-type specific converters pd.to_datetime, pd.to_timedelta and pd.to_numeric.\n",
      "  # This is added back by InteractiveShellApp.init_path()\n"
     ]
    }
   ],
   "source": [
    "# Set index to measurement time and sort\n",
    "weather_df = weather_df.set_index('MeasurementTime')\n",
    "weather_df = weather_df.sort_index()\n",
    "\n",
    "# Subset on 2015-2017\n",
    "weather_df = weather_df[weather_df.index >= dt.strptime(\"2015-01-01\", \"%Y-%m-%d\")]\n",
    "weather_df = weather_df[weather_df.index < dt.strptime(\"2018-01-01\", \"%Y-%m-%d\")]\n",
    "\n",
    "# \n",
    "weather_df = weather_df[~weather_df.TempC.isna()]\n",
    "weather_df = weather_df.convert_objects(convert_numeric=True)\n",
    "\n",
    "# Fix swapped temperature columns\n",
    "weather_df = weather_df.rename(columns={'TempC': 'TempF', 'TempF': 'TempC'})\n",
    "\n",
    "# Limit index to hour\n",
    "weather_df.index = pd.to_datetime(weather_df.index.strftime(\"%Y-%m-%d %H\"))"
   ]
  },
  {
   "cell_type": "code",
   "execution_count": 245,
   "metadata": {},
   "outputs": [],
   "source": [
    "def encode_weather(weather):\n",
    "    \n",
    "    joined = ''.join(weather).replace(',', '')\n",
    "    l.append(joined)\n",
    "    if len(joined) == 0:\n",
    "        return 1       \n",
    "    else:\n",
    "        heavy = re.compile('[\\w\\s]*heavy[\\w\\s]*', flags=re.I)\n",
    "        moderate = re.compile('[\\w\\s]*(rain|snow|ice)[\\w\\s]*', flags=re.I)\n",
    "        light = re.compile('[\\w\\s]*(mist|drizzle)[\\w\\s]*', flags=re.I)\n",
    "        if len(heavy.findall(joined)) > 0:\n",
    "            return 4\n",
    "        elif len(moderate.findall(joined)) > 0:\n",
    "            return 3\n",
    "        elif len(light.findall(joined)) > 0:\n",
    "            return 2\n",
    "        else: \n",
    "            return 1\n",
    "        \n",
    "weather_df['Weather'] = weather_df.WeatherText.apply(encode_weather)"
   ]
  },
  {
   "cell_type": "code",
   "execution_count": 246,
   "metadata": {},
   "outputs": [
    {
     "data": {
      "text/html": [
       "<div>\n",
       "<style scoped>\n",
       "    .dataframe tbody tr th:only-of-type {\n",
       "        vertical-align: middle;\n",
       "    }\n",
       "\n",
       "    .dataframe tbody tr th {\n",
       "        vertical-align: top;\n",
       "    }\n",
       "\n",
       "    .dataframe thead th {\n",
       "        text-align: right;\n",
       "    }\n",
       "</style>\n",
       "<table border=\"1\" class=\"dataframe\">\n",
       "  <thead>\n",
       "    <tr style=\"text-align: right;\">\n",
       "      <th></th>\n",
       "      <th>ReportType</th>\n",
       "      <th>SkyConditions</th>\n",
       "      <th>Visibility</th>\n",
       "      <th>WeatherType</th>\n",
       "      <th>TempF</th>\n",
       "      <th>TempC</th>\n",
       "      <th>Humidity</th>\n",
       "      <th>WindSpeed</th>\n",
       "      <th>WindDirection</th>\n",
       "      <th>Pressure</th>\n",
       "      <th>PressureTendency</th>\n",
       "      <th>PressureChange</th>\n",
       "      <th>Precip</th>\n",
       "      <th>SkyText</th>\n",
       "      <th>WeatherText</th>\n",
       "      <th>Weather</th>\n",
       "    </tr>\n",
       "  </thead>\n",
       "  <tbody>\n",
       "    <tr>\n",
       "      <th>2015-01-01 00:00:00</th>\n",
       "      <td>FM-15</td>\n",
       "      <td>SCT:04 65</td>\n",
       "      <td>10.0</td>\n",
       "      <td>NaN</td>\n",
       "      <td>22.0</td>\n",
       "      <td>-5.6</td>\n",
       "      <td>50.0</td>\n",
       "      <td>10.0</td>\n",
       "      <td>220.0</td>\n",
       "      <td>30.07</td>\n",
       "      <td>8.0</td>\n",
       "      <td>NaN</td>\n",
       "      <td>0.0</td>\n",
       "      <td>Scattered</td>\n",
       "      <td>[, , ]</td>\n",
       "      <td>1</td>\n",
       "    </tr>\n",
       "    <tr>\n",
       "      <th>2015-01-01 01:00:00</th>\n",
       "      <td>FM-15</td>\n",
       "      <td>FEW:02 65 BKN:07 180</td>\n",
       "      <td>10.0</td>\n",
       "      <td>NaN</td>\n",
       "      <td>22.0</td>\n",
       "      <td>-5.6</td>\n",
       "      <td>50.0</td>\n",
       "      <td>10.0</td>\n",
       "      <td>230.0</td>\n",
       "      <td>30.05</td>\n",
       "      <td>NaN</td>\n",
       "      <td>NaN</td>\n",
       "      <td>0.0</td>\n",
       "      <td>Broken</td>\n",
       "      <td>[, , ]</td>\n",
       "      <td>1</td>\n",
       "    </tr>\n",
       "    <tr>\n",
       "      <th>2015-01-01 02:00:00</th>\n",
       "      <td>FM-15</td>\n",
       "      <td>BKN:07 150 BKN:07 200</td>\n",
       "      <td>10.0</td>\n",
       "      <td>NaN</td>\n",
       "      <td>22.0</td>\n",
       "      <td>-5.6</td>\n",
       "      <td>50.0</td>\n",
       "      <td>11.0</td>\n",
       "      <td>230.0</td>\n",
       "      <td>30.03</td>\n",
       "      <td>NaN</td>\n",
       "      <td>NaN</td>\n",
       "      <td>0.0</td>\n",
       "      <td>Broken</td>\n",
       "      <td>[, , ]</td>\n",
       "      <td>1</td>\n",
       "    </tr>\n",
       "    <tr>\n",
       "      <th>2015-01-01 03:00:00</th>\n",
       "      <td>FM-15</td>\n",
       "      <td>SCT:04 130 BKN:07 170</td>\n",
       "      <td>10.0</td>\n",
       "      <td>NaN</td>\n",
       "      <td>24.0</td>\n",
       "      <td>-4.4</td>\n",
       "      <td>46.0</td>\n",
       "      <td>13.0</td>\n",
       "      <td>240.0</td>\n",
       "      <td>30.01</td>\n",
       "      <td>6.0</td>\n",
       "      <td>NaN</td>\n",
       "      <td>0.0</td>\n",
       "      <td>Broken</td>\n",
       "      <td>[, , ]</td>\n",
       "      <td>1</td>\n",
       "    </tr>\n",
       "    <tr>\n",
       "      <th>2015-01-01 04:00:00</th>\n",
       "      <td>FM-15</td>\n",
       "      <td>CLR:00</td>\n",
       "      <td>10.0</td>\n",
       "      <td>NaN</td>\n",
       "      <td>22.0</td>\n",
       "      <td>-5.6</td>\n",
       "      <td>52.0</td>\n",
       "      <td>15.0</td>\n",
       "      <td>230.0</td>\n",
       "      <td>30.00</td>\n",
       "      <td>NaN</td>\n",
       "      <td>NaN</td>\n",
       "      <td>0.0</td>\n",
       "      <td>Clear</td>\n",
       "      <td>[, , ]</td>\n",
       "      <td>1</td>\n",
       "    </tr>\n",
       "  </tbody>\n",
       "</table>\n",
       "</div>"
      ],
      "text/plain": [
       "                    ReportType          SkyConditions  Visibility WeatherType  \\\n",
       "2015-01-01 00:00:00      FM-15              SCT:04 65        10.0         NaN   \n",
       "2015-01-01 01:00:00      FM-15   FEW:02 65 BKN:07 180        10.0         NaN   \n",
       "2015-01-01 02:00:00      FM-15  BKN:07 150 BKN:07 200        10.0         NaN   \n",
       "2015-01-01 03:00:00      FM-15  SCT:04 130 BKN:07 170        10.0         NaN   \n",
       "2015-01-01 04:00:00      FM-15                 CLR:00        10.0         NaN   \n",
       "\n",
       "                     TempF  TempC  Humidity  WindSpeed  WindDirection  \\\n",
       "2015-01-01 00:00:00   22.0   -5.6      50.0       10.0          220.0   \n",
       "2015-01-01 01:00:00   22.0   -5.6      50.0       10.0          230.0   \n",
       "2015-01-01 02:00:00   22.0   -5.6      50.0       11.0          230.0   \n",
       "2015-01-01 03:00:00   24.0   -4.4      46.0       13.0          240.0   \n",
       "2015-01-01 04:00:00   22.0   -5.6      52.0       15.0          230.0   \n",
       "\n",
       "                     Pressure  PressureTendency  PressureChange  Precip  \\\n",
       "2015-01-01 00:00:00     30.07               8.0             NaN     0.0   \n",
       "2015-01-01 01:00:00     30.05               NaN             NaN     0.0   \n",
       "2015-01-01 02:00:00     30.03               NaN             NaN     0.0   \n",
       "2015-01-01 03:00:00     30.01               6.0             NaN     0.0   \n",
       "2015-01-01 04:00:00     30.00               NaN             NaN     0.0   \n",
       "\n",
       "                       SkyText WeatherText  Weather  \n",
       "2015-01-01 00:00:00  Scattered      [, , ]        1  \n",
       "2015-01-01 01:00:00     Broken      [, , ]        1  \n",
       "2015-01-01 02:00:00     Broken      [, , ]        1  \n",
       "2015-01-01 03:00:00     Broken      [, , ]        1  \n",
       "2015-01-01 04:00:00      Clear      [, , ]        1  "
      ]
     },
     "execution_count": 246,
     "metadata": {},
     "output_type": "execute_result"
    }
   ],
   "source": [
    "weather_df.head()"
   ]
  },
  {
   "cell_type": "code",
   "execution_count": 247,
   "metadata": {},
   "outputs": [
    {
     "data": {
      "text/html": [
       "<div>\n",
       "<style scoped>\n",
       "    .dataframe tbody tr th:only-of-type {\n",
       "        vertical-align: middle;\n",
       "    }\n",
       "\n",
       "    .dataframe tbody tr th {\n",
       "        vertical-align: top;\n",
       "    }\n",
       "\n",
       "    .dataframe thead th {\n",
       "        text-align: right;\n",
       "    }\n",
       "</style>\n",
       "<table border=\"1\" class=\"dataframe\">\n",
       "  <thead>\n",
       "    <tr style=\"text-align: right;\">\n",
       "      <th></th>\n",
       "      <th>Weather</th>\n",
       "      <th>TempF</th>\n",
       "      <th>TempC</th>\n",
       "      <th>WindSpeed</th>\n",
       "      <th>WindDirection</th>\n",
       "      <th>Pressure</th>\n",
       "      <th>Precip</th>\n",
       "    </tr>\n",
       "  </thead>\n",
       "  <tbody>\n",
       "    <tr>\n",
       "      <th>2015-01-01 00:00:00</th>\n",
       "      <td>1</td>\n",
       "      <td>22.0</td>\n",
       "      <td>-5.6</td>\n",
       "      <td>10.0</td>\n",
       "      <td>220.0</td>\n",
       "      <td>30.07</td>\n",
       "      <td>0.0</td>\n",
       "    </tr>\n",
       "    <tr>\n",
       "      <th>2015-01-01 01:00:00</th>\n",
       "      <td>1</td>\n",
       "      <td>22.0</td>\n",
       "      <td>-5.6</td>\n",
       "      <td>10.0</td>\n",
       "      <td>230.0</td>\n",
       "      <td>30.05</td>\n",
       "      <td>0.0</td>\n",
       "    </tr>\n",
       "    <tr>\n",
       "      <th>2015-01-01 02:00:00</th>\n",
       "      <td>1</td>\n",
       "      <td>22.0</td>\n",
       "      <td>-5.6</td>\n",
       "      <td>11.0</td>\n",
       "      <td>230.0</td>\n",
       "      <td>30.03</td>\n",
       "      <td>0.0</td>\n",
       "    </tr>\n",
       "    <tr>\n",
       "      <th>2015-01-01 03:00:00</th>\n",
       "      <td>1</td>\n",
       "      <td>24.0</td>\n",
       "      <td>-4.4</td>\n",
       "      <td>13.0</td>\n",
       "      <td>240.0</td>\n",
       "      <td>30.01</td>\n",
       "      <td>0.0</td>\n",
       "    </tr>\n",
       "    <tr>\n",
       "      <th>2015-01-01 04:00:00</th>\n",
       "      <td>1</td>\n",
       "      <td>22.0</td>\n",
       "      <td>-5.6</td>\n",
       "      <td>15.0</td>\n",
       "      <td>230.0</td>\n",
       "      <td>30.00</td>\n",
       "      <td>0.0</td>\n",
       "    </tr>\n",
       "  </tbody>\n",
       "</table>\n",
       "</div>"
      ],
      "text/plain": [
       "                     Weather  TempF  TempC  WindSpeed  WindDirection  \\\n",
       "2015-01-01 00:00:00        1   22.0   -5.6       10.0          220.0   \n",
       "2015-01-01 01:00:00        1   22.0   -5.6       10.0          230.0   \n",
       "2015-01-01 02:00:00        1   22.0   -5.6       11.0          230.0   \n",
       "2015-01-01 03:00:00        1   24.0   -4.4       13.0          240.0   \n",
       "2015-01-01 04:00:00        1   22.0   -5.6       15.0          230.0   \n",
       "\n",
       "                     Pressure  Precip  \n",
       "2015-01-01 00:00:00     30.07     0.0  \n",
       "2015-01-01 01:00:00     30.05     0.0  \n",
       "2015-01-01 02:00:00     30.03     0.0  \n",
       "2015-01-01 03:00:00     30.01     0.0  \n",
       "2015-01-01 04:00:00     30.00     0.0  "
      ]
     },
     "execution_count": 247,
     "metadata": {},
     "output_type": "execute_result"
    }
   ],
   "source": [
    "# Select columns of interest\n",
    "weather_cols = ['Weather', 'TempF', 'TempC', 'WindSpeed', 'WindDirection', 'Pressure', 'Precip']\n",
    "weather_df = weather_df[weather_cols]\n",
    "weather_df.head()"
   ]
  },
  {
   "cell_type": "code",
   "execution_count": 248,
   "metadata": {},
   "outputs": [
    {
     "name": "stdout",
     "output_type": "stream",
     "text": [
      "<class 'pandas.core.frame.DataFrame'>\n",
      "DatetimeIndex: 26285 entries, 2015-01-01 00:00:00 to 2017-12-31 23:00:00\n",
      "Data columns (total 7 columns):\n",
      "Weather          26285 non-null int64\n",
      "TempF            26282 non-null float64\n",
      "TempC            26282 non-null float64\n",
      "WindSpeed        26278 non-null float64\n",
      "WindDirection    25924 non-null float64\n",
      "Pressure         26239 non-null float64\n",
      "Precip           24364 non-null float64\n",
      "dtypes: float64(6), int64(1)\n",
      "memory usage: 2.9 MB\n"
     ]
    }
   ],
   "source": [
    "weather_df.info()"
   ]
  },
  {
   "cell_type": "markdown",
   "metadata": {},
   "source": [
    "### Trip Data"
   ]
  },
  {
   "cell_type": "code",
   "execution_count": 258,
   "metadata": {
    "collapsed": true
   },
   "outputs": [],
   "source": [
    "with open('start.pkl', 'rb') as f:\n",
    "    start_df = pickle.load(f)"
   ]
  },
  {
   "cell_type": "code",
   "execution_count": 259,
   "metadata": {
    "collapsed": true
   },
   "outputs": [],
   "source": [
    "# Add work day to df\n",
    "start_df['WorkDay'] = (start_df.index.weekday < 6) * 1\n",
    "\n",
    "# Encode user type\n",
    "start_df.UserType = start_df.UserType.map({'Member': 1, 'Casual': 2})"
   ]
  },
  {
   "cell_type": "code",
   "execution_count": 260,
   "metadata": {},
   "outputs": [],
   "source": [
    "def get_season(doy):\n",
    "    # \"day of year\" ranges for the northern hemisphere\n",
    "    spring = range(80, 172)\n",
    "    summer = range(172, 264)\n",
    "    fall = range(264, 355)\n",
    "    # winter = everything else\n",
    "\n",
    "    if doy in spring:\n",
    "        season = 'Spring'\n",
    "    elif doy in summer:\n",
    "        season = 'Summer'\n",
    "    elif doy in fall:\n",
    "        season = 'Fall'\n",
    "    else:\n",
    "        season = 'Winter'\n",
    "    return season\n",
    "\n",
    "start_df['Season'] = [get_season(xi) for xi in start_df.index.dayofyear]"
   ]
  },
  {
   "cell_type": "code",
   "execution_count": 261,
   "metadata": {
    "collapsed": true
   },
   "outputs": [],
   "source": [
    "# Add MA holidays\n",
    "from workalendar.usa import Massachusetts\n",
    "\n",
    "cal = Massachusetts()\n",
    "ma_holidays = []\n",
    "for yr in [2015, 2016, 2017]:\n",
    "    yr_holidays = cal.holidays(yr)\n",
    "    yr_holidays = [x[0] for x in yr_holidays]\n",
    "    ma_holidays += yr_holidays\n",
    "    \n",
    "# Designate Holidays\n",
    "start_df['Holiday'] = 0    \n",
    "idx_date = start_df.index.date\n",
    "for hdate in ma_holidays:\n",
    "    idx = (idx_date == hdate)\n",
    "    start_df.loc[idx, 'Holiday'] = 1"
   ]
  },
  {
   "cell_type": "code",
   "execution_count": 262,
   "metadata": {},
   "outputs": [
    {
     "data": {
      "text/html": [
       "<div>\n",
       "<style scoped>\n",
       "    .dataframe tbody tr th:only-of-type {\n",
       "        vertical-align: middle;\n",
       "    }\n",
       "\n",
       "    .dataframe tbody tr th {\n",
       "        vertical-align: top;\n",
       "    }\n",
       "\n",
       "    .dataframe thead th {\n",
       "        text-align: right;\n",
       "    }\n",
       "</style>\n",
       "<table border=\"1\" class=\"dataframe\">\n",
       "  <thead>\n",
       "    <tr style=\"text-align: right;\">\n",
       "      <th></th>\n",
       "      <th>Duration</th>\n",
       "      <th>BikeID</th>\n",
       "      <th>UserType</th>\n",
       "      <th>BirthYear</th>\n",
       "      <th>ID</th>\n",
       "      <th>Name</th>\n",
       "      <th>Lat</th>\n",
       "      <th>Lon</th>\n",
       "      <th>Year</th>\n",
       "      <th>Month</th>\n",
       "      <th>Week</th>\n",
       "      <th>Day</th>\n",
       "      <th>Hour</th>\n",
       "      <th>Quarter</th>\n",
       "      <th>DayOfWeek</th>\n",
       "      <th>WorkDay</th>\n",
       "      <th>Season</th>\n",
       "      <th>Holiday</th>\n",
       "    </tr>\n",
       "    <tr>\n",
       "      <th>Time</th>\n",
       "      <th></th>\n",
       "      <th></th>\n",
       "      <th></th>\n",
       "      <th></th>\n",
       "      <th></th>\n",
       "      <th></th>\n",
       "      <th></th>\n",
       "      <th></th>\n",
       "      <th></th>\n",
       "      <th></th>\n",
       "      <th></th>\n",
       "      <th></th>\n",
       "      <th></th>\n",
       "      <th></th>\n",
       "      <th></th>\n",
       "      <th></th>\n",
       "      <th></th>\n",
       "      <th></th>\n",
       "    </tr>\n",
       "  </thead>\n",
       "  <tbody>\n",
       "    <tr>\n",
       "      <th>2015-01-01 00:21:44</th>\n",
       "      <td>542</td>\n",
       "      <td>277</td>\n",
       "      <td>1</td>\n",
       "      <td>1984</td>\n",
       "      <td>115</td>\n",
       "      <td>Porter Square Station</td>\n",
       "      <td>42.387995</td>\n",
       "      <td>-71.119084</td>\n",
       "      <td>2015</td>\n",
       "      <td>1</td>\n",
       "      <td>1</td>\n",
       "      <td>1</td>\n",
       "      <td>0</td>\n",
       "      <td>1</td>\n",
       "      <td>3</td>\n",
       "      <td>1</td>\n",
       "      <td>Winter</td>\n",
       "      <td>1</td>\n",
       "    </tr>\n",
       "    <tr>\n",
       "      <th>2015-01-01 00:27:03</th>\n",
       "      <td>438</td>\n",
       "      <td>648</td>\n",
       "      <td>1</td>\n",
       "      <td>1985</td>\n",
       "      <td>80</td>\n",
       "      <td>MIT Stata Center at Vassar St / Main St</td>\n",
       "      <td>42.361962</td>\n",
       "      <td>-71.092053</td>\n",
       "      <td>2015</td>\n",
       "      <td>1</td>\n",
       "      <td>1</td>\n",
       "      <td>1</td>\n",
       "      <td>0</td>\n",
       "      <td>1</td>\n",
       "      <td>3</td>\n",
       "      <td>1</td>\n",
       "      <td>Winter</td>\n",
       "      <td>1</td>\n",
       "    </tr>\n",
       "    <tr>\n",
       "      <th>2015-01-01 00:31:31</th>\n",
       "      <td>254</td>\n",
       "      <td>555</td>\n",
       "      <td>1</td>\n",
       "      <td>1974</td>\n",
       "      <td>91</td>\n",
       "      <td>One Kendall Square at Hampshire St / Portland St</td>\n",
       "      <td>42.366277</td>\n",
       "      <td>-71.091690</td>\n",
       "      <td>2015</td>\n",
       "      <td>1</td>\n",
       "      <td>1</td>\n",
       "      <td>1</td>\n",
       "      <td>0</td>\n",
       "      <td>1</td>\n",
       "      <td>3</td>\n",
       "      <td>1</td>\n",
       "      <td>Winter</td>\n",
       "      <td>1</td>\n",
       "    </tr>\n",
       "    <tr>\n",
       "      <th>2015-01-01 00:53:46</th>\n",
       "      <td>432</td>\n",
       "      <td>1307</td>\n",
       "      <td>1</td>\n",
       "      <td>1987</td>\n",
       "      <td>115</td>\n",
       "      <td>Porter Square Station</td>\n",
       "      <td>42.387995</td>\n",
       "      <td>-71.119084</td>\n",
       "      <td>2015</td>\n",
       "      <td>1</td>\n",
       "      <td>1</td>\n",
       "      <td>1</td>\n",
       "      <td>0</td>\n",
       "      <td>1</td>\n",
       "      <td>3</td>\n",
       "      <td>1</td>\n",
       "      <td>Winter</td>\n",
       "      <td>1</td>\n",
       "    </tr>\n",
       "    <tr>\n",
       "      <th>2015-01-01 01:07:06</th>\n",
       "      <td>735</td>\n",
       "      <td>177</td>\n",
       "      <td>2</td>\n",
       "      <td>1986</td>\n",
       "      <td>105</td>\n",
       "      <td>Lower Cambridgeport at Magazine St/Riverside Rd</td>\n",
       "      <td>42.356954</td>\n",
       "      <td>-71.113687</td>\n",
       "      <td>2015</td>\n",
       "      <td>1</td>\n",
       "      <td>1</td>\n",
       "      <td>1</td>\n",
       "      <td>1</td>\n",
       "      <td>1</td>\n",
       "      <td>3</td>\n",
       "      <td>1</td>\n",
       "      <td>Winter</td>\n",
       "      <td>1</td>\n",
       "    </tr>\n",
       "  </tbody>\n",
       "</table>\n",
       "</div>"
      ],
      "text/plain": [
       "                     Duration  BikeID  UserType BirthYear   ID  \\\n",
       "Time                                                             \n",
       "2015-01-01 00:21:44       542     277         1      1984  115   \n",
       "2015-01-01 00:27:03       438     648         1      1985   80   \n",
       "2015-01-01 00:31:31       254     555         1      1974   91   \n",
       "2015-01-01 00:53:46       432    1307         1      1987  115   \n",
       "2015-01-01 01:07:06       735     177         2      1986  105   \n",
       "\n",
       "                                                                 Name  \\\n",
       "Time                                                                    \n",
       "2015-01-01 00:21:44                             Porter Square Station   \n",
       "2015-01-01 00:27:03           MIT Stata Center at Vassar St / Main St   \n",
       "2015-01-01 00:31:31  One Kendall Square at Hampshire St / Portland St   \n",
       "2015-01-01 00:53:46                             Porter Square Station   \n",
       "2015-01-01 01:07:06   Lower Cambridgeport at Magazine St/Riverside Rd   \n",
       "\n",
       "                           Lat        Lon  Year  Month  Week  Day  Hour  \\\n",
       "Time                                                                      \n",
       "2015-01-01 00:21:44  42.387995 -71.119084  2015      1     1    1     0   \n",
       "2015-01-01 00:27:03  42.361962 -71.092053  2015      1     1    1     0   \n",
       "2015-01-01 00:31:31  42.366277 -71.091690  2015      1     1    1     0   \n",
       "2015-01-01 00:53:46  42.387995 -71.119084  2015      1     1    1     0   \n",
       "2015-01-01 01:07:06  42.356954 -71.113687  2015      1     1    1     1   \n",
       "\n",
       "                     Quarter  DayOfWeek  WorkDay  Season  Holiday  \n",
       "Time                                                               \n",
       "2015-01-01 00:21:44        1          3        1  Winter        1  \n",
       "2015-01-01 00:27:03        1          3        1  Winter        1  \n",
       "2015-01-01 00:31:31        1          3        1  Winter        1  \n",
       "2015-01-01 00:53:46        1          3        1  Winter        1  \n",
       "2015-01-01 01:07:06        1          3        1  Winter        1  "
      ]
     },
     "execution_count": 262,
     "metadata": {},
     "output_type": "execute_result"
    }
   ],
   "source": [
    "start_df.head()"
   ]
  },
  {
   "cell_type": "code",
   "execution_count": 55,
   "metadata": {},
   "outputs": [
    {
     "name": "stdout",
     "output_type": "stream",
     "text": [
      "<class 'pandas.core.frame.DataFrame'>\n",
      "DatetimeIndex: 3627543 entries, 2015-01-01 00:21:44 to 2017-12-31 23:46:18\n",
      "Data columns (total 18 columns):\n",
      "Duration     int64\n",
      "BikeID       int64\n",
      "UserType     object\n",
      "BirthYear    object\n",
      "ID           int64\n",
      "Name         object\n",
      "Lat          float64\n",
      "Lon          float64\n",
      "Year         int64\n",
      "Month        int64\n",
      "Week         int64\n",
      "Day          int64\n",
      "Hour         int64\n",
      "Quarter      int64\n",
      "DayOfWeek    int64\n",
      "WorkDay      int64\n",
      "Season       int64\n",
      "Holiday      int64\n",
      "dtypes: float64(2), int64(13), object(3)\n",
      "memory usage: 685.8+ MB\n"
     ]
    }
   ],
   "source": [
    "start_df.info()"
   ]
  },
  {
   "cell_type": "markdown",
   "metadata": {},
   "source": [
    "### Resampling Data"
   ]
  },
  {
   "cell_type": "code",
   "execution_count": 56,
   "metadata": {
    "scrolled": true
   },
   "outputs": [],
   "source": [
    "R_hour = start_df.BikeID.resample('H').count()\n",
    "R_hour.name = 'Count'"
   ]
  },
  {
   "cell_type": "code",
   "execution_count": 57,
   "metadata": {
    "collapsed": true
   },
   "outputs": [],
   "source": [
    "R_weather = weather_df.resample('H').mean()"
   ]
  },
  {
   "cell_type": "code",
   "execution_count": 58,
   "metadata": {},
   "outputs": [
    {
     "data": {
      "text/html": [
       "<div>\n",
       "<style scoped>\n",
       "    .dataframe tbody tr th:only-of-type {\n",
       "        vertical-align: middle;\n",
       "    }\n",
       "\n",
       "    .dataframe tbody tr th {\n",
       "        vertical-align: top;\n",
       "    }\n",
       "\n",
       "    .dataframe thead th {\n",
       "        text-align: right;\n",
       "    }\n",
       "</style>\n",
       "<table border=\"1\" class=\"dataframe\">\n",
       "  <thead>\n",
       "    <tr style=\"text-align: right;\">\n",
       "      <th></th>\n",
       "      <th>Visibility</th>\n",
       "      <th>TempF</th>\n",
       "      <th>TempC</th>\n",
       "      <th>Humidity</th>\n",
       "      <th>WindSpeed</th>\n",
       "      <th>WindDirection</th>\n",
       "      <th>Pressure</th>\n",
       "      <th>PressureTendency</th>\n",
       "      <th>PressureChange</th>\n",
       "      <th>Precip</th>\n",
       "    </tr>\n",
       "  </thead>\n",
       "  <tbody>\n",
       "    <tr>\n",
       "      <th>2015-01-01 00:00:00</th>\n",
       "      <td>10.0</td>\n",
       "      <td>22.0</td>\n",
       "      <td>-5.6</td>\n",
       "      <td>50.0</td>\n",
       "      <td>10.0</td>\n",
       "      <td>220.0</td>\n",
       "      <td>30.07</td>\n",
       "      <td>8.0</td>\n",
       "      <td>NaN</td>\n",
       "      <td>0.0</td>\n",
       "    </tr>\n",
       "    <tr>\n",
       "      <th>2015-01-01 01:00:00</th>\n",
       "      <td>10.0</td>\n",
       "      <td>22.0</td>\n",
       "      <td>-5.6</td>\n",
       "      <td>50.0</td>\n",
       "      <td>10.0</td>\n",
       "      <td>230.0</td>\n",
       "      <td>30.05</td>\n",
       "      <td>NaN</td>\n",
       "      <td>NaN</td>\n",
       "      <td>0.0</td>\n",
       "    </tr>\n",
       "    <tr>\n",
       "      <th>2015-01-01 02:00:00</th>\n",
       "      <td>10.0</td>\n",
       "      <td>22.0</td>\n",
       "      <td>-5.6</td>\n",
       "      <td>50.0</td>\n",
       "      <td>11.0</td>\n",
       "      <td>230.0</td>\n",
       "      <td>30.03</td>\n",
       "      <td>NaN</td>\n",
       "      <td>NaN</td>\n",
       "      <td>0.0</td>\n",
       "    </tr>\n",
       "    <tr>\n",
       "      <th>2015-01-01 03:00:00</th>\n",
       "      <td>10.0</td>\n",
       "      <td>24.0</td>\n",
       "      <td>-4.4</td>\n",
       "      <td>46.0</td>\n",
       "      <td>13.0</td>\n",
       "      <td>240.0</td>\n",
       "      <td>30.01</td>\n",
       "      <td>6.0</td>\n",
       "      <td>NaN</td>\n",
       "      <td>0.0</td>\n",
       "    </tr>\n",
       "    <tr>\n",
       "      <th>2015-01-01 04:00:00</th>\n",
       "      <td>10.0</td>\n",
       "      <td>22.0</td>\n",
       "      <td>-5.6</td>\n",
       "      <td>52.0</td>\n",
       "      <td>15.0</td>\n",
       "      <td>230.0</td>\n",
       "      <td>30.00</td>\n",
       "      <td>NaN</td>\n",
       "      <td>NaN</td>\n",
       "      <td>0.0</td>\n",
       "    </tr>\n",
       "  </tbody>\n",
       "</table>\n",
       "</div>"
      ],
      "text/plain": [
       "                     Visibility  TempF  TempC  Humidity  WindSpeed  \\\n",
       "2015-01-01 00:00:00        10.0   22.0   -5.6      50.0       10.0   \n",
       "2015-01-01 01:00:00        10.0   22.0   -5.6      50.0       10.0   \n",
       "2015-01-01 02:00:00        10.0   22.0   -5.6      50.0       11.0   \n",
       "2015-01-01 03:00:00        10.0   24.0   -4.4      46.0       13.0   \n",
       "2015-01-01 04:00:00        10.0   22.0   -5.6      52.0       15.0   \n",
       "\n",
       "                     WindDirection  Pressure  PressureTendency  \\\n",
       "2015-01-01 00:00:00          220.0     30.07               8.0   \n",
       "2015-01-01 01:00:00          230.0     30.05               NaN   \n",
       "2015-01-01 02:00:00          230.0     30.03               NaN   \n",
       "2015-01-01 03:00:00          240.0     30.01               6.0   \n",
       "2015-01-01 04:00:00          230.0     30.00               NaN   \n",
       "\n",
       "                     PressureChange  Precip  \n",
       "2015-01-01 00:00:00             NaN     0.0  \n",
       "2015-01-01 01:00:00             NaN     0.0  \n",
       "2015-01-01 02:00:00             NaN     0.0  \n",
       "2015-01-01 03:00:00             NaN     0.0  \n",
       "2015-01-01 04:00:00             NaN     0.0  "
      ]
     },
     "execution_count": 58,
     "metadata": {},
     "output_type": "execute_result"
    }
   ],
   "source": [
    "R_weather.head()"
   ]
  },
  {
   "cell_type": "code",
   "execution_count": 64,
   "metadata": {},
   "outputs": [],
   "source": [
    "data_df = pd.concat([R_hour, R_weather], axis=1)"
   ]
  },
  {
   "cell_type": "code",
   "execution_count": 65,
   "metadata": {},
   "outputs": [
    {
     "data": {
      "text/html": [
       "<div>\n",
       "<style scoped>\n",
       "    .dataframe tbody tr th:only-of-type {\n",
       "        vertical-align: middle;\n",
       "    }\n",
       "\n",
       "    .dataframe tbody tr th {\n",
       "        vertical-align: top;\n",
       "    }\n",
       "\n",
       "    .dataframe thead th {\n",
       "        text-align: right;\n",
       "    }\n",
       "</style>\n",
       "<table border=\"1\" class=\"dataframe\">\n",
       "  <thead>\n",
       "    <tr style=\"text-align: right;\">\n",
       "      <th></th>\n",
       "      <th>Count</th>\n",
       "      <th>Visibility</th>\n",
       "      <th>TempF</th>\n",
       "      <th>TempC</th>\n",
       "      <th>Humidity</th>\n",
       "      <th>WindSpeed</th>\n",
       "      <th>WindDirection</th>\n",
       "      <th>Pressure</th>\n",
       "      <th>PressureTendency</th>\n",
       "      <th>PressureChange</th>\n",
       "      <th>Precip</th>\n",
       "    </tr>\n",
       "    <tr>\n",
       "      <th>Time</th>\n",
       "      <th></th>\n",
       "      <th></th>\n",
       "      <th></th>\n",
       "      <th></th>\n",
       "      <th></th>\n",
       "      <th></th>\n",
       "      <th></th>\n",
       "      <th></th>\n",
       "      <th></th>\n",
       "      <th></th>\n",
       "      <th></th>\n",
       "    </tr>\n",
       "  </thead>\n",
       "  <tbody>\n",
       "    <tr>\n",
       "      <th>2015-01-01 00:00:00</th>\n",
       "      <td>4</td>\n",
       "      <td>10.0</td>\n",
       "      <td>22.0</td>\n",
       "      <td>-5.6</td>\n",
       "      <td>50.0</td>\n",
       "      <td>10.0</td>\n",
       "      <td>220.0</td>\n",
       "      <td>30.07</td>\n",
       "      <td>8.0</td>\n",
       "      <td>NaN</td>\n",
       "      <td>0.0</td>\n",
       "    </tr>\n",
       "    <tr>\n",
       "      <th>2015-01-01 01:00:00</th>\n",
       "      <td>3</td>\n",
       "      <td>10.0</td>\n",
       "      <td>22.0</td>\n",
       "      <td>-5.6</td>\n",
       "      <td>50.0</td>\n",
       "      <td>10.0</td>\n",
       "      <td>230.0</td>\n",
       "      <td>30.05</td>\n",
       "      <td>NaN</td>\n",
       "      <td>NaN</td>\n",
       "      <td>0.0</td>\n",
       "    </tr>\n",
       "    <tr>\n",
       "      <th>2015-01-01 02:00:00</th>\n",
       "      <td>1</td>\n",
       "      <td>10.0</td>\n",
       "      <td>22.0</td>\n",
       "      <td>-5.6</td>\n",
       "      <td>50.0</td>\n",
       "      <td>11.0</td>\n",
       "      <td>230.0</td>\n",
       "      <td>30.03</td>\n",
       "      <td>NaN</td>\n",
       "      <td>NaN</td>\n",
       "      <td>0.0</td>\n",
       "    </tr>\n",
       "    <tr>\n",
       "      <th>2015-01-01 03:00:00</th>\n",
       "      <td>0</td>\n",
       "      <td>10.0</td>\n",
       "      <td>24.0</td>\n",
       "      <td>-4.4</td>\n",
       "      <td>46.0</td>\n",
       "      <td>13.0</td>\n",
       "      <td>240.0</td>\n",
       "      <td>30.01</td>\n",
       "      <td>6.0</td>\n",
       "      <td>NaN</td>\n",
       "      <td>0.0</td>\n",
       "    </tr>\n",
       "    <tr>\n",
       "      <th>2015-01-01 04:00:00</th>\n",
       "      <td>1</td>\n",
       "      <td>10.0</td>\n",
       "      <td>22.0</td>\n",
       "      <td>-5.6</td>\n",
       "      <td>52.0</td>\n",
       "      <td>15.0</td>\n",
       "      <td>230.0</td>\n",
       "      <td>30.00</td>\n",
       "      <td>NaN</td>\n",
       "      <td>NaN</td>\n",
       "      <td>0.0</td>\n",
       "    </tr>\n",
       "  </tbody>\n",
       "</table>\n",
       "</div>"
      ],
      "text/plain": [
       "                     Count  Visibility  TempF  TempC  Humidity  WindSpeed  \\\n",
       "Time                                                                        \n",
       "2015-01-01 00:00:00      4        10.0   22.0   -5.6      50.0       10.0   \n",
       "2015-01-01 01:00:00      3        10.0   22.0   -5.6      50.0       10.0   \n",
       "2015-01-01 02:00:00      1        10.0   22.0   -5.6      50.0       11.0   \n",
       "2015-01-01 03:00:00      0        10.0   24.0   -4.4      46.0       13.0   \n",
       "2015-01-01 04:00:00      1        10.0   22.0   -5.6      52.0       15.0   \n",
       "\n",
       "                     WindDirection  Pressure  PressureTendency  \\\n",
       "Time                                                             \n",
       "2015-01-01 00:00:00          220.0     30.07               8.0   \n",
       "2015-01-01 01:00:00          230.0     30.05               NaN   \n",
       "2015-01-01 02:00:00          230.0     30.03               NaN   \n",
       "2015-01-01 03:00:00          240.0     30.01               6.0   \n",
       "2015-01-01 04:00:00          230.0     30.00               NaN   \n",
       "\n",
       "                     PressureChange  Precip  \n",
       "Time                                         \n",
       "2015-01-01 00:00:00             NaN     0.0  \n",
       "2015-01-01 01:00:00             NaN     0.0  \n",
       "2015-01-01 02:00:00             NaN     0.0  \n",
       "2015-01-01 03:00:00             NaN     0.0  \n",
       "2015-01-01 04:00:00             NaN     0.0  "
      ]
     },
     "execution_count": 65,
     "metadata": {},
     "output_type": "execute_result"
    }
   ],
   "source": [
    "data_df.head()"
   ]
  },
  {
   "cell_type": "code",
   "execution_count": 66,
   "metadata": {
    "scrolled": true
   },
   "outputs": [
    {
     "name": "stdout",
     "output_type": "stream",
     "text": [
      "<class 'pandas.core.frame.DataFrame'>\n",
      "DatetimeIndex: 26304 entries, 2015-01-01 00:00:00 to 2017-12-31 23:00:00\n",
      "Freq: H\n",
      "Data columns (total 11 columns):\n",
      "Count               26304 non-null int64\n",
      "Visibility          26244 non-null float64\n",
      "TempF               26284 non-null float64\n",
      "TempC               26284 non-null float64\n",
      "Humidity            26282 non-null float64\n",
      "WindSpeed           26277 non-null float64\n",
      "WindDirection       25923 non-null float64\n",
      "Pressure            26239 non-null float64\n",
      "PressureTendency    8742 non-null float64\n",
      "PressureChange      3 non-null float64\n",
      "Precip              24364 non-null float64\n",
      "dtypes: float64(10), int64(1)\n",
      "memory usage: 3.7 MB\n"
     ]
    }
   ],
   "source": [
    "data_df.info()"
   ]
  },
  {
   "cell_type": "markdown",
   "metadata": {},
   "source": [
    "### With StatsModels"
   ]
  },
  {
   "cell_type": "code",
   "execution_count": 161,
   "metadata": {
    "collapsed": true
   },
   "outputs": [],
   "source": [
    "endog = data_df.Count.resample('W').sum()\n",
    "exog = data_df[['Visibility', 'TempC', 'Humidity', 'WindSpeed', 'Pressure']].resample('W').mean()"
   ]
  },
  {
   "cell_type": "code",
   "execution_count": 162,
   "metadata": {},
   "outputs": [
    {
     "data": {
      "text/plain": [
       "(157,)"
      ]
     },
     "execution_count": 162,
     "metadata": {},
     "output_type": "execute_result"
    }
   ],
   "source": [
    "endog.shape"
   ]
  },
  {
   "cell_type": "code",
   "execution_count": 163,
   "metadata": {},
   "outputs": [
    {
     "data": {
      "text/plain": [
       "(157, 5)"
      ]
     },
     "execution_count": 163,
     "metadata": {},
     "output_type": "execute_result"
    }
   ],
   "source": [
    "exog.shape"
   ]
  },
  {
   "cell_type": "code",
   "execution_count": 170,
   "metadata": {},
   "outputs": [
    {
     "name": "stdout",
     "output_type": "stream",
     "text": [
      "                           Statespace Model Results                           \n",
      "==============================================================================\n",
      "Dep. Variable:                  Count   No. Observations:                  157\n",
      "Model:               SARIMAX(0, 1, 1)   Log Likelihood               -1485.929\n",
      "Date:                Thu, 29 Mar 2018   AIC                           2987.859\n",
      "Time:                        17:20:07   BIC                           3012.309\n",
      "Sample:                    01-04-2015   HQIC                          2997.789\n",
      "                         - 12-31-2017                                         \n",
      "Covariance Type:                  opg                                         \n",
      "==============================================================================\n",
      "                 coef    std err          z      P>|z|      [0.025      0.975]\n",
      "------------------------------------------------------------------------------\n",
      "intercept     40.2055    276.788      0.145      0.885    -502.289     582.700\n",
      "Visibility   463.9826    477.951      0.971      0.332    -472.783    1400.748\n",
      "TempC        564.3899     71.956      7.844      0.000     423.359     705.421\n",
      "Humidity    -147.5020     39.422     -3.742      0.000    -224.769     -70.235\n",
      "WindSpeed   -424.8443    143.705     -2.956      0.003    -706.500    -143.189\n",
      "Pressure   -1494.5087   1504.987     -0.993      0.321   -4444.228    1455.211\n",
      "ma.L1          0.0065      0.046      0.140      0.888      -0.084       0.097\n",
      "sigma2      1.094e+07   1.07e+06     10.248      0.000    8.85e+06     1.3e+07\n",
      "===================================================================================\n",
      "Ljung-Box (Q):                       54.45   Jarque-Bera (JB):                 5.22\n",
      "Prob(Q):                              0.06   Prob(JB):                         0.07\n",
      "Heteroskedasticity (H):               0.96   Skew:                             0.09\n",
      "Prob(H) (two-sided):                  0.88   Kurtosis:                         3.88\n",
      "===================================================================================\n",
      "\n",
      "Warnings:\n",
      "[1] Covariance matrix calculated using the outer product of gradients (complex-step).\n",
      "[2] Covariance matrix is singular or near-singular, with condition number 5.72e+14. Standard errors may be unstable.\n",
      "Figure(432x288)\n",
      "Figure(432x288)\n"
     ]
    },
    {
     "data": {
      "image/png": "[encoded data removed]",
      "text/plain": [
       "<Figure size 432x288 with 1 Axes>"
      ]
     },
     "metadata": {},
     "output_type": "display_data"
    },
    {
     "data": {
      "image/png": "[encoded data removed]",
      "text/plain": [
       "<Figure size 432x288 with 1 Axes>"
      ]
     },
     "metadata": {},
     "output_type": "display_data"
    },
    {
     "data": {
      "image/png": "[encoded data removed]",
      "text/plain": [
       "<Figure size 432x288 with 1 Axes>"
      ]
     },
     "metadata": {},
     "output_type": "display_data"
    }
   ],
   "source": [
    "sarima_week = sm.tsa.statespace.SARIMAX(endog, exog=exog, order=(0,1,1), seasonal_order=(0,0,0,52), trend='c').fit()\n",
    "\n",
    "print(sarima_week.summary())\n",
    "\n",
    "plt.plot(sarima_week.resid, \"bo\")\n",
    "print(plot_acf(sarima_week.resid, lags=100))\n",
    "print(plot_pacf(sarima_week.resid, lags=100))"
   ]
  },
  {
   "cell_type": "code",
   "execution_count": null,
   "metadata": {
    "collapsed": true
   },
   "outputs": [],
   "source": []
  },
  {
   "cell_type": "code",
   "execution_count": null,
   "metadata": {
    "collapsed": true
   },
   "outputs": [],
   "source": []
  },
  {
   "cell_type": "code",
   "execution_count": null,
   "metadata": {
    "collapsed": true
   },
   "outputs": [],
   "source": []
  },
  {
   "cell_type": "markdown",
   "metadata": {},
   "source": [
    "### With Prophet"
   ]
  },
  {
   "cell_type": "code",
   "execution_count": 68,
   "metadata": {
    "collapsed": true
   },
   "outputs": [],
   "source": [
    "# Python\n",
    "import pandas as pd\n",
    "import numpy as np\n",
    "from fbprophet import Prophet"
   ]
  },
  {
   "cell_type": "code",
   "execution_count": 124,
   "metadata": {
    "collapsed": true
   },
   "outputs": [],
   "source": [
    "df1 = data_df.Count.resample('D').sum()\n",
    "df = df1.copy()\n",
    "# df2 = data_df.TempC.resample('D').mean()\n",
    "# df = pd.concat([df1, df2], axis=1)"
   ]
  },
  {
   "cell_type": "code",
   "execution_count": 125,
   "metadata": {},
   "outputs": [
    {
     "data": {
      "text/html": [
       "<div>\n",
       "<style scoped>\n",
       "    .dataframe tbody tr th:only-of-type {\n",
       "        vertical-align: middle;\n",
       "    }\n",
       "\n",
       "    .dataframe tbody tr th {\n",
       "        vertical-align: top;\n",
       "    }\n",
       "\n",
       "    .dataframe thead th {\n",
       "        text-align: right;\n",
       "    }\n",
       "</style>\n",
       "<table border=\"1\" class=\"dataframe\">\n",
       "  <thead>\n",
       "    <tr style=\"text-align: right;\">\n",
       "      <th></th>\n",
       "      <th>ds</th>\n",
       "      <th>y</th>\n",
       "    </tr>\n",
       "  </thead>\n",
       "  <tbody>\n",
       "    <tr>\n",
       "      <th>0</th>\n",
       "      <td>2015-01-01</td>\n",
       "      <td>127</td>\n",
       "    </tr>\n",
       "    <tr>\n",
       "      <th>1</th>\n",
       "      <td>2015-01-02</td>\n",
       "      <td>213</td>\n",
       "    </tr>\n",
       "    <tr>\n",
       "      <th>2</th>\n",
       "      <td>2015-01-03</td>\n",
       "      <td>142</td>\n",
       "    </tr>\n",
       "    <tr>\n",
       "      <th>3</th>\n",
       "      <td>2015-01-04</td>\n",
       "      <td>112</td>\n",
       "    </tr>\n",
       "    <tr>\n",
       "      <th>4</th>\n",
       "      <td>2015-01-05</td>\n",
       "      <td>337</td>\n",
       "    </tr>\n",
       "  </tbody>\n",
       "</table>\n",
       "</div>"
      ],
      "text/plain": [
       "          ds    y\n",
       "0 2015-01-01  127\n",
       "1 2015-01-02  213\n",
       "2 2015-01-03  142\n",
       "3 2015-01-04  112\n",
       "4 2015-01-05  337"
      ]
     },
     "execution_count": 125,
     "metadata": {},
     "output_type": "execute_result"
    }
   ],
   "source": [
    "df = df.reset_index()\n",
    "df = df.rename(columns={'Time': 'ds', 'Count': 'y'})\n",
    "df.head()"
   ]
  },
  {
   "cell_type": "code",
   "execution_count": 126,
   "metadata": {},
   "outputs": [],
   "source": [
    "# df.loc[df.TempC.isna(), 'TempC'] = df.TempC.mean()"
   ]
  },
  {
   "cell_type": "code",
   "execution_count": 127,
   "metadata": {
    "scrolled": true
   },
   "outputs": [
    {
     "name": "stderr",
     "output_type": "stream",
     "text": [
      "INFO:fbprophet.forecaster:Disabling daily seasonality. Run prophet with daily_seasonality=True to override this.\n"
     ]
    }
   ],
   "source": [
    "m = Prophet(interval_width=0.95)\n",
    "# m.add_regressor('TempC')\n",
    "m.fit(df);"
   ]
  },
  {
   "cell_type": "code",
   "execution_count": 128,
   "metadata": {},
   "outputs": [
    {
     "data": {
      "text/html": [
       "<div>\n",
       "<style scoped>\n",
       "    .dataframe tbody tr th:only-of-type {\n",
       "        vertical-align: middle;\n",
       "    }\n",
       "\n",
       "    .dataframe tbody tr th {\n",
       "        vertical-align: top;\n",
       "    }\n",
       "\n",
       "    .dataframe thead th {\n",
       "        text-align: right;\n",
       "    }\n",
       "</style>\n",
       "<table border=\"1\" class=\"dataframe\">\n",
       "  <thead>\n",
       "    <tr style=\"text-align: right;\">\n",
       "      <th></th>\n",
       "      <th>ds</th>\n",
       "    </tr>\n",
       "  </thead>\n",
       "  <tbody>\n",
       "    <tr>\n",
       "      <th>1456</th>\n",
       "      <td>2018-12-27</td>\n",
       "    </tr>\n",
       "    <tr>\n",
       "      <th>1457</th>\n",
       "      <td>2018-12-28</td>\n",
       "    </tr>\n",
       "    <tr>\n",
       "      <th>1458</th>\n",
       "      <td>2018-12-29</td>\n",
       "    </tr>\n",
       "    <tr>\n",
       "      <th>1459</th>\n",
       "      <td>2018-12-30</td>\n",
       "    </tr>\n",
       "    <tr>\n",
       "      <th>1460</th>\n",
       "      <td>2018-12-31</td>\n",
       "    </tr>\n",
       "  </tbody>\n",
       "</table>\n",
       "</div>"
      ],
      "text/plain": [
       "             ds\n",
       "1456 2018-12-27\n",
       "1457 2018-12-28\n",
       "1458 2018-12-29\n",
       "1459 2018-12-30\n",
       "1460 2018-12-31"
      ]
     },
     "execution_count": 128,
     "metadata": {},
     "output_type": "execute_result"
    }
   ],
   "source": [
    "future = m.make_future_dataframe(periods=365)\n",
    "# future_temp = np.random.uniform(df.TempC.min(), df.TempC.max(), size=future.shape)\n",
    "# future['TempC'] = future_temp\n",
    "future.tail()"
   ]
  },
  {
   "cell_type": "code",
   "execution_count": 129,
   "metadata": {},
   "outputs": [
    {
     "data": {
      "text/html": [
       "<div>\n",
       "<style scoped>\n",
       "    .dataframe tbody tr th:only-of-type {\n",
       "        vertical-align: middle;\n",
       "    }\n",
       "\n",
       "    .dataframe tbody tr th {\n",
       "        vertical-align: top;\n",
       "    }\n",
       "\n",
       "    .dataframe thead th {\n",
       "        text-align: right;\n",
       "    }\n",
       "</style>\n",
       "<table border=\"1\" class=\"dataframe\">\n",
       "  <thead>\n",
       "    <tr style=\"text-align: right;\">\n",
       "      <th></th>\n",
       "      <th>ds</th>\n",
       "      <th>yhat</th>\n",
       "      <th>yhat_lower</th>\n",
       "      <th>yhat_upper</th>\n",
       "    </tr>\n",
       "  </thead>\n",
       "  <tbody>\n",
       "    <tr>\n",
       "      <th>1456</th>\n",
       "      <td>2018-12-27</td>\n",
       "      <td>1949.601372</td>\n",
       "      <td>267.285415</td>\n",
       "      <td>3544.323356</td>\n",
       "    </tr>\n",
       "    <tr>\n",
       "      <th>1457</th>\n",
       "      <td>2018-12-28</td>\n",
       "      <td>1738.912540</td>\n",
       "      <td>15.823161</td>\n",
       "      <td>3507.899356</td>\n",
       "    </tr>\n",
       "    <tr>\n",
       "      <th>1458</th>\n",
       "      <td>2018-12-29</td>\n",
       "      <td>911.274476</td>\n",
       "      <td>-750.818320</td>\n",
       "      <td>2636.118388</td>\n",
       "    </tr>\n",
       "    <tr>\n",
       "      <th>1459</th>\n",
       "      <td>2018-12-30</td>\n",
       "      <td>669.534683</td>\n",
       "      <td>-1125.394004</td>\n",
       "      <td>2259.384896</td>\n",
       "    </tr>\n",
       "    <tr>\n",
       "      <th>1460</th>\n",
       "      <td>2018-12-31</td>\n",
       "      <td>1490.472946</td>\n",
       "      <td>-139.793721</td>\n",
       "      <td>3154.397297</td>\n",
       "    </tr>\n",
       "  </tbody>\n",
       "</table>\n",
       "</div>"
      ],
      "text/plain": [
       "             ds         yhat   yhat_lower   yhat_upper\n",
       "1456 2018-12-27  1949.601372   267.285415  3544.323356\n",
       "1457 2018-12-28  1738.912540    15.823161  3507.899356\n",
       "1458 2018-12-29   911.274476  -750.818320  2636.118388\n",
       "1459 2018-12-30   669.534683 -1125.394004  2259.384896\n",
       "1460 2018-12-31  1490.472946  -139.793721  3154.397297"
      ]
     },
     "execution_count": 129,
     "metadata": {},
     "output_type": "execute_result"
    }
   ],
   "source": [
    "forecast = m.predict(future)\n",
    "forecast[['ds', 'yhat', 'yhat_lower', 'yhat_upper']].tail()"
   ]
  },
  {
   "cell_type": "code",
   "execution_count": 130,
   "metadata": {
    "scrolled": false
   },
   "outputs": [
    {
     "data": {
      "image/png": "[encoded data removed]",
      "text/plain": [
       "<Figure size 720x432 with 1 Axes>"
      ]
     },
     "metadata": {},
     "output_type": "display_data"
    }
   ],
   "source": [
    "m.plot(forecast);"
   ]
  },
  {
   "cell_type": "code",
   "execution_count": 131,
   "metadata": {
    "scrolled": false
   },
   "outputs": [
    {
     "data": {
      "image/png": "[encoded data removed]",
      "text/plain": [
       "<Figure size 648x648 with 3 Axes>"
      ]
     },
     "metadata": {},
     "output_type": "display_data"
    }
   ],
   "source": [
    "m.plot_components(forecast);"
   ]
  },
  {
   "cell_type": "code",
   "execution_count": null,
   "metadata": {},
   "outputs": [],
   "source": []
  },
  {
   "cell_type": "code",
   "execution_count": null,
   "metadata": {
    "collapsed": true
   },
   "outputs": [],
   "source": []
  }
 ],
 "metadata": {
  "kernelspec": {
   "display_name": "Python 3",
   "language": "python",
   "name": "python3"
  },
  "language_info": {
   "codemirror_mode": {
    "name": "ipython",
    "version": 3
   },
   "file_extension": ".py",
   "mimetype": "text/x-python",
   "name": "python",
   "nbconvert_exporter": "python",
   "pygments_lexer": "ipython3",
   "version": "3.6.4"
  },
  "varInspector": {
   "cols": {
    "lenName": 16,
    "lenType": 16,
    "lenVar": 40
   },
   "kernels_config": {
    "python": {
     "delete_cmd_postfix": "",
     "delete_cmd_prefix": "del ",
     "library": "var_list.py",
     "varRefreshCmd": "print(var_dic_list())"
    },
    "r": {
     "delete_cmd_postfix": ") ",
     "delete_cmd_prefix": "rm(",
     "library": "var_list.r",
     "varRefreshCmd": "cat(var_dic_list()) "
    }
   },
   "types_to_exclude": [
    "module",
    "function",
    "builtin_function_or_method",
    "instance",
    "_Feature"
   ],
   "window_display": false
  }
 },
 "nbformat": 4,
 "nbformat_minor": 2
}
