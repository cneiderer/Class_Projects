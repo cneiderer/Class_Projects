{
 "cells": [
  {
   "cell_type": "code",
   "execution_count": 1,
   "metadata": {},
   "outputs": [],
   "source": [
    "import numpy as np\n",
    "import pandas as pd\n",
    "import matplotlib.pyplot as plt\n",
    "from mpl_toolkits.basemap import Basemap\n",
    "%matplotlib inline\n",
    "import os\n",
    "import pickle\n",
    "import re"
   ]
  },
  {
   "cell_type": "markdown",
   "metadata": {
    "collapsed": true
   },
   "source": [
    "### Load Data"
   ]
  },
  {
   "cell_type": "code",
   "execution_count": 5,
   "metadata": {
    "code_folding": [
     0
    ]
   },
   "outputs": [
    {
     "name": "stderr",
     "output_type": "stream",
     "text": [
      "/home/cneiderer/anaconda3/lib/python3.6/site-packages/IPython/core/interactiveshell.py:2728: DtypeWarning: Columns (10,11,14,15,84,86) have mixed types. Specify dtype option on import or set low_memory=False.\n",
      "  interactivity=interactivity, compiler=compiler, result=result)\n",
      "/home/cneiderer/anaconda3/lib/python3.6/site-packages/IPython/core/interactiveshell.py:2728: DtypeWarning: Columns (14,15,67,85,87) have mixed types. Specify dtype option on import or set low_memory=False.\n",
      "  interactivity=interactivity, compiler=compiler, result=result)\n",
      "/home/cneiderer/anaconda3/lib/python3.6/site-packages/IPython/core/interactiveshell.py:2728: DtypeWarning: Columns (14,15,22,23,25,67,84,86) have mixed types. Specify dtype option on import or set low_memory=False.\n",
      "  interactivity=interactivity, compiler=compiler, result=result)\n",
      "/home/cneiderer/anaconda3/lib/python3.6/site-packages/IPython/core/interactiveshell.py:2728: DtypeWarning: Columns (10,11,84,86) have mixed types. Specify dtype option on import or set low_memory=False.\n",
      "  interactivity=interactivity, compiler=compiler, result=result)\n",
      "/home/cneiderer/anaconda3/lib/python3.6/site-packages/IPython/core/interactiveshell.py:2728: DtypeWarning: Columns (10,11,14,15,25,67) have mixed types. Specify dtype option on import or set low_memory=False.\n",
      "  interactivity=interactivity, compiler=compiler, result=result)\n",
      "/home/cneiderer/anaconda3/lib/python3.6/site-packages/IPython/core/interactiveshell.py:2728: DtypeWarning: Columns (22,67,85,87) have mixed types. Specify dtype option on import or set low_memory=False.\n",
      "  interactivity=interactivity, compiler=compiler, result=result)\n"
     ]
    }
   ],
   "source": [
    "# Define path to weather data\n",
    "weather_data_path = '/home/cneiderer/Metis/boston_weather_data'\n",
    "# Load data\n",
    "weather_df = pd.DataFrame()\n",
    "for f in os.listdir(weather_data_path):\n",
    "    fparts = os.path.splitext(f)\n",
    "    if fparts[1] == '.csv':\n",
    "        weather_df = pd.concat([weather_df, pd.read_csv(os.path.join(weather_data_path, f))], axis=0)"
   ]
  },
  {
   "cell_type": "markdown",
   "metadata": {},
   "source": [
    "### Select Data"
   ]
  },
  {
   "cell_type": "code",
   "execution_count": 9,
   "metadata": {
    "code_folding": [
     0
    ],
    "collapsed": true
   },
   "outputs": [],
   "source": [
    "def select_and_rename_cols(df):\n",
    "    \n",
    "    # Select hourly columns only\n",
    "    cols = ['DATE']\n",
    "    for c in df.columns[7:]:\n",
    "        if c[:6].lower() == 'hourly':\n",
    "            cols.append(c)\n",
    "    df = df[cols]\n",
    "\n",
    "    # Remove hourly from column names\n",
    "    cols = []\n",
    "    for c in df.columns:\n",
    "        cols.append(re.sub('hourly', '', c.lower()))\n",
    "    df.columns = cols  \n",
    "    \n",
    "    # Select relevant columns\n",
    "    df = df[['date', 'skyconditions', 'visibility', 'prsentweathertype', \n",
    "             'drybulbtempf', 'drybulbtempc', 'relativehumidity', \n",
    "             'windspeed', 'winddirection', 'stationpressure', \n",
    "             'pressuretendency', 'pressurechange', 'precip']]\n",
    "    \n",
    "    # Rename columns\n",
    "    df.columns = ['MeasurementTime', 'SkyConditions', 'Visibility', 'WeatherType', \n",
    "                  'TempC', 'TempF', 'Humidity', 'WindSpeed', 'WindDirection',\n",
    "                  'Pressure', 'PressureTendency', 'PressureChange', 'Precip']\n",
    "    \n",
    "    return df"
   ]
  },
  {
   "cell_type": "code",
   "execution_count": 13,
   "metadata": {},
   "outputs": [
    {
     "data": {
      "text/html": [
       "<div>\n",
       "<style scoped>\n",
       "    .dataframe tbody tr th:only-of-type {\n",
       "        vertical-align: middle;\n",
       "    }\n",
       "\n",
       "    .dataframe tbody tr th {\n",
       "        vertical-align: top;\n",
       "    }\n",
       "\n",
       "    .dataframe thead th {\n",
       "        text-align: right;\n",
       "    }\n",
       "</style>\n",
       "<table border=\"1\" class=\"dataframe\">\n",
       "  <thead>\n",
       "    <tr style=\"text-align: right;\">\n",
       "      <th></th>\n",
       "      <th>MeasurementTime</th>\n",
       "      <th>SkyConditions</th>\n",
       "      <th>Visibility</th>\n",
       "      <th>WeatherType</th>\n",
       "      <th>TempC</th>\n",
       "      <th>TempF</th>\n",
       "      <th>Humidity</th>\n",
       "      <th>WindSpeed</th>\n",
       "      <th>WindDirection</th>\n",
       "      <th>Pressure</th>\n",
       "      <th>PressureTendency</th>\n",
       "      <th>PressureChange</th>\n",
       "      <th>Precip</th>\n",
       "    </tr>\n",
       "  </thead>\n",
       "  <tbody>\n",
       "    <tr>\n",
       "      <th>0</th>\n",
       "      <td>2018-01-01 00:54</td>\n",
       "      <td>CLR:00</td>\n",
       "      <td>10.00</td>\n",
       "      <td>NaN</td>\n",
       "      <td>2</td>\n",
       "      <td>-16.7</td>\n",
       "      <td>59.0</td>\n",
       "      <td>16</td>\n",
       "      <td>320</td>\n",
       "      <td>30.17</td>\n",
       "      <td>1.0</td>\n",
       "      <td>NaN</td>\n",
       "      <td>0.00</td>\n",
       "    </tr>\n",
       "    <tr>\n",
       "      <th>1</th>\n",
       "      <td>2018-01-01 01:00</td>\n",
       "      <td>NaN</td>\n",
       "      <td>NaN</td>\n",
       "      <td>NaN</td>\n",
       "      <td>2</td>\n",
       "      <td>-16.7</td>\n",
       "      <td>59.0</td>\n",
       "      <td>16</td>\n",
       "      <td>320</td>\n",
       "      <td>30.18</td>\n",
       "      <td>1.0</td>\n",
       "      <td>-0.01</td>\n",
       "      <td>NaN</td>\n",
       "    </tr>\n",
       "    <tr>\n",
       "      <th>2</th>\n",
       "      <td>2018-01-01 01:54</td>\n",
       "      <td>CLR:00</td>\n",
       "      <td>10.00</td>\n",
       "      <td>NaN</td>\n",
       "      <td>1</td>\n",
       "      <td>-17.2</td>\n",
       "      <td>59.0</td>\n",
       "      <td>11</td>\n",
       "      <td>300</td>\n",
       "      <td>30.19</td>\n",
       "      <td>NaN</td>\n",
       "      <td>NaN</td>\n",
       "      <td>0.00</td>\n",
       "    </tr>\n",
       "    <tr>\n",
       "      <th>3</th>\n",
       "      <td>2018-01-01 02:54</td>\n",
       "      <td>CLR:00</td>\n",
       "      <td>10.00</td>\n",
       "      <td>NaN</td>\n",
       "      <td>1</td>\n",
       "      <td>-17.2</td>\n",
       "      <td>54.0</td>\n",
       "      <td>21</td>\n",
       "      <td>290</td>\n",
       "      <td>30.19</td>\n",
       "      <td>NaN</td>\n",
       "      <td>NaN</td>\n",
       "      <td>0.00</td>\n",
       "    </tr>\n",
       "    <tr>\n",
       "      <th>4</th>\n",
       "      <td>2018-01-01 03:54</td>\n",
       "      <td>CLR:00</td>\n",
       "      <td>10.00</td>\n",
       "      <td>NaN</td>\n",
       "      <td>1</td>\n",
       "      <td>-17.2</td>\n",
       "      <td>54.0</td>\n",
       "      <td>18</td>\n",
       "      <td>290</td>\n",
       "      <td>30.18</td>\n",
       "      <td>0.0</td>\n",
       "      <td>NaN</td>\n",
       "      <td>0.00</td>\n",
       "    </tr>\n",
       "  </tbody>\n",
       "</table>\n",
       "</div>"
      ],
      "text/plain": [
       "    MeasurementTime SkyConditions Visibility WeatherType TempC  TempF  \\\n",
       "0  2018-01-01 00:54        CLR:00      10.00         NaN     2  -16.7   \n",
       "1  2018-01-01 01:00           NaN        NaN         NaN     2  -16.7   \n",
       "2  2018-01-01 01:54        CLR:00      10.00         NaN     1  -17.2   \n",
       "3  2018-01-01 02:54        CLR:00      10.00         NaN     1  -17.2   \n",
       "4  2018-01-01 03:54        CLR:00      10.00         NaN     1  -17.2   \n",
       "\n",
       "   Humidity WindSpeed WindDirection Pressure  PressureTendency PressureChange  \\\n",
       "0      59.0        16           320    30.17               1.0            NaN   \n",
       "1      59.0        16           320    30.18               1.0          -0.01   \n",
       "2      59.0        11           300    30.19               NaN            NaN   \n",
       "3      54.0        21           290    30.19               NaN            NaN   \n",
       "4      54.0        18           290    30.18               0.0            NaN   \n",
       "\n",
       "  Precip  \n",
       "0   0.00  \n",
       "1    NaN  \n",
       "2   0.00  \n",
       "3   0.00  \n",
       "4   0.00  "
      ]
     },
     "execution_count": 13,
     "metadata": {},
     "output_type": "execute_result"
    }
   ],
   "source": [
    "weather_df = select_and_rename_cols(weather_df)\n",
    "weather_df.head()"
   ]
  },
  {
   "cell_type": "code",
   "execution_count": 35,
   "metadata": {},
   "outputs": [],
   "source": [
    "# tmp = weather_df[weather_df.MeasurementTime.apply(lambda x: x[-2:]=='54')]"
   ]
  },
  {
   "cell_type": "code",
   "execution_count": null,
   "metadata": {
    "code_folding": [],
    "collapsed": true
   },
   "outputs": [],
   "source": [
    "# Save weather df\n",
    "with open('raw_weather.pkl', 'wb') as f:\n",
    "    pickle.dump(weather_df, f)"
   ]
  },
  {
   "cell_type": "markdown",
   "metadata": {},
   "source": [
    "### Map Sky Codes"
   ]
  },
  {
   "cell_type": "code",
   "execution_count": 240,
   "metadata": {
    "code_folding": [
     0
    ],
    "collapsed": true
   },
   "outputs": [],
   "source": [
    "# NOAA AU weather code mapping\n",
    "sky_map = {'': '', \n",
    "           'CLR': 'Clear',\n",
    "           'FEW': 'Few',\n",
    "           'SCT': 'Scattered',\n",
    "           'BKN': 'Broken',\n",
    "           'OVC': 'Overcast',\n",
    "           'VV': 'Obscured'}\n",
    "\n",
    "def map_sky_codes(code):\n",
    "\n",
    "    # Check for nans (which are type float)\n",
    "    if isinstance(code, float):\n",
    "        return ''\n",
    "    \n",
    "    # Map obscured levels to VV for consitency\n",
    "    sky = re.sub('(09|10)(?=:)', 'VV', code)\n",
    "    # Remove all digits \n",
    "    sky = re.sub('\\d+', ' ', sky)\n",
    "    # Replace all colons\n",
    "    sky = re.sub(':', '', sky)\n",
    "    # Strip leading/trailing whitespace and split into list\n",
    "    sky = sky.strip().split()\n",
    "    \n",
    "    # Extract description from sky map\n",
    "    if 'OVC' in sky:\n",
    "        return sky_map['OVC']\n",
    "    elif 'BKN' in sky:\n",
    "        return sky_map['BKN']\n",
    "    elif 'SCT' in sky:\n",
    "        return sky_map['SCT']\n",
    "    elif 'FEW' in sky:\n",
    "        return sky_map['FEW']\n",
    "    elif 'CLR' in sky:\n",
    "        return sky_map['CLR']\n",
    "    elif 'VV' in sky:\n",
    "        return sky_map['VV']\n",
    "    else:\n",
    "        return ''"
   ]
  },
  {
   "cell_type": "code",
   "execution_count": 241,
   "metadata": {
    "collapsed": true
   },
   "outputs": [],
   "source": [
    "weather_df['SkyText'] = weather_df.SkyConditions.apply(map_sky_codes)"
   ]
  },
  {
   "cell_type": "markdown",
   "metadata": {},
   "source": [
    "### Map Weather Codes"
   ]
  },
  {
   "cell_type": "code",
   "execution_count": 211,
   "metadata": {
    "code_folding": [
     0
    ],
    "collapsed": true
   },
   "outputs": [],
   "source": [
    "# # NOAA AU weather code mapping\n",
    "# au_map = {'': '', \n",
    "#           'DZ:01': 'Drizzle',\n",
    "#           'RA:02': 'Rain',\n",
    "#           'SN:03': 'Snow',\n",
    "#           'SG:04': 'Snow Grains',\n",
    "#           'IC:05': 'Ice Crystals',\n",
    "#           'PL:06': 'Ice Pellets',\n",
    "#           'GR:07': 'Hail',\n",
    "#           'GS:08': 'Small Hail and/or Snow Pellets',\n",
    "#           'UP:09': 'Unknown Precipitation',\n",
    "#           'BR:1': 'Mist',\n",
    "#           'FG:2': 'Fog',\n",
    "#           'FU:3': 'Smoke',\n",
    "#           'VA:4': 'Volcanic Ash',\n",
    "#           'DU:5': 'Widespread Dust',\n",
    "#           'SA:6': 'Sand',\n",
    "#           'HZ:7': 'Haze',\n",
    "#           'PY:8': 'Spray',\n",
    "#           'PO:1': 'Well developed dust/sand whirls',\n",
    "#           'SQ:2': 'Squalls',\n",
    "#           'FC:3': 'Funnel CLoud, Waterspout or Tornado',\n",
    "#           'SS:4': 'Sandstorm',\n",
    "#           'DS:5': 'Duststorm'}"
   ]
  },
  {
   "cell_type": "code",
   "execution_count": 243,
   "metadata": {
    "code_folding": [
     0
    ],
    "collapsed": true
   },
   "outputs": [],
   "source": [
    "# # NOAA AU weather code prefix mapping\n",
    "# au_pre = {'': '',\n",
    "#           '-': 'Light',\n",
    "#           '+': 'Heavy',\n",
    "#           'VC': 'vicinity (apparent but not at point of observation)',\n",
    "#           'MI': 'shallow',\n",
    "#           'PR': 'partial',\n",
    "#           'BC': 'patches',\n",
    "#           'DR': 'low drifting',\n",
    "#           'BL': 'blowing',\n",
    "#           'SH': 'showers',\n",
    "#           'TS': 'thunderstorm',\n",
    "#           'FZ': 'freezing'}"
   ]
  },
  {
   "cell_type": "code",
   "execution_count": 213,
   "metadata": {
    "code_folding": [
     0
    ],
    "collapsed": true
   },
   "outputs": [],
   "source": [
    "# NOAA AU weather code mapping\n",
    "au_map = {'': '', \n",
    "          'DZ': 'Drizzle',\n",
    "          'RA': 'Rain',\n",
    "          'SN': 'Snow',\n",
    "          'SG': 'Snow Grains',\n",
    "          'IC': 'Ice Crystals',\n",
    "          'PL': 'Ice Pellets',\n",
    "          'GR': 'Hail',\n",
    "          'GS': 'Small Hail and/or Snow Pellets',\n",
    "          'UP': 'Unknown Precipitation',\n",
    "          'BR': 'Mist',\n",
    "          'FG': 'Fog',\n",
    "          'FU': 'Smoke',\n",
    "          'VA': 'Volcanic Ash',\n",
    "          'DU': 'Widespread Dust',\n",
    "          'SA': 'Sand',\n",
    "          'HZ': 'Haze',\n",
    "          'PY': 'Spray',\n",
    "          'PO': 'Well developed dust/sand whirls',\n",
    "          'SQ': 'Squalls',\n",
    "          'FC': 'Funnel CLoud, Waterspout or Tornado',\n",
    "          'SS': 'Sandstorm',\n",
    "          'DS': 'Duststorm',\n",
    "          '-': 'Light',\n",
    "          '+': 'Heavy',\n",
    "          'VC': 'vicinity',\n",
    "          'MI': 'shallow',\n",
    "          'PR': 'partial',\n",
    "          'BC': 'patches',\n",
    "          'DR': 'low drifting',\n",
    "          'BL': 'blowing',\n",
    "          'SH': 'showers',\n",
    "          'TS': 'thunderstorm',\n",
    "          'FZ': 'freezing'}"
   ]
  },
  {
   "cell_type": "code",
   "execution_count": 214,
   "metadata": {
    "code_folding": [
     0
    ],
    "collapsed": true
   },
   "outputs": [],
   "source": [
    "# NOAA AW weather code mapping\n",
    "aw_map = {'': '',\n",
    "          'HZ:04': 'Haze, smoke, or dust in suspension in the air, visibility equal to or greater than 1km',\n",
    "          'FU:05': 'Smoke',\n",
    "          'DU:07': 'Dust or sand raised by wind at or near the station at the time of observation, ' +\n",
    "                   'but no well‐developed dust whirl(s) or sand, whirl(s), and no duststorm or sandstorm seen or, ' + \n",
    "                   'in the case of ships, blowing spray at the station',\n",
    "          'BR:10': 'Mist',\n",
    "          '11': 'Diamond dust',\n",
    "          '12': 'Distant lightning',\n",
    "          'SQ:18': 'Squalls',\n",
    "          '20': 'Fog (during preceding hour but not at time of observation)',\n",
    "          '21': 'Precipitation (during preceding hour but not at time of observation)',\n",
    "          '22': 'Drizzle (not freezing) or snow grains (during preceding hour but not at time of observation)',\n",
    "          '23': 'Rain (not freezing) (during preceding hour but not at time of observation)',\n",
    "          '24': 'Snow (during preceding hour but not at time of observation)',\n",
    "          '25': 'Freezing drizzle or freezing rain (during preceding hour but not at time of observation)',\n",
    "          '26': 'Thunderstorm (with or without precipitation) (during preceding hour but not at time of observation)',\n",
    "          '27': 'Blowing or drifting snow or sand (during preceding hour but not at time of observation)',\n",
    "          '28': 'Blowing or drifting snow or sand, visibility equal to or greater than 1 km ' + \n",
    "                '(during preceding hour but not at time of observation)',\n",
    "          '29': 'Blowing or drifting snow or sand, visibility less than 1 km ' + \n",
    "                '(during preceding hour but not at time of observation)',\n",
    "          'FG:30': 'Fog',\n",
    "          'FG:31': 'Fog or ice fog in patches',\n",
    "          'FG:32': 'Fog or ice fog, has become thinner during the past hour',\n",
    "          'FG:33': 'Fog or ice fog, no appreciable change during the past hour',\n",
    "          'FG:34': 'Fog or ice fog, has begun or become thicker during the past hour',\n",
    "          'FG:35': 'Fog, depositing rime',\n",
    "          '40': 'Precipitation',\n",
    "          '41': 'Precipitation, slight or moderate',\n",
    "          '42': 'Precipitation, heavy',\n",
    "          '43': 'Liquid precipitation, slight or moderate',\n",
    "          '44': 'Liquid precipitation, heavy',\n",
    "          '45': 'Solid precipitation, slight or moderate',\n",
    "          '46': 'Solid precipitation, heavy',\n",
    "          '47': 'Freezing precipitation, slight or moderate',\n",
    "          '48': 'Freezing precipitation, heavy',\n",
    "          'DZ:50': 'Drizzle',\n",
    "          'DZ:51': 'Drizzle, slight',\n",
    "          'DZ:52': 'Drizzle, moderate',\n",
    "          'DZ:53': 'Drizzle, heavy',\n",
    "          'FZDZ:54': 'Drizzle, freezing, slight',\n",
    "          'FZDZ:55': 'Drizzle, freezing, moderate',\n",
    "          'FZDZ:56': 'Drizzle, freezing, heavy',\n",
    "          'DZ:57': 'Drizzle and rain, slight',\n",
    "          'DZ:58': 'Drizzle and rain, moderate or heavy',\n",
    "          'RA:60': 'Rain',\n",
    "          'RA:61': 'Rain, slight',\n",
    "          'RA:62': 'Rain, moderate',\n",
    "          'RA:63': 'Rain, heavy',\n",
    "          'FZRA:64': 'Rain, freezing, slight',\n",
    "          'FZRA:65': 'Rain, freezing, moderate',\n",
    "          'FZRA:66': 'Rain, freezing, heavy',\n",
    "          'RA:67': 'Rain or drizzle and snow, slight',\n",
    "          'RA:68': 'Rain or drizzle and snow, moderate or heavy',\n",
    "          'SN:70': 'Snow',\n",
    "          'SN:71': 'Snow, slight',\n",
    "          'SN:72': 'Snow, moderate',\n",
    "          'SN:73': 'Snow, heavy',\n",
    "          'PL:74': 'Ice pellets, slight',\n",
    "          'PL:75': 'Ice pellets, moderate',\n",
    "          'PL:76': 'Ice pellets, heavy',\n",
    "          'SG:77': 'Snow grains',\n",
    "          'IC:78': 'Ice crystals',\n",
    "          '80': 'Showers or intermittent precipitation',\n",
    "          'SHRA:81': 'Rain showers or intermittent rain, slight',\n",
    "          'SHRA:82': 'Rain showers or intermittent rain, moderate',\n",
    "          'SHRA:83': 'Rain showers or intermittent rain, heavy',\n",
    "          'SHRA:84': 'Rain showers or intermittent rain, violent',\n",
    "          'SHSN:85': 'Snow showers or intermittent snow, slight',\n",
    "          'SHSN:86': 'Snow showers or intermittent snow, moderate',\n",
    "          'SHSN:87': 'Snow showers or intermittent snow, heavy',\n",
    "          'HAIL:89': 'Hail',\n",
    "          'TS': 'Thunderstorm',\n",
    "          'TS:90': 'Thunderstorm',\n",
    "          'TS:91': 'Thunderstorm, slight or moderate, with no precipitation',\n",
    "          'TS:92': 'Thunderstorm, slight or moderate, with rain showers and/or snow showers',\n",
    "          'TS:93': 'Thunderstorm, slight or moderate, with hail',\n",
    "          'HAIL:93': 'Thunderstorm, slight or moderate, with hail',\n",
    "          'TS:94': 'Thunderstorm, heavy, with no precipitation',\n",
    "          'TS:95': 'Thunderstorm, heavy, with rain showers and/or snow',\n",
    "          'TS+HAIL:96': 'Thunderstorm, heavy, with hail',\n",
    "          '+FC:99': 'Tornado'}"
   ]
  },
  {
   "cell_type": "code",
   "execution_count": 227,
   "metadata": {
    "code_folding": [
     0,
     3,
     5,
     8,
     10,
     13,
     15,
     19,
     24,
     26,
     28,
     30,
     32,
     34,
     36,
     38,
     40,
     42,
     44,
     56,
     106,
     108,
     112,
     114,
     116,
     118,
     120
    ],
    "collapsed": true
   },
   "outputs": [],
   "source": [
    "# NOAA MW weather code mapping\n",
    "mw_map = {'FU:04': 'Visibility reduced by smoke, e.g. veldt or forest fires, industrial smoke or volcanic ashes',\n",
    "          'HZ:05': 'Haze',\n",
    "          'DU:06': 'Widespread dust in suspension in the air, not raised by wind at or near the station at the ' +\n",
    "                   'time of observation',\n",
    "          'DU:07': 'Dust or sand raised by wind at or near the station at the time of observation, ' +\n",
    "                   'but no well‐developed dust whirl(s) or sand whirl(s), and no duststorm or sandstorm seen or, ' + \n",
    "                   'in the case of ships, blowing spray at the station',\n",
    "          'DU:08': 'Well developed dust whirl(s) or sand whirl(s) seen at or near the station ' +\n",
    "                   'during the preceding hour or at the time of observation, but no duststorm or sandstorm',\n",
    "          'DU:09': 'Duststorm or sandstorm within sight at the time of observation, or at the station ' +\n",
    "                   'during the preceding hour',\n",
    "          'BR:10': 'Mist',\n",
    "          'FG:11': 'Patches of shallow fog or ice fog at the station, whether on land or sea, ' +\n",
    "                   'not deeper than about 2 meters on land or 10 meters at sea',\n",
    "          'FG:12': 'More or less continuous shallow fog or ice fog at the station, whether on land or sea, ' + \n",
    "                   'not deeper than about 2 meters on land or 10 meters at sea',\n",
    "          '13': 'Lightning visible, no thunder heard',\n",
    "          '14': 'Precipitation within sight, not reaching the ground or the surface of the sea',\n",
    "          '15': 'Precipitation within sight, reaching the ground or the surface of the sea, but distant, ' +\n",
    "                'i.e., estimated to be more than 5 km from the station',\n",
    "          '16': 'Precipitation within sight, reaching the ground or the surface of the sea, near to, but not at the station',\n",
    "          'TS:17': 'Thunderstorm, but no precipitation at the time of observation',\n",
    "          'SQ:18': 'Squalls at or within sight of the station during the preceding hour or at the time of observation',\n",
    "          'FC:19': 'Funnel cloud(s) (Tornado cloud or waterspout) at or within sight of the station ' +\n",
    "                   'during the preceding hour or at the time of observation',\n",
    "          '20': 'Drizzle (not freezing) or snow grains not falling as shower(s) ' +\n",
    "                '(during the preceding hour but not at the time of observation)',\n",
    "          '21': 'Rain (not freezing) not falling as shower(s) ' +\n",
    "                '(during the preceding hour but not at the time of observation)',\n",
    "          '22': 'Snow not falling as shower(s) ' +\n",
    "                '(during the preceding hour but not at the time of observation)',\n",
    "          '23': 'Rain and snow or ice pellets not falling as shower(s) ' + \n",
    "                '(during the preceding hour but not at the time of observation)',\n",
    "          '24': 'Freezing drizzle or freezing rain not falling as shower(s) ' +\n",
    "                '(during the preceding hour but not at the time of observation)',\n",
    "          '25': 'Shower(s) of rain ' +\n",
    "                '(during the preceding hour but not at the time of observation)',\n",
    "          '26': 'Shower(s) of snow or of rain and snow ' +\n",
    "                '(during the preceding hour but not at the time of observation)',\n",
    "          '27': 'Shower(s) of hail (Hail, small hail, snow pellets), or rain and hail ' +\n",
    "                '(during the preceding hour but not at the time of observation)',\n",
    "          '28': 'Fog or ice fog ' +\n",
    "                '(during the preceding hour but not at the time of observation)',\n",
    "          '29': 'Thunderstorm (with or without precipitation) ' + \n",
    "                '(during the preceding hour but not at the time of observation)',\n",
    "          'DU:30': 'Slight or moderate duststorm or sandstorm has decreased during the preceding hour',\n",
    "          'DU:31': 'Slight or moderate duststorm or sandstorm no appreciable change during the preceding hour',\n",
    "          'DU:32': 'Slight or moderate duststorm or sandstorm has begun or has increased during the preceding hour',\n",
    "          'DU:33': 'Severe duststorm or sandstorm has decreased during the preceding hour',\n",
    "          'DU:34': 'Severe duststorm or sandstorm no appreciable change during the preceding hour',\n",
    "          'DU:35': 'Severe duststorm or sandstorm has begun or has increased during the preceding hour',\n",
    "          'DRSN:36': 'Slight or moderate drifting snow generally low (below eye level)',\n",
    "          'DRSN:37': 'Heavy drifting snow generally low (below eye level)',\n",
    "          'BLSN:38': 'Slight or moderate blowing snow generally high (above eye level)',\n",
    "          'BLSN:39': 'Heavy blowing snow generally high (above eye level)',\n",
    "          'FG:40': 'Fog or ice fog at a distance at the time of observation, ' +\n",
    "                   'but not at the station during the preceding hour, the fog or ice fog extending to a level above that of the observer',\n",
    "          'FG:41': 'Fog or ice fog in patches',\n",
    "          'FG:42': 'Fog or ice fog, sky visible, has become thinner during the preceding hour',\n",
    "          'FG:43': 'Fog or ice fog, sky invisible, has become thinner during the preceding hour',\n",
    "          'FG:44': 'Fog or ice fog, sky visible, no appreciable change during the preceding hour',\n",
    "          'FG:45': 'Fog or ice fog, sky invisible, no appreciable change during the preceding hour',\n",
    "          'FG:46': 'Fog or ice fog, sky visible, has begun or has become thicker during the preceding hour',\n",
    "          'FG:47': 'Fog or ice fog, sky invisible, has begun or has become thicker during the preceding hour',\n",
    "          'FG:48': 'Fog, depositing rime, sky visible',\n",
    "          'FG:49': 'Fog, depositing rime, sky invisible',\n",
    "          'DZ:50': 'Drizzle, not freezing, intermittent, slight at time of observation',\n",
    "          'DZ:51': 'Drizzle, not freezing, continuous, slight at time of observation',\n",
    "          'DZ:52': 'Drizzle, not freezing, intermittent, moderate at time of observation',\n",
    "          'DZ:53': 'Drizzle, not freezing, continuous, moderate at time of observation',\n",
    "          'DZ:54': 'Drizzle, not freezing, intermittent, heavy (dense) at time of observation',\n",
    "          'DZ:55': 'Drizzle, not freezing, continuous, heavy (dense) at time of observation',\n",
    "          'FZDZ:56': 'Drizzle, freezing, slight',\n",
    "          'FZDZ:57': 'Drizzle, freezing, moderate or heavy (dense)',\n",
    "          'DZ:58': 'Drizzle and rain, slight',\n",
    "          'DZ:59': 'Drizzle and rain, moderate or heavy',\n",
    "          'RA:60': 'Rain, not freezing, intermittent, slight at time of observation',\n",
    "          'RA:61': 'Rain, not freezing, continuous, slight at time of observation',\n",
    "          'RA:62': 'Rain, not freezing, intermittent, moderate at time of observation',\n",
    "          'RA:63': 'Rain, not freezing, continuous, moderate at time of observation',\n",
    "          'RA:64': 'Rain, not freezing, intermittent, heavy at time of observation',\n",
    "          'RA:65': 'Rain, not freezing, continuous, heavy at time of observation',\n",
    "          'FZRA:66': 'Rain, freezing, slight',\n",
    "          'FZRA:67': 'Rain, freezing, moderate or heavy',\n",
    "          'RA:68': 'Rain or drizzle and snow, slight',\n",
    "          'RA:69': 'Rain or drizzle and snow, moderate or heavy',\n",
    "          'SN:70': 'Intermittent fall of snowflakes, slight at time of observation',\n",
    "          'SN:71': 'Continuous fall of snowflakes, slight at time of observation',\n",
    "          'SN:72': 'Intermittent fall of snowflakes, moderate at time of observation',\n",
    "          'SN:73': 'Continuous fall of snowflakes, moderate at time of observation',\n",
    "          'SN:74': 'Intermittent fall of snowflakes, heavy at time of observation',\n",
    "          'SN:75': 'Continuous fall of snowflakes, heavy at time of observation',\n",
    "          '76': 'Diamond dust (with or without fog)',\n",
    "          'SG:77': 'Snow grains (with or without fog)',\n",
    "          'SN:78': 'Isolated star-like snow crystals (with or without fog)',\n",
    "          'PL:79': 'Ice pellets',\n",
    "          'SHRA:80': 'Rain shower(s), slight',\n",
    "          'SHRA:81': 'Rain shower(s), moderate or heavy',\n",
    "          'SHRA:82': 'Rain shower(s), violent',\n",
    "          'SHRASN:83': 'Shower(s) of rain and snow mixed, slight',\n",
    "          'SHRASN:84': 'Shower(s) of rain and snow mixed, moderate or heavy',\n",
    "          'SHSN:85': 'Show shower(s), slight',\n",
    "          'SHSN:86': 'Snow shower(s), moderate or heavy',\n",
    "          'SH:87': 'Shower(s) of snow pellets or small hail, with or without rain or rain and snow mixed, slight',\n",
    "          'SH:88': 'Shower(s) of snow pellets or small hail, with or without rain or rain and snow mixed, moderate or heavy',\n",
    "          'SH:89': 'Shower(s) of hail (hail, small hail, snow pellets), with or without rain or rain and snow mixed, ' +\n",
    "                   'not associated with thunder, slight',\n",
    "          'SH:90': 'Shower(s) of hail (hail, small hail, snow pellets), with or without rain or rain and snow mixed, ' +\n",
    "                   'not associated with thunder moderate or heavy',\n",
    "          'RA:91': 'Slight rain at time of observation, thunderstorm during the preceding hour but not at time of observation',\n",
    "          'RA:92': 'Moderate or heavy rain at time of observation, thunderstorm during the preceding hour but not at time of observation',\n",
    "          '93': 'Slight snow, or rain and snow mixed or hail (Hail, small hail, snow pellets), at time of observation, ' +\n",
    "                'thunderstorm during the preceding hour but not at time of observation',\n",
    "          '94': 'Moderate or heavy snow, or rain and snow mixed or hail(Hail, small hail, snow pellets) at time of observation, ' +\n",
    "                'thunderstorm during the preceding hour but not at time of observation',\n",
    "          'TS:95': 'Thunderstorm, slight or moderate, without hail (Hail, small hail, snow pellets), ' +\n",
    "                   'but with rain and/or snow at time of observation, thunderstorm at time of observation',\n",
    "          'TS:96': 'Thunderstorm, slight or moderate, with hail (hail, small hail, snow pellets) at time of observation, ' +\n",
    "                   'thunderstorm at time of observation',\n",
    "          'TS:97': 'Thunderstorm, heavy, without hail (Hail, small hail, snow pellets), but with rain and/or snow at time of observation,' +\n",
    "                   'thunderstorm at time of observation',\n",
    "          'TS:98': 'Thunderstorm combined with duststorm or sandstorm at time of observation, thunderstorm at time of observation',\n",
    "          'TS:99': 'Thunderstorm, heavy, with hail (Hail, small hail, snow pellets) at time of observation, thunderstorm at time of observation'}"
   ]
  },
  {
   "cell_type": "code",
   "execution_count": 223,
   "metadata": {
    "code_folding": [
     0
    ],
    "collapsed": true
   },
   "outputs": [],
   "source": [
    "def map_au_code(code):    \n",
    "    pattern = '(\\w{2})*(\\+|\\-)*(\\w+\\:*\\d*)'\n",
    "    search = re.compile(pattern)\n",
    "    grps = search.findall(code)[0]\n",
    "    weather_str = ' '.join([au_map[grps[1]], au_map[grps[2]], au_map[grps[0]]]).strip()    \n",
    "    return weather_str"
   ]
  },
  {
   "cell_type": "code",
   "execution_count": 224,
   "metadata": {
    "code_folding": [
     0
    ],
    "collapsed": true
   },
   "outputs": [],
   "source": [
    "def map_aw_code(code):    \n",
    "    pattern = '(\\w+\\:*\\d*)'\n",
    "    search = re.compile(pattern)\n",
    "    grps = search.findall(code)[0]\n",
    "    weather_str = ' '.join([aw_map[grps]]).strip()\n",
    "    return weather_str"
   ]
  },
  {
   "cell_type": "code",
   "execution_count": 229,
   "metadata": {
    "code_folding": [
     0
    ],
    "collapsed": true
   },
   "outputs": [],
   "source": [
    "def map_mw_code(code):\n",
    "    pattern = '(\\w+\\:*\\d*)'\n",
    "    search = re.compile(pattern)\n",
    "    grps = search.findall(code)[0]\n",
    "    weather_str = ' '.join([mw_map[grps]]).strip()\n",
    "    return weather_str"
   ]
  },
  {
   "cell_type": "code",
   "execution_count": 236,
   "metadata": {
    "code_folding": [
     0
    ]
   },
   "outputs": [],
   "source": [
    "def map_weather_type(code):\n",
    "    \n",
    "    # Check for nans (which are type float)\n",
    "    if isinstance(code, float):\n",
    "        weather = ['', '', '']\n",
    "    else:\n",
    "        # Remove random meaningless s- and *-characters\n",
    "        code = re.sub('(s|\\*)\\s*', '', code)\n",
    "        # Split on pipes\n",
    "        code = code.split('|')\n",
    "        # Strip leading/trailing whitespace\n",
    "        code = [x.strip() for x in code]\n",
    "\n",
    "        weather = []\n",
    "        for idx, c in enumerate(code):\n",
    "            \n",
    "            # If empty string continue to next code group\n",
    "            if len(c) == 0:\n",
    "                weather.append('')\n",
    "                continue\n",
    "                \n",
    "            # Remove colon and digits for AU codes and prefixes since they don't matter in AU codes\n",
    "            if idx == 0:            \n",
    "                c = re.sub(':*\\d+', '', c)            \n",
    "\n",
    "            # Split code into parts\n",
    "            cparts = c.split()\n",
    "            # Compile weather string from code parts\n",
    "            weather_str = []\n",
    "            for jdx, c2 in enumerate(cparts):\n",
    "                if idx == 0:\n",
    "                    weather_str.append(map_au_code(c2))\n",
    "                elif idx == 1:\n",
    "                    weather_str.append(map_aw_code(c2))\n",
    "                else:\n",
    "                    weather_str.append(map_mw_code(c2))\n",
    "            # Compile weather observations\n",
    "            weather.append(' '.join(weather_str).strip())\n",
    "    \n",
    "    return(weather)"
   ]
  },
  {
   "cell_type": "code",
   "execution_count": 244,
   "metadata": {
    "collapsed": true
   },
   "outputs": [],
   "source": [
    "weather_df['WeatherText'] = weather_df.WeatherType.apply(map_weather_type)"
   ]
  },
  {
   "cell_type": "code",
   "execution_count": null,
   "metadata": {
    "collapsed": true
   },
   "outputs": [],
   "source": []
  }
 ],
 "metadata": {
  "kernelspec": {
   "display_name": "Python 3",
   "language": "python",
   "name": "python3"
  },
  "language_info": {
   "codemirror_mode": {
    "name": "ipython",
    "version": 3
   },
   "file_extension": ".py",
   "mimetype": "text/x-python",
   "name": "python",
   "nbconvert_exporter": "python",
   "pygments_lexer": "ipython3",
   "version": "3.6.4"
  },
  "varInspector": {
   "cols": {
    "lenName": 16,
    "lenType": 16,
    "lenVar": 40
   },
   "kernels_config": {
    "python": {
     "delete_cmd_postfix": "",
     "delete_cmd_prefix": "del ",
     "library": "var_list.py",
     "varRefreshCmd": "print(var_dic_list())"
    },
    "r": {
     "delete_cmd_postfix": ") ",
     "delete_cmd_prefix": "rm(",
     "library": "var_list.r",
     "varRefreshCmd": "cat(var_dic_list()) "
    }
   },
   "types_to_exclude": [
    "module",
    "function",
    "builtin_function_or_method",
    "instance",
    "_Feature"
   ],
   "window_display": false
  }
 },
 "nbformat": 4,
 "nbformat_minor": 2
}
