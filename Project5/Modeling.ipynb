{
 "cells": [
  {
   "cell_type": "code",
   "execution_count": 1,
   "metadata": {
    "collapsed": true
   },
   "outputs": [],
   "source": [
    "import numpy as np\n",
    "import pandas as pd\n",
    "pd.set_option('display.max_rows', 500)\n",
    "pd.set_option('display.max_columns', 50)\n",
    "import matplotlib.pyplot as plt\n",
    "from mpl_toolkits.basemap import Basemap\n",
    "%matplotlib inline\n",
    "import os\n",
    "import pickle\n",
    "\n",
    "import json\n",
    "import plotly.plotly as py\n",
    "from plotly.graph_objs import *\n",
    "\n",
    "from fuzzywuzzy import fuzz"
   ]
  },
  {
   "cell_type": "markdown",
   "metadata": {},
   "source": [
    "### Plot Stations Map"
   ]
  },
  {
   "cell_type": "code",
   "execution_count": 2,
   "metadata": {
    "code_folding": [
     0
    ]
   },
   "outputs": [],
   "source": [
    "# Load Stations Data\n",
    "station_info_path = '/home/cneiderer/Metis/boston_bike_data/station_data'\n",
    "stations1_file = 'Hubway_Stations_2011_2016.csv'\n",
    "stations2_file = 'Hubway_Stations_as_of_July_2017.csv'\n",
    "\n",
    "stations1_df = pd.read_csv(os.path.join(station_info_path, stations1_file))\n",
    "stations2_df = pd.read_csv(os.path.join(station_info_path, stations2_file))\n",
    "\n",
    "# Standardize column names and order\n",
    "stations1_df = stations1_df[stations2_df.columns]\n",
    "stations1_df.columns = ['StationID', 'StationName', 'Lat', 'Lon', 'City', 'NumDocks']\n",
    "stations1_df = stations1_df.sort_values('StationID', axis=0)\n",
    "\n",
    "stations2_df = stations2_df.sort_values('Station ID', axis=0)\n",
    "stations2_df.columns = ['StationID', 'StationName', 'Lat', 'Lon', 'City', 'NumDocks']\n",
    "stations2_df = stations2_df.sort_values('StationID', axis=0)"
   ]
  },
  {
   "cell_type": "code",
   "execution_count": 3,
   "metadata": {
    "code_folding": [
     0
    ],
    "collapsed": true
   },
   "outputs": [],
   "source": [
    "# Combine station data into single DF\n",
    "stations_df = pd.concat([stations1_df, stations2_df], axis=0)\n",
    "# Remove duplicate rows\n",
    "stations_df = stations_df[~stations_df.duplicated()]\n",
    "\n",
    "# Compile all the names used to refer to each station ID\n",
    "station_name_map = {}\n",
    "for sid in set(stations_df.StationID):\n",
    "    station_name_map[sid] = list(set(stations_df[stations_df.StationID == sid].StationName))\n",
    "    \n",
    "    # Designate a single name to be used to refer to each station ID\n",
    "station_names = {}\n",
    "for key, val in station_name_map.items():\n",
    "    if len(val) > 1:\n",
    "        val = val[1]\n",
    "    else:\n",
    "        val = val[0]\n",
    "    station_names[key] = val\n",
    "# Convert to dataframe    \n",
    "station_names = pd.DataFrame.from_dict(station_names, 'index').reset_index()    \n",
    "station_names.columns = ['StationID', 'StationName']\n",
    "# Merge designated names back into combined stations DF\n",
    "stations_df = station_names.merge(stations_df[['StationID', 'Lat', 'Lon', 'City', 'NumDocks']], on='StationID', how='left')\n",
    "stations_df = stations_df[~stations_df.duplicated()].reset_index(drop=True)"
   ]
  },
  {
   "cell_type": "code",
   "execution_count": 4,
   "metadata": {
    "code_folding": [
     0
    ],
    "scrolled": false
   },
   "outputs": [
    {
     "data": {
      "text/html": [
       "<iframe id=\"igraph\" scrolling=\"no\" style=\"border:none;\" seamless=\"seamless\" src=\"https://plot.ly/~cneiderer/90.embed\" height=\"800px\" width=\"1200px\"></iframe>"
      ],
      "text/plain": [
       "<plotly.tools.PlotlyDisplay object>"
      ]
     },
     "execution_count": 4,
     "metadata": {},
     "output_type": "execute_result"
    }
   ],
   "source": [
    "# Create Interactive Map\n",
    "credentials = json.load(open('/home/cneiderer/.mapbox/.credentials'))\n",
    "mapbox_access_token = credentials['public_token']\n",
    "\n",
    "data = Data([\n",
    "    Scattermapbox(\n",
    "        lat=stations_df.Lat,\n",
    "        lon=stations_df.Lon,\n",
    "        mode='markers',\n",
    "        marker=Marker(\n",
    "            color='red',\n",
    "            size=10,\n",
    "            opacity=0.7\n",
    "        ),\n",
    "        text=stations_df.StationName,\n",
    "    )    \n",
    "])\n",
    "layout = Layout(\n",
    "    autosize=True,\n",
    "    hovermode='closest',\n",
    "    width=1200,\n",
    "    height=800,\n",
    "    margin=Margin(\n",
    "        l=25,\n",
    "        r=25,\n",
    "        b=25,\n",
    "        t=25,\n",
    "        pad=4\n",
    "    ),\n",
    "    mapbox=dict(\n",
    "        accesstoken=mapbox_access_token,\n",
    "        bearing=0,\n",
    "        center=dict(\n",
    "            lat=42.361769, \n",
    "            lon=-71.078249 #-71.0589\n",
    "        ),\n",
    "        pitch=0,\n",
    "        zoom=11.5\n",
    "    ),\n",
    ")\n",
    "\n",
    "fig = dict(data=data, layout=layout)\n",
    "py.iplot(fig, filename='Multiple Mapbox')"
   ]
  },
  {
   "cell_type": "markdown",
   "metadata": {},
   "source": [
    "### Load Trip Data"
   ]
  },
  {
   "cell_type": "code",
   "execution_count": null,
   "metadata": {
    "collapsed": true
   },
   "outputs": [],
   "source": [
    "# Load new df\n",
    "with open('new_clean.pkl', 'rb') as f:\n",
    "    df = pickle.load(f)\n",
    "\n",
    "#\n",
    "def remap_usertype(df):\n",
    "    usertype_map = {'Subscriber': 'Member', 'Customer': 'Casual'}\n",
    "    df.UserType = df.UserType.map(usertype_map)\n",
    "    return df\n",
    "\n",
    "df = remap_usertype(df)"
   ]
  },
  {
   "cell_type": "code",
   "execution_count": null,
   "metadata": {},
   "outputs": [],
   "source": [
    "df.head()"
   ]
  },
  {
   "cell_type": "code",
   "execution_count": null,
   "metadata": {
    "scrolled": true
   },
   "outputs": [],
   "source": [
    "df.info()"
   ]
  },
  {
   "cell_type": "code",
   "execution_count": null,
   "metadata": {},
   "outputs": [],
   "source": [
    "print('Min Time: %s, Max Time: %s' % (str(df.StartTime.min()), str(df.StopTime.max())))\n",
    "print('Delta: %s' % str(df.StopTime.max() - df.StartTime.min()))"
   ]
  },
  {
   "cell_type": "code",
   "execution_count": null,
   "metadata": {
    "collapsed": true
   },
   "outputs": [],
   "source": []
  }
 ],
 "metadata": {
  "kernelspec": {
   "display_name": "Python 3",
   "language": "python",
   "name": "python3"
  },
  "language_info": {
   "codemirror_mode": {
    "name": "ipython",
    "version": 3
   },
   "file_extension": ".py",
   "mimetype": "text/x-python",
   "name": "python",
   "nbconvert_exporter": "python",
   "pygments_lexer": "ipython3",
   "version": "3.6.4"
  },
  "varInspector": {
   "cols": {
    "lenName": 16,
    "lenType": 16,
    "lenVar": 40
   },
   "kernels_config": {
    "python": {
     "delete_cmd_postfix": "",
     "delete_cmd_prefix": "del ",
     "library": "var_list.py",
     "varRefreshCmd": "print(var_dic_list())"
    },
    "r": {
     "delete_cmd_postfix": ") ",
     "delete_cmd_prefix": "rm(",
     "library": "var_list.r",
     "varRefreshCmd": "cat(var_dic_list()) "
    }
   },
   "types_to_exclude": [
    "module",
    "function",
    "builtin_function_or_method",
    "instance",
    "_Feature"
   ],
   "window_display": false
  }
 },
 "nbformat": 4,
 "nbformat_minor": 2
}
