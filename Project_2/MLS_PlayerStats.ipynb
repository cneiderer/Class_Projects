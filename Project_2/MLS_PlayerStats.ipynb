{
 "cells": [
  {
   "cell_type": "markdown",
   "metadata": {},
   "source": [
    "## Scraping MLS Player Stats"
   ]
  },
  {
   "cell_type": "markdown",
   "metadata": {},
   "source": [
    "Scraping www.mlssoccer.com/ for player statistics"
   ]
  },
  {
   "cell_type": "markdown",
   "metadata": {},
   "source": [
    "### Import Necessary Modules"
   ]
  },
  {
   "cell_type": "code",
   "execution_count": 232,
   "metadata": {
    "collapsed": true
   },
   "outputs": [],
   "source": [
    "import requests\n",
    "from bs4 import BeautifulSoup\n",
    "import pandas as pd\n",
    "import numpy as np\n",
    "from datetime import datetime \n",
    "from dateutil import parser\n",
    "import os\n",
    "import time\n",
    "import itertools\n",
    "import re"
   ]
  },
  {
   "cell_type": "markdown",
   "metadata": {},
   "source": [
    "### Scrape Statistics"
   ]
  },
  {
   "cell_type": "markdown",
   "metadata": {},
   "source": [
    "#### Define Scraper and Helpers"
   ]
  },
  {
   "cell_type": "code",
   "execution_count": 142,
   "metadata": {
    "code_folding": [
     0
    ],
    "collapsed": true
   },
   "outputs": [],
   "source": [
    "def send_request(url, params, attempts=3):\n",
    "\n",
    "    cnt = 0\n",
    "    while cnt <= attempts:\n",
    "        cnt += 1        \n",
    "        # Send Request\n",
    "        response = requests.get(url, params)\n",
    "        # Check Status\n",
    "        print(response.url, '\\n', response.status_code, response.reason)\n",
    "        if (response.status_code >= 200) and (response.status_code < 300):           \n",
    "            return response\n",
    "        # If bad status, pause before trying again\n",
    "        print('Pause, then retry')\n",
    "        time.pause(15)\n",
    "    return None"
   ]
  },
  {
   "cell_type": "code",
   "execution_count": 182,
   "metadata": {
    "code_folding": [
     0
    ],
    "collapsed": true
   },
   "outputs": [],
   "source": [
    "def map_id_to_club(franchise_id):\n",
    "    \n",
    "    franchise_map = {11091: 'ATL',\n",
    "                     1207: 'CHI',\n",
    "                     436: 'COL',\n",
    "                     454: 'CLB',\n",
    "                     1326: 'DC',\n",
    "                     1903: 'DAL',\n",
    "                     1897: 'HOU',\n",
    "                     1230: 'LA',\n",
    "                     11690: 'LAFC',\n",
    "                     6977: 'MNUFC',\n",
    "                     1616: 'MTL',\n",
    "                     928: 'NE',\n",
    "                     9668: 'NYCFC',\n",
    "                     399: 'NYRB',\n",
    "                     6900: 'ORL',\n",
    "                     5513: 'PHI',\n",
    "                     1581: 'POR',\n",
    "                     1899: 'RSL',\n",
    "                     1131: 'SJ',\n",
    "                     3500: 'SEA',\n",
    "                     421: 'KC',\n",
    "                     2077: 'TOR',\n",
    "                     1708: 'VAN'}\n",
    "    return franchise_map[franchise_id]\n",
    "        "
   ]
  },
  {
   "cell_type": "code",
   "execution_count": 143,
   "metadata": {
    "code_folding": []
   },
   "outputs": [],
   "source": [
    "def generate_param_combos(param_groups):\n",
    "    params = []\n",
    "    for combo in itertools.product(*param_groups):\n",
    "        params.append({'page': combo[0],\n",
    "                       'year': combo[1], \n",
    "                       'season_type': combo[2],\n",
    "                       'franchise': combo[3],\n",
    "                       'group': combo[4]})\n",
    "    return params"
   ]
  },
  {
   "cell_type": "code",
   "execution_count": 144,
   "metadata": {
    "code_folding": [
     0
    ],
    "collapsed": true
   },
   "outputs": [],
   "source": [
    "def check_for_data(stats_table):\n",
    "    # Check if the table has any \n",
    "    odd_rows = stats_table.findAll('tr', {'class': 'odd'})\n",
    "    if odd_rows[0].text.strip() == 'Stats Unavailable':\n",
    "        return False\n",
    "    return True    "
   ]
  },
  {
   "cell_type": "code",
   "execution_count": 166,
   "metadata": {
    "code_folding": [
     0
    ],
    "collapsed": true
   },
   "outputs": [],
   "source": [
    "def extract_stats(stat_table):\n",
    "    \n",
    "    # Extract salary data\n",
    "    stat_header = []\n",
    "    stat_data = []\n",
    "    for row in stat_table.findAll('tr'):\n",
    "        row_data = []\n",
    "\n",
    "        # Get row type and check if header or data row\n",
    "        row_type = row.findChild().name\n",
    "        if row_type == 'th':\n",
    "            # Extract header\n",
    "            for h in stat_table.findAll('th'):\n",
    "                stat_header.append(h.text) \n",
    "        else:\n",
    "            # Extract data\n",
    "            for data in row.findAll('td'):\n",
    "                row_data.append(data.text)\n",
    "            stat_data.append(row_data)    \n",
    "            \n",
    "    # Compile salary dataframe\n",
    "    stat_df = pd.DataFrame(stat_data, columns=stat_header)\n",
    "    \n",
    "    # Strip any whitespace from column names\n",
    "    stat_df.columns = stat_df.columns.str.strip()\n",
    "        \n",
    "    return stat_df"
   ]
  },
  {
   "cell_type": "code",
   "execution_count": 184,
   "metadata": {
    "code_folding": []
   },
   "outputs": [],
   "source": [
    "def scrape_player_stats(base_url, params):\n",
    "\n",
    "    response = send_request(base_url, params)\n",
    "    if response is None:\n",
    "        return None\n",
    "    \n",
    "    # Parse HTML\n",
    "    soup = BeautifulSoup(response.text,'lxml')\n",
    "    \n",
    "    stats_table = soup.find('table')\n",
    "    \n",
    "    if not check_for_data(stats_table):\n",
    "        return None\n",
    "    \n",
    "    stats_df = extract_stats(stats_table)\n",
    "    \n",
    "    # Add year column\n",
    "    stats_df['Club'] = np.repeat(map_id_to_club(params['franchise']), len(stats_df))\n",
    "    \n",
    "    return stats_df    "
   ]
  },
  {
   "cell_type": "code",
   "execution_count": 210,
   "metadata": {
    "code_folding": [
     0
    ],
    "collapsed": true
   },
   "outputs": [],
   "source": [
    "def split_player_name(df):\n",
    "    first = []\n",
    "    last = []\n",
    "    for t in df.Player.str.split():\n",
    "        if len(t) == 1:\n",
    "            first.append(t[0])\n",
    "            last.append('')\n",
    "        elif len(t) == 2:\n",
    "            first.append(t[0])\n",
    "            last.append(t[1])\n",
    "        else:\n",
    "            first.append(t[0])\n",
    "            last.append(' '.join(t[1:]))\n",
    "    \n",
    "    df['Last'] = last\n",
    "    df['First'] = first  \n",
    "    \n",
    "    df = df.drop('Player', axis=1)\n",
    "    \n",
    "    return df\n",
    "        "
   ]
  },
  {
   "cell_type": "code",
   "execution_count": 273,
   "metadata": {
    "code_folding": [
     0
    ],
    "collapsed": true
   },
   "outputs": [],
   "source": [
    "# # Find and parse franchise popup menu to get list of teams\n",
    "# soup = BeautifulSoup(response.text, 'lxml')\n",
    "# franchise_select = soup.find('select', {'id': 'edit-franchise', 'name': 'franchise'})\n",
    "# franchise = []\n",
    "# # start with second index since first is generic \"Select A Club\"\n",
    "# for team in franchise_select.findAll('option')[1:]:\n",
    "#     franchise.append(int(team['value']))"
   ]
  },
  {
   "cell_type": "markdown",
   "metadata": {},
   "source": [
    "#### Send Request to Base URL and Verify Site is Up"
   ]
  },
  {
   "cell_type": "code",
   "execution_count": 272,
   "metadata": {},
   "outputs": [
    {
     "data": {
      "text/plain": [
       "(200, 'https://www.mlssoccer.com/stats/season')"
      ]
     },
     "execution_count": 272,
     "metadata": {},
     "output_type": "execute_result"
    }
   ],
   "source": [
    "base_url = 'http://www.mlssoccer.com/stats/season'\n",
    "response = requests.get(base_url)\n",
    "response.status_code, response.url"
   ]
  },
  {
   "cell_type": "markdown",
   "metadata": {},
   "source": [
    "#### Define parameter options"
   ]
  },
  {
   "cell_type": "code",
   "execution_count": 276,
   "metadata": {
    "collapsed": true
   },
   "outputs": [],
   "source": [
    "page = np.arange(0, 2)\n",
    "year = np.arange(2007, 2018)\n",
    "season_type = ['REG', 'PS']\n",
    "group = ['goals', 'assists', 'shots', 'fouls', 'goalkeeping']\n",
    "franchise = ['select']\n",
    "\n",
    "combos = {}\n",
    "for grp in group:\n",
    "    combos[grp] = {'reg': generate_param_combos([page, year, ['REG'], [grp], ['select']]), \n",
    "                   'ps': generate_param_combos([page, year, ['PS'], [grp], ['select']])}  "
   ]
  },
  {
   "cell_type": "code",
   "execution_count": 278,
   "metadata": {},
   "outputs": [
    {
     "data": {
      "text/plain": [
       "{'ps': [{'franchise': 'goals',\n",
       "   'group': 'select',\n",
       "   'page': 0,\n",
       "   'season_type': 'PS',\n",
       "   'year': 2007},\n",
       "  {'franchise': 'goals',\n",
       "   'group': 'select',\n",
       "   'page': 0,\n",
       "   'season_type': 'PS',\n",
       "   'year': 2008},\n",
       "  {'franchise': 'goals',\n",
       "   'group': 'select',\n",
       "   'page': 0,\n",
       "   'season_type': 'PS',\n",
       "   'year': 2009},\n",
       "  {'franchise': 'goals',\n",
       "   'group': 'select',\n",
       "   'page': 0,\n",
       "   'season_type': 'PS',\n",
       "   'year': 2010},\n",
       "  {'franchise': 'goals',\n",
       "   'group': 'select',\n",
       "   'page': 0,\n",
       "   'season_type': 'PS',\n",
       "   'year': 2011},\n",
       "  {'franchise': 'goals',\n",
       "   'group': 'select',\n",
       "   'page': 0,\n",
       "   'season_type': 'PS',\n",
       "   'year': 2012},\n",
       "  {'franchise': 'goals',\n",
       "   'group': 'select',\n",
       "   'page': 0,\n",
       "   'season_type': 'PS',\n",
       "   'year': 2013},\n",
       "  {'franchise': 'goals',\n",
       "   'group': 'select',\n",
       "   'page': 0,\n",
       "   'season_type': 'PS',\n",
       "   'year': 2014},\n",
       "  {'franchise': 'goals',\n",
       "   'group': 'select',\n",
       "   'page': 0,\n",
       "   'season_type': 'PS',\n",
       "   'year': 2015},\n",
       "  {'franchise': 'goals',\n",
       "   'group': 'select',\n",
       "   'page': 0,\n",
       "   'season_type': 'PS',\n",
       "   'year': 2016},\n",
       "  {'franchise': 'goals',\n",
       "   'group': 'select',\n",
       "   'page': 0,\n",
       "   'season_type': 'PS',\n",
       "   'year': 2017},\n",
       "  {'franchise': 'goals',\n",
       "   'group': 'select',\n",
       "   'page': 1,\n",
       "   'season_type': 'PS',\n",
       "   'year': 2007},\n",
       "  {'franchise': 'goals',\n",
       "   'group': 'select',\n",
       "   'page': 1,\n",
       "   'season_type': 'PS',\n",
       "   'year': 2008},\n",
       "  {'franchise': 'goals',\n",
       "   'group': 'select',\n",
       "   'page': 1,\n",
       "   'season_type': 'PS',\n",
       "   'year': 2009},\n",
       "  {'franchise': 'goals',\n",
       "   'group': 'select',\n",
       "   'page': 1,\n",
       "   'season_type': 'PS',\n",
       "   'year': 2010},\n",
       "  {'franchise': 'goals',\n",
       "   'group': 'select',\n",
       "   'page': 1,\n",
       "   'season_type': 'PS',\n",
       "   'year': 2011},\n",
       "  {'franchise': 'goals',\n",
       "   'group': 'select',\n",
       "   'page': 1,\n",
       "   'season_type': 'PS',\n",
       "   'year': 2012},\n",
       "  {'franchise': 'goals',\n",
       "   'group': 'select',\n",
       "   'page': 1,\n",
       "   'season_type': 'PS',\n",
       "   'year': 2013},\n",
       "  {'franchise': 'goals',\n",
       "   'group': 'select',\n",
       "   'page': 1,\n",
       "   'season_type': 'PS',\n",
       "   'year': 2014},\n",
       "  {'franchise': 'goals',\n",
       "   'group': 'select',\n",
       "   'page': 1,\n",
       "   'season_type': 'PS',\n",
       "   'year': 2015},\n",
       "  {'franchise': 'goals',\n",
       "   'group': 'select',\n",
       "   'page': 1,\n",
       "   'season_type': 'PS',\n",
       "   'year': 2016},\n",
       "  {'franchise': 'goals',\n",
       "   'group': 'select',\n",
       "   'page': 1,\n",
       "   'season_type': 'PS',\n",
       "   'year': 2017}],\n",
       " 'reg': [{'franchise': 'goals',\n",
       "   'group': 'select',\n",
       "   'page': 0,\n",
       "   'season_type': 'REG',\n",
       "   'year': 2007},\n",
       "  {'franchise': 'goals',\n",
       "   'group': 'select',\n",
       "   'page': 0,\n",
       "   'season_type': 'REG',\n",
       "   'year': 2008},\n",
       "  {'franchise': 'goals',\n",
       "   'group': 'select',\n",
       "   'page': 0,\n",
       "   'season_type': 'REG',\n",
       "   'year': 2009},\n",
       "  {'franchise': 'goals',\n",
       "   'group': 'select',\n",
       "   'page': 0,\n",
       "   'season_type': 'REG',\n",
       "   'year': 2010},\n",
       "  {'franchise': 'goals',\n",
       "   'group': 'select',\n",
       "   'page': 0,\n",
       "   'season_type': 'REG',\n",
       "   'year': 2011},\n",
       "  {'franchise': 'goals',\n",
       "   'group': 'select',\n",
       "   'page': 0,\n",
       "   'season_type': 'REG',\n",
       "   'year': 2012},\n",
       "  {'franchise': 'goals',\n",
       "   'group': 'select',\n",
       "   'page': 0,\n",
       "   'season_type': 'REG',\n",
       "   'year': 2013},\n",
       "  {'franchise': 'goals',\n",
       "   'group': 'select',\n",
       "   'page': 0,\n",
       "   'season_type': 'REG',\n",
       "   'year': 2014},\n",
       "  {'franchise': 'goals',\n",
       "   'group': 'select',\n",
       "   'page': 0,\n",
       "   'season_type': 'REG',\n",
       "   'year': 2015},\n",
       "  {'franchise': 'goals',\n",
       "   'group': 'select',\n",
       "   'page': 0,\n",
       "   'season_type': 'REG',\n",
       "   'year': 2016},\n",
       "  {'franchise': 'goals',\n",
       "   'group': 'select',\n",
       "   'page': 0,\n",
       "   'season_type': 'REG',\n",
       "   'year': 2017},\n",
       "  {'franchise': 'goals',\n",
       "   'group': 'select',\n",
       "   'page': 1,\n",
       "   'season_type': 'REG',\n",
       "   'year': 2007},\n",
       "  {'franchise': 'goals',\n",
       "   'group': 'select',\n",
       "   'page': 1,\n",
       "   'season_type': 'REG',\n",
       "   'year': 2008},\n",
       "  {'franchise': 'goals',\n",
       "   'group': 'select',\n",
       "   'page': 1,\n",
       "   'season_type': 'REG',\n",
       "   'year': 2009},\n",
       "  {'franchise': 'goals',\n",
       "   'group': 'select',\n",
       "   'page': 1,\n",
       "   'season_type': 'REG',\n",
       "   'year': 2010},\n",
       "  {'franchise': 'goals',\n",
       "   'group': 'select',\n",
       "   'page': 1,\n",
       "   'season_type': 'REG',\n",
       "   'year': 2011},\n",
       "  {'franchise': 'goals',\n",
       "   'group': 'select',\n",
       "   'page': 1,\n",
       "   'season_type': 'REG',\n",
       "   'year': 2012},\n",
       "  {'franchise': 'goals',\n",
       "   'group': 'select',\n",
       "   'page': 1,\n",
       "   'season_type': 'REG',\n",
       "   'year': 2013},\n",
       "  {'franchise': 'goals',\n",
       "   'group': 'select',\n",
       "   'page': 1,\n",
       "   'season_type': 'REG',\n",
       "   'year': 2014},\n",
       "  {'franchise': 'goals',\n",
       "   'group': 'select',\n",
       "   'page': 1,\n",
       "   'season_type': 'REG',\n",
       "   'year': 2015},\n",
       "  {'franchise': 'goals',\n",
       "   'group': 'select',\n",
       "   'page': 1,\n",
       "   'season_type': 'REG',\n",
       "   'year': 2016},\n",
       "  {'franchise': 'goals',\n",
       "   'group': 'select',\n",
       "   'page': 1,\n",
       "   'season_type': 'REG',\n",
       "   'year': 2017}]}"
      ]
     },
     "execution_count": 278,
     "metadata": {},
     "output_type": "execute_result"
    }
   ],
   "source": [
    "combos['goals']"
   ]
  },
  {
   "cell_type": "code",
   "execution_count": null,
   "metadata": {
    "collapsed": true
   },
   "outputs": [],
   "source": [
    "for grp in combos.keys():\n",
    "    combos[grp]"
   ]
  },
  {
   "cell_type": "code",
   "execution_count": 279,
   "metadata": {
    "code_folding": []
   },
   "outputs": [
    {
     "data": {
      "text/plain": [
       "<function dict.keys>"
      ]
     },
     "execution_count": 279,
     "metadata": {},
     "output_type": "execute_result"
    }
   ],
   "source": [
    "combos.keys"
   ]
  },
  {
   "cell_type": "markdown",
   "metadata": {},
   "source": [
    "#### Scrape Stats"
   ]
  },
  {
   "cell_type": "code",
   "execution_count": 214,
   "metadata": {
    "collapsed": true
   },
   "outputs": [
    {
     "name": "stdout",
     "output_type": "stream",
     "text": [
      "https://www.mlssoccer.com/stats/season?page=0&year=2017&season_type=REG&franchise=11091&group=goals \n",
      " 200 OK\n",
      "2018-01-25 18:32:16.845350\n",
      "https://www.mlssoccer.com/stats/season?page=0&year=2017&season_type=REG&franchise=1207&group=goals \n",
      " 200 OK\n",
      "2018-01-25 18:32:25.984528\n",
      "https://www.mlssoccer.com/stats/season?page=0&year=2017&season_type=REG&franchise=436&group=goals \n",
      " 200 OK\n",
      "2018-01-25 18:32:40.297527\n",
      "https://www.mlssoccer.com/stats/season?page=0&year=2017&season_type=REG&franchise=454&group=goals \n",
      " 200 OK\n",
      "2018-01-25 18:32:57.251346\n",
      "https://www.mlssoccer.com/stats/season?page=0&year=2017&season_type=REG&franchise=1326&group=goals \n",
      " 200 OK\n",
      "2018-01-25 18:33:02.260027\n",
      "https://www.mlssoccer.com/stats/season?page=0&year=2017&season_type=REG&franchise=1903&group=goals \n",
      " 200 OK\n",
      "2018-01-25 18:33:06.713490\n",
      "https://www.mlssoccer.com/stats/season?page=0&year=2017&season_type=REG&franchise=1897&group=goals \n",
      " 200 OK\n",
      "2018-01-25 18:33:21.954157\n",
      "https://www.mlssoccer.com/stats/season?page=0&year=2017&season_type=REG&franchise=1230&group=goals \n",
      " 200 OK\n",
      "2018-01-25 18:33:38.960122\n",
      "https://www.mlssoccer.com/stats/season?page=0&year=2017&season_type=REG&franchise=11690&group=goals \n",
      " 200 OK\n",
      "https://www.mlssoccer.com/stats/season?page=0&year=2017&season_type=REG&franchise=6977&group=goals \n",
      " 200 OK\n",
      "2018-01-25 18:33:57.007773\n",
      "https://www.mlssoccer.com/stats/season?page=0&year=2017&season_type=REG&franchise=1616&group=goals \n",
      " 200 OK\n",
      "2018-01-25 18:34:04.056190\n",
      "https://www.mlssoccer.com/stats/season?page=0&year=2017&season_type=REG&franchise=928&group=goals \n",
      " 200 OK\n",
      "2018-01-25 18:34:11.379007\n",
      "https://www.mlssoccer.com/stats/season?page=0&year=2017&season_type=REG&franchise=9668&group=goals \n",
      " 200 OK\n",
      "2018-01-25 18:34:27.165620\n",
      "https://www.mlssoccer.com/stats/season?page=0&year=2017&season_type=REG&franchise=399&group=goals \n",
      " 200 OK\n",
      "2018-01-25 18:34:34.475664\n",
      "https://www.mlssoccer.com/stats/season?page=0&year=2017&season_type=REG&franchise=6900&group=goals \n",
      " 200 OK\n",
      "2018-01-25 18:34:43.781608\n",
      "https://www.mlssoccer.com/stats/season?page=0&year=2017&season_type=REG&franchise=5513&group=goals \n",
      " 200 OK\n",
      "2018-01-25 18:34:59.379869\n",
      "https://www.mlssoccer.com/stats/season?page=0&year=2017&season_type=REG&franchise=1581&group=goals \n",
      " 200 OK\n",
      "2018-01-25 18:44:59.334385\n",
      "https://www.mlssoccer.com/stats/season?page=0&year=2017&season_type=REG&franchise=1899&group=goals \n",
      " 200 OK\n",
      "2018-01-25 18:45:09.088410\n",
      "https://www.mlssoccer.com/stats/season?page=0&year=2017&season_type=REG&franchise=1131&group=goals \n",
      " 200 OK\n",
      "2018-01-25 18:45:19.166012\n",
      "https://www.mlssoccer.com/stats/season?page=0&year=2017&season_type=REG&franchise=3500&group=goals \n",
      " 200 OK\n",
      "2018-01-25 18:45:27.857733\n",
      "https://www.mlssoccer.com/stats/season?page=0&year=2017&season_type=REG&franchise=421&group=goals \n",
      " 200 OK\n",
      "2018-01-25 18:45:35.907898\n",
      "https://www.mlssoccer.com/stats/season?page=0&year=2017&season_type=REG&franchise=2077&group=goals \n",
      " 200 OK\n",
      "2018-01-25 18:45:43.435671\n",
      "https://www.mlssoccer.com/stats/season?page=0&year=2017&season_type=REG&franchise=1708&group=goals \n",
      " 200 OK\n",
      "2018-01-25 18:45:49.793697\n",
      "https://www.mlssoccer.com/stats/season?page=1&year=2017&season_type=REG&franchise=11091&group=goals \n",
      " 200 OK\n",
      "2018-01-25 18:45:58.454021\n",
      "https://www.mlssoccer.com/stats/season?page=1&year=2017&season_type=REG&franchise=1207&group=goals \n",
      " 200 OK\n",
      "2018-01-25 18:46:05.826820\n",
      "https://www.mlssoccer.com/stats/season?page=1&year=2017&season_type=REG&franchise=436&group=goals \n",
      " 200 OK\n",
      "2018-01-25 18:46:12.687323\n",
      "https://www.mlssoccer.com/stats/season?page=1&year=2017&season_type=REG&franchise=454&group=goals \n",
      " 200 OK\n",
      "2018-01-25 18:46:17.176668\n",
      "https://www.mlssoccer.com/stats/season?page=1&year=2017&season_type=REG&franchise=1326&group=goals \n",
      " 200 OK\n",
      "2018-01-25 18:46:25.485218\n",
      "https://www.mlssoccer.com/stats/season?page=1&year=2017&season_type=REG&franchise=1903&group=goals \n",
      " 200 OK\n",
      "2018-01-25 18:46:32.889862\n",
      "https://www.mlssoccer.com/stats/season?page=1&year=2017&season_type=REG&franchise=1897&group=goals \n",
      " 200 OK\n",
      "2018-01-25 18:46:45.522965\n",
      "https://www.mlssoccer.com/stats/season?page=1&year=2017&season_type=REG&franchise=1230&group=goals \n",
      " 200 OK\n",
      "2018-01-25 18:46:53.972706\n",
      "https://www.mlssoccer.com/stats/season?page=1&year=2017&season_type=REG&franchise=11690&group=goals \n",
      " 200 OK\n",
      "https://www.mlssoccer.com/stats/season?page=1&year=2017&season_type=REG&franchise=6977&group=goals \n",
      " 200 OK\n",
      "2018-01-25 18:47:06.059521\n",
      "https://www.mlssoccer.com/stats/season?page=1&year=2017&season_type=REG&franchise=1616&group=goals \n",
      " 200 OK\n",
      "2018-01-25 18:47:14.764179\n",
      "https://www.mlssoccer.com/stats/season?page=1&year=2017&season_type=REG&franchise=928&group=goals \n",
      " 200 OK\n",
      "https://www.mlssoccer.com/stats/season?page=1&year=2017&season_type=REG&franchise=9668&group=goals \n",
      " 200 OK\n",
      "https://www.mlssoccer.com/stats/season?page=1&year=2017&season_type=REG&franchise=399&group=goals \n",
      " 200 OK\n",
      "2018-01-25 18:47:31.418918\n",
      "https://www.mlssoccer.com/stats/season?page=1&year=2017&season_type=REG&franchise=6900&group=goals \n",
      " 200 OK\n",
      "2018-01-25 18:47:41.292674\n",
      "https://www.mlssoccer.com/stats/season?page=1&year=2017&season_type=REG&franchise=5513&group=goals \n",
      " 200 OK\n",
      "2018-01-25 18:47:50.602886\n",
      "https://www.mlssoccer.com/stats/season?page=1&year=2017&season_type=REG&franchise=1581&group=goals \n",
      " 200 OK\n",
      "2018-01-25 18:47:56.575019\n",
      "https://www.mlssoccer.com/stats/season?page=1&year=2017&season_type=REG&franchise=1899&group=goals \n",
      " 200 OK\n",
      "2018-01-25 18:48:06.892348\n",
      "https://www.mlssoccer.com/stats/season?page=1&year=2017&season_type=REG&franchise=1131&group=goals \n",
      " 200 OK\n",
      "2018-01-25 18:48:14.958598\n",
      "https://www.mlssoccer.com/stats/season?page=1&year=2017&season_type=REG&franchise=3500&group=goals \n",
      " 200 OK\n",
      "2018-01-25 18:48:25.251487\n",
      "https://www.mlssoccer.com/stats/season?page=1&year=2017&season_type=REG&franchise=421&group=goals \n",
      " 200 OK\n",
      "2018-01-25 18:48:32.181282\n",
      "https://www.mlssoccer.com/stats/season?page=1&year=2017&season_type=REG&franchise=2077&group=goals \n",
      " 200 OK\n",
      "2018-01-25 18:48:40.922555\n",
      "https://www.mlssoccer.com/stats/season?page=1&year=2017&season_type=REG&franchise=1708&group=goals \n",
      " 200 OK\n",
      "2018-01-25 18:48:47.775308\n",
      "https://www.mlssoccer.com/stats/season?page=2&year=2017&season_type=REG&franchise=11091&group=goals \n",
      " 200 OK\n",
      "https://www.mlssoccer.com/stats/season?page=2&year=2017&season_type=REG&franchise=1207&group=goals \n",
      " 200 OK\n",
      "https://www.mlssoccer.com/stats/season?page=2&year=2017&season_type=REG&franchise=436&group=goals \n",
      " 200 OK\n",
      "https://www.mlssoccer.com/stats/season?page=2&year=2017&season_type=REG&franchise=454&group=goals \n",
      " 200 OK\n",
      "https://www.mlssoccer.com/stats/season?page=2&year=2017&season_type=REG&franchise=1326&group=goals \n",
      " 200 OK\n",
      "https://www.mlssoccer.com/stats/season?page=2&year=2017&season_type=REG&franchise=1903&group=goals \n",
      " 200 OK\n",
      "https://www.mlssoccer.com/stats/season?page=2&year=2017&season_type=REG&franchise=1897&group=goals \n",
      " 200 OK\n",
      "https://www.mlssoccer.com/stats/season?page=2&year=2017&season_type=REG&franchise=1230&group=goals \n",
      " 200 OK\n",
      "https://www.mlssoccer.com/stats/season?page=2&year=2017&season_type=REG&franchise=11690&group=goals \n",
      " 200 OK\n",
      "https://www.mlssoccer.com/stats/season?page=2&year=2017&season_type=REG&franchise=6977&group=goals \n",
      " 200 OK\n",
      "https://www.mlssoccer.com/stats/season?page=2&year=2017&season_type=REG&franchise=1616&group=goals \n",
      " 200 OK\n",
      "https://www.mlssoccer.com/stats/season?page=2&year=2017&season_type=REG&franchise=928&group=goals \n",
      " 200 OK\n",
      "https://www.mlssoccer.com/stats/season?page=2&year=2017&season_type=REG&franchise=9668&group=goals \n",
      " 200 OK\n",
      "https://www.mlssoccer.com/stats/season?page=2&year=2017&season_type=REG&franchise=399&group=goals \n",
      " 200 OK\n",
      "https://www.mlssoccer.com/stats/season?page=2&year=2017&season_type=REG&franchise=6900&group=goals \n",
      " 200 OK\n",
      "https://www.mlssoccer.com/stats/season?page=2&year=2017&season_type=REG&franchise=5513&group=goals \n",
      " 200 OK\n",
      "https://www.mlssoccer.com/stats/season?page=2&year=2017&season_type=REG&franchise=1581&group=goals \n",
      " 200 OK\n",
      "https://www.mlssoccer.com/stats/season?page=2&year=2017&season_type=REG&franchise=1899&group=goals \n",
      " 200 OK\n",
      "https://www.mlssoccer.com/stats/season?page=2&year=2017&season_type=REG&franchise=1131&group=goals \n",
      " 200 OK\n",
      "https://www.mlssoccer.com/stats/season?page=2&year=2017&season_type=REG&franchise=3500&group=goals \n",
      " 200 OK\n"
     ]
    },
    {
     "name": "stdout",
     "output_type": "stream",
     "text": [
      "https://www.mlssoccer.com/stats/season?page=2&year=2017&season_type=REG&franchise=421&group=goals \n",
      " 200 OK\n",
      "https://www.mlssoccer.com/stats/season?page=2&year=2017&season_type=REG&franchise=2077&group=goals \n",
      " 200 OK\n",
      "https://www.mlssoccer.com/stats/season?page=2&year=2017&season_type=REG&franchise=1708&group=goals \n",
      " 200 OK\n"
     ]
    }
   ],
   "source": [
    "# Scrape \n",
    "df = pd.DataFrame()\n",
    "print('Combos:', len(param_combos))\n",
    "for params in param_combos:\n",
    "    stats_df = scrape_player_stats(base_url, params)\n",
    "    if stats_df is None:\n",
    "        continue\n",
    "    df = pd.concat([df, stats_df], axis=0)\n",
    "    # Pause to prevent 429 status \n",
    "    # Note: Need to explore \"backoff\" package\n",
    "    print(datetime.now())\n",
    "    time.sleep(np.random.uniform(2, 5)) \n",
    "# Reset index inplace to remove duplicates \n",
    "# created during concatentaiton    \n",
    "df.reset_index(inplace=True, drop=True) "
   ]
  },
  {
   "cell_type": "code",
   "execution_count": 217,
   "metadata": {},
   "outputs": [],
   "source": [
    "df.to_pickle('stats.pkl')"
   ]
  },
  {
   "cell_type": "code",
   "execution_count": 260,
   "metadata": {},
   "outputs": [
    {
     "data": {
      "text/plain": [
       "{'franchise': 11091,\n",
       " 'group': 'goals',\n",
       " 'page': 0,\n",
       " 'season_type': 'REG',\n",
       " 'year': 2017}"
      ]
     },
     "execution_count": 260,
     "metadata": {},
     "output_type": "execute_result"
    }
   ],
   "source": [
    "get_base_params()"
   ]
  },
  {
   "cell_type": "markdown",
   "metadata": {},
   "source": [
    "### Sandbox"
   ]
  },
  {
   "cell_type": "code",
   "execution_count": null,
   "metadata": {
    "collapsed": true
   },
   "outputs": [],
   "source": []
  },
  {
   "cell_type": "code",
   "execution_count": 263,
   "metadata": {
    "collapsed": true
   },
   "outputs": [],
   "source": [
    "def get_base_params():\n",
    "    \n",
    "    base_params = {'page': 0,\n",
    "                   'year': 2017,\n",
    "                   'season_type': 'REG',\n",
    "                   'group': 'goals',\n",
    "                   'franchise': 'select'}\n",
    "    \n",
    "    return base_params"
   ]
  },
  {
   "cell_type": "code",
   "execution_count": 270,
   "metadata": {
    "collapsed": true
   },
   "outputs": [],
   "source": [
    "def get_last_page(base_url, group):\n",
    "    \n",
    "    params = {'page': 0, 'group': group}\n",
    "    response = requests.get(base_url, params)\n",
    "    print(response.url)\n",
    "    \n",
    "    soup = BeautifulSoup(response.text, 'lxml')\n",
    "    last_pg_url = soup.find('li', {'class': 'pager-last last'}).findChild()['href']\n",
    "    \n",
    "    last_pg = int(re.search('(?<=page=)\\d+', tmp).group())\n",
    "    \n",
    "    return last_pg"
   ]
  },
  {
   "cell_type": "code",
   "execution_count": null,
   "metadata": {
    "collapsed": true
   },
   "outputs": [],
   "source": [
    "def scrape_goals(base_url):\n",
    "    \n",
    "    base_params = {'page': 0,\n",
    "                   'year': 2017,\n",
    "                   'season_type': 'REG',\n",
    "                   'group': 'goals',\n",
    "                   'franchise': 'select'}\n",
    "    \n",
    "    get_last_page(base_url, base_params)\n",
    "    \n",
    "    params = generate_param_combos(param_groups)\n",
    "    "
   ]
  },
  {
   "cell_type": "code",
   "execution_count": null,
   "metadata": {
    "collapsed": true
   },
   "outputs": [],
   "source": []
  },
  {
   "cell_type": "code",
   "execution_count": 271,
   "metadata": {},
   "outputs": [
    {
     "name": "stdout",
     "output_type": "stream",
     "text": [
      "https://www.mlssoccer.com/stats/season?page=0&group=goals\n",
      "goals 23\n",
      "https://www.mlssoccer.com/stats/season?page=0&group=assists\n",
      "assists 23\n",
      "https://www.mlssoccer.com/stats/season?page=0&group=shots\n",
      "shots 23\n",
      "https://www.mlssoccer.com/stats/season?page=0&group=fouls\n",
      "fouls 23\n",
      "https://www.mlssoccer.com/stats/season?page=0&group=goalkeeping\n",
      "goalkeeping 23\n"
     ]
    }
   ],
   "source": [
    "group = ['goals', 'assists', 'shots', 'fouls', 'goalkeeping']\n",
    "for grp in group:\n",
    "    print(grp, get_last_page(base_url, grp))"
   ]
  },
  {
   "cell_type": "code",
   "execution_count": 257,
   "metadata": {},
   "outputs": [
    {
     "data": {
      "text/plain": [
       "23"
      ]
     },
     "execution_count": 257,
     "metadata": {},
     "output_type": "execute_result"
    }
   ],
   "source": [
    "get_last_page(base_url)"
   ]
  }
 ],
 "metadata": {
  "kernelspec": {
   "display_name": "Python 3",
   "language": "python",
   "name": "python3"
  },
  "language_info": {
   "codemirror_mode": {
    "name": "ipython",
    "version": 3
   },
   "file_extension": ".py",
   "mimetype": "text/x-python",
   "name": "python",
   "nbconvert_exporter": "python",
   "pygments_lexer": "ipython3",
   "version": "3.6.3"
  }
 },
 "nbformat": 4,
 "nbformat_minor": 2
}
