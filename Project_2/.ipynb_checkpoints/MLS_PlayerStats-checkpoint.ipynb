{
 "cells": [
  {
   "cell_type": "markdown",
   "metadata": {},
   "source": [
    "## Scraping MLS Player Stats"
   ]
  },
  {
   "cell_type": "markdown",
   "metadata": {},
   "source": [
    "Scraping www.mlssoccer.com/ for player statistics"
   ]
  },
  {
   "cell_type": "markdown",
   "metadata": {},
   "source": [
    "### Import Necessary Modules"
   ]
  },
  {
   "cell_type": "code",
   "execution_count": 33,
   "metadata": {
    "collapsed": true
   },
   "outputs": [],
   "source": [
    "import requests\n",
    "from bs4 import BeautifulSoup\n",
    "import pandas as pd\n",
    "import numpy as np\n",
    "from datetime import datetime \n",
    "from dateutil import parser\n",
    "import os\n",
    "import time\n",
    "import itertools"
   ]
  },
  {
   "cell_type": "markdown",
   "metadata": {},
   "source": [
    "### Scrape Statistics"
   ]
  },
  {
   "cell_type": "markdown",
   "metadata": {},
   "source": [
    "#### Define Scraper and Helpers"
   ]
  },
  {
   "cell_type": "code",
   "execution_count": 2,
   "metadata": {
    "code_folding": [
     0
    ],
    "collapsed": true
   },
   "outputs": [],
   "source": [
    "def send_request(url, attempts=3):\n",
    "\n",
    "    cnt = 0\n",
    "    while cnt <= attempts:\n",
    "        cnt += 1        \n",
    "        # Send Request\n",
    "        response = requests.get(url)\n",
    "        # Check Status\n",
    "        print(response.url, '\\n', response.status_code, response.reason)\n",
    "        if (response.status_code >= 200) and (response.status_code < 300):           \n",
    "            return response\n",
    "        # If bad status, pause before trying again\n",
    "        print('Pause, then retry')\n",
    "        time.pause(15)\n",
    "    return None"
   ]
  },
  {
   "cell_type": "code",
   "execution_count": 127,
   "metadata": {},
   "outputs": [],
   "source": [
    "#\n",
    "def generate_param_combos(param_groups):\n",
    "    params = []\n",
    "    for combo in itertools.product(*param_groups):\n",
    "        params.append({'page': combo[0],\n",
    "                       'year': combo[1], \n",
    "                       'season_type': combo[2],\n",
    "                       'franchise': combo[3],\n",
    "                       'group': combo[4]})\n",
    "    return params"
   ]
  },
  {
   "cell_type": "code",
   "execution_count": 91,
   "metadata": {
    "collapsed": true
   },
   "outputs": [],
   "source": [
    "# \n",
    "def check_for_data(soup):\n",
    "    # Check if the table has any \n",
    "    odd_rows = soup.findAll('tr', {'class': 'odd'})\n",
    "    if odd_rows[0].text.strip() == 'Stats Unavailable':\n",
    "        return False\n",
    "    return True    "
   ]
  },
  {
   "cell_type": "code",
   "execution_count": 132,
   "metadata": {
    "collapsed": true
   },
   "outputs": [],
   "source": [
    "def extract_statistics(stat_table):\n",
    "    \n",
    "    # Extract salary data\n",
    "    stat_header = []\n",
    "    stat_data = []\n",
    "    for row in stat_table.findAll('tr'):\n",
    "        row_data = []\n",
    "\n",
    "        # Get row type and check if header or data row\n",
    "        row_type = row.findChild().name\n",
    "        if row_type == 'th':\n",
    "            # Extract header\n",
    "            for h in stat_table.findAll('th'):\n",
    "                stat_header.append(h.text) \n",
    "        else:\n",
    "            # Extract data\n",
    "            for data in row.findAll('td'):\n",
    "                row_data.append(data.text)\n",
    "            stat_data.append(row_data)    \n",
    "            \n",
    "    # Compile salary dataframe\n",
    "    stat_df = pd.DataFrame(stat_data, columns=stat_header)\n",
    "    \n",
    "    # Strip any whitespace from column names\n",
    "    stat_df.columns = stat_df.columns.str.strip()\n",
    "        \n",
    "    return stat_df"
   ]
  },
  {
   "cell_type": "markdown",
   "metadata": {
    "heading_collapsed": true
   },
   "source": [
    "#### Send Request to Base URL and Verify Site is Up"
   ]
  },
  {
   "cell_type": "code",
   "execution_count": 5,
   "metadata": {
    "collapsed": true,
    "hidden": true
   },
   "outputs": [],
   "source": [
    "base_url = 'http://www.mlssoccer.com/stats/season'\n",
    "response = requests.get(base_url)"
   ]
  },
  {
   "cell_type": "code",
   "execution_count": 6,
   "metadata": {
    "hidden": true
   },
   "outputs": [
    {
     "data": {
      "text/plain": [
       "(200, 'https://www.mlssoccer.com/stats/season')"
      ]
     },
     "execution_count": 6,
     "metadata": {},
     "output_type": "execute_result"
    }
   ],
   "source": [
    "response.status_code, response.url"
   ]
  },
  {
   "cell_type": "markdown",
   "metadata": {},
   "source": [
    "#### Define parameter options"
   ]
  },
  {
   "cell_type": "code",
   "execution_count": 94,
   "metadata": {
    "collapsed": true
   },
   "outputs": [],
   "source": [
    "page = np.arange(0, 2)\n",
    "year = np.arange(2007, 2018)\n",
    "season_type = ['REG', 'PS']\n",
    "group = ['goals', 'assists', 'shots', 'fouls', 'goalkeeping']\n",
    "\n",
    "# Find and parse franchise popup menu to get list of teams\n",
    "soup = BeautifulSoup(response.text, 'lxml')\n",
    "franchise_select = soup.find('select', {'id': 'edit-franchise', 'name': 'franchise'})\n",
    "franchise = []\n",
    "# start with second index since first is generic \"Select A Club\"\n",
    "for team in franchise_select.findAll('option')[1:]:\n",
    "    franchise.append(team['value'])"
   ]
  },
  {
   "cell_type": "code",
   "execution_count": 129,
   "metadata": {
    "collapsed": true
   },
   "outputs": [],
   "source": [
    "page = [0, 1, 2]\n",
    "year = [2017]\n",
    "season_type = ['REG']\n",
    "franchise = [11091]\n",
    "group = ['goals']\n",
    "param_groups = [page, year, season_type, franchise, group]\n",
    "combos = generate_param_combos(param_groups)"
   ]
  },
  {
   "cell_type": "code",
   "execution_count": 130,
   "metadata": {},
   "outputs": [
    {
     "data": {
      "text/plain": [
       "200"
      ]
     },
     "execution_count": 130,
     "metadata": {},
     "output_type": "execute_result"
    }
   ],
   "source": [
    "response = requests.get(base_url, combos[0])\n",
    "response.status_code"
   ]
  },
  {
   "cell_type": "code",
   "execution_count": 131,
   "metadata": {},
   "outputs": [],
   "source": [
    "soup = BeautifulSoup(response.text, 'lxml')"
   ]
  },
  {
   "cell_type": "code",
   "execution_count": 133,
   "metadata": {
    "collapsed": true
   },
   "outputs": [],
   "source": [
    "stat_table = soup.find('table')"
   ]
  },
  {
   "cell_type": "code",
   "execution_count": 134,
   "metadata": {},
   "outputs": [],
   "source": [
    "df = extract_statistics(stat_table)"
   ]
  },
  {
   "cell_type": "code",
   "execution_count": 136,
   "metadata": {},
   "outputs": [
    {
     "name": "stdout",
     "output_type": "stream",
     "text": [
      "https://www.mlssoccer.com/stats/season?page=0&year=2017&season_type=REG&franchise=11091&group=goals\n"
     ]
    }
   ],
   "source": [
    "print(response.url)"
   ]
  },
  {
   "cell_type": "code",
   "execution_count": null,
   "metadata": {
    "collapsed": true
   },
   "outputs": [],
   "source": []
  }
 ],
 "metadata": {
  "kernelspec": {
   "display_name": "Python 3",
   "language": "python",
   "name": "python3"
  },
  "language_info": {
   "codemirror_mode": {
    "name": "ipython",
    "version": 3
   },
   "file_extension": ".py",
   "mimetype": "text/x-python",
   "name": "python",
   "nbconvert_exporter": "python",
   "pygments_lexer": "ipython3",
   "version": "3.6.3"
  }
 },
 "nbformat": 4,
 "nbformat_minor": 2
}
