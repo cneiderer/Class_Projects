{
 "cells": [
  {
   "cell_type": "markdown",
   "metadata": {},
   "source": [
    "## Scraping MLS Player Stats"
   ]
  },
  {
   "cell_type": "markdown",
   "metadata": {},
   "source": [
    "Scraping www.mlssoccer.com/ for player statistics"
   ]
  },
  {
   "cell_type": "markdown",
   "metadata": {},
   "source": [
    "### Import Necessary Modules"
   ]
  },
  {
   "cell_type": "code",
   "execution_count": 33,
   "metadata": {
    "collapsed": true
   },
   "outputs": [],
   "source": [
    "import requests\n",
    "from bs4 import BeautifulSoup\n",
    "import pandas as pd\n",
    "import numpy as np\n",
    "from datetime import datetime \n",
    "from dateutil import parser\n",
    "import os\n",
    "import time\n",
    "import itertools"
   ]
  },
  {
   "cell_type": "markdown",
   "metadata": {},
   "source": [
    "### Scrape Statistics"
   ]
  },
  {
   "cell_type": "markdown",
   "metadata": {},
   "source": [
    "#### Define Scraper and Helpers"
   ]
  },
  {
   "cell_type": "code",
   "execution_count": 2,
   "metadata": {
    "code_folding": [],
    "collapsed": true
   },
   "outputs": [],
   "source": [
    "def send_request(url, attempts=3):\n",
    "\n",
    "    cnt = 0\n",
    "    while cnt <= attempts:\n",
    "        cnt += 1        \n",
    "        # Send Request\n",
    "        response = requests.get(url)\n",
    "        # Check Status\n",
    "        print(response.url, '\\n', response.status_code, response.reason)\n",
    "        if (response.status_code >= 200) and (response.status_code < 300):           \n",
    "            return response\n",
    "        # If bad status, pause before trying again\n",
    "        print('Pause, then retry')\n",
    "        time.pause(15)\n",
    "    return None"
   ]
  },
  {
   "cell_type": "code",
   "execution_count": 80,
   "metadata": {
    "collapsed": true
   },
   "outputs": [],
   "source": [
    "#\n",
    "def generate_param_combos(param_groups):\n",
    "    params = []\n",
    "    for combo in itertools.product(*param_groups):\n",
    "        params.append({'page': combo[0],\n",
    "                       'year': combo[1], \n",
    "                       'franchise': combo[2], \n",
    "                       'season_type': combo[3],\n",
    "                       'group': combo[4]})\n",
    "    return params"
   ]
  },
  {
   "cell_type": "code",
   "execution_count": 77,
   "metadata": {
    "collapsed": true
   },
   "outputs": [],
   "source": [
    "# \n",
    "def check_for_data(soup):\n",
    "    even_rows = soup.findAll('tr', {'class': 'even'})\n",
    "    if len(even_rows) == 0:\n",
    "        return False\n",
    "    return True    "
   ]
  },
  {
   "cell_type": "markdown",
   "metadata": {},
   "source": [
    "#### Send Request to Base URL and Verify Site is Up"
   ]
  },
  {
   "cell_type": "code",
   "execution_count": 5,
   "metadata": {
    "collapsed": true
   },
   "outputs": [],
   "source": [
    "base_url = 'http://www.mlssoccer.com/stats/season'\n",
    "response = requests.get(base_url)"
   ]
  },
  {
   "cell_type": "code",
   "execution_count": 6,
   "metadata": {},
   "outputs": [
    {
     "data": {
      "text/plain": [
       "(200, 'https://www.mlssoccer.com/stats/season')"
      ]
     },
     "execution_count": 6,
     "metadata": {},
     "output_type": "execute_result"
    }
   ],
   "source": [
    "response.status_code, response.url"
   ]
  },
  {
   "cell_type": "markdown",
   "metadata": {},
   "source": [
    "#### Define parameter options"
   ]
  },
  {
   "cell_type": "code",
   "execution_count": 38,
   "metadata": {
    "collapsed": true
   },
   "outputs": [],
   "source": [
    "page = np.arange(0, 2)\n",
    "year = np.arange(2007, 2018)\n",
    "season_type = ['REG', 'PS']\n",
    "group = ['goals', 'assists', 'shots', 'fouls', 'goalkeeping']\n",
    "\n",
    "# Find and parse franchise popup menu to get list of teams\n",
    "soup = BeautifulSoup(response.text, 'lxml')\n",
    "franchise_select = soup.find('select', {'id': 'edit-franchise', 'name': 'franchise'})\n",
    "franchise = []\n",
    "for team in franchise_select.findAll('option')[1:]:\n",
    "    franchise.append(team['value'])"
   ]
  },
  {
   "cell_type": "code",
   "execution_count": null,
   "metadata": {
    "collapsed": true
   },
   "outputs": [],
   "source": []
  },
  {
   "cell_type": "code",
   "execution_count": null,
   "metadata": {
    "collapsed": true
   },
   "outputs": [],
   "source": []
  },
  {
   "cell_type": "code",
   "execution_count": null,
   "metadata": {
    "collapsed": true
   },
   "outputs": [],
   "source": []
  },
  {
   "cell_type": "code",
   "execution_count": 72,
   "metadata": {
    "collapsed": true
   },
   "outputs": [],
   "source": [
    "odd_rows = soup.findAll('tr', {'class': 'odd'})\n",
    "even_rows = soup.findAll('tr', {'class': 'even'})"
   ]
  }
 ],
 "metadata": {
  "kernelspec": {
   "display_name": "Python 3",
   "language": "python",
   "name": "python3"
  },
  "language_info": {
   "codemirror_mode": {
    "name": "ipython",
    "version": 3
   },
   "file_extension": ".py",
   "mimetype": "text/x-python",
   "name": "python",
   "nbconvert_exporter": "python",
   "pygments_lexer": "ipython3",
   "version": "3.6.3"
  }
 },
 "nbformat": 4,
 "nbformat_minor": 2
}
