{
 "cells": [
  {
   "cell_type": "markdown",
   "metadata": {},
   "source": [
    "Scraping www.americansocceranalysis.com for league results"
   ]
  },
  {
   "cell_type": "code",
   "execution_count": 1,
   "metadata": {
    "collapsed": true
   },
   "outputs": [],
   "source": [
    "import requests\n",
    "from bs4 import BeautifulSoup"
   ]
  },
  {
   "cell_type": "code",
   "execution_count": 3,
   "metadata": {
    "collapsed": true
   },
   "outputs": [],
   "source": [
    "url = 'http://www.americansocceranalysis.com/mls-tables-2017/'\n",
    "response = requests.get(url)"
   ]
  },
  {
   "cell_type": "code",
   "execution_count": 5,
   "metadata": {},
   "outputs": [
    {
     "data": {
      "text/plain": [
       "200"
      ]
     },
     "execution_count": 5,
     "metadata": {},
     "output_type": "execute_result"
    }
   ],
   "source": [
    "response.status_code"
   ]
  },
  {
   "cell_type": "code",
   "execution_count": 8,
   "metadata": {
    "collapsed": true
   },
   "outputs": [],
   "source": [
    "soup = BeautifulSoup(response.text,\"lxml\")"
   ]
  },
  {
   "cell_type": "code",
   "execution_count": 17,
   "metadata": {},
   "outputs": [
    {
     "name": "stdout",
     "output_type": "stream",
     "text": [
      "<div class=\"sqs-block-content\"><h2>2017 MLS TABLES</h2><p><em>Last Updated 10/23/2017</em></p><p><strong>GD:</strong> Overall goal differential, <strong>ShtF: </strong>Shots for, <strong>AvShtF: </strong>Average shots for, <strong>ShtA:</strong> Shots against, <strong>AvShtA: </strong>Average shots against, <strong>T<strong>SR: </strong></strong>Total Shot Ratio. Shots for divided by (shots for + shots against), <strong><a href=\"http://11tegen11.net/2012/05/04/winning-matches-is-it-luck-or-skill/\" target=\"_blank\">PDO</a>:</strong> The sum of a team's finishing rate and save percentage, scaled so that 1000 is typical,  <strong>Poss:</strong> Possession. Completed passes for divided by (completed passes for + completed passes against). <strong>PPG</strong>: Points per game.<br/><strong>Bolded </strong>teams have qualified for the playoffs.</p><p>The top six teams in each conference make the playoffs. <strong>Bolded</strong> teams have qualified for the playoffs. <a href=\"https://www.mlssoccer.com/league/official-rules/competition-rules-and-regulations\" target=\"_blank\">Tie Breakers</a> after PPG: Number of wins, then Goal Differential, then Goals For, etc.</p></div> \n",
      "\n",
      "<div class=\"sqs-block-content\"><b>Eastern Conference</b>\n",
      "<table border=\"2\" class=\"sortable\">\n",
      "<th align=\"center\">#</th><th align=\"center\">Club</th><th align=\"center\">GP</th><th align=\"center\">W</th><th align=\"center\">L</th><th align=\"center\">T</th><th align=\"center\">GF</th><th align=\"center\">GA</th><th align=\"center\">GD</th><th align=\"center\">ShtF</th><th align=\"center\">AvShtF</th><th align=\"center\">ShtA</th><th align=\"center\">AvShtA</th><th align=\"center\">TSR</th><th align=\"center\">PDO</th><th align=\"center\">Poss</th><th align=\"center\">PTS</th><th align=\"center\">PPG</th>\n",
      "<tr><td align=\"center\"><nobr><b>1</b></nobr></td><td align=\"center\"><nobr><b>Toronto FC</b></nobr></td><td align=\"center\"><nobr>34</nobr></td><td align=\"center\">20</td><td align=\"center\">5</td><td align=\"center\"><nobr>9</nobr></td><td align=\"center\">74</td><td align=\"center\">37</td><td align=\"center\">37</td><td align=\"center\">440</td><td align=\"center\">12.94</td><td align=\"center\">402</td><td align=\"center\">11.82</td><td align=\"center\">0.523</td><td align=\"center\">1127</td><td align=\"center\">0.523</td><td align=\"center\">69</td><td align=\"center\">2.03</td></tr>\n",
      "<tr><td align=\"center\"><nobr><b>2</b></nobr></td><td align=\"center\"><nobr><b>New York City FC</b></nobr></td><td align=\"center\"><nobr>34</nobr></td><td align=\"center\">16</td><td align=\"center\">9</td><td align=\"center\"><nobr>9</nobr></td><td align=\"center\">56</td><td align=\"center\">43</td><td align=\"center\">13</td><td align=\"center\">483</td><td align=\"center\">14.21</td><td align=\"center\">424</td><td align=\"center\">12.47</td><td align=\"center\">0.533</td><td align=\"center\">1022</td><td align=\"center\">0.565</td><td align=\"center\">57</td><td align=\"center\">1.68</td></tr>\n",
      "<tr><td align=\"center\"><nobr><b>3</b></nobr></td><td align=\"center\"><nobr><b>Chicago Fire</b></nobr></td><td align=\"center\"><nobr>34</nobr></td><td align=\"center\">16</td><td align=\"center\">11</td><td align=\"center\"><nobr>7</nobr></td><td align=\"center\">61</td><td align=\"center\">47</td><td align=\"center\">14</td><td align=\"center\">421</td><td align=\"center\">12.38</td><td align=\"center\">397</td><td align=\"center\">11.68</td><td align=\"center\">0.515</td><td align=\"center\">1024</td><td align=\"center\">0.527</td><td align=\"center\">55</td><td align=\"center\">1.62</td></tr>\n",
      "<tr><td align=\"center\"><nobr><b>4</b></nobr></td><td align=\"center\"><nobr><b>Atlanta United FC</b></nobr></td><td align=\"center\"><nobr>34</nobr></td><td align=\"center\">15</td><td align=\"center\">9</td><td align=\"center\"><nobr>10</nobr></td><td align=\"center\">70</td><td align=\"center\">40</td><td align=\"center\">30</td><td align=\"center\">440</td><td align=\"center\">12.94</td><td align=\"center\">401</td><td align=\"center\">11.79</td><td align=\"center\">0.523</td><td align=\"center\">1110</td><td align=\"center\">0.594</td><td align=\"center\">55</td><td align=\"center\">1.62</td></tr>\n",
      "<tr><td align=\"center\"><nobr><b>5</b></nobr></td><td align=\"center\"><nobr><b>Columbus Crew SC</b></nobr></td><td align=\"center\"><nobr>34</nobr></td><td align=\"center\">16</td><td align=\"center\">12</td><td align=\"center\"><nobr>6</nobr></td><td align=\"center\">53</td><td align=\"center\">49</td><td align=\"center\">4</td><td align=\"center\">400</td><td align=\"center\">11.76</td><td align=\"center\">444</td><td align=\"center\">13.06</td><td align=\"center\">0.474</td><td align=\"center\">1047</td><td align=\"center\">0.524</td><td align=\"center\">54</td><td align=\"center\">1.59</td></tr>\n",
      "<tr><td align=\"center\"><nobr><b>6</b></nobr></td><td align=\"center\"><nobr><b>New York Red Bulls</b></nobr></td><td align=\"center\"><nobr>34</nobr></td><td align=\"center\">14</td><td align=\"center\">12</td><td align=\"center\"><nobr>8</nobr></td><td align=\"center\">53</td><td align=\"center\">47</td><td align=\"center\">6</td><td align=\"center\">448</td><td align=\"center\">13.18</td><td align=\"center\">390</td><td align=\"center\">11.47</td><td align=\"center\">0.535</td><td align=\"center\">1003</td><td align=\"center\">0.572</td><td align=\"center\">50</td><td align=\"center\">1.47</td></tr>\n",
      "<tr><td align=\"center\"><nobr>7</nobr></td><td align=\"center\"><nobr>New England Revolution</nobr></td><td align=\"center\"><nobr>34</nobr></td><td align=\"center\">13</td><td align=\"center\">15</td><td align=\"center\"><nobr>6</nobr></td><td align=\"center\">53</td><td align=\"center\">61</td><td align=\"center\">-8</td><td align=\"center\">434</td><td align=\"center\">12.76</td><td align=\"center\">418</td><td align=\"center\">12.29</td><td align=\"center\">0.509</td><td align=\"center\">915</td><td align=\"center\">0.445</td><td align=\"center\">45</td><td align=\"center\">1.32</td></tr>\n",
      "<tr><td align=\"center\"><nobr>8</nobr></td><td align=\"center\"><nobr>Philadelphia Union</nobr></td><td align=\"center\"><nobr>34</nobr></td><td align=\"center\">11</td><td align=\"center\">14</td><td align=\"center\"><nobr>9</nobr></td><td align=\"center\">50</td><td align=\"center\">47</td><td align=\"center\">3</td><td align=\"center\">383</td><td align=\"center\">11.26</td><td align=\"center\">423</td><td align=\"center\">12.44</td><td align=\"center\">0.475</td><td align=\"center\">1065</td><td align=\"center\">0.444</td><td align=\"center\">42</td><td align=\"center\">1.24</td></tr>\n",
      "<tr><td align=\"center\"><nobr>9</nobr></td><td align=\"center\"><nobr>Montreal Impact</nobr></td><td align=\"center\"><nobr>34</nobr></td><td align=\"center\">11</td><td align=\"center\">17</td><td align=\"center\"><nobr>6</nobr></td><td align=\"center\">52</td><td align=\"center\">58</td><td align=\"center\">-6</td><td align=\"center\">419</td><td align=\"center\">12.32</td><td align=\"center\">471</td><td align=\"center\">13.85</td><td align=\"center\">0.471</td><td align=\"center\">976</td><td align=\"center\">0.474</td><td align=\"center\">39</td><td align=\"center\">1.15</td></tr>\n",
      "<tr><td align=\"center\"><nobr>10</nobr></td><td align=\"center\"><nobr>Orlando City SC</nobr></td><td align=\"center\"><nobr>34</nobr></td><td align=\"center\">10</td><td align=\"center\">15</td><td align=\"center\"><nobr>9</nobr></td><td align=\"center\">39</td><td align=\"center\">58</td><td align=\"center\">-19</td><td align=\"center\">418</td><td align=\"center\">12.29</td><td align=\"center\">406</td><td align=\"center\">11.94</td><td align=\"center\">0.507</td><td align=\"center\">961</td><td align=\"center\">0.473</td><td align=\"center\">39</td><td align=\"center\">1.15</td></tr>\n",
      "<tr><td align=\"center\"><nobr>11</nobr></td><td align=\"center\"><nobr>D.C. United</nobr></td><td align=\"center\"><nobr>34</nobr></td><td align=\"center\">9</td><td align=\"center\">20</td><td align=\"center\"><nobr>5</nobr></td><td align=\"center\">31</td><td align=\"center\">60</td><td align=\"center\">-29</td><td align=\"center\">402</td><td align=\"center\">11.82</td><td align=\"center\">501</td><td align=\"center\">14.74</td><td align=\"center\">0.445</td><td align=\"center\">874</td><td align=\"center\">0.439</td><td align=\"center\">32</td><td align=\"center\">0.94</td></tr>\n",
      "</table>\n",
      "<b>Western Conference</b>\n",
      "<table border=\"2\" class=\"sortable\">\n",
      "<th align=\"center\">#</th><th align=\"center\">Club</th><th align=\"center\">GP</th><th align=\"center\">W</th><th align=\"center\">L</th><th align=\"center\">T</th><th align=\"center\">GF</th><th align=\"center\">GA</th><th align=\"center\">GD</th><th align=\"center\">ShtF</th><th align=\"center\">AvShtF</th><th align=\"center\">ShtA</th><th align=\"center\">AvShtA</th><th align=\"center\">TSR</th><th align=\"center\">PDO</th><th align=\"center\">Poss</th><th align=\"center\">PTS</th><th align=\"center\">PPG</th>\n",
      "<tr><td align=\"center\"><nobr><b>1</b></nobr></td><td align=\"center\"><nobr><b>Portland Timbers</b></nobr></td><td align=\"center\"><nobr>34</nobr></td><td align=\"center\">15</td><td align=\"center\">11</td><td align=\"center\"><nobr>8</nobr></td><td align=\"center\">60</td><td align=\"center\">50</td><td align=\"center\">10</td><td align=\"center\">483</td><td align=\"center\">14.21</td><td align=\"center\">418</td><td align=\"center\">12.29</td><td align=\"center\">0.536</td><td align=\"center\">1031</td><td align=\"center\">0.511</td><td align=\"center\">53</td><td align=\"center\">1.56</td></tr>\n",
      "<tr><td align=\"center\"><nobr><b>2</b></nobr></td><td align=\"center\"><nobr><b>Seattle Sounders FC</b></nobr></td><td align=\"center\"><nobr>34</nobr></td><td align=\"center\">14</td><td align=\"center\">9</td><td align=\"center\"><nobr>11</nobr></td><td align=\"center\">52</td><td align=\"center\">39</td><td align=\"center\">13</td><td align=\"center\">500</td><td align=\"center\">14.71</td><td align=\"center\">412</td><td align=\"center\">12.12</td><td align=\"center\">0.548</td><td align=\"center\">1031</td><td align=\"center\">0.538</td><td align=\"center\">53</td><td align=\"center\">1.56</td></tr>\n",
      "<tr><td align=\"center\"><nobr><b>3</b></nobr></td><td align=\"center\"><nobr><b>Vancouver Whitecaps FC</b></nobr></td><td align=\"center\"><nobr>34</nobr></td><td align=\"center\">15</td><td align=\"center\">12</td><td align=\"center\"><nobr>7</nobr></td><td align=\"center\">50</td><td align=\"center\">49</td><td align=\"center\">1</td><td align=\"center\">392</td><td align=\"center\">11.53</td><td align=\"center\">523</td><td align=\"center\">15.38</td><td align=\"center\">0.428</td><td align=\"center\">1089</td><td align=\"center\">0.392</td><td align=\"center\">52</td><td align=\"center\">1.53</td></tr>\n",
      "<tr><td align=\"center\"><nobr><b>4</b></nobr></td><td align=\"center\"><nobr><b>Houston Dynamo</b></nobr></td><td align=\"center\"><nobr>34</nobr></td><td align=\"center\">13</td><td align=\"center\">10</td><td align=\"center\"><nobr>11</nobr></td><td align=\"center\">57</td><td align=\"center\">45</td><td align=\"center\">12</td><td align=\"center\">469</td><td align=\"center\">13.79</td><td align=\"center\">437</td><td align=\"center\">12.85</td><td align=\"center\">0.518</td><td align=\"center\">1014</td><td align=\"center\">0.425</td><td align=\"center\">50</td><td align=\"center\">1.47</td></tr>\n",
      "<tr><td align=\"center\"><nobr><b>5</b></nobr></td><td align=\"center\"><nobr><b>Sporting Kansas City</b></nobr></td><td align=\"center\"><nobr>34</nobr></td><td align=\"center\">12</td><td align=\"center\">9</td><td align=\"center\"><nobr>13</nobr></td><td align=\"center\">40</td><td align=\"center\">29</td><td align=\"center\">11</td><td align=\"center\">517</td><td align=\"center\">15.21</td><td align=\"center\">340</td><td align=\"center\">10</td><td align=\"center\">0.603</td><td align=\"center\">1021</td><td align=\"center\">0.595</td><td align=\"center\">49</td><td align=\"center\">1.44</td></tr>\n",
      "<tr><td align=\"center\"><nobr><b>6</b></nobr></td><td align=\"center\"><nobr><b>San Jose Earthquakes</b></nobr></td><td align=\"center\"><nobr>34</nobr></td><td align=\"center\">13</td><td align=\"center\">14</td><td align=\"center\"><nobr>7</nobr></td><td align=\"center\">39</td><td align=\"center\">60</td><td align=\"center\">-21</td><td align=\"center\">466</td><td align=\"center\">13.71</td><td align=\"center\">448</td><td align=\"center\">13.18</td><td align=\"center\">0.51</td><td align=\"center\">898</td><td align=\"center\">0.497</td><td align=\"center\">46</td><td align=\"center\">1.35</td></tr>\n",
      "<tr><td align=\"center\"><nobr>7</nobr></td><td align=\"center\"><nobr>FC Dallas</nobr></td><td align=\"center\"><nobr>34</nobr></td><td align=\"center\">11</td><td align=\"center\">10</td><td align=\"center\"><nobr>13</nobr></td><td align=\"center\">48</td><td align=\"center\">48</td><td align=\"center\">0</td><td align=\"center\">481</td><td align=\"center\">14.15</td><td align=\"center\">375</td><td align=\"center\">11.03</td><td align=\"center\">0.562</td><td align=\"center\">946</td><td align=\"center\">0.499</td><td align=\"center\">46</td><td align=\"center\">1.35</td></tr>\n",
      "<tr><td align=\"center\"><nobr>8</nobr></td><td align=\"center\"><nobr>Real Salt Lake</nobr></td><td align=\"center\"><nobr>34</nobr></td><td align=\"center\">13</td><td align=\"center\">15</td><td align=\"center\"><nobr>6</nobr></td><td align=\"center\">49</td><td align=\"center\">55</td><td align=\"center\">-6</td><td align=\"center\">546</td><td align=\"center\">16.06</td><td align=\"center\">422</td><td align=\"center\">12.41</td><td align=\"center\">0.564</td><td align=\"center\">915</td><td align=\"center\">0.524</td><td align=\"center\">45</td><td align=\"center\">1.32</td></tr>\n",
      "<tr><td align=\"center\"><nobr>9</nobr></td><td align=\"center\"><nobr>Minnesota United FC</nobr></td><td align=\"center\"><nobr>34</nobr></td><td align=\"center\">10</td><td align=\"center\">18</td><td align=\"center\"><nobr>6</nobr></td><td align=\"center\">47</td><td align=\"center\">70</td><td align=\"center\">-23</td><td align=\"center\">338</td><td align=\"center\">9.94</td><td align=\"center\">560</td><td align=\"center\">16.47</td><td align=\"center\">0.376</td><td align=\"center\">1012</td><td align=\"center\">0.506</td><td align=\"center\">36</td><td align=\"center\">1.06</td></tr>\n",
      "<tr><td align=\"center\"><nobr>10</nobr></td><td align=\"center\"><nobr>Colorado Rapids</nobr></td><td align=\"center\"><nobr>34</nobr></td><td align=\"center\">9</td><td align=\"center\">19</td><td align=\"center\"><nobr>6</nobr></td><td align=\"center\">31</td><td align=\"center\">51</td><td align=\"center\">-20</td><td align=\"center\">327</td><td align=\"center\">9.62</td><td align=\"center\">491</td><td align=\"center\">14.44</td><td align=\"center\">0.4</td><td align=\"center\">985</td><td align=\"center\">0.429</td><td align=\"center\">33</td><td align=\"center\">0.97</td></tr>\n",
      "<tr><td align=\"center\"><nobr>11</nobr></td><td align=\"center\"><nobr>LA Galaxy</nobr></td><td align=\"center\"><nobr>34</nobr></td><td align=\"center\">8</td><td align=\"center\">18</td><td align=\"center\"><nobr>8</nobr></td><td align=\"center\">45</td><td align=\"center\">67</td><td align=\"center\">-22</td><td align=\"center\">400</td><td align=\"center\">11.76</td><td align=\"center\">504</td><td align=\"center\">14.82</td><td align=\"center\">0.442</td><td align=\"center\">961</td><td align=\"center\">0.488</td><td align=\"center\">32</td><td align=\"center\">0.94</td></tr>\n",
      "</table>\n",
      "</div> \n",
      "\n",
      "<div class=\"sqs-block-content\"><p>Follow American Soccer Analysis on <a href=\"https://twitter.com/AnalysisEvolved\" target=\"_blank\">Twitter</a> and <a href=\"https://www.facebook.com/analysisevolved\" target=\"_blank\">Facebook</a>, and subscribe to our podcast on <a href=\"https://itunes.apple.com/us/podcast/american-soccer-analysis/id660030731?mt=2\" target=\"_blank\">iTunes</a>, and <a href=\"http://www.stitcher.com/podcast/american-soccer-analysis\" target=\"_blank\">Stitcher</a>.</p></div> \n",
      "\n"
     ]
    }
   ],
   "source": [
    "for element in soup.findAll(\"div\", {\"class\": \"sqs-block-content\"}):\n",
    "    print(element, '\\n')"
   ]
  },
  {
   "cell_type": "code",
   "execution_count": 31,
   "metadata": {
    "collapsed": true
   },
   "outputs": [],
   "source": [
    "tables = soup.find('b', text='Eastern Conference').find_parent('div', {'class': 'sqs-block-content'})"
   ]
  },
  {
   "cell_type": "code",
   "execution_count": 59,
   "metadata": {
    "collapsed": true
   },
   "outputs": [],
   "source": [
    "east_table = soup.find('b', text='Eastern Conference').find_next('table')\n",
    "west_table = soup.find('b', text='Western Conference').find_next('table')"
   ]
  },
  {
   "cell_type": "code",
   "execution_count": null,
   "metadata": {
    "collapsed": true
   },
   "outputs": [],
   "source": [
    "east_header = east_table.find_all('th')"
   ]
  },
  {
   "cell_type": "code",
   "execution_count": 78,
   "metadata": {},
   "outputs": [
    {
     "name": "stdout",
     "output_type": "stream",
     "text": [
      "#\n",
      "Club\n",
      "GP\n",
      "W\n",
      "L\n",
      "T\n",
      "GF\n",
      "GA\n",
      "GD\n",
      "ShtF\n",
      "AvShtF\n",
      "ShtA\n",
      "AvShtA\n",
      "TSR\n",
      "PDO\n",
      "Poss\n",
      "PTS\n",
      "PPG\n"
     ]
    }
   ],
   "source": [
    "for e in east_header:\n",
    "    print(e.text)"
   ]
  },
  {
   "cell_type": "code",
   "execution_count": null,
   "metadata": {
    "collapsed": true
   },
   "outputs": [],
   "source": [
    "east_team_data = east_table.find_all('tr')"
   ]
  },
  {
   "cell_type": "code",
   "execution_count": 62,
   "metadata": {
    "scrolled": true
   },
   "outputs": [
    {
     "name": "stdout",
     "output_type": "stream",
     "text": [
      "<tr><td align=\"center\"><nobr><b>1</b></nobr></td><td align=\"center\"><nobr><b>Toronto FC</b></nobr></td><td align=\"center\"><nobr>34</nobr></td><td align=\"center\">20</td><td align=\"center\">5</td><td align=\"center\"><nobr>9</nobr></td><td align=\"center\">74</td><td align=\"center\">37</td><td align=\"center\">37</td><td align=\"center\">440</td><td align=\"center\">12.94</td><td align=\"center\">402</td><td align=\"center\">11.82</td><td align=\"center\">0.523</td><td align=\"center\">1127</td><td align=\"center\">0.523</td><td align=\"center\">69</td><td align=\"center\">2.03</td></tr> \n",
      "\n",
      "<tr><td align=\"center\"><nobr><b>2</b></nobr></td><td align=\"center\"><nobr><b>New York City FC</b></nobr></td><td align=\"center\"><nobr>34</nobr></td><td align=\"center\">16</td><td align=\"center\">9</td><td align=\"center\"><nobr>9</nobr></td><td align=\"center\">56</td><td align=\"center\">43</td><td align=\"center\">13</td><td align=\"center\">483</td><td align=\"center\">14.21</td><td align=\"center\">424</td><td align=\"center\">12.47</td><td align=\"center\">0.533</td><td align=\"center\">1022</td><td align=\"center\">0.565</td><td align=\"center\">57</td><td align=\"center\">1.68</td></tr> \n",
      "\n",
      "<tr><td align=\"center\"><nobr><b>3</b></nobr></td><td align=\"center\"><nobr><b>Chicago Fire</b></nobr></td><td align=\"center\"><nobr>34</nobr></td><td align=\"center\">16</td><td align=\"center\">11</td><td align=\"center\"><nobr>7</nobr></td><td align=\"center\">61</td><td align=\"center\">47</td><td align=\"center\">14</td><td align=\"center\">421</td><td align=\"center\">12.38</td><td align=\"center\">397</td><td align=\"center\">11.68</td><td align=\"center\">0.515</td><td align=\"center\">1024</td><td align=\"center\">0.527</td><td align=\"center\">55</td><td align=\"center\">1.62</td></tr> \n",
      "\n",
      "<tr><td align=\"center\"><nobr><b>4</b></nobr></td><td align=\"center\"><nobr><b>Atlanta United FC</b></nobr></td><td align=\"center\"><nobr>34</nobr></td><td align=\"center\">15</td><td align=\"center\">9</td><td align=\"center\"><nobr>10</nobr></td><td align=\"center\">70</td><td align=\"center\">40</td><td align=\"center\">30</td><td align=\"center\">440</td><td align=\"center\">12.94</td><td align=\"center\">401</td><td align=\"center\">11.79</td><td align=\"center\">0.523</td><td align=\"center\">1110</td><td align=\"center\">0.594</td><td align=\"center\">55</td><td align=\"center\">1.62</td></tr> \n",
      "\n",
      "<tr><td align=\"center\"><nobr><b>5</b></nobr></td><td align=\"center\"><nobr><b>Columbus Crew SC</b></nobr></td><td align=\"center\"><nobr>34</nobr></td><td align=\"center\">16</td><td align=\"center\">12</td><td align=\"center\"><nobr>6</nobr></td><td align=\"center\">53</td><td align=\"center\">49</td><td align=\"center\">4</td><td align=\"center\">400</td><td align=\"center\">11.76</td><td align=\"center\">444</td><td align=\"center\">13.06</td><td align=\"center\">0.474</td><td align=\"center\">1047</td><td align=\"center\">0.524</td><td align=\"center\">54</td><td align=\"center\">1.59</td></tr> \n",
      "\n",
      "<tr><td align=\"center\"><nobr><b>6</b></nobr></td><td align=\"center\"><nobr><b>New York Red Bulls</b></nobr></td><td align=\"center\"><nobr>34</nobr></td><td align=\"center\">14</td><td align=\"center\">12</td><td align=\"center\"><nobr>8</nobr></td><td align=\"center\">53</td><td align=\"center\">47</td><td align=\"center\">6</td><td align=\"center\">448</td><td align=\"center\">13.18</td><td align=\"center\">390</td><td align=\"center\">11.47</td><td align=\"center\">0.535</td><td align=\"center\">1003</td><td align=\"center\">0.572</td><td align=\"center\">50</td><td align=\"center\">1.47</td></tr> \n",
      "\n",
      "<tr><td align=\"center\"><nobr>7</nobr></td><td align=\"center\"><nobr>New England Revolution</nobr></td><td align=\"center\"><nobr>34</nobr></td><td align=\"center\">13</td><td align=\"center\">15</td><td align=\"center\"><nobr>6</nobr></td><td align=\"center\">53</td><td align=\"center\">61</td><td align=\"center\">-8</td><td align=\"center\">434</td><td align=\"center\">12.76</td><td align=\"center\">418</td><td align=\"center\">12.29</td><td align=\"center\">0.509</td><td align=\"center\">915</td><td align=\"center\">0.445</td><td align=\"center\">45</td><td align=\"center\">1.32</td></tr> \n",
      "\n",
      "<tr><td align=\"center\"><nobr>8</nobr></td><td align=\"center\"><nobr>Philadelphia Union</nobr></td><td align=\"center\"><nobr>34</nobr></td><td align=\"center\">11</td><td align=\"center\">14</td><td align=\"center\"><nobr>9</nobr></td><td align=\"center\">50</td><td align=\"center\">47</td><td align=\"center\">3</td><td align=\"center\">383</td><td align=\"center\">11.26</td><td align=\"center\">423</td><td align=\"center\">12.44</td><td align=\"center\">0.475</td><td align=\"center\">1065</td><td align=\"center\">0.444</td><td align=\"center\">42</td><td align=\"center\">1.24</td></tr> \n",
      "\n",
      "<tr><td align=\"center\"><nobr>9</nobr></td><td align=\"center\"><nobr>Montreal Impact</nobr></td><td align=\"center\"><nobr>34</nobr></td><td align=\"center\">11</td><td align=\"center\">17</td><td align=\"center\"><nobr>6</nobr></td><td align=\"center\">52</td><td align=\"center\">58</td><td align=\"center\">-6</td><td align=\"center\">419</td><td align=\"center\">12.32</td><td align=\"center\">471</td><td align=\"center\">13.85</td><td align=\"center\">0.471</td><td align=\"center\">976</td><td align=\"center\">0.474</td><td align=\"center\">39</td><td align=\"center\">1.15</td></tr> \n",
      "\n",
      "<tr><td align=\"center\"><nobr>10</nobr></td><td align=\"center\"><nobr>Orlando City SC</nobr></td><td align=\"center\"><nobr>34</nobr></td><td align=\"center\">10</td><td align=\"center\">15</td><td align=\"center\"><nobr>9</nobr></td><td align=\"center\">39</td><td align=\"center\">58</td><td align=\"center\">-19</td><td align=\"center\">418</td><td align=\"center\">12.29</td><td align=\"center\">406</td><td align=\"center\">11.94</td><td align=\"center\">0.507</td><td align=\"center\">961</td><td align=\"center\">0.473</td><td align=\"center\">39</td><td align=\"center\">1.15</td></tr> \n",
      "\n",
      "<tr><td align=\"center\"><nobr>11</nobr></td><td align=\"center\"><nobr>D.C. United</nobr></td><td align=\"center\"><nobr>34</nobr></td><td align=\"center\">9</td><td align=\"center\">20</td><td align=\"center\"><nobr>5</nobr></td><td align=\"center\">31</td><td align=\"center\">60</td><td align=\"center\">-29</td><td align=\"center\">402</td><td align=\"center\">11.82</td><td align=\"center\">501</td><td align=\"center\">14.74</td><td align=\"center\">0.445</td><td align=\"center\">874</td><td align=\"center\">0.439</td><td align=\"center\">32</td><td align=\"center\">0.94</td></tr> \n",
      "\n"
     ]
    }
   ],
   "source": [
    "for e in east_team_data:\n",
    "    print(e, '\\n')"
   ]
  },
  {
   "cell_type": "code",
   "execution_count": 67,
   "metadata": {
    "collapsed": true
   },
   "outputs": [],
   "source": [
    "west_header = west_table.find_all('th')\n",
    "west_team_data = west_table.find_all('tr')"
   ]
  },
  {
   "cell_type": "code",
   "execution_count": 68,
   "metadata": {
    "scrolled": true
   },
   "outputs": [
    {
     "name": "stdout",
     "output_type": "stream",
     "text": [
      "<tr><td align=\"center\"><nobr><b>1</b></nobr></td><td align=\"center\"><nobr><b>Portland Timbers</b></nobr></td><td align=\"center\"><nobr>34</nobr></td><td align=\"center\">15</td><td align=\"center\">11</td><td align=\"center\"><nobr>8</nobr></td><td align=\"center\">60</td><td align=\"center\">50</td><td align=\"center\">10</td><td align=\"center\">483</td><td align=\"center\">14.21</td><td align=\"center\">418</td><td align=\"center\">12.29</td><td align=\"center\">0.536</td><td align=\"center\">1031</td><td align=\"center\">0.511</td><td align=\"center\">53</td><td align=\"center\">1.56</td></tr> \n",
      "\n",
      "<tr><td align=\"center\"><nobr><b>2</b></nobr></td><td align=\"center\"><nobr><b>Seattle Sounders FC</b></nobr></td><td align=\"center\"><nobr>34</nobr></td><td align=\"center\">14</td><td align=\"center\">9</td><td align=\"center\"><nobr>11</nobr></td><td align=\"center\">52</td><td align=\"center\">39</td><td align=\"center\">13</td><td align=\"center\">500</td><td align=\"center\">14.71</td><td align=\"center\">412</td><td align=\"center\">12.12</td><td align=\"center\">0.548</td><td align=\"center\">1031</td><td align=\"center\">0.538</td><td align=\"center\">53</td><td align=\"center\">1.56</td></tr> \n",
      "\n",
      "<tr><td align=\"center\"><nobr><b>3</b></nobr></td><td align=\"center\"><nobr><b>Vancouver Whitecaps FC</b></nobr></td><td align=\"center\"><nobr>34</nobr></td><td align=\"center\">15</td><td align=\"center\">12</td><td align=\"center\"><nobr>7</nobr></td><td align=\"center\">50</td><td align=\"center\">49</td><td align=\"center\">1</td><td align=\"center\">392</td><td align=\"center\">11.53</td><td align=\"center\">523</td><td align=\"center\">15.38</td><td align=\"center\">0.428</td><td align=\"center\">1089</td><td align=\"center\">0.392</td><td align=\"center\">52</td><td align=\"center\">1.53</td></tr> \n",
      "\n",
      "<tr><td align=\"center\"><nobr><b>4</b></nobr></td><td align=\"center\"><nobr><b>Houston Dynamo</b></nobr></td><td align=\"center\"><nobr>34</nobr></td><td align=\"center\">13</td><td align=\"center\">10</td><td align=\"center\"><nobr>11</nobr></td><td align=\"center\">57</td><td align=\"center\">45</td><td align=\"center\">12</td><td align=\"center\">469</td><td align=\"center\">13.79</td><td align=\"center\">437</td><td align=\"center\">12.85</td><td align=\"center\">0.518</td><td align=\"center\">1014</td><td align=\"center\">0.425</td><td align=\"center\">50</td><td align=\"center\">1.47</td></tr> \n",
      "\n",
      "<tr><td align=\"center\"><nobr><b>5</b></nobr></td><td align=\"center\"><nobr><b>Sporting Kansas City</b></nobr></td><td align=\"center\"><nobr>34</nobr></td><td align=\"center\">12</td><td align=\"center\">9</td><td align=\"center\"><nobr>13</nobr></td><td align=\"center\">40</td><td align=\"center\">29</td><td align=\"center\">11</td><td align=\"center\">517</td><td align=\"center\">15.21</td><td align=\"center\">340</td><td align=\"center\">10</td><td align=\"center\">0.603</td><td align=\"center\">1021</td><td align=\"center\">0.595</td><td align=\"center\">49</td><td align=\"center\">1.44</td></tr> \n",
      "\n",
      "<tr><td align=\"center\"><nobr><b>6</b></nobr></td><td align=\"center\"><nobr><b>San Jose Earthquakes</b></nobr></td><td align=\"center\"><nobr>34</nobr></td><td align=\"center\">13</td><td align=\"center\">14</td><td align=\"center\"><nobr>7</nobr></td><td align=\"center\">39</td><td align=\"center\">60</td><td align=\"center\">-21</td><td align=\"center\">466</td><td align=\"center\">13.71</td><td align=\"center\">448</td><td align=\"center\">13.18</td><td align=\"center\">0.51</td><td align=\"center\">898</td><td align=\"center\">0.497</td><td align=\"center\">46</td><td align=\"center\">1.35</td></tr> \n",
      "\n",
      "<tr><td align=\"center\"><nobr>7</nobr></td><td align=\"center\"><nobr>FC Dallas</nobr></td><td align=\"center\"><nobr>34</nobr></td><td align=\"center\">11</td><td align=\"center\">10</td><td align=\"center\"><nobr>13</nobr></td><td align=\"center\">48</td><td align=\"center\">48</td><td align=\"center\">0</td><td align=\"center\">481</td><td align=\"center\">14.15</td><td align=\"center\">375</td><td align=\"center\">11.03</td><td align=\"center\">0.562</td><td align=\"center\">946</td><td align=\"center\">0.499</td><td align=\"center\">46</td><td align=\"center\">1.35</td></tr> \n",
      "\n",
      "<tr><td align=\"center\"><nobr>8</nobr></td><td align=\"center\"><nobr>Real Salt Lake</nobr></td><td align=\"center\"><nobr>34</nobr></td><td align=\"center\">13</td><td align=\"center\">15</td><td align=\"center\"><nobr>6</nobr></td><td align=\"center\">49</td><td align=\"center\">55</td><td align=\"center\">-6</td><td align=\"center\">546</td><td align=\"center\">16.06</td><td align=\"center\">422</td><td align=\"center\">12.41</td><td align=\"center\">0.564</td><td align=\"center\">915</td><td align=\"center\">0.524</td><td align=\"center\">45</td><td align=\"center\">1.32</td></tr> \n",
      "\n",
      "<tr><td align=\"center\"><nobr>9</nobr></td><td align=\"center\"><nobr>Minnesota United FC</nobr></td><td align=\"center\"><nobr>34</nobr></td><td align=\"center\">10</td><td align=\"center\">18</td><td align=\"center\"><nobr>6</nobr></td><td align=\"center\">47</td><td align=\"center\">70</td><td align=\"center\">-23</td><td align=\"center\">338</td><td align=\"center\">9.94</td><td align=\"center\">560</td><td align=\"center\">16.47</td><td align=\"center\">0.376</td><td align=\"center\">1012</td><td align=\"center\">0.506</td><td align=\"center\">36</td><td align=\"center\">1.06</td></tr> \n",
      "\n",
      "<tr><td align=\"center\"><nobr>10</nobr></td><td align=\"center\"><nobr>Colorado Rapids</nobr></td><td align=\"center\"><nobr>34</nobr></td><td align=\"center\">9</td><td align=\"center\">19</td><td align=\"center\"><nobr>6</nobr></td><td align=\"center\">31</td><td align=\"center\">51</td><td align=\"center\">-20</td><td align=\"center\">327</td><td align=\"center\">9.62</td><td align=\"center\">491</td><td align=\"center\">14.44</td><td align=\"center\">0.4</td><td align=\"center\">985</td><td align=\"center\">0.429</td><td align=\"center\">33</td><td align=\"center\">0.97</td></tr> \n",
      "\n",
      "<tr><td align=\"center\"><nobr>11</nobr></td><td align=\"center\"><nobr>LA Galaxy</nobr></td><td align=\"center\"><nobr>34</nobr></td><td align=\"center\">8</td><td align=\"center\">18</td><td align=\"center\"><nobr>8</nobr></td><td align=\"center\">45</td><td align=\"center\">67</td><td align=\"center\">-22</td><td align=\"center\">400</td><td align=\"center\">11.76</td><td align=\"center\">504</td><td align=\"center\">14.82</td><td align=\"center\">0.442</td><td align=\"center\">961</td><td align=\"center\">0.488</td><td align=\"center\">32</td><td align=\"center\">0.94</td></tr> \n",
      "\n"
     ]
    }
   ],
   "source": [
    "for e in west_team_data:\n",
    "    print(e, '\\n')"
   ]
  },
  {
   "cell_type": "code",
   "execution_count": 72,
   "metadata": {},
   "outputs": [
    {
     "data": {
      "text/plain": [
       "[<td align=\"center\"><nobr><b>1</b></nobr></td>,\n",
       " <td align=\"center\"><nobr><b>Portland Timbers</b></nobr></td>,\n",
       " <td align=\"center\"><nobr>34</nobr></td>,\n",
       " <td align=\"center\">15</td>,\n",
       " <td align=\"center\">11</td>,\n",
       " <td align=\"center\"><nobr>8</nobr></td>,\n",
       " <td align=\"center\">60</td>,\n",
       " <td align=\"center\">50</td>,\n",
       " <td align=\"center\">10</td>,\n",
       " <td align=\"center\">483</td>,\n",
       " <td align=\"center\">14.21</td>,\n",
       " <td align=\"center\">418</td>,\n",
       " <td align=\"center\">12.29</td>,\n",
       " <td align=\"center\">0.536</td>,\n",
       " <td align=\"center\">1031</td>,\n",
       " <td align=\"center\">0.511</td>,\n",
       " <td align=\"center\">53</td>,\n",
       " <td align=\"center\">1.56</td>]"
      ]
     },
     "execution_count": 72,
     "metadata": {},
     "output_type": "execute_result"
    }
   ],
   "source": [
    "west_team_data[0].find_all('td')"
   ]
  },
  {
   "cell_type": "code",
   "execution_count": 77,
   "metadata": {},
   "outputs": [
    {
     "name": "stdout",
     "output_type": "stream",
     "text": [
      "1\n",
      "Portland Timbers\n",
      "34\n",
      "15\n",
      "11\n",
      "8\n",
      "60\n",
      "50\n",
      "10\n",
      "483\n",
      "14.21\n",
      "418\n",
      "12.29\n",
      "0.536\n",
      "1031\n",
      "0.511\n",
      "53\n",
      "1.56\n"
     ]
    }
   ],
   "source": [
    "for e in west_team_data[0].find_all('td'):\n",
    "    print(e.text)"
   ]
  },
  {
   "cell_type": "code",
   "execution_count": null,
   "metadata": {
    "collapsed": true
   },
   "outputs": [],
   "source": []
  },
  {
   "cell_type": "code",
   "execution_count": null,
   "metadata": {
    "collapsed": true
   },
   "outputs": [],
   "source": [
    "\n",
    "for team in east_team_data:\n",
    "    "
   ]
  },
  {
   "cell_type": "code",
   "execution_count": null,
   "metadata": {
    "collapsed": true
   },
   "outputs": [],
   "source": []
  },
  {
   "cell_type": "code",
   "execution_count": 43,
   "metadata": {},
   "outputs": [
    {
     "data": {
      "text/plain": [
       "2"
      ]
     },
     "execution_count": 43,
     "metadata": {},
     "output_type": "execute_result"
    }
   ],
   "source": [
    "len(tmp)"
   ]
  },
  {
   "cell_type": "code",
   "execution_count": 37,
   "metadata": {
    "scrolled": true
   },
   "outputs": [
    {
     "data": {
      "text/plain": [
       "<table border=\"2\" class=\"sortable\">\n",
       "<th align=\"center\">#</th><th align=\"center\">Club</th><th align=\"center\">GP</th><th align=\"center\">W</th><th align=\"center\">L</th><th align=\"center\">T</th><th align=\"center\">GF</th><th align=\"center\">GA</th><th align=\"center\">GD</th><th align=\"center\">ShtF</th><th align=\"center\">AvShtF</th><th align=\"center\">ShtA</th><th align=\"center\">AvShtA</th><th align=\"center\">TSR</th><th align=\"center\">PDO</th><th align=\"center\">Poss</th><th align=\"center\">PTS</th><th align=\"center\">PPG</th>\n",
       "<tr><td align=\"center\"><nobr><b>1</b></nobr></td><td align=\"center\"><nobr><b>Toronto FC</b></nobr></td><td align=\"center\"><nobr>34</nobr></td><td align=\"center\">20</td><td align=\"center\">5</td><td align=\"center\"><nobr>9</nobr></td><td align=\"center\">74</td><td align=\"center\">37</td><td align=\"center\">37</td><td align=\"center\">440</td><td align=\"center\">12.94</td><td align=\"center\">402</td><td align=\"center\">11.82</td><td align=\"center\">0.523</td><td align=\"center\">1127</td><td align=\"center\">0.523</td><td align=\"center\">69</td><td align=\"center\">2.03</td></tr>\n",
       "<tr><td align=\"center\"><nobr><b>2</b></nobr></td><td align=\"center\"><nobr><b>New York City FC</b></nobr></td><td align=\"center\"><nobr>34</nobr></td><td align=\"center\">16</td><td align=\"center\">9</td><td align=\"center\"><nobr>9</nobr></td><td align=\"center\">56</td><td align=\"center\">43</td><td align=\"center\">13</td><td align=\"center\">483</td><td align=\"center\">14.21</td><td align=\"center\">424</td><td align=\"center\">12.47</td><td align=\"center\">0.533</td><td align=\"center\">1022</td><td align=\"center\">0.565</td><td align=\"center\">57</td><td align=\"center\">1.68</td></tr>\n",
       "<tr><td align=\"center\"><nobr><b>3</b></nobr></td><td align=\"center\"><nobr><b>Chicago Fire</b></nobr></td><td align=\"center\"><nobr>34</nobr></td><td align=\"center\">16</td><td align=\"center\">11</td><td align=\"center\"><nobr>7</nobr></td><td align=\"center\">61</td><td align=\"center\">47</td><td align=\"center\">14</td><td align=\"center\">421</td><td align=\"center\">12.38</td><td align=\"center\">397</td><td align=\"center\">11.68</td><td align=\"center\">0.515</td><td align=\"center\">1024</td><td align=\"center\">0.527</td><td align=\"center\">55</td><td align=\"center\">1.62</td></tr>\n",
       "<tr><td align=\"center\"><nobr><b>4</b></nobr></td><td align=\"center\"><nobr><b>Atlanta United FC</b></nobr></td><td align=\"center\"><nobr>34</nobr></td><td align=\"center\">15</td><td align=\"center\">9</td><td align=\"center\"><nobr>10</nobr></td><td align=\"center\">70</td><td align=\"center\">40</td><td align=\"center\">30</td><td align=\"center\">440</td><td align=\"center\">12.94</td><td align=\"center\">401</td><td align=\"center\">11.79</td><td align=\"center\">0.523</td><td align=\"center\">1110</td><td align=\"center\">0.594</td><td align=\"center\">55</td><td align=\"center\">1.62</td></tr>\n",
       "<tr><td align=\"center\"><nobr><b>5</b></nobr></td><td align=\"center\"><nobr><b>Columbus Crew SC</b></nobr></td><td align=\"center\"><nobr>34</nobr></td><td align=\"center\">16</td><td align=\"center\">12</td><td align=\"center\"><nobr>6</nobr></td><td align=\"center\">53</td><td align=\"center\">49</td><td align=\"center\">4</td><td align=\"center\">400</td><td align=\"center\">11.76</td><td align=\"center\">444</td><td align=\"center\">13.06</td><td align=\"center\">0.474</td><td align=\"center\">1047</td><td align=\"center\">0.524</td><td align=\"center\">54</td><td align=\"center\">1.59</td></tr>\n",
       "<tr><td align=\"center\"><nobr><b>6</b></nobr></td><td align=\"center\"><nobr><b>New York Red Bulls</b></nobr></td><td align=\"center\"><nobr>34</nobr></td><td align=\"center\">14</td><td align=\"center\">12</td><td align=\"center\"><nobr>8</nobr></td><td align=\"center\">53</td><td align=\"center\">47</td><td align=\"center\">6</td><td align=\"center\">448</td><td align=\"center\">13.18</td><td align=\"center\">390</td><td align=\"center\">11.47</td><td align=\"center\">0.535</td><td align=\"center\">1003</td><td align=\"center\">0.572</td><td align=\"center\">50</td><td align=\"center\">1.47</td></tr>\n",
       "<tr><td align=\"center\"><nobr>7</nobr></td><td align=\"center\"><nobr>New England Revolution</nobr></td><td align=\"center\"><nobr>34</nobr></td><td align=\"center\">13</td><td align=\"center\">15</td><td align=\"center\"><nobr>6</nobr></td><td align=\"center\">53</td><td align=\"center\">61</td><td align=\"center\">-8</td><td align=\"center\">434</td><td align=\"center\">12.76</td><td align=\"center\">418</td><td align=\"center\">12.29</td><td align=\"center\">0.509</td><td align=\"center\">915</td><td align=\"center\">0.445</td><td align=\"center\">45</td><td align=\"center\">1.32</td></tr>\n",
       "<tr><td align=\"center\"><nobr>8</nobr></td><td align=\"center\"><nobr>Philadelphia Union</nobr></td><td align=\"center\"><nobr>34</nobr></td><td align=\"center\">11</td><td align=\"center\">14</td><td align=\"center\"><nobr>9</nobr></td><td align=\"center\">50</td><td align=\"center\">47</td><td align=\"center\">3</td><td align=\"center\">383</td><td align=\"center\">11.26</td><td align=\"center\">423</td><td align=\"center\">12.44</td><td align=\"center\">0.475</td><td align=\"center\">1065</td><td align=\"center\">0.444</td><td align=\"center\">42</td><td align=\"center\">1.24</td></tr>\n",
       "<tr><td align=\"center\"><nobr>9</nobr></td><td align=\"center\"><nobr>Montreal Impact</nobr></td><td align=\"center\"><nobr>34</nobr></td><td align=\"center\">11</td><td align=\"center\">17</td><td align=\"center\"><nobr>6</nobr></td><td align=\"center\">52</td><td align=\"center\">58</td><td align=\"center\">-6</td><td align=\"center\">419</td><td align=\"center\">12.32</td><td align=\"center\">471</td><td align=\"center\">13.85</td><td align=\"center\">0.471</td><td align=\"center\">976</td><td align=\"center\">0.474</td><td align=\"center\">39</td><td align=\"center\">1.15</td></tr>\n",
       "<tr><td align=\"center\"><nobr>10</nobr></td><td align=\"center\"><nobr>Orlando City SC</nobr></td><td align=\"center\"><nobr>34</nobr></td><td align=\"center\">10</td><td align=\"center\">15</td><td align=\"center\"><nobr>9</nobr></td><td align=\"center\">39</td><td align=\"center\">58</td><td align=\"center\">-19</td><td align=\"center\">418</td><td align=\"center\">12.29</td><td align=\"center\">406</td><td align=\"center\">11.94</td><td align=\"center\">0.507</td><td align=\"center\">961</td><td align=\"center\">0.473</td><td align=\"center\">39</td><td align=\"center\">1.15</td></tr>\n",
       "<tr><td align=\"center\"><nobr>11</nobr></td><td align=\"center\"><nobr>D.C. United</nobr></td><td align=\"center\"><nobr>34</nobr></td><td align=\"center\">9</td><td align=\"center\">20</td><td align=\"center\"><nobr>5</nobr></td><td align=\"center\">31</td><td align=\"center\">60</td><td align=\"center\">-29</td><td align=\"center\">402</td><td align=\"center\">11.82</td><td align=\"center\">501</td><td align=\"center\">14.74</td><td align=\"center\">0.445</td><td align=\"center\">874</td><td align=\"center\">0.439</td><td align=\"center\">32</td><td align=\"center\">0.94</td></tr>\n",
       "</table>"
      ]
     },
     "execution_count": 37,
     "metadata": {},
     "output_type": "execute_result"
    }
   ],
   "source": [
    "tables.find_next().find_next()"
   ]
  },
  {
   "cell_type": "code",
   "execution_count": 27,
   "metadata": {
    "collapsed": true
   },
   "outputs": [],
   "source": [
    "west_table = soup.find('b', text='Western Conference').find_parent('div', {'class': 'sqs-block-content'}) "
   ]
  },
  {
   "cell_type": "code",
   "execution_count": null,
   "metadata": {
    "collapsed": true
   },
   "outputs": [],
   "source": []
  },
  {
   "cell_type": "code",
   "execution_count": 29,
   "metadata": {},
   "outputs": [
    {
     "name": "stdout",
     "output_type": "stream",
     "text": [
      "<tr><td align=\"center\"><nobr><b>1</b></nobr></td><td align=\"center\"><nobr><b>Toronto FC</b></nobr></td><td align=\"center\"><nobr>34</nobr></td><td align=\"center\">20</td><td align=\"center\">5</td><td align=\"center\"><nobr>9</nobr></td><td align=\"center\">74</td><td align=\"center\">37</td><td align=\"center\">37</td><td align=\"center\">440</td><td align=\"center\">12.94</td><td align=\"center\">402</td><td align=\"center\">11.82</td><td align=\"center\">0.523</td><td align=\"center\">1127</td><td align=\"center\">0.523</td><td align=\"center\">69</td><td align=\"center\">2.03</td></tr> \n",
      "\n",
      "<tr><td align=\"center\"><nobr><b>2</b></nobr></td><td align=\"center\"><nobr><b>New York City FC</b></nobr></td><td align=\"center\"><nobr>34</nobr></td><td align=\"center\">16</td><td align=\"center\">9</td><td align=\"center\"><nobr>9</nobr></td><td align=\"center\">56</td><td align=\"center\">43</td><td align=\"center\">13</td><td align=\"center\">483</td><td align=\"center\">14.21</td><td align=\"center\">424</td><td align=\"center\">12.47</td><td align=\"center\">0.533</td><td align=\"center\">1022</td><td align=\"center\">0.565</td><td align=\"center\">57</td><td align=\"center\">1.68</td></tr> \n",
      "\n",
      "<tr><td align=\"center\"><nobr><b>3</b></nobr></td><td align=\"center\"><nobr><b>Chicago Fire</b></nobr></td><td align=\"center\"><nobr>34</nobr></td><td align=\"center\">16</td><td align=\"center\">11</td><td align=\"center\"><nobr>7</nobr></td><td align=\"center\">61</td><td align=\"center\">47</td><td align=\"center\">14</td><td align=\"center\">421</td><td align=\"center\">12.38</td><td align=\"center\">397</td><td align=\"center\">11.68</td><td align=\"center\">0.515</td><td align=\"center\">1024</td><td align=\"center\">0.527</td><td align=\"center\">55</td><td align=\"center\">1.62</td></tr> \n",
      "\n",
      "<tr><td align=\"center\"><nobr><b>4</b></nobr></td><td align=\"center\"><nobr><b>Atlanta United FC</b></nobr></td><td align=\"center\"><nobr>34</nobr></td><td align=\"center\">15</td><td align=\"center\">9</td><td align=\"center\"><nobr>10</nobr></td><td align=\"center\">70</td><td align=\"center\">40</td><td align=\"center\">30</td><td align=\"center\">440</td><td align=\"center\">12.94</td><td align=\"center\">401</td><td align=\"center\">11.79</td><td align=\"center\">0.523</td><td align=\"center\">1110</td><td align=\"center\">0.594</td><td align=\"center\">55</td><td align=\"center\">1.62</td></tr> \n",
      "\n",
      "<tr><td align=\"center\"><nobr><b>5</b></nobr></td><td align=\"center\"><nobr><b>Columbus Crew SC</b></nobr></td><td align=\"center\"><nobr>34</nobr></td><td align=\"center\">16</td><td align=\"center\">12</td><td align=\"center\"><nobr>6</nobr></td><td align=\"center\">53</td><td align=\"center\">49</td><td align=\"center\">4</td><td align=\"center\">400</td><td align=\"center\">11.76</td><td align=\"center\">444</td><td align=\"center\">13.06</td><td align=\"center\">0.474</td><td align=\"center\">1047</td><td align=\"center\">0.524</td><td align=\"center\">54</td><td align=\"center\">1.59</td></tr> \n",
      "\n",
      "<tr><td align=\"center\"><nobr><b>6</b></nobr></td><td align=\"center\"><nobr><b>New York Red Bulls</b></nobr></td><td align=\"center\"><nobr>34</nobr></td><td align=\"center\">14</td><td align=\"center\">12</td><td align=\"center\"><nobr>8</nobr></td><td align=\"center\">53</td><td align=\"center\">47</td><td align=\"center\">6</td><td align=\"center\">448</td><td align=\"center\">13.18</td><td align=\"center\">390</td><td align=\"center\">11.47</td><td align=\"center\">0.535</td><td align=\"center\">1003</td><td align=\"center\">0.572</td><td align=\"center\">50</td><td align=\"center\">1.47</td></tr> \n",
      "\n",
      "<tr><td align=\"center\"><nobr>7</nobr></td><td align=\"center\"><nobr>New England Revolution</nobr></td><td align=\"center\"><nobr>34</nobr></td><td align=\"center\">13</td><td align=\"center\">15</td><td align=\"center\"><nobr>6</nobr></td><td align=\"center\">53</td><td align=\"center\">61</td><td align=\"center\">-8</td><td align=\"center\">434</td><td align=\"center\">12.76</td><td align=\"center\">418</td><td align=\"center\">12.29</td><td align=\"center\">0.509</td><td align=\"center\">915</td><td align=\"center\">0.445</td><td align=\"center\">45</td><td align=\"center\">1.32</td></tr> \n",
      "\n",
      "<tr><td align=\"center\"><nobr>8</nobr></td><td align=\"center\"><nobr>Philadelphia Union</nobr></td><td align=\"center\"><nobr>34</nobr></td><td align=\"center\">11</td><td align=\"center\">14</td><td align=\"center\"><nobr>9</nobr></td><td align=\"center\">50</td><td align=\"center\">47</td><td align=\"center\">3</td><td align=\"center\">383</td><td align=\"center\">11.26</td><td align=\"center\">423</td><td align=\"center\">12.44</td><td align=\"center\">0.475</td><td align=\"center\">1065</td><td align=\"center\">0.444</td><td align=\"center\">42</td><td align=\"center\">1.24</td></tr> \n",
      "\n",
      "<tr><td align=\"center\"><nobr>9</nobr></td><td align=\"center\"><nobr>Montreal Impact</nobr></td><td align=\"center\"><nobr>34</nobr></td><td align=\"center\">11</td><td align=\"center\">17</td><td align=\"center\"><nobr>6</nobr></td><td align=\"center\">52</td><td align=\"center\">58</td><td align=\"center\">-6</td><td align=\"center\">419</td><td align=\"center\">12.32</td><td align=\"center\">471</td><td align=\"center\">13.85</td><td align=\"center\">0.471</td><td align=\"center\">976</td><td align=\"center\">0.474</td><td align=\"center\">39</td><td align=\"center\">1.15</td></tr> \n",
      "\n",
      "<tr><td align=\"center\"><nobr>10</nobr></td><td align=\"center\"><nobr>Orlando City SC</nobr></td><td align=\"center\"><nobr>34</nobr></td><td align=\"center\">10</td><td align=\"center\">15</td><td align=\"center\"><nobr>9</nobr></td><td align=\"center\">39</td><td align=\"center\">58</td><td align=\"center\">-19</td><td align=\"center\">418</td><td align=\"center\">12.29</td><td align=\"center\">406</td><td align=\"center\">11.94</td><td align=\"center\">0.507</td><td align=\"center\">961</td><td align=\"center\">0.473</td><td align=\"center\">39</td><td align=\"center\">1.15</td></tr> \n",
      "\n",
      "<tr><td align=\"center\"><nobr>11</nobr></td><td align=\"center\"><nobr>D.C. United</nobr></td><td align=\"center\"><nobr>34</nobr></td><td align=\"center\">9</td><td align=\"center\">20</td><td align=\"center\"><nobr>5</nobr></td><td align=\"center\">31</td><td align=\"center\">60</td><td align=\"center\">-29</td><td align=\"center\">402</td><td align=\"center\">11.82</td><td align=\"center\">501</td><td align=\"center\">14.74</td><td align=\"center\">0.445</td><td align=\"center\">874</td><td align=\"center\">0.439</td><td align=\"center\">32</td><td align=\"center\">0.94</td></tr> \n",
      "\n",
      "<tr><td align=\"center\"><nobr><b>1</b></nobr></td><td align=\"center\"><nobr><b>Portland Timbers</b></nobr></td><td align=\"center\"><nobr>34</nobr></td><td align=\"center\">15</td><td align=\"center\">11</td><td align=\"center\"><nobr>8</nobr></td><td align=\"center\">60</td><td align=\"center\">50</td><td align=\"center\">10</td><td align=\"center\">483</td><td align=\"center\">14.21</td><td align=\"center\">418</td><td align=\"center\">12.29</td><td align=\"center\">0.536</td><td align=\"center\">1031</td><td align=\"center\">0.511</td><td align=\"center\">53</td><td align=\"center\">1.56</td></tr> \n",
      "\n",
      "<tr><td align=\"center\"><nobr><b>2</b></nobr></td><td align=\"center\"><nobr><b>Seattle Sounders FC</b></nobr></td><td align=\"center\"><nobr>34</nobr></td><td align=\"center\">14</td><td align=\"center\">9</td><td align=\"center\"><nobr>11</nobr></td><td align=\"center\">52</td><td align=\"center\">39</td><td align=\"center\">13</td><td align=\"center\">500</td><td align=\"center\">14.71</td><td align=\"center\">412</td><td align=\"center\">12.12</td><td align=\"center\">0.548</td><td align=\"center\">1031</td><td align=\"center\">0.538</td><td align=\"center\">53</td><td align=\"center\">1.56</td></tr> \n",
      "\n",
      "<tr><td align=\"center\"><nobr><b>3</b></nobr></td><td align=\"center\"><nobr><b>Vancouver Whitecaps FC</b></nobr></td><td align=\"center\"><nobr>34</nobr></td><td align=\"center\">15</td><td align=\"center\">12</td><td align=\"center\"><nobr>7</nobr></td><td align=\"center\">50</td><td align=\"center\">49</td><td align=\"center\">1</td><td align=\"center\">392</td><td align=\"center\">11.53</td><td align=\"center\">523</td><td align=\"center\">15.38</td><td align=\"center\">0.428</td><td align=\"center\">1089</td><td align=\"center\">0.392</td><td align=\"center\">52</td><td align=\"center\">1.53</td></tr> \n",
      "\n",
      "<tr><td align=\"center\"><nobr><b>4</b></nobr></td><td align=\"center\"><nobr><b>Houston Dynamo</b></nobr></td><td align=\"center\"><nobr>34</nobr></td><td align=\"center\">13</td><td align=\"center\">10</td><td align=\"center\"><nobr>11</nobr></td><td align=\"center\">57</td><td align=\"center\">45</td><td align=\"center\">12</td><td align=\"center\">469</td><td align=\"center\">13.79</td><td align=\"center\">437</td><td align=\"center\">12.85</td><td align=\"center\">0.518</td><td align=\"center\">1014</td><td align=\"center\">0.425</td><td align=\"center\">50</td><td align=\"center\">1.47</td></tr> \n",
      "\n",
      "<tr><td align=\"center\"><nobr><b>5</b></nobr></td><td align=\"center\"><nobr><b>Sporting Kansas City</b></nobr></td><td align=\"center\"><nobr>34</nobr></td><td align=\"center\">12</td><td align=\"center\">9</td><td align=\"center\"><nobr>13</nobr></td><td align=\"center\">40</td><td align=\"center\">29</td><td align=\"center\">11</td><td align=\"center\">517</td><td align=\"center\">15.21</td><td align=\"center\">340</td><td align=\"center\">10</td><td align=\"center\">0.603</td><td align=\"center\">1021</td><td align=\"center\">0.595</td><td align=\"center\">49</td><td align=\"center\">1.44</td></tr> \n",
      "\n",
      "<tr><td align=\"center\"><nobr><b>6</b></nobr></td><td align=\"center\"><nobr><b>San Jose Earthquakes</b></nobr></td><td align=\"center\"><nobr>34</nobr></td><td align=\"center\">13</td><td align=\"center\">14</td><td align=\"center\"><nobr>7</nobr></td><td align=\"center\">39</td><td align=\"center\">60</td><td align=\"center\">-21</td><td align=\"center\">466</td><td align=\"center\">13.71</td><td align=\"center\">448</td><td align=\"center\">13.18</td><td align=\"center\">0.51</td><td align=\"center\">898</td><td align=\"center\">0.497</td><td align=\"center\">46</td><td align=\"center\">1.35</td></tr> \n",
      "\n",
      "<tr><td align=\"center\"><nobr>7</nobr></td><td align=\"center\"><nobr>FC Dallas</nobr></td><td align=\"center\"><nobr>34</nobr></td><td align=\"center\">11</td><td align=\"center\">10</td><td align=\"center\"><nobr>13</nobr></td><td align=\"center\">48</td><td align=\"center\">48</td><td align=\"center\">0</td><td align=\"center\">481</td><td align=\"center\">14.15</td><td align=\"center\">375</td><td align=\"center\">11.03</td><td align=\"center\">0.562</td><td align=\"center\">946</td><td align=\"center\">0.499</td><td align=\"center\">46</td><td align=\"center\">1.35</td></tr> \n",
      "\n",
      "<tr><td align=\"center\"><nobr>8</nobr></td><td align=\"center\"><nobr>Real Salt Lake</nobr></td><td align=\"center\"><nobr>34</nobr></td><td align=\"center\">13</td><td align=\"center\">15</td><td align=\"center\"><nobr>6</nobr></td><td align=\"center\">49</td><td align=\"center\">55</td><td align=\"center\">-6</td><td align=\"center\">546</td><td align=\"center\">16.06</td><td align=\"center\">422</td><td align=\"center\">12.41</td><td align=\"center\">0.564</td><td align=\"center\">915</td><td align=\"center\">0.524</td><td align=\"center\">45</td><td align=\"center\">1.32</td></tr> \n",
      "\n",
      "<tr><td align=\"center\"><nobr>9</nobr></td><td align=\"center\"><nobr>Minnesota United FC</nobr></td><td align=\"center\"><nobr>34</nobr></td><td align=\"center\">10</td><td align=\"center\">18</td><td align=\"center\"><nobr>6</nobr></td><td align=\"center\">47</td><td align=\"center\">70</td><td align=\"center\">-23</td><td align=\"center\">338</td><td align=\"center\">9.94</td><td align=\"center\">560</td><td align=\"center\">16.47</td><td align=\"center\">0.376</td><td align=\"center\">1012</td><td align=\"center\">0.506</td><td align=\"center\">36</td><td align=\"center\">1.06</td></tr> \n",
      "\n",
      "<tr><td align=\"center\"><nobr>10</nobr></td><td align=\"center\"><nobr>Colorado Rapids</nobr></td><td align=\"center\"><nobr>34</nobr></td><td align=\"center\">9</td><td align=\"center\">19</td><td align=\"center\"><nobr>6</nobr></td><td align=\"center\">31</td><td align=\"center\">51</td><td align=\"center\">-20</td><td align=\"center\">327</td><td align=\"center\">9.62</td><td align=\"center\">491</td><td align=\"center\">14.44</td><td align=\"center\">0.4</td><td align=\"center\">985</td><td align=\"center\">0.429</td><td align=\"center\">33</td><td align=\"center\">0.97</td></tr> \n",
      "\n",
      "<tr><td align=\"center\"><nobr>11</nobr></td><td align=\"center\"><nobr>LA Galaxy</nobr></td><td align=\"center\"><nobr>34</nobr></td><td align=\"center\">8</td><td align=\"center\">18</td><td align=\"center\"><nobr>8</nobr></td><td align=\"center\">45</td><td align=\"center\">67</td><td align=\"center\">-22</td><td align=\"center\">400</td><td align=\"center\">11.76</td><td align=\"center\">504</td><td align=\"center\">14.82</td><td align=\"center\">0.442</td><td align=\"center\">961</td><td align=\"center\">0.488</td><td align=\"center\">32</td><td align=\"center\">0.94</td></tr> \n",
      "\n"
     ]
    }
   ],
   "source": [
    "for e in east_table.findAll('tr'):\n",
    "    print(e, '\\n')"
   ]
  },
  {
   "cell_type": "code",
   "execution_count": 30,
   "metadata": {},
   "outputs": [
    {
     "data": {
      "text/plain": [
       "[<th align=\"center\">#</th>,\n",
       " <th align=\"center\">Club</th>,\n",
       " <th align=\"center\">GP</th>,\n",
       " <th align=\"center\">W</th>,\n",
       " <th align=\"center\">L</th>,\n",
       " <th align=\"center\">T</th>,\n",
       " <th align=\"center\">GF</th>,\n",
       " <th align=\"center\">GA</th>,\n",
       " <th align=\"center\">GD</th>,\n",
       " <th align=\"center\">ShtF</th>,\n",
       " <th align=\"center\">AvShtF</th>,\n",
       " <th align=\"center\">ShtA</th>,\n",
       " <th align=\"center\">AvShtA</th>,\n",
       " <th align=\"center\">TSR</th>,\n",
       " <th align=\"center\">PDO</th>,\n",
       " <th align=\"center\">Poss</th>,\n",
       " <th align=\"center\">PTS</th>,\n",
       " <th align=\"center\">PPG</th>,\n",
       " <th align=\"center\">#</th>,\n",
       " <th align=\"center\">Club</th>,\n",
       " <th align=\"center\">GP</th>,\n",
       " <th align=\"center\">W</th>,\n",
       " <th align=\"center\">L</th>,\n",
       " <th align=\"center\">T</th>,\n",
       " <th align=\"center\">GF</th>,\n",
       " <th align=\"center\">GA</th>,\n",
       " <th align=\"center\">GD</th>,\n",
       " <th align=\"center\">ShtF</th>,\n",
       " <th align=\"center\">AvShtF</th>,\n",
       " <th align=\"center\">ShtA</th>,\n",
       " <th align=\"center\">AvShtA</th>,\n",
       " <th align=\"center\">TSR</th>,\n",
       " <th align=\"center\">PDO</th>,\n",
       " <th align=\"center\">Poss</th>,\n",
       " <th align=\"center\">PTS</th>,\n",
       " <th align=\"center\">PPG</th>]"
      ]
     },
     "execution_count": 30,
     "metadata": {},
     "output_type": "execute_result"
    }
   ],
   "source": [
    "header = east_table.findAll('th')\n",
    "header"
   ]
  },
  {
   "cell_type": "code",
   "execution_count": null,
   "metadata": {
    "collapsed": true
   },
   "outputs": [],
   "source": []
  }
 ],
 "metadata": {
  "kernelspec": {
   "display_name": "Python 3",
   "language": "python",
   "name": "python3"
  },
  "language_info": {
   "codemirror_mode": {
    "name": "ipython",
    "version": 3
   },
   "file_extension": ".py",
   "mimetype": "text/x-python",
   "name": "python",
   "nbconvert_exporter": "python",
   "pygments_lexer": "ipython3",
   "version": "3.6.3"
  }
 },
 "nbformat": 4,
 "nbformat_minor": 2
}
