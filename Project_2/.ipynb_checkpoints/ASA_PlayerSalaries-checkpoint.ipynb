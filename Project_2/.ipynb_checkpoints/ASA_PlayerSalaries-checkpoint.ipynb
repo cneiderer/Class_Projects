{
 "cells": [
  {
   "cell_type": "markdown",
   "metadata": {},
   "source": [
    "## Scraping MLS Player Salaries"
   ]
  },
  {
   "cell_type": "markdown",
   "metadata": {},
   "source": [
    "Scraping www.americansocceranalysis.com for player salaries"
   ]
  },
  {
   "cell_type": "markdown",
   "metadata": {},
   "source": [
    "### Import Necessary Modules"
   ]
  },
  {
   "cell_type": "code",
   "execution_count": 1,
   "metadata": {},
   "outputs": [],
   "source": [
    "import requests\n",
    "from bs4 import BeautifulSoup\n",
    "import pandas as pd\n",
    "import numpy as np\n",
    "from datetime import datetime \n",
    "from dateutil import parser\n",
    "import os\n",
    "import time"
   ]
  },
  {
   "cell_type": "markdown",
   "metadata": {},
   "source": [
    "### Extract Salary Data"
   ]
  },
  {
   "cell_type": "markdown",
   "metadata": {},
   "source": [
    "#### Define Salary Scraper and Helpers"
   ]
  },
  {
   "cell_type": "code",
   "execution_count": 23,
   "metadata": {
    "code_folding": []
   },
   "outputs": [],
   "source": [
    "def send_request(url, attempts=3):\n",
    "\n",
    "    cnt = 0\n",
    "    while cnt <= attempts:\n",
    "        cnt += 1        \n",
    "        # Send Request\n",
    "        response = requests.get(url)\n",
    "        # Check Status\n",
    "        print(response.url, '\\n', response.status_code, response.reason)\n",
    "        if (response.status_code >= 200) and (response.status_code < 300):           \n",
    "            return response\n",
    "        # If bad status, pause before trying again\n",
    "        print('Pause, then retry')\n",
    "        time.sleep(15)\n",
    "    return None"
   ]
  },
  {
   "cell_type": "code",
   "execution_count": 15,
   "metadata": {
    "code_folding": [
     0
    ],
    "collapsed": true
   },
   "outputs": [],
   "source": [
    "def find_salary_table(soup):\n",
    "    \n",
    "    # Find all tables on page \n",
    "    tables = soup.findAll('table')\n",
    "    table_headers = {}\n",
    "    for t_num, t in enumerate(tables):\n",
    "\n",
    "        # Extract headers from all table\n",
    "        headers = t.findAll('th')\n",
    "        table_header = []\n",
    "        for h in headers:\n",
    "            table_header.append(h.text)\n",
    "\n",
    "        # Compile table headers into dictionary    \n",
    "        table_headers[t_num] = (table_header)\n",
    "\n",
    "        # Find salary table based on header\n",
    "        tmp_header = set(table_header)\n",
    "        of_interest = ['Last Name', 'First Name', 'Last', 'First']\n",
    "        if bool(tmp_header.intersection(set(of_interest))) == True:\n",
    "            salary_table = t   \n",
    "            \n",
    "    return salary_table            "
   ]
  },
  {
   "cell_type": "code",
   "execution_count": 31,
   "metadata": {
    "code_folding": [
     0
    ],
    "collapsed": true
   },
   "outputs": [],
   "source": [
    "def extract_salary_data(salary_table):\n",
    "    \n",
    "    # Extract salary data\n",
    "    salary_header = []\n",
    "    salary_data = []\n",
    "    for row in salary_table.findAll('tr'):\n",
    "        row_data = []\n",
    "\n",
    "        # Get row type and check if header or data row\n",
    "        row_type = row.findChild().name\n",
    "        if row_type == 'th':\n",
    "            # Extract header\n",
    "            for h in salary_table.findAll('th'):\n",
    "                salary_header.append(h.text) \n",
    "        else:\n",
    "            # Extract data\n",
    "            for data in row.findAll('td'):\n",
    "                row_data.append(data.text)\n",
    "            salary_data.append(row_data)    \n",
    "            \n",
    "    # Compile salary dataframe\n",
    "    salary_df = pd.DataFrame(salary_data, columns=salary_header)\n",
    "    \n",
    "    # Strip any whitespace from column names\n",
    "    salary_df.columns = salary_df.columns.str.strip()\n",
    "    \n",
    "    # Rename last name and first name columns\n",
    "    if any(salary_df.columns == 'Last'):\n",
    "        salary_df.rename(columns={'Last': 'Last Name'}, inplace=True)\n",
    "    if any(salary_df.columns == 'First'):\n",
    "        salary_df.rename(columns={'First': 'First Name'}, inplace=True)\n",
    "    if any(salary_df.columns == 'Total Compensation'):\n",
    "        salary_df.rename(columns={'Total Compensation': 'Guaranteed Compensation'}, inplace=True)\n",
    "    # Drop rank column if it exists\n",
    "    if any(salary_df.columns == '#'):\n",
    "        salary_df = salary_df.drop('#', axis=1)\n",
    "        \n",
    "    return salary_df"
   ]
  },
  {
   "cell_type": "code",
   "execution_count": 17,
   "metadata": {
    "code_folding": [
     0
    ]
   },
   "outputs": [],
   "source": [
    "def scrape_salary_data(salary_url, salary_date):\n",
    "    \n",
    "    response = send_request(salary_url)\n",
    "    if response is None:\n",
    "        return None\n",
    "    \n",
    "    # Parse HTML\n",
    "    soup = BeautifulSoup(response.text,'lxml')\n",
    "    \n",
    "    salary_table = find_salary_table(soup)\n",
    "    \n",
    "    salary_df = extract_salary_data(salary_table)\n",
    "    \n",
    "    # Add year column\n",
    "    salary_df['Date'] = np.repeat(salary_date, len(salary_df))\n",
    "    \n",
    "    return salary_df"
   ]
  },
  {
   "cell_type": "markdown",
   "metadata": {},
   "source": [
    "#### Send Request, Check Response, Parse HTML"
   ]
  },
  {
   "cell_type": "code",
   "execution_count": 6,
   "metadata": {
    "collapsed": true
   },
   "outputs": [],
   "source": [
    "base_url = 'http://www.americansocceranalysis.com/'\n",
    "response = requests.get(base_url)"
   ]
  },
  {
   "cell_type": "code",
   "execution_count": 7,
   "metadata": {},
   "outputs": [
    {
     "data": {
      "text/plain": [
       "(200, 'http://www.americansocceranalysis.com/')"
      ]
     },
     "execution_count": 7,
     "metadata": {},
     "output_type": "execute_result"
    }
   ],
   "source": [
    "response.status_code, response.url"
   ]
  },
  {
   "cell_type": "code",
   "execution_count": 8,
   "metadata": {
    "collapsed": true
   },
   "outputs": [],
   "source": [
    "soup = BeautifulSoup(response.text,'lxml')"
   ]
  },
  {
   "cell_type": "markdown",
   "metadata": {
    "heading_collapsed": true
   },
   "source": [
    "#### Find Salaries Menu"
   ]
  },
  {
   "cell_type": "code",
   "execution_count": 9,
   "metadata": {
    "collapsed": true,
    "hidden": true
   },
   "outputs": [],
   "source": [
    "popups = soup.findAll('a', {'aria-haspopup': 'true'})"
   ]
  },
  {
   "cell_type": "code",
   "execution_count": 10,
   "metadata": {
    "collapsed": true,
    "hidden": true
   },
   "outputs": [],
   "source": [
    "for p in popups:\n",
    "    if p.findChild().text == 'MLS Player Salaries':\n",
    "        salary_folder = p.findParent()"
   ]
  },
  {
   "cell_type": "code",
   "execution_count": 11,
   "metadata": {
    "collapsed": true,
    "hidden": true
   },
   "outputs": [],
   "source": [
    "years = salary_folder.findAll('a', href=True)\n",
    "salary_urls = []\n",
    "salary_dates = []\n",
    "for y in years:\n",
    "    salary_urls.append(os.path.join(base_url, y['href'][1:]))\n",
    "    salary_dates.append(parser.parse(y['title']).date())"
   ]
  },
  {
   "cell_type": "markdown",
   "metadata": {},
   "source": [
    "#### Scrape Salary Data"
   ]
  },
  {
   "cell_type": "code",
   "execution_count": 33,
   "metadata": {},
   "outputs": [
    {
     "name": "stdout",
     "output_type": "stream",
     "text": [
      "http://www.americansocceranalysis.com/september-15-2017/ \n",
      " 200 OK\n",
      "2018-01-25 09:09:16.636923\n",
      "http://www.americansocceranalysis.com/april-15-2017/ \n",
      " 200 OK\n",
      "2018-01-25 09:09:35.188963\n",
      "http://www.americansocceranalysis.com/september-15-2016/ \n",
      " 200 OK\n",
      "2018-01-25 09:09:53.555323\n",
      "http://www.americansocceranalysis.com/may-15-2016/ \n",
      " 200 OK\n",
      "2018-01-25 09:10:13.348774\n",
      "http://www.americansocceranalysis.com/september-15-2015/ \n",
      " 200 OK\n",
      "2018-01-25 09:10:27.890607\n",
      "http://www.americansocceranalysis.com/mls-player-salaries/ \n",
      " 200 OK\n",
      "2018-01-25 09:10:41.112321\n",
      "http://www.americansocceranalysis.com/september-15-2014/ \n",
      " 200 OK\n",
      "2018-01-25 09:10:59.964325\n",
      "http://www.americansocceranalysis.com/april-1-2014/ \n",
      " 200 OK\n",
      "2018-01-25 09:11:18.289470\n",
      "http://www.americansocceranalysis.com/september-15-2013/ \n",
      " 200 OK\n",
      "2018-01-25 09:11:33.428716\n",
      "http://www.americansocceranalysis.com/new-page-2/ \n",
      " 200 OK\n",
      "2018-01-25 09:11:50.949511\n",
      "http://www.americansocceranalysis.com/may-1-2013/ \n",
      " 200 OK\n",
      "2018-01-25 09:12:09.688548\n",
      "http://www.americansocceranalysis.com/october-1-2012/ \n",
      " 200 OK\n",
      "2018-01-25 09:12:23.767643\n",
      "http://www.americansocceranalysis.com/august-1-2012/ \n",
      " 200 OK\n",
      "2018-01-25 09:12:37.024923\n",
      "http://www.americansocceranalysis.com/may-15-2012/ \n",
      " 200 OK\n",
      "2018-01-25 09:12:49.701297\n",
      "http://www.americansocceranalysis.com/november-1-2011/ \n",
      " 200 OK\n",
      "2018-01-25 09:13:01.816151\n",
      "http://www.americansocceranalysis.com/august-12-2010/ \n",
      " 200 OK\n",
      "2018-01-25 09:13:20.555632\n",
      "http://www.americansocceranalysis.com/september-15-2009/ \n",
      " 200 OK\n",
      "2018-01-25 09:13:34.346108\n",
      "http://www.americansocceranalysis.com/october-7-2008/ \n",
      " 200 OK\n",
      "2018-01-25 09:13:44.890359\n",
      "http://www.americansocceranalysis.com/august-31-2007/ \n",
      " 200 OK\n",
      "2018-01-25 09:13:56.281558\n"
     ]
    }
   ],
   "source": [
    "# Scrape \n",
    "df = pd.DataFrame()\n",
    "for url, dt in zip(salary_urls, salary_dates):\n",
    "    salary_df = scrape_salary_data(url, dt)\n",
    "    if salary_df is None:\n",
    "        continue            \n",
    "    df = pd.concat([df, salary_df], axis=0)\n",
    "    # Pause to prevent 429 status \n",
    "    # Note: Need to explore \"backoff\" package\n",
    "    print(datetime.now())\n",
    "    time.sleep(np.random.uniform(10, 20)) \n",
    "# Reset index inplace to remove duplicates \n",
    "# created during concatentaiton    \n",
    "df.reset_index(inplace=True, drop=True)    "
   ]
  },
  {
   "cell_type": "markdown",
   "metadata": {},
   "source": [
    "#### Inpect Data"
   ]
  },
  {
   "cell_type": "code",
   "execution_count": 34,
   "metadata": {
    "scrolled": false
   },
   "outputs": [
    {
     "name": "stdout",
     "output_type": "stream",
     "text": [
      "<class 'pandas.core.frame.DataFrame'>\n",
      "RangeIndex: 10130 entries, 0 to 10129\n",
      "Data columns (total 7 columns):\n",
      "Club                       10130 non-null object\n",
      "Last Name                  10130 non-null object\n",
      "First Name                 10130 non-null object\n",
      "Pos                        10130 non-null object\n",
      "Base Salary                10130 non-null object\n",
      "Guaranteed Compensation    10130 non-null object\n",
      "Date                       10130 non-null object\n",
      "dtypes: object(7)\n",
      "memory usage: 554.1+ KB\n"
     ]
    }
   ],
   "source": [
    "df.info()"
   ]
  },
  {
   "cell_type": "code",
   "execution_count": 35,
   "metadata": {
    "scrolled": true
   },
   "outputs": [
    {
     "data": {
      "text/html": [
       "<div>\n",
       "<style>\n",
       "    .dataframe thead tr:only-child th {\n",
       "        text-align: right;\n",
       "    }\n",
       "\n",
       "    .dataframe thead th {\n",
       "        text-align: left;\n",
       "    }\n",
       "\n",
       "    .dataframe tbody tr th {\n",
       "        vertical-align: top;\n",
       "    }\n",
       "</style>\n",
       "<table border=\"1\" class=\"dataframe\">\n",
       "  <thead>\n",
       "    <tr style=\"text-align: right;\">\n",
       "      <th></th>\n",
       "      <th>Club</th>\n",
       "      <th>Last Name</th>\n",
       "      <th>First Name</th>\n",
       "      <th>Pos</th>\n",
       "      <th>Base Salary</th>\n",
       "      <th>Guaranteed Compensation</th>\n",
       "      <th>Date</th>\n",
       "    </tr>\n",
       "  </thead>\n",
       "  <tbody>\n",
       "    <tr>\n",
       "      <th>0</th>\n",
       "      <td>ORL</td>\n",
       "      <td>Kaka</td>\n",
       "      <td></td>\n",
       "      <td>M</td>\n",
       "      <td>$6,660,000.00</td>\n",
       "      <td>$7,167,500.00</td>\n",
       "      <td>2017-09-15</td>\n",
       "    </tr>\n",
       "    <tr>\n",
       "      <th>1</th>\n",
       "      <td>TOR</td>\n",
       "      <td>Giovinco</td>\n",
       "      <td>Sebastian</td>\n",
       "      <td>F</td>\n",
       "      <td>$5,600,000.00</td>\n",
       "      <td>$7,115,555.67</td>\n",
       "      <td>2017-09-15</td>\n",
       "    </tr>\n",
       "    <tr>\n",
       "      <th>2</th>\n",
       "      <td>TOR</td>\n",
       "      <td>Bradley</td>\n",
       "      <td>Michael</td>\n",
       "      <td>M</td>\n",
       "      <td>$6,000,000.00</td>\n",
       "      <td>$6,500,000.00</td>\n",
       "      <td>2017-09-15</td>\n",
       "    </tr>\n",
       "    <tr>\n",
       "      <th>3</th>\n",
       "      <td>NYCFC</td>\n",
       "      <td>Pirlo</td>\n",
       "      <td>Andrea</td>\n",
       "      <td>M</td>\n",
       "      <td>$5,600,000.00</td>\n",
       "      <td>$5,915,690.00</td>\n",
       "      <td>2017-09-15</td>\n",
       "    </tr>\n",
       "    <tr>\n",
       "      <th>4</th>\n",
       "      <td>NYCFC</td>\n",
       "      <td>Villa</td>\n",
       "      <td>David</td>\n",
       "      <td>F</td>\n",
       "      <td>$5,610,000.00</td>\n",
       "      <td>$5,610,000.00</td>\n",
       "      <td>2017-09-15</td>\n",
       "    </tr>\n",
       "    <tr>\n",
       "      <th>5</th>\n",
       "      <td>LA</td>\n",
       "      <td>Dos Santos</td>\n",
       "      <td>Giovani</td>\n",
       "      <td>F</td>\n",
       "      <td>$3,750,000.00</td>\n",
       "      <td>$5,500,000.00</td>\n",
       "      <td>2017-09-15</td>\n",
       "    </tr>\n",
       "    <tr>\n",
       "      <th>6</th>\n",
       "      <td>CHI</td>\n",
       "      <td>Schweinsteiger</td>\n",
       "      <td>Bastian</td>\n",
       "      <td>M</td>\n",
       "      <td>$5,400,000.00</td>\n",
       "      <td>$5,400,000.00</td>\n",
       "      <td>2017-09-15</td>\n",
       "    </tr>\n",
       "    <tr>\n",
       "      <th>7</th>\n",
       "      <td>TOR</td>\n",
       "      <td>Altidore</td>\n",
       "      <td>Jozy</td>\n",
       "      <td>F</td>\n",
       "      <td>$4,875,000.00</td>\n",
       "      <td>$4,875,000.00</td>\n",
       "      <td>2017-09-15</td>\n",
       "    </tr>\n",
       "    <tr>\n",
       "      <th>8</th>\n",
       "      <td>SEA</td>\n",
       "      <td>Dempsey</td>\n",
       "      <td>Clint</td>\n",
       "      <td>F</td>\n",
       "      <td>$3,200,000.00</td>\n",
       "      <td>$3,892,933.50</td>\n",
       "      <td>2017-09-15</td>\n",
       "    </tr>\n",
       "    <tr>\n",
       "      <th>9</th>\n",
       "      <td>POR</td>\n",
       "      <td>Valeri</td>\n",
       "      <td>Diego</td>\n",
       "      <td>M</td>\n",
       "      <td>$2,227,500.00</td>\n",
       "      <td>$2,607,500.00</td>\n",
       "      <td>2017-09-15</td>\n",
       "    </tr>\n",
       "    <tr>\n",
       "      <th>10</th>\n",
       "      <td>COL</td>\n",
       "      <td>Howard</td>\n",
       "      <td>Tim</td>\n",
       "      <td>GK</td>\n",
       "      <td>$2,000,000.00</td>\n",
       "      <td>$2,475,000.00</td>\n",
       "      <td>2017-09-15</td>\n",
       "    </tr>\n",
       "    <tr>\n",
       "      <th>11</th>\n",
       "      <td>ATL</td>\n",
       "      <td>Almiron</td>\n",
       "      <td>Miguel</td>\n",
       "      <td>M</td>\n",
       "      <td>$1,912,500.00</td>\n",
       "      <td>$2,297,000.00</td>\n",
       "      <td>2017-09-15</td>\n",
       "    </tr>\n",
       "    <tr>\n",
       "      <th>12</th>\n",
       "      <td>LA</td>\n",
       "      <td>Dos Santos</td>\n",
       "      <td>Jonathan</td>\n",
       "      <td>M</td>\n",
       "      <td>$2,000,000.04</td>\n",
       "      <td>$2,000,000.04</td>\n",
       "      <td>2017-09-15</td>\n",
       "    </tr>\n",
       "    <tr>\n",
       "      <th>13</th>\n",
       "      <td>NYCFC</td>\n",
       "      <td>Moralez</td>\n",
       "      <td>Maximiliano</td>\n",
       "      <td>M</td>\n",
       "      <td>$2,000,000.04</td>\n",
       "      <td>$2,000,000.04</td>\n",
       "      <td>2017-09-15</td>\n",
       "    </tr>\n",
       "    <tr>\n",
       "      <th>14</th>\n",
       "      <td>LA</td>\n",
       "      <td>Alessandrini</td>\n",
       "      <td>Romain</td>\n",
       "      <td>M</td>\n",
       "      <td>$1,669,400.64</td>\n",
       "      <td>$1,999,400.64</td>\n",
       "      <td>2017-09-15</td>\n",
       "    </tr>\n",
       "    <tr>\n",
       "      <th>15</th>\n",
       "      <td>RSL</td>\n",
       "      <td>Movsisyan</td>\n",
       "      <td>Yura</td>\n",
       "      <td>F</td>\n",
       "      <td>$1,750,000.00</td>\n",
       "      <td>$1,973,750.00</td>\n",
       "      <td>2017-09-15</td>\n",
       "    </tr>\n",
       "    <tr>\n",
       "      <th>16</th>\n",
       "      <td>CHI</td>\n",
       "      <td>Nikolic</td>\n",
       "      <td>Nemanja</td>\n",
       "      <td>F</td>\n",
       "      <td>$1,700,000.04</td>\n",
       "      <td>$1,906,333.37</td>\n",
       "      <td>2017-09-15</td>\n",
       "    </tr>\n",
       "    <tr>\n",
       "      <th>17</th>\n",
       "      <td>VAN</td>\n",
       "      <td>Montero</td>\n",
       "      <td>Fredy</td>\n",
       "      <td>F</td>\n",
       "      <td>$1,400,000.04</td>\n",
       "      <td>$1,800,000.04</td>\n",
       "      <td>2017-09-15</td>\n",
       "    </tr>\n",
       "    <tr>\n",
       "      <th>18</th>\n",
       "      <td>SEA</td>\n",
       "      <td>Lodeiro</td>\n",
       "      <td>Nicolas</td>\n",
       "      <td>M</td>\n",
       "      <td>$1,371,428.57</td>\n",
       "      <td>$1,743,428.57</td>\n",
       "      <td>2017-09-15</td>\n",
       "    </tr>\n",
       "    <tr>\n",
       "      <th>19</th>\n",
       "      <td>POR</td>\n",
       "      <td>Adi</td>\n",
       "      <td>Fanendo</td>\n",
       "      <td>F</td>\n",
       "      <td>$1,190,004.00</td>\n",
       "      <td>$1,736,254.00</td>\n",
       "      <td>2017-09-15</td>\n",
       "    </tr>\n",
       "  </tbody>\n",
       "</table>\n",
       "</div>"
      ],
      "text/plain": [
       "     Club       Last Name   First Name Pos    Base Salary  \\\n",
       "0     ORL            Kaka                M  $6,660,000.00   \n",
       "1     TOR        Giovinco    Sebastian   F  $5,600,000.00   \n",
       "2     TOR         Bradley      Michael   M  $6,000,000.00   \n",
       "3   NYCFC           Pirlo       Andrea   M  $5,600,000.00   \n",
       "4   NYCFC           Villa        David   F  $5,610,000.00   \n",
       "5      LA      Dos Santos      Giovani   F  $3,750,000.00   \n",
       "6     CHI  Schweinsteiger      Bastian   M  $5,400,000.00   \n",
       "7     TOR        Altidore         Jozy   F  $4,875,000.00   \n",
       "8     SEA         Dempsey        Clint   F  $3,200,000.00   \n",
       "9     POR          Valeri        Diego   M  $2,227,500.00   \n",
       "10    COL          Howard          Tim  GK  $2,000,000.00   \n",
       "11    ATL         Almiron       Miguel   M  $1,912,500.00   \n",
       "12     LA      Dos Santos     Jonathan   M  $2,000,000.04   \n",
       "13  NYCFC         Moralez  Maximiliano   M  $2,000,000.04   \n",
       "14     LA    Alessandrini       Romain   M  $1,669,400.64   \n",
       "15    RSL       Movsisyan         Yura   F  $1,750,000.00   \n",
       "16    CHI         Nikolic      Nemanja   F  $1,700,000.04   \n",
       "17    VAN         Montero        Fredy   F  $1,400,000.04   \n",
       "18    SEA         Lodeiro      Nicolas   M  $1,371,428.57   \n",
       "19    POR             Adi      Fanendo   F  $1,190,004.00   \n",
       "\n",
       "   Guaranteed Compensation        Date  \n",
       "0            $7,167,500.00  2017-09-15  \n",
       "1            $7,115,555.67  2017-09-15  \n",
       "2            $6,500,000.00  2017-09-15  \n",
       "3            $5,915,690.00  2017-09-15  \n",
       "4            $5,610,000.00  2017-09-15  \n",
       "5            $5,500,000.00  2017-09-15  \n",
       "6            $5,400,000.00  2017-09-15  \n",
       "7            $4,875,000.00  2017-09-15  \n",
       "8            $3,892,933.50  2017-09-15  \n",
       "9            $2,607,500.00  2017-09-15  \n",
       "10           $2,475,000.00  2017-09-15  \n",
       "11           $2,297,000.00  2017-09-15  \n",
       "12           $2,000,000.04  2017-09-15  \n",
       "13           $2,000,000.04  2017-09-15  \n",
       "14           $1,999,400.64  2017-09-15  \n",
       "15           $1,973,750.00  2017-09-15  \n",
       "16           $1,906,333.37  2017-09-15  \n",
       "17           $1,800,000.04  2017-09-15  \n",
       "18           $1,743,428.57  2017-09-15  \n",
       "19           $1,736,254.00  2017-09-15  "
      ]
     },
     "execution_count": 35,
     "metadata": {},
     "output_type": "execute_result"
    }
   ],
   "source": [
    "df.head(20)"
   ]
  },
  {
   "cell_type": "markdown",
   "metadata": {},
   "source": [
    "### Sandbox"
   ]
  },
  {
   "cell_type": "code",
   "execution_count": null,
   "metadata": {
    "collapsed": true
   },
   "outputs": [],
   "source": []
  }
 ],
 "metadata": {
  "kernelspec": {
   "display_name": "Python 3",
   "language": "python",
   "name": "python3"
  },
  "language_info": {
   "codemirror_mode": {
    "name": "ipython",
    "version": 3
   },
   "file_extension": ".py",
   "mimetype": "text/x-python",
   "name": "python",
   "nbconvert_exporter": "python",
   "pygments_lexer": "ipython3",
   "version": "3.6.3"
  }
 },
 "nbformat": 4,
 "nbformat_minor": 2
}
