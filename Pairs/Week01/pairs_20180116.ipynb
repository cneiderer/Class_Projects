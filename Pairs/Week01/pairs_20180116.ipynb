{
 "cells": [
  {
   "cell_type": "code",
   "execution_count": 10,
   "metadata": {
    "collapsed": true
   },
   "outputs": [],
   "source": [
    "import itertools\n",
    "import numpy as np"
   ]
  },
  {
   "cell_type": "code",
   "execution_count": 11,
   "metadata": {},
   "outputs": [],
   "source": [
    "names = [\"Hector Hernandez\",\n",
    "\"Curtis Neiderer\",\n",
    "\"Natalia Bernardo\",\n",
    "\"Jared Booth\",\n",
    "\"Brian McMahon\",\n",
    "\"Emily Geller\",\n",
    "\"Alando Ballantyne\",\n",
    "\"Natalia Zakharova\",\n",
    "\"Pinky Johar\",\n",
    "\"Jennifer Phan\",\n",
    "\"Man Liang\",\n",
    "\"Jay Coskey\",\n",
    "\"Kaitlin Puryear\"]"
   ]
  },
  {
   "cell_type": "code",
   "execution_count": 4,
   "metadata": {},
   "outputs": [
    {
     "data": {
      "text/plain": [
       "58"
      ]
     },
     "execution_count": 4,
     "metadata": {},
     "output_type": "execute_result"
    }
   ],
   "source": [
    "# num wks * business days per wk - num holidays\n",
    "num_days = 12 * 5 - 2\n",
    "num_days"
   ]
  },
  {
   "cell_type": "code",
   "execution_count": 56,
   "metadata": {
    "scrolled": true
   },
   "outputs": [
    {
     "data": {
      "text/plain": [
       "array([['Hector Hernandez', 'Curtis Neiderer'],\n",
       "       ['Hector Hernandez', 'Natalia Bernardo'],\n",
       "       ['Hector Hernandez', 'Jared Booth'],\n",
       "       ['Hector Hernandez', 'Brian McMahon'],\n",
       "       ['Hector Hernandez', 'Emily Geller'],\n",
       "       ['Hector Hernandez', 'Alando Ballantyne'],\n",
       "       ['Hector Hernandez', 'Natalia Zakharova'],\n",
       "       ['Hector Hernandez', 'Pinky Johar'],\n",
       "       ['Hector Hernandez', 'Jennifer Phan'],\n",
       "       ['Hector Hernandez', 'Man Liang'],\n",
       "       ['Hector Hernandez', 'Jay Coskey'],\n",
       "       ['Hector Hernandez', 'Kaitlin Puryear'],\n",
       "       ['Curtis Neiderer', 'Natalia Bernardo'],\n",
       "       ['Curtis Neiderer', 'Jared Booth'],\n",
       "       ['Curtis Neiderer', 'Brian McMahon'],\n",
       "       ['Curtis Neiderer', 'Emily Geller'],\n",
       "       ['Curtis Neiderer', 'Alando Ballantyne'],\n",
       "       ['Curtis Neiderer', 'Natalia Zakharova'],\n",
       "       ['Curtis Neiderer', 'Pinky Johar'],\n",
       "       ['Curtis Neiderer', 'Jennifer Phan'],\n",
       "       ['Curtis Neiderer', 'Man Liang'],\n",
       "       ['Curtis Neiderer', 'Jay Coskey'],\n",
       "       ['Curtis Neiderer', 'Kaitlin Puryear'],\n",
       "       ['Natalia Bernardo', 'Jared Booth'],\n",
       "       ['Natalia Bernardo', 'Brian McMahon'],\n",
       "       ['Natalia Bernardo', 'Emily Geller'],\n",
       "       ['Natalia Bernardo', 'Alando Ballantyne'],\n",
       "       ['Natalia Bernardo', 'Natalia Zakharova'],\n",
       "       ['Natalia Bernardo', 'Pinky Johar'],\n",
       "       ['Natalia Bernardo', 'Jennifer Phan'],\n",
       "       ['Natalia Bernardo', 'Man Liang'],\n",
       "       ['Natalia Bernardo', 'Jay Coskey'],\n",
       "       ['Natalia Bernardo', 'Kaitlin Puryear'],\n",
       "       ['Jared Booth', 'Brian McMahon'],\n",
       "       ['Jared Booth', 'Emily Geller'],\n",
       "       ['Jared Booth', 'Alando Ballantyne'],\n",
       "       ['Jared Booth', 'Natalia Zakharova'],\n",
       "       ['Jared Booth', 'Pinky Johar'],\n",
       "       ['Jared Booth', 'Jennifer Phan'],\n",
       "       ['Jared Booth', 'Man Liang'],\n",
       "       ['Jared Booth', 'Jay Coskey'],\n",
       "       ['Jared Booth', 'Kaitlin Puryear'],\n",
       "       ['Brian McMahon', 'Emily Geller'],\n",
       "       ['Brian McMahon', 'Alando Ballantyne'],\n",
       "       ['Brian McMahon', 'Natalia Zakharova'],\n",
       "       ['Brian McMahon', 'Pinky Johar'],\n",
       "       ['Brian McMahon', 'Jennifer Phan'],\n",
       "       ['Brian McMahon', 'Man Liang'],\n",
       "       ['Brian McMahon', 'Jay Coskey'],\n",
       "       ['Brian McMahon', 'Kaitlin Puryear'],\n",
       "       ['Emily Geller', 'Alando Ballantyne'],\n",
       "       ['Emily Geller', 'Natalia Zakharova'],\n",
       "       ['Emily Geller', 'Pinky Johar'],\n",
       "       ['Emily Geller', 'Jennifer Phan'],\n",
       "       ['Emily Geller', 'Man Liang'],\n",
       "       ['Emily Geller', 'Jay Coskey'],\n",
       "       ['Emily Geller', 'Kaitlin Puryear'],\n",
       "       ['Alando Ballantyne', 'Natalia Zakharova'],\n",
       "       ['Alando Ballantyne', 'Pinky Johar'],\n",
       "       ['Alando Ballantyne', 'Jennifer Phan'],\n",
       "       ['Alando Ballantyne', 'Man Liang'],\n",
       "       ['Alando Ballantyne', 'Jay Coskey'],\n",
       "       ['Alando Ballantyne', 'Kaitlin Puryear'],\n",
       "       ['Natalia Zakharova', 'Pinky Johar'],\n",
       "       ['Natalia Zakharova', 'Jennifer Phan'],\n",
       "       ['Natalia Zakharova', 'Man Liang'],\n",
       "       ['Natalia Zakharova', 'Jay Coskey'],\n",
       "       ['Natalia Zakharova', 'Kaitlin Puryear'],\n",
       "       ['Pinky Johar', 'Jennifer Phan'],\n",
       "       ['Pinky Johar', 'Man Liang'],\n",
       "       ['Pinky Johar', 'Jay Coskey'],\n",
       "       ['Pinky Johar', 'Kaitlin Puryear'],\n",
       "       ['Jennifer Phan', 'Man Liang'],\n",
       "       ['Jennifer Phan', 'Jay Coskey'],\n",
       "       ['Jennifer Phan', 'Kaitlin Puryear'],\n",
       "       ['Man Liang', 'Jay Coskey'],\n",
       "       ['Man Liang', 'Kaitlin Puryear'],\n",
       "       ['Jay Coskey', 'Kaitlin Puryear']],\n",
       "      dtype='<U17')"
      ]
     },
     "execution_count": 56,
     "metadata": {},
     "output_type": "execute_result"
    }
   ],
   "source": [
    "pair_combos = np.array(list(itertools.combinations(names, 2)))\n",
    "pair_combos"
   ]
  },
  {
   "cell_type": "code",
   "execution_count": null,
   "metadata": {
    "collapsed": true
   },
   "outputs": [],
   "source": [
    "day_combos = []\n",
    "for i in range(6)\n",
    "    for pair in pair_combos\n",
    "        "
   ]
  },
  {
   "cell_type": "code",
   "execution_count": null,
   "metadata": {
    "collapsed": true
   },
   "outputs": [],
   "source": []
  },
  {
   "cell_type": "code",
   "execution_count": 86,
   "metadata": {
    "scrolled": true
   },
   "outputs": [],
   "source": [
    "ch = pair_combos[pair_combos[:, 0] == 'Hector Hernandez']"
   ]
  },
  {
   "cell_type": "code",
   "execution_count": 88,
   "metadata": {},
   "outputs": [
    {
     "data": {
      "text/plain": [
       "array([ True,  True], dtype=bool)"
      ]
     },
     "execution_count": 88,
     "metadata": {},
     "output_type": "execute_result"
    }
   ],
   "source": [
    "np.in1d(ch[0], pair_combos[:, 0])"
   ]
  },
  {
   "cell_type": "code",
   "execution_count": 70,
   "metadata": {
    "scrolled": true
   },
   "outputs": [
    {
     "data": {
      "text/plain": [
       "{'Alando Ballantyne': array([['Alando Ballantyne', 'Natalia Zakharova'],\n",
       "        ['Alando Ballantyne', 'Pinky Johar'],\n",
       "        ['Alando Ballantyne', 'Jennifer Phan'],\n",
       "        ['Alando Ballantyne', 'Man Liang'],\n",
       "        ['Alando Ballantyne', 'Jay Coskey'],\n",
       "        ['Alando Ballantyne', 'Kaitlin Puryear']],\n",
       "       dtype='<U17'),\n",
       " 'Brian McMahon': array([['Brian McMahon', 'Emily Geller'],\n",
       "        ['Brian McMahon', 'Alando Ballantyne'],\n",
       "        ['Brian McMahon', 'Natalia Zakharova'],\n",
       "        ['Brian McMahon', 'Pinky Johar'],\n",
       "        ['Brian McMahon', 'Jennifer Phan'],\n",
       "        ['Brian McMahon', 'Man Liang'],\n",
       "        ['Brian McMahon', 'Jay Coskey'],\n",
       "        ['Brian McMahon', 'Kaitlin Puryear']],\n",
       "       dtype='<U17'),\n",
       " 'Curtis Neiderer': array([['Curtis Neiderer', 'Natalia Bernardo'],\n",
       "        ['Curtis Neiderer', 'Jared Booth'],\n",
       "        ['Curtis Neiderer', 'Brian McMahon'],\n",
       "        ['Curtis Neiderer', 'Emily Geller'],\n",
       "        ['Curtis Neiderer', 'Alando Ballantyne'],\n",
       "        ['Curtis Neiderer', 'Natalia Zakharova'],\n",
       "        ['Curtis Neiderer', 'Pinky Johar'],\n",
       "        ['Curtis Neiderer', 'Jennifer Phan'],\n",
       "        ['Curtis Neiderer', 'Man Liang'],\n",
       "        ['Curtis Neiderer', 'Jay Coskey'],\n",
       "        ['Curtis Neiderer', 'Kaitlin Puryear']],\n",
       "       dtype='<U17'),\n",
       " 'Emily Geller': array([['Emily Geller', 'Alando Ballantyne'],\n",
       "        ['Emily Geller', 'Natalia Zakharova'],\n",
       "        ['Emily Geller', 'Pinky Johar'],\n",
       "        ['Emily Geller', 'Jennifer Phan'],\n",
       "        ['Emily Geller', 'Man Liang'],\n",
       "        ['Emily Geller', 'Jay Coskey'],\n",
       "        ['Emily Geller', 'Kaitlin Puryear']],\n",
       "       dtype='<U17'),\n",
       " 'Hector Hernandez': array([['Hector Hernandez', 'Curtis Neiderer'],\n",
       "        ['Hector Hernandez', 'Natalia Bernardo'],\n",
       "        ['Hector Hernandez', 'Jared Booth'],\n",
       "        ['Hector Hernandez', 'Brian McMahon'],\n",
       "        ['Hector Hernandez', 'Emily Geller'],\n",
       "        ['Hector Hernandez', 'Alando Ballantyne'],\n",
       "        ['Hector Hernandez', 'Natalia Zakharova'],\n",
       "        ['Hector Hernandez', 'Pinky Johar'],\n",
       "        ['Hector Hernandez', 'Jennifer Phan'],\n",
       "        ['Hector Hernandez', 'Man Liang'],\n",
       "        ['Hector Hernandez', 'Jay Coskey'],\n",
       "        ['Hector Hernandez', 'Kaitlin Puryear']],\n",
       "       dtype='<U17'),\n",
       " 'Jared Booth': array([['Jared Booth', 'Brian McMahon'],\n",
       "        ['Jared Booth', 'Emily Geller'],\n",
       "        ['Jared Booth', 'Alando Ballantyne'],\n",
       "        ['Jared Booth', 'Natalia Zakharova'],\n",
       "        ['Jared Booth', 'Pinky Johar'],\n",
       "        ['Jared Booth', 'Jennifer Phan'],\n",
       "        ['Jared Booth', 'Man Liang'],\n",
       "        ['Jared Booth', 'Jay Coskey'],\n",
       "        ['Jared Booth', 'Kaitlin Puryear']],\n",
       "       dtype='<U17'),\n",
       " 'Jay Coskey': array([['Jay Coskey', 'Kaitlin Puryear']],\n",
       "       dtype='<U17'),\n",
       " 'Jennifer Phan': array([['Jennifer Phan', 'Man Liang'],\n",
       "        ['Jennifer Phan', 'Jay Coskey'],\n",
       "        ['Jennifer Phan', 'Kaitlin Puryear']],\n",
       "       dtype='<U17'),\n",
       " 'Kaitlin Puryear': array([], shape=(0, 2),\n",
       "       dtype='<U17'),\n",
       " 'Man Liang': array([['Man Liang', 'Jay Coskey'],\n",
       "        ['Man Liang', 'Kaitlin Puryear']],\n",
       "       dtype='<U17'),\n",
       " 'Natalia Bernardo': array([['Natalia Bernardo', 'Jared Booth'],\n",
       "        ['Natalia Bernardo', 'Brian McMahon'],\n",
       "        ['Natalia Bernardo', 'Emily Geller'],\n",
       "        ['Natalia Bernardo', 'Alando Ballantyne'],\n",
       "        ['Natalia Bernardo', 'Natalia Zakharova'],\n",
       "        ['Natalia Bernardo', 'Pinky Johar'],\n",
       "        ['Natalia Bernardo', 'Jennifer Phan'],\n",
       "        ['Natalia Bernardo', 'Man Liang'],\n",
       "        ['Natalia Bernardo', 'Jay Coskey'],\n",
       "        ['Natalia Bernardo', 'Kaitlin Puryear']],\n",
       "       dtype='<U17'),\n",
       " 'Natalia Zakharova': array([['Natalia Zakharova', 'Pinky Johar'],\n",
       "        ['Natalia Zakharova', 'Jennifer Phan'],\n",
       "        ['Natalia Zakharova', 'Man Liang'],\n",
       "        ['Natalia Zakharova', 'Jay Coskey'],\n",
       "        ['Natalia Zakharova', 'Kaitlin Puryear']],\n",
       "       dtype='<U17'),\n",
       " 'Pinky Johar': array([['Pinky Johar', 'Jennifer Phan'],\n",
       "        ['Pinky Johar', 'Man Liang'],\n",
       "        ['Pinky Johar', 'Jay Coskey'],\n",
       "        ['Pinky Johar', 'Kaitlin Puryear']],\n",
       "       dtype='<U17')}"
      ]
     },
     "execution_count": 70,
     "metadata": {},
     "output_type": "execute_result"
    }
   ],
   "source": [
    "pair_choices = {}\n",
    "for person in names:\n",
    "    pair_choices[person] = pair_combos[pair_combos[:, 0] == person]\n",
    "pair_choices    "
   ]
  },
  {
   "cell_type": "code",
   "execution_count": 74,
   "metadata": {
    "scrolled": true
   },
   "outputs": [
    {
     "data": {
      "text/plain": [
       "array([['Curtis Neiderer', 'Natalia Bernardo'],\n",
       "       ['Curtis Neiderer', 'Jared Booth'],\n",
       "       ['Curtis Neiderer', 'Brian McMahon'],\n",
       "       ['Curtis Neiderer', 'Emily Geller'],\n",
       "       ['Curtis Neiderer', 'Alando Ballantyne'],\n",
       "       ['Curtis Neiderer', 'Natalia Zakharova'],\n",
       "       ['Curtis Neiderer', 'Pinky Johar'],\n",
       "       ['Curtis Neiderer', 'Jennifer Phan'],\n",
       "       ['Curtis Neiderer', 'Man Liang'],\n",
       "       ['Curtis Neiderer', 'Jay Coskey'],\n",
       "       ['Curtis Neiderer', 'Kaitlin Puryear']],\n",
       "      dtype='<U17')"
      ]
     },
     "execution_count": 74,
     "metadata": {},
     "output_type": "execute_result"
    }
   ],
   "source": [
    "pair_choices['Curtis Neiderer']"
   ]
  },
  {
   "cell_type": "code",
   "execution_count": 76,
   "metadata": {},
   "outputs": [],
   "source": [
    "for day in range(num_days):\n",
    "    for person in pair_choices.keys():\n",
    "        person_choices = pair_choices[person]\n",
    "        if len(person_choices) > 0:\n",
    "            ch = person_choices"
   ]
  },
  {
   "cell_type": "code",
   "execution_count": null,
   "metadata": {
    "collapsed": true
   },
   "outputs": [],
   "source": []
  },
  {
   "cell_type": "code",
   "execution_count": null,
   "metadata": {
    "collapsed": true
   },
   "outputs": [],
   "source": [
    "pairs_dict = {}\n",
    "for day in range(num_days):   \n",
    "    pairs_dict[day+1] = "
   ]
  }
 ],
 "metadata": {
  "kernelspec": {
   "display_name": "Python 3",
   "language": "python",
   "name": "python3"
  },
  "language_info": {
   "codemirror_mode": {
    "name": "ipython",
    "version": 3
   },
   "file_extension": ".py",
   "mimetype": "text/x-python",
   "name": "python",
   "nbconvert_exporter": "python",
   "pygments_lexer": "ipython3",
   "version": "3.6.3"
  }
 },
 "nbformat": 4,
 "nbformat_minor": 2
}
