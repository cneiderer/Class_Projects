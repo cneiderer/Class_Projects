{
 "cells": [
  {
   "cell_type": "markdown",
   "metadata": {},
   "source": [
    "#### Sort, sort, sort!\n",
    "\n",
    "**1) Write a function to sort a given list: def mySort(inputlist)**\n",
    "\n",
    "I'm sure you have heard of many sorting algorithms. But don't worry about the terminologies and efficiencies. And don't google. *Just write a sort function that works.* Then ask what's the complexity of your function?\n",
    "\n",
    "**2) I want to keep my list sorted and do find, insert and delete operations on it. Write the following functions. It's okay if you don't get to complete all these functions. Just think about your approach and what the complexity would be.**\n",
    "\n",
    "    def find(sortedlist,number): # this would return the index of the given number if it is in the list or -1.\n",
    "    def insert(sortedlist,number): # this would insert the number into the list at the right position.\n",
    "    def remove(sortedlist,number): # this would remove the the given number if it is in the list.\n"
   ]
  },
  {
   "cell_type": "code",
   "execution_count": 4,
   "metadata": {
    "collapsed": true
   },
   "outputs": [],
   "source": [
    "import numpy as np"
   ]
  },
  {
   "cell_type": "code",
   "execution_count": 24,
   "metadata": {
    "collapsed": true
   },
   "outputs": [],
   "source": [
    "# Inefficient implementation of BubbleSort\n",
    "# O(n^2)\n",
    "def mySort(randomList):    \n",
    "    n = len(randomList)\n",
    "    for idx in range(n):\n",
    "        for jdx in range(0, n-idx-1):\n",
    "            # Swap if the element found is greater than the next element\n",
    "            if randomList[jdx] > randomList[jdx+1] :\n",
    "                randomList[jdx], randomList[jdx+1] = randomList[jdx+1], randomList[jdx]                \n",
    "    return randomList"
   ]
  },
  {
   "cell_type": "code",
   "execution_count": 55,
   "metadata": {},
   "outputs": [
    {
     "name": "stdout",
     "output_type": "stream",
     "text": [
      "[4, -10, 5, -7, 5, 3, 4, 4, -8, 4, 3, 4, 7, -5, 2, -8, -10, -4, 3, 5, 0, 7, 5, -5, 2]\n"
     ]
    }
   ],
   "source": [
    "randomList = np.random.randint(-10, 10, 25).tolist()\n",
    "print(randomList)"
   ]
  },
  {
   "cell_type": "code",
   "execution_count": 56,
   "metadata": {},
   "outputs": [
    {
     "name": "stdout",
     "output_type": "stream",
     "text": [
      "[-10, -10, -8, -8, -7, -5, -5, -4, 0, 2, 2, 3, 3, 3, 4, 4, 4, 4, 4, 5, 5, 5, 5, 7, 7]\n"
     ]
    }
   ],
   "source": [
    "sortedList = mySort(randomList)\n",
    "print(sortedList)"
   ]
  },
  {
   "cell_type": "code",
   "execution_count": 57,
   "metadata": {
    "collapsed": true
   },
   "outputs": [],
   "source": [
    "# O(n)\n",
    "def find(sortedList, number):\n",
    "    for idx, num in enumerate(sortedList):\n",
    "        if num == number:\n",
    "            return idx\n",
    "    return -1"
   ]
  },
  {
   "cell_type": "code",
   "execution_count": 60,
   "metadata": {},
   "outputs": [
    {
     "name": "stdout",
     "output_type": "stream",
     "text": [
      "[-10, -10, -8, -8, -7, -5, -5, -4, 0, 2, 2, 3, 3, 3, 4, 4, 4, 4, 4, 5, 5, 5, 5, 7, 7]\n",
      "-1\n",
      "0\n",
      "14\n"
     ]
    }
   ],
   "source": [
    "print(sortedList)\n",
    "print(find(sortedList, 1))\n",
    "print(find(sortedList, -10))\n",
    "print(find(sortedList, 4))"
   ]
  },
  {
   "cell_type": "code",
   "execution_count": 59,
   "metadata": {
    "collapsed": true
   },
   "outputs": [],
   "source": [
    "# O(n)\n",
    "def remove(sortedList, number):\n",
    "    updatedList = []\n",
    "    for idx, num in enumerate(sortedList):\n",
    "        if num != number:\n",
    "            updatedList.append(num)\n",
    "    return updatedList"
   ]
  },
  {
   "cell_type": "code",
   "execution_count": 61,
   "metadata": {},
   "outputs": [
    {
     "name": "stdout",
     "output_type": "stream",
     "text": [
      "[-10, -10, -8, -8, -7, -5, -5, -4, 0, 2, 2, 3, 3, 3, 4, 4, 4, 4, 4, 5, 5, 5, 5, 7, 7]\n",
      "[-10, -10, -8, -8, -7, -5, -5, -4, 0, 2, 2, 3, 3, 3, 4, 4, 4, 4, 4, 5, 5, 5, 5, 7, 7]\n",
      "[-8, -8, -7, -5, -5, -4, 0, 2, 2, 3, 3, 3, 4, 4, 4, 4, 4, 5, 5, 5, 5, 7, 7]\n",
      "[-10, -10, -8, -8, -7, -5, -5, -4, 0, 2, 2, 3, 3, 3, 5, 5, 5, 5, 7, 7]\n"
     ]
    }
   ],
   "source": [
    "print(sortedList)\n",
    "print(remove(sortedList, 1))\n",
    "print(remove(sortedList, -10))\n",
    "print(remove(sortedList, 4))"
   ]
  },
  {
   "cell_type": "code",
   "execution_count": 62,
   "metadata": {
    "collapsed": true
   },
   "outputs": [],
   "source": [
    "# O(n)\n",
    "def insert(sortedList, number):\n",
    "    updatedList = []\n",
    "    # Check if less than all existing numbers\n",
    "    if number < sortedList[0]:\n",
    "        updatedList = [number] + sortedList\n",
    "        return updatedList\n",
    "    # Check if greater than all existing numbers\n",
    "    if number > sortedList[-1]:\n",
    "        updatedList = sortedList + [number]\n",
    "        return updatedList\n",
    "    # Figure out which numbers to insert it between\n",
    "    for idx, num in enumerate(sortedList):  \n",
    "        updatedList.append(num)\n",
    "        # Check if current item is less than number and next item is greater than\n",
    "        if (num < number) & (sortedList[idx+1] > number):\n",
    "            updatedList = updatedList + [number] + sortedList[idx+1:]\n",
    "            return updatedList"
   ]
  },
  {
   "cell_type": "code",
   "execution_count": 65,
   "metadata": {},
   "outputs": [
    {
     "name": "stdout",
     "output_type": "stream",
     "text": [
      "[-10, -10, -8, -8, -7, -5, -5, -4, 0, 2, 2, 3, 3, 3, 4, 4, 4, 4, 4, 5, 5, 5, 5, 7, 7]\n",
      "[-25, -10, -10, -8, -8, -7, -5, -5, -4, 0, 2, 2, 3, 3, 3, 4, 4, 4, 4, 4, 5, 5, 5, 5, 7, 7]\n",
      "[-10, -10, -8, -8, -7, -5, -5, -4, 0, 2, 2, 3, 3, 3, 4, 4, 4, 4, 4, 5, 5, 5, 5, 7, 7, 25]\n",
      "[-10, -10, -9, -8, -8, -7, -5, -5, -4, 0, 2, 2, 3, 3, 3, 4, 4, 4, 4, 4, 5, 5, 5, 5, 7, 7]\n",
      "[-10, -10, -8, -8, -7, -5, -5, -4, 0, 2, 2, 3, 3, 3, 4, 4, 4, 4, 4, 5, 5, 5, 5, 6, 7, 7]\n"
     ]
    }
   ],
   "source": [
    "print(sortedList)\n",
    "print(insert(sortedList, -25))\n",
    "print(insert(sortedList, 25))\n",
    "print(insert(sortedList, -9))\n",
    "print(insert(sortedList, 6))"
   ]
  },
  {
   "cell_type": "code",
   "execution_count": null,
   "metadata": {
    "collapsed": true
   },
   "outputs": [],
   "source": []
  }
 ],
 "metadata": {
  "kernelspec": {
   "display_name": "Python 3",
   "language": "python",
   "name": "python3"
  },
  "language_info": {
   "codemirror_mode": {
    "name": "ipython",
    "version": 3
   },
   "file_extension": ".py",
   "mimetype": "text/x-python",
   "name": "python",
   "nbconvert_exporter": "python",
   "pygments_lexer": "ipython3",
   "version": "3.6.4"
  },
  "varInspector": {
   "cols": {
    "lenName": 16,
    "lenType": 16,
    "lenVar": 40
   },
   "kernels_config": {
    "python": {
     "delete_cmd_postfix": "",
     "delete_cmd_prefix": "del ",
     "library": "var_list.py",
     "varRefreshCmd": "print(var_dic_list())"
    },
    "r": {
     "delete_cmd_postfix": ") ",
     "delete_cmd_prefix": "rm(",
     "library": "var_list.r",
     "varRefreshCmd": "cat(var_dic_list()) "
    }
   },
   "types_to_exclude": [
    "module",
    "function",
    "builtin_function_or_method",
    "instance",
    "_Feature"
   ],
   "window_display": false
  }
 },
 "nbformat": 4,
 "nbformat_minor": 2
}
