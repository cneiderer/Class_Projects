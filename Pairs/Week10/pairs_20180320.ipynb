{
 "cells": [
  {
   "cell_type": "markdown",
   "metadata": {},
   "source": [
    "#### Pair Problem\n",
    "\n",
    "#### Part 1\n",
    "\n",
    "Write a function that will take two arguments, both lists of lists representing tables of data. The function will combine the two tables into one. Each of the inner lists represents a row of data, with the first element being the \"key\" for that row.\n",
    "\n",
    "For example, your function would take these two lists of lists:\n",
    "\n",
    "```python\n",
    "[[27, 'dog', 5],\n",
    " [19, 'cat', 9],\n",
    " [33, 'bat', 3]]\n",
    "\n",
    "[[14, 8, 'elf'],\n",
    " [33, 7, 'fat'],\n",
    " [27, 2, 'rat']]\n",
    "```\n",
    "\n",
    "In this case, your function would return this result:\n",
    "\n",
    "```python\n",
    "[[27, 'dog', 5, 2, 'rat'],\n",
    " [33, 'bat', 3, 7, 'fat']]\n",
    "```\n",
    "\n",
    "#### Part 2\n",
    "\n",
    "Once you have a solution working, consider how your code would perform if the inputs were large. Can you improve the performance of your solution?\n",
    "\n",
    "Put in this piece of code:\n",
    "\n",
    "```python\n",
    "import random\n",
    "random.seed(127)\n",
    "numbers = range(1000)\n",
    "random.shuffle(numbers)\n",
    "test1 = [[index] + [random.random() for _ in range(100)] for index in numbers]\n",
    "random.shuffle(numbers)\n",
    "test2 = [[index] + [random.random() for _ in range(100)] for index in numbers]\n",
    "```\n",
    "\n",
    "And test the performance using this:\n",
    "\n",
    "```python\n",
    "%timeit yourfuction(test1, test2)\n",
    "```\n",
    "\n",
    "If you are on a Macbook Air, try to get your time under 10 ms. And on a Pro, under 6 ms.\n"
   ]
  },
  {
   "cell_type": "code",
   "execution_count": 1,
   "metadata": {
    "collapsed": true
   },
   "outputs": [],
   "source": [
    "import numpy as np\n",
    "import pandas as pd"
   ]
  },
  {
   "cell_type": "code",
   "execution_count": 103,
   "metadata": {
    "collapsed": true
   },
   "outputs": [],
   "source": [
    "tableA = [[27, 'dog', 5],\n",
    "          [19, 'cat', 9],\n",
    "          [33, 'bat', 3]]\n",
    "tableB = [[14, 8, 'elf'],\n",
    "          [33, 7, 'fat'],\n",
    "          [27, 2, 'rat']]"
   ]
  },
  {
   "cell_type": "code",
   "execution_count": 30,
   "metadata": {
    "collapsed": true
   },
   "outputs": [],
   "source": [
    "def combine_tables(table1, table2):\n",
    "    return pd.DataFrame(table1).merge(pd.DataFrame(table2), how='inner', on=0).as_matrix().tolist()"
   ]
  },
  {
   "cell_type": "code",
   "execution_count": 105,
   "metadata": {},
   "outputs": [
    {
     "name": "stdout",
     "output_type": "stream",
     "text": [
      "3.09 ms ± 159 µs per loop (mean ± std. dev. of 7 runs, 100 loops each)\n"
     ]
    }
   ],
   "source": [
    "%%timeit\n",
    "combine_tables(tableA, tableB)"
   ]
  },
  {
   "cell_type": "code",
   "execution_count": 34,
   "metadata": {},
   "outputs": [],
   "source": [
    "import random\n",
    "random.seed(127)\n",
    "numbers = np.arange(1000)\n",
    "random.shuffle(numbers)\n",
    "test1 = [[index] + [random.random() for _ in range(100)] for index in numbers]\n",
    "random.shuffle(numbers)\n",
    "test2 = [[index] + [random.random() for _ in range(100)] for index in numbers]"
   ]
  },
  {
   "cell_type": "code",
   "execution_count": 40,
   "metadata": {},
   "outputs": [
    {
     "name": "stdout",
     "output_type": "stream",
     "text": [
      "33.4 ms ± 1.16 ms per loop (mean ± std. dev. of 7 runs, 10 loops each)\n"
     ]
    }
   ],
   "source": [
    "%%timeit\n",
    "combine_tables(test1, test2)"
   ]
  },
  {
   "cell_type": "code",
   "execution_count": 126,
   "metadata": {},
   "outputs": [],
   "source": [
    "def combine_tables2(table1, table2):\n",
    "    combined = []\n",
    "    table1 = sorted(table1)\n",
    "    table2 = sorted(table2)\n",
    "    for t1_idx in range(len(table1)):\n",
    "        print(table2)\n",
    "        for t2_idx in range(len(table2)):\n",
    "            print(table1[t1_idx][0], t2_idx)\n",
    "            print(table2[t2_idx])\n",
    "            if table1[t1_idx][0] == table2[t2_idx][0]:\n",
    "                combined.append(table1[t1_idx] + table2[t2_idx][1:])\n",
    "                table2.pop(t2_idx)\n",
    "                break\n",
    "\n",
    "#             table2.pop(t2_idx)\n",
    "# #         table1.pop(t1_idx)    \n",
    "\n",
    "    return combined"
   ]
  },
  {
   "cell_type": "code",
   "execution_count": 127,
   "metadata": {},
   "outputs": [
    {
     "name": "stdout",
     "output_type": "stream",
     "text": [
      "[[14, 8, 'elf'], [27, 2, 'rat'], [33, 7, 'fat']]\n",
      "0 0\n",
      "[14, 8, 'elf']\n",
      "0 1\n",
      "[27, 2, 'rat']\n",
      "0 2\n",
      "[33, 7, 'fat']\n",
      "[[14, 8, 'elf'], [27, 2, 'rat'], [33, 7, 'fat']]\n",
      "1 0\n",
      "[14, 8, 'elf']\n",
      "1 1\n",
      "[27, 2, 'rat']\n",
      "[[14, 8, 'elf'], [33, 7, 'fat']]\n",
      "2 0\n",
      "[14, 8, 'elf']\n",
      "2 1\n",
      "[33, 7, 'fat']\n"
     ]
    },
    {
     "data": {
      "text/plain": [
       "[[27, 'dog', 5, 2, 'rat'], [33, 'bat', 3, 7, 'fat']]"
      ]
     },
     "execution_count": 127,
     "metadata": {},
     "output_type": "execute_result"
    }
   ],
   "source": [
    "combine_tables2(tableA, tableB)"
   ]
  },
  {
   "cell_type": "code",
   "execution_count": 109,
   "metadata": {},
   "outputs": [
    {
     "name": "stdout",
     "output_type": "stream",
     "text": [
      "0 0\n",
      "0 1\n",
      "0 2\n"
     ]
    },
    {
     "ename": "IndexError",
     "evalue": "list index out of range",
     "output_type": "error",
     "traceback": [
      "\u001b[0;31m---------------------------------------------------------------------------\u001b[0m",
      "\u001b[0;31mIndexError\u001b[0m                                Traceback (most recent call last)",
      "\u001b[0;32m<ipython-input-109-23b3edd2d858>\u001b[0m in \u001b[0;36m<module>\u001b[0;34m()\u001b[0m\n\u001b[0;32m----> 1\u001b[0;31m \u001b[0mcombine_tables2\u001b[0m\u001b[0;34m(\u001b[0m\u001b[0mtable1\u001b[0m\u001b[0;34m,\u001b[0m \u001b[0mtable2\u001b[0m\u001b[0;34m)\u001b[0m\u001b[0;34m\u001b[0m\u001b[0m\n\u001b[0m",
      "\u001b[0;32m<ipython-input-108-b0934cf938ea>\u001b[0m in \u001b[0;36mcombine_tables2\u001b[0;34m(table1, table2)\u001b[0m\n\u001b[1;32m      6\u001b[0m         \u001b[0;32mfor\u001b[0m \u001b[0mt2_idx\u001b[0m \u001b[0;32min\u001b[0m \u001b[0mrange\u001b[0m\u001b[0;34m(\u001b[0m\u001b[0mlen\u001b[0m\u001b[0;34m(\u001b[0m\u001b[0mtable2\u001b[0m\u001b[0;34m)\u001b[0m\u001b[0;34m)\u001b[0m\u001b[0;34m:\u001b[0m\u001b[0;34m\u001b[0m\u001b[0m\n\u001b[1;32m      7\u001b[0m             \u001b[0mprint\u001b[0m\u001b[0;34m(\u001b[0m\u001b[0mt1_idx\u001b[0m\u001b[0;34m,\u001b[0m \u001b[0mt2_idx\u001b[0m\u001b[0;34m)\u001b[0m\u001b[0;34m\u001b[0m\u001b[0m\n\u001b[0;32m----> 8\u001b[0;31m             \u001b[0;32mif\u001b[0m \u001b[0mtable1\u001b[0m\u001b[0;34m[\u001b[0m\u001b[0mt1_idx\u001b[0m\u001b[0;34m]\u001b[0m\u001b[0;34m[\u001b[0m\u001b[0;36m0\u001b[0m\u001b[0;34m]\u001b[0m \u001b[0;34m==\u001b[0m \u001b[0mtable2\u001b[0m\u001b[0;34m[\u001b[0m\u001b[0mt2_idx\u001b[0m\u001b[0;34m]\u001b[0m\u001b[0;34m[\u001b[0m\u001b[0;36m0\u001b[0m\u001b[0;34m]\u001b[0m\u001b[0;34m:\u001b[0m\u001b[0;34m\u001b[0m\u001b[0m\n\u001b[0m\u001b[1;32m      9\u001b[0m                 \u001b[0mcombined\u001b[0m\u001b[0;34m.\u001b[0m\u001b[0mappend\u001b[0m\u001b[0;34m(\u001b[0m\u001b[0mtable1\u001b[0m\u001b[0;34m[\u001b[0m\u001b[0mt1_idx\u001b[0m\u001b[0;34m]\u001b[0m \u001b[0;34m+\u001b[0m \u001b[0mtable2\u001b[0m\u001b[0;34m[\u001b[0m\u001b[0mt2_idx\u001b[0m\u001b[0;34m]\u001b[0m\u001b[0;34m[\u001b[0m\u001b[0;36m1\u001b[0m\u001b[0;34m:\u001b[0m\u001b[0;34m]\u001b[0m\u001b[0;34m)\u001b[0m\u001b[0;34m\u001b[0m\u001b[0m\n\u001b[1;32m     10\u001b[0m                 \u001b[0;32mbreak\u001b[0m\u001b[0;34m\u001b[0m\u001b[0m\n",
      "\u001b[0;31mIndexError\u001b[0m: list index out of range"
     ]
    }
   ],
   "source": [
    "def combine_tables4(table1, table2):\n",
    "    combined = []\n",
    "    table1 = sorted(table1)"
   ]
  },
  {
   "cell_type": "code",
   "execution_count": 95,
   "metadata": {},
   "outputs": [
    {
     "name": "stdout",
     "output_type": "stream",
     "text": [
      "3.33 µs ± 93.9 ns per loop (mean ± std. dev. of 7 runs, 100000 loops each)\n"
     ]
    }
   ],
   "source": [
    "%%timeit\n",
    "combine_tables2(table1, table2)"
   ]
  },
  {
   "cell_type": "code",
   "execution_count": 93,
   "metadata": {},
   "outputs": [
    {
     "name": "stdout",
     "output_type": "stream",
     "text": [
      "798 µs ± 10 µs per loop (mean ± std. dev. of 7 runs, 1000 loops each)\n"
     ]
    }
   ],
   "source": [
    "%%timeit\n",
    "combine_tables2(test1, test2)"
   ]
  },
  {
   "cell_type": "code",
   "execution_count": 99,
   "metadata": {
    "collapsed": true
   },
   "outputs": [],
   "source": [
    "def combine_tables3(table1, table2):\n",
    "    dict1 = {row[0]:row[1:] for row in table1}\n",
    "    combined =[]\n",
    "    for row in table2:\n",
    "        if row[0] in dict1:\n",
    "            combined.append([row[0]] + dict1[row[0]] + row[1:])\n",
    "    return combined"
   ]
  },
  {
   "cell_type": "code",
   "execution_count": 102,
   "metadata": {},
   "outputs": [
    {
     "name": "stdout",
     "output_type": "stream",
     "text": [
      "1.56 µs ± 11.4 ns per loop (mean ± std. dev. of 7 runs, 1000000 loops each)\n"
     ]
    }
   ],
   "source": [
    "%%timeit\n",
    "combine_tables3(table1, table2)"
   ]
  },
  {
   "cell_type": "code",
   "execution_count": 101,
   "metadata": {},
   "outputs": [
    {
     "name": "stdout",
     "output_type": "stream",
     "text": [
      "748 µs ± 43.9 µs per loop (mean ± std. dev. of 7 runs, 1000 loops each)\n"
     ]
    }
   ],
   "source": [
    "%%timeit\n",
    "combine_tables3(test1, test2)"
   ]
  },
  {
   "cell_type": "code",
   "execution_count": null,
   "metadata": {
    "collapsed": true
   },
   "outputs": [],
   "source": []
  }
 ],
 "metadata": {
  "kernelspec": {
   "display_name": "Python 3",
   "language": "python",
   "name": "python3"
  },
  "language_info": {
   "codemirror_mode": {
    "name": "ipython",
    "version": 3
   },
   "file_extension": ".py",
   "mimetype": "text/x-python",
   "name": "python",
   "nbconvert_exporter": "python",
   "pygments_lexer": "ipython3",
   "version": "3.6.4"
  },
  "varInspector": {
   "cols": {
    "lenName": 16,
    "lenType": 16,
    "lenVar": 40
   },
   "kernels_config": {
    "python": {
     "delete_cmd_postfix": "",
     "delete_cmd_prefix": "del ",
     "library": "var_list.py",
     "varRefreshCmd": "print(var_dic_list())"
    },
    "r": {
     "delete_cmd_postfix": ") ",
     "delete_cmd_prefix": "rm(",
     "library": "var_list.r",
     "varRefreshCmd": "cat(var_dic_list()) "
    }
   },
   "types_to_exclude": [
    "module",
    "function",
    "builtin_function_or_method",
    "instance",
    "_Feature"
   ],
   "window_display": false
  }
 },
 "nbformat": 4,
 "nbformat_minor": 2
}
