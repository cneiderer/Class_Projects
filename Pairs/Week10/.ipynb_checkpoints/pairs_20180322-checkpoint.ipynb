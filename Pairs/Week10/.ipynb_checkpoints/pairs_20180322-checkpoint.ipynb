{
 "cells": [
  {
   "cell_type": "markdown",
   "metadata": {},
   "source": [
    "### Pair Problem\n",
    "\n",
    "You are given a square matrix T. T[x,y] gives the time it takes to go from city x to city y. T[x,x] is zero. All other values are positive integers. T[x,y]=T[y,x]. Naturally, when traveling from x to y, sometimes its faster to go through another city than going directly from x to y.\n",
    "\n",
    "Here is an example matrix for 6 cities. Your function can take the input matrix T as a list of lists or a numpy array/matrix.\n",
    "\n",
    "|  |  |  |  |  |  | \n",
    "| --- | --- | --- | --- | --- | --- | \n",
    "| 0 | 4 | 9 | 3 | 1 | 2 | \n",
    "| 4 | 0 | 2 | 1 | 4 | 2 | \n",
    "| 9 | 2 | 0 | 7 | 2 | 1 | \n",
    "| 3 | 1 | 7 | 0 | 6 | 6 | \n",
    "| 1 | 4 | 2 | 6 | 0 | 2 | \n",
    "| 2 | 2 | 1 | 6 | 2 | 0 | \n",
    "\n",
    "1) Write a function that will give you the shortest travel time from city A to city B, with at most one stop-over (Ex. A->E->B).\n",
    "\n",
    "2) Modify the function to give the shortest travel time from city A to city B, with **at most two stop-overs**.\n",
    "\n",
    "3) Write a function to find the shortest travel time from city A to city B with any number of stop-overs. And what is the complexity of the function? Can you improve it? Note, I'm not interested in the actual path, only the time it will take on the shortest possible path.\n"
   ]
  },
  {
   "cell_type": "code",
   "execution_count": null,
   "metadata": {
    "collapsed": true
   },
   "outputs": [],
   "source": []
  }
 ],
 "metadata": {
  "kernelspec": {
   "display_name": "Python 3",
   "language": "python",
   "name": "python3"
  },
  "language_info": {
   "codemirror_mode": {
    "name": "ipython",
    "version": 3
   },
   "file_extension": ".py",
   "mimetype": "text/x-python",
   "name": "python",
   "nbconvert_exporter": "python",
   "pygments_lexer": "ipython3",
   "version": "3.6.4"
  },
  "varInspector": {
   "cols": {
    "lenName": 16,
    "lenType": 16,
    "lenVar": 40
   },
   "kernels_config": {
    "python": {
     "delete_cmd_postfix": "",
     "delete_cmd_prefix": "del ",
     "library": "var_list.py",
     "varRefreshCmd": "print(var_dic_list())"
    },
    "r": {
     "delete_cmd_postfix": ") ",
     "delete_cmd_prefix": "rm(",
     "library": "var_list.r",
     "varRefreshCmd": "cat(var_dic_list()) "
    }
   },
   "types_to_exclude": [
    "module",
    "function",
    "builtin_function_or_method",
    "instance",
    "_Feature"
   ],
   "window_display": false
  }
 },
 "nbformat": 4,
 "nbformat_minor": 2
}
