{
 "cells": [
  {
   "cell_type": "markdown",
   "metadata": {
    "collapsed": true
   },
   "source": [
    "# Pair Programming: 2018-01-31"
   ]
  },
  {
   "cell_type": "markdown",
   "metadata": {},
   "source": [
    "## Pair Problem\n",
    "\n",
    "[CodeEval](https://www.codeeval.com/) is a site with a lot of problems you can solve. Solving CodeEval problems is a fun way to work on your coding skills.\n",
    "\n",
    "If you make an account on CodeEval, you can submit code that will run on their system and be evaluated against their test data, so you'll know whether you've solved a problem correctly.\n",
    "\n",
    "Solve the CodeEval [Email Validation challenge](https://www.codeeval.com/open_challenges/35/).\n",
    "\n",
    "Notes:\n",
    "\n",
    " * Start by getting a correct solution for the examples they give. Then try to get a perfect 100 score on the site.\n",
    " * Alternate option or extension: Can you trick CodeEval into showing you the 20 test cases they use?"
   ]
  },
  {
   "cell_type": "markdown",
   "metadata": {},
   "source": [
    "### Challenge Description:\n",
    "You are given several strings that may/may not be valid emails.\n",
    "You should write a regular expression that determines if the email\n",
    "id is a valid email id or not. You may assume all characters are\n",
    "from the english language."
   ]
  },
  {
   "cell_type": "markdown",
   "metadata": {},
   "source": [
    "### INPUT Sample:\n",
    "Your program should accept as its first argument a filename.\n",
    "This file will contain several text strings, one per line.\n",
    "Ignore all empty lines. E.g."
   ]
  },
  {
   "cell_type": "raw",
   "metadata": {},
   "source": [
    "foo@bar.com\n",
    "this is not an email id\n",
    "admin#codeeval.com\n",
    "good123@bad.com"
   ]
  },
  {
   "cell_type": "markdown",
   "metadata": {},
   "source": [
    "### OUTPUT Sample:\n",
    "Print out 'true' (all lowercase) if the string is a valid email. Else print out 'false' (all lowercase). E.g."
   ]
  },
  {
   "cell_type": "raw",
   "metadata": {
    "collapsed": true
   },
   "source": [
    "true\n",
    "false\n",
    "false\n",
    "true"
   ]
  },
  {
   "cell_type": "markdown",
   "metadata": {},
   "source": [
    "## Code"
   ]
  },
  {
   "cell_type": "code",
   "execution_count": 1,
   "metadata": {
    "collapsed": true
   },
   "outputs": [],
   "source": [
    "import re"
   ]
  },
  {
   "cell_type": "code",
   "execution_count": 2,
   "metadata": {
    "collapsed": true
   },
   "outputs": [],
   "source": [
    "def valid_email(email_str):\n",
    "    regex = re.compile('[^@]+@[^@]+\\.[^@]+')\n",
    "    if regex.findall(email_str):\n",
    "        return True\n",
    "    else:\n",
    "        return False"
   ]
  },
  {
   "cell_type": "code",
   "execution_count": 3,
   "metadata": {},
   "outputs": [
    {
     "name": "stdout",
     "output_type": "stream",
     "text": [
      "True\n",
      "False\n",
      "False\n",
      "True\n"
     ]
    }
   ],
   "source": [
    "email_list = ['foo@bar.com',\n",
    "              'this is not an email id',\n",
    "              'admin#codeeval.com',\n",
    "              'good123@bad.com']\n",
    "for email in email_list:\n",
    "    print(valid_email(email))"
   ]
  },
  {
   "cell_type": "code",
   "execution_count": null,
   "metadata": {
    "collapsed": true
   },
   "outputs": [],
   "source": []
  }
 ],
 "metadata": {
  "kernelspec": {
   "display_name": "Python 3",
   "language": "python",
   "name": "python3"
  },
  "language_info": {
   "codemirror_mode": {
    "name": "ipython",
    "version": 3
   },
   "file_extension": ".py",
   "mimetype": "text/x-python",
   "name": "python",
   "nbconvert_exporter": "python",
   "pygments_lexer": "ipython3",
   "version": "3.6.4"
  },
  "varInspector": {
   "cols": {
    "lenName": 16,
    "lenType": 16,
    "lenVar": 40
   },
   "kernels_config": {
    "python": {
     "delete_cmd_postfix": "",
     "delete_cmd_prefix": "del ",
     "library": "var_list.py",
     "varRefreshCmd": "print(var_dic_list())"
    },
    "r": {
     "delete_cmd_postfix": ") ",
     "delete_cmd_prefix": "rm(",
     "library": "var_list.r",
     "varRefreshCmd": "cat(var_dic_list()) "
    }
   },
   "types_to_exclude": [
    "module",
    "function",
    "builtin_function_or_method",
    "instance",
    "_Feature"
   ],
   "window_display": false
  }
 },
 "nbformat": 4,
 "nbformat_minor": 2
}
