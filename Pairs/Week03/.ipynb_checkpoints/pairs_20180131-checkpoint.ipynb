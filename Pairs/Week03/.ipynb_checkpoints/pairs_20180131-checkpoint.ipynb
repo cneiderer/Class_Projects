{
 "cells": [
  {
   "cell_type": "markdown",
   "metadata": {
    "collapsed": true
   },
   "source": [
    "# Pair Programming: 2018-01-31"
   ]
  },
  {
   "cell_type": "markdown",
   "metadata": {},
   "source": [
    "## Pair Problem\n",
    "\n",
    "[CodeEval](https://www.codeeval.com/) is a site with a lot of problems you can solve. Solving CodeEval problems is a fun way to work on your coding skills.\n",
    "\n",
    "If you make an account on CodeEval, you can submit code that will run on their system and be evaluated against their test data, so you'll know whether you've solved a problem correctly.\n",
    "\n",
    "Solve the CodeEval [Email Validation challenge](https://www.codeeval.com/open_challenges/35/).\n",
    "\n",
    "Notes:\n",
    "\n",
    " * Start by getting a correct solution for the examples they give. Then try to get a perfect 100 score on the site.\n",
    " * Alternate option or extension: Can you trick CodeEval into showing you the 20 test cases they use?"
   ]
  },
  {
   "cell_type": "code",
   "execution_count": null,
   "metadata": {
    "collapsed": true
   },
   "outputs": [],
   "source": []
  }
 ],
 "metadata": {
  "kernelspec": {
   "display_name": "Python 3",
   "language": "python",
   "name": "python3"
  },
  "language_info": {
   "codemirror_mode": {
    "name": "ipython",
    "version": 3
   },
   "file_extension": ".py",
   "mimetype": "text/x-python",
   "name": "python",
   "nbconvert_exporter": "python",
   "pygments_lexer": "ipython3",
   "version": "3.6.4"
  },
  "varInspector": {
   "cols": {
    "lenName": 16,
    "lenType": 16,
    "lenVar": 40
   },
   "kernels_config": {
    "python": {
     "delete_cmd_postfix": "",
     "delete_cmd_prefix": "del ",
     "library": "var_list.py",
     "varRefreshCmd": "print(var_dic_list())"
    },
    "r": {
     "delete_cmd_postfix": ") ",
     "delete_cmd_prefix": "rm(",
     "library": "var_list.r",
     "varRefreshCmd": "cat(var_dic_list()) "
    }
   },
   "types_to_exclude": [
    "module",
    "function",
    "builtin_function_or_method",
    "instance",
    "_Feature"
   ],
   "window_display": false
  }
 },
 "nbformat": 4,
 "nbformat_minor": 2
}
