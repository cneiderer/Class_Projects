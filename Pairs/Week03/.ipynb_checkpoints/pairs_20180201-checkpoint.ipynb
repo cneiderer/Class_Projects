{
 "cells": [
  {
   "cell_type": "markdown",
   "metadata": {
    "collapsed": true
   },
   "source": [
    "# Pair Programming: 2018-02-01"
   ]
  },
  {
   "cell_type": "markdown",
   "metadata": {},
   "source": [
    "## Pair Problem\n",
    "\n",
    "*This is a tough problem. If you are stuck, please ask an instructor for help.*\n",
    "\n",
    "If you're named Danny Kyung or Matthew Emes, it opens up the possibility of justifying your use of usernames such as [dank](https://github.com/dank) or [memes](https://github.com/memes).\n",
    "Your task is to find the longest word such that it satisfies the criteria - that is, it is a substring of the given string but not necessarily consecutively (we can call it a sparse substring). If there are multiple words of same maximum length, output all of them.\n",
    "You may use the the [Enable word list](http://norvig.com/ngrams/enable1.txt), or some other reasonable English word list. Every word in your output must appear in your word list.\n",
    "Formal Inputs & Outputs\n",
    "\n",
    "#### Input description\n",
    "```\n",
    "One string.\n",
    "```\n",
    "#### Example Inputs\n",
    "```\n",
    "Donald Knuth\n",
    "Alan Turing\n",
    "Claude Shannon\n",
    "```\n",
    "#### Output description\n",
    "```\n",
    "A single word (output the lengthiest word/words in case of multiple words satisfying the criteria)\n",
    "```\n",
    "#### Example outputs\n",
    "```\n",
    "Donut (because **Don**ald k**nut**h)\n",
    "Alanin, Anting\n",
    "Cannon\n",
    "```\n",
    "Note : Your outputs may differ from these outputs depending on the word list you are using\n",
    "\n",
    "#### Challenge Inputs\n",
    "```\n",
    "Ada Lovelace\n",
    "Haskell Curry\n",
    "**Your own name!**\n",
    "```"
   ]
  },
  {
   "cell_type": "code",
   "execution_count": null,
   "metadata": {
    "collapsed": true
   },
   "outputs": [],
   "source": []
  }
 ],
 "metadata": {
  "kernelspec": {
   "display_name": "Python 3",
   "language": "python",
   "name": "python3"
  },
  "language_info": {
   "codemirror_mode": {
    "name": "ipython",
    "version": 3
   },
   "file_extension": ".py",
   "mimetype": "text/x-python",
   "name": "python",
   "nbconvert_exporter": "python",
   "pygments_lexer": "ipython3",
   "version": "3.6.4"
  },
  "varInspector": {
   "cols": {
    "lenName": 16,
    "lenType": 16,
    "lenVar": 40
   },
   "kernels_config": {
    "python": {
     "delete_cmd_postfix": "",
     "delete_cmd_prefix": "del ",
     "library": "var_list.py",
     "varRefreshCmd": "print(var_dic_list())"
    },
    "r": {
     "delete_cmd_postfix": ") ",
     "delete_cmd_prefix": "rm(",
     "library": "var_list.r",
     "varRefreshCmd": "cat(var_dic_list()) "
    }
   },
   "types_to_exclude": [
    "module",
    "function",
    "builtin_function_or_method",
    "instance",
    "_Feature"
   ],
   "window_display": false
  }
 },
 "nbformat": 4,
 "nbformat_minor": 2
}
