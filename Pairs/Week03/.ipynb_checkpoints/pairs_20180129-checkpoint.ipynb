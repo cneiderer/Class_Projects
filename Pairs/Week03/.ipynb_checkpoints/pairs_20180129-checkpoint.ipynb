{
 "cells": [
  {
   "cell_type": "markdown",
   "metadata": {},
   "source": [
    "# Pair Programming: 2018-01-29"
   ]
  },
  {
   "cell_type": "markdown",
   "metadata": {
    "heading_collapsed": true
   },
   "source": [
    "## Day 11 Pairings:  "
   ]
  },
  {
   "cell_type": "markdown",
   "metadata": {
    "hidden": true
   },
   "source": [
    "Alando, Man  \n",
    "Brian, Curtis  \n",
    "Jay, Kaitlin  \n",
    "Natalia B, Hector  \n",
    "Pinky, Jared  \n",
    "Natalia Z, Jennifer  \n",
    "solo Emily"
   ]
  },
  {
   "cell_type": "markdown",
   "metadata": {},
   "source": [
    "## Pair Problem\n",
    "\n",
    "[CodeEval](https://www.codeeval.com/) is a site with a lot of problems you can solve. Solving CodeEval problems is a fun way to work on your coding skills.\n",
    "\n",
    "If you make an account on CodeEval, you can submit code that will run on their system and be evaluated against their test data, so you'll know whether you've solved a problem correctly.\n",
    "\n",
    "Solve the CodeEval [Beautiful Strings challenge](https://www.codeeval.com/open_challenges/83/)."
   ]
  },
  {
   "cell_type": "markdown",
   "metadata": {},
   "source": [
    "### BEAUTIFUL STRINGS\n",
    "\n",
    "#### CHALLENGE DESCRIPTION:\n",
    "\n",
    "When John was a little kid he didn't have much to do. There was no internet, no Facebook, and no programs to hack on. So he did the only thing he could... he evaluated the beauty of strings in a quest to discover the most beautiful string in the world. \n",
    "\n",
    "Given a string s, little Johnny defined the beauty of the string as the sum of the beauty of the letters in it. The beauty of each letter is an integer between 1 and 26, inclusive, and no two letters have the same beauty. Johnny doesn't care about whether letters are uppercase or lowercase, so that doesn't affect the beauty of a letter. (Uppercase 'F' is exactly as beautiful as lowercase 'f', for example.) \n",
    "\n",
    "You're a student writing a report on the youth of this famous hacker. You found the string that Johnny considered most beautiful. What is the maximum possible beauty of this string?\n",
    "\n",
    "INPUT SAMPLE:\n",
    "Your program should accept as its first argument a path to a filename. Each line in this file has a sentence. E.g."
   ]
  },
  {
   "cell_type": "raw",
   "metadata": {},
   "source": [
    "ABbCcc\n",
    "Good luck in the Facebook Hacker Cup this year!\n",
    "Ignore punctuation, please :)\n",
    "Sometimes test cases are hard to make up.\n",
    "So I just go consult Professor Dalves"
   ]
  },
  {
   "cell_type": "markdown",
   "metadata": {},
   "source": [
    "OUTPUT SAMPLE: Print out the maximum beauty for the string. E.g."
   ]
  },
  {
   "cell_type": "raw",
   "metadata": {},
   "source": [
    "152\n",
    "754\n",
    "491\n",
    "729\n",
    "646"
   ]
  },
  {
   "cell_type": "markdown",
   "metadata": {},
   "source": [
    "### Code"
   ]
  },
  {
   "cell_type": "code",
   "execution_count": 96,
   "metadata": {
    "collapsed": true
   },
   "outputs": [],
   "source": [
    "from collections import Counter"
   ]
  },
  {
   "cell_type": "code",
   "execution_count": 113,
   "metadata": {
    "collapsed": true
   },
   "outputs": [],
   "source": [
    "def string_beauty(test_str):\n",
    "    \n",
    "    # Make lowercase and remove punctuation\n",
    "    test_str = test_str.lower()\n",
    "    test_str = ''.join(char for char in test_str if char.isalpha())\n",
    "    \n",
    "    # Get character counts\n",
    "    letter_cnts = Counter(test_str)\n",
    "    \n",
    "    # Calculate score\n",
    "    score = 0\n",
    "    offset = 0\n",
    "    while char_cnts.keys():\n",
    "        # Find letter with highest cnt\n",
    "        letter = max(letter_cnts, key=letter_cnts.get)\n",
    "        # Calculate letter score and add to total score\n",
    "        score += letter_cnts[letter] * (26 - offset)\n",
    "        # Remove letter letter_cnts dictionary\n",
    "        letter_cnts.pop(letter)\n",
    "        # Update value offset\n",
    "        offset += 1\n",
    "       \n",
    "    return score"
   ]
  },
  {
   "cell_type": "code",
   "execution_count": 114,
   "metadata": {
    "collapsed": true
   },
   "outputs": [],
   "source": [
    "def score_file(file):\n",
    "        \n",
    "    with open(file, 'r') as f:\n",
    "        for line in f:\n",
    "            print('%4d: %s' % (string_beauty(line), line.replace('\\n', '')))"
   ]
  },
  {
   "cell_type": "code",
   "execution_count": 116,
   "metadata": {},
   "outputs": [
    {
     "name": "stdout",
     "output_type": "stream",
     "text": [
      " 152: ABbCcc\n",
      " 754: Good luck in the Facebook Hacker Cup this year!\n",
      " 491: Ignore punctuation, please :)\n",
      " 729: Sometimes test cases are hard to make up.\n",
      " 646: So I just go consult Professor Dalves\n"
     ]
    }
   ],
   "source": [
    "pair_txt = '../../sea18_ds3/class_lectures/week03-luther2/01-regularization/pair.txt'\n",
    "score_file(pair_txt)"
   ]
  },
  {
   "cell_type": "code",
   "execution_count": null,
   "metadata": {
    "collapsed": true
   },
   "outputs": [],
   "source": []
  }
 ],
 "metadata": {
  "kernelspec": {
   "display_name": "Python 3",
   "language": "python",
   "name": "python3"
  },
  "language_info": {
   "codemirror_mode": {
    "name": "ipython",
    "version": 3
   },
   "file_extension": ".py",
   "mimetype": "text/x-python",
   "name": "python",
   "nbconvert_exporter": "python",
   "pygments_lexer": "ipython3",
   "version": "3.6.4"
  },
  "varInspector": {
   "cols": {
    "lenName": 16,
    "lenType": 16,
    "lenVar": 40
   },
   "kernels_config": {
    "python": {
     "delete_cmd_postfix": "",
     "delete_cmd_prefix": "del ",
     "library": "var_list.py",
     "varRefreshCmd": "print(var_dic_list())"
    },
    "r": {
     "delete_cmd_postfix": ") ",
     "delete_cmd_prefix": "rm(",
     "library": "var_list.r",
     "varRefreshCmd": "cat(var_dic_list()) "
    }
   },
   "types_to_exclude": [
    "module",
    "function",
    "builtin_function_or_method",
    "instance",
    "_Feature"
   ],
   "window_display": false
  }
 },
 "nbformat": 4,
 "nbformat_minor": 2
}
