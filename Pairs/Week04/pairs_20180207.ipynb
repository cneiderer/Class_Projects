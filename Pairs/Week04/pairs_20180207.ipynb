{
 "cells": [
  {
   "cell_type": "markdown",
   "metadata": {},
   "source": [
    "# Pair Problem: Week 4, Day 3\n",
    "## Curtis & Man"
   ]
  },
  {
   "cell_type": "markdown",
   "metadata": {},
   "source": [
    "### Problem Description\n",
    "\n",
    "This is a classic problem. This particular wording is varition on the text from [Cracking the Coding Interview](http://www.amazon.com/Cracking-Coding-Interview-Programming-Questions/dp/098478280X) (question 9.8):\n",
    "\n",
    "**For questions 1, 2 and 3, you don't need recursion. For question 4, try to see if you can do it without recursion. Then do question 4 with recursion.**\n",
    "\n",
    "1) Given enough pennies (1 cent) and nickels (5 cents), how many ways can you make change for a given amount of cents? Your function will be def ways(cents).\n",
    "\n",
    "    Example: ways(12) will return 3. \n",
    "    (Because there are three ways: 2 nickels and 2 pennies, 1 nickels and 7 pennies, 12 pennies.)\n",
    "\n",
    "2) Given enough pennies (1 cent), nickels (5 cents) and dimes (10 cents), how many ways can you make change?\n",
    "\n",
    "3) Given enough pennies (1 cent), nickels (5 cents), dimes (10 cents) and quarters (25 cents), how many ways can you make change?\n",
    "\n",
    "4) Given an arbitrary set of coin types, how many ways can you make change? Your function will now look like this:\n",
    "\n",
    "    def ways(cents,coinTypes):\n",
    "  \n",
    "  And you will call it this way:\n",
    "  \n",
    "    ways(100,[25, 10, 5, 1])\n",
    "    242"
   ]
  },
  {
   "cell_type": "code",
   "execution_count": 1,
   "metadata": {
    "collapsed": true
   },
   "outputs": [],
   "source": [
    "def make_change_pennies_nickels(total):\n",
    "    \n",
    "    nickel = 5\n",
    "    penny = 1\n",
    "    \n",
    "    max_nickels = total // nickel\n",
    "    \n",
    "    change = []\n",
    "    for n in range(max_nickels+1):\n",
    "        n_val = n * nickel\n",
    "        \n",
    "        change.append((n, total))\n",
    "    \n",
    "    return len(change), change"
   ]
  },
  {
   "cell_type": "code",
   "execution_count": 2,
   "metadata": {},
   "outputs": [
    {
     "data": {
      "text/plain": [
       "(6, [(0, 25), (1, 25), (2, 25), (3, 25), (4, 25), (5, 25)])"
      ]
     },
     "execution_count": 2,
     "metadata": {},
     "output_type": "execute_result"
    }
   ],
   "source": [
    "make_change_pennies_nickels(25)"
   ]
  },
  {
   "cell_type": "code",
   "execution_count": 3,
   "metadata": {
    "collapsed": true
   },
   "outputs": [],
   "source": [
    "# helper function\n",
    "def adjust_total(total, coin_val):\n",
    "        if coin_val <= total:\n",
    "            total -= coin_val\n",
    "        return total"
   ]
  },
  {
   "cell_type": "code",
   "execution_count": 4,
   "metadata": {
    "code_folding": [],
    "collapsed": true
   },
   "outputs": [],
   "source": [
    "def make_change_pennies_nickels_dimes(total):\n",
    "    \n",
    "    dime = 10\n",
    "    nickel = 5\n",
    "    penny = 1\n",
    "    \n",
    "    change = []\n",
    "    \n",
    "    max_dimes = total // dime\n",
    "    for d in range(max_dimes+1):\n",
    "        d_val = d * dime\n",
    "        tmp_total = adjust_total(total, d_val)\n",
    "        \n",
    "        max_nickels = tmp_total // nickel        \n",
    "        for n in range(max_nickels+1):\n",
    "            n_val = n * nickel       \n",
    "            tmp_total2 = adjust_total(tmp_total, n_val)\n",
    "\n",
    "            change.append((d, n, tmp_total2))\n",
    "            \n",
    "    return len(change), change\n",
    "    "
   ]
  },
  {
   "cell_type": "code",
   "execution_count": 5,
   "metadata": {},
   "outputs": [
    {
     "data": {
      "text/plain": [
       "(12,\n",
       " [(0, 0, 25),\n",
       "  (0, 1, 20),\n",
       "  (0, 2, 15),\n",
       "  (0, 3, 10),\n",
       "  (0, 4, 5),\n",
       "  (0, 5, 0),\n",
       "  (1, 0, 15),\n",
       "  (1, 1, 10),\n",
       "  (1, 2, 5),\n",
       "  (1, 3, 0),\n",
       "  (2, 0, 5),\n",
       "  (2, 1, 0)])"
      ]
     },
     "execution_count": 5,
     "metadata": {},
     "output_type": "execute_result"
    }
   ],
   "source": [
    "make_change_pennies_nickels_dimes(25)"
   ]
  },
  {
   "cell_type": "code",
   "execution_count": 6,
   "metadata": {
    "code_folding": [],
    "collapsed": true
   },
   "outputs": [],
   "source": [
    "def make_change_pennies_nickels_dimes_quarters(total):\n",
    "    \n",
    "    quarter = 25\n",
    "    dime = 10\n",
    "    nickel = 5\n",
    "    penny = 1\n",
    "    \n",
    "    change = []\n",
    "    \n",
    "    max_quarters = total // quarter\n",
    "    for q in range(max_quarters+1):\n",
    "        q_val = q * quarter\n",
    "        tmp_total = adjust_total(total, q_val)\n",
    "        \n",
    "        max_dimes = tmp_total // dime        \n",
    "        for d in range(max_dimes+1):\n",
    "            d_val = d * dime\n",
    "            tmp_total2 = adjust_total(tmp_total, d_val)\n",
    "            \n",
    "            max_nickels = tmp_total2 // nickel\n",
    "            for n in range(max_nickels+1):\n",
    "                n_val = n * nickel       \n",
    "                tmp_total3 = adjust_total(tmp_total2, n_val)\n",
    "\n",
    "                change.append((q, d, n, tmp_total3))\n",
    "            \n",
    "    return len(change), change\n",
    "    "
   ]
  },
  {
   "cell_type": "code",
   "execution_count": 7,
   "metadata": {},
   "outputs": [
    {
     "data": {
      "text/plain": [
       "(24,\n",
       " [(0, 0, 0, 37),\n",
       "  (0, 0, 1, 32),\n",
       "  (0, 0, 2, 27),\n",
       "  (0, 0, 3, 22),\n",
       "  (0, 0, 4, 17),\n",
       "  (0, 0, 5, 12),\n",
       "  (0, 0, 6, 7),\n",
       "  (0, 0, 7, 2),\n",
       "  (0, 1, 0, 27),\n",
       "  (0, 1, 1, 22),\n",
       "  (0, 1, 2, 17),\n",
       "  (0, 1, 3, 12),\n",
       "  (0, 1, 4, 7),\n",
       "  (0, 1, 5, 2),\n",
       "  (0, 2, 0, 17),\n",
       "  (0, 2, 1, 12),\n",
       "  (0, 2, 2, 7),\n",
       "  (0, 2, 3, 2),\n",
       "  (0, 3, 0, 7),\n",
       "  (0, 3, 1, 2),\n",
       "  (1, 0, 0, 12),\n",
       "  (1, 0, 1, 7),\n",
       "  (1, 0, 2, 2),\n",
       "  (1, 1, 0, 2)])"
      ]
     },
     "execution_count": 7,
     "metadata": {},
     "output_type": "execute_result"
    }
   ],
   "source": [
    "make_change_pennies_nickels_dimes_quarters(37)"
   ]
  },
  {
   "cell_type": "code",
   "execution_count": 8,
   "metadata": {
    "collapsed": true
   },
   "outputs": [],
   "source": [
    "# Recursive Solution: Working\n",
    "def make_change2(total, coins):\n",
    "    \n",
    "    methods = 0    \n",
    "    if len(coins) == 0:\n",
    "        return methods\n",
    "    if len(coins) == 1:\n",
    "        methods = 1\n",
    "        return methods\n",
    "    else:\n",
    "        max_coins = total // coins[0]\n",
    "        for n in range(max_coins+1):\n",
    "            n_val = n * coins[0]\n",
    "            methods += make_change2(total - n_val, coins[1:])\n",
    "        return methods"
   ]
  },
  {
   "cell_type": "code",
   "execution_count": 9,
   "metadata": {},
   "outputs": [
    {
     "data": {
      "text/plain": [
       "242"
      ]
     },
     "execution_count": 9,
     "metadata": {},
     "output_type": "execute_result"
    }
   ],
   "source": [
    "make_change2(100, [25,10,5,1])"
   ]
  },
  {
   "cell_type": "code",
   "execution_count": 10,
   "metadata": {
    "code_folding": []
   },
   "outputs": [],
   "source": [
    "# Non-Recursive Solution: Not Quite Working\n",
    "def make_change(total, coins):\n",
    "           \n",
    "    total_change = []\n",
    "    for idx, coin_val in enumerate(sorted(coins, reverse=True)): \n",
    "        \n",
    "        \n",
    "        change = []\n",
    "        tmp_total = total\n",
    "        coin_cnt = {}\n",
    "        \n",
    "        while (tmp_total > 0) & (tmp_total > coin_val):            \n",
    "            max_coin_cnt = tmp_total // coin_val\n",
    "            cnt_val = 0\n",
    "            \n",
    "            for cnt in range(max_coin_cnt+1):\n",
    "                cnt_val = cnt * coin_val\n",
    "                tmp_total = adjust_total(tmp_total, cnt_val)\n",
    "               \n",
    "                change.append(cnt)\n",
    "        \n",
    "        total_change.append(change)\n",
    "        \n",
    "    return total_change"
   ]
  },
  {
   "cell_type": "code",
   "execution_count": null,
   "metadata": {
    "collapsed": true
   },
   "outputs": [],
   "source": []
  }
 ],
 "metadata": {
  "kernelspec": {
   "display_name": "Python 3",
   "language": "python",
   "name": "python3"
  },
  "language_info": {
   "codemirror_mode": {
    "name": "ipython",
    "version": 3
   },
   "file_extension": ".py",
   "mimetype": "text/x-python",
   "name": "python",
   "nbconvert_exporter": "python",
   "pygments_lexer": "ipython3",
   "version": "3.6.4"
  },
  "varInspector": {
   "cols": {
    "lenName": 16,
    "lenType": 16,
    "lenVar": 40
   },
   "kernels_config": {
    "python": {
     "delete_cmd_postfix": "",
     "delete_cmd_prefix": "del ",
     "library": "var_list.py",
     "varRefreshCmd": "print(var_dic_list())"
    },
    "r": {
     "delete_cmd_postfix": ") ",
     "delete_cmd_prefix": "rm(",
     "library": "var_list.r",
     "varRefreshCmd": "cat(var_dic_list()) "
    }
   },
   "types_to_exclude": [
    "module",
    "function",
    "builtin_function_or_method",
    "instance",
    "_Feature"
   ],
   "window_display": false
  }
 },
 "nbformat": 4,
 "nbformat_minor": 2
}
