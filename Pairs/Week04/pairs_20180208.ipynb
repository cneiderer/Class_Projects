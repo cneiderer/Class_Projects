{
 "cells": [
  {
   "cell_type": "markdown",
   "metadata": {},
   "source": [
    "# Pair Problem: Week 4, Day 4\n",
    "## Curtis & Kaitlin"
   ]
  },
  {
   "cell_type": "markdown",
   "metadata": {},
   "source": [
    "### Problem Description\n",
    "\n",
    "| 0 | 1 | 2 | 3 | 4 |\n",
    "|---|---|---|---|---|\n",
    "| o |   |   |   | x |\n",
    "\n",
    "Above is a gameboard of length 4. You start your coin at position 0 and you want to end at position 4. You have N moves. In each move, you have two options, One space forward or stay put. And you can never step outside the board. And at the end of your last move, you want to be at the last square.\n",
    "\n",
    "Given a board of length D and N moves, calculate the number of possible solutions.\n",
    "\n",
    "For the example above, D = 4. Let's say N = 5. Then we have,\n",
    "\n",
    "    FFFFS\n",
    "    FFFSF\n",
    "    FFSFF\n",
    "    FSFFF\n",
    "    SFFFF\n",
    "    \n",
    "That gives a total of 5 solutions.\n",
    "\n",
    "Write a function \"def Way(n,d)\" that would return the number of possible solutions.\n",
    "\n",
    "See if you can do this without recursion and with recursion.\n",
    "\n",
    "This problem is not trivial. So take your time to think, talk and work it out.\n",
    "\n",
    "#### Extension\n",
    "\n",
    "If you are done, try this extension:\n",
    "\n",
    "In addition to a forward and stay move, you now also have the option to move backwards.\n",
    "\n",
    "So for D = 2 and N = 5, we would have,\n",
    "\n",
    "    FFSSS\n",
    "    FFBFS\n",
    "    FBSFF\n",
    "    Etc.\n",
    "    \n",
    "How many possible solutions are there? Keep in mind that the board is limited and you can't step out in either direction.\n",
    "\n",
    "Again, try both recursive and non-recursive solution."
   ]
  },
  {
   "cell_type": "markdown",
   "metadata": {},
   "source": [
    "### Part 1"
   ]
  },
  {
   "cell_type": "code",
   "execution_count": 1,
   "metadata": {
    "collapsed": true
   },
   "outputs": [],
   "source": [
    "from itertools import permutations\n",
    "import numpy as np\n",
    "from math import factorial"
   ]
  },
  {
   "cell_type": "markdown",
   "metadata": {},
   "source": [
    "#### No Recursion"
   ]
  },
  {
   "cell_type": "code",
   "execution_count": 19,
   "metadata": {},
   "outputs": [],
   "source": [
    "# No Recursion\n",
    "def Way(n, d):\n",
    "    # num forward moves needed to get to end of board\n",
    "    f = d \n",
    "    # stays is num of leftover moves\n",
    "    s = n - d\n",
    "    # permutations of all moves / permutations of repeated moves\n",
    "    return factorial(n) / (factorial(f) * factorial(s)) "
   ]
  },
  {
   "cell_type": "code",
   "execution_count": 33,
   "metadata": {},
   "outputs": [
    {
     "data": {
      "text/plain": [
       "5.0"
      ]
     },
     "execution_count": 33,
     "metadata": {},
     "output_type": "execute_result"
    }
   ],
   "source": [
    "Way(5, 4)"
   ]
  },
  {
   "cell_type": "code",
   "execution_count": 12,
   "metadata": {
    "collapsed": true
   },
   "outputs": [],
   "source": [
    "# No Recursion with permutation visualization\n",
    "def Way_Other(n, d):\n",
    "    \n",
    "    # Find num of moves of each type and combine\n",
    "    moves = 'F' * d + 'S' * (n - d)\n",
    "    \n",
    "    # Find all permutations of those moves\n",
    "    sequences = []\n",
    "    for seq in permutations(moves):\n",
    "        sequences.append(''.join(seq))\n",
    "    \n",
    "    return np.unique(sequences)"
   ]
  },
  {
   "cell_type": "markdown",
   "metadata": {},
   "source": [
    "#### With Recursion"
   ]
  },
  {
   "cell_type": "code",
   "execution_count": null,
   "metadata": {
    "collapsed": true
   },
   "outputs": [],
   "source": [
    "# With Recusion\n",
    "def Way2(n, d):\n",
    "    \n",
    "    if n = 1:\n",
    "        if p < d:\n",
    "            # move forward\n",
    "        else:\n",
    "            # stay\n",
    "    else:\n",
    "        "
   ]
  },
  {
   "cell_type": "code",
   "execution_count": null,
   "metadata": {
    "collapsed": true
   },
   "outputs": [],
   "source": [
    "def way3():\n",
    "    listomoves = []\n",
    "    F = d\n",
    "    S = n-d\n",
    "    for i in range(n):\n",
    "        listomoves.append()"
   ]
  },
  {
   "cell_type": "code",
   "execution_count": 29,
   "metadata": {
    "collapsed": true
   },
   "outputs": [],
   "source": [
    "# with Recursion\n",
    "def Wayrec(n, d):\n",
    "#     f = d\n",
    "#     s = n - d\n",
    "    while d > 0 and n > 0:\n",
    "        return Wayrec(n-1, d-1)\n",
    "#     else:\n",
    "#         print(\"hello, this is the else!\")\n",
    "#         return Wayrec(n, d)\n"
   ]
  },
  {
   "cell_type": "code",
   "execution_count": 30,
   "metadata": {},
   "outputs": [
    {
     "name": "stdout",
     "output_type": "stream",
     "text": [
      "None\n"
     ]
    }
   ],
   "source": [
    "print(Wayrec(5,4))"
   ]
  },
  {
   "cell_type": "markdown",
   "metadata": {},
   "source": [
    "### Part 2"
   ]
  },
  {
   "cell_type": "code",
   "execution_count": 4,
   "metadata": {
    "collapsed": true
   },
   "outputs": [],
   "source": [
    "# \n",
    "def Way3(n, d):\n",
    "    # f + b + s = n\n",
    "    # f - b = d -> f = d + b\n",
    "    # 0 <= b <= n - f\n",
    "    # \n",
    "    moves = 'F' * d + 'B' * 0"
   ]
  },
  {
   "cell_type": "code",
   "execution_count": null,
   "metadata": {
    "collapsed": true
   },
   "outputs": [],
   "source": []
  }
 ],
 "metadata": {
  "kernelspec": {
   "display_name": "Python 3",
   "language": "python",
   "name": "python3"
  },
  "language_info": {
   "codemirror_mode": {
    "name": "ipython",
    "version": 3
   },
   "file_extension": ".py",
   "mimetype": "text/x-python",
   "name": "python",
   "nbconvert_exporter": "python",
   "pygments_lexer": "ipython3",
   "version": "3.6.4"
  },
  "varInspector": {
   "cols": {
    "lenName": 16,
    "lenType": 16,
    "lenVar": 40
   },
   "kernels_config": {
    "python": {
     "delete_cmd_postfix": "",
     "delete_cmd_prefix": "del ",
     "library": "var_list.py",
     "varRefreshCmd": "print(var_dic_list())"
    },
    "r": {
     "delete_cmd_postfix": ") ",
     "delete_cmd_prefix": "rm(",
     "library": "var_list.r",
     "varRefreshCmd": "cat(var_dic_list()) "
    }
   },
   "types_to_exclude": [
    "module",
    "function",
    "builtin_function_or_method",
    "instance",
    "_Feature"
   ],
   "window_display": false
  }
 },
 "nbformat": 4,
 "nbformat_minor": 2
}
