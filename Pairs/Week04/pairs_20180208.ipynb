{
 "cells": [
  {
   "cell_type": "markdown",
   "metadata": {},
   "source": [
    "# Pair Problem: Week 4, Day 4"
   ]
  },
  {
   "cell_type": "markdown",
   "metadata": {},
   "source": [
    "### Problem Description\n",
    "\n",
    "| 0 | 1 | 2 | 3 | 4 |\n",
    "|---|---|---|---|---|\n",
    "| o |   |   |   | x |\n",
    "\n",
    "Above is a gameboard of length 4. You start your coin at position 0 and you want to end at position 4. You have N moves. In each move, you have two options, One space forward or stay put. And you can never step outside the board. And at the end of your last move, you want to be at the last square.\n",
    "\n",
    "Given a board of length D and N moves, calculate the number of possible solutions.\n",
    "\n",
    "For the example above, D = 4. Let's say N = 5. Then we have,\n",
    "\n",
    "    FFFFS\n",
    "    FFFSF\n",
    "    FFSFF\n",
    "    FSFFF\n",
    "    SFFFF\n",
    "    \n",
    "That gives a total of 5 solutions.\n",
    "\n",
    "Write a function \"def Way(n,d)\" that would return the number of possible solutions.\n",
    "\n",
    "See if you can do this without recursion and with recursion.\n",
    "\n",
    "This problem is not trivial. So take your time to think, talk and work it out.\n",
    "\n",
    "#### Extension\n",
    "\n",
    "If you are done, try this extension:\n",
    "\n",
    "In addition to a forward and stay move, you now also have the option to move backwards.\n",
    "\n",
    "So for D = 2 and N = 5, we would have,\n",
    "\n",
    "    FFSSS\n",
    "    FFBFS\n",
    "    FBSFF\n",
    "    Etc.\n",
    "    \n",
    "How many possible solutions are there? Keep in mind that the board is limited and you can't step out in either direction.\n",
    "\n",
    "Again, try both recursive and non-recursive solution."
   ]
  },
  {
   "cell_type": "code",
   "execution_count": null,
   "metadata": {
    "collapsed": true
   },
   "outputs": [],
   "source": []
  }
 ],
 "metadata": {
  "kernelspec": {
   "display_name": "Python 3",
   "language": "python",
   "name": "python3"
  },
  "language_info": {
   "codemirror_mode": {
    "name": "ipython",
    "version": 3
   },
   "file_extension": ".py",
   "mimetype": "text/x-python",
   "name": "python",
   "nbconvert_exporter": "python",
   "pygments_lexer": "ipython3",
   "version": "3.6.4"
  },
  "varInspector": {
   "cols": {
    "lenName": 16,
    "lenType": 16,
    "lenVar": 40
   },
   "kernels_config": {
    "python": {
     "delete_cmd_postfix": "",
     "delete_cmd_prefix": "del ",
     "library": "var_list.py",
     "varRefreshCmd": "print(var_dic_list())"
    },
    "r": {
     "delete_cmd_postfix": ") ",
     "delete_cmd_prefix": "rm(",
     "library": "var_list.r",
     "varRefreshCmd": "cat(var_dic_list()) "
    }
   },
   "types_to_exclude": [
    "module",
    "function",
    "builtin_function_or_method",
    "instance",
    "_Feature"
   ],
   "window_display": false
  }
 },
 "nbformat": 4,
 "nbformat_minor": 2
}
