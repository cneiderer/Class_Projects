{
 "cells": [
  {
   "cell_type": "markdown",
   "metadata": {},
   "source": [
    "# Pair Problem: Week 4, Day 3\n",
    "## Curtis & Man"
   ]
  },
  {
   "cell_type": "markdown",
   "metadata": {},
   "source": [
    "### Problem Description\n",
    "\n",
    "This is a classic problem. This particular wording is varition on the text from [Cracking the Coding Interview](http://www.amazon.com/Cracking-Coding-Interview-Programming-Questions/dp/098478280X) (question 9.8):\n",
    "\n",
    "**For questions 1, 2 and 3, you don't need recursion. For question 4, try to see if you can do it without recursion. Then do question 4 with recursion.**\n",
    "\n",
    "1) Given enough pennies (1 cent) and nickels (5 cents), how many ways can you make change for a given amount of cents? Your function will be def ways(cents).\n",
    "\n",
    "    Example: ways(12) will return 3. \n",
    "    (Because there are three ways: 2 nickels and 2 pennies, 1 nickels and 7 pennies, 12 pennies.)\n",
    "\n",
    "2) Given enough pennies (1 cent), nickels (5 cents) and dimes (10 cents), how many ways can you make change?\n",
    "\n",
    "3) Given enough pennies (1 cent), nickels (5 cents), dimes (10 cents) and quarters (25 cents), how many ways can you make change?\n",
    "\n",
    "4) Given an arbitrary set of coin types, how many ways can you make change? Your function will now look like this:\n",
    "\n",
    "    def ways(cents,coinTypes):\n",
    "  \n",
    "  And you will call it this way:\n",
    "  \n",
    "    ways(100,[25, 10, 5, 1])\n",
    "    242"
   ]
  },
  {
   "cell_type": "code",
   "execution_count": 1,
   "metadata": {
    "collapsed": true
   },
   "outputs": [],
   "source": [
    "def make_change_pennies_nickels(total):\n",
    "    \n",
    "    nickel = 5\n",
    "    penny = 1\n",
    "    \n",
    "    max_nickels = total // nickel\n",
    "    \n",
    "    change = []\n",
    "    for n in range(max_nickels+1):\n",
    "        num_nickels = n\n",
    "        n_val = num_nickels * nickel\n",
    "        num_pennies = total - n_val\n",
    "        change.append((num_nickels, num_pennies))\n",
    "    \n",
    "    return len(change), change"
   ]
  },
  {
   "cell_type": "code",
   "execution_count": 2,
   "metadata": {},
   "outputs": [
    {
     "data": {
      "text/plain": [
       "(3, [(0, 12), (1, 7), (2, 2)])"
      ]
     },
     "execution_count": 2,
     "metadata": {},
     "output_type": "execute_result"
    }
   ],
   "source": [
    "make_change_pennies_nickels(12)"
   ]
  },
  {
   "cell_type": "code",
   "execution_count": 15,
   "metadata": {
    "collapsed": true
   },
   "outputs": [],
   "source": [
    "# helper function\n",
    "def adjust_total(total, coin_val):\n",
    "        if coin_val <= total:\n",
    "            total -= coin_val\n",
    "        return total"
   ]
  },
  {
   "cell_type": "code",
   "execution_count": 40,
   "metadata": {
    "collapsed": true
   },
   "outputs": [],
   "source": [
    "def make_change_pennies_nickels_dimes(total):\n",
    "    \n",
    "    dime = 10\n",
    "    nickel = 5\n",
    "    penny = 1\n",
    "    \n",
    "    change = []\n",
    "    \n",
    "    max_dimes = total // dime\n",
    "    for d in range(max_dimes+1):\n",
    "        num_dimes = d\n",
    "        d_val = num_dimes * dime\n",
    "        tmp_total = adjust_total(total, d_val)\n",
    "        print(tmp_total, nickel, tmp_total//nickel, 'nickel')\n",
    "        max_nickels = tmp_total // nickel\n",
    "        \n",
    "        for n in range(max_nickels+1):\n",
    "            num_nickels = n\n",
    "            n_val = num_nickels * nickel       \n",
    "            tmp_total2 = adjust_total(tmp_total, n_val)\n",
    "            max_pennies = tmp_total2 // penny\n",
    "\n",
    "            change.append((num_dimes, num_nickels, max_pennies))\n",
    "            \n",
    "    return len(change), change\n",
    "    "
   ]
  },
  {
   "cell_type": "code",
   "execution_count": 42,
   "metadata": {
    "scrolled": true
   },
   "outputs": [
    {
     "name": "stdout",
     "output_type": "stream",
     "text": [
      "12 5 2 nickel\n",
      "12 0\n",
      "12 1 12 penny\n",
      "-----\n",
      "12 5\n",
      "7 1 7 penny\n",
      "-----\n",
      "12 10\n",
      "2 1 2 penny\n",
      "-----\n",
      "2 5 0 nickel\n",
      "2 0\n",
      "2 1 2 penny\n",
      "-----\n"
     ]
    },
    {
     "data": {
      "text/plain": [
       "(4, [(0, 0, 12), (0, 1, 7), (0, 2, 2), (1, 0, 2)])"
      ]
     },
     "execution_count": 42,
     "metadata": {},
     "output_type": "execute_result"
    }
   ],
   "source": [
    "make_change_pennies_nickels_dimes(12)"
   ]
  },
  {
   "cell_type": "code",
   "execution_count": null,
   "metadata": {
    "collapsed": true
   },
   "outputs": [],
   "source": [
    "def make_change(total, coins):\n",
    "    \n",
    "    coins = sorted(coins)\n",
    "    max_cnt = []\n",
    "    for val in coins:\n",
    "        max_coin_cnt = total // val\n",
    "        max_cnt.append(max_coin_cnt)\n",
    "    \n",
    "    for ii in range(len_coins):\n",
    "        \n",
    "    \n",
    "    change = []\n",
    "    for v in "
   ]
  }
 ],
 "metadata": {
  "kernelspec": {
   "display_name": "Python 3",
   "language": "python",
   "name": "python3"
  },
  "language_info": {
   "codemirror_mode": {
    "name": "ipython",
    "version": 3
   },
   "file_extension": ".py",
   "mimetype": "text/x-python",
   "name": "python",
   "nbconvert_exporter": "python",
   "pygments_lexer": "ipython3",
   "version": "3.6.4"
  },
  "varInspector": {
   "cols": {
    "lenName": 16,
    "lenType": 16,
    "lenVar": 40
   },
   "kernels_config": {
    "python": {
     "delete_cmd_postfix": "",
     "delete_cmd_prefix": "del ",
     "library": "var_list.py",
     "varRefreshCmd": "print(var_dic_list())"
    },
    "r": {
     "delete_cmd_postfix": ") ",
     "delete_cmd_prefix": "rm(",
     "library": "var_list.r",
     "varRefreshCmd": "cat(var_dic_list()) "
    }
   },
   "types_to_exclude": [
    "module",
    "function",
    "builtin_function_or_method",
    "instance",
    "_Feature"
   ],
   "window_display": false
  }
 },
 "nbformat": 4,
 "nbformat_minor": 2
}
