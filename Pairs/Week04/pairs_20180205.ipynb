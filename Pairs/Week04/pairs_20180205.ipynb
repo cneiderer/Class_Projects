{
 "cells": [
  {
   "cell_type": "markdown",
   "metadata": {},
   "source": [
    "# Pair Problem: Week 4, Day 1"
   ]
  },
  {
   "cell_type": "markdown",
   "metadata": {},
   "source": [
    "### Problem Description\n",
    "\n",
    "*A version of this problem was faced at a whiteboard by a Metis student in an interview for a data scientist position on April 16, 2015.*\n",
    "\n",
    "In programming languages, and especially in Lisps, there can be a lot of parentheses. The parentheses have to be \"balanced\" to be valid. For example, `()(())` is balanced, but `()())` is not balanced. Also, `)((())` is not balanced.\n",
    "\n",
    "Write a function that takes a string and returns `True` if the string's parentheses are balanced, `False` if they are not.\n",
    "\n",
    "**This is fairly easy. Once you are finished, see if you can come up with a second way to solve the problem.**\n",
    "\n",
    "Here are examples to test your function with:\n",
    "\n",
    " * `(()()()())` should return `True`\n",
    " * `(((())))` should return `True`\n",
    " * `(()((())()))` should return `True`\n",
    " * `((((((())` should return `False`\n",
    " * `()))` should return `False`\n",
    " * `(()()))(()` should return `False`\n"
   ]
  },
  {
   "cell_type": "markdown",
   "metadata": {},
   "source": [
    "### Code"
   ]
  },
  {
   "cell_type": "code",
   "execution_count": 1,
   "metadata": {
    "collapsed": true
   },
   "outputs": [],
   "source": [
    "test_strings = [')(',\n",
    "                '(()()()())',\n",
    "                '(((())))',\n",
    "                '(()((())()))', \n",
    "                '((((((())',\n",
    "                '()))',\n",
    "                '(()()))(()']"
   ]
  },
  {
   "cell_type": "code",
   "execution_count": 2,
   "metadata": {
    "collapsed": true
   },
   "outputs": [],
   "source": [
    "def is_balanced(expr):\n",
    "    \n",
    "    # If string length odd, can't be balanced\n",
    "    if len(expr) % 2 != 0:\n",
    "        return False\n",
    "    \n",
    "    open_cnt = 0\n",
    "    for idx, ch in enumerate(expr):\n",
    "        \n",
    "        if ch == '(':\n",
    "            open_cnt += 1\n",
    "        elif ch == ')':\n",
    "            open_cnt -= 1\n",
    "         \n",
    "        # If more parans closed then open, can't be balanced\n",
    "        if open_cnt < 0:\n",
    "            return False\n",
    "    \n",
    "    # String is balanced if open count is 0\n",
    "    if open_cnt == 0:\n",
    "        return True\n",
    "        "
   ]
  },
  {
   "cell_type": "code",
   "execution_count": 3,
   "metadata": {},
   "outputs": [
    {
     "name": "stdout",
     "output_type": "stream",
     "text": [
      "\")(\": False\n",
      "\"(()()()())\": True\n",
      "\"(((())))\": True\n",
      "\"(()((())()))\": True\n",
      "\"((((((())\": False\n",
      "\"()))\": False\n",
      "\"(()()))(()\": False\n"
     ]
    }
   ],
   "source": [
    "for expr in test_strings:\n",
    "    print('\"%s\": %s' % (expr, is_balanced(expr)))"
   ]
  },
  {
   "cell_type": "code",
   "execution_count": 4,
   "metadata": {
    "collapsed": true
   },
   "outputs": [],
   "source": [
    "# Alando's Solution\n",
    "def brackets():\n",
    "    openers = [\"(\", \"{\", \"[\"]\n",
    "    closers = {\"}\":\"{\", \"]\":\"[\", \")\":\"(\"}\n",
    "    stack =[]\n",
    "    s = raw_input().strip()\n",
    "    for i in s:\n",
    "        if i in openers:\n",
    "            stack.append(i)\n",
    "        else:\n",
    "            try:\n",
    "                if stack.pop() != closers[i]:\n",
    "                    # something wasn't paired\n",
    "                    return False\n",
    "            except:\n",
    "                # there was a surplus of closers\n",
    "                return False\n",
    "    if stack:\n",
    "        # there was a surplus of openers\n",
    "        return False\n",
    "    # no fail condidtions met; string is balanced\n",
    "    return True"
   ]
  },
  {
   "cell_type": "code",
   "execution_count": null,
   "metadata": {
    "collapsed": true
   },
   "outputs": [],
   "source": []
  }
 ],
 "metadata": {
  "kernelspec": {
   "display_name": "Python 3",
   "language": "python",
   "name": "python3"
  },
  "language_info": {
   "codemirror_mode": {
    "name": "ipython",
    "version": 3
   },
   "file_extension": ".py",
   "mimetype": "text/x-python",
   "name": "python",
   "nbconvert_exporter": "python",
   "pygments_lexer": "ipython3",
   "version": "3.6.4"
  },
  "varInspector": {
   "cols": {
    "lenName": 16,
    "lenType": 16,
    "lenVar": 40
   },
   "kernels_config": {
    "python": {
     "delete_cmd_postfix": "",
     "delete_cmd_prefix": "del ",
     "library": "var_list.py",
     "varRefreshCmd": "print(var_dic_list())"
    },
    "r": {
     "delete_cmd_postfix": ") ",
     "delete_cmd_prefix": "rm(",
     "library": "var_list.r",
     "varRefreshCmd": "cat(var_dic_list()) "
    }
   },
   "types_to_exclude": [
    "module",
    "function",
    "builtin_function_or_method",
    "instance",
    "_Feature"
   ],
   "window_display": false
  }
 },
 "nbformat": 4,
 "nbformat_minor": 2
}
