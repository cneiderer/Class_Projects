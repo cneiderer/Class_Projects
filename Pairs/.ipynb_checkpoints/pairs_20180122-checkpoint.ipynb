{
 "cells": [
  {
   "cell_type": "markdown",
   "metadata": {},
   "source": [
    "#### Pair Problem\n",
    "\n",
    "Another one from Project Euler: [Problem 3](https://projecteuler.net/problem=3):\n",
    "\n",
    "> The prime factors of 13195 are 5, 7, 13 and 29.\n",
    "\n",
    "> What is the largest prime factor of the number 600851475143 ?\n",
    "\n",
    "**Please do not Google. See how best you can solve this problem on your own.** \n",
    "\n",
    "    *What's your complexity? Can you do better?*\n",
    "        \n",
    "        "
   ]
  },
  {
   "cell_type": "code",
   "execution_count": 60,
   "metadata": {
    "collapsed": true
   },
   "outputs": [],
   "source": [
    "import numpy as np\n",
    "import math"
   ]
  },
  {
   "cell_type": "code",
   "execution_count": 54,
   "metadata": {
    "collapsed": true
   },
   "outputs": [],
   "source": [
    "# O(n)\n",
    "def prime_factors(num):\n",
    "    prime_factors = []\n",
    "    cnt = 0\n",
    "    while num > 1:        \n",
    "        for i in range(2, num+1):\n",
    "            cnt += 1\n",
    "            if num % i == 0:\n",
    "                prime_factors.append(i)\n",
    "                num = num // i # force integer division\n",
    "                break\n",
    "    return cnt, prime_factors, np.prod(prime_factors)"
   ]
  },
  {
   "cell_type": "code",
   "execution_count": 59,
   "metadata": {},
   "outputs": [
    {
     "data": {
      "text/plain": [
       "(15, [2, 2, 2, 5, 5, 5], 1000)"
      ]
     },
     "execution_count": 59,
     "metadata": {},
     "output_type": "execute_result"
    }
   ],
   "source": [
    "prime_factors(1000)"
   ]
  },
  {
   "cell_type": "code",
   "execution_count": 61,
   "metadata": {},
   "outputs": [
    {
     "data": {
      "text/plain": [
       "6.907755278982137"
      ]
     },
     "execution_count": 61,
     "metadata": {},
     "output_type": "execute_result"
    }
   ],
   "source": [
    "math.log(1000)"
   ]
  },
  {
   "cell_type": "code",
   "execution_count": 56,
   "metadata": {
    "collapsed": true
   },
   "outputs": [],
   "source": [
    "# O(log(n)) ???\n",
    "def prime_factors2(num):\n",
    "    primes = []\n",
    "    cnt = 0\n",
    "    # Find all factors of 2\n",
    "    while num % 2 == 0:\n",
    "        cnt += 1\n",
    "        primes.append(2)\n",
    "        num = num // 2 # force integer division\n",
    "    # num must now be odd and greater than 2\n",
    "    for i in range(3, num+1, 2):\n",
    "        while num % i == 0:\n",
    "            cnt += 1\n",
    "            primes.append(i)\n",
    "            num = num // i # force integer division\n",
    "    return cnt, primes, np.prod(primes)"
   ]
  },
  {
   "cell_type": "code",
   "execution_count": 58,
   "metadata": {},
   "outputs": [
    {
     "data": {
      "text/plain": [
       "(6, [2, 2, 2, 5, 5, 5], 1000)"
      ]
     },
     "execution_count": 58,
     "metadata": {},
     "output_type": "execute_result"
    }
   ],
   "source": [
    "prime_factors2(1000)"
   ]
  },
  {
   "cell_type": "code",
   "execution_count": 9,
   "metadata": {},
   "outputs": [],
   "source": [
    "# O(sqrt(n))\n",
    "def factor2(n):\n",
    "    prime_factors = []\n",
    "    \n",
    "    d = 2\n",
    "    while d*d <= n:\n",
    "        while (n % d) == 0:\n",
    "            prime_factors.append(d)  # supposing you want multiple factors repeated\n",
    "            n //= d\n",
    "        d += 1\n",
    "        \n",
    "    if n > 1:\n",
    "        prime_factors.append(n)\n",
    "        \n",
    "    return prime_factors"
   ]
  },
  {
   "cell_type": "code",
   "execution_count": 20,
   "metadata": {},
   "outputs": [],
   "source": [
    "# O(log(n))\n",
    "import math\n",
    "def primeFactors(n):\n",
    "    prime_factors = [] \n",
    "    \n",
    "    # Print the number of two's that divide n\n",
    "    while n % 2 == 0:\n",
    "        prime_factors.append(2)\n",
    "        n = n / 2      \n",
    "        \n",
    "    # n must be odd at this point so a skip of 2 ( i = i + 2) can be used\n",
    "    for i in range(3,int(math.sqrt(n))+1,2):         \n",
    "        \n",
    "        # while i divides n , print i ad divide n\n",
    "        while n % i== 0:\n",
    "            prime_factors.append(i)\n",
    "            n = n / i             \n",
    "            \n",
    "    # Condition if n is a prime number greater than 2\n",
    "    if n > 2:\n",
    "        prime_factors.append(n)\n",
    "        \n",
    "    return prime_factors"
   ]
  },
  {
   "cell_type": "code",
   "execution_count": 21,
   "metadata": {
    "collapsed": true
   },
   "outputs": [],
   "source": [
    "num = 600851475143"
   ]
  },
  {
   "cell_type": "code",
   "execution_count": 22,
   "metadata": {},
   "outputs": [
    {
     "data": {
      "text/plain": [
       "[71, 839, 1471, 6857]"
      ]
     },
     "execution_count": 22,
     "metadata": {},
     "output_type": "execute_result"
    }
   ],
   "source": [
    "primeFactors(num)"
   ]
  },
  {
   "cell_type": "code",
   "execution_count": null,
   "metadata": {
    "collapsed": true
   },
   "outputs": [],
   "source": []
  }
 ],
 "metadata": {
  "kernelspec": {
   "display_name": "Python 3",
   "language": "python",
   "name": "python3"
  },
  "language_info": {
   "codemirror_mode": {
    "name": "ipython",
    "version": 3
   },
   "file_extension": ".py",
   "mimetype": "text/x-python",
   "name": "python",
   "nbconvert_exporter": "python",
   "pygments_lexer": "ipython3",
   "version": "3.6.3"
  }
 },
 "nbformat": 4,
 "nbformat_minor": 2
}
