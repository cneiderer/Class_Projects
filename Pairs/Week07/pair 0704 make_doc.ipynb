{
 "cells": [
  {
   "cell_type": "markdown",
   "metadata": {},
   "source": [
    "#### Pair Problem\n",
    "\n",
    "You are given documents as probability distributions over topics, and topics as probability distributions over words.\n",
    "\n",
    "Implement a function `make_doc` that takes a document (as `topic_probs`) and a number of words. The function should randomly generate a document by choosing a topic for each word using the document's topic probabilities and then choosing a particular word using that topic's word probabilities. The function should return a string containing all the generated document's words.\n",
    "\n",
    "For example:\n",
    "\n",
    "```python\n",
    "docs = [[0.98, 0.01, 0.01],\n",
    "        [0.01, 0.98, 0.01],\n",
    "        [0.01, 0.01, 0.98]]\n",
    "topics = [[ 0.4,      0.4,   0.01,        0.01,    0.01,       0.01,\n",
    "            0.1,     0.04,   0.01,        0.01],\n",
    "          [0.01,     0.01,    0.4,         0.4,    0.01,       0.01,\n",
    "            0.1,     0.04,   0.01,        0.01],\n",
    "          [0.02,     0.02,   0.01,        0.01,     0.4,        0.4,\n",
    "           0.02,      0.1,   0.01,        0.01]]\n",
    "words =  ['cat', 'kitten',  'dog',     'puppy',  'deep', 'learning',\n",
    "          'fur',  'image',  'GPU', 'asparagus']\n",
    "\n",
    "\n",
    "def make_doc(topic_probs, n_words):\n",
    "    raise NotImplementedError\n",
    "\n",
    "for doc in docs:\n",
    "    print make_doc(topic_probs=doc, n_words=10)\n",
    "\n",
    "#  Example output:\n",
    "## cat learning kitten image kitten cat deep image cat kitten\n",
    "## puppy puppy learning dog puppy dog dog puppy image dog\n",
    "## deep learning deep image deep deep deep deep learning learning\n",
    "```\n",
    "\n",
    "Extension:\n",
    "\n",
    "Update your `make_doc` function so that if `topic_probs` isn't specified, it will draw a random set of topic probabilities from a Dirichlet distribution.\n"
   ]
  },
  {
   "cell_type": "code",
   "execution_count": 4,
   "metadata": {},
   "outputs": [],
   "source": [
    "docs = [[0.98, 0.01, 0.01],\n",
    "        [0.01, 0.98, 0.01],\n",
    "        [0.01, 0.01, 0.98]]\n",
    "\n",
    "topics = [[ 0.4,  0.4, 0.01, 0.01, 0.01, 0.01,  0.1, 0.04, 0.01, 0.01],\n",
    "          [0.01, 0.01,  0.4,  0.4, 0.01, 0.01,  0.1, 0.04, 0.01, 0.01],\n",
    "          [0.02, 0.02, 0.01, 0.01,  0.4,  0.4, 0.02,  0.1, 0.01, 0.01]]\n",
    "    \n",
    "words =  ['cat', 'kitten', 'dog', 'puppy', 'deep', 'learning', 'fur', 'image', 'GPU', 'asparagus']\n"
   ]
  },
  {
   "cell_type": "code",
   "execution_count": 27,
   "metadata": {},
   "outputs": [],
   "source": [
    "import numpy as np\n",
    "import random"
   ]
  },
  {
   "cell_type": "code",
   "execution_count": 19,
   "metadata": {},
   "outputs": [],
   "source": [
    "def make_doc(topic_probs, n_words, word_probs, words):\n",
    "\n",
    "    doc = []\n",
    "    for n in range(n_words):\n",
    "        topic = np.random.choice(len(topics), 1, p=topic_probs)\n",
    "        word = np.random.choice(words, 1, p=topics[topic[0]])\n",
    "        doc.append(word[0])\n",
    "        \n",
    "    return ' '.join(doc)"
   ]
  },
  {
   "cell_type": "code",
   "execution_count": 20,
   "metadata": {},
   "outputs": [
    {
     "name": "stdout",
     "output_type": "stream",
     "text": [
      "fur cat kitten kitten cat cat kitten kitten kitten deep\n",
      "dog image dog dog dog puppy fur dog dog dog\n",
      "deep learning learning learning deep learning image cat learning deep\n"
     ]
    }
   ],
   "source": [
    "for doc in docs:\n",
    "    print(make_doc(doc, 10, topics, words))"
   ]
  },
  {
   "cell_type": "code",
   "execution_count": 33,
   "metadata": {},
   "outputs": [],
   "source": [
    "def make_doc2(topic_probs, n_words, topics, words):\n",
    "    \n",
    "    tops = random.choices(topics, weights=topic_probs, k=n_words)\n",
    "    doc = [random.choices(words, weights=top, k=1)[0] for top in tops]\n",
    "    \n",
    "    return ' '.join(doc)"
   ]
  },
  {
   "cell_type": "code",
   "execution_count": 34,
   "metadata": {},
   "outputs": [
    {
     "name": "stdout",
     "output_type": "stream",
     "text": [
      "cat fur dog image cat dog kitten cat kitten kitten\n",
      "puppy deep puppy fur asparagus puppy dog fur puppy fur\n",
      "image learning kitten learning deep learning cat image learning learning\n"
     ]
    }
   ],
   "source": [
    "for doc in docs:\n",
    "    print(make_doc2(doc, 10, topics, words))"
   ]
  },
  {
   "cell_type": "code",
   "execution_count": 35,
   "metadata": {},
   "outputs": [],
   "source": [
    "def make_doc3(topic_probs=None, n_words=10, topics=topics, words=words):\n",
    "    \n",
    "    if topic_probs is None:\n",
    "        topic_probs = np.random.dirichlet(alpha=[0.1]*len(topics))\n",
    "        \n",
    "    return make_doc(topic_probs, n_words, topics, words)"
   ]
  },
  {
   "cell_type": "code",
   "execution_count": 36,
   "metadata": {},
   "outputs": [
    {
     "name": "stdout",
     "output_type": "stream",
     "text": [
      "deep learning deep learning cat learning puppy deep cat cat\n",
      "dog learning dog deep dog fur kitten cat cat kitten\n",
      "deep kitten kitten cat dog dog GPU kitten deep image\n"
     ]
    }
   ],
   "source": [
    "for doc in docs:\n",
    "    print(make_doc2(None, 10, topics, words))"
   ]
  },
  {
   "cell_type": "code",
   "execution_count": null,
   "metadata": {},
   "outputs": [],
   "source": []
  }
 ],
 "metadata": {
  "kernelspec": {
   "display_name": "Python 3",
   "language": "python",
   "name": "python3"
  },
  "language_info": {
   "codemirror_mode": {
    "name": "ipython",
    "version": 3
   },
   "file_extension": ".py",
   "mimetype": "text/x-python",
   "name": "python",
   "nbconvert_exporter": "python",
   "pygments_lexer": "ipython3",
   "version": "3.6.4"
  }
 },
 "nbformat": 4,
 "nbformat_minor": 2
}
