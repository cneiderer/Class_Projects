{
 "cells": [
  {
   "cell_type": "markdown",
   "metadata": {},
   "source": [
    "#### Pair Problem\n",
    "\n",
    "A man went to get his check chashed. The teller by mistake swapped the dollar and cent amounts. The man ended up with double the amount minus one cent.\n",
    "\n",
    "Can you say what was the amount on the check? First see if you can you solve this on paper. Then do it in Python. And then go back to the paper.\n"
   ]
  },
  {
   "cell_type": "code",
   "execution_count": 8,
   "metadata": {
    "collapsed": true
   },
   "outputs": [],
   "source": [
    "import numpy as np"
   ]
  },
  {
   "cell_type": "code",
   "execution_count": 14,
   "metadata": {},
   "outputs": [
    {
     "name": "stdout",
     "output_type": "stream",
     "text": [
      "Check from teller: $33.67\n",
      "Check supposed to be for: $67.33\n"
     ]
    }
   ],
   "source": [
    "# 100d + c =  a\n",
    "# d + 100c = 2a - 1\n",
    "# => d + 100c = 2 * (100d + c) - 1\n",
    "# => d + 100c = 200d + 2c -1\n",
    "# => 98c = 199d - 1\n",
    "# c is integer with constraint 0 <= c <= 99\n",
    "# d is integer with constraint 0 <= d <= 99\n",
    "\n",
    "for d in range(0, 100):\n",
    "    for c in range(0, 100):\n",
    "        if (98 * c) == (199 * d - 1):\n",
    "            check_d = d\n",
    "            check_c = c\n",
    "            break\n",
    "        \n",
    "print('Check from teller: $%d.%d' % (check_d, check_c))\n",
    "print('Check supposed to be for: $%d.%d' % (check_c, check_d))"
   ]
  },
  {
   "cell_type": "code",
   "execution_count": 16,
   "metadata": {},
   "outputs": [
    {
     "data": {
      "text/plain": [
       "67.33"
      ]
     },
     "execution_count": 16,
     "metadata": {},
     "output_type": "execute_result"
    }
   ],
   "source": [
    "33.67 * 2 - 0.01"
   ]
  },
  {
   "cell_type": "code",
   "execution_count": null,
   "metadata": {
    "collapsed": true
   },
   "outputs": [],
   "source": []
  }
 ],
 "metadata": {
  "kernelspec": {
   "display_name": "Python 3",
   "language": "python",
   "name": "python3"
  },
  "language_info": {
   "codemirror_mode": {
    "name": "ipython",
    "version": 3
   },
   "file_extension": ".py",
   "mimetype": "text/x-python",
   "name": "python",
   "nbconvert_exporter": "python",
   "pygments_lexer": "ipython3",
   "version": "3.6.4"
  },
  "varInspector": {
   "cols": {
    "lenName": 16,
    "lenType": 16,
    "lenVar": 40
   },
   "kernels_config": {
    "python": {
     "delete_cmd_postfix": "",
     "delete_cmd_prefix": "del ",
     "library": "var_list.py",
     "varRefreshCmd": "print(var_dic_list())"
    },
    "r": {
     "delete_cmd_postfix": ") ",
     "delete_cmd_prefix": "rm(",
     "library": "var_list.r",
     "varRefreshCmd": "cat(var_dic_list()) "
    }
   },
   "types_to_exclude": [
    "module",
    "function",
    "builtin_function_or_method",
    "instance",
    "_Feature"
   ],
   "window_display": false
  }
 },
 "nbformat": 4,
 "nbformat_minor": 2
}
