{
 "cells": [
  {
   "cell_type": "markdown",
   "metadata": {},
   "source": [
    "# Week 5, Day 1: 2018-02-12\n",
    "## Curtis & Emily"
   ]
  },
  {
   "cell_type": "markdown",
   "metadata": {},
   "source": [
    "### Problem Description\n",
    "\n",
    "Write a function that takes three arguments:\n",
    "\n",
    " * A list of lists, `X_train`, where each inner list is of length three and represents the position of a Wookiee in space, along the traditional `x`, `y`, and `z` axes.\n",
    " * A list of strings, `y`, the same length as the outer list `X_train`, where each string represents the color of a [Wookiee](https://en.wikipedia.org/wiki/Wookiee) at the corresponding position.\n",
    " * A list of lists, `X_test`, where each inner list is of length three and represents the position in space of a Wookiee of unknown color.\n",
    "\n",
    "The function should produce a list of strings, the same length as the outer list, representing for each unknown Wookiee the color of the closest known Wookiee.\n",
    "\n",
    "For example:\n",
    "\n",
    "```python\n",
    "X_train = [[1,   1,  1],\n",
    "           [0,   0,  0],\n",
    "           [-1, -1, -1],\n",
    "           [10, 10, 10]]\n",
    "\n",
    "y_train = ['red',\n",
    "           'white',\n",
    "           'blue',\n",
    "           'chartreuse']\n",
    "\n",
    "X_test = [[1.1, 1.1, 1.1]]\n",
    "\n",
    "for result in your_function(X_train, y_train, X_test):\n",
    "    print result\n",
    "## red\n",
    "```\n",
    "\n",
    "\n",
    "#### Possible extensions:\n",
    "\n",
    " * Does your solution work for any number of features in the training data sets?\n",
    " * Does your solution handle ties?\n",
    " * Can you add another parameter, `k`, to your solution so that it uses the `k` nearest Wookiees instead of only the nearest Wookiee?\n",
    " * Can you add to your solution so that it has reasonable behavior if `y_train` is numeric?\n",
    "\n",
    "An extension of another kind:\n",
    "\n",
    " * Are you confident that your solution is correct? How can you ensure that it is, and check that it stays correct in the future?"
   ]
  },
  {
   "cell_type": "code",
   "execution_count": null,
   "metadata": {
    "collapsed": true
   },
   "outputs": [],
   "source": []
  }
 ],
 "metadata": {
  "kernelspec": {
   "display_name": "Python 3",
   "language": "python",
   "name": "python3"
  },
  "language_info": {
   "codemirror_mode": {
    "name": "ipython",
    "version": 3
   },
   "file_extension": ".py",
   "mimetype": "text/x-python",
   "name": "python",
   "nbconvert_exporter": "python",
   "pygments_lexer": "ipython3",
   "version": "3.6.4"
  },
  "varInspector": {
   "cols": {
    "lenName": 16,
    "lenType": 16,
    "lenVar": 40
   },
   "kernels_config": {
    "python": {
     "delete_cmd_postfix": "",
     "delete_cmd_prefix": "del ",
     "library": "var_list.py",
     "varRefreshCmd": "print(var_dic_list())"
    },
    "r": {
     "delete_cmd_postfix": ") ",
     "delete_cmd_prefix": "rm(",
     "library": "var_list.r",
     "varRefreshCmd": "cat(var_dic_list()) "
    }
   },
   "types_to_exclude": [
    "module",
    "function",
    "builtin_function_or_method",
    "instance",
    "_Feature"
   ],
   "window_display": false
  }
 },
 "nbformat": 4,
 "nbformat_minor": 2
}
