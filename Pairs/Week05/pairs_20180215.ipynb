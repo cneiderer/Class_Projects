{
 "cells": [
  {
   "cell_type": "markdown",
   "metadata": {},
   "source": [
    "# Week 5, Day 4: 2018-02-15\n",
    "## Curtis & Brian"
   ]
  },
  {
   "cell_type": "markdown",
   "metadata": {},
   "source": [
    "### Problem Description\n",
    "\n",
    "Naive Bayes, as promised!\n",
    "\n",
    "Here is a [dataset of movie reviews](http://www.cs.cornell.edu/people/pabo/movie-review-data/review_polarity.tar.gz), 1000 positive and 1000 negative.\n",
    "\n",
    "1) Write your own Naive Bayes solver (and/or)\n",
    "\n",
    "2) Use sklearn's Naive Bayes\n",
    "\n",
    "I'd prefer you starting with #1, but I've given you a choice.\n",
    "\n",
    "TIPS:\n",
    "\n",
    "For the dataset:\n",
    "\n",
    "    1) Save the review_polarity.tar.gz file onto your computer\n",
    "    2) On command line 'gunzip review_polarity.tar.gz'\n",
    "    3) Then do 'tar -xvf review_polarity.tar'\n",
    "    4) You will have a folder called txt_sentoken and within that, there will be pos and neg folders\n",
    "    5) To read multiple files in python, use this resource:\n",
    "        http://stackoverflow.com/questions/18262293/python-open-every-file-in-a-folder\n",
    "    \n",
    "For your own Naive Bayes:\n",
    "\n",
    "    1) Split data into train and test\n",
    "    2) Count how often a word appears in the positive training set and negative training set\n",
    "    3) Change that into log probabilities\n",
    "    4) For each review in the test set, simply sum up it's words' log probability for being positive and negative\n",
    "    5) Compare the two sums and assign the class that scores higher"
   ]
  },
  {
   "cell_type": "code",
   "execution_count": null,
   "metadata": {
    "collapsed": true
   },
   "outputs": [],
   "source": []
  }
 ],
 "metadata": {
  "kernelspec": {
   "display_name": "Python 3",
   "language": "python",
   "name": "python3"
  },
  "language_info": {
   "codemirror_mode": {
    "name": "ipython",
    "version": 3
   },
   "file_extension": ".py",
   "mimetype": "text/x-python",
   "name": "python",
   "nbconvert_exporter": "python",
   "pygments_lexer": "ipython3",
   "version": "3.6.4"
  },
  "varInspector": {
   "cols": {
    "lenName": 16,
    "lenType": 16,
    "lenVar": 40
   },
   "kernels_config": {
    "python": {
     "delete_cmd_postfix": "",
     "delete_cmd_prefix": "del ",
     "library": "var_list.py",
     "varRefreshCmd": "print(var_dic_list())"
    },
    "r": {
     "delete_cmd_postfix": ") ",
     "delete_cmd_prefix": "rm(",
     "library": "var_list.r",
     "varRefreshCmd": "cat(var_dic_list()) "
    }
   },
   "types_to_exclude": [
    "module",
    "function",
    "builtin_function_or_method",
    "instance",
    "_Feature"
   ],
   "window_display": false
  }
 },
 "nbformat": 4,
 "nbformat_minor": 2
}
