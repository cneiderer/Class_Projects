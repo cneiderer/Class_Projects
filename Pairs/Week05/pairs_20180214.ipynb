{
 "cells": [
  {
   "cell_type": "markdown",
   "metadata": {},
   "source": [
    "# Week 5, Day 3: 2018-02-14\n",
    "## Curtis & Natalia B."
   ]
  },
  {
   "cell_type": "markdown",
   "metadata": {},
   "source": [
    "### Problem Description\n",
    "This function is boring:\n",
    "\n",
    "```python\n",
    "def square(x):\n",
    "    return x * x\n",
    "\n",
    "square(5)\n",
    "## 25\n",
    "```\n",
    "\n",
    "Write a _decorator_ called `talky` so that when you run this:\n",
    "\n",
    "```python\n",
    "@talky\n",
    "def square(x):\n",
    "    return x * x\n",
    "\n",
    "answer = square(5)\n",
    "```\n",
    "\n",
    "You get the following output:\n",
    "\n",
    "```\n",
    "Oh hi!\n",
    "The result sure is 25!\n",
    "```"
   ]
  },
  {
   "cell_type": "code",
   "execution_count": 1,
   "metadata": {
    "collapsed": true
   },
   "outputs": [],
   "source": [
    "def talky(func):\n",
    "    \n",
    "    def wrapper(x):\n",
    "\n",
    "        print(\"Oh hi! I'm Aaron\")\n",
    "        print(\"The result sure is %d\" % func(x))\n",
    "\n",
    "    return wrapper"
   ]
  },
  {
   "cell_type": "code",
   "execution_count": 2,
   "metadata": {},
   "outputs": [
    {
     "name": "stdout",
     "output_type": "stream",
     "text": [
      "Oh hi! I'm Aaron\n",
      "The result sure is 25\n"
     ]
    }
   ],
   "source": [
    "@talky\n",
    "def square(x):\n",
    "    return x * x\n",
    "\n",
    "square(5)"
   ]
  },
  {
   "cell_type": "markdown",
   "metadata": {},
   "source": [
    "Extension: Write a decorator `talky_with`, so that when you run this:\n",
    "\n",
    "```python\n",
    "@talky_with(\"Aaron\")\n",
    "def square(x):\n",
    "    return x * x\n",
    "\n",
    "answer = square(5)\n",
    "```\n",
    "\n",
    "You get the following output:\n",
    "\n",
    "```\n",
    "Oh hi! I'm Aaron.\n",
    "The result sure is 25!\n",
    "```"
   ]
  },
  {
   "cell_type": "code",
   "execution_count": 3,
   "metadata": {
    "collapsed": true
   },
   "outputs": [],
   "source": [
    "def talky_with(expr):\n",
    "    \n",
    "    def decorator(func):\n",
    "        \n",
    "        print(\"Oh hi! I'm %s\" % expr)\n",
    "        \n",
    "        def wrapper(x):        \n",
    "            \n",
    "            print(\"The result sure is %d\" % func(x))\n",
    "\n",
    "        return wrapper\n",
    "    \n",
    "    return decorator"
   ]
  },
  {
   "cell_type": "code",
   "execution_count": 4,
   "metadata": {},
   "outputs": [
    {
     "name": "stdout",
     "output_type": "stream",
     "text": [
      "Oh hi! I'm Aaron\n",
      "The result sure is 25\n"
     ]
    }
   ],
   "source": [
    "@talky_with(\"Aaron\")\n",
    "def square2(x):\n",
    "    return x * x\n",
    "\n",
    "square2(5)"
   ]
  },
  {
   "cell_type": "code",
   "execution_count": null,
   "metadata": {
    "collapsed": true
   },
   "outputs": [],
   "source": []
  }
 ],
 "metadata": {
  "kernelspec": {
   "display_name": "Python 3",
   "language": "python",
   "name": "python3"
  },
  "language_info": {
   "codemirror_mode": {
    "name": "ipython",
    "version": 3
   },
   "file_extension": ".py",
   "mimetype": "text/x-python",
   "name": "python",
   "nbconvert_exporter": "python",
   "pygments_lexer": "ipython3",
   "version": "3.6.4"
  },
  "varInspector": {
   "cols": {
    "lenName": 16,
    "lenType": 16,
    "lenVar": 40
   },
   "kernels_config": {
    "python": {
     "delete_cmd_postfix": "",
     "delete_cmd_prefix": "del ",
     "library": "var_list.py",
     "varRefreshCmd": "print(var_dic_list())"
    },
    "r": {
     "delete_cmd_postfix": ") ",
     "delete_cmd_prefix": "rm(",
     "library": "var_list.r",
     "varRefreshCmd": "cat(var_dic_list()) "
    }
   },
   "types_to_exclude": [
    "module",
    "function",
    "builtin_function_or_method",
    "instance",
    "_Feature"
   ],
   "window_display": false
  }
 },
 "nbformat": 4,
 "nbformat_minor": 2
}
