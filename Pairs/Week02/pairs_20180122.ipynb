{
 "cells": [
  {
   "cell_type": "markdown",
   "metadata": {},
   "source": [
    "#### Pair Problem\n",
    "\n",
    "Another one from Project Euler: [Problem 3](https://projecteuler.net/problem=3):\n",
    "\n",
    "> The prime factors of 13195 are 5, 7, 13 and 29.\n",
    "\n",
    "> What is the largest prime factor of the number 600851475143 ?\n",
    "\n",
    "**Please do not Google. See how best you can solve this problem on your own.** \n",
    "\n",
    "    *What's your complexity? Can you do better?*\n",
    "        \n",
    "        "
   ]
  },
  {
   "cell_type": "code",
   "execution_count": 1,
   "metadata": {
    "collapsed": true
   },
   "outputs": [],
   "source": [
    "import numpy as np\n",
    "import math"
   ]
  },
  {
   "cell_type": "code",
   "execution_count": 2,
   "metadata": {
    "collapsed": true
   },
   "outputs": [],
   "source": [
    "# Test cases\n",
    "numbers = [0, 1, 2, 3, 8, 9, 15, 13195, 600851475143]"
   ]
  },
  {
   "cell_type": "markdown",
   "metadata": {},
   "source": [
    "### Algorithm 1"
   ]
  },
  {
   "cell_type": "code",
   "execution_count": 3,
   "metadata": {
    "collapsed": true
   },
   "outputs": [],
   "source": [
    "# O(n)\n",
    "def prime_factors(num):\n",
    "    if num <= 1:\n",
    "        return num, None\n",
    "    primes = []     \n",
    "    cnt = 0\n",
    "    while num > 1:        \n",
    "        for i in range(2, num+1):\n",
    "            cnt += 1\n",
    "            if num % i == 0:\n",
    "                primes.append(i)\n",
    "                num = num // i # force integer division\n",
    "                break\n",
    "    return cnt, primes, np.prod(primes)"
   ]
  },
  {
   "cell_type": "code",
   "execution_count": 4,
   "metadata": {},
   "outputs": [
    {
     "name": "stdout",
     "output_type": "stream",
     "text": [
      "(0, None)\n",
      "(1, None)\n",
      "(1, [2], 2)\n",
      "(2, [3], 3)\n",
      "(3, [2, 2, 2], 8)\n",
      "(4, [3, 3], 9)\n",
      "(6, [3, 5], 15)\n",
      "(50, [5, 7, 13, 29], 13195)\n",
      "(9234, [71, 839, 1471, 6857], 600851475143)\n"
     ]
    }
   ],
   "source": [
    "# Test\n",
    "for num in numbers:\n",
    "    print(prime_factors(num))"
   ]
  },
  {
   "cell_type": "markdown",
   "metadata": {},
   "source": [
    "### Algorithm 2"
   ]
  },
  {
   "cell_type": "code",
   "execution_count": 11,
   "metadata": {
    "collapsed": true
   },
   "outputs": [],
   "source": [
    "# O(log(n))\n",
    "def prime_factors2(num):\n",
    "    if num <= 1:\n",
    "        return num, None\n",
    "    \n",
    "    primes = []\n",
    "    cnt = 0\n",
    "    # Find all factors of 2\n",
    "    while num % 2 == 0:\n",
    "        cnt += 1\n",
    "        primes.append(2)\n",
    "        num = num // 2 # force integer division\n",
    "    # num must now be odd, so only odd factors greater than 2 remain\n",
    "    for i in range(3, num+1, 2):\n",
    "        while num % i == 0:            \n",
    "            cnt += 1\n",
    "            primes.append(i)\n",
    "            num = num // i # force integer division\n",
    "    if num > 2:\n",
    "        primes.append(num)\n",
    "    return cnt, primes, np.prod(primes)"
   ]
  },
  {
   "cell_type": "code",
   "execution_count": null,
   "metadata": {},
   "outputs": [],
   "source": [
    "prime_factors2(numbers[-1])"
   ]
  },
  {
   "cell_type": "code",
   "execution_count": 6,
   "metadata": {
    "scrolled": false
   },
   "outputs": [
    {
     "name": "stdout",
     "output_type": "stream",
     "text": [
      "(0, None)\n",
      "(1, None)\n",
      "(1, [2], 2)\n",
      "(1, [3], 3)\n",
      "(3, [2, 2, 2], 8)\n",
      "(2, [3, 3], 9)\n",
      "(2, [3, 5], 15)\n",
      "(4, [5, 7, 13, 29], 13195)\n"
     ]
    },
    {
     "ename": "KeyboardInterrupt",
     "evalue": "",
     "output_type": "error",
     "traceback": [
      "\u001b[0;31m---------------------------------------------------------------------------\u001b[0m",
      "\u001b[0;31mKeyboardInterrupt\u001b[0m                         Traceback (most recent call last)",
      "\u001b[0;32m<ipython-input-6-e1ae8f60d5dc>\u001b[0m in \u001b[0;36m<module>\u001b[0;34m()\u001b[0m\n\u001b[1;32m      1\u001b[0m \u001b[0;31m# Test\u001b[0m\u001b[0;34m\u001b[0m\u001b[0;34m\u001b[0m\u001b[0m\n\u001b[1;32m      2\u001b[0m \u001b[0;32mfor\u001b[0m \u001b[0mnum\u001b[0m \u001b[0;32min\u001b[0m \u001b[0mnumbers\u001b[0m\u001b[0;34m:\u001b[0m\u001b[0;34m\u001b[0m\u001b[0m\n\u001b[0;32m----> 3\u001b[0;31m     \u001b[0mprint\u001b[0m\u001b[0;34m(\u001b[0m\u001b[0mprime_factors2\u001b[0m\u001b[0;34m(\u001b[0m\u001b[0mnum\u001b[0m\u001b[0;34m)\u001b[0m\u001b[0;34m)\u001b[0m\u001b[0;34m\u001b[0m\u001b[0m\n\u001b[0m",
      "\u001b[0;32m<ipython-input-5-b3d8a15d3f00>\u001b[0m in \u001b[0;36mprime_factors2\u001b[0;34m(num)\u001b[0m\n\u001b[1;32m     12\u001b[0m         \u001b[0mnum\u001b[0m \u001b[0;34m=\u001b[0m \u001b[0mnum\u001b[0m \u001b[0;34m//\u001b[0m \u001b[0;36m2\u001b[0m \u001b[0;31m# force integer division\u001b[0m\u001b[0;34m\u001b[0m\u001b[0m\n\u001b[1;32m     13\u001b[0m     \u001b[0;31m# num must now be odd, so only odd factors greater than 2 remain\u001b[0m\u001b[0;34m\u001b[0m\u001b[0;34m\u001b[0m\u001b[0m\n\u001b[0;32m---> 14\u001b[0;31m     \u001b[0;32mfor\u001b[0m \u001b[0mi\u001b[0m \u001b[0;32min\u001b[0m \u001b[0mrange\u001b[0m\u001b[0;34m(\u001b[0m\u001b[0;36m3\u001b[0m\u001b[0;34m,\u001b[0m \u001b[0mnum\u001b[0m\u001b[0;34m+\u001b[0m\u001b[0;36m1\u001b[0m\u001b[0;34m,\u001b[0m \u001b[0;36m2\u001b[0m\u001b[0;34m)\u001b[0m\u001b[0;34m:\u001b[0m\u001b[0;34m\u001b[0m\u001b[0m\n\u001b[0m\u001b[1;32m     15\u001b[0m         \u001b[0;32mwhile\u001b[0m \u001b[0mnum\u001b[0m \u001b[0;34m%\u001b[0m \u001b[0mi\u001b[0m \u001b[0;34m==\u001b[0m \u001b[0;36m0\u001b[0m\u001b[0;34m:\u001b[0m\u001b[0;34m\u001b[0m\u001b[0m\n\u001b[1;32m     16\u001b[0m             \u001b[0mcnt\u001b[0m \u001b[0;34m+=\u001b[0m \u001b[0;36m1\u001b[0m\u001b[0;34m\u001b[0m\u001b[0m\n",
      "\u001b[0;31mKeyboardInterrupt\u001b[0m: "
     ]
    }
   ],
   "source": [
    "# Test\n",
    "for num in numbers:\n",
    "    print(prime_factors2(num))"
   ]
  },
  {
   "cell_type": "markdown",
   "metadata": {},
   "source": [
    "### Algorithm 3"
   ]
  },
  {
   "cell_type": "code",
   "execution_count": 36,
   "metadata": {},
   "outputs": [],
   "source": [
    "# O(sqrt(n))\n",
    "def prime_factors3(num):\n",
    "    if num <= 1\n",
    "        return num, None\n",
    "    \n",
    "    primes = []       \n",
    "    d = 2\n",
    "    cnt = 0\n",
    "    while d * d <= num:\n",
    "        cnt += 1\n",
    "        while num % d == 0:\n",
    "            cnt += 1\n",
    "            primes.append(d)\n",
    "            num //= d\n",
    "        d += 1\n",
    "        \n",
    "    if num > 1:\n",
    "        primes.append(num)\n",
    "        \n",
    "    return cnt, primes, np.prod(primes)"
   ]
  },
  {
   "cell_type": "code",
   "execution_count": 37,
   "metadata": {},
   "outputs": [
    {
     "name": "stdout",
     "output_type": "stream",
     "text": [
      "None\n",
      "(0, [], 1.0)\n",
      "(0, [2], 2)\n",
      "(0, [3], 3)\n",
      "(4, [2, 2, 2], 8)\n",
      "(4, [3, 3], 9)\n",
      "(3, [3, 5], 15)\n",
      "(15, [5, 7, 13, 29], 13195)\n"
     ]
    }
   ],
   "source": [
    "# Test\n",
    "for num in numbers:\n",
    "    print(prime_factors3(num))"
   ]
  },
  {
   "cell_type": "code",
   "execution_count": 14,
   "metadata": {},
   "outputs": [
    {
     "data": {
      "text/plain": [
       "1.0"
      ]
     },
     "execution_count": 14,
     "metadata": {},
     "output_type": "execute_result"
    }
   ],
   "source": [
    "np.prod([])"
   ]
  },
  {
   "cell_type": "code",
   "execution_count": null,
   "metadata": {
    "collapsed": true
   },
   "outputs": [],
   "source": []
  }
 ],
 "metadata": {
  "kernelspec": {
   "display_name": "Python 3",
   "language": "python",
   "name": "python3"
  },
  "language_info": {
   "codemirror_mode": {
    "name": "ipython",
    "version": 3
   },
   "file_extension": ".py",
   "mimetype": "text/x-python",
   "name": "python",
   "nbconvert_exporter": "python",
   "pygments_lexer": "ipython3",
   "version": "3.6.3"
  }
 },
 "nbformat": 4,
 "nbformat_minor": 2
}
